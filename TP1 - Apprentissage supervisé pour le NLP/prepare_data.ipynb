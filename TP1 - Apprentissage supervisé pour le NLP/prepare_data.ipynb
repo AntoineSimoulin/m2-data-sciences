{
 "cells": [
  {
   "cell_type": "code",
   "execution_count": 19,
   "metadata": {},
   "outputs": [],
   "source": [
    "import os, sys\n",
    "\n",
    "local_dir = !pwd\n",
    "local_dir = local_dir[0]\n",
    "\n",
    "sys.path.append(os.path.join(local_dir, 'Flaubert'))"
   ]
  },
  {
   "cell_type": "code",
   "execution_count": 20,
   "metadata": {},
   "outputs": [
    {
     "data": {
      "text/plain": [
       "'/Users/antoine/Documents/Formation/m2-data-sciences/TP1 - Text Classification'"
      ]
     },
     "execution_count": 20,
     "metadata": {},
     "output_type": "execute_result"
    }
   ],
   "source": [
    "local_dir"
   ]
  },
  {
   "cell_type": "code",
   "execution_count": 21,
   "metadata": {},
   "outputs": [],
   "source": [
    "import os\n",
    "import numpy as np\n",
    "import math\n",
    "import random\n",
    "import re\n",
    "import csv\n",
    "import argparse\n",
    "import sys\n",
    "sys.path.append(os.getcwd())\n",
    "\n",
    "from tools.clean_text import cleaner\n",
    "from xlm.utils import bool_flag"
   ]
  },
  {
   "cell_type": "code",
   "execution_count": 22,
   "metadata": {},
   "outputs": [],
   "source": [
    "def review_extractor(line, category='dvd', do_lower=False):\n",
    "    \"\"\"\n",
    "    Extract review and label\n",
    "    \"\"\"\n",
    "    m = re.search('(?<=<rating>)\\d+.\\d+(?=<\\/rating>)', line)\n",
    "    label = 1 if int(float(m.group(0))) > 3 else 0 # rating == 3 are already removed\n",
    "\n",
    "    if category == 'dvd':\n",
    "        m = re.search('(?<=\\/url><text>)(.|\\n|\\t|\\f)+(?=\\<\\/title><summary>)', line)\n",
    "    else:\n",
    "        m = re.search('(?<=\\/url><text>)(.|\\n|\\t|\\f)+(?=\\<\\/text><title>)', line)\n",
    "\n",
    "    review_text = m.group(0)\n",
    "\n",
    "    if do_lower:\n",
    "        review_text = review_text.lower()\n",
    "\n",
    "    return review_text, label\n",
    "\n",
    "\n",
    "def get_review_labels(line, category='dvd', do_lower=False):\n",
    "    \"\"\"\n",
    "    Input: line\n",
    "    Returns cleaned review and label\n",
    "    \"\"\"\n",
    "    review_text, label = review_extractor(line, category=category, do_lower=do_lower)\n",
    "    review_text = cleaner(review_text, rm_new_lines=True)\n",
    "\n",
    "    return review_text, label"
   ]
  },
  {
   "cell_type": "code",
   "execution_count": 29,
   "metadata": {},
   "outputs": [],
   "source": [
    "indir = os.path.join(local_dir, 'cls-acl10-unprocessed')\n",
    "outdir = os.path.join(local_dir, 'cls-acl10-unprocessed', 'preprocess')\n",
    "\n",
    "categories = ['books', 'dvd', 'music']\n",
    "lang = 'fr'\n",
    "val_ratio = 0.2  # Ratio to split data for validation\n",
    "do_lower = False\n",
    "\n",
    "train_fname = 'train_0.tsv' \n",
    "val_fname = 'valid_0.tsv' \n",
    "test_fname = 'test_0.tsv'  "
   ]
  },
  {
   "cell_type": "code",
   "execution_count": 33,
   "metadata": {},
   "outputs": [
    {
     "name": "stdout",
     "output_type": "stream",
     "text": [
      "--------------------\n",
      "Positive/Negative in original train set of books: 1000/1000\n",
      "Finished writing train.review to /Users/antoine/Documents/Formation/m2-data-sciences/TP1 - Text Classification/cls-acl10-unprocessed/preprocess/books. Pos/Neg: 800/800\n",
      "Finished writing valid.review to /Users/antoine/Documents/Formation/m2-data-sciences/TP1 - Text Classification/cls-acl10-unprocessed/preprocess/books. Pos/Neg: 200/200\n",
      "Finished writing test.review to /Users/antoine/Documents/Formation/m2-data-sciences/TP1 - Text Classification/cls-acl10-unprocessed/preprocess/books. Pos/Neg: 1000/1000\n",
      "--------------------\n",
      "Positive/Negative in original train set of dvd: 999/1000\n",
      "Finished writing train.review to /Users/antoine/Documents/Formation/m2-data-sciences/TP1 - Text Classification/cls-acl10-unprocessed/preprocess/dvd. Pos/Neg: 800/800\n",
      "Finished writing valid.review to /Users/antoine/Documents/Formation/m2-data-sciences/TP1 - Text Classification/cls-acl10-unprocessed/preprocess/dvd. Pos/Neg: 199/200\n",
      "Finished writing test.review to /Users/antoine/Documents/Formation/m2-data-sciences/TP1 - Text Classification/cls-acl10-unprocessed/preprocess/dvd. Pos/Neg: 999/1000\n",
      "--------------------\n",
      "Positive/Negative in original train set of music: 998/1000\n",
      "Finished writing train.review to /Users/antoine/Documents/Formation/m2-data-sciences/TP1 - Text Classification/cls-acl10-unprocessed/preprocess/music. Pos/Neg: 799/800\n",
      "Finished writing valid.review to /Users/antoine/Documents/Formation/m2-data-sciences/TP1 - Text Classification/cls-acl10-unprocessed/preprocess/music. Pos/Neg: 199/200\n",
      "Finished writing test.review to /Users/antoine/Documents/Formation/m2-data-sciences/TP1 - Text Classification/cls-acl10-unprocessed/preprocess/music. Pos/Neg: 1000/1000\n"
     ]
    }
   ],
   "source": [
    "for category in categories:\n",
    "        print('-'*20)\n",
    "        path = os.path.join(indir, lang, category)\n",
    "        splts = ['train', 'test']\n",
    "\n",
    "        for s in splts:\n",
    "            review_texts = []\n",
    "            labels = []\n",
    "            stats = []\n",
    "\n",
    "            with open(os.path.join(path, s+'.review'), 'rt', encoding='utf-8') as f_in:\n",
    "                next(f_in)\n",
    "                i = 0\n",
    "                text = f_in.read()\n",
    "                for line in text.split('\\n\\n'):\n",
    "                    if len(line) > 9:\n",
    "                        i += 1\n",
    "                        review_text, label = get_review_labels(line, category=category, do_lower=do_lower)\n",
    "                        review_texts.append(review_text)\n",
    "                        labels.append(label)\n",
    "                        stats.append(len(review_text.split()))\n",
    "                    else:\n",
    "                        break\n",
    "            \n",
    "            assert len(review_texts) == len(labels) == i\n",
    "\n",
    "            out_path = os.path.join(outdir, category)\n",
    "            if not os.path.exists(out_path):\n",
    "                os.makedirs(out_path)\n",
    "\n",
    "            if s == 'test':\n",
    "                with open(os.path.join(out_path, test_fname), 'w') as f_out:\n",
    "                    tsv_output = csv.writer(f_out, delimiter='\\t')\n",
    "                    for idx, line in enumerate(review_texts):\n",
    "                        tsv_output.writerow([line, labels[idx]])\n",
    "\n",
    "                    print('Finished writing {}.review to {}. Pos/Neg: {}/{}'.format(s, out_path, sum(labels), len(labels)-sum(labels)))\n",
    "            else:\n",
    "                # Split train set into train and valid sets\n",
    "                pos_ids = [i for i, l in enumerate(labels) if l == 1]\n",
    "                neg_ids = [i for i, l in enumerate(labels) if l == 0]\n",
    "\n",
    "                num_pos_train = math.ceil(len(pos_ids) * (1 - val_ratio))\n",
    "                num_neg_train = math.ceil(len(neg_ids) * (1 - val_ratio))\n",
    "\n",
    "                random.shuffle(pos_ids)\n",
    "                random.shuffle(neg_ids)\n",
    "\n",
    "                print('Positive/Negative in original train set of {}: {}/{}'.format(category, len(pos_ids), len(neg_ids)))\n",
    "\n",
    "                train_ids = pos_ids[:num_pos_train] + neg_ids[:num_neg_train]\n",
    "                val_ids = pos_ids[num_pos_train:] + neg_ids[num_neg_train:]\n",
    "\n",
    "                random.shuffle(train_ids)\n",
    "                random.shuffle(val_ids)\n",
    "                \n",
    "                with open(os.path.join(out_path, train_fname), 'w') as f_out:\n",
    "                    tsv_output = csv.writer(f_out, delimiter='\\t')\n",
    "                    for idx in train_ids:\n",
    "                        tsv_output.writerow([review_texts[idx], labels[idx]])\n",
    "\n",
    "                with open(os.path.join(out_path, val_fname), 'w') as f_out:\n",
    "                    tsv_output = csv.writer(f_out, delimiter='\\t')\n",
    "                    for idx in val_ids:\n",
    "                        tsv_output.writerow([review_texts[idx], labels[idx]])\n",
    "\n",
    "                train_labels = [l for idx, l in enumerate(labels) if idx in train_ids]  \n",
    "                print('Finished writing {}.review to {}. Pos/Neg: {}/{}'.format('train', out_path, \n",
    "                                                                                sum(train_labels), len(train_labels)-sum(train_labels)))\n",
    "                val_labels = [l for idx, l in enumerate(labels) if idx in val_ids] \n",
    "                print('Finished writing {}.review to {}. Pos/Neg: {}/{}'.format('valid', out_path, \n",
    "                                                                                sum(val_labels), len(val_labels)-sum(val_labels)))"
   ]
  },
  {
   "cell_type": "code",
   "execution_count": null,
   "metadata": {},
   "outputs": [],
   "source": []
  }
 ],
 "metadata": {
  "kernelspec": {
   "display_name": "Python 3",
   "language": "python",
   "name": "python3"
  },
  "language_info": {
   "codemirror_mode": {
    "name": "ipython",
    "version": 3
   },
   "file_extension": ".py",
   "mimetype": "text/x-python",
   "name": "python",
   "nbconvert_exporter": "python",
   "pygments_lexer": "ipython3",
   "version": "3.6.12"
  }
 },
 "nbformat": 4,
 "nbformat_minor": 4
}
