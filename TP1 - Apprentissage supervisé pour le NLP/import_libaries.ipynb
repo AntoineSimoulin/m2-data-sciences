{
 "cells": [
  {
   "cell_type": "code",
   "execution_count": 2,
   "metadata": {},
   "outputs": [],
   "source": [
    "# TP1\n",
    "import os"
   ]
  },
  {
   "cell_type": "code",
   "execution_count": null,
   "metadata": {},
   "outputs": [
    {
     "name": "stdout",
     "output_type": "stream",
     "text": [
      "Requirement already satisfied: scikit-learn==0.23.2 in /Users/antoine/opt/anaconda3/envs/nlp-101/lib/python3.6/site-packages (0.23.2)\n",
      "Requirement already satisfied: matplotlib==3.3.2 in /Users/antoine/opt/anaconda3/envs/nlp-101/lib/python3.6/site-packages (3.3.2)\n",
      "Requirement already satisfied: pandas==1.1.3 in /Users/antoine/opt/anaconda3/envs/nlp-101/lib/python3.6/site-packages (1.1.3)\n",
      "Requirement already satisfied: lime==0.2.0 in /Users/antoine/opt/anaconda3/envs/nlp-101/lib/python3.6/site-packages (0.2.0.0)\n",
      "Requirement already satisfied: umap-learn==0.4.6 in /Users/antoine/opt/anaconda3/envs/nlp-101/lib/python3.6/site-packages (0.4.6)\n",
      "Requirement already satisfied: nltk==3.5 in /Users/antoine/opt/anaconda3/envs/nlp-101/lib/python3.6/site-packages (3.5)\n",
      "Requirement already satisfied: spacy==2.3.2 in /Users/antoine/opt/anaconda3/envs/nlp-101/lib/python3.6/site-packages (2.3.2)\n",
      "Requirement already satisfied: numpy>=1.13.3 in /Users/antoine/opt/anaconda3/envs/nlp-101/lib/python3.6/site-packages (from scikit-learn==0.23.2) (1.19.2)\n",
      "Requirement already satisfied: scipy>=0.19.1 in /Users/antoine/opt/anaconda3/envs/nlp-101/lib/python3.6/site-packages (from scikit-learn==0.23.2) (1.5.2)\n",
      "Requirement already satisfied: threadpoolctl>=2.0.0 in /Users/antoine/opt/anaconda3/envs/nlp-101/lib/python3.6/site-packages (from scikit-learn==0.23.2) (2.1.0)\n",
      "Requirement already satisfied: joblib>=0.11 in /Users/antoine/opt/anaconda3/envs/nlp-101/lib/python3.6/site-packages (from scikit-learn==0.23.2) (0.17.0)\n",
      "Requirement already satisfied: pillow>=6.2.0 in /Users/antoine/opt/anaconda3/envs/nlp-101/lib/python3.6/site-packages (from matplotlib==3.3.2) (7.2.0)\n",
      "Requirement already satisfied: kiwisolver>=1.0.1 in /Users/antoine/opt/anaconda3/envs/nlp-101/lib/python3.6/site-packages (from matplotlib==3.3.2) (1.2.0)\n",
      "Requirement already satisfied: python-dateutil>=2.1 in /Users/antoine/opt/anaconda3/envs/nlp-101/lib/python3.6/site-packages (from matplotlib==3.3.2) (2.8.1)\n",
      "Requirement already satisfied: certifi>=2020.06.20 in /Users/antoine/opt/anaconda3/envs/nlp-101/lib/python3.6/site-packages (from matplotlib==3.3.2) (2020.6.20)\n",
      "Requirement already satisfied: cycler>=0.10 in /Users/antoine/opt/anaconda3/envs/nlp-101/lib/python3.6/site-packages (from matplotlib==3.3.2) (0.10.0)\n",
      "Requirement already satisfied: pyparsing!=2.0.4,!=2.1.2,!=2.1.6,>=2.0.3 in /Users/antoine/opt/anaconda3/envs/nlp-101/lib/python3.6/site-packages (from matplotlib==3.3.2) (2.4.7)\n",
      "Requirement already satisfied: pytz>=2017.2 in /Users/antoine/opt/anaconda3/envs/nlp-101/lib/python3.6/site-packages (from pandas==1.1.3) (2020.1)\n",
      "Requirement already satisfied: tqdm in /Users/antoine/opt/anaconda3/envs/nlp-101/lib/python3.6/site-packages (from lime==0.2.0) (4.50.2)\n",
      "Requirement already satisfied: scikit-image>=0.12 in /Users/antoine/opt/anaconda3/envs/nlp-101/lib/python3.6/site-packages (from lime==0.2.0) (0.17.2)\n",
      "Requirement already satisfied: numba!=0.47,>=0.46 in /Users/antoine/opt/anaconda3/envs/nlp-101/lib/python3.6/site-packages (from umap-learn==0.4.6) (0.51.2)\n",
      "Requirement already satisfied: click in /Users/antoine/opt/anaconda3/envs/nlp-101/lib/python3.6/site-packages (from nltk==3.5) (7.1.2)\n",
      "Requirement already satisfied: regex in /Users/antoine/opt/anaconda3/envs/nlp-101/lib/python3.6/site-packages (from nltk==3.5) (2020.9.27)\n",
      "Requirement already satisfied: blis<0.5.0,>=0.4.0 in /Users/antoine/opt/anaconda3/envs/nlp-101/lib/python3.6/site-packages (from spacy==2.3.2) (0.4.1)\n",
      "Requirement already satisfied: thinc==7.4.1 in /Users/antoine/opt/anaconda3/envs/nlp-101/lib/python3.6/site-packages (from spacy==2.3.2) (7.4.1)\n",
      "Requirement already satisfied: srsly<1.1.0,>=1.0.2 in /Users/antoine/opt/anaconda3/envs/nlp-101/lib/python3.6/site-packages (from spacy==2.3.2) (1.0.2)\n",
      "Requirement already satisfied: murmurhash<1.1.0,>=0.28.0 in /Users/antoine/opt/anaconda3/envs/nlp-101/lib/python3.6/site-packages (from spacy==2.3.2) (1.0.2)\n",
      "Requirement already satisfied: cymem<2.1.0,>=2.0.2 in /Users/antoine/opt/anaconda3/envs/nlp-101/lib/python3.6/site-packages (from spacy==2.3.2) (2.0.3)\n",
      "Requirement already satisfied: requests<3.0.0,>=2.13.0 in /Users/antoine/opt/anaconda3/envs/nlp-101/lib/python3.6/site-packages (from spacy==2.3.2) (2.24.0)\n",
      "Requirement already satisfied: setuptools in /Users/antoine/opt/anaconda3/envs/nlp-101/lib/python3.6/site-packages (from spacy==2.3.2) (50.3.0.post20201006)\n",
      "Requirement already satisfied: plac<1.2.0,>=0.9.6 in /Users/antoine/opt/anaconda3/envs/nlp-101/lib/python3.6/site-packages (from spacy==2.3.2) (1.1.3)\n",
      "Requirement already satisfied: wasabi<1.1.0,>=0.4.0 in /Users/antoine/opt/anaconda3/envs/nlp-101/lib/python3.6/site-packages (from spacy==2.3.2) (0.8.0)\n",
      "Requirement already satisfied: preshed<3.1.0,>=3.0.2 in /Users/antoine/opt/anaconda3/envs/nlp-101/lib/python3.6/site-packages (from spacy==2.3.2) (3.0.2)\n",
      "Requirement already satisfied: catalogue<1.1.0,>=0.0.7 in /Users/antoine/opt/anaconda3/envs/nlp-101/lib/python3.6/site-packages (from spacy==2.3.2) (1.0.0)\n",
      "Requirement already satisfied: six>=1.5 in /Users/antoine/opt/anaconda3/envs/nlp-101/lib/python3.6/site-packages (from python-dateutil>=2.1->matplotlib==3.3.2) (1.15.0)\n",
      "Requirement already satisfied: PyWavelets>=1.1.1 in /Users/antoine/opt/anaconda3/envs/nlp-101/lib/python3.6/site-packages (from scikit-image>=0.12->lime==0.2.0) (1.1.1)\n",
      "Requirement already satisfied: imageio>=2.3.0 in /Users/antoine/opt/anaconda3/envs/nlp-101/lib/python3.6/site-packages (from scikit-image>=0.12->lime==0.2.0) (2.9.0)\n",
      "Requirement already satisfied: networkx>=2.0 in /Users/antoine/opt/anaconda3/envs/nlp-101/lib/python3.6/site-packages (from scikit-image>=0.12->lime==0.2.0) (2.5)\n",
      "Requirement already satisfied: tifffile>=2019.7.26 in /Users/antoine/opt/anaconda3/envs/nlp-101/lib/python3.6/site-packages (from scikit-image>=0.12->lime==0.2.0) (2020.9.3)\n",
      "Requirement already satisfied: llvmlite<0.35,>=0.34.0.dev0 in /Users/antoine/opt/anaconda3/envs/nlp-101/lib/python3.6/site-packages (from numba!=0.47,>=0.46->umap-learn==0.4.6) (0.34.0)\n",
      "Requirement already satisfied: idna<3,>=2.5 in /Users/antoine/opt/anaconda3/envs/nlp-101/lib/python3.6/site-packages (from requests<3.0.0,>=2.13.0->spacy==2.3.2) (2.10)\n",
      "Requirement already satisfied: chardet<4,>=3.0.2 in /Users/antoine/opt/anaconda3/envs/nlp-101/lib/python3.6/site-packages (from requests<3.0.0,>=2.13.0->spacy==2.3.2) (3.0.4)\n",
      "Requirement already satisfied: urllib3!=1.25.0,!=1.25.1,<1.26,>=1.21.1 in /Users/antoine/opt/anaconda3/envs/nlp-101/lib/python3.6/site-packages (from requests<3.0.0,>=2.13.0->spacy==2.3.2) (1.25.10)\n",
      "Requirement already satisfied: importlib-metadata>=0.20; python_version < \"3.8\" in /Users/antoine/opt/anaconda3/envs/nlp-101/lib/python3.6/site-packages (from catalogue<1.1.0,>=0.0.7->spacy==2.3.2) (2.0.0)\n",
      "Requirement already satisfied: decorator>=4.3.0 in /Users/antoine/opt/anaconda3/envs/nlp-101/lib/python3.6/site-packages (from networkx>=2.0->scikit-image>=0.12->lime==0.2.0) (4.4.2)\n",
      "Requirement already satisfied: zipp>=0.5 in /Users/antoine/opt/anaconda3/envs/nlp-101/lib/python3.6/site-packages (from importlib-metadata>=0.20; python_version < \"3.8\"->catalogue<1.1.0,>=0.0.7->spacy==2.3.2) (3.3.0)\n",
      "Requirement already satisfied: fr_core_news_md==2.3.0 from https://github.com/explosion/spacy-models/releases/download/fr_core_news_md-2.3.0/fr_core_news_md-2.3.0.tar.gz#egg=fr_core_news_md==2.3.0 in /Users/antoine/opt/anaconda3/envs/nlp-101/lib/python3.6/site-packages (2.3.0)\n",
      "Requirement already satisfied: spacy<2.4.0,>=2.3.0 in /Users/antoine/opt/anaconda3/envs/nlp-101/lib/python3.6/site-packages (from fr_core_news_md==2.3.0) (2.3.2)\n",
      "Requirement already satisfied: srsly<1.1.0,>=1.0.2 in /Users/antoine/opt/anaconda3/envs/nlp-101/lib/python3.6/site-packages (from spacy<2.4.0,>=2.3.0->fr_core_news_md==2.3.0) (1.0.2)\n",
      "Requirement already satisfied: cymem<2.1.0,>=2.0.2 in /Users/antoine/opt/anaconda3/envs/nlp-101/lib/python3.6/site-packages (from spacy<2.4.0,>=2.3.0->fr_core_news_md==2.3.0) (2.0.3)\n",
      "Requirement already satisfied: setuptools in /Users/antoine/opt/anaconda3/envs/nlp-101/lib/python3.6/site-packages (from spacy<2.4.0,>=2.3.0->fr_core_news_md==2.3.0) (50.3.0.post20201006)\n",
      "Requirement already satisfied: blis<0.5.0,>=0.4.0 in /Users/antoine/opt/anaconda3/envs/nlp-101/lib/python3.6/site-packages (from spacy<2.4.0,>=2.3.0->fr_core_news_md==2.3.0) (0.4.1)\n",
      "Requirement already satisfied: preshed<3.1.0,>=3.0.2 in /Users/antoine/opt/anaconda3/envs/nlp-101/lib/python3.6/site-packages (from spacy<2.4.0,>=2.3.0->fr_core_news_md==2.3.0) (3.0.2)\n",
      "Requirement already satisfied: catalogue<1.1.0,>=0.0.7 in /Users/antoine/opt/anaconda3/envs/nlp-101/lib/python3.6/site-packages (from spacy<2.4.0,>=2.3.0->fr_core_news_md==2.3.0) (1.0.0)\n",
      "Requirement already satisfied: numpy>=1.15.0 in /Users/antoine/opt/anaconda3/envs/nlp-101/lib/python3.6/site-packages (from spacy<2.4.0,>=2.3.0->fr_core_news_md==2.3.0) (1.19.2)\n"
     ]
    },
    {
     "name": "stdout",
     "output_type": "stream",
     "text": [
      "Requirement already satisfied: plac<1.2.0,>=0.9.6 in /Users/antoine/opt/anaconda3/envs/nlp-101/lib/python3.6/site-packages (from spacy<2.4.0,>=2.3.0->fr_core_news_md==2.3.0) (1.1.3)\n",
      "Requirement already satisfied: murmurhash<1.1.0,>=0.28.0 in /Users/antoine/opt/anaconda3/envs/nlp-101/lib/python3.6/site-packages (from spacy<2.4.0,>=2.3.0->fr_core_news_md==2.3.0) (1.0.2)\n",
      "Requirement already satisfied: requests<3.0.0,>=2.13.0 in /Users/antoine/opt/anaconda3/envs/nlp-101/lib/python3.6/site-packages (from spacy<2.4.0,>=2.3.0->fr_core_news_md==2.3.0) (2.24.0)\n",
      "Requirement already satisfied: tqdm<5.0.0,>=4.38.0 in /Users/antoine/opt/anaconda3/envs/nlp-101/lib/python3.6/site-packages (from spacy<2.4.0,>=2.3.0->fr_core_news_md==2.3.0) (4.50.2)\n",
      "Requirement already satisfied: wasabi<1.1.0,>=0.4.0 in /Users/antoine/opt/anaconda3/envs/nlp-101/lib/python3.6/site-packages (from spacy<2.4.0,>=2.3.0->fr_core_news_md==2.3.0) (0.8.0)\n",
      "Requirement already satisfied: thinc==7.4.1 in /Users/antoine/opt/anaconda3/envs/nlp-101/lib/python3.6/site-packages (from spacy<2.4.0,>=2.3.0->fr_core_news_md==2.3.0) (7.4.1)\n",
      "Requirement already satisfied: importlib-metadata>=0.20; python_version < \"3.8\" in /Users/antoine/opt/anaconda3/envs/nlp-101/lib/python3.6/site-packages (from catalogue<1.1.0,>=0.0.7->spacy<2.4.0,>=2.3.0->fr_core_news_md==2.3.0) (2.0.0)\n",
      "Requirement already satisfied: urllib3!=1.25.0,!=1.25.1,<1.26,>=1.21.1 in /Users/antoine/opt/anaconda3/envs/nlp-101/lib/python3.6/site-packages (from requests<3.0.0,>=2.13.0->spacy<2.4.0,>=2.3.0->fr_core_news_md==2.3.0) (1.25.10)\n",
      "Requirement already satisfied: certifi>=2017.4.17 in /Users/antoine/opt/anaconda3/envs/nlp-101/lib/python3.6/site-packages (from requests<3.0.0,>=2.13.0->spacy<2.4.0,>=2.3.0->fr_core_news_md==2.3.0) (2020.6.20)\n",
      "Requirement already satisfied: idna<3,>=2.5 in /Users/antoine/opt/anaconda3/envs/nlp-101/lib/python3.6/site-packages (from requests<3.0.0,>=2.13.0->spacy<2.4.0,>=2.3.0->fr_core_news_md==2.3.0) (2.10)\n",
      "Requirement already satisfied: chardet<4,>=3.0.2 in /Users/antoine/opt/anaconda3/envs/nlp-101/lib/python3.6/site-packages (from requests<3.0.0,>=2.13.0->spacy<2.4.0,>=2.3.0->fr_core_news_md==2.3.0) (3.0.4)\n",
      "Requirement already satisfied: zipp>=0.5 in /Users/antoine/opt/anaconda3/envs/nlp-101/lib/python3.6/site-packages (from importlib-metadata>=0.20; python_version < \"3.8\"->catalogue<1.1.0,>=0.0.7->spacy<2.4.0,>=2.3.0->fr_core_news_md==2.3.0) (3.3.0)\n"
     ]
    }
   ],
   "source": [
    "!pip install scikit-learn==0.23.2 matplotlib==3.3.2 pandas==1.1.3 lime==0.2.0 umap-learn==0.4.6 nltk==3.5 spacy==2.3.2\n",
    "!python3 -m spacy download fr_core_news_md"
   ]
  },
  {
   "cell_type": "code",
   "execution_count": null,
   "metadata": {},
   "outputs": [],
   "source": []
  }
 ],
 "metadata": {
  "kernelspec": {
   "display_name": "Python 3",
   "language": "python",
   "name": "python3"
  },
  "language_info": {
   "codemirror_mode": {
    "name": "ipython",
    "version": 3
   },
   "file_extension": ".py",
   "mimetype": "text/x-python",
   "name": "python",
   "nbconvert_exporter": "python",
   "pygments_lexer": "ipython3",
   "version": "3.6.12"
  },
  "pycharm": {
   "stem_cell": {
    "cell_type": "raw",
    "metadata": {
     "collapsed": false
    },
    "source": []
   }
  }
 },
 "nbformat": 4,
 "nbformat_minor": 1
}
