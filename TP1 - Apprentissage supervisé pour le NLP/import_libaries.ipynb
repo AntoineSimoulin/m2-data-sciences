{
 "cells": [
  {
   "cell_type": "code",
   "execution_count": 2,
   "metadata": {},
   "outputs": [],
   "source": [
    "# TP1\n",
    "import os"
   ]
  },
  {
   "cell_type": "code",
   "execution_count": 3,
   "metadata": {},
   "outputs": [
    {
     "name": "stdout",
     "output_type": "stream",
     "text": [
      "Requirement already satisfied: fr_core_news_md==2.3.0 from https://github.com/explosion/spacy-models/releases/download/fr_core_news_md-2.3.0/fr_core_news_md-2.3.0.tar.gz#egg=fr_core_news_md==2.3.0 in /Users/antoine/opt/anaconda3/envs/nlp-101/lib/python3.6/site-packages (2.3.0)\n",
      "Requirement already satisfied: spacy<2.4.0,>=2.3.0 in /Users/antoine/opt/anaconda3/envs/nlp-101/lib/python3.6/site-packages (from fr_core_news_md==2.3.0) (2.3.2)\n",
      "Requirement already satisfied: wasabi<1.1.0,>=0.4.0 in /Users/antoine/opt/anaconda3/envs/nlp-101/lib/python3.6/site-packages (from spacy<2.4.0,>=2.3.0->fr_core_news_md==2.3.0) (0.8.0)\n",
      "Requirement already satisfied: murmurhash<1.1.0,>=0.28.0 in /Users/antoine/opt/anaconda3/envs/nlp-101/lib/python3.6/site-packages (from spacy<2.4.0,>=2.3.0->fr_core_news_md==2.3.0) (1.0.2)\n",
      "Requirement already satisfied: srsly<1.1.0,>=1.0.2 in /Users/antoine/opt/anaconda3/envs/nlp-101/lib/python3.6/site-packages (from spacy<2.4.0,>=2.3.0->fr_core_news_md==2.3.0) (1.0.2)\n",
      "Requirement already satisfied: catalogue<1.1.0,>=0.0.7 in /Users/antoine/opt/anaconda3/envs/nlp-101/lib/python3.6/site-packages (from spacy<2.4.0,>=2.3.0->fr_core_news_md==2.3.0) (1.0.0)\n",
      "Requirement already satisfied: setuptools in /Users/antoine/opt/anaconda3/envs/nlp-101/lib/python3.6/site-packages (from spacy<2.4.0,>=2.3.0->fr_core_news_md==2.3.0) (50.3.0.post20201006)\n",
      "Requirement already satisfied: tqdm<5.0.0,>=4.38.0 in /Users/antoine/opt/anaconda3/envs/nlp-101/lib/python3.6/site-packages (from spacy<2.4.0,>=2.3.0->fr_core_news_md==2.3.0) (4.50.2)\n",
      "Requirement already satisfied: blis<0.5.0,>=0.4.0 in /Users/antoine/opt/anaconda3/envs/nlp-101/lib/python3.6/site-packages (from spacy<2.4.0,>=2.3.0->fr_core_news_md==2.3.0) (0.4.1)\n",
      "Requirement already satisfied: requests<3.0.0,>=2.13.0 in /Users/antoine/opt/anaconda3/envs/nlp-101/lib/python3.6/site-packages (from spacy<2.4.0,>=2.3.0->fr_core_news_md==2.3.0) (2.24.0)\n",
      "Requirement already satisfied: plac<1.2.0,>=0.9.6 in /Users/antoine/opt/anaconda3/envs/nlp-101/lib/python3.6/site-packages (from spacy<2.4.0,>=2.3.0->fr_core_news_md==2.3.0) (1.1.3)\n",
      "Requirement already satisfied: cymem<2.1.0,>=2.0.2 in /Users/antoine/opt/anaconda3/envs/nlp-101/lib/python3.6/site-packages (from spacy<2.4.0,>=2.3.0->fr_core_news_md==2.3.0) (2.0.3)\n",
      "Requirement already satisfied: numpy>=1.15.0 in /Users/antoine/opt/anaconda3/envs/nlp-101/lib/python3.6/site-packages (from spacy<2.4.0,>=2.3.0->fr_core_news_md==2.3.0) (1.19.2)\n",
      "Requirement already satisfied: preshed<3.1.0,>=3.0.2 in /Users/antoine/opt/anaconda3/envs/nlp-101/lib/python3.6/site-packages (from spacy<2.4.0,>=2.3.0->fr_core_news_md==2.3.0) (3.0.2)\n",
      "Requirement already satisfied: thinc==7.4.1 in /Users/antoine/opt/anaconda3/envs/nlp-101/lib/python3.6/site-packages (from spacy<2.4.0,>=2.3.0->fr_core_news_md==2.3.0) (7.4.1)\n",
      "Requirement already satisfied: importlib-metadata>=0.20; python_version < \"3.8\" in /Users/antoine/opt/anaconda3/envs/nlp-101/lib/python3.6/site-packages (from catalogue<1.1.0,>=0.0.7->spacy<2.4.0,>=2.3.0->fr_core_news_md==2.3.0) (2.0.0)\n",
      "Requirement already satisfied: urllib3!=1.25.0,!=1.25.1,<1.26,>=1.21.1 in /Users/antoine/opt/anaconda3/envs/nlp-101/lib/python3.6/site-packages (from requests<3.0.0,>=2.13.0->spacy<2.4.0,>=2.3.0->fr_core_news_md==2.3.0) (1.25.10)\n",
      "Requirement already satisfied: certifi>=2017.4.17 in /Users/antoine/opt/anaconda3/envs/nlp-101/lib/python3.6/site-packages (from requests<3.0.0,>=2.13.0->spacy<2.4.0,>=2.3.0->fr_core_news_md==2.3.0) (2020.6.20)\n",
      "Requirement already satisfied: idna<3,>=2.5 in /Users/antoine/opt/anaconda3/envs/nlp-101/lib/python3.6/site-packages (from requests<3.0.0,>=2.13.0->spacy<2.4.0,>=2.3.0->fr_core_news_md==2.3.0) (2.10)\n",
      "Requirement already satisfied: chardet<4,>=3.0.2 in /Users/antoine/opt/anaconda3/envs/nlp-101/lib/python3.6/site-packages (from requests<3.0.0,>=2.13.0->spacy<2.4.0,>=2.3.0->fr_core_news_md==2.3.0) (3.0.4)\n",
      "Requirement already satisfied: zipp>=0.5 in /Users/antoine/opt/anaconda3/envs/nlp-101/lib/python3.6/site-packages (from importlib-metadata>=0.20; python_version < \"3.8\"->catalogue<1.1.0,>=0.0.7->spacy<2.4.0,>=2.3.0->fr_core_news_md==2.3.0) (3.3.0)\n",
      "\u001b[38;5;2m✔ Download and installation successful\u001b[0m\n",
      "You can now load the model via spacy.load('fr_core_news_md')\n"
     ]
    }
   ],
   "source": [
    "!pip install -q scikit-learn==0.23.2 matplotlib==3.3.2 pandas==1.1.3 lime==0.2.0 umap-learn==0.4.6 nltk==3.5 spacy==2.3.2 install umap-learn[plot]\n",
    "!python3 -m spacy download fr_core_news_md"
   ]
  },
  {
   "cell_type": "code",
   "execution_count": null,
   "metadata": {},
   "outputs": [],
   "source": []
  }
 ],
 "metadata": {
  "kernelspec": {
   "display_name": "Python 3",
   "language": "python",
   "name": "python3"
  },
  "language_info": {
   "codemirror_mode": {
    "name": "ipython",
    "version": 3
   },
   "file_extension": ".py",
   "mimetype": "text/x-python",
   "name": "python",
   "nbconvert_exporter": "python",
   "pygments_lexer": "ipython3",
   "version": "3.6.12"
  },
  "pycharm": {
   "stem_cell": {
    "cell_type": "raw",
    "metadata": {
     "collapsed": false
    },
    "source": []
   }
  }
 },
 "nbformat": 4,
 "nbformat_minor": 1
}
