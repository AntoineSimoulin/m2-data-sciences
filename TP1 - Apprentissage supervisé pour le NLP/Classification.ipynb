{
 "cells": [
  {
   "cell_type": "markdown",
   "source": [
    "**Copyright 2021 Antoine SIMOULIN.**\n",
    "\n",
    "Licensed under the Apache License, Version 2.0 (the \"License\");"
   ],
   "metadata": {}
  },
  {
   "cell_type": "markdown",
   "source": [
    "Licensed under the Apache License, Version 2.0 (the \"License\");\n",
    "you may not use this file except in compliance with the License.\n",
    "You may obtain a copy of the License at\n",
    "\n",
    "https://www.apache.org/licenses/LICENSE-2.0\n",
    "\n",
    "Unless required by applicable law or agreed to in writing, software\n",
    "distributed under the License is distributed on an \"AS IS\" BASIS,\n",
    "WITHOUT WARRANTIES OR CONDITIONS OF ANY KIND, either express or implied.\n",
    "See the License for the specific language governing permissions and\n",
    "limitations under the License."
   ],
   "metadata": {}
  },
  {
   "cell_type": "markdown",
   "source": [
    "# TP 1 : Apprentissage supervisé pour le NLP"
   ],
   "metadata": {}
  },
  {
   "cell_type": "markdown",
   "source": [
    "<img src=\"https://monkeylearn.com/static/636fe46cd113f28c9b796e53f34c5621/f9c26/Use-Cases-Applications%402x.png\" width=\"1000\">"
   ],
   "metadata": {}
  },
  {
   "cell_type": "markdown",
   "source": [
    "## Les applications de la classification de texte\n",
    "\n",
    "La classification de texte est un cas d'usage très classique du NLP qui peut être décliné pour plusieurs applications. Par exemple :\n",
    "* L'analyse de sentiments\n",
    "* La détection de Spam dans les Emails\n",
    "* Le suivi de tendances sur les réseaux sociaux\n",
    "* La détection de mécontentement pour les services clients 😡😡 \n"
   ],
   "metadata": {}
  },
  {
   "cell_type": "markdown",
   "source": [
    "## Le Benchmark FLUE \n",
    "\n",
    "FLUE <span class=\"badge badge-secondary\">(Le et al., 2010)</span> est un bencharmk d'évaluation des systèmes français de NLP, analogue au célèbre référentiel GLUE pour l'anglais. L'objectif est de faciliter la reproductibilité des expériences et le partage des modèles et des progrès sur la langue française. Les tâches et les données sont issus de travaux existants.\n",
    "\n",
    "Le référentiel d’évaluation FLUE est composé de 7 tâches correspondant à différents niveaux d’analyse\n",
    "(syntaxique, sémantique) du traitement automatique du français. On s'interesse aujourd'hui à trois des tâches proposées dans le Benchmark.\n",
    "\n",
    "<b>Classification de texte</b>\n",
    "\n",
    "Le corpus d’analyse de sentiments translingue CLS <span class=\"badge badge-secondary\">(Prettenhofer & Stein, 2010)</span> est constitué de critiques issues du site Amazon pour trois catégories de produits (livres, DVD et musique) en quatre langues : anglais, français, allemand et japonais. Chaque échantillon contient une critique associée à une note allant de 1 à 5. Suivant <span class=\"badge badge-secondary\">Blitzer et al. (2006)</span> et <span class=\"badge badge-secondary\">Prettenhofer & Stein (2010)</span>, les évaluations avec 3 étoiles sont écartées et la note est binarisée avec un seuil de 3. Pour chaque catégorie de produit, nous construisons des ensembles d’apprentissage et de test qui sont équilibrés. Les données de test contiennent ainsi 2000 avis en français.\n",
    "\n",
    "<b>Identification de paraphrases</b> \n",
    "\n",
    "Cette tâche consiste à identifier si des paires de phrases sont sémantiquement équivalentes ou non. PAWS-X est un ensemble de données multilingues pour l’identification des paraphrases <span class=\"badge badge-secondary\">(Yang et al., 2019a)</span>. Il s’agit de l’extension de la tâche PAWS <span class=\"badge badge-secondary\">(Zhang et al., 2019)</span> pour l’anglais à six autres langues : français, espagnol, allemand, chinois, japonais et coréen. <span class=\"badge badge-secondary\">Yang et al. (2019a)</span> ont utilisé la traduction automatique pour créer les corpus de ces autres langues mais les ensembles de développement et de test pour chaque langue sont traduits manuellement. Nous prenons à nouveau la partie française pour FLUE.\n",
    "\n",
    "\n",
    "<b>Natural Language Inference (NLI)</b>\n",
    "\n",
    "Cette tâche, également connue sous le nom de reconnaissance d’implications textuelles (RTE), considère une prémisse (p) et une hypothèse (h) et consiste à déterminer si p implique, contredit ou n’implique ni ne contredit h. Le corpus Cross-lingual NLI Corpus <span class=\"badge badge-secondary\">(Conneau et al., 2018, XNLI)</span> étend l’ensemble de développement et de test du corpus Multi Genre Natural Language Inference corpus <span class=\"badge badge-secondary\">(Williams et al., 2018, MultiNLI)</span> à 15 langues. Les ensembles de développement et de test pour chaque langue consistent en 7 500 exemples annotés manuellement, soit un total de 112 500 paires de phrases annotées avec les étiquettes entailment, contradiction ou neutre. FLUE intègre la partie française de ce corpus.\n",
    "\n",
    "\n",
    "La table ci-dessous présente les Résultats finaux sur les tâches de FLUE.\n",
    "\n",
    "<table>\n",
    "  <tr>\n",
    "    <td style=\"text-align:center;\"><b>Tâche</b></td>\n",
    "    <td style=\"text-align:center;\" colspan=\"3\"><b><span style='background:yellow'> Classification</span></b></td>\n",
    "    <td style=\"text-align:center;\" rowspan=\"2\"><b>Paraphrase</b></td>\n",
    "    <td style=\"text-align:center;\" rowspan=\"2\"><b>NLI</b></td>\n",
    "    <td style=\"text-align:center;\" colspan=\"2\" rowspan=\"2\"><b>Constituants</b></td>\n",
    "    <td style=\"text-align:center;\" colspan=\"2\" rowspan=\"2\"><b>Dépendances</b></td>\n",
    "    <td style=\"text-align:center;\" colspan=\"2\"><b>Désambiguïsation</b></td>\n",
    "  </tr>\n",
    "  <tr>\n",
    "    <td style=\"text-align:center;\"><b>Section</b></td>\n",
    "    <td style=\"text-align:center;\"><b><span style='background:yellow'> Livres</span></b></td>\n",
    "    <td style=\"text-align:center;\"><b><span style='background:yellow'> DVD</span></b></td>\n",
    "    <td style=\"text-align:center;\"><b><span style='background:yellow'> Musique</span></b></td>\n",
    "    <td style=\"text-align:center;\"><b>Noms</b></td>\n",
    "    <td style=\"text-align:center;\"><b>Verbes</b></td>\n",
    "  </tr>\n",
    "  <tr>\n",
    "    <td style=\"text-align:center;\">Mesure </td>\n",
    "    <td style=\"text-align:center;\">Acc.</td>\n",
    "    <td style=\"text-align:center;\">Acc.</td>\n",
    "    <td style=\"text-align:center;\">Acc.</td>\n",
    "    <td style=\"text-align:center;\">Acc.</td>\n",
    "    <td style=\"text-align:center;\">Acc.</td>\n",
    "    <td style=\"text-align:center;\">F1</td>\n",
    "    <td style=\"text-align:center;\">POS</td>\n",
    "    <td style=\"text-align:center;\">UAS</td>  \n",
    "    <td style=\"text-align:center;\">LAS</td>\n",
    "    <td style=\"text-align:center;\">F1</td>\n",
    "    <td style=\"text-align:center;\">F1</td>\n",
    "  </tr>\n",
    "  <tr>\n",
    "    <td style=\"text-align:center;\">Etate de l'art ant. </td>\n",
    "    <td style=\"text-align:center;\">91.2</td>\n",
    "    <td style=\"text-align:center;\">89.6</td>\n",
    "    <td style=\"text-align:center;\">93.4</td>\n",
    "    <td style=\"text-align:center;\">66.2</td>\n",
    "    <td style=\"text-align:center;\">80.1 / 85.2</td>\n",
    "    <td style=\"text-align:center;\">87.4</td>\n",
    "    <td style=\"text-align:center;\"></td>\n",
    "    <td style=\"text-align:center;\">89.2</td>\n",
    "    <td style=\"text-align:center;\">85.9</td>  \n",
    "    <td style=\"text-align:center;\">-</td>\n",
    "    <td style=\"text-align:center;\">43.0</td>\n",
    "  </tr>\n",
    "  <tr>\n",
    "    <td style=\"text-align:center;\">Sans pré-entr.</td>\n",
    "    <td style=\"text-align:center;\">-</td>\n",
    "    <td style=\"text-align:center;\">-</td>\n",
    "    <td style=\"text-align:center;\">-</td>\n",
    "    <td style=\"text-align:center;\"></td>\n",
    "    <td style=\"text-align:center;\"></td>\n",
    "    <td style=\"text-align:center;\">83.9</td>\n",
    "    <td style=\"text-align:center;\">97.5</td>\n",
    "    <td style=\"text-align:center;\">88.9</td>\n",
    "    <td style=\"text-align:center;\">85.1</td>  \n",
    "    <td style=\"text-align:center;\">50.0</td>\n",
    "    <td style=\"text-align:center;\">-</td>\n",
    "  </tr>\n",
    "  <tr>\n",
    "    <td style=\"text-align:center;\">FastText</td>\n",
    "    <td style=\"text-align:center;\">-</td>\n",
    "    <td style=\"text-align:center;\">-</td>\n",
    "    <td style=\"text-align:center;\">-</td>\n",
    "    <td style=\"text-align:center;\"></td>\n",
    "    <td style=\"text-align:center;\"></td>\n",
    "    <td style=\"text-align:center;\">83.6</td>\n",
    "    <td style=\"text-align:center;\">97.7</td>\n",
    "    <td style=\"text-align:center;\">86.3</td>\n",
    "    <td style=\"text-align:center;\">82.0</td>  \n",
    "    <td style=\"text-align:center;\">49.4</td>\n",
    "    <td style=\"text-align:center;\">34.9</td>\n",
    "  </tr>\n",
    "  <tr>\n",
    "    <td style=\"text-align:center;\">mBERT</td>\n",
    "    <td style=\"text-align:center;\">86.2</td>\n",
    "    <td style=\"text-align:center;\">86.9</td>\n",
    "    <td style=\"text-align:center;\">86.7</td>\n",
    "    <td style=\"text-align:center;\">89.3</td>\n",
    "    <td style=\"text-align:center;\">76.9</td>\n",
    "    <td style=\"text-align:center;\">87.5</td>\n",
    "    <td style=\"text-align:center;\">98.1</td>\n",
    "    <td style=\"text-align:center;\">89.5</td>\n",
    "    <td style=\"text-align:center;\">85.9</td>  \n",
    "    <td style=\"text-align:center;\">56.5</td>\n",
    "    <td style=\"text-align:center;\">44.9</td>\n",
    "  </tr>\n",
    "  <tr>\n",
    "    <td style=\"text-align:center;\">CamemBERT</td>\n",
    "    <td style=\"text-align:center;\">93.4</td>\n",
    "    <td style=\"text-align:center;\">92.7</td>\n",
    "    <td style=\"text-align:center;\">94.2</td>\n",
    "    <td style=\"text-align:center;\">89.8</td>\n",
    "    <td style=\"text-align:center;\">81.2</td>\n",
    "    <td style=\"text-align:center;\">88.4</td>\n",
    "    <td style=\"text-align:center;\">98.2</td>\n",
    "    <td style=\"text-align:center;\">91.4</td>\n",
    "    <td style=\"text-align:center;\">88.1</td>  \n",
    "    <td style=\"text-align:center;\">56.1</td>\n",
    "    <td style=\"text-align:center;\">51.1</td>\n",
    "  </tr>\n",
    "  <tr>\n",
    "    <td style=\"text-align:center;\">FlauBERT-base</td>\n",
    "    <td style=\"text-align:center;\">93.4</td>\n",
    "    <td style=\"text-align:center;\">92.5</td>\n",
    "    <td style=\"text-align:center;\">94.3</td>\n",
    "    <td style=\"text-align:center;\">89.9</td>\n",
    "    <td style=\"text-align:center;\">81.3</td>\n",
    "    <td style=\"text-align:center;\">89.1</td>\n",
    "    <td style=\"text-align:center;\">98.1</td>\n",
    "    <td style=\"text-align:center;\">91.6</td>\n",
    "    <td style=\"text-align:center;\">88.4</td>  \n",
    "    <td style=\"text-align:center;\">54.9 / 57.9</td>\n",
    "    <td style=\"text-align:center;\">47.4</td>\n",
    "  </tr>\n",
    "</table>\n",
    "\n",
    "\n",
    "<span class=\"badge badge-secondary\">(Le et al., 2010)</span> Hang Le, Loïc Vial, Jibril Frej, Vincent Segonne, Maximin Coavoux, Benjamin Lecouteux, Alexandre Allauzen, Benoît Crabbé, Laurent Besacier, Didier Schwab: FlauBERT: Unsupervised Language Model Pre-training for French. LREC 2020: 2479-2490"
   ],
   "metadata": {}
  },
  {
   "cell_type": "markdown",
   "source": [
    "## Import des librairies"
   ],
   "metadata": {}
  },
  {
   "cell_type": "code",
   "execution_count": null,
   "source": [
    "%%capture\n",
    "\n",
    "# ⚠️ Execute only if running in Colab\n",
    "if 'google.colab' in str(get_ipython()):\n",
    "  IN_COLAB = True\n",
    "else:\n",
    "  IN_COLAB = False\n",
    "\n",
    "if IN_COLAB:\n",
    "  !pip install unidecode\n",
    "  !pip install -q scikit-learn==0.23.2 matplotlib==3.3.2 pandas==1.1.3 nltk==3.5 spacy==2.3.2 \n",
    "  !python3 -m spacy download fr_core_news_md\n",
    "  !pip install lime==0.2.0\n",
    "  !pip install umap-learn==0.4.6 umap-learn[plot] \n",
    "  # if running Colab, restart after libraries installation (Redémarrer l'environnement d'exécution)\n",
    "  # exit()"
   ],
   "outputs": [],
   "metadata": {}
  },
  {
   "cell_type": "code",
   "execution_count": null,
   "source": [
    "import os, sys\n",
    "import numpy as np  # python base math library\n",
    "import pandas as pd # data structure\n",
    "\n",
    "from collections import Counter\n",
    "from pprint import pprint\n",
    "from time import time\n",
    "import logging\n",
    "import itertools\n",
    "import matplotlib.pyplot as plt\n",
    "\n",
    "# set matplotlib fonts\n",
    "plt.rcParams['font.family'] = 'sans-serif'\n",
    "plt.rcParams['font.sans-serif'] = 'Helvetica'\n",
    "\n",
    "# set the style of the axes and the text color\n",
    "plt.rcParams['axes.edgecolor']='#333F4B'\n",
    "plt.rcParams['axes.linewidth']=0.8\n",
    "plt.rcParams['xtick.color']='#333F4B'\n",
    "plt.rcParams['ytick.color']='#333F4B'\n",
    "plt.rcParams['text.color']='#333F4B'\n",
    "\n",
    "# Display progress logs on stdout\n",
    "logging.basicConfig(level=logging.INFO, format='%(asctime)s %(levelname)s %(message)s')\n",
    "\n",
    "# IPython automatically reload all changed code\n",
    "%load_ext autoreload\n",
    "%autoreload 2\n",
    "\n",
    "# Inline Figures with matplotlib\n",
    "%matplotlib inline\n",
    "%config InlineBackend.figure_format='retina'"
   ],
   "outputs": [],
   "metadata": {}
  },
  {
   "cell_type": "code",
   "execution_count": null,
   "source": [
    "# import extrenal modules\n",
    "import urllib.request\n",
    "\n",
    "repo_url = 'https://raw.githubusercontent.com/AntoineSimoulin/m2-data-sciences/master/'\n",
    "_ = urllib.request.urlretrieve(repo_url + 'src/plots.py', 'plots.py')\n",
    "_ = urllib.request.urlretrieve(repo_url + 'src/load_flue_datasets.py', 'load_flue_datasets.py')\n",
    "# !git clone https://github.com/AntoineSimoulin/titulus.git\n",
    "# sys.path.append(os.path.abspath('titulus'))\n",
    "!pip install git+https://github.com/AntoineSimoulin/titulus.git\n",
    "\n",
    "from plots import plot_word_counter, plot_zipf\n",
    "from load_flue_datasets import load_cls_dataset\n",
    "# try:\n",
    "from titulus import color, print_\n",
    "# except:\n",
    "#     from titulus.titulus import color, print_"
   ],
   "outputs": [],
   "metadata": {}
  },
  {
   "cell_type": "code",
   "execution_count": null,
   "source": [
    "# get data\n",
    "\n",
    "for cat in ['books', 'dvd', 'music']:\n",
    "  dir = './data/{}'.format(cat)\n",
    "  if not os.path.exists(dir):\n",
    "    os.makedirs(dir)\n",
    "    \n",
    "  for split in ['train', 'valid', 'test']:\n",
    "    data_file = './data/{}/{}_0.tsv'.format(cat, split)\n",
    "    if not os.path.isfile(data_file): \n",
    "      urllib.request.urlretrieve(repo_url + 'TP1%20-%20Apprentissage%20supervis%C3%A9%20pour%20le%20NLP/data/{}/{}_0.tsv'.format(cat, split), data_file)"
   ],
   "outputs": [],
   "metadata": {}
  },
  {
   "cell_type": "markdown",
   "source": [
    "## 1. Classification de texte"
   ],
   "metadata": {}
  },
  {
   "cell_type": "markdown",
   "source": [
    "<img src=\"https://monkeylearn.com/static/507a7b5d0557f416857a038f553865d1/5040b/text_process_training.png\" width=\"500\">"
   ],
   "metadata": {}
  },
  {
   "cell_type": "markdown",
   "source": [
    "### 1.1 Chargement des données"
   ],
   "metadata": {}
  },
  {
   "cell_type": "code",
   "execution_count": null,
   "source": [
    "data_dir = './data/'"
   ],
   "outputs": [],
   "metadata": {}
  },
  {
   "cell_type": "code",
   "execution_count": null,
   "source": [
    "X_books, y_books = load_cls_dataset(data_dir, 'books')\n",
    "X_dvd, y_dvd = load_cls_dataset(data_dir, 'dvd')\n",
    "X_music, y_music = load_cls_dataset(data_dir, 'music')"
   ],
   "outputs": [],
   "metadata": {}
  },
  {
   "cell_type": "code",
   "execution_count": null,
   "source": [
    "X_train_df = pd.DataFrame.from_dict(\n",
    "    {'reviews': X_books['train'] + X_dvd['train'] + X_music['train'],\n",
    "     'section': ['books' for _ in range(len(X_books['train']))] \\\n",
    "     + ['dvd' for _ in range(len(X_dvd['train']))] \\\n",
    "     + ['music' for _ in range(len(X_music['train']))]})\n",
    "\n",
    "y_train = y_books['train'] + y_dvd['train'] + y_music['train']\n",
    "\n",
    "X_valid_df = pd.DataFrame.from_dict(\n",
    "    {'reviews': X_books['valid'] + X_dvd['valid'] + X_music['valid'],\n",
    "     'section': ['books' for _ in range(len(X_books['valid']))] \\\n",
    "     + ['dvd' for _ in range(len(X_dvd['valid']))] \\\n",
    "     + ['music' for _ in range(len(X_music['valid']))]})\n",
    "\n",
    "y_valid = y_books['valid'] + y_dvd['valid'] + y_music['valid']\n",
    "\n",
    "class_names = ['Négatif', 'Positif']"
   ],
   "outputs": [],
   "metadata": {}
  },
  {
   "cell_type": "code",
   "execution_count": null,
   "source": [
    "X_train_df.head()"
   ],
   "outputs": [],
   "metadata": {}
  },
  {
   "cell_type": "markdown",
   "source": [
    "### 1.2 Data Exploration"
   ],
   "metadata": {}
  },
  {
   "cell_type": "markdown",
   "source": [
    "Avant de commencer à dérouler un cas d'usage, vous devez toujours **analyser les données**. Vérifiez les valeurs manquantes ou abérrantes, la distribution des variables, l'équilibre des classes, sélectionnez ou écartez les variables en fonction de leur pertinence ou selon des critères éthiques."
   ],
   "metadata": {}
  },
  {
   "cell_type": "markdown",
   "source": [
    "<div class=\"alert alert-info\" role=\"alert\">\n",
    "    <p><b>Exercice :</b> Comparer la distribution des labels positifs / négatifs.</p>\n",
    "</div>    "
   ],
   "metadata": {}
  },
  {
   "cell_type": "code",
   "execution_count": null,
   "source": [
    "# %load solutions/plot_labels_distribution.py\n",
    "set(y_books['train']), set(y_books['valid'])\n",
    "np.mean(y_books['train']), np.mean(y_books['valid'])\n",
    "\n",
    "unique, counts = np.unique(y_train, return_counts=True)\n",
    "\n",
    "fig, ax = plt.subplots(figsize=(20, 8))\n",
    "ax.bar(unique, counts, alpha=0.8, color='#970137', linewidth=15)\n",
    "\n",
    "# set labels\n",
    "ax.set_ylabel('Distribution des Labels', fontsize=15,\n",
    "              fontweight='black', color='#333F4B')\n",
    "ax.set_xlabel('')\n",
    "ax.set_title('')\n",
    "\n",
    "# set axis\n",
    "plt.xticks([])\n",
    "\n",
    "# change the style of the axis spines\n",
    "ax.spines['top'].set_color('none')\n",
    "ax.spines['right'].set_color('none')\n",
    "\n",
    "# set the spines position\n",
    "ax.spines['left'].set_position(('axes', 0.015))\n",
    "# plt.yscale('log')\n",
    "\n",
    "# Add labels at the top of the bar\n",
    "for idx, f, w in zip(range(len(counts)), counts, unique):\n",
    "\n",
    "    label = \"{}\".format(class_names[w])\n",
    "    plt.annotate(label,                      # this is the text\n",
    "                 (idx, f),                   # this is the point to label\n",
    "                 textcoords=\"offset points\", # how to position the text\n",
    "                 xytext=(0,20),              # distance from text to points (x,y)\n",
    "                 ha='center',                # horizontal alignment can be left, right or center\n",
    "                 rotation=90,\n",
    "                 fontsize=15,\n",
    "                 weight='bold')\n",
    "\n",
    "    label = \"{:.0f}\".format(f)\n",
    "    plt.annotate(label, (idx, f), textcoords=\"offset points\",\n",
    "                 xytext=(1, -40 - len(label)), ha='center',\n",
    "                 rotation=90, fontsize=15,  weight='bold', color='white')"
   ],
   "outputs": [],
   "metadata": {}
  },
  {
   "cell_type": "markdown",
   "source": [
    "<div class=\"alert alert-info\" role=\"alert\">\n",
    "    <p><b>Exercice :</b> Comparer la distribution des sections <i>books</i>, <i>dvd</i> et <i>music</i>.</p>\n",
    "</div>    "
   ],
   "metadata": {}
  },
  {
   "cell_type": "code",
   "execution_count": null,
   "source": [
    "# %load solutions/plot_sections_distribution.py\n",
    "# Représenter la distributions des labels\n",
    "\n",
    "unique, counts = np.unique(X_train_df['section'], return_counts=True)\n",
    "fig, ax = plt.subplots(figsize=(20, 8))\n",
    "\n",
    "ax.bar(unique, counts, alpha=0.8, color='#970137', linewidth=15)\n",
    "\n",
    "# set labels\n",
    "ax.set_ylabel('Réparition des Sélections', fontsize=15,\n",
    "              fontweight='black', color='#333F4B')\n",
    "ax.set_xlabel('')\n",
    "ax.set_title('')\n",
    "\n",
    "# set axis\n",
    "plt.xticks([])\n",
    "\n",
    "# change the style of the axis spines\n",
    "ax.spines['top'].set_color('none')\n",
    "ax.spines['right'].set_color('none')\n",
    "\n",
    "# set the spines position\n",
    "ax.spines['left'].set_position(('axes', 0.015))\n",
    "# plt.yscale('log')\n",
    "\n",
    "# Add labels at the top of the bar\n",
    "for idx, f, w in zip(range(len(counts)), counts, unique):\n",
    "\n",
    "    label = \"{}\".format(w)\n",
    "    plt.annotate(label,                      # this is the text\n",
    "                 (idx, f),                   # this is the point to label\n",
    "                 textcoords=\"offset points\", # how to position the text\n",
    "                 xytext=(0,20),              # distance from text to points (x,y)\n",
    "                 ha='center',                # horizontal alignment can be left, right or center\n",
    "                 rotation=90,\n",
    "                 fontsize=15,\n",
    "                 weight='bold')\n",
    "\n",
    "    label = \"{:.0f}\".format(f)\n",
    "    plt.annotate(label, (idx, f), textcoords=\"offset points\",\n",
    "                 xytext=(1, -40 - len(label)), ha='center',\n",
    "                 rotation=90, fontsize=15,  weight='bold', color='white')"
   ],
   "outputs": [],
   "metadata": {}
  },
  {
   "cell_type": "markdown",
   "source": [
    "<div class=\"alert alert-info\" role=\"alert\">\n",
    "    <p><b>Exercice :</b> Comparer la distribution de la longueur des phrases sur le jeu de données d'entrainement et de validation.</p>\n",
    "</div>    "
   ],
   "metadata": {}
  },
  {
   "cell_type": "code",
   "execution_count": null,
   "source": [
    "# %load solutions/plot_sentence_length_distribution.py\n",
    "# Représenter la longueur des phrases\n",
    "\n",
    "n_bins = 20\n",
    "\n",
    "x_train = X_train_df['reviews'].apply(lambda x: len(x.split()))\n",
    "x_valid = X_valid_df['reviews'].apply(lambda x: len(x.split()))\n",
    "\n",
    "fig, axs = plt.subplots(1, 2, sharey=True, tight_layout=True, figsize=(20, 8))\n",
    "\n",
    "axs[0].set_ylabel('Nombre de phrases', fontsize=15,\n",
    "                  fontweight='black', color='#333F4B')\n",
    "axs[0].set_xlabel('Longueur des phrase pour le jeu d\\'entrainement', fontsize=15,\n",
    "                  fontweight='black', color='#333F4B')\n",
    "axs[1].set_xlabel('Longueur des phrase pour le jeu de validation', fontsize=15,\n",
    "                  fontweight='black', color='#333F4B')\n",
    "\n",
    "axs[0].hist(x_train, bins=n_bins, alpha=0.8, color='#970137', linewidth=15);\n",
    "axs[1].hist(x_valid, bins=n_bins, alpha=0.8, color='#970137', linewidth=15);"
   ],
   "outputs": [],
   "metadata": {}
  },
  {
   "cell_type": "markdown",
   "source": [
    "<div class=\"alert alert-info\" role=\"alert\">\n",
    "    <p><b>Exercice :</b> Etudier la distribution des caractères dans corpus.</p>\n",
    "</div>    "
   ],
   "metadata": {}
  },
  {
   "cell_type": "code",
   "execution_count": null,
   "source": [
    "# %load solutions/characters_distribution.py\n",
    "# compter les caractères dans corpus\n",
    "character_counts = Counter(\" \".join(X_train_df['reviews'].tolist()))\n",
    "\n",
    "print(\"Most common characters in corpus : \")\n",
    "print(character_counts.most_common(10))\n",
    "\n",
    "print(\"\\nNumber of characters in the dataset: {}.\".format(len(character_counts)))"
   ],
   "outputs": [],
   "metadata": {}
  },
  {
   "cell_type": "markdown",
   "source": [
    "<div class=\"alert alert-info\" role=\"alert\">\n",
    "    <p><b>Exercice :</b> Vérifier s'il y a des données manquantes (labels, reviews).</p>\n",
    "</div>    "
   ],
   "metadata": {}
  },
  {
   "cell_type": "markdown",
   "source": [
    "### 1.3 Data Preparation"
   ],
   "metadata": {}
  },
  {
   "cell_type": "code",
   "execution_count": null,
   "source": [
    "# !pip install unidecode\n",
    "import unidecode\n",
    "import re # Regular Expression (Regex) in Python\n",
    "from nltk.stem.snowball import FrenchStemmer\n",
    "\n",
    "import spacy\n",
    "from spacy.lang.fr.stop_words import STOP_WORDS\n",
    "from spacy.tokens import Doc\n",
    "nlp = spacy.load('fr_core_news_md')"
   ],
   "outputs": [],
   "metadata": {}
  },
  {
   "cell_type": "markdown",
   "source": [
    "<div class=\"alert alert-info\" role=\"alert\">\n",
    "    <p><b>Exercice :</b> Effectuer la tokenization du jeu de données. Pour cela créer une nouvelle colonne <b>tokens</b> dans la DataFrame. Vous pouvez utiliser la méthode de votre choix, Spacy, regex ...</p>\n",
    "</div>    "
   ],
   "metadata": {}
  },
  {
   "cell_type": "code",
   "execution_count": null,
   "source": [
    "# %load solutions/tokenization.py\n",
    "\n",
    "def tokenize(text):\n",
    "    # TODO compléter la fonction de tokenization\n",
    "    return tokens\n",
    "\n",
    "# on peut tester la fonction sur un exemple\n",
    "tokenize(\"Je voulais mettre 0 étoile mais c'est pas possible... \"\n",
    "         \"Commençons par le positif (c'est rapide): ça parle de tout : \"\n",
    "         \"muxle, endurance, souplesse, alimentation, échauffement mais ...\")"
   ],
   "outputs": [],
   "metadata": {}
  },
  {
   "cell_type": "code",
   "execution_count": null,
   "source": [
    "# On applique ensuite la fonction à l'ensemble de la dataframe\n",
    "X_train_df['tokens'] = X_train_df['reviews'].apply(tokenize)\n",
    "X_valid_df['tokens'] = X_valid_df['reviews'].apply(tokenize)"
   ],
   "outputs": [],
   "metadata": {}
  },
  {
   "cell_type": "code",
   "execution_count": null,
   "source": [
    "X_train_df.head()"
   ],
   "outputs": [],
   "metadata": {}
  },
  {
   "cell_type": "code",
   "execution_count": null,
   "source": [
    "# Standardisation de texte : suppression des accents et mettre en minuscules\n",
    "\n",
    "def remove_accents(token):\n",
    "    return unidecode.unidecode(token)\n",
    "\n",
    "X_train_df['tokens'] = X_train_df['tokens'].apply(lambda x: [remove_accents(t) for t in x])\n",
    "X_valid_df['tokens'] = X_valid_df['tokens'].apply(lambda x: [remove_accents(t) for t in x])\n",
    "\n",
    "X_train_df['tokens'] = X_train_df['tokens'].apply(lambda x: [t.lower() for t in x])\n",
    "X_valid_df['tokens'] = X_valid_df['tokens'].apply(lambda x: [t.lower() for t in x])"
   ],
   "outputs": [],
   "metadata": {}
  },
  {
   "cell_type": "code",
   "execution_count": null,
   "source": [
    "X_train_df.head()"
   ],
   "outputs": [],
   "metadata": {}
  },
  {
   "cell_type": "code",
   "execution_count": null,
   "source": [
    "# Lemmatization : on ramène chaque mot à son \"lem\", pour les verbes, la forme non conjuguée \n",
    "\n",
    "# On va utiliser le tokenizer que l'on a définit comme fonction de base dans SpaCy\n",
    "def custom_tokenizer(text):\n",
    "    tokens = tokenize(text)\n",
    "    return Doc(nlp.vocab, tokens)\n",
    "\n",
    "nlp.tokenizer = custom_tokenizer\n",
    "\n",
    "doc = nlp(X_train_df.loc[0, 'reviews'])\n",
    "for token in doc[:10]:\n",
    "    print(token, token.lemma_)"
   ],
   "outputs": [],
   "metadata": {}
  },
  {
   "cell_type": "code",
   "execution_count": null,
   "source": [
    "def lemmatize(text):\n",
    "    doc = nlp(str(text))\n",
    "    return [token.lemma_ for token in doc]"
   ],
   "outputs": [],
   "metadata": {}
  },
  {
   "cell_type": "code",
   "execution_count": null,
   "source": [
    "print(' '.join(lemmatize(X_train_df.loc[0, 'reviews'])))"
   ],
   "outputs": [],
   "metadata": {}
  },
  {
   "cell_type": "code",
   "execution_count": null,
   "source": [
    "# Stemming : on enlève les \"terminaisons\" des mots\n",
    "\n",
    "stemmer = FrenchStemmer()\n",
    "\n",
    "for token in X_train_df.loc[0, 'tokens'][:10]:\n",
    "    print(token, stemmer.stem(token))"
   ],
   "outputs": [],
   "metadata": {}
  },
  {
   "cell_type": "code",
   "execution_count": null,
   "source": [
    "def stemmatize(tokens):\n",
    "    return [stemmer.stem(t) for t in tokens]"
   ],
   "outputs": [],
   "metadata": {}
  },
  {
   "cell_type": "code",
   "execution_count": null,
   "source": [
    "print(' '.join(stemmatize(X_train_df.loc[0, 'tokens'])))"
   ],
   "outputs": [],
   "metadata": {}
  },
  {
   "cell_type": "markdown",
   "source": [
    "<div class=\"alert alert-info\" role=\"alert\">\n",
    "    <p><b>Exercice :</b> Observer l'impact de la stemmatisation sur le jeu de données (en particulier sur la taille du vocabulaire).</p>\n",
    "</div>    "
   ],
   "metadata": {}
  },
  {
   "cell_type": "code",
   "execution_count": null,
   "source": [
    "X_train_df.head()"
   ],
   "outputs": [],
   "metadata": {}
  },
  {
   "cell_type": "code",
   "execution_count": null,
   "source": [
    "%%time\n",
    "X_train_df['tokens_stem'] = X_train_df['tokens'].apply(stemmatize)\n",
    "X_train_df['tokens_lem'] = X_train_df['reviews'].apply(lemmatize)\n",
    "\n",
    "X_valid_df['tokens_stem'] = X_valid_df['tokens'].apply(stemmatize)\n",
    "X_valid_df['tokens_lem'] = X_valid_df['reviews'].apply(lemmatize)\n",
    "\n",
    "\n",
    "tokens = [ll for l in X_train_df.tokens.values for ll in l]\n",
    "tokens_stem = [ll for l in X_train_df.tokens_stem.values for ll in l]\n",
    "tokens_lem = [ll for l in X_train_df.tokens_lem.values for ll in l]\n",
    "\n",
    "\n",
    "vocab_initial = np.unique(tokens)\n",
    "vocab_stem = np.unique(tokens_stem)\n",
    "vocab_lem = np.unique(tokens_lem)\n",
    "\n",
    "label_init  = \"Vocabulaire initial : \" + str(len(vocab_initial))\n",
    "label_stem = \"Vocabulaire apres stemmatisation : \" + str(len(vocab_stem))\n",
    "label_lem = \"Vocabulaire apres lemmatization : \" + str(len(vocab_lem))"
   ],
   "outputs": [],
   "metadata": {}
  },
  {
   "cell_type": "code",
   "execution_count": null,
   "source": [
    "fig, ax = plt.subplots(figsize=(20, 8))\n",
    "\n",
    "ax.bar([1,2,3], [len(vocab_initial), len(vocab_lem), len(vocab_stem)], color='#970137', alpha=0.8, linewidth=15)\n",
    "\n",
    "# set labels\n",
    "ax.set_ylabel('Taille du vocabulaire', fontsize=15,\n",
    "              fontweight='black', color='#333F4B')\n",
    "ax.set_xlabel('')\n",
    "ax.set_title('Impact des prétraitements sur la taille du vocabulaire')\n",
    "\n",
    "# set axis\n",
    "plt.xticks([])\n",
    "\n",
    "#set annotation\n",
    "plt.annotate(label_init, (1, len(vocab_initial)), textcoords=\"offset points\",\n",
    "                 xytext=(1, -40 - len(label)), ha='center',\n",
    "                 fontsize=15,  weight='bold', color='white')\n",
    "plt.annotate(label_lem , (2, len(vocab_lem)), textcoords=\"offset points\",\n",
    "                 xytext=(1, -40 - len(label)), ha='center',\n",
    "                 fontsize=15,  weight='bold', color='white')\n",
    "plt.annotate(label_stem , (3, len(vocab_stem)), textcoords=\"offset points\",\n",
    "                 xytext=(1, -40 - len(label)), ha='center',\n",
    "                 fontsize=15,  weight='bold', color='white')\n",
    "\n",
    "plt.show();"
   ],
   "outputs": [],
   "metadata": {}
  },
  {
   "cell_type": "code",
   "execution_count": null,
   "source": [
    "# %load solutions/stemming_impact.py\n",
    "# Observer l'impact sur la taille du vocabulaire\n",
    "\n",
    "tokenized_corpus_flatten = [ll for l in X_valid_df['tokens'].values for ll in l]\n",
    "tokens_counter = Counter(tokenized_corpus_flatten)\n",
    "\n",
    "print(\"without stemmatization\")\n",
    "print(\"Validation set contains {:,} unique words.\".format(len(tokens_counter)))\n",
    "\n",
    "n_tokens = sum([len(t) for t in X_valid_df['tokens'].values])\n",
    "print(\"Validation set contains {:,d} tokens.\".format(n_tokens))\n",
    "\n",
    "assert len(tokenized_corpus_flatten) == n_tokens\n",
    "\n",
    "X_valid_df['tokens_stem'] = X_valid_df['tokens'].apply(stemmatize)\n",
    "\n",
    "tokenized_corpus_flatten = [ll for l in X_valid_df['tokens_stem'].values for ll in l]\n",
    "tokens_counter = Counter(tokenized_corpus_flatten)\n",
    "\n",
    "print(\"with stemmatization\")\n",
    "n_tokens = sum([len(t) for t in X_valid_df['tokens_stem'].values])\n",
    "print(\"Validation set contains {:,d} tokens.\".format(n_tokens))\n",
    "\n",
    "print(\"Validation set contains {:,} unique words.\".format(len(tokens_counter)))\n",
    "\n",
    "# X_valid_df['tokens'] = X_valid_df['reviews'].apply(lambda x: [lemmatize(t) for t in x])\n",
    "\n",
    "# tokenized_corpus_flatten = [ll for l in X_valid_df['tokens'].values for ll in l]\n",
    "# tokens_counter = Counter(tokenized_corpus_flatten)\n",
    "\n",
    "# n_tokens = sum([len(t) for t in X_valid_df['tokens'].values])\n",
    "# print(\"Validation set contains {:,d} tokens.\".format(n_tokens))\n",
    "\n",
    "# print(\"Validation set contains {} unique words.\".format(len(tokens_counter)))"
   ],
   "outputs": [],
   "metadata": {}
  },
  {
   "cell_type": "markdown",
   "source": [
    "### 1.4 Feature Engineering"
   ],
   "metadata": {}
  },
  {
   "cell_type": "code",
   "execution_count": null,
   "source": [
    "from sklearn.feature_extraction.text import CountVectorizer, TfidfVectorizer  \n",
    "# Sklearn is a famous french ML library"
   ],
   "outputs": [],
   "metadata": {}
  },
  {
   "cell_type": "markdown",
   "source": [
    "On va chercher à encoder les données comme discuté pendant le premier cours. Le texte va être \"vectorisé\" afin de pouvoir être traité par des algorithmes. "
   ],
   "metadata": {
    "colab_type": "text",
    "id": "x-RwI4kdjnrw"
   }
  },
  {
   "cell_type": "markdown",
   "source": [
    "**Bag of Words** : C'est la représentation la plus simple. On attribue index à chacun des mots apparaissant dans le corpus d'entrainement. On peut ensuite représenter chaque document par un vecteur X indiquant la présence ou l'absence de chaque mot 'w' dans le dictionnaire. La taille du vocabulaire est généralement comprise entre 50.000 et 100.000 mots.\n",
    "\n",
    "De plus la majorité des valeurs de X sont nulles puisque pour un document donné, seul quelques centaines de mots sont utilisés. Ainsi, le bag of words est une représentation <i>sparse</i> de <i>grande dimension</i>."
   ],
   "metadata": {
    "colab_type": "text",
    "id": "w2MX8tqsjnrw"
   }
  },
  {
   "cell_type": "code",
   "execution_count": null,
   "source": [
    "# On considère ce corpus exemple. \n",
    "# Le corpus est constitué d'un ensemble de documents\n",
    "# Chaque document est défini comme une suite de mots \n",
    "# (la tokenization et lese prétraitements sont déjà effectués)\n",
    "\n",
    "document_1 = [\"je\", \"n'\", \"aime\", \"pas\", \"ce\", \"livre\"]\n",
    "document_2 = [\"un\", \"livre\", \"très\", \"complet\"]\n",
    "document_3 = [\"pas\", \"un\", \"livre\", \"exceptionnel\", \"ni\", \"un\", \"livre\", \"très\", \"complet\"]\n",
    "\n",
    "corpus = np.array([\n",
    "  document_1,\n",
    "  document_2,\n",
    "  document_3])"
   ],
   "outputs": [],
   "metadata": {}
  },
  {
   "cell_type": "markdown",
   "source": [
    "<hr>\n",
    "<div class=\"alert alert-info\" role=\"alert\">\n",
    "    <p><b>📝 Exercice :</b> Etablir le vocabulaire associé au corpus.</p>\n",
    "</div>\n",
    "<hr>"
   ],
   "metadata": {}
  },
  {
   "cell_type": "code",
   "execution_count": null,
   "source": [
    "# %load solutions/build_voc.py\n",
    "\n",
    "def build_vocabulary(corpus):\n",
    "  # TODO compléter la fonction de construction du vocabulaire\n",
    "  # Cette dernière doit associer à chaque mot un index. \n",
    "  # Les mots sont généralements triés par ordre alphabétique \n",
    "  # ou en fonction de leur fréquence d'apparition\n",
    "  return vocabulary\n",
    "\n",
    "vocabulary = build_vocabulary(corpus)\n",
    "print(vocabulary)"
   ],
   "outputs": [],
   "metadata": {}
  },
  {
   "cell_type": "markdown",
   "source": [
    "**Prise en compte de l'aspect fréquentiel** chaque text est représenté par un vecteur indiquant la fréquence de chaque token dans le text."
   ],
   "metadata": {
    "colab_type": "text",
    "id": "7CEIcprxjnrx"
   }
  },
  {
   "cell_type": "markdown",
   "source": [
    "<hr>\n",
    "<div class=\"alert alert-info\" role=\"alert\">\n",
    "    <p><b>📝 Exercice :</b> Ecrire une fonction qui associe un document à sa représentation fréquentielle (Bag of Words).</p>\n",
    "</div>\n",
    "<hr>"
   ],
   "metadata": {}
  },
  {
   "cell_type": "code",
   "execution_count": null,
   "source": [
    "def tf(document, vocabulary):\n",
    "    # TODO compléter la fonction de représentation BoW.\n",
    "    return tf\n",
    "\n",
    "tf(document_1, vocabulary)"
   ],
   "outputs": [],
   "metadata": {
    "colab": {},
    "colab_type": "code",
    "id": "seiU6grVjnry"
   }
  },
  {
   "cell_type": "code",
   "execution_count": null,
   "source": [
    "# On peut utiliser la librairie sklearn pour comparer.\n",
    "\n",
    "def dummy(document):\n",
    "    return document\n",
    "\n",
    "cv = CountVectorizer(tokenizer=dummy, preprocessor=dummy, vocabulary=vocabulary)\n",
    "bow = cv.fit_transform(corpus).toarray()\n",
    "bow"
   ],
   "outputs": [],
   "metadata": {
    "colab": {},
    "colab_type": "code",
    "id": "fEVt0EJ0jnr0",
    "outputId": "749d8303-107c-43b2-bdcf-44269a9a640d"
   }
  },
  {
   "cell_type": "markdown",
   "source": [
    "**TF-IDF (Term Frequency - Inverse Document Frequency)** : On l'a vu en cours, le problème de ce type d'approche c'est que les mots ont une fréquence d'apparition spécifique dans le texte. Pour corriger ce phénomène, on s'appuie sur la représentation Tf-Idf\n",
    "\n",
    "Cette méthode cherche à réduire les poids des mots qui apparaissent dans de nombreux documents du corpus et qui portent donc moins d'information que les mots plus rares."
   ],
   "metadata": {
    "colab_type": "text",
    "id": "uc3DOEnnjnr7"
   }
  },
  {
   "cell_type": "markdown",
   "source": [
    "**Calcul des pondérations Tf-Idf** \n",
    "\n",
    "$$\\text{tf-idf}(t, d) = \\text{tf}(t, d) \\times \\text{idf}(t)$$\n",
    "\n",
    "ou `idf` et la **inverse document frequency** et `tf` et la **fréquence du mot** dans le document calculée précédement."
   ],
   "metadata": {
    "colab_type": "text",
    "id": "u2w0Y84rjnr8"
   }
  },
  {
   "cell_type": "markdown",
   "source": [
    "**Calcul du terme TF** : TF peut être calculée de plusieurs manières correspond à la fréquence d'occurence du mot dans le document.\n",
    "\n",
    "**Calcul du terme DF** : On définit la *document frequency* d'un mot dans le corpus, comme le nombre de documents où ce mot apparait : $\\mathrm{df}(t) = |\\{d \\in D: t \\in d\\}|$\n",
    "\n",
    "**Calcul de la IDF** : IDF mesure l'importance d'un mot vis à vis de l'ensemble du corpus ($N$ est le nombre de documents dans le corpus). Elle est calculée en utilisant la notion de *document frequency* $\\text{df}(d,t)$, qui désigne simplement le nombre de documents $d$ qui contiennent le term $t$. On peut ainsi définir l'idf commme suit :\n",
    "\n",
    "$$\\text{idf}(t) = log{\\frac{n_d}{1+\\text{df}(d,t)}},$$ \n",
    "avec    $n_d$: Nombre total de documents\n",
    "\n",
    "**Remarque 1 :** la constante 1 est ajoutée au dénominateur pour éviter les cas de division par 0. :\n",
    "\n",
    "**Remarque 2 :** `Sklearn` utilise une définition différente de l'IDF classique: \n",
    "$$  \\mathrm{idf}(t) = 1 + \\log \\left( \\frac{N}{\\mathrm{df}(t)}\\right) $$\n",
    "\n",
    "Et dans le cas ou `smooth_idf = True` $$\\mathrm{idf}(t) = 1+ \\log \\left( \\frac{1+N}{1+\\mathrm{df}(t)}\\right)   $$"
   ],
   "metadata": {}
  },
  {
   "cell_type": "markdown",
   "source": [
    "<hr>\n",
    "<div class=\"alert alert-info\" role=\"alert\">\n",
    "    <p><b>📝 Exercice :</b> Calculer les pondérations idf du corpus exemple. En déduire la représentation Tf-Idf du premier document.</p>\n",
    "</div>\n",
    "<hr>\n"
   ],
   "metadata": {
    "colab_type": "text",
    "id": "C5T3WeKTjnr9"
   }
  },
  {
   "cell_type": "code",
   "execution_count": null,
   "source": [
    "def idf(corpus, vocabulary):\n",
    "  # TODO compléter la fonction de calcul des pondérations idfs.\n",
    "  return idf\n",
    "\n",
    "idfs = idf(corpus, vocabulary)\n",
    "print(idfs)"
   ],
   "outputs": [],
   "metadata": {}
  },
  {
   "cell_type": "code",
   "execution_count": null,
   "source": [
    "def tf_idf(document, vocabulary, idfs):\n",
    "    tf_ = tf(document, vocabulary)\n",
    "    return np.multiply(tf_, idfs)\n",
    "\n",
    "tf_idf(document_1, vocabulary, idfs)"
   ],
   "outputs": [],
   "metadata": {}
  },
  {
   "cell_type": "code",
   "execution_count": null,
   "source": [
    "# On peut également utiliser la librairie sklearn pour comparer.\n",
    "\n",
    "tfidf_vec = TfidfVectorizer(tokenizer=dummy, preprocessor=dummy, vocabulary=vocabulary,\n",
    "                            token_pattern=None, smooth_idf=False, norm=None)\n",
    "tfidf_vec.fit(corpus)\n",
    "tfidf_vec.transform([document_1]).toarray()"
   ],
   "outputs": [],
   "metadata": {}
  },
  {
   "cell_type": "markdown",
   "source": [
    "<hr>\n",
    "<div class=\"alert alert-info\" role=\"alert\">\n",
    "    <p><b>📝 Exercice :</b> Modifier la configuration de la classe <b>TfidfVectorizer</b> pour retrouver la représentation obtenue avec la classe <b>CountVectorizer</b>.</p>\n",
    "</div>\n",
    "<hr>\n"
   ],
   "metadata": {}
  },
  {
   "cell_type": "code",
   "execution_count": null,
   "source": [
    "# %load solutions/count_with_tfidf.py\n",
    "# solution\n",
    "tfidf_vec = TfidfVectorizer()\n",
    "tfidf_vec.fit(corpus)\n",
    "tfidf_vec.transform(corpus).toarray()"
   ],
   "outputs": [],
   "metadata": {
    "colab": {},
    "colab_type": "code",
    "id": "12k4SwXyjnsB",
    "outputId": "81c6024c-a64b-4c43-8fa7-46d1b6854f49"
   }
  },
  {
   "cell_type": "markdown",
   "source": [
    "<b>Les paramètres du Tf-Idf : Sélection de features</b>\n",
    "\n",
    "L'ensemble des documents du corpus peuvent contenir un très grand nombre de tokens distincts ainsi que de ngrams et de caractères. Ainsi la représentation obtenur peut être de très grande dimension. Pourtant l'ensemble des tokens (features) ne contribuent pas tous à augmenter la précision des algorithmes de classifications. \n",
    "\n",
    "Nous pouvons donc ne pas tenir compte de certains tokens. Pour cela il est possible de jouer sur de nombreux paramètres du Tf-Idf. On considère généralement que 20,000 features sont amplement suffisants. De plus un très grand nombre de features peut conduire à un phénomène d'overfitting et à une dégradation des performances de l'algorithme."
   ],
   "metadata": {
    "colab_type": "text",
    "id": "ztkoNvlsjnsC"
   }
  },
  {
   "cell_type": "markdown",
   "source": [
    "> **Paramètre `analyzer`** Prend en argument ‘word’ pour effectuer la transformation sur les mots, ou ‘char’ pour effectuer la transformation sur les lettres."
   ],
   "metadata": {
    "colab_type": "text",
    "id": "dnJdapeWjnsC"
   }
  },
  {
   "cell_type": "code",
   "execution_count": null,
   "source": [
    "vec = TfidfVectorizer(analyzer=\"word\")\n",
    "X = vec.fit_transform(X_train_df['reviews'])\n",
    "print(\"Taille du vocabulaire: {:,}\".format(len(vec.vocabulary_)))"
   ],
   "outputs": [],
   "metadata": {
    "colab": {},
    "colab_type": "code",
    "id": "M960F08HjnsC",
    "outputId": "5fc309bb-507a-4f6e-e31c-1559c67c7a80"
   }
  },
  {
   "cell_type": "code",
   "execution_count": null,
   "source": [
    "vec = TfidfVectorizer(analyzer=\"char\")\n",
    "X = vec.fit_transform(X_train_df['reviews'])\n",
    "print(\"Taille du vocabulaire: {:,}\".format(len(vec.vocabulary_)))\n",
    "print(vec.vocabulary_)"
   ],
   "outputs": [],
   "metadata": {
    "colab": {},
    "colab_type": "code",
    "id": "N9eAYct9jnsD",
    "outputId": "90b84df5-5f1d-4ad1-953b-f747950cb3cb"
   }
  },
  {
   "cell_type": "markdown",
   "source": [
    "> **Paramètres `max_df` et `min_df`** Prend en argument un float compris dans [0.0, 1.0] ou un int. max_df permet de supprimer les termes de fréquence élevée et min_df permet de supprimer les termes de fréquence faible."
   ],
   "metadata": {
    "colab_type": "text",
    "id": "qH4P_0L7jnsE"
   }
  },
  {
   "cell_type": "code",
   "execution_count": null,
   "source": [
    "vec = TfidfVectorizer(max_df=0.8) # min_df=5\n",
    "X = vec.fit_transform(X_train_df['reviews'])\n",
    "print(\"Taille du vocabulaire: {:,}\".format(len(vec.vocabulary_)))"
   ],
   "outputs": [],
   "metadata": {
    "colab": {},
    "colab_type": "code",
    "id": "VaeLpHCkjnsE",
    "outputId": "04ec50f8-6b45-4238-bc7a-8894e129c7db"
   }
  },
  {
   "cell_type": "markdown",
   "source": [
    "> **Paramètre `max_features`** Permet de limiter le nombre de mots utilisés."
   ],
   "metadata": {
    "colab_type": "text",
    "id": "IP-cfM6CjnsI"
   }
  },
  {
   "cell_type": "code",
   "execution_count": null,
   "source": [
    "vec = TfidfVectorizer(max_features=10000)\n",
    "X = vec.fit_transform(X_train_df['reviews'])\n",
    "print(\"Taille du vocabulaire: {:,}\".format(len(vec.vocabulary_)))"
   ],
   "outputs": [],
   "metadata": {
    "colab": {},
    "colab_type": "code",
    "id": "8YqrWI8ljnsJ",
    "outputId": "edc915f1-0a51-488e-b1e8-bc0c284d0f27"
   }
  },
  {
   "cell_type": "markdown",
   "source": [
    "> **Paramètre `stop_words`** Permet de supprimer certains mots spécifiques du vocabulaire."
   ],
   "metadata": {
    "colab_type": "text",
    "id": "uXgiqipVjnsM"
   }
  },
  {
   "cell_type": "code",
   "execution_count": null,
   "source": [
    "print(STOP_WORDS)"
   ],
   "outputs": [],
   "metadata": {
    "colab": {},
    "colab_type": "code",
    "id": "AHA15TI1jnsM",
    "outputId": "80984ff1-f09c-4462-c7bc-7bd5674c901c"
   }
  },
  {
   "cell_type": "code",
   "execution_count": null,
   "source": [
    "vec = TfidfVectorizer(stop_words=STOP_WORDS)\n",
    "X = vec.fit_transform(X_train_df['reviews'])\n",
    "print(\"Taille du vocabulaire: {:,}\".format(len(vec.vocabulary_)))"
   ],
   "outputs": [],
   "metadata": {
    "colab": {},
    "colab_type": "code",
    "id": "GlQv-eJtjnsN",
    "outputId": "0f1eed25-4054-44c6-a7f4-c0940e674767"
   }
  },
  {
   "cell_type": "markdown",
   "source": [
    "> **Paramètre `ngram_range`** Permet d'intégrer dans l'espace des features des suites de mots ou de caractères."
   ],
   "metadata": {
    "colab_type": "text",
    "id": "6FVwqAodjnsP"
   }
  },
  {
   "cell_type": "code",
   "execution_count": null,
   "source": [
    "vec = TfidfVectorizer(ngram_range = (1,2))\n",
    "X = vec.fit_transform(X_train_df['reviews'])\n",
    "print(\"Taille du vocabulaire: {:,}\".format(len(vec.vocabulary_)))"
   ],
   "outputs": [],
   "metadata": {
    "colab": {},
    "colab_type": "code",
    "id": "AU2WFpWgjnsP",
    "outputId": "e0b9cb58-1531-4ba8-bede-2a820e1521a6"
   }
  },
  {
   "cell_type": "markdown",
   "source": [
    "<div class=\"alert alert-info\" role=\"alert\">\n",
    "    <p><b>Exercice :</b> Supprimer les mots \"je\", \"le\" du dictionnaire de vocabulaire mais pas \"livres\" ou \"oeuvre\".</p>\n",
    "</div>    "
   ],
   "metadata": {
    "colab_type": "text",
    "id": "BSUdAZJ8jnsR"
   }
  },
  {
   "cell_type": "code",
   "execution_count": null,
   "source": [
    "# %load solutions/filter_tfidf_voc.py\n",
    "vec = CountVectorizer(max_features=10000)\n",
    "bag_of_word = vec.fit_transform(X_train_df['reviews'])\n",
    "\n",
    "sum_words = bag_of_word.sum(axis=0)\n",
    "word_freq = {word: sum_words[0, idx] for word, idx in vec.vocabulary_.items()}\n",
    "word_freq_sorted = [(word, sum_words[0, idx]) for word, idx in vec.vocabulary_.items()]\n",
    "word_freq_sorted = sorted(word_freq_sorted, key=lambda x: x[1], reverse=True)\n",
    "word_freq_sorted = [x[0] for x in word_freq_sorted]\n",
    "\n",
    "for word in ['je', 'le', 'livres', 'oeuvre']:\n",
    "    print(\"frequence d'occurence de \\'%s\\' : %i\" % (word, word_freq[word]))\n",
    "    print(\"top fréquence de \\'%s\\' : %i\" % (word, word_freq_sorted.index(word)))\n",
    "\n",
    "vec = TfidfVectorizer()\n",
    "vec.fit(X_train_df['reviews'])\n",
    "word_idf = {word: vec.idf_[idx] for word, idx in vec.vocabulary_.items()}\n",
    "\n",
    "for word in ['je', 'le', 'livres', 'oeuvre']:\n",
    "    print(\"idf de \\'%s\\' : %f\" % (word, word_idf[word]))\n",
    "\n",
    "vec = TfidfVectorizer(max_df=0.2)\n",
    "vec.fit(X_train_df['reviews'])\n",
    "word_idf = {word: vec.idf_[idx] for word, idx in vec.vocabulary_.items()}\n",
    "\n",
    "for word in ['je', 'le', 'livres', 'oeuvre']:\n",
    "    print(\"%s in voc :\" % word, word in word_idf)"
   ],
   "outputs": [],
   "metadata": {
    "colab": {},
    "colab_type": "code",
    "id": "omFx7_tojnsR",
    "outputId": "0836dcc2-f75e-4003-c446-2d74d3d4b9e3"
   }
  },
  {
   "cell_type": "code",
   "execution_count": null,
   "source": [
    "vectorizer = TfidfVectorizer(max_features=5000,\n",
    "                             max_df=0.8,\n",
    "                             min_df=5,\n",
    "                              # ngram_range=(1, 3),\n",
    "                             tokenizer=lambda x: x,\n",
    "                             lowercase=False)"
   ],
   "outputs": [],
   "metadata": {}
  },
  {
   "cell_type": "code",
   "execution_count": null,
   "source": [
    "X_train_tfidf = vectorizer.fit_transform(X_train_df['tokens'])\n",
    "X_valid_tfidf = vectorizer.transform(X_valid_df['tokens'])"
   ],
   "outputs": [],
   "metadata": {}
  },
  {
   "cell_type": "code",
   "execution_count": null,
   "source": [
    "print(vectorizer.get_feature_names())"
   ],
   "outputs": [],
   "metadata": {
    "scrolled": true
   }
  },
  {
   "cell_type": "code",
   "execution_count": null,
   "source": [
    "X_tfidf_arr = X_train_tfidf.toarray()\n",
    "voc_tfidf = vectorizer.get_feature_names()"
   ],
   "outputs": [],
   "metadata": {}
  },
  {
   "cell_type": "code",
   "execution_count": null,
   "source": [
    "vectorizer = CountVectorizer(max_features=5000,\n",
    "                             ngram_range=(1, 3),\n",
    "                             tokenizer=lambda x: x,\n",
    "                             lowercase=False)\n",
    "\n",
    "X_train_counter = vectorizer.fit_transform(X_train_df['tokens'])\n",
    "X_valid_counter = vectorizer.transform(X_valid_df['tokens'])\n",
    "\n",
    "X_counter_arr = X_train_counter.toarray()\n",
    "voc_counter = vectorizer.get_feature_names()"
   ],
   "outputs": [],
   "metadata": {}
  },
  {
   "cell_type": "code",
   "execution_count": null,
   "source": [
    "# Visualisation des poids en fonction de la fréquence\n",
    "\n",
    "idx = np.random.randint(len(X_counter_arr))\n",
    "\n",
    "tokens = X_train_df.loc[idx, 'tokens']\n",
    "token_idx = [voc_counter.index(t) if t in voc_counter else -1 for t in tokens]\n",
    "\n",
    "counter_weights = [X_counter_arr[idx, t] if t >=0 else 0 for t in token_idx]\n",
    "\n",
    "print_(' '.join(color(tokens, counter_weights, finish_hex=\"#970137\", n=10)))"
   ],
   "outputs": [],
   "metadata": {}
  },
  {
   "cell_type": "code",
   "execution_count": null,
   "source": [
    "# Visualisation des poids TF-IDF\n",
    "\n",
    "tokens = X_train_df.loc[idx, 'tokens']\n",
    "token_idx = [voc_tfidf.index(t) if t in voc_tfidf else -1 for t in tokens]\n",
    "\n",
    "tfidf_weights = [X_tfidf_arr[idx, t] if t >=0 else 0 for t in token_idx]\n",
    "\n",
    "print_(' '.join(color(tokens, tfidf_weights, finish_hex=\"#970137\", n=10)))"
   ],
   "outputs": [],
   "metadata": {}
  },
  {
   "cell_type": "markdown",
   "source": [
    "### 1.5 Model"
   ],
   "metadata": {}
  },
  {
   "cell_type": "markdown",
   "source": [
    "<img src=\"https://monkeylearn.com/static/afa7e0536886ee7152dfa4c628fe59f0/5040b/text_process_prediction.png\" width=\"500\">\n"
   ],
   "metadata": {}
  },
  {
   "cell_type": "code",
   "execution_count": null,
   "source": [
    "from sklearn.ensemble import RandomForestClassifier\n",
    "from sklearn.linear_model import LogisticRegression"
   ],
   "outputs": [],
   "metadata": {}
  },
  {
   "cell_type": "code",
   "execution_count": null,
   "source": [
    "# Instanciate classifier\n",
    "\n",
    "clf = LogisticRegression(\n",
    "    random_state=0, \n",
    "    solver='lbfgs',\n",
    "    multi_class='ovr',\n",
    "    penalty='l2',\n",
    "    C=1.0,\n",
    "    n_jobs=2\n",
    ")"
   ],
   "outputs": [],
   "metadata": {}
  },
  {
   "cell_type": "code",
   "execution_count": null,
   "source": [
    "# Train classifier\n",
    "\n",
    "clf.fit(X_train_tfidf, y_train)"
   ],
   "outputs": [],
   "metadata": {}
  },
  {
   "cell_type": "markdown",
   "source": [
    "### 1.6 Choix de la métrique de performance"
   ],
   "metadata": {}
  },
  {
   "cell_type": "markdown",
   "source": [
    "Pour évaluer les performances d'un classificateur 3 indicateurs son généralement étudiés :\n",
    "\n",
    "* Le **score de précision** : le taux de prédictions corrects parmis les individus prédits comme positifs.\n",
    "* Le **score de rappel** : le taux d'individus positifs correctement prédits.\n",
    "* Le **score F1** : moyenne harmonique des scors de précision et de rappel.\n",
    "* La **matrice de confusion** permet de représenter le manière simple le nombre de vrais positifs, faux positifs, vrais négatifs et faux négatifs."
   ],
   "metadata": {}
  },
  {
   "cell_type": "code",
   "execution_count": null,
   "source": [
    "from sklearn.metrics import confusion_matrix\n",
    "from sklearn.metrics import f1_score\n",
    "from sklearn.metrics import precision_score\n",
    "from sklearn.metrics import recall_score"
   ],
   "outputs": [],
   "metadata": {}
  },
  {
   "cell_type": "code",
   "execution_count": null,
   "source": [
    "# Metric de performance train et test\n",
    "\n",
    "# Compare train and validation score to check overfitting\n",
    "# Use the validation set to do the hyper-parameter tuning\n",
    "f1_train = f1_score(y_train, clf.predict(X_train_tfidf), average='macro')\n",
    "f1_validation = f1_score(y_valid, clf.predict(X_valid_tfidf), average='macro')\n",
    "\n",
    "print(f\"Score on the train set : {'%.2f' %f1_train}\")\n",
    "print(f\"Score on the validation set : {'%.2f' %f1_validation}\")"
   ],
   "outputs": [],
   "metadata": {}
  },
  {
   "cell_type": "code",
   "execution_count": null,
   "source": [
    "# Matrice de confusion\n",
    "\n",
    "def plot_confusion_matrix(cm, classes,\n",
    "                          normalize=False,\n",
    "                          title='Confusion matrix',\n",
    "                          cmap=plt.cm.Blues):\n",
    "    \"\"\"\n",
    "    This function prints and plots the confusion matrix.\n",
    "    Normalization can be applied by setting `normalize=True`.\n",
    "    \"\"\"\n",
    "    if normalize:\n",
    "        cm = cm.astype('float') / cm.sum(axis=1)[:, np.newaxis]\n",
    "        print(\"Normalized confusion matrix\")\n",
    "    else:\n",
    "        print('Confusion matrix, without normalization')\n",
    "\n",
    "    print(cm)\n",
    "\n",
    "    plt.imshow(cm, interpolation='nearest', cmap=cmap)\n",
    "    plt.title(title)\n",
    "    plt.colorbar()\n",
    "    tick_marks = np.arange(len(classes))\n",
    "    plt.xticks(tick_marks, classes, rotation=45)\n",
    "    plt.yticks(tick_marks, classes)\n",
    "\n",
    "    fmt = '.2f' if normalize else 'd'\n",
    "    thresh = cm.max() / 2.\n",
    "    for i, j in itertools.product(range(cm.shape[0]), range(cm.shape[1])):\n",
    "        plt.text(j, i, format(cm[i, j], fmt),\n",
    "                 horizontalalignment=\"center\",\n",
    "                 color=\"white\" if cm[i, j] > thresh else \"black\")\n",
    "\n",
    "    plt.tight_layout()\n",
    "    plt.ylabel('True label')\n",
    "    plt.xlabel('Predicted label')"
   ],
   "outputs": [],
   "metadata": {}
  },
  {
   "cell_type": "code",
   "execution_count": null,
   "source": [
    "np.set_printoptions(precision=2)\n",
    "plt.figure()\n",
    "plot_confusion_matrix(confusion_matrix(y_valid, clf.predict(X_valid_tfidf)), \n",
    "                      classes=class_names, \n",
    "                      title='Confusion matrix, without normalization')\n",
    "plt.show()\n"
   ],
   "outputs": [],
   "metadata": {}
  },
  {
   "cell_type": "code",
   "execution_count": null,
   "source": [
    "y_logreg_pred = clf.predict(X_valid_tfidf)\n",
    "\n",
    "print(\"Matrice de confusion de la régression logistique : \")\n",
    "print(confusion_matrix(y_valid, y_logreg_pred))\n",
    "print(\"Score de précision de la régression logisitique : \"+str(round(precision_score(y_valid, y_logreg_pred)*100,2)))\n",
    "print(\"Score de rappel de la régression logisitique : \"+str(round(recall_score(y_valid, y_logreg_pred)*100,2)))\n",
    "print(\"Score F1 de la régression logisitique : \"+str(round(f1_score(y_valid, y_logreg_pred)*100,2)))"
   ],
   "outputs": [],
   "metadata": {}
  },
  {
   "cell_type": "markdown",
   "source": [
    "<b>Comparaison des modèles : Naive Bayes, SVM, régression logistique, algorithme de boosting</b>\n",
    "\n",
    "\n",
    "Maintenant que les étapes classiques de résolution d'un problème de classification ont été abordés nous sommes armés pour comparer différents modèles de transformation des variables et de classification à l'aune de leurs performances."
   ],
   "metadata": {}
  },
  {
   "cell_type": "markdown",
   "source": [
    "<hr>\n",
    "<div class=\"alert alert-info\" role=\"alert\">\n",
    "    <p><b>📝 Exercice (BONUS) :</b> Comparer le modèle de regression logistique avec un modèle de forêt aléatoire.</p>\n",
    "</div>\n",
    "<hr>"
   ],
   "metadata": {}
  },
  {
   "cell_type": "code",
   "execution_count": null,
   "source": [],
   "outputs": [],
   "metadata": {}
  },
  {
   "cell_type": "markdown",
   "source": [
    "<hr>\n",
    "<div class=\"alert alert-info\" role=\"alert\">\n",
    "    <p><b>📝 Exercice :</b> Evaluer l'impact de la taille du vocabulaire du tf-idf sur la précision du modèle.</p>\n",
    "</div>\n",
    "<hr>"
   ],
   "metadata": {}
  },
  {
   "cell_type": "code",
   "execution_count": null,
   "source": [],
   "outputs": [],
   "metadata": {}
  },
  {
   "cell_type": "markdown",
   "source": [
    "<hr>\n",
    "<div class=\"alert alert-info\" role=\"alert\">\n",
    "    <p><b>📝 Exercice (BONUS) :</b> Optimiser les paramètres du modèle pour obtenir un F1-score supérieure à 0.85 sur le jeu de dev. On pourra comparer faire varier plusieurs caractéristiques comme l'impact du pre-processing, le Stemming, Lemmatization ou encore Choix du vectorizer, count vs Tf-Idf ou le modèle.</p>\n",
    "</div>\n",
    "<hr>\n"
   ],
   "metadata": {}
  },
  {
   "cell_type": "code",
   "execution_count": null,
   "source": [],
   "outputs": [],
   "metadata": {}
  },
  {
   "cell_type": "markdown",
   "source": [
    "### 1.7 Choix des hyper-paramètres"
   ],
   "metadata": {}
  },
  {
   "cell_type": "markdown",
   "source": [
    "Dans la section précédente, on a cherché les hyper-paramètres à la main. Il est également possible de mettre en place une procédure de recherche automatique d'hyper-paramtètres."
   ],
   "metadata": {}
  },
  {
   "cell_type": "code",
   "execution_count": null,
   "source": [
    "from sklearn.model_selection import GridSearchCV\n",
    "from sklearn.base import BaseEstimator, TransformerMixin\n",
    "from sklearn.pipeline import Pipeline\n",
    "from sklearn.model_selection import StratifiedKFold\n",
    "from sklearn import svm"
   ],
   "outputs": [],
   "metadata": {}
  },
  {
   "cell_type": "code",
   "execution_count": null,
   "source": [
    "# Creation du pipeline Sklearn"
   ],
   "outputs": [],
   "metadata": {}
  },
  {
   "cell_type": "code",
   "execution_count": null,
   "source": [
    "class TextCleaner(BaseEstimator, TransformerMixin):\n",
    "    \n",
    "    def __init__(self, do_lower=False, remove_accents=True):\n",
    "        self.do_lower = do_lower\n",
    "        self.remove_accents = remove_accents\n",
    "    \n",
    "    def _normalize(self, text):\n",
    "        return unidecode.unidecode(text)\n",
    "    \n",
    "    def fit(self, X, y=None): \n",
    "        return self\n",
    "    \n",
    "    def transform(self, X, y=None):\n",
    "        if isinstance(X, pd.DataFrame):\n",
    "            X = X.copy()\n",
    "            if self.remove_accents:\n",
    "                X['reviews'] = X['reviews'].apply(self._normalize)        \n",
    "        else:\n",
    "            if not isinstance(X, list):\n",
    "                X = [X] \n",
    "            if self.remove_accents:\n",
    "                X = [self._normalize(x) for x in X]\n",
    "\n",
    "        return X"
   ],
   "outputs": [],
   "metadata": {}
  },
  {
   "cell_type": "code",
   "execution_count": null,
   "source": [
    "class Tokenizer(BaseEstimator, TransformerMixin):\n",
    "\n",
    "    def __init__(self, tokenizer_pattern=r\"(?:[a-zA-ZÀ-ÖØ-ö0-9])+'?\",\n",
    "                 do_lemmatization=False,\n",
    "                 do_stemmatization=False):\n",
    "\n",
    "        # self.token_pattern = re.compile(tokenizer_pattern)\n",
    "        self.do_stemmatization = do_stemmatization\n",
    "        self.do_lemmatization = do_lemmatization\n",
    "        if self.do_stemmatization:\n",
    "            self.stemmer = FrenchStemmer()\n",
    "\n",
    "        if self.do_lemmatization:\n",
    "            self.nlp = spacy.load('fr_core_news_md')\n",
    "            self.nlp.tokenizer = self.custom_tokenizer\n",
    "\n",
    "    def _custom_tokenizer(self, text):\n",
    "        tokens = self._tokenize(text)\n",
    "        return Doc(nlp.vocab, tokens)\n",
    "\n",
    "    def _lemmatize(self, text):\n",
    "        doc = self.nlp(X_train_df.loc[0, 'reviews'])\n",
    "        return [token.lemma_ for token in doc]\n",
    "\n",
    "    def _stemmatize(self, tokens):\n",
    "        return [self.stemmer.stem(t) for t in tokens]\n",
    "\n",
    "    def _tokenize(self, text):\n",
    "        tokens = re.findall(r\"(?:[a-zA-ZÀ-ÖØ-ö0-9])+'?\", text)  # self.token_pattern\n",
    "        tokens = [t for t in tokens]\n",
    "        return tokens\n",
    "\n",
    "    def fit(self, X, y=None):\n",
    "        return self\n",
    "\n",
    "    def transform(self, X, y=None):\n",
    "        if isinstance(X, pd.DataFrame):\n",
    "            X = X.copy()\n",
    "        else:\n",
    "            if not isinstance(X, list):\n",
    "                X = [X]\n",
    "\n",
    "        if self.do_lemmatization:\n",
    "            if isinstance(X, pd.DataFrame):\n",
    "                X[\"tokens\"] = X[\"reviews\"].apply(self._lemmatize)\n",
    "            else:\n",
    "                tokens = [self._lemmatize(x) for x in X]\n",
    "        else:\n",
    "            if isinstance(X, pd.DataFrame):\n",
    "                X[\"tokens\"] = X[\"reviews\"].apply(self._tokenize)\n",
    "            else:\n",
    "                tokens = [self._tokenize(x) for x in X]\n",
    "        if self.do_stemmatization:\n",
    "            if isinstance(X, pd.DataFrame):\n",
    "                X[\"tokens\"] = X[\"tokens\"].apply(self._stemmatize)\n",
    "            else:\n",
    "                tokens = [self._stemmatize(x) for x in X]\n",
    "        if isinstance(X, pd.DataFrame):\n",
    "            return X[\"tokens\"]\n",
    "        else:\n",
    "            return tokens"
   ],
   "outputs": [],
   "metadata": {}
  },
  {
   "cell_type": "code",
   "execution_count": null,
   "source": [
    "# Instanciate classes and create Pipeline\n",
    "\n",
    "cleaner = TextCleaner()\n",
    "tokenizer = Tokenizer(do_stemmatization=True)\n",
    "feature_engineering = TfidfVectorizer(max_features=2000,\n",
    "                             max_df=0.8,\n",
    "                             min_df=5,\n",
    "                             # ngram_range=(1, 3),\n",
    "                             tokenizer=lambda x: x,\n",
    "                             lowercase=False)\n",
    "clf = LogisticRegression(\n",
    "    random_state=0, \n",
    "    solver='lbfgs',\n",
    "    multi_class='ovr',\n",
    "    penalty='l2',\n",
    "    C=10,\n",
    "    n_jobs=2\n",
    ")\n",
    "\n",
    "pipeline = Pipeline([('cleaning', cleaner), \n",
    "                     ('tokenization', tokenizer), \n",
    "                     ('vect', feature_engineering),\n",
    "                     ('clf', clf)])"
   ],
   "outputs": [],
   "metadata": {}
  },
  {
   "cell_type": "code",
   "execution_count": null,
   "source": [
    "# Fit\n",
    "pipeline.fit(X_train_df, y_train)\n",
    "pipeline.score(X_valid_df, y_valid)"
   ],
   "outputs": [],
   "metadata": {}
  },
  {
   "cell_type": "code",
   "execution_count": null,
   "source": [
    "# Mise en place de la Procédure de Cross Validation\n",
    "kfold = StratifiedKFold(n_splits=10, shuffle=True, random_state=42)\n",
    "\n",
    "param_grid = {\"vect__max_df\" : [0.95,1.0],\n",
    "              \"vect__min_df\" : [1,5],\n",
    "              \"vect__max_features\" : [1000, 2000],\n",
    "              \"vect__ngram_range\" : [(1,1)],\n",
    "              \"clf__penalty\" : ['l2'],\n",
    "              \"clf__C\" : [0.1, 1.0, 10]\n",
    "              }\n",
    "\n",
    "grid_search = GridSearchCV(pipeline, param_grid, scoring='accuracy', cv=kfold, verbose=2)\n",
    "\n",
    "print(\"Performing grid search...\")\n",
    "print(\"pipeline:\", [name for name, _ in pipeline.steps])\n",
    "print(\"parameters:\")\n",
    "pprint(param_grid)\n",
    "t0 = time()\n",
    "grid_search.fit(X_train_df, y_train)\n",
    "print(\"done in %0.3fs\" % (time() - t0))\n",
    "print()\n",
    "\n",
    "print(\"Best score: %0.3f\" % grid_search.best_score_)\n",
    "print(\"Best parameters set:\")\n",
    "best_parameters = grid_search.best_estimator_.get_params()\n",
    "for param_name in sorted(parameters.keys()):\n",
    "    print(\"\\t%s: %r\" % (param_name, best_parameters[param_name]))"
   ],
   "outputs": [],
   "metadata": {
    "scrolled": true
   }
  },
  {
   "cell_type": "markdown",
   "source": [
    "### 1.8 Analyse des résultats"
   ],
   "metadata": {}
  },
  {
   "cell_type": "markdown",
   "source": [
    "Lime <span class=\"badge badge-secondary\">(Túlio Ribeiro et al., 2016)</span> est une méthode d'analyse des modèles qui cherche à expliciter sur quelles caractéristiques de l'échantillon en entrée, l'algorithme s'est appuyé pour formuler sa prédiction.\n",
    "\n",
    "Pour cela LIME propose de générer plusieurs échantillons proches de l'exemple d'entrée et d'apprendre un modèle linéaire qui cherche à approcher les prédictions du modèles que l'on cherche à étudier sur ce jeu de données. Par exemple pour la phrase :\n",
    "\n",
    "> Un livre émouvant mais aussi très drôle, magnifiquement écrit, à mettre entre toutes les mains sans hésitation. Si vous avez un enfant qui aime lire il pourrait l'aprécier à partir de 8 ans, je pense. Et si vous avez gardé l'envie de vous émerveiller il vous plairat jusqu'à 99 ans.\n",
    "\n",
    "\n",
    "On va générer 5000 phrases en perturbant l'exemple original, comme par exemple :\n",
    "\n",
    "> Un livre    très ,  ,        .           '     , je .      '      plairat ' 99 .\n",
    "\n",
    "> Un livre émouvant  aussi très ,  , à mettre entre toutes les mains sans hésitation.  vous avez un enfant qui aime  il pourrait l'aprécier à  de 8 ans,  . Et si vous avez gardé l'envie de vous  il vous  jusqu'à 99 ans.\n",
    "\n",
    "On identifie ensuite les points du jeu de données pour lesquels on n'arrive pas à reproduire les prédictions du modèles. Ces derniers sont identifiés comme des points \"saillants\".\n",
    "\n",
    "Quelques ressources :\n",
    "* Un bon post de [blog](https://www.oreilly.com/content/introduction-to-local-interpretable-model-agnostic-explanations-lime/) pour expliquer LIME.\n",
    "* Le [github](https://github.com/marcotcr/lime) du projet\n",
    "\n",
    "<span class=\"badge badge-secondary\">(Túlio Ribeiro et al., 2016)</span>Marco Túlio Ribeiro, Sameer Singh, Carlos Guestrin: \"Why Should I Trust You?\": Explaining the Predictions of Any Classifier. KDD 2016: 1135-1144"
   ],
   "metadata": {}
  },
  {
   "cell_type": "code",
   "execution_count": null,
   "source": [
    "from lime.lime_text import LimeTextExplainer"
   ],
   "outputs": [],
   "metadata": {}
  },
  {
   "cell_type": "code",
   "execution_count": null,
   "source": [
    "# Utilisation module intelligibilité\n",
    "\n",
    "# Instanciate classes and create Pipeline\n",
    "cleaner = TextCleaner()\n",
    "tokenizer = Tokenizer()\n",
    "feature_engineering = TfidfVectorizer(max_features=5000,\n",
    "                             max_df=0.8,\n",
    "                             min_df=5,\n",
    "                              # ngram_range=(1, 3),\n",
    "                             tokenizer=lambda x: x,\n",
    "                             lowercase=False)\n",
    "clf = RandomForestClassifier(n_estimators=100)\n",
    "\n",
    "pipeline = Pipeline([('cleaning', cleaner), \n",
    "                     ('tokenization', tokenizer), \n",
    "                     ('vect', feature_engineering),\n",
    "                     ('clf', clf)])\n",
    "\n",
    "pipeline.fit(X_train_df, y_train)"
   ],
   "outputs": [],
   "metadata": {}
  },
  {
   "cell_type": "code",
   "execution_count": null,
   "source": [
    "print(pipeline.predict_proba(X_valid_df.loc[83, 'reviews']))\n"
   ],
   "outputs": [],
   "metadata": {}
  },
  {
   "cell_type": "code",
   "execution_count": null,
   "source": [
    "class_names = ['negatif', 'positif']\n",
    "\n",
    "explainer = LimeTextExplainer(class_names=class_names)"
   ],
   "outputs": [],
   "metadata": {}
  },
  {
   "cell_type": "code",
   "execution_count": null,
   "source": [
    "# cf expl 139"
   ],
   "outputs": [],
   "metadata": {}
  },
  {
   "cell_type": "code",
   "execution_count": null,
   "source": [
    "idx = 139\n",
    "# np.random.randint(X_valid_df.shape[0])\n",
    "print(idx, X_valid_df.loc[idx, 'reviews'])\n",
    "exp = explainer.explain_instance(X_valid_df.loc[idx, 'reviews'], pipeline.predict_proba, num_features=6)\n",
    "print('Document id: %d' % idx)\n",
    "print('Probability(positif) =', pipeline.predict_proba([X_valid_df.loc[idx, 'reviews']])[0,1])\n",
    "print('True class: %s' % class_names[y_valid[idx]])"
   ],
   "outputs": [],
   "metadata": {}
  },
  {
   "cell_type": "code",
   "execution_count": null,
   "source": [
    "exp.as_list()"
   ],
   "outputs": [],
   "metadata": {}
  },
  {
   "cell_type": "code",
   "execution_count": null,
   "source": [
    "exp.show_in_notebook(text=True)"
   ],
   "outputs": [],
   "metadata": {}
  },
  {
   "cell_type": "markdown",
   "source": [
    "### 1.9 Visualisation"
   ],
   "metadata": {}
  },
  {
   "cell_type": "code",
   "execution_count": null,
   "source": [
    "# !pip install umap-learn[plot]\n",
    "import umap\n",
    "import umap.plot"
   ],
   "outputs": [],
   "metadata": {}
  },
  {
   "cell_type": "markdown",
   "source": [
    "UMAP est un algorithme de réduction des dimensions. De manière intutive, l'algorithme projete les représentations dans un espace de plus faible dimension en s'efforcant de respecter les distances entre les points entre l'espace de départ et d'arrivée. L'objectif est assez similaire à l'algorithme t-SNE. Il permet de visualiser facilement les données"
   ],
   "metadata": {}
  },
  {
   "cell_type": "code",
   "execution_count": null,
   "source": [
    "%%time\n",
    "# Projection des représentations avec UMAP\n",
    "# https://umap-learn.readthedocs.io/en/latest/document_embedding.html\n",
    "\n",
    "embedding = umap.UMAP(n_components=2, metric='hellinger').fit(X_train_tfidf)"
   ],
   "outputs": [],
   "metadata": {}
  },
  {
   "cell_type": "code",
   "execution_count": null,
   "source": [
    "embedding.embedding_.shape"
   ],
   "outputs": [],
   "metadata": {}
  },
  {
   "cell_type": "code",
   "execution_count": null,
   "source": [
    "f = umap.plot.points(embedding, labels=np.array(y_train))"
   ],
   "outputs": [],
   "metadata": {}
  },
  {
   "cell_type": "code",
   "execution_count": null,
   "source": [],
   "outputs": [],
   "metadata": {}
  }
 ],
 "metadata": {
  "kernelspec": {
   "display_name": "Python 3",
   "language": "python",
   "name": "python3"
  },
  "language_info": {
   "codemirror_mode": {
    "name": "ipython",
    "version": 3
   },
   "file_extension": ".py",
   "mimetype": "text/x-python",
   "name": "python",
   "nbconvert_exporter": "python",
   "pygments_lexer": "ipython3",
   "version": "3.6.12"
  }
 },
 "nbformat": 4,
 "nbformat_minor": 4
}