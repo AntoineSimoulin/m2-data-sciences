{
 "cells": [
  {
   "cell_type": "markdown",
   "metadata": {},
   "source": [
    "## Copyright 2021 Antoine SIMOULIN.\n",
    "\n",
    "<i>Licensed under the Apache License, Version 2.0 (the \"License\");\n",
    "you may not use this file except in compliance with the License.\n",
    "You may obtain a copy of the License at\n",
    "\n",
    "https://www.apache.org/licenses/LICENSE-2.0\n",
    "\n",
    "Unless required by applicable law or agreed to in writing, software\n",
    "distributed under the License is distributed on an \"AS IS\" BASIS,\n",
    "WITHOUT WARRANTIES OR CONDITIONS OF ANY KIND, either express or implied.\n",
    "See the License for the specific language governing permissions and\n",
    "limitations under the License.\n",
    "\n",
    "Icons made by <a href=\"https://www.flaticon.com/authors/freepik\" title=\"Freepik\">Freepik</a>, <a href=\"https://www.flaticon.com/authors/pixel-perfect\" title=\"Pixel perfect\">Pixel perfect</a>, <a href=\"https://www.flaticon.com/authors/becris\" title=\"Becris\">Becris</a>, <a href=\"https://www.flaticon.com/authors/smashicons\" title=\"Smashicons\">Smashicons</a>, <a href=\"https://www.flaticon.com/authors/srip\" title=\"srip\">srip</a>, <a href=\"https://www.flaticon.com/authors/adib-sulthon\" title=\"Adib\">Adib</a>, <a href=\"https://www.flaticon.com/authors/flat-icons\" title=\"Flat Icons\">Flat Icons</a> and <a href=\"https://www.flaticon.com/authors/dinosoftlabs\" title=\"Pixel perfect\">DinosoftLabs</a> from <a href=\"https://www.flaticon.com/\" title=\"Flaticon\"> www.flaticon.com</a></i>"
   ]
  },
  {
   "cell_type": "markdown",
   "metadata": {},
   "source": [
    "# TP 3 : Words Embeddings"
   ]
  },
  {
   "cell_type": "markdown",
   "metadata": {},
   "source": [
    "<img src=\"./tp3-header.png\" width=\"1000\">"
   ]
  },
  {
   "cell_type": "markdown",
   "metadata": {},
   "source": [
    "On va s'appuyer sur le corpus collecté par <span class=\"badge badge-secondary\">([Panckhurst et al., 2016](#panckhurst-2016))</span> qui rassemble 88,000 sms collectés dans la région de Montpellier. Le corpus a été dé-identifié (en particulier, les noms sont remplacés par [_forename_]). Pour chaque sms, on a identifié les Emojis dans le texte.\n",
    "\n",
    "Il y avait beaucoup de type d'Emojis. Dans le TP, ils ont été simplifiés selon le tableau suivant. Tous les Emojis de la colonne `Emoji list` ont été remplacé par l'emoji de la colonne `Generic`. Dans le TP les Emojis n'apparaissent pas dans le texte du sms car on cherche à les prédire.\n",
    "\n",
    "\n",
    "| Generic Emoji  | Emoji list                                                         |\n",
    "|:--------------:|:------------------------------------------------------------------:|\n",
    "| 😃             | '=P', ':)', ':P', '=)', ':p', ':d', ':-)', '=D', ':D', '^^'        |\n",
    "| 😲             | ':O', 'o_o', ':o', ':&'                                            | \n",
    "| 😔             | '\"-.-'''\", '<_>', '-_-', \"--'\", \"-.-'\", '-.-', \"-.-''\", \"-\\_-'\"    | \n",
    "| 😠             | ':/', ':-/', ':-(', ':(', ':-<'                                    | \n",
    "| 😆             | '>.<', '¤.¤', '<>','><', '*.*', 'xd', 'XD', 'xD', 'x)',';)', ';-)' | \n",
    "| 😍             | '</3', '<3'                                                        | \n",
    " \n",
    "\n",
    "Finalement pour le TP, on a filtré le jeu de données pour ne conserver que les sms contenant qu'un seul Emoji. On a par ailleurs <i>down samplé</i> les classes majoritaires pour limiter le déséquilibre du jeu de données. En effet les sms avec un smiley 😃 était largement sur-représentés.\n",
    "\n",
    "<b>L'objet du TP est de prédire l'émoji associé à chaque message. Pour cela on vectorisera le texte en utilisant les méthodes d'embeddings.</b>"
   ]
  },
  {
   "cell_type": "code",
   "execution_count": null,
   "metadata": {},
   "outputs": [],
   "source": [
    "%%capture\n",
    "\n",
    "# ⚠️ Execute only if running in Colab\n",
    "if 'google.colab' in str(get_ipython()):\n",
    "  IN_COLAB = True\n",
    "else:\n",
    "  IN_COLAB = False\n",
    "\n",
    "if IN_COLAB:\n",
    "  !pip install -q scikit-learn==0.23.2 matplotlib==3.1.3 pandas==1.1.3 gensim==3.8.1 torch==1.6.0 torchvision==0.7.0\n",
    "  # puis redémarer l'environnement d'éxécution"
   ]
  },
  {
   "cell_type": "code",
   "execution_count": 2,
   "metadata": {},
   "outputs": [],
   "source": [
    "from gensim.models import KeyedVectors\n",
    "\n",
    "from collections import Counter\n",
    "import numpy as np\n",
    "import pandas as pd\n",
    "import re\n",
    "\n",
    "from sklearn.base import BaseEstimator, TransformerMixin\n",
    "from sklearn.feature_extraction.text import TfidfVectorizer\n",
    "from sklearn.model_selection import train_test_split\n",
    "from sklearn.pipeline import Pipeline\n",
    "from sklearn.multiclass import OneVsRestClassifier\n",
    "from sklearn.svm import LinearSVC\n",
    "from sklearn.svm import SVC\n",
    "from sklearn.ensemble import RandomForestClassifier\n",
    "from sklearn.linear_model import LogisticRegression\n",
    "\n",
    "from sklearn.metrics import accuracy_score, roc_auc_score\n",
    "\n",
    "import os, sys\n",
    "sys.path.append(os.path.abspath('../../m2-data-sciences/src'))\n",
    "\n",
    "# IPython automatically reload all changed code\n",
    "%load_ext autoreload\n",
    "%autoreload 2\n",
    "\n",
    "# Inline Figures with matplotlib\n",
    "%matplotlib inline\n",
    "%config InlineBackend.figure_format='retina'"
   ]
  },
  {
   "cell_type": "code",
   "execution_count": null,
   "metadata": {},
   "outputs": [],
   "source": [
    "# import extrenal modules\n",
    "import urllib.request\n",
    "\n",
    "repo_url = 'https://raw.githubusercontent.com/AntoineSimoulin/m2-data-sciences/master/'\n",
    "_ = urllib.request.urlretrieve(\n",
    "    repo_url + 'TP3%20-%20Word%20Embeddings/oscar.fr.300.10k.model', \n",
    "    'soscar.fr.300.10k.model')"
   ]
  },
  {
   "cell_type": "markdown",
   "metadata": {},
   "source": [
    "On va utiliser les embeddings déjà entrainé que nous avons manipulé au cours précédent. Pour limiter la taille du fichier d'embeddings, on a sauvegardé que les `10,000` mots les plus fréquents. <b>Vous devez récupérer le fichier d'embeddings aisni que le jeu de données directement sur le [Moodle](https://moodle.u-paris.fr/course/view.php?id=11048).</b>"
   ]
  },
  {
   "cell_type": "code",
   "execution_count": 3,
   "metadata": {},
   "outputs": [],
   "source": [
    "w2v_model = KeyedVectors.load_word2vec_format(\"oscar.fr.300.10k.model\")\n",
    "w2v_model.init_sims(replace=True)"
   ]
  },
  {
   "cell_type": "code",
   "execution_count": 4,
   "metadata": {},
   "outputs": [
    {
     "data": {
      "text/plain": [
       "10000"
      ]
     },
     "execution_count": 4,
     "metadata": {},
     "output_type": "execute_result"
    }
   ],
   "source": [
    "len(w2v_model.vocab)"
   ]
  },
  {
   "cell_type": "code",
   "execution_count": 5,
   "metadata": {},
   "outputs": [],
   "source": [
    "# On crée un array avec les 10,000 premiers mots et on crée le dictionaire de vocabulaire\n",
    "\n",
    "word_count = {k: w2v_model.vocab[k].count for k in w2v_model.vocab}\n",
    "word_count = Counter(word_count)\n",
    "word_count.most_common(10)\n",
    "\n",
    "idx2w = {i: w for (i, (w, f)) in enumerate(word_count.most_common(10000))}\n",
    "w2idx = {w: i for (i, (w, f)) in enumerate(word_count.most_common(10000))}\n",
    "\n",
    "\n",
    "embeddings_vectors = [w2v_model[w] for (w, f) in word_count.most_common(10000)]\n",
    "word2vec_embeddings = np.vstack(embeddings_vectors)"
   ]
  },
  {
   "cell_type": "code",
   "execution_count": 6,
   "metadata": {},
   "outputs": [
    {
     "data": {
      "text/plain": [
       "(10000, 300)"
      ]
     },
     "execution_count": 6,
     "metadata": {},
     "output_type": "execute_result"
    }
   ],
   "source": [
    "word2vec_embeddings.shape"
   ]
  },
  {
   "cell_type": "code",
   "execution_count": 7,
   "metadata": {},
   "outputs": [
    {
     "data": {
      "text/plain": [
       "3664"
      ]
     },
     "execution_count": 7,
     "metadata": {},
     "output_type": "execute_result"
    }
   ],
   "source": [
    "w2idx['Oh']"
   ]
  },
  {
   "cell_type": "code",
   "execution_count": 8,
   "metadata": {},
   "outputs": [
    {
     "data": {
      "text/plain": [
       "array([-0.0133751 , -0.16667102,  0.00242356, -0.01808304, -0.01267814,\n",
       "        0.05172095,  0.04931232, -0.06592007, -0.05656065,  0.03720263],\n",
       "      dtype=float32)"
      ]
     },
     "execution_count": 8,
     "metadata": {},
     "output_type": "execute_result"
    }
   ],
   "source": [
    "word2vec_embeddings[3664][:10]"
   ]
  },
  {
   "cell_type": "code",
   "execution_count": 9,
   "metadata": {},
   "outputs": [
    {
     "data": {
      "text/plain": [
       "array([-0.0133751 , -0.16667102,  0.00242356, -0.01808304, -0.01267814,\n",
       "        0.05172095,  0.04931232, -0.06592007, -0.05656065,  0.03720263],\n",
       "      dtype=float32)"
      ]
     },
     "execution_count": 9,
     "metadata": {},
     "output_type": "execute_result"
    }
   ],
   "source": [
    "w2v_model['Oh'][:10]"
   ]
  },
  {
   "cell_type": "code",
   "execution_count": 10,
   "metadata": {},
   "outputs": [],
   "source": [
    "dataset = pd.read_csv('emojis.csv')"
   ]
  },
  {
   "cell_type": "code",
   "execution_count": 11,
   "metadata": {},
   "outputs": [
    {
     "data": {
      "text/html": [
       "<div>\n",
       "<style scoped>\n",
       "    .dataframe tbody tr th:only-of-type {\n",
       "        vertical-align: middle;\n",
       "    }\n",
       "\n",
       "    .dataframe tbody tr th {\n",
       "        vertical-align: top;\n",
       "    }\n",
       "\n",
       "    .dataframe thead th {\n",
       "        text-align: right;\n",
       "    }\n",
       "</style>\n",
       "<table border=\"1\" class=\"dataframe\">\n",
       "  <thead>\n",
       "    <tr style=\"text-align: right;\">\n",
       "      <th></th>\n",
       "      <th>Unnamed: 0</th>\n",
       "      <th>Unnamed: 0.1</th>\n",
       "      <th>sms</th>\n",
       "      <th>happy</th>\n",
       "      <th>joke</th>\n",
       "      <th>astonished</th>\n",
       "      <th>angry</th>\n",
       "      <th>bored</th>\n",
       "      <th>heart</th>\n",
       "      <th>filter</th>\n",
       "      <th>tokens</th>\n",
       "    </tr>\n",
       "  </thead>\n",
       "  <tbody>\n",
       "    <tr>\n",
       "      <th>0</th>\n",
       "      <td>1</td>\n",
       "      <td>4</td>\n",
       "      <td>Oh trop mignon mon bbé jsuis au travaiiiil la</td>\n",
       "      <td>False</td>\n",
       "      <td>False</td>\n",
       "      <td>False</td>\n",
       "      <td>False</td>\n",
       "      <td>False</td>\n",
       "      <td>True</td>\n",
       "      <td>True</td>\n",
       "      <td>['Oh', 'trop', 'mignon', 'mon', 'bbé', 'jsuis'...</td>\n",
       "    </tr>\n",
       "    <tr>\n",
       "      <th>1</th>\n",
       "      <td>3</td>\n",
       "      <td>6</td>\n",
       "      <td>Mon cher et tendre filleul... Je m'engage a et...</td>\n",
       "      <td>False</td>\n",
       "      <td>False</td>\n",
       "      <td>False</td>\n",
       "      <td>False</td>\n",
       "      <td>False</td>\n",
       "      <td>True</td>\n",
       "      <td>True</td>\n",
       "      <td>['Mon', 'cher', 'et', 'tendre', 'filleul', '.....</td>\n",
       "    </tr>\n",
       "    <tr>\n",
       "      <th>2</th>\n",
       "      <td>4</td>\n",
       "      <td>7</td>\n",
       "      <td>Ohhhhhh non ! Héhé j'te texto en mode scred mo...</td>\n",
       "      <td>False</td>\n",
       "      <td>False</td>\n",
       "      <td>False</td>\n",
       "      <td>False</td>\n",
       "      <td>False</td>\n",
       "      <td>True</td>\n",
       "      <td>True</td>\n",
       "      <td>['Ohhhhhh', 'non', '!', 'Héhé', \"j'\", 'te', 't...</td>\n",
       "    </tr>\n",
       "    <tr>\n",
       "      <th>3</th>\n",
       "      <td>6</td>\n",
       "      <td>11</td>\n",
       "      <td>Non chez mon arriere grand mere juste a coté d...</td>\n",
       "      <td>False</td>\n",
       "      <td>True</td>\n",
       "      <td>False</td>\n",
       "      <td>False</td>\n",
       "      <td>False</td>\n",
       "      <td>False</td>\n",
       "      <td>True</td>\n",
       "      <td>['Non', 'chez', 'mon', 'arriere', 'grand', 'me...</td>\n",
       "    </tr>\n",
       "    <tr>\n",
       "      <th>4</th>\n",
       "      <td>7</td>\n",
       "      <td>14</td>\n",
       "      <td>Demain jai deux heures de pause si tu veux on ...</td>\n",
       "      <td>False</td>\n",
       "      <td>True</td>\n",
       "      <td>False</td>\n",
       "      <td>False</td>\n",
       "      <td>False</td>\n",
       "      <td>False</td>\n",
       "      <td>True</td>\n",
       "      <td>['Demain', 'jai', 'deux', 'heures', 'de', 'pau...</td>\n",
       "    </tr>\n",
       "  </tbody>\n",
       "</table>\n",
       "</div>"
      ],
      "text/plain": [
       "   Unnamed: 0  Unnamed: 0.1  \\\n",
       "0           1             4   \n",
       "1           3             6   \n",
       "2           4             7   \n",
       "3           6            11   \n",
       "4           7            14   \n",
       "\n",
       "                                                 sms  happy   joke  \\\n",
       "0      Oh trop mignon mon bbé jsuis au travaiiiil la  False  False   \n",
       "1  Mon cher et tendre filleul... Je m'engage a et...  False  False   \n",
       "2  Ohhhhhh non ! Héhé j'te texto en mode scred mo...  False  False   \n",
       "3  Non chez mon arriere grand mere juste a coté d...  False   True   \n",
       "4  Demain jai deux heures de pause si tu veux on ...  False   True   \n",
       "\n",
       "   astonished  angry  bored  heart  filter  \\\n",
       "0       False  False  False   True    True   \n",
       "1       False  False  False   True    True   \n",
       "2       False  False  False   True    True   \n",
       "3       False  False  False  False    True   \n",
       "4       False  False  False  False    True   \n",
       "\n",
       "                                              tokens  \n",
       "0  ['Oh', 'trop', 'mignon', 'mon', 'bbé', 'jsuis'...  \n",
       "1  ['Mon', 'cher', 'et', 'tendre', 'filleul', '.....  \n",
       "2  ['Ohhhhhh', 'non', '!', 'Héhé', \"j'\", 'te', 't...  \n",
       "3  ['Non', 'chez', 'mon', 'arriere', 'grand', 'me...  \n",
       "4  ['Demain', 'jai', 'deux', 'heures', 'de', 'pau...  "
      ]
     },
     "execution_count": 11,
     "metadata": {},
     "output_type": "execute_result"
    }
   ],
   "source": [
    "dataset.head()"
   ]
  },
  {
   "cell_type": "code",
   "execution_count": 12,
   "metadata": {},
   "outputs": [
    {
     "data": {
      "text/plain": [
       "'Non chez mon arriere grand mere juste a coté de chez mes grands parents'"
      ]
     },
     "execution_count": 12,
     "metadata": {},
     "output_type": "execute_result"
    }
   ],
   "source": [
    "dataset.loc[3, 'sms']"
   ]
  },
  {
   "cell_type": "code",
   "execution_count": 13,
   "metadata": {},
   "outputs": [],
   "source": [
    "class_names = ['happy', 'joke', 'astonished', 'angry', 'bored', 'heart']"
   ]
  },
  {
   "cell_type": "code",
   "execution_count": 14,
   "metadata": {},
   "outputs": [
    {
     "data": {
      "text/plain": [
       "(6387, 11)"
      ]
     },
     "execution_count": 14,
     "metadata": {},
     "output_type": "execute_result"
    }
   ],
   "source": [
    "dataset.shape"
   ]
  },
  {
   "cell_type": "markdown",
   "metadata": {},
   "source": [
    "On va utiliser la même fonction de tokenization qui a été utilisée pour entrainer les embeddings."
   ]
  },
  {
   "cell_type": "code",
   "execution_count": 15,
   "metadata": {},
   "outputs": [],
   "source": [
    "token_pattern = re.compile(r\"(\\->|(?::\\)|:-\\)|:\\(|:-\\(|;\\);-\\)|:-O|8-|:P|:D|:\\||:S|:\\$|:@|8o\\||\\+o\\(|\\(H\\)|\\(C\\)|\\(\\?\\))|(?:[\\d.,]+)|([^\\s\\w0-9])\\2*|(?:[\\w0-9\\.]+['’]?)(?<!\\.))\")\n",
    "\n",
    "def tokenize(text):\n",
    "    tokens = [groups[0] for groups in re.findall(token_pattern, str(text))]\n",
    "    tokens = [t.strip() for t in tokens]\n",
    "    return tokens"
   ]
  },
  {
   "cell_type": "code",
   "execution_count": 16,
   "metadata": {},
   "outputs": [],
   "source": [
    "dataset['tokens'] = dataset['sms'].apply(tokenize)"
   ]
  },
  {
   "cell_type": "code",
   "execution_count": 17,
   "metadata": {},
   "outputs": [
    {
     "data": {
      "text/html": [
       "<div>\n",
       "<style scoped>\n",
       "    .dataframe tbody tr th:only-of-type {\n",
       "        vertical-align: middle;\n",
       "    }\n",
       "\n",
       "    .dataframe tbody tr th {\n",
       "        vertical-align: top;\n",
       "    }\n",
       "\n",
       "    .dataframe thead th {\n",
       "        text-align: right;\n",
       "    }\n",
       "</style>\n",
       "<table border=\"1\" class=\"dataframe\">\n",
       "  <thead>\n",
       "    <tr style=\"text-align: right;\">\n",
       "      <th></th>\n",
       "      <th>Unnamed: 0</th>\n",
       "      <th>Unnamed: 0.1</th>\n",
       "      <th>sms</th>\n",
       "      <th>happy</th>\n",
       "      <th>joke</th>\n",
       "      <th>astonished</th>\n",
       "      <th>angry</th>\n",
       "      <th>bored</th>\n",
       "      <th>heart</th>\n",
       "      <th>filter</th>\n",
       "      <th>tokens</th>\n",
       "    </tr>\n",
       "  </thead>\n",
       "  <tbody>\n",
       "    <tr>\n",
       "      <th>0</th>\n",
       "      <td>1</td>\n",
       "      <td>4</td>\n",
       "      <td>Oh trop mignon mon bbé jsuis au travaiiiil la</td>\n",
       "      <td>False</td>\n",
       "      <td>False</td>\n",
       "      <td>False</td>\n",
       "      <td>False</td>\n",
       "      <td>False</td>\n",
       "      <td>True</td>\n",
       "      <td>True</td>\n",
       "      <td>[Oh, trop, mignon, mon, bbé, jsuis, au, travai...</td>\n",
       "    </tr>\n",
       "    <tr>\n",
       "      <th>1</th>\n",
       "      <td>3</td>\n",
       "      <td>6</td>\n",
       "      <td>Mon cher et tendre filleul... Je m'engage a et...</td>\n",
       "      <td>False</td>\n",
       "      <td>False</td>\n",
       "      <td>False</td>\n",
       "      <td>False</td>\n",
       "      <td>False</td>\n",
       "      <td>True</td>\n",
       "      <td>True</td>\n",
       "      <td>[Mon, cher, et, tendre, filleul, ..., Je, m', ...</td>\n",
       "    </tr>\n",
       "    <tr>\n",
       "      <th>2</th>\n",
       "      <td>4</td>\n",
       "      <td>7</td>\n",
       "      <td>Ohhhhhh non ! Héhé j'te texto en mode scred mo...</td>\n",
       "      <td>False</td>\n",
       "      <td>False</td>\n",
       "      <td>False</td>\n",
       "      <td>False</td>\n",
       "      <td>False</td>\n",
       "      <td>True</td>\n",
       "      <td>True</td>\n",
       "      <td>[Ohhhhhh, non, !, Héhé, j', te, texto, en, mod...</td>\n",
       "    </tr>\n",
       "    <tr>\n",
       "      <th>3</th>\n",
       "      <td>6</td>\n",
       "      <td>11</td>\n",
       "      <td>Non chez mon arriere grand mere juste a coté d...</td>\n",
       "      <td>False</td>\n",
       "      <td>True</td>\n",
       "      <td>False</td>\n",
       "      <td>False</td>\n",
       "      <td>False</td>\n",
       "      <td>False</td>\n",
       "      <td>True</td>\n",
       "      <td>[Non, chez, mon, arriere, grand, mere, juste, ...</td>\n",
       "    </tr>\n",
       "    <tr>\n",
       "      <th>4</th>\n",
       "      <td>7</td>\n",
       "      <td>14</td>\n",
       "      <td>Demain jai deux heures de pause si tu veux on ...</td>\n",
       "      <td>False</td>\n",
       "      <td>True</td>\n",
       "      <td>False</td>\n",
       "      <td>False</td>\n",
       "      <td>False</td>\n",
       "      <td>False</td>\n",
       "      <td>True</td>\n",
       "      <td>[Demain, jai, deux, heures, de, pause, si, tu,...</td>\n",
       "    </tr>\n",
       "  </tbody>\n",
       "</table>\n",
       "</div>"
      ],
      "text/plain": [
       "   Unnamed: 0  Unnamed: 0.1  \\\n",
       "0           1             4   \n",
       "1           3             6   \n",
       "2           4             7   \n",
       "3           6            11   \n",
       "4           7            14   \n",
       "\n",
       "                                                 sms  happy   joke  \\\n",
       "0      Oh trop mignon mon bbé jsuis au travaiiiil la  False  False   \n",
       "1  Mon cher et tendre filleul... Je m'engage a et...  False  False   \n",
       "2  Ohhhhhh non ! Héhé j'te texto en mode scred mo...  False  False   \n",
       "3  Non chez mon arriere grand mere juste a coté d...  False   True   \n",
       "4  Demain jai deux heures de pause si tu veux on ...  False   True   \n",
       "\n",
       "   astonished  angry  bored  heart  filter  \\\n",
       "0       False  False  False   True    True   \n",
       "1       False  False  False   True    True   \n",
       "2       False  False  False   True    True   \n",
       "3       False  False  False  False    True   \n",
       "4       False  False  False  False    True   \n",
       "\n",
       "                                              tokens  \n",
       "0  [Oh, trop, mignon, mon, bbé, jsuis, au, travai...  \n",
       "1  [Mon, cher, et, tendre, filleul, ..., Je, m', ...  \n",
       "2  [Ohhhhhh, non, !, Héhé, j', te, texto, en, mod...  \n",
       "3  [Non, chez, mon, arriere, grand, mere, juste, ...  \n",
       "4  [Demain, jai, deux, heures, de, pause, si, tu,...  "
      ]
     },
     "execution_count": 17,
     "metadata": {},
     "output_type": "execute_result"
    }
   ],
   "source": [
    "dataset.head()"
   ]
  },
  {
   "cell_type": "markdown",
   "metadata": {},
   "source": [
    "### Exploration de données"
   ]
  },
  {
   "cell_type": "markdown",
   "metadata": {},
   "source": [
    "<hr>\n",
    "<div class=\"alert alert-info\" role=\"alert\">\n",
    "    <p><b>📝 Exercice :</b> Observer la distribution des classes.</p>\n",
    "</div>\n",
    "<hr>"
   ]
  },
  {
   "cell_type": "code",
   "execution_count": 19,
   "metadata": {},
   "outputs": [
    {
     "name": "stdout",
     "output_type": "stream",
     "text": [
      "happy 1462\n",
      "joke 1687\n",
      "astonished 243\n",
      "angry 1560\n",
      "bored 338\n",
      "heart 1097\n"
     ]
    }
   ],
   "source": []
  },
  {
   "cell_type": "markdown",
   "metadata": {},
   "source": [
    "<hr>\n",
    "<div class=\"alert alert-info\" role=\"alert\">\n",
    "    <p><b>📝 Exercice :</b> Evaluer la proportion de tokens qui sont hors du vocabulaire des embeddings.</p>\n",
    "</div>\n",
    "<hr>"
   ]
  },
  {
   "cell_type": "code",
   "execution_count": 20,
   "metadata": {},
   "outputs": [
    {
     "name": "stdout",
     "output_type": "stream",
     "text": [
      "On a 13.40% des tokens hors du vocab\n"
     ]
    }
   ],
   "source": []
  },
  {
   "cell_type": "markdown",
   "metadata": {},
   "source": [
    "### Vectorization"
   ]
  },
  {
   "cell_type": "markdown",
   "metadata": {},
   "source": [
    "Les embeddings de mots permettent de représenter chaque <i>token</i> par un vecteur. Pour obtenir un vecteur qui représente le sms, on va agréger les différents mots du texte. On considérera plusieurs fonctions d'agrégation : la somme, la moyenne, me maximum ou le minimum.\n",
    "\n",
    "En pratique nous verrons dans le dernier cours d'ouverture qu'il existe des méthodes plus évoluées pour composer les mots de la phrase. Néanmoins une simple fonction d'agrégation nous donnera déjà une bonne <i>baseline</i>."
   ]
  },
  {
   "cell_type": "markdown",
   "metadata": {},
   "source": [
    "<img src=\"./model.png\" width=\"500\">"
   ]
  },
  {
   "cell_type": "markdown",
   "metadata": {},
   "source": [
    "<hr>\n",
    "<div class=\"alert alert-info\" role=\"alert\">\n",
    "    <p><b>📝 Exercice :</b> Ecrire une fonction qui permet de vectoriser un sms.</p>\n",
    "</div>\n",
    "<hr>  "
   ]
  },
  {
   "cell_type": "code",
   "execution_count": 24,
   "metadata": {},
   "outputs": [],
   "source": [
    "def vectorize(tokens, agg_method='mean'):\n",
    "    \n",
    "    #TODO à compléter\n",
    "    \n",
    "    # associer chaque token à son embedding. \n",
    "    # Attention, certains tokens peuvent ne pas être dans le vocabulaire\n",
    "    \n",
    "    # Agréger les représentations de chaque token.\n",
    "    # Le vecteur de sortie doit être de taille (300, )\n",
    "    \n",
    "    if agg_method == 'mean':\n",
    "        sentence_embedding = \n",
    "    elif agg_method == 'max':\n",
    "        sentence_embedding = \n",
    "    elif agg_method == 'sum':\n",
    "        sentence_embedding = \n",
    "    \n",
    "    return"
   ]
  },
  {
   "cell_type": "code",
   "execution_count": 25,
   "metadata": {},
   "outputs": [
    {
     "data": {
      "text/plain": [
       "array([0.00527477, 0.00692021, 0.00242356, 0.06154046, 0.13295795,\n",
       "       0.06361634, 0.08570134, 0.07414384, 0.        , 0.08212721,\n",
       "       0.04973175, 0.03402816, 0.06700727, 0.02743915, 0.07400591,\n",
       "       0.05501981, 0.11267069, 0.0881431 , 0.05800019, 0.09302516,\n",
       "       0.00409879, 0.02342506, 0.        , 0.0402468 , 0.054419  ,\n",
       "       0.08634509, 0.05533285, 0.07128762, 0.19060998, 0.02699462,\n",
       "       0.00081452, 0.09166943, 0.04762873, 0.08533753, 0.03304539,\n",
       "       0.09167273, 0.04074982, 0.06496961, 0.04717816, 0.06464085,\n",
       "       0.07810198, 0.11930461, 0.10063915, 0.04590213, 0.1329642 ,\n",
       "       0.06927311, 0.12643115, 0.02072367, 0.05237858, 0.07072788,\n",
       "       0.03413792, 0.03463707, 0.00823655, 0.06633823, 0.07935217,\n",
       "       0.04817078, 0.05091089, 0.05601389, 0.03564481, 0.02593034,\n",
       "       0.01066518, 0.05512953, 0.07356762, 0.09573206, 0.10821631,\n",
       "       0.03146662, 0.07366633, 0.        , 0.07214772, 0.14016251,\n",
       "       0.09438414, 0.05520869, 0.04744984, 0.07238445, 0.09094091,\n",
       "       0.        , 0.01157174, 0.10628273, 0.03970737, 0.15625028,\n",
       "       0.03746841, 0.01168668, 0.05332869, 0.03230552, 0.09400385,\n",
       "       0.03193932, 0.07167532, 0.03106811, 0.12659574, 0.03089794,\n",
       "       0.0555231 , 0.03096597, 0.07710861, 0.04581444, 0.14528637,\n",
       "       0.14259633, 0.0306193 , 0.08373567, 0.0047899 , 0.04930433,\n",
       "       0.08126453, 0.03384407, 0.08411159, 0.09270952, 0.04209389,\n",
       "       0.08366276, 0.09708402, 0.00375697, 0.08005914, 0.06241304,\n",
       "       0.08111998, 0.07792952, 0.        , 0.00349393, 0.01118783,\n",
       "       0.03422603, 0.10763904, 0.07933462, 0.06615944, 0.08509199,\n",
       "       0.        , 0.0768944 , 0.07407351, 0.12335764, 0.08098622,\n",
       "       0.05372575, 0.03763432, 0.10780995, 0.10846981, 0.07812167,\n",
       "       0.11065012, 0.06428103, 0.01869572, 0.10158931, 0.18258087,\n",
       "       0.0622929 , 0.14388293, 0.09573501, 0.02674825, 0.12297022,\n",
       "       0.03062394, 0.04493332, 0.06547362, 0.1093092 , 0.03121209,\n",
       "       0.08889806, 0.0252375 , 0.0959276 , 0.00310535, 0.10922094,\n",
       "       0.1070756 , 0.        , 0.05564043, 0.11014239, 0.01223591,\n",
       "       0.10900402, 0.09006973, 0.04675519, 0.07841184, 0.12761153,\n",
       "       0.0491344 , 0.07919153, 0.03248171, 0.0652559 , 0.11016791,\n",
       "       0.17835282, 0.05846936, 0.14774804, 0.03032794, 0.10705207,\n",
       "       0.06697948, 0.05055642, 0.08845971, 0.03396548, 0.04026697,\n",
       "       0.0411184 , 0.0449595 , 0.06521596, 0.        , 0.09892992,\n",
       "       0.03977877, 0.04043058, 0.08043206, 0.0849882 , 0.05887735,\n",
       "       0.11089152, 0.06561603, 0.02277223, 0.10542668, 0.00863097,\n",
       "       0.07497203, 0.12870657, 0.04479718, 0.01314587, 0.0831608 ,\n",
       "       0.05375658, 0.04527149, 0.06006503, 0.0809222 , 0.11460861,\n",
       "       0.04531512, 0.        , 0.05557316, 0.03275487, 0.07690315,\n",
       "       0.05858504, 0.09100378, 0.04665794, 0.01472142, 0.08170703,\n",
       "       0.05883873, 0.04022951, 0.12759507, 0.06013589, 0.07163321,\n",
       "       0.05221269, 0.00494903, 0.03405403, 0.0021515 , 0.11250421,\n",
       "       0.0256542 , 0.09399211, 0.05863019, 0.0516542 , 0.08358689,\n",
       "       0.05097657, 0.07077879, 0.15279834, 0.1475486 , 0.        ,\n",
       "       0.04762442, 0.03921159, 0.02340176, 0.10949686, 0.06156948,\n",
       "       0.03752252, 0.0733569 , 0.0340592 , 0.03253163, 0.09641497,\n",
       "       0.04395739, 0.10769096, 0.05340149, 0.02508529, 0.06350601,\n",
       "       0.06696155, 0.04682845, 0.        , 0.09980346, 0.07335432,\n",
       "       0.08462042, 0.07466022, 0.02340595, 0.07203073, 0.07788659,\n",
       "       0.05353684, 0.11147182, 0.02164056, 0.10773367, 0.08569279,\n",
       "       0.06373145, 0.09061449, 0.05538885, 0.09115964, 0.01320225,\n",
       "       0.05177812, 0.08304787, 0.06654534, 0.06597468, 0.        ,\n",
       "       0.07542615, 0.09357739, 0.07120085, 0.04498764, 0.0803216 ,\n",
       "       0.08766326, 0.0293707 , 0.01413905, 0.0187497 , 0.09468399,\n",
       "       0.07552214, 0.09152471, 0.11183845, 0.02996045, 0.12505111,\n",
       "       0.06433463, 0.11898244, 0.07104255, 0.07766212, 0.08743406,\n",
       "       0.05230821, 0.13913202, 0.0434791 , 0.02612684, 0.07350186,\n",
       "       0.10254856, 0.1190716 , 0.11419889, 0.06003438, 0.00584667],\n",
       "      dtype=float32)"
      ]
     },
     "execution_count": 25,
     "metadata": {},
     "output_type": "execute_result"
    }
   ],
   "source": [
    "vectorize(dataset['tokens'][0], agg_method='max')"
   ]
  },
  {
   "cell_type": "code",
   "execution_count": 26,
   "metadata": {},
   "outputs": [],
   "source": [
    "# %load solutions/vectorize_1.py\n"
   ]
  },
  {
   "cell_type": "markdown",
   "metadata": {},
   "source": [
    "On voudrait attribuer un poids moins important aux embeddings des mots moins caractéristiques. Pour ça, on voudrait pondérer la contribution des vecteurs de chaque mot en fonction de leur score TF-IDF."
   ]
  },
  {
   "cell_type": "markdown",
   "metadata": {},
   "source": [
    "<img src=\"./model-tfidf.png\" width=\"700\">"
   ]
  },
  {
   "cell_type": "markdown",
   "metadata": {},
   "source": [
    "<hr>\n",
    "<div class=\"alert alert-info\" role=\"alert\">\n",
    "    <p><b>📝 Exercice :</b> Utiliser la pondération TF-IDF pour pondérer chacun des vecteurs.</p>\n",
    "</div>\n",
    "<hr>  "
   ]
  },
  {
   "cell_type": "code",
   "execution_count": 27,
   "metadata": {},
   "outputs": [
    {
     "name": "stderr",
     "output_type": "stream",
     "text": [
      "/Users/antoine/opt/anaconda3/envs/nlp-101/lib/python3.6/site-packages/sklearn/feature_extraction/text.py:484: UserWarning: The parameter 'token_pattern' will not be used since 'tokenizer' is not None'\n",
      "  warnings.warn(\"The parameter 'token_pattern' will not be used\"\n"
     ]
    }
   ],
   "source": [
    "tfidf_vectorizer = TfidfVectorizer(tokenizer=lambda x: x,\n",
    "                                   lowercase=False)\n",
    "\n",
    "tfidf_vectorizer.fit(dataset['tokens'])\n",
    "\n",
    "w2idx_tfidf = {w: idx for (idx, w) in enumerate(tfidf_vectorizer.get_feature_names())}\n",
    "idx_tfidf2w = {idx: w for (idx, w) in enumerate(tfidf_vectorizer.get_feature_names())}"
   ]
  },
  {
   "cell_type": "code",
   "execution_count": 33,
   "metadata": {},
   "outputs": [],
   "source": [
    "# %load solutions/vectorize_2.py\n",
    "\n",
    "def vectorize(tokens, agg_method='mean', tfidf_vectorizer=None):\n",
    "    \n",
    "    #TODO à compléter\n",
    "    \n",
    "    if agg_method == 'mean':\n",
    "        sentence_embedding = \n",
    "    elif agg_method == 'max':\n",
    "        sentence_embedding = \n",
    "    elif agg_method == 'sum':\n",
    "        sentence_embedding = \n",
    "    elif agg_method == 'tfidf':\n",
    "        \n",
    "    \n",
    "    return"
   ]
  },
  {
   "cell_type": "code",
   "execution_count": 35,
   "metadata": {},
   "outputs": [
    {
     "name": "stdout",
     "output_type": "stream",
     "text": [
      "(6387, 300)\n"
     ]
    }
   ],
   "source": [
    "X = [vectorize(sms) for sms in dataset['tokens']]\n",
    "X = np.array(X)\n",
    "print(X.shape)"
   ]
  },
  {
   "cell_type": "markdown",
   "metadata": {},
   "source": [
    "On va intégrer la fonction `vectorize` dans un module compatible avec les fonctions de `sklearn`."
   ]
  },
  {
   "cell_type": "markdown",
   "metadata": {},
   "source": [
    "<hr>\n",
    "<div class=\"alert alert-info\" role=\"alert\">\n",
    "    <p><b>📝 Exercice :</b> Intégrer votre fonction de vectorization dans la classe Vectorizer ci-dessous. Vous devez simoplement la copier/coller en replaçant tfidf_vectorizer par self.tfidf_vectorizer car c'est maintenant un attribut de la class</p>\n",
    "</div>\n",
    "<hr>"
   ]
  },
  {
   "cell_type": "code",
   "execution_count": 36,
   "metadata": {},
   "outputs": [],
   "source": [
    "# 6 choses à faire pour l'excercice sur la class Vectorizer :\n",
    "# copier votre fonction vectorize dans la class\n",
    "# ajouter l'argument self dans la fonction vectorize\n",
    "# supprimer l'argument tfidf_vectorizer de la fonction vectorize\n",
    "# remplacer toutes les occurences de agg_method par self.agg_method dans la fonction vectorize\n",
    "# supprimer l'argument agg_method de la fonction vectorize\n",
    "# remplacer toutes les occurences de w2idx_tfidf par self.w2idx_tfidf dans la fonction vectorize"
   ]
  },
  {
   "cell_type": "code",
   "execution_count": 37,
   "metadata": {},
   "outputs": [],
   "source": [
    "# %load solutions/vectorizer.py\n",
    "\n",
    "class Vectorizer(BaseEstimator, TransformerMixin):\n",
    "    \n",
    "    def __init__(self, agg_method='mean', normalize=False):\n",
    "        self.agg_method = agg_method\n",
    "        self.normalize = normalize\n",
    "        self.tfidf_vectorizer = TfidfVectorizer(tokenizer=lambda x: x,\n",
    "                                                lowercase=False,\n",
    "                                                token_pattern=None)\n",
    "        \n",
    "    def vectorize(self, tokens):\n",
    "    \n",
    "        token_embeddings = []\n",
    "        vect_vide = np.zeros_like(embeddings_vectors[0])\n",
    "\n",
    "        # associer chaque token à son embedding. \n",
    "        # Attention, certains tokens peuvent ne pas être dans le vocabulaire\n",
    "        \n",
    "        # self.tfidf_vectorizer\n",
    "\n",
    "        for t in tokens:\n",
    "            if t in w2idx:\n",
    "                t_idx = w2idx[t]\n",
    "                token_embeddings.append(embeddings_vectors[t_idx])\n",
    "            else:\n",
    "                token_embeddings.append(vect_vide)\n",
    "\n",
    "        token_embeddings_arr = np.array(token_embeddings)\n",
    "\n",
    "        # Agréger les représentations de chaque token.\n",
    "        # Le vecteur de sortie doit être de taille (300, )\n",
    "\n",
    "        if self.agg_method == 'mean':\n",
    "            sentence_embedding = np.mean(token_embeddings_arr, axis=0)\n",
    "        elif self.agg_method == 'max':\n",
    "            sentence_embedding = np.max(token_embeddings_arr, axis=0)\n",
    "        elif self.agg_method == 'sum':\n",
    "            sentence_embedding = np.sum(token_embeddings_arr, axis=0)\n",
    "        elif self.agg_method == 'tfidf':\n",
    "            pass\n",
    "\n",
    "        return sentence_embedding\n",
    "\n",
    "    \n",
    "    def _vectorize(self, tokens):\n",
    "        return vectorize(tokens)\n",
    "    \n",
    "    def fit(self, X, y=None): \n",
    "        self.tfidf_vectorizer.fit(X['tokens'])\n",
    "        self.w2idx_tfidf = {w: idx for (idx, w) in enumerate(self.tfidf_vectorizer.get_feature_names())}\n",
    "        self.idx_tfidf2w = {idx: w for (idx, w) in enumerate(self.tfidf_vectorizer.get_feature_names())}\n",
    "        return self\n",
    "    \n",
    "    def transform(self, X, y=None, eps=1e-12):\n",
    "        X = [self.vectorize(sms) for sms in X['tokens']]\n",
    "        X = np.array(X)\n",
    "\n",
    "        if self.normalize:\n",
    "            X = X / np.linalg.norm(X + eps, axis=1, keepdims=True)\n",
    "        return X"
   ]
  },
  {
   "cell_type": "code",
   "execution_count": 48,
   "metadata": {},
   "outputs": [],
   "source": [
    "vectorizer = Vectorizer(agg_method='tfidf')"
   ]
  },
  {
   "cell_type": "code",
   "execution_count": 49,
   "metadata": {},
   "outputs": [],
   "source": [
    "X = vectorizer.fit_transform(dataset)"
   ]
  },
  {
   "cell_type": "code",
   "execution_count": 50,
   "metadata": {},
   "outputs": [
    {
     "data": {
      "text/plain": [
       "(6387, 300)"
      ]
     },
     "execution_count": 50,
     "metadata": {},
     "output_type": "execute_result"
    }
   ],
   "source": [
    "X.shape"
   ]
  },
  {
   "cell_type": "markdown",
   "metadata": {},
   "source": [
    "### Classification"
   ]
  },
  {
   "cell_type": "markdown",
   "metadata": {},
   "source": [
    "On compare deux algorithmes de classification :  Une régression logistique et un SVM ou l'on pénalise les classes majoritaires."
   ]
  },
  {
   "cell_type": "code",
   "execution_count": 52,
   "metadata": {},
   "outputs": [],
   "source": [
    "X_train, X_test = train_test_split(\n",
    "    dataset, test_size=0.33, random_state=42)\n",
    "\n",
    "y_train = X_train[['happy', 'joke', 'astonished', 'angry', 'bored', 'heart']].astype(int).values\n",
    "y_train = [x.tolist().index(1) for x in y_train]\n",
    "\n",
    "y_test = X_test[['happy', 'joke', 'astonished', 'angry', 'bored', 'heart']].astype(int).values\n",
    "y_test = [x.tolist().index(1) for x in y_test]"
   ]
  },
  {
   "cell_type": "code",
   "execution_count": 53,
   "metadata": {},
   "outputs": [
    {
     "data": {
      "text/plain": [
       "4279"
      ]
     },
     "execution_count": 53,
     "metadata": {},
     "output_type": "execute_result"
    }
   ],
   "source": [
    "len(y_train)"
   ]
  },
  {
   "cell_type": "code",
   "execution_count": 54,
   "metadata": {},
   "outputs": [
    {
     "data": {
      "text/plain": [
       "(4279, 11)"
      ]
     },
     "execution_count": 54,
     "metadata": {},
     "output_type": "execute_result"
    }
   ],
   "source": [
    "X_train.shape"
   ]
  },
  {
   "cell_type": "code",
   "execution_count": 57,
   "metadata": {},
   "outputs": [],
   "source": [
    "LogReg_pipeline = Pipeline([\n",
    "    ('vect', Vectorizer('tfidf')),\n",
    "    ('clf', OneVsRestClassifier(LogisticRegression(solver='sag'))),\n",
    "])\n",
    "\n",
    "\n",
    "# Training logistic regression model on train data\n",
    "LogReg_pipeline.fit(X_train, y_train)\n",
    "\n",
    "# Infering data on test set\n",
    "prediction_LogReg = LogReg_pipeline.predict(X_test)"
   ]
  },
  {
   "cell_type": "code",
   "execution_count": 58,
   "metadata": {},
   "outputs": [],
   "source": [
    "SVC_pipeline = Pipeline([\n",
    "    ('vect', Vectorizer('tfidf')),\n",
    "    ('clf', OneVsRestClassifier(SVC(kernel='linear', \n",
    "                                    class_weight='balanced', # penalize\n",
    "                                    probability=True), n_jobs=-1))\n",
    "])\n",
    "\n",
    "\n",
    "SVC_pipeline.fit(X_train, y_train)\n",
    "prediction_SVC = SVC_pipeline.predict(X_test)"
   ]
  },
  {
   "cell_type": "markdown",
   "metadata": {},
   "source": [
    "### Evaluation"
   ]
  },
  {
   "cell_type": "code",
   "execution_count": 59,
   "metadata": {},
   "outputs": [],
   "source": [
    "import matplotlib.pyplot as plt\n",
    "from sklearn.metrics import confusion_matrix\n",
    "from plots import plot_confusion_matrix"
   ]
  },
  {
   "cell_type": "code",
   "execution_count": 60,
   "metadata": {},
   "outputs": [
    {
     "name": "stdout",
     "output_type": "stream",
     "text": [
      "Test accuracy is 0.325426944971537\n",
      "Test ROC socre is 0.6848126861291344\n",
      "Confusion matrix, without normalization\n"
     ]
    },
    {
     "data": {
      "image/png": "[encoded data removed]",
      "text/plain": [
       "<Figure size 360x360 with 2 Axes>"
      ]
     },
     "metadata": {
      "image/png": {
       "height": 346,
       "width": 363
      },
      "needs_background": "light"
     },
     "output_type": "display_data"
    }
   ],
   "source": [
    "print('Test accuracy is {}'.format(accuracy_score(y_test, prediction_SVC)))\n",
    "print('Test ROC socre is {}'.format(roc_auc_score(np.eye(np.max(y_test) + 1)[y_test],\n",
    "                                                  SVC_pipeline.predict_proba(X_test), \n",
    "                                                  multi_class='ovo')))\n",
    "\n",
    "plot_confusion_matrix(confusion_matrix(y_test, prediction_SVC), \n",
    "                      classes=class_names, \n",
    "                      title='Confusion matrix, without normalization')"
   ]
  },
  {
   "cell_type": "code",
   "execution_count": 61,
   "metadata": {},
   "outputs": [
    {
     "name": "stdout",
     "output_type": "stream",
     "text": [
      "Test accuracy is 0.3733396584440228\n",
      "Test ROC socre is 0.6767300339267207\n",
      "Confusion matrix, without normalization\n"
     ]
    },
    {
     "data": {
      "image/png": "[encoded data removed]",
      "text/plain": [
       "<Figure size 360x360 with 2 Axes>"
      ]
     },
     "metadata": {
      "image/png": {
       "height": 346,
       "width": 363
      },
      "needs_background": "light"
     },
     "output_type": "display_data"
    }
   ],
   "source": [
    "print('Test accuracy is {}'.format(accuracy_score(y_test, prediction_LogReg)))\n",
    "print('Test ROC socre is {}'.format(roc_auc_score(np.eye(np.max(y_test) + 1)[y_test],\n",
    "                                                  LogReg_pipeline.predict_proba(X_test), \n",
    "                                                  multi_class='ovo')))\n",
    "\n",
    "plot_confusion_matrix(confusion_matrix(y_test, prediction_LogReg), \n",
    "                      classes=class_names, \n",
    "                      title='Confusion matrix, without normalization')"
   ]
  },
  {
   "cell_type": "markdown",
   "metadata": {},
   "source": [
    "<hr>\n",
    "<div class=\"alert alert-info\" role=\"alert\">\n",
    "    <p><b>📝 Exercice :</b> Quelle mesure de performance vous semble le plus adaptée pour ce cas d'usage ?</p>\n",
    "</div>\n",
    "<hr>"
   ]
  },
  {
   "cell_type": "code",
   "execution_count": null,
   "metadata": {},
   "outputs": [],
   "source": []
  },
  {
   "cell_type": "markdown",
   "metadata": {},
   "source": [
    "<hr>\n",
    "<div class=\"alert alert-info\" role=\"alert\">\n",
    "    <p><b>📝 Exercice :</b> Comparer les résultats obtenus avec les deux algorithmes de classifications</p>\n",
    "</div>\n",
    "<hr>"
   ]
  },
  {
   "cell_type": "code",
   "execution_count": null,
   "metadata": {},
   "outputs": [],
   "source": []
  },
  {
   "cell_type": "markdown",
   "metadata": {},
   "source": [
    "<hr>\n",
    "<div class=\"alert alert-info\" role=\"alert\">\n",
    "    <p><b>📝 Exercice :</b> Comparer les différentes méthodes d'agrégation proposées. (Mean, Max, Sum, Moyenne pondérée par le TF-IDF)</p>\n",
    "</div>\n",
    "<hr>"
   ]
  },
  {
   "cell_type": "code",
   "execution_count": null,
   "metadata": {},
   "outputs": [],
   "source": []
  },
  {
   "cell_type": "markdown",
   "metadata": {},
   "source": [
    "L'utilisation des méthodes de down-sampling ou up-sampling peut s'avérer fastidieux (on va se priver de données ou en utiliser d'autres plusieurs fois. La sélection des données doit se faire précisémment pour ne pas impacter les capacités de généralisation de l'algorithme). Nous avons préféré ici utiliser un algorithme qui pénalise les classes majoritaires et une mesure d'erreur adaptée. Il existe un bon article de blog pour gérer les classes déséquilibrées : https://elitedatascience.com/imbalanced-classes. "
   ]
  },
  {
   "cell_type": "markdown",
   "metadata": {},
   "source": [
    "On peut se faire une idée des limites et des points fort de l'algorithme en regardant des prédictions."
   ]
  },
  {
   "cell_type": "code",
   "execution_count": 62,
   "metadata": {},
   "outputs": [],
   "source": [
    "humors = ['happy', 'astonished', 'bored', 'angry', 'joke', 'heart']\n",
    "meta_smiley = [b'\\xF0\\x9F\\x98\\x83'.decode(\"utf-8\"),\n",
    "                b'\\xF0\\x9F\\x98\\xB2'.decode(\"utf-8\"),\n",
    "                b'\\xF0\\x9F\\x98\\x94'.decode(\"utf-8\"), \n",
    "                b'\\xF0\\x9F\\x98\\xA0'.decode(\"utf-8\"),\n",
    "                b'\\xF0\\x9F\\x98\\x86'.decode(\"utf-8\"),\n",
    "                b'\\xF0\\x9F\\x98\\x8D'.decode(\"utf-8\")]\n",
    "humor_2_emoji = {h: ms for (h, ms) in zip(humors, meta_smiley)}"
   ]
  },
  {
   "cell_type": "code",
   "execution_count": 63,
   "metadata": {},
   "outputs": [
    {
     "data": {
      "text/plain": [
       "(2108, 11)"
      ]
     },
     "execution_count": 63,
     "metadata": {},
     "output_type": "execute_result"
    }
   ],
   "source": [
    "X_test.shape"
   ]
  },
  {
   "cell_type": "code",
   "execution_count": 64,
   "metadata": {},
   "outputs": [
    {
     "name": "stdout",
     "output_type": "stream",
     "text": [
      "Ptdr !! Ou tu l'a trouver ?? C'est exellent ce truc fo que je le mette comme poster ds m ma chambre (Pred) 😃 (True) 😆 \n",
      "\n",
      "Prochain bus à 11h22 Bon ben je rentre à pied... (Pred) 😔 (True) 😆 \n",
      "\n",
      "Little message sur fb (Pred) 😠 (True) 😆 \n",
      "\n",
      "C bien possible oui ms ce qui est chiant c que je pense lui dire demain et d ici dimanche t as tr les agriculteurs du canton qui seront au courant que je voiq un garcon! Et mon oncle arrete pas de me faire des remarques la dessus alors si jms je suis avec qqn.. Il s arrangera pr le rencontrer absolument! Genre en debarquant qd il viendrait me chercher. Je suis sur exposé! -_- (Pred) 😃 (True) 😆 \n",
      "\n",
      "Pas grave tkt pas ! Bonne nuit bisous (Pred) 😍 (True) 😍 \n",
      "\n",
      "Okk (Pred) 😃 (True) 😆 \n",
      "\n",
      "Oh ouais ! (Pred) 😲 (True) 😆 \n",
      "\n",
      "Joyeux anniversaire ma belle. Tendres pensées, j'espère que tout va bien de ton coté. Je t'embrasse, à très vite (quand tu veu et bienvenue dans le clan des \"quart de siècle\" ! (Pred) 😍 (True) 😆 \n",
      "\n",
      "Biien et toi ? quoi de neuf ? (Pred) 😲 (True) 😃 \n",
      "\n",
      "Ok ok a vous 2, je vous garde [_forename_] samedi et en echange cine tacos (Pred) 😃 (True) 😆 \n",
      "\n"
     ]
    }
   ],
   "source": [
    "for _ in range(10):\n",
    "    idx = np.random.randint(0, len(X_test))\n",
    "    \n",
    "    emojis = humor_2_emoji[class_names[prediction_SVC[idx]]]\n",
    "    \n",
    "    true_emojis = humor_2_emoji[class_names[y_test[idx]]]\n",
    "    print(X_test['sms'].values[idx], '(Pred)', emojis, '(True)', true_emojis, '\\n')\n",
    "    "
   ]
  },
  {
   "cell_type": "markdown",
   "metadata": {},
   "source": [
    "### Visualisation"
   ]
  },
  {
   "cell_type": "markdown",
   "metadata": {},
   "source": [
    "On peut aussi essayer de visualiser plus globalement les représentations. Pour ça on peut utiliser des algorithmes de réduction de dimension pour visualiser nos données. On a déjà parlé de UMAP et t-SNE. De manière intutive, l'algorithme projete les représentations dans un espace de plus faible dimension en s'efforcant de respecter les distances entre les points entre l'espace de départ et d'arrivée. Il permet de visualiser facilement les données. On va utiliser l'outil `Tensorboard` qui intègre les principales méthodes de réduction de dimensions."
   ]
  },
  {
   "cell_type": "code",
   "execution_count": 65,
   "metadata": {},
   "outputs": [],
   "source": [
    "from pathlib import Path\n",
    "from PIL import Image\n",
    "import os\n",
    "from os import listdir\n",
    "from os.path import isfile, join\n",
    "from torchvision import transforms\n",
    "\n",
    "from torch.utils.tensorboard import SummaryWriter\n",
    "import torch"
   ]
  },
  {
   "cell_type": "code",
   "execution_count": 66,
   "metadata": {},
   "outputs": [],
   "source": [
    "pil_img = Image.open('./smileys/happy.png').convert('RGB')\n",
    "pil_img = pil_img.resize((100, 100)) "
   ]
  },
  {
   "cell_type": "code",
   "execution_count": 67,
   "metadata": {},
   "outputs": [],
   "source": [
    "smileys_images = [f for f in listdir('./smileys') if isfile(join('./smileys', f))]"
   ]
  },
  {
   "cell_type": "code",
   "execution_count": 68,
   "metadata": {},
   "outputs": [],
   "source": [
    "imgs_tb = {}\n",
    "for s in smileys_images:\n",
    "    pil_img = Image.open(os.path.join('smileys', s)).convert('RGB')\n",
    "    pil_img = pil_img.resize((25, 25)) \n",
    "    pil_to_tensor = transforms.ToTensor()(pil_img).unsqueeze_(0)\n",
    "    imgs_tb[Path(os.path.join('smileys', s)).stem] = pil_to_tensor"
   ]
  },
  {
   "cell_type": "code",
   "execution_count": 78,
   "metadata": {},
   "outputs": [],
   "source": [
    "writer_embeddings = SummaryWriter(log_dir=os.path.join(\"./tfb/\"))\n",
    "\n",
    "vectorizer = Vectorizer(agg_method='tfidf', normalize=True)\n",
    "emb_test = vectorizer.fit_transform(X_test)\n",
    "\n",
    "writer_embeddings.add_embedding(torch.tensor(emb_test),\n",
    "                                metadata=[(r, s, l) for (r, s, l) in zip(\n",
    "                                    X_test['sms'].values,\n",
    "                                    [humor_2_emoji[class_names[y]] for y in y_test],\n",
    "                                    [humor_2_emoji[class_names[y]] for y in prediction_SVC])\n",
    "                                ],\n",
    "                                label_img=torch.cat([imgs_tb[class_names[y]] for y in y_test]),\n",
    "                                metadata_header=['sms','label', 'prediction'],\n",
    "                                tag=\"SMS-EMB-CLS\")"
   ]
  },
  {
   "cell_type": "markdown",
   "metadata": {},
   "source": [
    "Pour visualiser les représentations, lancer un tensorboard. Dans un terminal, se placer dans le dossier ou est éxécuté le notebook et exécuter:\n",
    "\n",
    "```\n",
    "tensorboard --logdir ./tfb/\n",
    "```\n",
    "\n",
    "Dans **Colab** on va lancer le tensorboard directement dans le notebook en éxécutant les cellules suivante :\n",
    "\n",
    "```\n",
    "%load_ext tensorboard\n",
    "```\n",
    "\n",
    "```\n",
    "%tensorboard --logdir ./tfb/\n",
    "```\n",
    "\n",
    "La compatibilité entre Colab et Tensorboard est un peu instable en ce moment. Je vous conseille donc de télécharger le dossier directement sur votre ordinateur.\n",
    "\n",
    "```\n",
    "!zip -r tfb.zip ./tfb/\n",
    "```\n",
    "\n",
    "Téléchargez le .zip, sur votre ordinateur, dezipé le. Puis, dans un terminal, se placer dans le dossier ou est éxécuté le notebook et exécuter:\n",
    "\n",
    "```\n",
    "tensorboard --logdir ./tfb/\n",
    "```\n",
    "\n",
    "Vous devriez avoir un visuel comme ci-dessous. Vous pouvez cliquer sur un sms et vous avez à droite les sms les plus proches en terme de distance cosine comme nous l'avons fait pour word2vec. Par ailleurs chaque sms est représenté par le smiley correspondant. Vous pouvez faire varier les méthodes de projection dans le panneau de gauche.\n",
    "\n",
    "<img src=\"https://github.com/AntoineSimoulin/m2-data-sciences/blob/master/TP3%20-%20Word%20Embeddings/tfb-viz.png?raw=True\" width=\"1000\">"
   ]
  },
  {
   "cell_type": "markdown",
   "metadata": {},
   "source": [
    "<hr>\n",
    "<div class=\"alert alert-info\" role=\"alert\">\n",
    "    <p><b>📝 Exercice :</b> Utiliser les méthodes UMAP, PCA et t-SNE pour projeter les données. Comparez les différentes méthodes de projections et interprétez qualitativement les propriétés de vos représentations.</p>\n",
    "</div>\n",
    "<hr>"
   ]
  },
  {
   "cell_type": "code",
   "execution_count": null,
   "metadata": {},
   "outputs": [],
   "source": []
  },
  {
   "cell_type": "markdown",
   "metadata": {},
   "source": [
    "## 📚 References\n",
    "\n",
    "> <div id=\"panckhurst-2016\">Panckhurst, Rachel, et al. <a href=https://hal.archives-ouvertes.fr/hal-01485560>88milSMS. A corpus of authentic text messages in French.</a> Banque de corpus CoMeRe. Chanier T.(éd)-Ortolang: Nancy (2016).</div>\n"
   ]
  }
 ],
 "metadata": {
  "kernelspec": {
   "display_name": "Python 3",
   "language": "python",
   "name": "python3"
  },
  "language_info": {
   "codemirror_mode": {
    "name": "ipython",
    "version": 3
   },
   "file_extension": ".py",
   "mimetype": "text/x-python",
   "name": "python",
   "nbconvert_exporter": "python",
   "pygments_lexer": "ipython3",
   "version": "3.6.12"
  }
 },
 "nbformat": 4,
 "nbformat_minor": 4
}
