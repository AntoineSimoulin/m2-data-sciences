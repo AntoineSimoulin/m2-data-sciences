{
 "cells": [
  {
   "cell_type": "markdown",
   "metadata": {},
   "source": [
    "# TP 3 : Embeddings"
   ]
  },
  {
   "cell_type": "markdown",
   "metadata": {},
   "source": [
    "<img src=\"https://github.com/AntoineSimoulin/m2-data-sciences/blob/master/TP3%20-%20Word%20Embeddings/tp3-header.png?raw=True\" width=\"1000\">"
   ]
  },
  {
   "cell_type": "markdown",
   "metadata": {},
   "source": [
    "On va s'appuyer sur le corpus collecté par <span class=\"badge badge-secondary\">(Panckhurst et al., 2016)</span> qui rassemble 88,000 sms collectés dans la région de Montpellier. Le corpus a été dé-identifié (en particulier, les noms sont remplacés par [_forename_]). Pour chaque sms, on a identifié les Emojis dans le texte.\n",
    "\n",
    "Il y avait beaucoup de type d'Emojis. Dans le TP, ils ont été simplifiés selon le tableau suivant. Tous les Emojis de la colonne `Emoji list` ont été remplacé par l'emoji de la colonne `Generic`. Dans le TP les Emojis n'apparaissent pas dans le texte du sms car on cherche à les prédire.\n",
    "\n",
    "\n",
    "| Generic Emoji  | Emoji list                                                         |\n",
    "|:--------------:|:------------------------------------------------------------------:|\n",
    "| 😃             | '=P', ':)', ':P', '=)', ':p', ':d', ':-)', '=D', ':D', '^^'        |\n",
    "| 😲             | ':O', 'o_o', ':o', ':&'                                            | \n",
    "| 😔             | '\"-.-'''\", '<_>', '-_-', \"--'\", \"-.-'\", '-.-', \"-.-''\", \"-\\_-'\"    | \n",
    "| 😠             | ':/', ':-/', ':-(', ':(', ':-<'                                    | \n",
    "| 😆             | '>.<', '¤.¤', '<>','><', '*.*', 'xd', 'XD', 'xD', 'x)',';)', ';-)' | \n",
    "| 😍             | '</3', '<3'                                                        | \n",
    " \n",
    "\n",
    "Finalement pour le TP, on a filtré le jeu de données pour ne conserver que les sms contenant qu'un seul Emoji. On a par ailleurs <i>down samplé</i> les classes majoritaires pour limiter le déséquilibre du jeu de données. En effet les sms avec un smiley 😃 était largement sur-représentés.\n",
    "\n",
    "<b>L'objet du TP est de prédire l'émoji associé à chaque message. Pour cela on vectorisera le texte en utilisant les méthodes d'embeddings.</b>\n",
    "\n",
    "<span class=\"badge badge-secondary\">(Panckhurst et al., 2016)</span> Panckhurst, Rachel, et al. \"88milSMS. A corpus of authentic text messages in French.\" Banque de corpus CoMeRe. Chanier T.(éd)-Ortolang: Nancy (2016)."
   ]
  },
  {
   "cell_type": "code",
   "execution_count": null,
   "metadata": {},
   "outputs": [],
   "source": [
    "# Execute if running in Colab\n",
    "# %tensorflow_version 1.x\n",
    "\n",
    "!pip install -q scikit-learn==0.23.2 matplotlib==3.3.2 pandas==1.1.3 gensim==3.8.3 torch==1.6.0 torchvision==0.7.0\n",
    "!git clone https://github.com/AntoineSimoulin/m2-data-sciences.git\n",
    "\n",
    "# puis redémarer l'environnement d'exécution"
   ]
  },
  {
   "cell_type": "code",
   "execution_count": 2,
   "metadata": {},
   "outputs": [],
   "source": [
    "from gensim.models import KeyedVectors\n",
    "\n",
    "from collections import Counter\n",
    "import numpy as np\n",
    "import pandas as pd\n",
    "import re\n",
    "\n",
    "import os, sys\n",
    "sys.path.append(os.path.abspath('m2-data-sciences/src'))\n",
    "\n",
    "# IPython automatically reload all changed code\n",
    "%load_ext autoreload\n",
    "%autoreload 2\n",
    "\n",
    "# Inline Figures with matplotlib\n",
    "%matplotlib inline\n",
    "%config InlineBackend.figure_format='retina'"
   ]
  },
  {
   "cell_type": "markdown",
   "metadata": {},
   "source": [
    "On va utiliser les embeddings déjà entrainé que nous avons manipulé au cours précédent. Pour limiter la taille du fichier d'embeddings, on a sauvegardé que les `10,000` mots les plus fréquents. <b>Vous devez récupérer le fichier d'embeddings directement sur le Moodle.</b>"
   ]
  },
  {
   "cell_type": "code",
   "execution_count": 3,
   "metadata": {},
   "outputs": [],
   "source": [
    "w2v_model = KeyedVectors.load_word2vec_format(\"oscar.fr.300.10k.model\", unicode_errors='ignore')\n",
    "w2v_model.init_sims(replace=True)"
   ]
  },
  {
   "cell_type": "code",
   "execution_count": 96,
   "metadata": {},
   "outputs": [
    {
     "data": {
      "text/plain": [
       "10000"
      ]
     },
     "execution_count": 96,
     "metadata": {},
     "output_type": "execute_result"
    }
   ],
   "source": [
    "len(w2v_model.vocab)"
   ]
  },
  {
   "cell_type": "code",
   "execution_count": 97,
   "metadata": {},
   "outputs": [],
   "source": [
    "# On crée un array avec les 10,000 premiers mots et on crée le dictionaire de vocabulaire\n",
    "\n",
    "word_count = {k: w2v_model.vocab[k].count for k in w2v_model.vocab}\n",
    "word_count = Counter(word_count)\n",
    "word_count.most_common(10)\n",
    "\n",
    "idx2w = {i: w for (i, (w, f)) in enumerate(word_count.most_common(10000))}\n",
    "w2idx = {w: i for (i, (w, f)) in enumerate(word_count.most_common(10000))}\n",
    "\n",
    "\n",
    "embeddings_vectors = [w2v_model[w] for (w, f) in word_count.most_common(10000)]\n",
    "word2vec_embeddings = np.vstack(embeddings_vectors)"
   ]
  },
  {
   "cell_type": "markdown",
   "metadata": {},
   "source": [
    "<b>Vous devez récupérer le jeu de données directement sur le Moodle.</b>"
   ]
  },
  {
   "cell_type": "code",
   "execution_count": 9,
   "metadata": {},
   "outputs": [],
   "source": [
    "dataset = pd.read_csv('emojis.csv')"
   ]
  },
  {
   "cell_type": "code",
   "execution_count": 10,
   "metadata": {},
   "outputs": [
    {
     "data": {
      "text/html": [
       "<div>\n",
       "<style scoped>\n",
       "    .dataframe tbody tr th:only-of-type {\n",
       "        vertical-align: middle;\n",
       "    }\n",
       "\n",
       "    .dataframe tbody tr th {\n",
       "        vertical-align: top;\n",
       "    }\n",
       "\n",
       "    .dataframe thead th {\n",
       "        text-align: right;\n",
       "    }\n",
       "</style>\n",
       "<table border=\"1\" class=\"dataframe\">\n",
       "  <thead>\n",
       "    <tr style=\"text-align: right;\">\n",
       "      <th></th>\n",
       "      <th>Unnamed: 0</th>\n",
       "      <th>sms</th>\n",
       "      <th>happy</th>\n",
       "      <th>joke</th>\n",
       "      <th>astonished</th>\n",
       "      <th>angry</th>\n",
       "      <th>bored</th>\n",
       "      <th>heart</th>\n",
       "      <th>filter</th>\n",
       "    </tr>\n",
       "  </thead>\n",
       "  <tbody>\n",
       "    <tr>\n",
       "      <th>0</th>\n",
       "      <td>3</td>\n",
       "      <td>Haha merci beaucoup . Tout se passe bien dans....</td>\n",
       "      <td>True</td>\n",
       "      <td>False</td>\n",
       "      <td>False</td>\n",
       "      <td>False</td>\n",
       "      <td>False</td>\n",
       "      <td>True</td>\n",
       "      <td>True</td>\n",
       "    </tr>\n",
       "    <tr>\n",
       "      <th>1</th>\n",
       "      <td>4</td>\n",
       "      <td>Oh trop mignon mon bbé jsuis au travaiiiil la</td>\n",
       "      <td>False</td>\n",
       "      <td>False</td>\n",
       "      <td>False</td>\n",
       "      <td>False</td>\n",
       "      <td>False</td>\n",
       "      <td>True</td>\n",
       "      <td>True</td>\n",
       "    </tr>\n",
       "    <tr>\n",
       "      <th>2</th>\n",
       "      <td>5</td>\n",
       "      <td>Bon alors jvais etre serieuse un ptit moment ....</td>\n",
       "      <td>False</td>\n",
       "      <td>True</td>\n",
       "      <td>False</td>\n",
       "      <td>False</td>\n",
       "      <td>False</td>\n",
       "      <td>True</td>\n",
       "      <td>True</td>\n",
       "    </tr>\n",
       "    <tr>\n",
       "      <th>3</th>\n",
       "      <td>6</td>\n",
       "      <td>Mon cher et tendre filleul... Je m'engage a et...</td>\n",
       "      <td>False</td>\n",
       "      <td>False</td>\n",
       "      <td>False</td>\n",
       "      <td>False</td>\n",
       "      <td>False</td>\n",
       "      <td>True</td>\n",
       "      <td>True</td>\n",
       "    </tr>\n",
       "    <tr>\n",
       "      <th>4</th>\n",
       "      <td>7</td>\n",
       "      <td>Ohhhhhh non ! Héhé j'te texto en mode scred mo...</td>\n",
       "      <td>False</td>\n",
       "      <td>False</td>\n",
       "      <td>False</td>\n",
       "      <td>False</td>\n",
       "      <td>False</td>\n",
       "      <td>True</td>\n",
       "      <td>True</td>\n",
       "    </tr>\n",
       "  </tbody>\n",
       "</table>\n",
       "</div>"
      ],
      "text/plain": [
       "   Unnamed: 0                                                sms  happy  \\\n",
       "0           3  Haha merci beaucoup . Tout se passe bien dans....   True   \n",
       "1           4      Oh trop mignon mon bbé jsuis au travaiiiil la  False   \n",
       "2           5  Bon alors jvais etre serieuse un ptit moment ....  False   \n",
       "3           6  Mon cher et tendre filleul... Je m'engage a et...  False   \n",
       "4           7  Ohhhhhh non ! Héhé j'te texto en mode scred mo...  False   \n",
       "\n",
       "    joke  astonished  angry  bored  heart  filter  \n",
       "0  False       False  False  False   True    True  \n",
       "1  False       False  False  False   True    True  \n",
       "2   True       False  False  False   True    True  \n",
       "3  False       False  False  False   True    True  \n",
       "4  False       False  False  False   True    True  "
      ]
     },
     "execution_count": 10,
     "metadata": {},
     "output_type": "execute_result"
    }
   ],
   "source": [
    "dataset.head()"
   ]
  },
  {
   "cell_type": "code",
   "execution_count": 69,
   "metadata": {},
   "outputs": [],
   "source": [
    "class_names = ['happy', 'joke', 'astonished', 'angry', 'bored', 'heart']"
   ]
  },
  {
   "cell_type": "code",
   "execution_count": 13,
   "metadata": {},
   "outputs": [
    {
     "data": {
      "text/plain": [
       "(6387, 9)"
      ]
     },
     "execution_count": 13,
     "metadata": {},
     "output_type": "execute_result"
    }
   ],
   "source": [
    "dataset.shape"
   ]
  },
  {
   "cell_type": "markdown",
   "metadata": {},
   "source": [
    "On va utiliser la même fonction de tokenization qui a été utilisée pour entrainer les embeddings."
   ]
  },
  {
   "cell_type": "code",
   "execution_count": 14,
   "metadata": {},
   "outputs": [],
   "source": [
    "token_pattern = re.compile(r\"(\\->|(?::\\)|:-\\)|:\\(|:-\\(|;\\);-\\)|:-O|8-|:P|:D|:\\||:S|:\\$|:@|8o\\||\\+o\\(|\\(H\\)|\\(C\\)|\\(\\?\\))|(?:[\\d.,]+)|([^\\s\\w0-9])\\2*|(?:[\\w0-9\\.]+['’]?)(?<!\\.))\")\n",
    "\n",
    "def tokenize(text):\n",
    "    tokens = [groups[0] for groups in re.findall(token_pattern, str(text))]\n",
    "    tokens = [t.strip() for t in tokens]\n",
    "    return tokens"
   ]
  },
  {
   "cell_type": "code",
   "execution_count": 15,
   "metadata": {},
   "outputs": [],
   "source": [
    "dataset['tokens'] = dataset['sms'].apply(tokenize)"
   ]
  },
  {
   "cell_type": "markdown",
   "metadata": {},
   "source": [
    "### Exploration de données"
   ]
  },
  {
   "cell_type": "markdown",
   "metadata": {},
   "source": [
    "<div class=\"alert alert-info\" role=\"alert\">\n",
    "    <p><b>Exercice :</b> Observer la distribution des classes.</p>\n",
    "</div>    "
   ]
  },
  {
   "cell_type": "code",
   "execution_count": null,
   "metadata": {},
   "outputs": [],
   "source": []
  },
  {
   "cell_type": "markdown",
   "metadata": {},
   "source": [
    "<div class=\"alert alert-info\" role=\"alert\">\n",
    "    <p><b>Exercice :</b> Evaluer la proportion de tokens qui sont hors du vocabulaire des embeddings.</p>\n",
    "</div>    "
   ]
  },
  {
   "cell_type": "code",
   "execution_count": 77,
   "metadata": {},
   "outputs": [],
   "source": [
    "# %load solutions/unk.py\n"
   ]
  },
  {
   "cell_type": "markdown",
   "metadata": {},
   "source": [
    "### Vectorization"
   ]
  },
  {
   "cell_type": "markdown",
   "metadata": {},
   "source": [
    "Les embeddings de mots permettent de représenter chaque <i>token</i> par un vecteur. Pour obtenir un vecteur qui représente le sms, on va agréger les différents mots du texte. On considérera plusieurs fonctions d'agrégation : la somme, la moyenne, me maximum ou le minimum.\n",
    "\n",
    "En pratique nous verrons dans le dernier cours d'ouverture qu'il existe des méthodes plus évoluées pour composer les mots de la phrase. Néanmoins une simple fonction d'agrégation nous donnera déjà une bonne <i>baseline</i>."
   ]
  },
  {
   "cell_type": "markdown",
   "metadata": {},
   "source": [
    "<img src=\"https://github.com/AntoineSimoulin/m2-data-sciences/blob/master/TP3%20-%20Word%20Embeddings/model.png?raw=True\" width=\"500\">"
   ]
  },
  {
   "cell_type": "markdown",
   "metadata": {},
   "source": [
    "<div class=\"alert alert-info\" role=\"alert\">\n",
    "    <p><b>Exercice :</b> Ecrire une fonction qui permet de vectoriser un sms.</p>\n",
    "</div>    "
   ]
  },
  {
   "cell_type": "code",
   "execution_count": 19,
   "metadata": {},
   "outputs": [],
   "source": [
    "from sklearn.base import BaseEstimator, TransformerMixin\n",
    "from sklearn.feature_extraction.text import TfidfVectorizer"
   ]
  },
  {
   "cell_type": "code",
   "execution_count": null,
   "metadata": {},
   "outputs": [],
   "source": [
    "def vectorize(tokens, agg_method='mean'):\n",
    "    \n",
    "    #TODO à compléter\n",
    "    \n",
    "    # associer chaque token à son embedding. \n",
    "    # Attention, certains tokens peuvent ne pas être dans le vocabulaire\n",
    "    \n",
    "    # Agréger les représentations de chaque token.\n",
    "    # Le vecteur de sortie doit être de taille (300, )\n",
    "    \n",
    "    if agg_method == 'mean':\n",
    "        sentence_embedding = \n",
    "    elif agg_method == 'max':\n",
    "        sentence_embedding = \n",
    "    elif agg_method == 'sum':\n",
    "        sentence_embedding = \n",
    "    \n",
    "    return\n",
    "    "
   ]
  },
  {
   "cell_type": "code",
   "execution_count": 21,
   "metadata": {},
   "outputs": [],
   "source": [
    "# %load solutions/vectorize_1.py\n"
   ]
  },
  {
   "cell_type": "markdown",
   "metadata": {},
   "source": [
    "On voudrait attribuer un poids moins important aux embeddings des mots moins caractéristiques. Pour ça, on voudrait pondérer la contribution des vecteurs de chaque mot en fonction de leur score TF-IDF."
   ]
  },
  {
   "cell_type": "markdown",
   "metadata": {},
   "source": [
    "<img src=\"https://github.com/AntoineSimoulin/m2-data-sciences/blob/master/TP3%20-%20Word%20Embeddings/model-tfidf.png?raw=True\" width=\"700\">"
   ]
  },
  {
   "cell_type": "markdown",
   "metadata": {},
   "source": [
    "<div class=\"alert alert-info\" role=\"alert\">\n",
    "    <p><b>Exercice :</b> Uiliser la pondération TF-IDF pour pondérer chacun des vecteurs</p>\n",
    "</div>    "
   ]
  },
  {
   "cell_type": "code",
   "execution_count": 23,
   "metadata": {},
   "outputs": [],
   "source": [
    "tfidf_vectorizer = TfidfVectorizer(tokenizer=lambda x: x,\n",
    "                                   lowercase=False)\n",
    "\n",
    "tfidf_vectorizer.fit(dataset['tokens'])\n",
    "\n",
    "w2idx_tfidf = {w: idx for (idx, w) in enumerate(tfidf_vectorizer.get_feature_names())}\n",
    "idx_tfidf2w = {idx: w for (idx, w) in enumerate(tfidf_vectorizer.get_feature_names())}"
   ]
  },
  {
   "cell_type": "code",
   "execution_count": null,
   "metadata": {},
   "outputs": [],
   "source": [
    "def vectorize(tokens, agg_method='mean', tfidf_vectorizer=None):\n",
    "    \n",
    "    #TODO à compléter\n",
    "    \n",
    "    if agg_method == 'mean':\n",
    "        sentence_embedding = \n",
    "    elif agg_method == 'max':\n",
    "        sentence_embedding = \n",
    "    elif agg_method == 'sum':\n",
    "        sentence_embedding = \n",
    "    elif agg_method == 'tfidf':\n",
    "        \n",
    "    \n",
    "    return\n",
    "    "
   ]
  },
  {
   "cell_type": "code",
   "execution_count": null,
   "metadata": {},
   "outputs": [],
   "source": [
    "# %load solutions/vectorize_2.py\n"
   ]
  },
  {
   "cell_type": "code",
   "execution_count": 27,
   "metadata": {},
   "outputs": [],
   "source": []
  },
  {
   "cell_type": "code",
   "execution_count": 28,
   "metadata": {},
   "outputs": [
    {
     "name": "stdout",
     "output_type": "stream",
     "text": [
      "(6387, 300)\n"
     ]
    }
   ],
   "source": [
    "X = [vectorize(t) for t in dataset['tokens']]\n",
    "X = np.array(X)\n",
    "print(X.shape)"
   ]
  },
  {
   "cell_type": "markdown",
   "metadata": {},
   "source": [
    "On va intégrer la fonction `vectorize` dans un module compatible avec les fonctions de `sklearn`."
   ]
  },
  {
   "cell_type": "markdown",
   "metadata": {},
   "source": [
    "<div class=\"alert alert-info\" role=\"alert\">\n",
    "    <p><b>Exercice :</b> Intégrer votre fonction de vectorization dans la classe Vectorizer ci-dessous. Vous devez simoplement la copier/coller en replaçant tfidf_vectorizer par self.tfidf_vectorizer car c'est maintenant un attribut de la class.</p>\n",
    "</div>    "
   ]
  },
  {
   "cell_type": "code",
   "execution_count": 47,
   "metadata": {},
   "outputs": [],
   "source": [
    "class Vectorizer(BaseEstimator, TransformerMixin):\n",
    "    \n",
    "    def __init__(self, agg_method='mean', normalize=False):\n",
    "        self.agg_method = agg_method\n",
    "        self.normalize = normalize\n",
    "        self.tfidf_vectorizer = TfidfVectorizer(tokenizer=lambda x: x,\n",
    "                                                lowercase=False,\n",
    "                                                token_pattern=None)\n",
    "        \n",
    "    def vectorize(self, tokens):\n",
    "        \n",
    "        #TODO à compléter\n",
    "        \n",
    "        vectors = np.array([w2v_model[t] for t in tokens if t in w2v_model.vocab])\n",
    "        \n",
    "        if len(vectors) == 0:\n",
    "            sentence_embedding = \n",
    "        elif len(vectors) == 1:\n",
    "            sentence_embedding = \n",
    "        elif len(vectors) > 1:\n",
    "            if self.agg_method == 'mean':\n",
    "                sentence_embedding = \n",
    "            elif self.agg_method == 'max':\n",
    "                sentence_embedding = \n",
    "            elif self.agg_method == 'sum':\n",
    "                sentence_embedding = \n",
    "            elif self.agg_method == 'tfidf':\n",
    "                \n",
    "        return sentence_embedding\n",
    "    \n",
    "    def _vectorize(self, tokens):\n",
    "        return vectorize(tokens)\n",
    "    \n",
    "    def fit(self, X, y=None): \n",
    "        self.tfidf_vectorizer.fit(X['tokens'])\n",
    "        self.w2idx_tfidf = {w: idx for (idx, w) in enumerate(self.tfidf_vectorizer.get_feature_names())}\n",
    "        self.idx_tfidf2w = {idx: w for (idx, w) in enumerate(self.tfidf_vectorizer.get_feature_names())}\n",
    "        return self\n",
    "    \n",
    "    def transform(self, X, y=None):\n",
    "        X = [self.vectorize(t) for t in X['tokens']]\n",
    "        X = np.array(X)\n",
    "\n",
    "        if self.normalize:\n",
    "            X = X / np.linalg.norm(X + self.eps, axis=1, keepdims=True)\n",
    "        return X"
   ]
  },
  {
   "cell_type": "code",
   "execution_count": null,
   "metadata": {},
   "outputs": [],
   "source": [
    "# %load solutions/vectorizer.py\n"
   ]
  },
  {
   "cell_type": "code",
   "execution_count": 48,
   "metadata": {},
   "outputs": [],
   "source": [
    "vectorizer = Vectorizer(agg_method='tfidf')"
   ]
  },
  {
   "cell_type": "code",
   "execution_count": 49,
   "metadata": {},
   "outputs": [],
   "source": [
    "X = vectorizer.fit_transform(dataset)"
   ]
  },
  {
   "cell_type": "markdown",
   "metadata": {},
   "source": [
    "### Classification"
   ]
  },
  {
   "cell_type": "code",
   "execution_count": 65,
   "metadata": {},
   "outputs": [],
   "source": [
    "from sklearn.model_selection import train_test_split\n",
    "from sklearn.pipeline import Pipeline\n",
    "\n",
    "from sklearn.multiclass import OneVsRestClassifier\n",
    "from sklearn.svm import LinearSVC\n",
    "from sklearn.svm import SVC\n",
    "from sklearn.ensemble import RandomForestClassifier\n",
    "from sklearn.linear_model import LogisticRegression\n",
    "\n",
    "from sklearn.metrics import accuracy_score, roc_auc_score"
   ]
  },
  {
   "cell_type": "markdown",
   "metadata": {},
   "source": [
    "On compare deux algorithmes de classification :  Une régression logistique et un SVM ou l'on pénalise les classes majoritaires."
   ]
  },
  {
   "cell_type": "code",
   "execution_count": 51,
   "metadata": {},
   "outputs": [],
   "source": [
    "X_train, X_test = train_test_split(\n",
    "    dataset, test_size=0.33, random_state=42)\n",
    "\n",
    "y_train = X_train[['happy', 'joke', 'astonished', 'angry', 'bored', 'heart']].astype(int).values\n",
    "y_train = [x.tolist().index(1) for x in y_train]\n",
    "\n",
    "y_test = X_test[['happy', 'joke', 'astonished', 'angry', 'bored', 'heart']].astype(int).values\n",
    "y_test = [x.tolist().index(1) for x in y_test]"
   ]
  },
  {
   "cell_type": "code",
   "execution_count": 52,
   "metadata": {},
   "outputs": [
    {
     "data": {
      "text/plain": [
       "4279"
      ]
     },
     "execution_count": 52,
     "metadata": {},
     "output_type": "execute_result"
    }
   ],
   "source": [
    "len(y_train)"
   ]
  },
  {
   "cell_type": "code",
   "execution_count": 53,
   "metadata": {},
   "outputs": [
    {
     "data": {
      "text/plain": [
       "(4279, 10)"
      ]
     },
     "execution_count": 53,
     "metadata": {},
     "output_type": "execute_result"
    }
   ],
   "source": [
    "X_train.shape"
   ]
  },
  {
   "cell_type": "code",
   "execution_count": 54,
   "metadata": {},
   "outputs": [],
   "source": [
    "LogReg_pipeline = Pipeline([\n",
    "    ('vect', Vectorizer()),\n",
    "    ('clf', OneVsRestClassifier(LogisticRegression(solver='sag'))),\n",
    "])\n",
    "\n",
    "\n",
    "# Training logistic regression model on train data\n",
    "LogReg_pipeline.fit(X_train, y_train)\n",
    "\n",
    "# Infering data on test set\n",
    "prediction_LogReg = LogReg_pipeline.predict(X_test)"
   ]
  },
  {
   "cell_type": "code",
   "execution_count": 55,
   "metadata": {},
   "outputs": [],
   "source": [
    "SVC_pipeline = Pipeline([\n",
    "    ('vect', Vectorizer(agg_method='tfidf')),\n",
    "    ('clf', OneVsRestClassifier(SVC(kernel='linear', \n",
    "                                    class_weight='balanced', # penalize\n",
    "                                    probability=True), n_jobs=-1))\n",
    "])\n",
    "\n",
    "\n",
    "SVC_pipeline.fit(X_train, y_train)\n",
    "prediction_SVC = SVC_pipeline.predict(X_test)"
   ]
  },
  {
   "cell_type": "markdown",
   "metadata": {},
   "source": [
    "### Evaluation"
   ]
  },
  {
   "cell_type": "code",
   "execution_count": 66,
   "metadata": {},
   "outputs": [],
   "source": [
    "import matplotlib.pyplot as plt\n",
    "from sklearn.metrics import confusion_matrix\n",
    "from plots import plot_confusion_matrix"
   ]
  },
  {
   "cell_type": "code",
   "execution_count": 74,
   "metadata": {},
   "outputs": [
    {
     "name": "stdout",
     "output_type": "stream",
     "text": [
      "Test accuracy is 0.325426944971537\n",
      "Test ROC socre is 0.6845136821641983\n",
      "Confusion matrix, without normalization\n"
     ]
    },
    {
     "data": {
      "image/png": "[encoded data removed]",
      "text/plain": [
       "<Figure size 360x360 with 2 Axes>"
      ]
     },
     "metadata": {
      "image/png": {
       "height": 346,
       "width": 363
      },
      "needs_background": "light"
     },
     "output_type": "display_data"
    }
   ],
   "source": [
    "print('Test accuracy is {}'.format(accuracy_score(y_test, prediction_SVC)))\n",
    "print('Test ROC socre is {}'.format(roc_auc_score(np.eye(np.max(y_test) + 1)[y_test],\n",
    "                                                  SVC_pipeline.predict_proba(X_test), \n",
    "                                                  multi_class='ovo')))\n",
    "\n",
    "plot_confusion_matrix(confusion_matrix(y_test, prediction_SVC), \n",
    "                      classes=class_names, \n",
    "                      title='Confusion matrix, without normalization')"
   ]
  },
  {
   "cell_type": "code",
   "execution_count": 75,
   "metadata": {},
   "outputs": [
    {
     "name": "stdout",
     "output_type": "stream",
     "text": [
      "Test accuracy is 0.3752371916508539\n",
      "Test ROC socre is 0.6787592648363906\n",
      "Confusion matrix, without normalization\n"
     ]
    },
    {
     "data": {
      "image/png": "[encoded data removed]",
      "text/plain": [
       "<Figure size 360x360 with 2 Axes>"
      ]
     },
     "metadata": {
      "image/png": {
       "height": 346,
       "width": 363
      },
      "needs_background": "light"
     },
     "output_type": "display_data"
    }
   ],
   "source": [
    "print('Test accuracy is {}'.format(accuracy_score(y_test, prediction_LogReg)))\n",
    "print('Test ROC socre is {}'.format(roc_auc_score(np.eye(np.max(y_test) + 1)[y_test],\n",
    "                                                  LogReg_pipeline.predict_proba(X_test), \n",
    "                                                  multi_class='ovo')))\n",
    "\n",
    "plot_confusion_matrix(confusion_matrix(y_test, prediction_LogReg), \n",
    "                      classes=class_names, \n",
    "                      title='Confusion matrix, without normalization')"
   ]
  },
  {
   "cell_type": "markdown",
   "metadata": {},
   "source": [
    "<div class=\"alert alert-info\" role=\"alert\">\n",
    "    <p><b>Exercice :</b> Quelle mesure de performance vous semble le plus adaptée pour ce cas d'usage ?</p>\n",
    "</div>    "
   ]
  },
  {
   "cell_type": "code",
   "execution_count": null,
   "metadata": {},
   "outputs": [],
   "source": []
  },
  {
   "cell_type": "markdown",
   "metadata": {},
   "source": [
    "<div class=\"alert alert-info\" role=\"alert\">\n",
    "    <p><b>Exercice :</b> Comparer les résultats obtenus avec les deux algorithmes de classifications</p>\n",
    "</div>    "
   ]
  },
  {
   "cell_type": "code",
   "execution_count": null,
   "metadata": {},
   "outputs": [],
   "source": []
  },
  {
   "cell_type": "markdown",
   "metadata": {},
   "source": [
    "<div class=\"alert alert-info\" role=\"alert\">\n",
    "    <p><b>Exercice :</b> Comparer les différentes méthodes d'agrégation proposées. (Mean, Max, Sum, Moyenne pondérée par le TF-IDF)</p>\n",
    "</div>    "
   ]
  },
  {
   "cell_type": "code",
   "execution_count": null,
   "metadata": {},
   "outputs": [],
   "source": []
  },
  {
   "cell_type": "markdown",
   "metadata": {},
   "source": [
    "L'utilisation des méthodes de down-sampling ou up-sampling peut s'avérer fastidieux (on va se priver de données ou en utiliser d'autres plusieurs fois. La sélection des données doit se faire précisémment pour ne pas impacter les capacités de généralisation de l'algorithme). Nous avons préféré ici utiliser un algorithme qui pénalise les classes majoritaires et une mesure d'erreur adaptée. Il existe un bon article de blog pour gérer les classes déséquilibrées : https://elitedatascience.com/imbalanced-classes. "
   ]
  },
  {
   "cell_type": "markdown",
   "metadata": {},
   "source": [
    "On peut se faire une idée des limites et des points fort de l'algorithme en regardant des prédictions."
   ]
  },
  {
   "cell_type": "code",
   "execution_count": 84,
   "metadata": {},
   "outputs": [],
   "source": [
    "humors = ['happy', 'astonished', 'bored', 'angry', 'joke', 'heart']\n",
    "meta_smiley = [b'\\xF0\\x9F\\x98\\x83'.decode(\"utf-8\"),\n",
    "                b'\\xF0\\x9F\\x98\\xB2'.decode(\"utf-8\"),\n",
    "                b'\\xF0\\x9F\\x98\\x94'.decode(\"utf-8\"), \n",
    "                b'\\xF0\\x9F\\x98\\xA0'.decode(\"utf-8\"),\n",
    "                b'\\xF0\\x9F\\x98\\x86'.decode(\"utf-8\"),\n",
    "                b'\\xF0\\x9F\\x98\\x8D'.decode(\"utf-8\")]\n",
    "humor_2_emoji = {h: ms for (h, ms) in zip(humors, meta_smiley)}"
   ]
  },
  {
   "cell_type": "code",
   "execution_count": 86,
   "metadata": {},
   "outputs": [
    {
     "data": {
      "text/plain": [
       "(2108, 10)"
      ]
     },
     "execution_count": 86,
     "metadata": {},
     "output_type": "execute_result"
    }
   ],
   "source": [
    "X_test.shape"
   ]
  },
  {
   "cell_type": "code",
   "execution_count": 89,
   "metadata": {},
   "outputs": [
    {
     "name": "stdout",
     "output_type": "stream",
     "text": [
      "Mais pk tu peux pas me dire ? Rappel toi d'au moins 2,3 trucs vu qu'tu m'le dis pas trop sur le coup lol (Pred) 😠 (True) 😠 \n",
      "\n",
      "J espere j espere! Ca fait vmt super lgtps. [_forename_] [_forename_] tu manques. (Pred) 😍 (True) 😍 \n",
      "\n",
      "Vien ici on fera le tour de Montpellier mdr! ça ferai pas pareil que le tour de sirach ! (Pred) 😆 (True) 😆 \n",
      "\n",
      "c'est méme pas moi qui t'ai faite changer d'avis (Pred) 😆 (True) 😠 \n",
      "\n",
      "Et votre crémaillère aura lieu quand ? ? En 2013 ? je vais essayer de m'occuper du cadeau de val. (Pred) 😠 (True) 😃 \n",
      "\n",
      "Mais mes parents veulent qu'on en \"discute\" car ils disent que va pas être facil si j'y vais ... D'un côté ils ont pas tord mais j'ai tellement envie de vous revoir que même si c'est pour m'ennuier pendant une semaine... Je VEUX venir ! (Pred) 😔 (True) 😠 \n",
      "\n",
      "3 chemises, celle que t'as vu, une blanche en lin, et une blanche rayé bleu. Au pire il peut changer. Et un ptit livre de culture générale, c'est les questions qu'on ne sait jamais posé, c'est sympa. Voilou on se voit demain, Poutou (Pred) 😆 (True) 😃 \n",
      "\n",
      "Elle est plus sur fb et elle m avait pas repondu a mon dernier sms. Un petit ami au prix d une amitié de neuf ans ca me semble etre assez chez payé quoi mais elle m a dit vouloir absolument me parler demain ds le car de tt \"ses doutes\". Rep demain en gros! (Pred) 😠 (True) 😠 \n",
      "\n",
      "J'aime mieux ca . Bon ca t'a plu quand meme? (Pred) 😠 (True) 😆 \n",
      "\n",
      "Et en plus elle écrit des texto en cour! Quelle mauvaise élevé! (Pred) 😆 (True) 😃 \n",
      "\n"
     ]
    }
   ],
   "source": [
    "for _ in range(10):\n",
    "    idx = np.random.randint(0, len(X_test))\n",
    "    \n",
    "    emojis = humor_2_emoji[class_names[prediction_SVC[idx]]]\n",
    "    \n",
    "    true_emojis = humor_2_emoji[class_names[y_test[idx]]]\n",
    "    print(X_test['sms'].values[idx], '(Pred)', emojis, '(True)', true_emojis, '\\n')\n",
    "    "
   ]
  },
  {
   "cell_type": "markdown",
   "metadata": {},
   "source": [
    "### Visualisation"
   ]
  },
  {
   "cell_type": "markdown",
   "metadata": {},
   "source": [
    "On peut aussi essayer de visualiser plus globalement les représentations. Pour ça on peut utiliser des algorithmes de réduction de dimension pour visualiser nos données. On a déjà parlé de UMAP et t-SNE. De manière intutive, l'algorithme projete les représentations dans un espace de plus faible dimension en s'efforcant de respecter les distances entre les points entre l'espace de départ et d'arrivée. Il permet de visualiser facilement les données. On va utiliser l'outil `Tensorboard` qui intègre les principales méthodes de réduction de dimensions."
   ]
  },
  {
   "cell_type": "code",
   "execution_count": 79,
   "metadata": {},
   "outputs": [],
   "source": [
    "from pathlib import Path\n",
    "from PIL import Image\n",
    "import os\n",
    "from os import listdir\n",
    "from os.path import isfile, join\n",
    "from torchvision import transforms\n",
    "\n",
    "from torch.utils.tensorboard import SummaryWriter\n",
    "import torch"
   ]
  },
  {
   "cell_type": "code",
   "execution_count": null,
   "metadata": {},
   "outputs": [],
   "source": [
    "import tensorflow as tf\n",
    "import tensorboard as tb\n",
    "tf.io.gfile = tb.compat.tensorflow_stub.io.gfile"
   ]
  },
  {
   "cell_type": "code",
   "execution_count": 81,
   "metadata": {},
   "outputs": [],
   "source": [
    "smileys_images = [f for f in listdir('m2-data-sciences/TP3 - Word Embeddings/smileys') if isfile(join('m2-data-sciences/TP3 - Word Embeddings/smileys', f))]"
   ]
  },
  {
   "cell_type": "code",
   "execution_count": 82,
   "metadata": {},
   "outputs": [],
   "source": [
    "imgs_tb = {}\n",
    "for s in smileys_images:\n",
    "    pil_img = Image.open(os.path.join('m2-data-sciences/TP3 - Word Embeddings/smileys', s)).convert('RGB')\n",
    "    pil_img = pil_img.resize((25, 25)) \n",
    "    pil_to_tensor = transforms.ToTensor()(pil_img).unsqueeze_(0)\n",
    "    imgs_tb[Path(os.path.join('smileys', s)).stem] = pil_to_tensor"
   ]
  },
  {
   "cell_type": "code",
   "execution_count": 448,
   "metadata": {},
   "outputs": [],
   "source": [
    "writer_embeddings = SummaryWriter(log_dir=os.path.join(\"./tfb/\"))\n",
    "\n",
    "vectorizer = Vectorizer(agg_method='tfidf', normalize=True)\n",
    "emb_test = vectorizer.fit_transform(X_test)\n",
    "\n",
    "writer_embeddings.add_embedding(torch.tensor(emb_test),\n",
    "                                metadata=[(r, s, l) for (r, s, l) in zip(\n",
    "                                    X_test['sms'].values,\n",
    "                                    [humor_2_emoji[class_names[y]] for y in y_test],\n",
    "                                    [humor_2_emoji[class_names[y]] for y in prediction_SVC])\n",
    "                                ],\n",
    "                                label_img=torch.cat([imgs_tb[class_names[y]] for y in y_test]),\n",
    "                                metadata_header=['sms','label', 'prediction'],\n",
    "                                tag=\"SMS-EMB-CLS\")"
   ]
  },
  {
   "cell_type": "markdown",
   "metadata": {},
   "source": [
    "Pour visualiser les représentations, lancer un tensorboard. Dans un terminal, se placer dans le dossier ou est éxécuté le notebook et exécuter:\n",
    "\n",
    "```\n",
    "tensorboard --logdir ./tfb/\n",
    "```\n",
    "\n",
    "Dans **Colab** on va lancer le tensorboard directement dans le notebook en éxécutant les cellules suivante :\n",
    "\n",
    "```\n",
    "%load_ext tensorboard\n",
    "```\n",
    "\n",
    "```\n",
    "%tensorboard --logdir ./tfb/\n",
    "```\n",
    "\n",
    "La compatibilité entre Colab et Tensorboard est un peu instable en ce moment. Je vous conseille donc de télécharger le dossier directement sur votre ordinateur.\n",
    "\n",
    "```\n",
    "!zip -r tfb.zip ./tfb/\n",
    "```\n",
    "\n",
    "Téléchargez le .zip, sur votre ordinateur, dezipé le. Puis, dans un terminal, se placer dans le dossier ou est éxécuté le notebook et exécuter:\n",
    "\n",
    "```\n",
    "tensorboard --logdir ./tfb/\n",
    "```\n",
    "\n",
    "Vous devriez avoir un visuel comme ci-dessous. Vous pouvez cliquer sur un sms et vous avez à droite les sms les plus proches en terme de distance cosine comme nous l'avons fait pour word2vec. Par ailleurs chaque sms est représenté par le smiley correspondant. Vous pouvez faire varier les méthodes de projection dans le panneau de gauche.\n",
    "\n",
    "<img src=\"https://github.com/AntoineSimoulin/m2-data-sciences/blob/master/TP3%20-%20Word%20Embeddings/tfb-viz.png?raw=True\" width=\"1000\">"
   ]
  },
  {
   "cell_type": "markdown",
   "metadata": {},
   "source": [
    "<div class=\"alert alert-info\" role=\"alert\">\n",
    "    <p><b>Exercice :</b> Utiliser les méthodes UMAP, PCA et t-SNE pour projeter les données. Comparez les différentes méthodes de projections et interprétez qualitativement les propriétés de vos représentations.</p>\n",
    "</div>    "
   ]
  },
  {
   "cell_type": "code",
   "execution_count": null,
   "metadata": {},
   "outputs": [],
   "source": []
  }
 ],
 "metadata": {
  "kernelspec": {
   "display_name": "Python 3",
   "language": "python",
   "name": "python3"
  },
  "language_info": {
   "codemirror_mode": {
    "name": "ipython",
    "version": 3
   },
   "file_extension": ".py",
   "mimetype": "text/x-python",
   "name": "python",
   "nbconvert_exporter": "python",
   "pygments_lexer": "ipython3",
   "version": "3.6.12"
  }
 },
 "nbformat": 4,
 "nbformat_minor": 4
}
