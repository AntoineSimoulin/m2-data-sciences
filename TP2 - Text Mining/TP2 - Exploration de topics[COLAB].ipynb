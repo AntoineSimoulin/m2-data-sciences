{
 "cells": [
  {
   "cell_type": "markdown",
   "metadata": {},
   "source": [
    "# TP2 - Exploration de topics"
   ]
  },
  {
   "cell_type": "markdown",
   "metadata": {},
   "source": [
    "<img src=\"https://github.com/AntoineSimoulin/m2-data-sciences/blob/master/TP2%20-%20Text%20Mining/figures/figure2.png?raw=true\" width=\"1000\">"
   ]
  },
  {
   "cell_type": "markdown",
   "metadata": {},
   "source": [
    "# Latent Dirichlet Allocation (LDA)\n",
    "\n",
    "La Latent Dirichlet Allocation (LDA) <span class=\"badge badge-secondary\">(Blei et al., 2001)</span> est une méthode de <b>topic modelling</b>. C'est l'une des méthodes les plus utilisées dans ce domaine. La LDA prend en input une collection de documents et cherche à identifier les topics ou thèmes spécifiques dans l'ensemble du corpus.\n",
    "\n",
    "<span class=\"badge badge-secondary\">(Blei et al., 2001)</span> David M. Blei, Andrew Y. Ng, Michael I. Jordan: Latent Dirichlet Allocation. NIPS 2001: 601-608\n",
    "\n",
    "Par exemple, on peut considérer le corpus suivant :"
   ]
  },
  {
   "cell_type": "code",
   "execution_count": 48,
   "metadata": {},
   "outputs": [],
   "source": [
    "documents = [\n",
    "    \"Nous avons pris l'avion pour aller en vacances.\",\n",
    "    \"J'ai fait de la plongée en vacances.\"\n",
    "    \"Nous avons joué au foot hier matin.\",\n",
    "    \"J'ai pris le taxi.\",\n",
    "]"
   ]
  },
  {
   "cell_type": "code",
   "execution_count": 49,
   "metadata": {},
   "outputs": [],
   "source": [
    "n_documents = len(documents)"
   ]
  },
  {
   "cell_type": "markdown",
   "metadata": {},
   "source": [
    "L'objectif est d'identifier les thèmes ou <i>topics</i> qui correspondent à chaque phrase. Ici, on pourrait considérer des thèmes commes les <i>vacances</i>, le <i>sport</i> ou encore les <i>moyens de transports</i>.\n",
    "\n",
    "La LDA est un outil qui permet de faire exactement ça. Il s'agit d'un modèle <b>génératif</b> qui cherche à expliquer une observation (ici le corpus) en s'appuyant sur des variables latentes (les topics). En plus de l'epxloration de thèmes, ce type de modèle peut être utilisé pour des tâches non supervisées, en particulier le clustering.\n",
    "\n",
    "La LDA décrit chaque document comme une distribution de **topics**, eux mêmes caractérisés par une **distribution de mots**. En pratique, on va introduire une **variable latente** et exprimer chaque document comme une distribution de cette variable. Cette variable sera elle même décrite comme une distribution sur le vocabulaire comme décrit ci-dessous. Ainsi chaque topic n'est pas décrit explicitement. Il doit être interprété en fonction de sa distribution sur les mots du vocabulaire.\n",
    "\n",
    "<img src=\"https://github.com/AntoineSimoulin/m2-data-sciences/blob/master/TP2%20-%20Text%20Mining/figures/lda-idee.png?raw=true\" width=\"1000\">\n",
    "\n"
   ]
  },
  {
   "cell_type": "code",
   "execution_count": 75,
   "metadata": {},
   "outputs": [
    {
     "name": "stdout",
     "output_type": "stream",
     "text": [
      "20\n"
     ]
    }
   ],
   "source": [
    "from sklearn.feature_extraction.text import CountVectorizer\n",
    "\n",
    "vectorizer = CountVectorizer()\n",
    "\n",
    "vectorizer.fit(documents)\n",
    "\n",
    "w2idx = {w: i for (i, w) in enumerate(vectorizer.get_feature_names())}\n",
    "idx2w = {i: w for (i, w) in enumerate(vectorizer.get_feature_names())}\n",
    "\n",
    "print(len(w2idx))"
   ]
  },
  {
   "cell_type": "code",
   "execution_count": 51,
   "metadata": {},
   "outputs": [],
   "source": [
    "tokenizer = vectorizer.build_tokenizer()"
   ]
  },
  {
   "cell_type": "code",
   "execution_count": 124,
   "metadata": {},
   "outputs": [
    {
     "name": "stdout",
     "output_type": "stream",
     "text": [
      "['nous', 'avons', 'pris', 'avion', 'pour', 'aller', 'en', 'vacances']\n",
      "['ai', 'fait', 'de', 'la', 'plongée', 'en', 'vacances', 'nous', 'avons', 'joué', 'au', 'foot', 'hier', 'matin']\n",
      "['ai', 'pris', 'le', 'taxi']\n"
     ]
    }
   ],
   "source": [
    "documents = [[t.lower() for t in tokenizer(d)] for d in documents]\n",
    "for doc in documents:\n",
    "    print(doc)"
   ]
  },
  {
   "cell_type": "code",
   "execution_count": 53,
   "metadata": {},
   "outputs": [
    {
     "name": "stdout",
     "output_type": "stream",
     "text": [
      "20\n"
     ]
    }
   ],
   "source": [
    "vocab_size = len(vectorizer.get_feature_names())\n",
    "print(vocab_size)"
   ]
  },
  {
   "cell_type": "code",
   "execution_count": 146,
   "metadata": {},
   "outputs": [
    {
     "name": "stdout",
     "output_type": "stream",
     "text": [
      "matrice d'occurence :\n",
      "[[0 1 0 1 1 0 1 0 0 0 0 0 0 0 1 0 1 1 0 1]\n",
      " [1 0 1 0 1 1 1 1 1 1 1 1 0 1 1 1 0 0 0 1]\n",
      " [1 0 0 0 0 0 0 0 0 0 0 0 1 0 0 0 0 1 1 0]]\n"
     ]
    }
   ],
   "source": [
    "print(\"matrice d'occurence :\")\n",
    "\n",
    "n = np.zeros((len(tokenized_documents_idx), vocab_size), dtype=int)\n",
    "for (doc_idx, doc) in enumerate(documents):\n",
    "    words_idx, words_freq = np.unique(doc, return_counts=True)\n",
    "    for (w, f) in zip(words_idx, words_freq):\n",
    "        n[doc_idx][w2idx[w]] = f\n",
    "print(n)"
   ]
  },
  {
   "cell_type": "markdown",
   "metadata": {},
   "source": [
    "## 1. Modélisation"
   ]
  },
  {
   "cell_type": "markdown",
   "metadata": {},
   "source": [
    "La séance précédente, on a vu que l'on pouvait représenter les documents comme une distribution sur les mots. Les paramètres de cette distribution peuvent être calculés simplement en utilisant la fréquence des mots dans le document (le modèle Bag-Of_Word) ou alors en pondérant les mots en fonction de leur fréquence dans l'ensemble du corpus (modèle TF-IDF).\n",
    "\n",
    "\n",
    "<img src=\"https://github.com/AntoineSimoulin/m2-data-sciences/blob/master/TP2%20-%20Text%20Mining/figures/bow.png?raw=true\" width=\"500\">"
   ]
  },
  {
   "cell_type": "markdown",
   "metadata": {},
   "source": [
    "### Les modèles génératifs\n",
    "\n",
    "La LDA est un modèle de probabilité génératif. Les modèles génératifs sont générallement développés suivant les 3 étapes suivantes :\n",
    "\n",
    "1. **Observations** Les données sont considérées comme des observations générées par le modèles. La notion de données inclue les variables latenntes. Ces dernières représentent la structure thématique du corpus.\n",
    "2. **Apprentissage** On met à jour les variables du modèles en utilisant l'inférence à postériori\n",
    "3. **Inférence** On peut utiliser le modèle pour situer de nouvelles de données dans la structure de topics apprise."
   ]
  },
  {
   "cell_type": "markdown",
   "metadata": {},
   "source": [
    "L'originalité de la LDA réside dans sa modélisation de chaque document comme une distribution de topics. La plupart des modèles considérant que tous les mots d'un document sont issus du même topic. Ainsi chaque document peut être rattaché à plusieurs topics. Dans notre corpus exemple, la LDA pourrait générer une distribution du type :\n",
    "\n",
    "* Document 1 : 50% Topic \"Transports\" + 50% Topic \"Voyages\"\n",
    "* Document 2 : 50% Topic \"Sports\" + 50% Topic \"Voyages\"\n",
    "* Document 3 : 100% Topic \"Sports\"\n",
    "* Document 4 : 100% Topic \"Transports\""
   ]
  },
  {
   "cell_type": "markdown",
   "metadata": {},
   "source": [
    "Comme illustré précédemment, la LDA cherche à expliquer ces modèles en introduisant une variable latente : les topics.\n",
    "\n",
    "<img src=\"https://github.com/AntoineSimoulin/m2-data-sciences/blob/master/TP2%20-%20Text%20Mining/figures/lda2.png?raw=true\" width=\"1000\">"
   ]
  },
  {
   "cell_type": "markdown",
   "metadata": {},
   "source": [
    "### Notations\n",
    "\n",
    "Les modèles graphiques représentent les variables aléatoies comme des noeuds. Les arcs entre les noeuds indiquent les variables potentiellement dépendantes. Les variables observées sont grisées. Dans la figure ci-dessous, les noeuds $ X_{1,...,N}$ sont observés alors que le noeud $Y$ est une variable latente. Les variables observées dépendent de cette variable latente. Les rectangles synthétisent la réplication de plusieurs structure. Un rectangle résume donc plusieurs variables $X_n$ avec $n \\in N$.\n",
    "\n",
    "La structure du graph définie les dépendances conditionnelles entre l'ensemble des variables. Par exemple dans le graph ci-dessous, on a $p(Y,X_{1},...,X_{N})=p(Y)\\prod _{n=1}^{N}p(X_{n}|Y)$.\n",
    "\n",
    "\n",
    "<img src=\"https://github.com/AntoineSimoulin/m2-data-sciences/blob/master/TP2%20-%20Text%20Mining/figures/graphical_model.png?raw=true\" width=\"500\">\n",
    "\n"
   ]
  },
  {
   "cell_type": "markdown",
   "metadata": {},
   "source": [
    "### La distribution de Dirichlet\n",
    "\n",
    "\n",
    "La distribution de Dirichlet est généralement notée $Dir(\\alpha)$. Il s'agit d'une famille de lois de probabilité continues pour des variables aléatoires multinomiales. Cette loi (ou encore distribution) est paramétrée par le vecteur ${\\bf \\alpha}$ de nombres réels positifs. La taille du vecteur ${\\bf \\alpha}$ indique la dimension de la distribution. Ce type de distribution est souvent utilisée comme distribution à priori dans les modèles Bayésiens. Sans rentrer dans les détails, voici quelques caraactéristiques de la distribution de Dirichlet :\n",
    "\n",
    "* La distribution est définie sur un simplex de vecteurs positifs dont la somme est égale à 1 \n",
    "* Sa densité est caractérisée par : $P(\\theta |{\\overrightarrow {\\alpha }})={\\frac {\\Gamma (\\Sigma _{i}\\alpha _{i})f}{\\Pi _{i}\\Gamma (\\alpha _{i})}}\\Pi _{i}\\theta _{i}^{\\alpha _{i}-1}$\n",
    "* En pratique, si toutes les dimensions de ${\\bf \\alpha}$ ont des valeurs similaires, la distribution est plus étalée. Elle devient plus concentrée pour des valeurs plus importantes de ${\\bf \\alpha}$.\n",
    "\n",
    "La distribution est illustrée ci-dessous pour des valeurs ${\\bf \\alpha}$ qui varient entre (6, 2, 2), (3, 7, 5), (6, 2, 6), (2, 3, 4).\n",
    "\n",
    "<img src=\"https://github.com/AntoineSimoulin/m2-data-sciences/blob/master/TP2%20-%20Text%20Mining/figures/dirichlet.png?raw=true\" width=\"500\">"
   ]
  },
  {
   "cell_type": "markdown",
   "metadata": {},
   "source": [
    "On utilise les notations suivantes :\n",
    "\n",
    "* Les mots sont l'unité de base des données. Ils sont définis comme un élément d'un vocabulaire indexé par ${1,...,V}$. On erprésent chaque mot en utilisant des vecteurs one-hot dont toutes les composantes sont 0, sauf pour la composante qui correspond à l'index du mot, qui vaut 1.\n",
    "* Un document est une séquence de $N$ mots telle que $W=(w_{1},w_{2},...,w_{N})$ avec $w_{n}$ le $n$th mot de la séquence.\n",
    "* Un corpus est un ensemble de $M$ documents tels que $D=\\lbrace W_{1},W_{2},...,W_{M}\\rbrace$."
   ]
  },
  {
   "cell_type": "markdown",
   "metadata": {},
   "source": [
    "### Le principe de la LDA\n",
    "\n",
    "La LDA est un modèle génératif. L'idée de baase est que chaque document est représenté comme une distribution sur $k$ topics latents. Chaque topic est caractérisé par une distribution sur les mots. On appelle $\\beta$ la matrice de dimension $k*V$ qui représente la distribution des mots sur les $k$ topics. On a ainsi $\\beta _{ij}=p(w_{j}=1|z_{i}=1)$.\n",
    "\n",
    "La LDA suppose le procéssus génératif suivant pour chaque document $W$ dans le corpus $D$.\n",
    "\n",
    "\n",
    "> 1. On choisit $\\theta \\sim Dir(\\alpha )$\n",
    "> 2. Pour chaque document dans le corpus:\n",
    ">     * Pour chacun des $N$ mots $w_{n}$ dans le document :\n",
    ">        * on choisit un topic $z_{n}\\sim Multinomial(\\theta )$\n",
    ">        * on choisit un mot $w_{n}$ $p(w_{n}|z_{n},B)$ selon une loi multinimoale conditionnée par le topic $z_{n}$.\n",
    "\n",
    "\n",
    "Une variable aléatoire suivant une loi de dirichlet de dimension $k$ peut prendre des valeurs dans le $k-1$-simplex. Cet espace désigne les vecteurs $\\theta$ de dimension $k$ tels que $\\theta _{i}\\geq 0$ et $\\sum _{i=1}^{k}\\theta _{i}=1$\n",
    "\n",
    "Etant donné $\\alpha$ et $\\beta$, la probabilité jointe de $\\theta$, un ensemble de $K$ topics $Z$ et un ensemble de $N$ mots est donnée par : $$p(\\theta ,Z,W|\\alpha ,\\beta )=p(\\theta |\\alpha )\\prod _{n=1}^{N}p(z_{n}|\\theta )p(w_{n}|z_{n},\\beta ),$$\n",
    "\n",
    "Avec $p(z_{n}|\\theta )$ qui représente $\\theta _{i}$ pour chaque $i$ tel que $z_{i}^{n}=1$.\n",
    "\n",
    "On peut obtenir la distribution marginale du document en itérant sur les $\\theta$ et en sommant sur les $z$:\n",
    "\n",
    "$$p(W|\\alpha ,\\beta )=\\int p(\\theta |\\alpha ){\\big (}\\prod _{n=1}^{N}\\Sigma _{z_{n}}p(z_{n}|\\theta )p(w_{n}|z_{n},\\beta {\\big )}d\\theta$$\n",
    "\n",
    "Finalement, en prenant le produit des probabilitées marginales sur un chaque document, on obtient la probabilité du corpus :\n",
    "\n",
    "\n",
    "$$p(D|\\alpha ,\\beta )=\\prod _{d=1}^{M}\\int p(\\theta _{d}|\\alpha ){\\big (}\\prod _{n=1}^{N_{d}}\\Sigma _{z_{dn}}p(z_{dn}|\\theta _{d})p(w_{dn}|z_{dn},\\beta ){\\big )}d\\theta _{d}$$\n",
    "\n",
    "La représentation garphique du modèle est proposée ci-dessous.\n",
    "\n",
    "<img src=\"https://github.com/AntoineSimoulin/m2-data-sciences/blob/master/TP2%20-%20Text%20Mining/figures/lda_graph.png?raw=true\" width=\"700\">"
   ]
  },
  {
   "cell_type": "markdown",
   "metadata": {},
   "source": [
    "D'un point de vue mathématique, la LDA peut être vue comme un modèle génératif.\n",
    "\n",
    "Voici les notations que nous utilisons dans le TP.\n",
    "* k — Le nombre de topics qui caractérisent un document\n",
    "* V — La taille du vocabulaire\n",
    "* M — Le nombre de documents\n",
    "* N — Le nombre de mots dans chaque document\n",
    "* w — Un mot dans un document représenté par un vecteur one-hot de taille V\n",
    "* **w** — Représentation d'un document, i.e. une collection de N vecteurs w de mots\n",
    "* D — Le corpus, i.e. une collection de M documents\n",
    "* z — Un topic parmi k. Un topic correspond à une distribution de mots. Par exemple, Animal = (0.3 Chats, 0.4 Chiens, 0.2 Adorable)\n",
    "\n",
    "La LDA est un modèle génératif selon lequel on peut générer un document selon le processus suivant illustré ci-dessous.\n",
    "Pour chaque document de N mots, on suppose que chaque mot est généré par un topic.\n",
    "Le topic en lui même correspond à une distribution sur l'ensemble des topics, spécifique à chaque document.\n",
    "\n",
    "La méthode a ainsi deux paramètres :\n",
    "\n",
    "Un matrice $\\Theta$, telle que $\\Theta_{td} = P(t|d)$ représente la distriburtion de probabilité des topics dans les documents\n",
    "\n",
    "Une matrice $\\beta$, telle que $\\beta_{wt} = P(w|t)$ représente la distribution de probabilité des mots en fonction des topics."
   ]
  },
  {
   "cell_type": "markdown",
   "metadata": {},
   "source": [
    "## 2. Apprendre les paramètres du modèle"
   ]
  },
  {
   "cell_type": "markdown",
   "metadata": {},
   "source": [
    "Ce modèle permet d'expliquer comment le corpus a été généré. Néanmoins en pratique on n'observe pas toutes les variables du modèles mais seulement la distribution des mots. En pratique on va \"inverser\" le modèle pour estimer les paramètres. Ce processus est appelé inférence à posteriori.\n",
    "\n",
    "On dispose d'un corpus de documents. On a fixé un nombre $k$ de topics. Pour apprendre la représentation des topics et des documents, il existe deux méthodes principales :\n",
    "\n",
    "* Le sampling de Gibbs\n",
    "* L'inférence variationelle\n",
    "\n",
    "Nous allons détailler le procéssus du sampling de Gibbs sur notre jeu de données exemples puis utiliser la librarie `sklearn`qui repose sur l'inférence variationelle pour expérimenter sur un jeu de données plus conséquent."
   ]
  },
  {
   "cell_type": "code",
   "execution_count": 76,
   "metadata": {},
   "outputs": [],
   "source": [
    "import numpy as np\n",
    "from tqdm import tqdm\n",
    "\n",
    "# IPython automatically reload all changed code\n",
    "%load_ext autoreload\n",
    "%autoreload 2"
   ]
  },
  {
   "cell_type": "code",
   "execution_count": 56,
   "metadata": {},
   "outputs": [],
   "source": [
    "n_topics = 3"
   ]
  },
  {
   "cell_type": "markdown",
   "metadata": {},
   "source": [
    "### Le Sampling de Gibbs"
   ]
  },
  {
   "cell_type": "markdown",
   "metadata": {},
   "source": [
    "Pour fixer les paramètres des matrices, on cherche à maximiser la vraisemblance de nos données selon ce modèle. On utilise pour cela l'algorthime de **sampling de Gibbs**. Le sampling de Gibbs est un algorithme qui permet de sélectionner des distributions conditionelles dont la distribution des états converge vers la vraie distribution à terme. En pratique, on va mettre à jour itérativement les matrices $\\Theta$ et $\\beta$ pour maximiser la vraisemblance de nos données. Les itérations s'effectuent mot par mot en ajustant le topic assigné à chaque mot.  On fait l'hypothèse que l'on ne connait pas le topic assigné à chaque mot mais qu'on connait la correpondance de topic pour tous les autres mots dans le texte et on cherche à inférer le topic à assigner pour ce mot.\n",
    "\n",
    "\n",
    "D'un point de vue mathématique, on cherche la probabilité conditionnelle pour chaque mot d'être assigné à un topic, étant donné l'attribution des autres topics. \n",
    "\n",
    "On peut montrer que \n",
    "\n",
    "$$P(z_{i,d}=k|z_{:,d},w,\\alpha,\\beta) \\propto \\frac{n_{d,k}+\\beta_k}{\\sum_i^Kn_{d,i}+\\beta_i}v_{k,w_{d,n}}+\\alpha_{w_{d,n}}$$\n",
    "\n",
    "Avec :\n",
    "* $n_{d,k}$ : le nombre de fois ou le document $d$ utilise le topic $k$\n",
    "* $v_{k,w}$ : le nombre de fois ou le topic $k$ utilise le mot $w$\n",
    "* $\\alpha_k$ : le paramètre de dirichlet pour la distribution de topics par documents\n",
    "* $\\lambda_w$ : Le paramètre de dirichlet pour la distribution des mots par topic\n",
    "\n",
    "Il y a deux parties dans cette équation. D'abord on évalue la proprtion de chaque topic dans un document. Puis on réparti l'attention des topics pour chaque mot. Les paramètres de dirichlet permette de régulariser quand $n_{d,k}$ ou $v_{k,w}$ sont trop proches de 0 et qu'il y a peu de chance qu'un mot choisise un topic."
   ]
  },
  {
   "cell_type": "code",
   "execution_count": 239,
   "metadata": {},
   "outputs": [
    {
     "name": "stdout",
     "output_type": "stream",
     "text": [
      "assignation de topic aléatoire pour le premier document\n",
      "      nous -> TOPIC 1\n",
      "     avons -> TOPIC 1\n",
      "      pris -> TOPIC 2\n",
      "     avion -> TOPIC 0\n",
      "      pour -> TOPIC 0\n",
      "     aller -> TOPIC 2\n",
      "        en -> TOPIC 0\n",
      "  vacances -> TOPIC 2\n",
      "matrices d'assignation des topics :\n"
     ]
    },
    {
     "data": {
      "text/plain": [
       "[[1, 1, 2, 0, 0, 2, 0, 2],\n",
       " [2, 2, 2, 2, 2, 2, 2, 0, 2, 0, 1, 1, 2, 0],\n",
       " [2, 0, 0, 1]]"
      ]
     },
     "execution_count": 239,
     "metadata": {},
     "output_type": "execute_result"
    }
   ],
   "source": [
    "#  1. Go through each document, and randomly assign each word in the document to one of the topics \n",
    "\n",
    "words_topic = [[np.random.randint(n_topics) for _ in range(len(d))] for d in tokenized_documents_idx]\n",
    "\n",
    "print(\"assignation de topic aléatoire pour le premier document\")\n",
    "for (w, t) in zip(tokenized_documents[0], words_topic[0]):\n",
    "    print(\"{:>10} -> TOPIC {:1}\".format(w, t))\n",
    "    \n",
    "print(\"matrices d'assignation des topics :\")\n",
    "words_topic"
   ]
  },
  {
   "cell_type": "markdown",
   "metadata": {},
   "source": [
    "* $n_{d,k}$ : le nombre de fois ou le document $d$ utilise le topic $k$\n",
    "* $v_{k,w}$ : le nombre de fois ou le topic $k$ utilise le mot $w$"
   ]
  },
  {
   "cell_type": "code",
   "execution_count": 240,
   "metadata": {},
   "outputs": [
    {
     "name": "stdout",
     "output_type": "stream",
     "text": [
      "Le nombre de fois ou le document  𝑑  utilise le topic  𝑘 :\n",
      "[[3 2 3]\n",
      " [3 2 9]\n",
      " [2 1 1]] \n",
      "\n",
      "Le nombre de fois ou le topic  𝑘  utilise le mot  𝑤 :\n",
      "[[0 0 0 1 0 0 1 0 0 0 1 0 1 1 1 0 1 1 0 0 0]\n",
      " [0 0 1 0 1 0 0 0 1 0 0 0 0 0 1 0 0 0 1 0 0]\n",
      " [2 1 0 0 1 1 1 1 0 1 0 1 0 0 0 1 0 1 0 2 0]]\n"
     ]
    }
   ],
   "source": [
    "# 2. Notice that this random assignment already gives both topic representations \n",
    "#    of all the documents and word distributions of all the topics (albeit not very good ones).\n",
    "\n",
    "document_topic_counts = np.zeros((len(documents), n_topics), dtype=int)\n",
    "for (doc_idx, topics) in enumerate(words_topic):\n",
    "    topics, topics_freq = np.unique(topics, return_counts=True)\n",
    "    for (t, f) in zip(topics, topics_freq):\n",
    "        document_topic_counts[doc_idx][t] = f\n",
    "print(\"Le nombre de fois ou le document  𝑑  utilise le topic  𝑘 :\")\n",
    "print(document_topic_counts, '\\n')\n",
    "\n",
    "topic_word_counts = np.zeros((n_topics, vocab_size + 1), dtype=int)\n",
    "for (topics, doc) in zip(words_topic, documents):\n",
    "    for (t, w_idx) in zip(topics, doc):\n",
    "        topic_word_counts[t][w2idx[w_idx]] += 1\n",
    "print(\"Le nombre de fois ou le topic  𝑘  utilise le mot  𝑤 :\")\n",
    "print(topic_word_counts)"
   ]
  },
  {
   "cell_type": "code",
   "execution_count": 241,
   "metadata": {},
   "outputs": [
    {
     "data": {
      "text/plain": [
       "array([ 8,  5, 13])"
      ]
     },
     "execution_count": 241,
     "metadata": {},
     "output_type": "execute_result"
    }
   ],
   "source": [
    "# nombre de mots pour chaque topic:\n",
    "np.sum(topic_word_counts, 1)"
   ]
  },
  {
   "cell_type": "code",
   "execution_count": 242,
   "metadata": {},
   "outputs": [],
   "source": [
    "# 3. So to improve on them, for each document W do the following:\n",
    "#    3.1 Go through each word w in W\n",
    "#        3.1.1 And for each topic t, compute two things: \n",
    "#              1) p(t|W) = the proportion of words in document W that are currently assigned to topic t, and \n",
    "#              2) p(w|t) = the proportion of assignments to topic t over all documents that come from this word w \n",
    "#              Reassign w a new topic, where we choose topic t with probability p(t|W)*p(w|t). \n",
    "#              It is worth noting that according to our generative model, \n",
    "#              this is essentially the probability that topic t generated word w, \n",
    "#              so it makes sense that we resample the current word’s topic with this probability. \n",
    "#              (Also, I’m glossing over a couple of things here, \n",
    "#              in particular the use of priors/pseudocounts in these probabilities.)\n",
    "#        3.1.2 In other words, in this step, we’re assuming that all topic assignments \n",
    "#              except for the current word in question are correct, and then updating the assignment \n",
    "#              of the current word using our model of how documents are generated.\n",
    "eta = 0.01\n",
    "alpha = 50.\n",
    "\n",
    "\n",
    "for (doc_idx, doc) in enumerate(documents):\n",
    "    for (w_idx, w) in enumerate(doc):\n",
    "        \n",
    "        \n",
    "        current_topic = words_topic[doc_idx][w_idx]\n",
    "        \n",
    "        # Mise à jour des matrices de fréquences\n",
    "        document_topic_counts[doc_idx, current_topic] -= 1\n",
    "        topic_word_counts[current_topic, w2idx[w]] -= 1\n",
    "        \n",
    "        # Change le topic\n",
    "        topic_distribution = (topic_word_counts[:, w2idx[w]] + eta) * \\\n",
    "            (document_topic_counts[doc_idx, :] + alpha) / \\\n",
    "            (np.sum(topic_word_counts, 1) + 1e-12)\n",
    "\n",
    "        new_topic = np.random.multinomial(1, new_topic_probas / new_topic_probas.sum()).argmax()\n",
    "        \n",
    "        # Mise à jour des matrices de fréquences\n",
    "        document_topic_counts[doc_idx][new_topic] += 1\n",
    "        topic_word_counts[new_topic, w2idx[w]] += 1\n",
    "        words_topic[doc_idx][w_idx] = new_topic"
   ]
  },
  {
   "cell_type": "code",
   "execution_count": 243,
   "metadata": {},
   "outputs": [
    {
     "data": {
      "text/plain": [
       "array([[ 5,  3,  0],\n",
       "       [ 2, 12,  0],\n",
       "       [ 3,  1,  0]])"
      ]
     },
     "execution_count": 243,
     "metadata": {},
     "output_type": "execute_result"
    }
   ],
   "source": [
    "document_topic_counts"
   ]
  },
  {
   "cell_type": "code",
   "execution_count": 244,
   "metadata": {},
   "outputs": [
    {
     "data": {
      "text/plain": [
       "array([[1, 0, 1, 0, 1, 1, 1, 0, 0, 0, 0, 0, 1, 0, 1, 0, 1, 1, 1, 0, 0],\n",
       "       [1, 1, 0, 1, 1, 0, 1, 1, 1, 1, 1, 1, 0, 1, 1, 1, 0, 1, 0, 2, 0],\n",
       "       [0, 0, 0, 0, 0, 0, 0, 0, 0, 0, 0, 0, 0, 0, 0, 0, 0, 0, 0, 0, 0]])"
      ]
     },
     "execution_count": 244,
     "metadata": {},
     "output_type": "execute_result"
    }
   ],
   "source": [
    "topic_word_counts"
   ]
  },
  {
   "cell_type": "code",
   "execution_count": 252,
   "metadata": {},
   "outputs": [],
   "source": [
    "# 4. After repeating the previous step a large number of times, \n",
    "#    you’ll eventually reach a roughly steady state where your assignments are pretty good. \n",
    "#    So use these assignments to estimate the topic mixtures of each document \n",
    "#    (by counting the proportion of words assigned to each topic within that document) \n",
    "#    and the words associated to each topic (by counting the proportion of words assigned to each topic overall).\n",
    "\n",
    "n_iters = 10\n",
    "\n",
    "for _ in range(n_iters):\n",
    "    for (doc_idx, doc) in enumerate(documents):\n",
    "        for (w_idx, w) in enumerate(doc):\n",
    "            current_topic = words_topic[doc_idx][w_idx]\n",
    "\n",
    "            # Mise à jour des matrices de fréquences\n",
    "            document_topic_counts[doc_idx, current_topic] -= 1\n",
    "            topic_word_counts[current_topic, w2idx[w]] -= 1\n",
    "\n",
    "            # Change le topic\n",
    "            topic_distribution = (topic_word_counts[:, w2idx[w]] + eta) * \\\n",
    "                (document_topic_counts[doc_idx, :] + alpha) / \\\n",
    "                (np.sum(topic_word_counts, 1) + 1e-12)\n",
    "\n",
    "            new_topic = np.random.multinomial(1, new_topic_probas / new_topic_probas.sum()).argmax()\n",
    "\n",
    "            # Mise à jour des matrices de fréquences\n",
    "            document_topic_counts[doc_idx][new_topic] += 1\n",
    "            topic_word_counts[new_topic, w2idx[w]] += 1\n",
    "            words_topic[doc_idx][w_idx] = new_topic"
   ]
  },
  {
   "cell_type": "code",
   "execution_count": 253,
   "metadata": {},
   "outputs": [
    {
     "data": {
      "text/plain": [
       "array([[4, 4, 0],\n",
       "       [7, 7, 0],\n",
       "       [1, 3, 0]])"
      ]
     },
     "execution_count": 253,
     "metadata": {},
     "output_type": "execute_result"
    }
   ],
   "source": [
    "document_topic_counts"
   ]
  },
  {
   "cell_type": "markdown",
   "metadata": {},
   "source": [
    "Finalement on peut évaluer les matrices $\\Theta$ et $\\beta$ selon les formules suivantes :\n",
    "\n",
    "$$\\Theta_{k,t} = \\frac{n_{d,k}+\\eta_k}{\\sum_i^Kn_{d,i}+\\eta_k}$$\n",
    "\n",
    "$$\\beta_{m,k} = \\frac{v_{k}+\\alpha_k}{\\sum_i^Kn_{d,i}+\\alpha_k}$$\n"
   ]
  },
  {
   "cell_type": "code",
   "execution_count": 256,
   "metadata": {},
   "outputs": [],
   "source": [
    "beta = (topic_word_counts + alpha) / (np.sum(topic_word_counts, 0) + alpha)"
   ]
  },
  {
   "cell_type": "code",
   "execution_count": 255,
   "metadata": {},
   "outputs": [
    {
     "name": "stdout",
     "output_type": "stream",
     "text": [
      "Topic #0: matin aller\n",
      "Topic #1: hier taxi\n",
      "Topic #2: la aller\n"
     ]
    }
   ],
   "source": [
    "n_top_words = 3\n",
    "\n",
    "for topic_idx in range(n_topics):\n",
    "    message = \"Topic #%d: \" % topic_idx\n",
    "    message += \" \".join([idx2w[i] for i in beta[topic_idx].argsort()[:-n_top_words - 1:-1][1:]])\n",
    "    print(message)"
   ]
  },
  {
   "cell_type": "markdown",
   "metadata": {},
   "source": [
    "## 3. Utilisation des librairies"
   ]
  },
  {
   "cell_type": "code",
   "execution_count": 316,
   "metadata": {},
   "outputs": [
    {
     "name": "stdout",
     "output_type": "stream",
     "text": [
      "Requirement already satisfied: pysrt in /Users/antoine/opt/anaconda3/envs/nlp-101/lib/python3.6/site-packages (1.1.2)\n",
      "Requirement already satisfied: chardet in /Users/antoine/opt/anaconda3/envs/nlp-101/lib/python3.6/site-packages (from pysrt) (3.0.4)\n"
     ]
    }
   ],
   "source": [
    "!pip install pysrt\n",
    "\n",
    "import os\n",
    "import nltk\n",
    "from nltk.corpus import stopwords\n",
    "from nltk.stem.snowball import FrenchStemmer\n",
    "import pysrt\n",
    "import re\n",
    "from sklearn.decomposition import LatentDirichletAllocation as LDA\n",
    "from sklearn.feature_extraction.text import CountVectorizer\n",
    "from spacy.lang.fr.stop_words import STOP_WORDS\n",
    "import unidecode"
   ]
  },
  {
   "cell_type": "code",
   "execution_count": 258,
   "metadata": {},
   "outputs": [],
   "source": [
    "def create_subtitle_file_dict(subtitles_dir):\n",
    "    subtitles_file_path = {}\n",
    "    for path, subdirs, files in os.walk(subtitles_dir):\n",
    "        for name in files:\n",
    "            episode_name = '_'.join([os.path.basename(path), name.split('.')[0]])\n",
    "            subtitles_file_path[episode_name] = os.path.join(path, name)\n",
    "    return subtitles_file_path\n",
    "\n",
    "def parse_srt_file(srt_file, encoding='iso-8859-1'):\n",
    "    subs = pysrt.open(srt_file, encoding=encoding)\n",
    "    text = ' '.join([' '.join(sub.text.split('\\n')) for sub in subs])\n",
    "    return text"
   ]
  },
  {
   "cell_type": "code",
   "execution_count": 259,
   "metadata": {},
   "outputs": [],
   "source": [
    "subtitles_file_path = create_subtitle_file_dict('./sous-titres-got')"
   ]
  },
  {
   "cell_type": "code",
   "execution_count": 294,
   "metadata": {},
   "outputs": [],
   "source": [
    "episode_1_txt = parse_srt_file(subtitles_file_path['S05_E09'])"
   ]
  },
  {
   "cell_type": "code",
   "execution_count": 295,
   "metadata": {},
   "outputs": [
    {
     "name": "stdout",
     "output_type": "stream",
     "text": [
      "Attention ! Au feu ! Au feu ! Une vingtaine d'hommes, voire moins. Ils se sont faufilés dans le camp\n"
     ]
    }
   ],
   "source": [
    "print(episode_1_txt[:100])"
   ]
  },
  {
   "cell_type": "code",
   "execution_count": 302,
   "metadata": {},
   "outputs": [],
   "source": [
    "def create_corpus(subtitles_file_path):\n",
    "    corpus = []\n",
    "    for k, v in subtitles_file_path.items():\n",
    "        if v.endswith('srt'):\n",
    "            corpus.append(parse_srt_file(v))\n",
    "    return corpus"
   ]
  },
  {
   "cell_type": "code",
   "execution_count": 303,
   "metadata": {
    "scrolled": true
   },
   "outputs": [],
   "source": [
    "corpus = create_corpus(subtitles_file_path)"
   ]
  },
  {
   "cell_type": "code",
   "execution_count": 304,
   "metadata": {},
   "outputs": [
    {
     "data": {
      "text/plain": [
       "73"
      ]
     },
     "execution_count": 304,
     "metadata": {},
     "output_type": "execute_result"
    }
   ],
   "source": [
    "len(corpus)"
   ]
  },
  {
   "cell_type": "code",
   "execution_count": 306,
   "metadata": {},
   "outputs": [
    {
     "data": {
      "text/plain": [
       "\"Attention ! Au feu ! Au feu ! Une vingtaine d'hommes, voire moins. Ils se sont faufilés dans le camp\""
      ]
     },
     "execution_count": 306,
     "metadata": {},
     "output_type": "execute_result"
    }
   ],
   "source": [
    "corpus[0][:100]"
   ]
  },
  {
   "cell_type": "code",
   "execution_count": 307,
   "metadata": {},
   "outputs": [],
   "source": [
    "stemmer = FrenchStemmer()\n",
    "\n",
    "def clean_corpus(corpus):\n",
    "    for i in range(len(corpus)):\n",
    "        corpus[i] = unidecode.unidecode(corpus[i])\n",
    "        corpus[i] = re.sub(r'[^\\w\\s]', ' ', corpus[i]) \n",
    "        corpus[i] = corpus[i].lower()\n",
    "        corpus[i] = re.sub(r'\\s{2,}', ' ', corpus[i])\n",
    "        # corpus[i] = ' '.join([stemmer.stem(x) for x in corpus[i].split()])\n",
    "    return corpus"
   ]
  },
  {
   "cell_type": "code",
   "execution_count": 308,
   "metadata": {},
   "outputs": [],
   "source": [
    "clean_corpus = clean_corpus(corpus)"
   ]
  },
  {
   "cell_type": "code",
   "execution_count": 309,
   "metadata": {},
   "outputs": [
    {
     "data": {
      "text/plain": [
       "'attention au feu au feu une vingtaine d hommes voire moins ils se sont faufiles dans le camp ils ont'"
      ]
     },
     "execution_count": 309,
     "metadata": {},
     "output_type": "execute_result"
    }
   ],
   "source": [
    "clean_corpus[0][:100]"
   ]
  },
  {
   "cell_type": "code",
   "execution_count": 310,
   "metadata": {},
   "outputs": [],
   "source": [
    "clean_corpus_split = []\n",
    "for episode in clean_corpus:\n",
    "    episode_words = episode.split()\n",
    "    i = 0\n",
    "    while i < len(episode_words):\n",
    "        clean_corpus_split.append(' '.join(episode_words[i:i+400]))\n",
    "        i+=400"
   ]
  },
  {
   "cell_type": "code",
   "execution_count": 311,
   "metadata": {},
   "outputs": [
    {
     "data": {
      "text/plain": [
       "726"
      ]
     },
     "execution_count": 311,
     "metadata": {},
     "output_type": "execute_result"
    }
   ],
   "source": [
    "len(clean_corpus_split)"
   ]
  },
  {
   "cell_type": "code",
   "execution_count": 312,
   "metadata": {},
   "outputs": [],
   "source": [
    "def tokenize_corpus(corpus):\n",
    "    tokens = []\n",
    "    for sentence in corpus.split('\\n'):\n",
    "        tokens.append(nltk.word_tokenize(sentence))\n",
    "    return tokens"
   ]
  },
  {
   "cell_type": "code",
   "execution_count": 313,
   "metadata": {},
   "outputs": [],
   "source": [
    "sentence_length = [len(x.split()) for x in clean_corpus_split]"
   ]
  },
  {
   "cell_type": "code",
   "execution_count": 314,
   "metadata": {},
   "outputs": [
    {
     "data": {
      "text/plain": [
       "(378.10743801652893, 75.55046495285958)"
      ]
     },
     "execution_count": 314,
     "metadata": {},
     "output_type": "execute_result"
    }
   ],
   "source": [
    "np.mean(sentence_length), np.std(sentence_length)"
   ]
  },
  {
   "cell_type": "code",
   "execution_count": 317,
   "metadata": {},
   "outputs": [],
   "source": [
    "# Initialise the count vectorizer\n",
    "count_vectorizer = CountVectorizer(max_features=2000, \n",
    "                                   stop_words=STOP_WORDS, \n",
    "                                   max_df=0.9, \n",
    "                                   min_df=20)"
   ]
  },
  {
   "cell_type": "code",
   "execution_count": 318,
   "metadata": {},
   "outputs": [],
   "source": [
    "# nltk.download('stopwords')"
   ]
  },
  {
   "cell_type": "code",
   "execution_count": 320,
   "metadata": {},
   "outputs": [],
   "source": [
    "count_data = count_vectorizer.fit_transform(clean_corpus_split)"
   ]
  },
  {
   "cell_type": "code",
   "execution_count": 321,
   "metadata": {},
   "outputs": [
    {
     "data": {
      "text/plain": [
       "726"
      ]
     },
     "execution_count": 321,
     "metadata": {},
     "output_type": "execute_result"
    }
   ],
   "source": [
    "len(clean_corpus_split)"
   ]
  },
  {
   "cell_type": "code",
   "execution_count": 331,
   "metadata": {},
   "outputs": [
    {
     "data": {
      "text/plain": [
       "LatentDirichletAllocation(n_components=15, n_jobs=-1)"
      ]
     },
     "execution_count": 331,
     "metadata": {},
     "output_type": "execute_result"
    }
   ],
   "source": [
    "# Tweak the two parameters below\n",
    "number_topics = 15\n",
    "number_words = 10\n",
    "\n",
    "# Create and fit the LDA model\n",
    "lda = LDA(n_components=number_topics, n_jobs=-1)\n",
    "lda.fit(count_data)"
   ]
  },
  {
   "cell_type": "code",
   "execution_count": 332,
   "metadata": {},
   "outputs": [],
   "source": [
    "def print_topics(model, count_vectorizer, n_top_words):\n",
    "    words = count_vectorizer.get_feature_names()\n",
    "    for topic_idx, topic in enumerate(model.components_):\n",
    "        print(\"\\nTopic #%d:\" % topic_idx)\n",
    "        print(\" \".join([words[i]\n",
    "                        for i in topic.argsort()[:-n_top_words - 1:-1]]))"
   ]
  },
  {
   "cell_type": "code",
   "execution_count": 333,
   "metadata": {
    "scrolled": true
   },
   "outputs": [
    {
     "name": "stdout",
     "output_type": "stream",
     "text": [
      "Topics found via LDA:\n",
      "\n",
      "Topic #0:\n",
      "qu reine avez dragons khaleesi dragon etes khal monde mort\n",
      "\n",
      "Topic #1:\n",
      "roi qu veux dieu pere ca avez fils stannis homme\n",
      "\n",
      "Topic #2:\n",
      "roi qu majeste pere ca joffrey sansa fille lady allez\n",
      "\n",
      "Topic #3:\n",
      "pere qu roi fils lord monseigneur garde homme lannister stark\n",
      "\n",
      "Topic #4:\n",
      "pere qu mere faire ca avez lannister mort stark argent\n",
      "\n",
      "Topic #5:\n",
      "reine roi brothers adaptation dubbing titrage qu majeste nord blandine\n",
      "\n",
      "Topic #6:\n",
      "theon fer greyjoy pere ca qu stark roc ser oui\n",
      "\n",
      "Topic #7:\n",
      "avez roi etes pere qu trone hommes homme royaume couronnes\n",
      "\n",
      "Topic #8:\n",
      "qu ca avez pere roi oui etes veux peur ici\n",
      "\n",
      "Topic #9:\n",
      "pere lannister qu stark mere fils joffrey famille ici sansa\n",
      "\n",
      "Topic #10:\n",
      "nord qu stark jon lord pere winterfell mur snow ca\n",
      "\n",
      "Topic #11:\n",
      "qu garde ca nuit mur hommes sais mort homme sam\n",
      "\n",
      "Topic #12:\n",
      "qu ca ici veux avez jamais faire stark lord frere\n",
      "\n",
      "Topic #13:\n",
      "qu hodor fille peuple tywin ete harrenhal lord stark ca\n",
      "\n",
      "Topic #14:\n",
      "loras reine tyrell dieux grand margaery roi qu avez foi\n"
     ]
    }
   ],
   "source": [
    "# Print the topics found by the LDA model\n",
    "print(\"Topics found via LDA:\")\n",
    "print_topics(lda, count_vectorizer, number_words)"
   ]
  },
  {
   "cell_type": "markdown",
   "metadata": {},
   "source": [
    "## 4. Visualisation"
   ]
  },
  {
   "cell_type": "code",
   "execution_count": 334,
   "metadata": {},
   "outputs": [],
   "source": [
    "# !pip install pyLDAvis"
   ]
  },
  {
   "cell_type": "code",
   "execution_count": 335,
   "metadata": {},
   "outputs": [
    {
     "name": "stdout",
     "output_type": "stream",
     "text": [
      "CPU times: user 168 ms, sys: 7.63 ms, total: 175 ms\n",
      "Wall time: 676 ms\n"
     ]
    }
   ],
   "source": [
    "%%time\n",
    "from pyLDAvis import sklearn as sklearn_lda\n",
    "import pickle\n",
    "import pyLDAvis\n",
    "\n",
    "LDAvis_data_filepath = os.path.join('./ldavis_prepared_'+str(number_topics))\n",
    "# # this is a bit time consuming - make the if statement True\n",
    "# # if you want to execute visualization prep yourself\n",
    "LDAvis_prepared = sklearn_lda.prepare(lda, count_data, count_vectorizer, mds='mmds')"
   ]
  },
  {
   "cell_type": "code",
   "execution_count": 336,
   "metadata": {},
   "outputs": [],
   "source": [
    "with open(LDAvis_data_filepath, 'wb') as f:\n",
    "        pickle.dump(LDAvis_prepared, f)\n",
    "\n",
    "# load the pre-prepared pyLDAvis data from disk\n",
    "with open(LDAvis_data_filepath, 'rb') as f:\n",
    "    LDAvis_prepared = pickle.load(f)\n",
    "    \n",
    "pyLDAvis.save_html(LDAvis_prepared, './ldavis_prepared_'+ str(number_topics) +'.html')"
   ]
  },
  {
   "cell_type": "code",
   "execution_count": 337,
   "metadata": {},
   "outputs": [
    {
     "data": {
      "text/html": [
       "\n",
       "<link rel=\"stylesheet\" type=\"text/css\" href=\"https://cdn.rawgit.com/bmabey/pyLDAvis/files/ldavis.v1.0.0.css\">\n",
       "\n",
       "\n",
       "<div id=\"ldavis_el359301402216080722006781078604\"></div>\n",
       "<script type=\"text/javascript\">\n",
       "\n",
       "var ldavis_el359301402216080722006781078604_data = {\"mdsDat\": {\"x\": [0.013012740055123245, -0.00938849087473734, -0.013545406476741444, 0.008915049015899802, 0.10611375680016459, 0.19952994562561752, 0.06512047428050592, -0.10362695919962392, -0.16771518919802916, 0.14169393799799518, 0.1817882274064384, -0.10083490069662997, -0.21549707711454047, -0.11963796491410846, 0.014071857292666043], \"y\": [0.016111623414013135, -0.016736132138837186, -0.13453555809330223, 0.18465502719400367, -0.12939304718459302, -0.08173778644849738, 0.08275969582592736, -0.14028339645275206, 0.020978726750283404, 0.15040500871668602, 0.0337470121959199, 0.2270175082866868, -0.06770770729387042, 0.0974773026607165, -0.2427582774323845], \"topics\": [1, 2, 3, 4, 5, 6, 7, 8, 9, 10, 11, 12, 13, 14, 15], \"cluster\": [1, 1, 1, 1, 1, 1, 1, 1, 1, 1, 1, 1, 1, 1, 1], \"Freq\": [16.355716586742282, 15.067991244612452, 10.862656355836043, 8.556284621724561, 8.068577138595948, 6.046322783145527, 5.437609201555733, 4.740993889228933, 4.684098601479483, 4.354845250751682, 4.329696289755395, 4.040305961269496, 3.3806628189843138, 2.977031584508065, 1.0972076718100865]}, \"tinfo\": {\"Term\": [\"reine\", \"roi\", \"qu\", \"pere\", \"nord\", \"stark\", \"mur\", \"lannister\", \"dragons\", \"majeste\", \"lord\", \"garde\", \"ca\", \"loras\", \"fer\", \"sansa\", \"joffrey\", \"mere\", \"tyrell\", \"fils\", \"theon\", \"dieux\", \"jon\", \"peuple\", \"fille\", \"avez\", \"khaleesi\", \"homme\", \"or\", \"veux\", \"aimer\", \"ecouter\", \"regrette\", \"meurent\", \"peur\", \"condamne\", \"probleme\", \"devenir\", \"tot\", \"cite\", \"importance\", \"heros\", \"faim\", \"avenir\", \"nombre\", \"nain\", \"survecu\", \"simple\", \"choisir\", \"travail\", \"pose\", \"savent\", \"grands\", \"livre\", \"penses\", \"monstre\", \"combattu\", \"prend\", \"parles\", \"appeler\", \"long\", \"langue\", \"espere\", \"veut\", \"voila\", \"maitre\", \"ca\", \"raison\", \"qu\", \"epee\", \"voir\", \"veux\", \"oui\", \"sais\", \"mort\", \"jamais\", \"ici\", \"etes\", \"faire\", \"avez\", \"pere\", \"monde\", \"aime\", \"homme\", \"fois\", \"garcon\", \"roi\", \"majeste\", \"faut\", \"dois\", \"tuer\", \"reine\", \"hommes\", \"frere\", \"ser\", \"tante\", \"ombre\", \"baelish\", \"marcher\", \"heureuse\", \"triste\", \"instant\", \"retrouver\", \"entends\", \"jouer\", \"tard\", \"ferme\", \"jeu\", \"excuses\", \"tenu\", \"sois\", \"chambre\", \"dame\", \"baiser\", \"frappe\", \"noir\", \"partout\", \"liberer\", \"touche\", \"arya\", \"manger\", \"davantage\", \"idiote\", \"ramsay\", \"courageux\", \"ecuyer\", \"filles\", \"cheveux\", \"viens\", \"sansa\", \"demain\", \"petit\", \"proteger\", \"veux\", \"ici\", \"qu\", \"oncle\", \"porte\", \"jamais\", \"fort\", \"winterfell\", \"frere\", \"faire\", \"lord\", \"ca\", \"stark\", \"ete\", \"verite\", \"tuer\", \"avez\", \"tue\", \"etes\", \"oui\", \"sais\", \"femme\", \"hommes\", \"mere\", \"allez\", \"faut\", \"nord\", \"homme\", \"fils\", \"roi\", \"blancs\", \"marcheurs\", \"corbeaux\", \"chateaux\", \"rickon\", \"chateaunoir\", \"gouverneur\", \"snow\", \"mance\", \"bolton\", \"corbac\", \"nord\", \"nordiens\", \"sud\", \"jon\", \"ramsay\", \"dela\", \"hodor\", \"sauvageons\", \"winterfell\", \"loup\", \"batard\", \"vaincre\", \"genou\", \"hiver\", \"mur\", \"messires\", \"morts\", \"suivez\", \"robb\", \"commandant\", \"bran\", \"stark\", \"lord\", \"guerre\", \"pere\", \"qu\", \"hommes\", \"armee\", \"temps\", \"ca\", \"nuit\", \"avez\", \"mort\", \"ete\", \"ici\", \"roi\", \"jamais\", \"garde\", \"frere\", \"sais\", \"khal\", \"khaleesi\", \"drogo\", \"maitres\", \"typhon\", \"dragon\", \"esclaves\", \"chaines\", \"dothraki\", \"meereen\", \"dragons\", \"pierre\", \"rappelez\", \"navire\", \"dothrakis\", \"jorah\", \"daenerys\", \"soleil\", \"journee\", \"ciel\", \"flotte\", \"capitaine\", \"iles\", \"magie\", \"compagnie\", \"mer\", \"detruire\", \"perdre\", \"riche\", \"princesse\", \"peuple\", \"sang\", \"reine\", \"prince\", \"immacules\", \"westeros\", \"cersei\", \"ville\", \"fer\", \"monde\", \"avez\", \"targaryen\", \"qu\", \"vie\", \"etes\", \"mort\", \"couronnes\", \"mere\", \"tue\", \"faire\", \"hommes\", \"ici\", \"sais\", \"tuer\", \"jamais\", \"voir\", \"veux\", \"andals\", \"protecteur\", \"fortune\", \"aegon\", \"allies\", \"navires\", \"royaume\", \"loyal\", \"legitime\", \"commun\", \"couronnes\", \"venger\", \"regner\", \"paix\", \"tient\", \"westeros\", \"trone\", \"preparer\", \"propre\", \"ira\", \"salle\", \"conseil\", \"servi\", \"fou\", \"droit\", \"targaryen\", \"connait\", \"batards\", \"maisons\", \"premiers\", \"pouvoir\", \"robert\", \"croyez\", \"baratheon\", \"stannis\", \"avez\", \"etes\", \"port\", \"roi\", \"real\", \"dragons\", \"dites\", \"guerre\", \"fer\", \"voulez\", \"hommes\", \"pere\", \"homme\", \"lord\", \"savez\", \"qu\", \"nom\", \"cersei\", \"stark\", \"bon\", \"lannister\", \"oui\", \"faire\", \"fils\", \"vere\", \"sam\", \"tarly\", \"abandonne\", \"aemon\", \"lune\", \"pleine\", \"commandant\", \"vieil\", \"flammes\", \"sauvageons\", \"attends\", \"trouves\", \"mene\", \"longue\", \"lire\", \"vux\", \"bebe\", \"mormont\", \"garde\", \"citadelle\", \"nes\", \"mur\", \"dirait\", \"regarde\", \"chateaunoir\", \"dela\", \"bonjour\", \"freres\", \"vivant\", \"aider\", \"nuit\", \"maitre\", \"mestre\", \"snow\", \"ami\", \"ca\", \"jon\", \"faut\", \"tue\", \"hommes\", \"homme\", \"qu\", \"sais\", \"mort\", \"nom\", \"allez\", \"ici\", \"vie\", \"avez\", \"ser\", \"etes\", \"lord\", \"oui\", \"traitre\", \"arretez\", \"dure\", \"excusez\", \"trahison\", \"limier\", \"survecu\", \"entrer\", \"bons\", \"robe\", \"donjon\", \"majeste\", \"armure\", \"signifie\", \"lit\", \"sansa\", \"surs\", \"joffrey\", \"gardes\", \"quitte\", \"lame\", \"entendre\", \"clegane\", \"facile\", \"service\", \"difficile\", \"attention\", \"portes\", \"regner\", \"faisait\", \"venez\", \"lady\", \"roi\", \"madame\", \"fille\", \"chevalier\", \"allez\", \"voulait\", \"dame\", \"qu\", \"robert\", \"pere\", \"arrive\", \"ca\", \"voir\", \"aime\", \"main\", \"ser\", \"lannister\", \"sire\", \"ete\", \"enfant\", \"oui\", \"reine\", \"ici\", \"faire\", \"mere\", \"stark\", \"bon\", \"hommes\", \"fois\", \"avez\", \"prete\", \"serment\", \"monseigneur\", \"soleil\", \"vux\", \"dothraki\", \"histoires\", \"nobles\", \"beaux\", \"apporte\", \"disent\", \"citadelle\", \"valyrien\", \"paroles\", \"lutin\", \"murs\", \"armure\", \"detroit\", \"montre\", \"serais\", \"20\", \"monter\", \"walder\", \"servir\", \"corbeau\", \"prends\", \"trahison\", \"bran\", \"croyais\", \"acier\", \"honneur\", \"venu\", \"garcon\", \"garde\", \"souviens\", \"filles\", \"fils\", \"ans\", \"lord\", \"pere\", \"nuit\", \"roi\", \"lannister\", \"qu\", \"frere\", \"homme\", \"vie\", \"vraiment\", \"stark\", \"dieux\", \"famille\", \"epee\", \"etes\", \"sais\", \"hommes\", \"oui\", \"veux\", \"jamais\", \"theon\", \"greyjoy\", \"roc\", \"recompense\", \"castral\", \"paie\", \"iles\", \"bronn\", \"fer\", \"offre\", \"livre\", \"rappelle\", \"appris\", \"brise\", \"lame\", \"ouest\", \"revient\", \"penses\", \"nera\", \"chateau\", \"appartient\", \"rencontre\", \"couper\", \"envie\", \"compagnie\", \"regne\", \"vivant\", \"cour\", \"dorne\", \"heritier\", \"mer\", \"seigneur\", \"pris\", \"freres\", \"epee\", \"ser\", \"pere\", \"famille\", \"filles\", \"ca\", \"bon\", \"stark\", \"fils\", \"oui\", \"etes\", \"qu\", \"grand\", \"mort\", \"hommes\", \"lannister\", \"lord\", \"faire\", \"mere\", \"armee\", \"roi\", \"jamais\", \"catelyn\", \"mariage\", \"meurtre\", \"mari\", \"gentil\", \"bonjour\", \"devais\", \"epoux\", \"digne\", \"devrions\", \"lion\", \"tywin\", \"brienne\", \"eddard\", \"echappe\", \"tort\", \"epees\", \"surs\", \"doute\", \"plutot\", \"voulu\", \"disait\", \"tommen\", \"famille\", \"lady\", \"partie\", \"sens\", \"chevaliers\", \"joffrey\", \"seuls\", \"sansa\", \"lannister\", \"amour\", \"chance\", \"tyrion\", \"mere\", \"pere\", \"fils\", \"stark\", \"jaime\", \"monde\", \"ici\", \"real\", \"port\", \"chose\", \"qu\", \"oui\", \"sais\", \"tue\", \"frere\", \"cersei\", \"guerre\", \"mieux\", \"hommes\", \"jamais\", \"etes\", \"dieu\", \"lumiere\", \"exige\", \"coupe\", \"justice\", \"emmenez\", \"proces\", \"allais\", \"loi\", \"changer\", \"tenebres\", \"lit\", \"poison\", \"heros\", \"meurtre\", \"pitie\", \"pleine\", \"reve\", \"faux\", \"stannis\", \"nera\", \"tyrion\", \"capable\", \"chemin\", \"chevalier\", \"prix\", \"matin\", \"visage\", \"robe\", \"combats\", \"regicide\", \"petite\", \"combat\", \"veux\", \"jaime\", \"roi\", \"maitre\", \"fils\", \"joffrey\", \"pris\", \"femme\", \"pere\", \"homme\", \"savoir\", \"ca\", \"avez\", \"fois\", \"faites\", \"qu\", \"nom\", \"tuer\", \"ser\", \"lannister\", \"sire\", \"etes\", \"mere\", \"jamais\", \"loras\", \"margaery\", \"oberyn\", \"septon\", \"tyrell\", \"proces\", \"hautjardin\", \"foi\", \"alliance\", \"septuaire\", \"tommen\", \"guere\", \"joie\", \"dieux\", \"souhaite\", \"signifie\", \"crimes\", \"prince\", \"donjon\", \"dorne\", \"messires\", \"message\", \"joue\", \"royale\", \"quitter\", \"renly\", \"couronne\", \"nourrir\", \"grand\", \"appartements\", \"reine\", \"maison\", \"ville\", \"rouge\", \"mere\", \"ser\", \"or\", \"roi\", \"frere\", \"lannister\", \"fils\", \"avez\", \"majeste\", \"qu\", \"oui\", \"nom\", \"homme\", \"faire\", \"ete\", \"ca\", \"blandine\", \"menard\", \"brothers\", \"adaptation\", \"dubbing\", \"titrage\", \"maville\", \"clotilde\", \"suivez\", \"nomme\", \"ciel\", \"grandi\", \"fini\", \"rentre\", \"tour\", \"porter\", \"interieur\", \"eddard\", \"aimez\", \"monter\", \"siege\", \"arrivera\", \"vieux\", \"aimait\", \"champ\", \"experience\", \"gloire\", \"position\", \"reine\", \"abandonne\", \"croyez\", \"cadeau\", \"majeste\", \"chevaux\", \"donne\", \"roi\", \"laisse\", \"nord\", \"besoin\", \"mourir\", \"dis\", \"nom\", \"homme\", \"qu\", \"sansa\", \"port\", \"enfants\", \"veux\", \"bon\", \"grand\", \"ca\", \"monde\", \"ici\", \"jamais\", \"tully\", \"vivesaigues\", \"argent\", \"abri\", \"veritable\", \"frey\", \"siege\", \"fui\", \"catelyn\", \"joie\", \"ira\", \"inutile\", \"plutot\", \"cru\", \"paye\", \"vit\", \"grandi\", \"capitaine\", \"walder\", \"essaye\", \"pied\", \"garcons\", \"battu\", \"retrouver\", \"crime\", \"putain\", \"montagne\", \"securite\", \"brienne\", \"ferait\", \"prie\", \"ami\", \"connais\", \"mere\", \"femme\", \"faire\", \"lannister\", \"pere\", \"dis\", \"mort\", \"stark\", \"jaime\", \"qu\", \"ca\", \"venir\", \"avez\", \"etes\", \"tuer\", \"proteger\", \"roi\", \"jamais\", \"nord\", \"oui\", \"voir\", \"mieux\", \"tue\", \"besoin\", \"sais\", \"harrenhal\", \"hodor\", \"loi\", \"emmene\", \"laisserai\", \"tywin\", \"pars\", \"seigneurs\", \"cherche\", \"peuple\", \"loup\", \"tient\", \"envie\", \"arrete\", \"armes\", \"ferme\", \"jeunes\", \"eau\", \"peau\", \"chien\", \"appelle\", \"paix\", \"libere\", \"robb\", \"tenebres\", \"bannerets\", \"bienvenue\", \"recompense\", \"assassine\", \"pierre\", \"travail\", \"aide\", \"passer\", \"fille\", \"batard\", \"portes\", \"or\", \"qu\", \"ete\", \"besoin\", \"mourir\", \"mur\", \"lord\", \"stark\", \"garcon\", \"lannister\", \"dragons\", \"homme\", \"messire\", \"ca\", \"crois\", \"hommes\", \"guerre\", \"pere\"], \"Freq\": [441.0, 852.0, 1642.0, 767.0, 395.0, 502.0, 220.0, 352.0, 180.0, 261.0, 448.0, 263.0, 862.0, 78.0, 197.0, 190.0, 201.0, 378.0, 93.0, 401.0, 92.0, 209.0, 234.0, 116.0, 230.0, 842.0, 94.0, 446.0, 172.0, 453.0, 20.886090993744663, 15.946205906193136, 18.51855394789216, 14.498231849158344, 111.39800159448447, 14.533635061223139, 15.658915367251685, 21.35070151587949, 13.62907537334114, 21.922824855960254, 19.63685377108602, 15.395092148124018, 25.81806025505711, 15.493540114489743, 11.184936378424469, 19.901168429068402, 14.572147687762767, 17.502206503654236, 14.385618605447478, 24.939758403707074, 12.684348828655677, 19.638089562542145, 19.341158625792424, 15.419477834368625, 13.504660986275274, 17.472059405089407, 14.413580933011493, 14.191436438413277, 12.419448894395249, 9.735693079275086, 23.066003772910854, 17.423280784553903, 27.63126126897922, 69.60727545143202, 51.10387675768427, 56.44790654219489, 259.7412169303913, 46.8752665850482, 402.1809245241751, 65.5678145103346, 91.75551433698425, 114.34389422141344, 117.44871139748028, 105.48232689254982, 105.45452781562284, 106.27194179662098, 110.2607445719889, 116.1774881553205, 107.91142188848544, 146.88924335460703, 125.62037029547335, 66.90476894434082, 57.89727514668144, 88.36449354533919, 60.82561985282343, 49.3460345582053, 117.90604726669162, 61.99238113090252, 66.75593845559669, 56.57636091222231, 62.37215163709188, 75.67049293692638, 73.44036619731249, 66.6984898730786, 60.02277377725275, 24.73616466228591, 20.2992620876528, 36.960018478547084, 15.215044004100982, 18.728941645094576, 15.2493429698196, 13.73753529286933, 16.069434031471648, 15.786427502338535, 13.59917719671215, 27.147896308779316, 16.014471425563382, 20.23265365394048, 11.842691659467619, 12.937682962871367, 25.25231528317741, 13.534602402539296, 36.25076484330709, 17.817028722502318, 15.365317841677422, 16.06830233500588, 12.31324476526117, 12.249285083823443, 15.26077550823042, 37.2848915727568, 24.691963021195377, 13.172023424498336, 12.662945307683533, 20.760805542920192, 12.104660940392444, 20.82322700509714, 57.99527444871793, 18.015774511019284, 52.52432441111935, 66.04141330876627, 24.13210707105265, 61.86635283738825, 44.2767422749722, 117.73179146626133, 126.51010877830346, 287.43383582679905, 31.34156378860397, 39.72672623626015, 108.93533640989747, 38.72490654416216, 60.6989329010057, 91.95395353430605, 107.68967418380112, 92.81113139295452, 135.90177673833477, 93.14793178041793, 72.7445126857436, 38.51660545413452, 63.75374558886034, 113.5324645270885, 66.13768492096739, 86.25561814624395, 78.84540664457177, 71.0739811066688, 50.87442222913777, 72.70656697918635, 57.57152338252749, 45.81452046148799, 48.75657117667409, 47.565751462187656, 47.76195171475366, 43.289246026567184, 44.74710011216364, 28.938490959808572, 32.13592769824466, 19.81432645317724, 18.193467202653554, 22.692759129583774, 50.655732682457916, 18.299360947369415, 93.21724787118235, 40.43005582998343, 57.646850244842625, 20.12069404938869, 220.63739933180372, 15.904968894433011, 56.97383396205798, 125.95493397604585, 23.671624797953335, 20.598821744855748, 24.138558739193094, 51.52239227074998, 103.49932170228276, 31.031905107416573, 56.5078690643273, 12.214957192920396, 16.763567872950517, 33.11062477320409, 98.64733780310999, 10.187233691897283, 81.79800702998617, 11.07625723404855, 46.915714715086196, 39.46917197880245, 30.430676698435395, 144.40699428724238, 107.45100257385577, 66.3760577062324, 106.62534650406774, 157.9017372109116, 79.41583861362928, 48.75477773366952, 47.49982896781316, 88.85845115319628, 50.870214255214975, 75.03551906826155, 58.43661360078025, 51.796885413221574, 58.469822022579464, 62.379570855470334, 54.26507680844919, 45.692204832995294, 47.361308495526096, 47.30607131990617, 63.07546630035704, 87.18525901544508, 39.535008928381025, 44.26428741531843, 18.536961659980314, 66.2928667684891, 42.531387007805634, 15.490037082683514, 20.94776899760446, 35.628846607393264, 96.31147739474818, 12.540893030272036, 10.468549743551957, 17.704142589048974, 17.560205830578287, 20.617038949045178, 46.49057176011154, 14.008806791951365, 8.954630246920292, 10.77164473904279, 22.50518426775909, 15.590600797980223, 19.6863466853696, 9.827166655725536, 10.737545352881057, 28.47521643499845, 13.434267090691273, 11.137032731365547, 11.663995834937266, 15.653137015400983, 40.7618376609943, 50.27085398943915, 124.68348121249029, 29.926833286383676, 25.841836232349056, 32.546658170383246, 47.141639112373845, 38.91229425359119, 47.63958645203361, 57.141246705876384, 113.7277730599872, 33.61167851252132, 145.19976665257082, 51.000883674160086, 64.66305191960925, 52.62943004014591, 28.69640788638498, 42.81041066710809, 40.958241075588894, 47.25521420385685, 47.41703793432626, 46.04344277139996, 41.32663244272141, 36.273877725251765, 37.82333934514681, 35.53970199884785, 35.788755235506784, 15.973510543727295, 20.986739503380118, 13.444613230068846, 19.49733517488681, 21.534605744666255, 27.667396058651658, 55.72841637223159, 14.040147940363116, 21.144614808144173, 10.159298534972148, 52.26824869252548, 12.532429869645846, 12.077727154802213, 36.958758640686064, 12.663015482957864, 44.032723146692305, 70.15888384741127, 8.43900062751916, 9.860197144698798, 8.669169467358667, 10.38409067001701, 22.35377218837818, 15.44903032499672, 24.115532063347064, 19.35459682617207, 41.89416135363221, 10.700428574298604, 7.402841688395087, 12.826419060561959, 14.530893267054775, 30.52380819619152, 40.71386199138238, 19.605079656504003, 26.8853285095205, 45.15109715902736, 167.7711714724846, 123.35820875227004, 48.867974204246025, 158.02519468381914, 44.12618608652069, 43.17707213168712, 32.19657091082752, 52.02460167442042, 41.11345115401704, 37.994308314371295, 66.30052561760897, 77.07408046434783, 58.49906120043485, 49.83823436199015, 30.662106800865192, 74.38636622236059, 38.477105338684446, 33.082355338960205, 42.847523174075086, 33.009636074545995, 34.7270390436505, 36.05678519713799, 34.34183966217176, 32.51644710057026, 25.71085818854148, 40.668993469671626, 31.5066205331428, 14.879191733565449, 13.742219236965251, 14.500574876308892, 14.05133133858865, 39.69118333803738, 8.105244804593141, 11.190489346373056, 39.41266075668059, 13.093808272204035, 9.328269897918808, 9.96593963005524, 13.624003330161477, 10.206724582595513, 8.744068195105879, 15.605445293537299, 17.079584779453405, 81.92013798219219, 12.228226404812945, 13.63388686421652, 64.4819986848067, 8.457053242536793, 26.306726073732616, 20.740924393255312, 10.958058094466741, 6.71844580670326, 26.397133317051814, 6.059314095347378, 20.512449726758298, 64.7425396602623, 35.58516293313429, 26.736009325907684, 27.999958642940914, 24.784662961435146, 80.70507315859051, 35.606217161160785, 40.42029130593553, 40.349727249808836, 52.41509160533464, 45.71798394951512, 87.33929340794582, 45.92519367002696, 45.86248072465245, 29.730171826060396, 26.31739839246664, 36.223729397704375, 29.823351394303987, 39.96562571254616, 30.242872809946192, 32.23141813280613, 28.037335071185186, 27.065136275361805, 29.18700052290467, 27.041736695416343, 10.711900226757434, 7.760369266770515, 14.295113144426878, 12.014268461772836, 8.718219769196551, 7.623768588038097, 7.780385528914094, 10.487930452038386, 11.123491043507999, 72.94239457343527, 11.66207169108004, 7.10311884519088, 13.055103186294314, 50.92462341701257, 8.45775538521201, 52.67283618492961, 7.554112387632649, 6.796520186431231, 7.299427873640581, 8.43019286708349, 7.136662758706835, 8.80246667176228, 9.19846952224452, 9.535125755827032, 11.06885170473263, 15.609020647010283, 5.950223570353685, 6.693889218273383, 17.210200901883475, 34.43605199202069, 137.0697626067358, 29.54806768742913, 38.23837663582468, 17.63774770859878, 31.44541182795862, 17.294706887043642, 14.270883142351083, 111.21454649071728, 21.080545235901248, 63.40393972521732, 18.933521698040177, 58.90729451772334, 31.285914770881643, 26.116375123481678, 24.078559883225857, 31.056713007825206, 31.113789432842125, 19.77843734866681, 29.138204268993718, 20.15216560897751, 28.959042825114718, 25.99965742116246, 26.189287424076284, 25.964899882743616, 23.71949549325218, 24.196621145334202, 20.88263335630172, 23.48473891567164, 20.65006539587292, 20.416552261593143, 29.365651465907796, 27.957578797750614, 43.4801455623771, 12.4563557548108, 10.444726961818207, 13.833757061860247, 12.05632469667372, 9.204225616004685, 6.945160488566638, 9.782114922188057, 12.941835500201671, 12.390410951379852, 9.274875892330682, 6.052218489437585, 8.85248623787595, 6.286072420329264, 10.429903465074721, 6.129977067599479, 9.796660405735144, 14.208619629724739, 8.655925838798375, 6.190346313528239, 7.639210045476965, 19.88220454704313, 7.126269802737867, 12.560167755145368, 9.31785542031024, 17.029575538224574, 9.3478954419518, 12.15069454293175, 31.199740714239763, 22.258596690230046, 30.56772992665173, 42.01078545869904, 12.6053320187105, 23.379226689808874, 55.06926957793732, 27.567413335963472, 55.02494258161388, 74.53912520783521, 30.653731152469188, 58.10367208075626, 33.590089731864275, 72.27432445228867, 33.16079252893117, 34.55196750203827, 27.633855870645814, 17.11308012225523, 33.256190154169346, 21.72594673198419, 20.908626216745553, 20.55668046896985, 28.43988870505357, 25.059900833376492, 25.049808554256078, 23.69596573937733, 22.52793435932135, 20.171464322528905, 68.77131713366364, 58.411681939126275, 35.35000017969842, 17.063989689910684, 33.505937477961474, 12.606982405836865, 25.80786532464906, 12.647043348557906, 64.64923513567548, 13.095640356388973, 9.759816401808996, 11.211927036647145, 26.154415393775448, 7.66523312661694, 8.150657569650448, 6.678147755007893, 6.547378202106483, 7.122425426783129, 11.237255151820204, 23.481875533580812, 6.644491970057887, 6.831249306697038, 4.750422262109862, 7.195020170578677, 5.682882647198639, 7.870672821910913, 4.728042803197403, 5.2940962371897875, 12.94648346109653, 7.419296138803042, 13.848025178001631, 24.788161695889368, 20.900830595903177, 17.53882798608776, 28.568518291265995, 35.25788560673347, 56.7882911856369, 21.86682321905244, 17.056348457229223, 52.48729577110169, 24.62226720029466, 35.902427152305094, 30.82648311973533, 34.63503322193425, 31.928242870780174, 48.69278992992263, 23.097498020439463, 27.439691921914672, 28.54258108487711, 23.816517585811297, 25.74136281483788, 24.905042243474874, 22.301924558298495, 19.68685710439712, 22.201292620201265, 20.74510740602865, 24.015420271963364, 32.49428391334015, 12.12393110716869, 19.94966617148448, 10.891998108215816, 9.487771631689053, 7.490449104315448, 8.780066125355916, 7.091420701214654, 7.7080291737527515, 15.239696800378802, 26.07166433011204, 13.326783056715053, 6.736354779507264, 6.216607196133609, 9.987447885133161, 7.633937320768143, 7.952955388614972, 10.304627494004786, 8.452999404930033, 12.27189263622328, 8.750282658372258, 9.189669108889387, 41.959858036633875, 38.721380406693854, 8.197225891560617, 9.18187142815995, 7.785033217121288, 42.77745338724025, 8.571753032912413, 38.928705739156875, 63.91146474369448, 14.949785104145855, 18.27706762174803, 21.115407634487575, 45.055488544321655, 72.26483053878417, 42.84922917134604, 48.80273212572055, 19.870860608137644, 29.95670730068099, 39.60687223298819, 21.467731561021264, 20.780420762180665, 22.007566760045236, 53.52570386639237, 31.54372439305259, 28.153274698202335, 24.49337151350496, 25.66128750003919, 19.26772075872195, 21.35001634933107, 20.420138804540166, 23.31948279978131, 20.70732599265972, 19.314178724704337, 50.80981386999733, 22.672404364300192, 8.544352327466123, 12.771912850008022, 17.552843207245953, 10.287785209353604, 13.364259239677533, 6.192066410735405, 9.149212070100438, 6.101810028177599, 6.09021272570928, 12.229572070132564, 5.87634554586602, 6.59342610023178, 7.1509243388376005, 21.715977340436716, 7.6864551352283526, 8.837689082830323, 8.174189538512636, 38.64851069148794, 10.221546415770495, 26.683025328833903, 5.485417183714713, 8.826750639037494, 20.203885882941954, 7.504868924973246, 7.217247520138132, 13.380675325274762, 7.462743120627643, 4.226108135182579, 11.340083641296062, 24.547381241581085, 14.817211904360878, 55.9500746137811, 20.79583188235637, 85.21721095649086, 20.782619848247343, 40.753953556717164, 25.51126723126133, 17.836979344490477, 25.908323219220883, 48.706883499241926, 34.99897380936034, 16.45031382574677, 47.95191727821454, 47.126765313656314, 23.845581807181357, 19.750848636738613, 57.999763558822984, 22.94899412744206, 22.995910378401266, 23.72216724921897, 22.543375575903998, 17.173416455276016, 23.588974345074725, 18.462305192749852, 18.36666315744943, 75.03961243140321, 49.88114020269885, 30.215983874005655, 24.35735834845919, 68.22504178652493, 30.494237528975813, 20.870042744116212, 35.4390796571207, 13.13459595066491, 13.724118319635302, 14.70869541205504, 7.4599191037329025, 7.741395823448134, 63.09201865678914, 9.734071727931775, 7.42931528039174, 7.871782541534785, 24.96911567121929, 10.406507100450307, 17.720313089327448, 5.746566199365497, 7.6685198835575195, 4.956632374428316, 11.028855296317277, 5.459927977407298, 16.472999841343444, 14.451801408911285, 6.0112522322948445, 55.00987461353071, 4.386060118100479, 74.84911612763236, 31.954563928275505, 19.52354845458427, 12.62100002451175, 34.05993018928367, 30.402746202971283, 20.047975822065325, 47.941695332321345, 28.183011255480878, 26.14323241693757, 26.746302101107492, 36.86031903811616, 22.026702600590106, 42.0374115170523, 26.325131055608637, 21.028114163772948, 22.272385940195512, 20.687254213690444, 18.932010642664583, 17.763698872392844, 24.874634388728264, 24.87463279278821, 44.72485180205865, 44.72483951319855, 44.724824349727484, 44.724816874002755, 19.037145019327564, 19.037143587049155, 7.794048431206046, 6.688224267639779, 5.817522657911045, 4.665463756161, 16.09950340964089, 6.927615954590895, 11.579502139943544, 6.827588711214855, 4.176312979649899, 4.946390926936227, 4.149769819701888, 4.501470251223505, 6.653955142367064, 3.8061302107835613, 10.52501929171517, 8.195056842349315, 5.076076100812709, 3.983340397351142, 5.016859581440283, 3.5806685244565846, 66.68390577034317, 3.5308378055974594, 9.290970636751616, 8.14523920026833, 34.010057738854734, 9.161275386327782, 16.528588679234893, 49.461462683235425, 13.00731293164131, 27.32855417658826, 17.1818111192666, 15.386066160478782, 14.19603199293168, 18.89822457858051, 23.03453142066319, 38.17197082546185, 14.180717668284105, 13.997942138031318, 14.099749199961158, 18.443222980842677, 14.168004245710963, 14.667635527009194, 20.646427752003135, 14.108016395200915, 14.924080088533211, 13.782131587211259, 19.875319468925, 14.107821512323566, 22.271733081565994, 8.166779817697122, 6.799951912672359, 15.796795953450918, 10.163172761962054, 5.72314837135683, 9.56853207521706, 5.722271261625047, 5.2135016151048434, 9.978426377239021, 7.803593432411341, 4.718115732514425, 6.16436856912125, 4.2562076448336885, 4.530065535255849, 7.76474239736688, 6.33530644492026, 5.880826505462867, 4.747344022513374, 11.701897295745384, 5.353666565012042, 4.789194851856548, 4.320454031706616, 9.449207192637365, 6.845760115844881, 8.516427252321874, 6.682446846555671, 5.273591029715495, 11.411634109852782, 16.460003198828293, 14.584332169514783, 35.16059070413119, 22.10486089071922, 31.223733181055685, 24.528256450503477, 38.68030219427824, 14.38244390612929, 23.753519275773073, 23.0800023986732, 11.94832467409976, 35.56174343041132, 26.552179867525144, 9.782706977886647, 25.101134095016178, 21.320909087150014, 14.516019727241313, 10.960745316009419, 19.362640868567862, 16.390715161755296, 15.074174879021607, 15.448688261937004, 13.639155786709962, 12.889803332285931, 13.277643417861626, 12.353863147578638, 12.663689275219486, 9.72214125765868, 11.89344087991239, 4.511039734836307, 4.381176673335293, 2.9416545763026356, 10.227325535276869, 3.571214478715008, 6.1352651921871155, 2.9710788523284974, 10.601160358663916, 5.520675804078738, 2.4063454897759415, 2.8595706520207846, 6.716659364580371, 3.514933557556794, 2.3154635899356886, 1.7416292545618584, 4.4640915917127595, 2.5570929470531523, 2.0022488528256837, 6.136270494141017, 5.809290299123452, 2.3581691204793214, 7.397200000344182, 1.5070561778717988, 2.0022487515008964, 2.1361935759520154, 1.845001489960461, 2.002248800779951, 1.614225970600134, 2.971079056863994, 5.787663713174873, 3.822290068206389, 10.677522687661458, 6.156658157541495, 3.632587376699414, 6.814902374106159, 28.56648707748697, 10.066814260320516, 6.974247717135573, 6.3010122723356865, 7.130464100358945, 9.140845150735078, 8.973360567689081, 5.426581377845068, 7.2548449185800115, 5.429527683003996, 6.8536942146899, 4.9517175261520485, 7.728071680581116, 5.10877182948619, 6.096747100987914, 5.445168721606288, 5.321622239852067], \"Total\": [441.0, 852.0, 1642.0, 767.0, 395.0, 502.0, 220.0, 352.0, 180.0, 261.0, 448.0, 263.0, 862.0, 78.0, 197.0, 190.0, 201.0, 378.0, 93.0, 401.0, 92.0, 209.0, 234.0, 116.0, 230.0, 842.0, 94.0, 446.0, 172.0, 453.0, 28.419022425830892, 23.537013261924375, 28.47955553991381, 22.428084691350097, 178.449215966133, 23.473355958880003, 25.454839943551992, 35.17590703498966, 22.63832920163513, 36.91774352740113, 33.468136677687156, 26.581817053963164, 47.08096794956463, 28.46525515774557, 20.72719481110366, 37.39926778409488, 27.624609021105286, 33.34256263150769, 27.446368154501616, 47.83576144500321, 24.5038245961679, 39.21386293584432, 40.325240377396945, 32.49802610822781, 28.575135445729135, 38.01981401633563, 31.54711124707987, 31.41741011965739, 27.53572176746678, 21.67634568940501, 52.023983844182126, 39.15005708498461, 63.52492119400599, 168.1429556934849, 126.9724619014617, 145.8230266860305, 862.4695313204932, 121.3730965813845, 1642.4866649933194, 189.1134006422674, 291.67718818187853, 453.0292276276482, 506.1126580330949, 457.9155698319128, 461.048361499489, 487.4105541497807, 529.762405834676, 578.8872594630711, 522.8887271008433, 842.0084667018937, 767.6222508584943, 276.86201771659637, 219.15762618381382, 446.0017122062789, 241.5506847673518, 170.28155970217307, 852.1451742567609, 261.26632959767835, 305.7005801873558, 235.4834587692817, 286.9862962769315, 441.10696871329037, 530.9305018570102, 404.20377722753835, 333.67677997372374, 31.300135693172727, 28.384970178770807, 53.682782443183356, 22.298766306396118, 29.07352928418258, 25.43195702349168, 23.433218576889864, 27.464749931066592, 28.43337199418443, 24.50924235565434, 49.06121753278664, 29.33465454333789, 38.13921854584318, 22.452774115720025, 24.58781033235233, 49.077866989847664, 26.449683078908638, 70.96237612177032, 34.92972092289208, 30.491936309912557, 32.45901799734939, 25.401803256122122, 25.609309635891083, 32.528635102067284, 80.09689098677232, 53.14507936610869, 28.35774896953205, 27.518595640858347, 45.289234976524945, 26.51904201333532, 45.84297119443293, 131.19032573067855, 40.03897250741696, 131.59686067267938, 190.5552226672317, 56.95862520413687, 185.52150705588164, 122.30115121124899, 453.0292276276482, 529.762405834676, 1642.4866649933194, 81.27778384302738, 115.23538235392448, 487.4105541497807, 112.2132590131551, 218.17302447780557, 404.20377722753835, 522.8887271008433, 448.4934624126816, 862.4695313204932, 502.55639241021146, 334.46368601838594, 116.64587798168628, 286.9862962769315, 842.0084667018937, 330.1118513538274, 578.8872594630711, 506.1126580330949, 457.9155698319128, 221.4583422609753, 530.9305018570102, 378.7272122214157, 200.62236055522834, 305.7005801873558, 395.52951994561664, 446.0017122062789, 401.86015439762303, 852.1451742567609, 34.81221497601764, 39.79256098360124, 26.82520666701339, 25.75952057757059, 32.736055680418936, 75.43660275803727, 27.770661896625356, 141.78601895870403, 64.23007105101634, 92.97472126441073, 33.66600972288848, 395.52951994561664, 28.737144660658213, 105.8156200444913, 234.81216300308705, 45.289234976524945, 40.55505998623987, 48.405926662428534, 104.97792729541084, 218.17302447780557, 65.61163219149404, 120.56606705147028, 26.775994058209225, 36.75373847123023, 73.22396050029894, 220.88673923265816, 22.847417132016314, 184.5816495141097, 25.130274623853698, 108.12662176822597, 97.08012152175391, 75.49588990149546, 502.55639241021146, 448.4934624126816, 257.9026754527532, 767.6222508584943, 1642.4866649933194, 530.9305018570102, 211.8534114854376, 212.6320754049348, 862.4695313204932, 265.4880866517754, 842.0084667018937, 461.048361499489, 334.46368601838594, 529.762405834676, 852.1451742567609, 487.4105541497807, 263.57856068219985, 404.20377722753835, 457.9155698319128, 66.55156539509798, 94.2048689909689, 45.62675104021619, 55.43260251158355, 23.847116374629373, 93.03898278446617, 60.24272872240487, 23.806407014670214, 35.80343355599006, 65.1504851333767, 180.37285580690502, 25.818364717920677, 21.599946739929653, 36.65249283487325, 36.53997131785687, 44.34323947908049, 101.51933315898953, 31.786616881929557, 20.830742253958473, 25.293067689471737, 53.40309045571084, 38.761460896176544, 49.5103008072009, 24.816089981898457, 27.819139815477026, 74.9709991976216, 35.552963111425406, 29.53579509688259, 31.565252690058845, 43.516474771719395, 116.84414413525032, 154.90236898872377, 441.10696871329037, 89.12299056804048, 75.9249732508559, 102.16993569933419, 172.7420396608068, 139.80763457597402, 197.19888884848697, 276.86201771659637, 842.0084667018937, 126.33984363739707, 1642.4866649933194, 314.63582174009224, 578.8872594630711, 461.048361499489, 111.88704630034718, 378.7272122214157, 330.1118513538274, 522.8887271008433, 530.9305018570102, 529.762405834676, 457.9155698319128, 286.9862962769315, 487.4105541497807, 291.67718818187853, 453.0292276276482, 24.878109634326975, 35.49907419379138, 24.62753088761572, 36.696188998047305, 41.47276804779757, 53.570135031785696, 108.06069997611458, 28.613706785178252, 44.47039757386171, 21.722867134434974, 111.88704630034718, 26.844676755348644, 26.67956828651522, 83.26792619881196, 28.656032080126487, 102.16993569933419, 168.8400247659298, 21.775289542598784, 25.78133514493166, 22.770416823804428, 28.505261299898677, 63.12993620369437, 45.41289151255606, 71.43473183995759, 57.53753739064914, 126.33984363739707, 32.55082603435512, 22.677648984906504, 39.600752891548176, 45.81442407205631, 96.4473381794428, 134.92685623332326, 62.786892895030334, 92.10491290570792, 168.58639486031572, 842.0084667018937, 578.8872594630711, 192.13192817914054, 852.1451742567609, 172.5504821950745, 180.37285580690502, 120.55544716304124, 257.9026754527532, 197.19888884848697, 174.1814222501277, 530.9305018570102, 767.6222508584943, 446.0017122062789, 448.4934624126816, 133.56026952010228, 1642.4866649933194, 264.8087480362038, 172.7420396608068, 502.55639241021146, 252.32072928230917, 352.96818242546703, 506.1126580330949, 522.8887271008433, 401.86015439762303, 27.702021134278024, 50.498213719923285, 47.54644924842163, 23.44402483137405, 23.813690739709113, 31.62186629488347, 32.719599293131836, 97.08012152175391, 20.68292713551523, 29.703831995902572, 104.97792729541084, 35.53083439180049, 25.75306079205112, 28.654077786190562, 39.457561495909395, 29.58998355386244, 26.87910937765625, 48.6282292291753, 54.544370626086945, 263.57856068219985, 39.71097005174766, 44.633178003745606, 220.88673923265816, 29.591627195324648, 93.64411891544728, 75.43660275803727, 40.55505998623987, 25.802993502957698, 101.82897586338974, 23.582352034595765, 79.94913814413974, 265.4880866517754, 145.8230266860305, 116.17767152486637, 141.78601895870403, 121.47935547568267, 862.4695313204932, 234.81216300308705, 305.7005801873558, 330.1118513538274, 530.9305018570102, 446.0017122062789, 1642.4866649933194, 457.9155698319128, 461.048361499489, 264.8087480362038, 200.62236055522834, 529.762405834676, 314.63582174009224, 842.0084667018937, 333.67677997372374, 578.8872594630711, 448.4934624126816, 506.1126580330949, 51.02244140267326, 51.05030871466281, 29.810602568416687, 21.827189496062008, 40.894608861522954, 35.79546217590561, 27.624609021105286, 25.893380917395397, 26.78598484552375, 37.08655156875984, 39.79730866008843, 261.26632959767835, 41.783228758666255, 25.738450831915515, 47.36923503107835, 190.5552226672317, 31.865620745927718, 201.34044815661633, 30.561045357251867, 27.523725065137, 29.645850326513838, 34.57237713737375, 29.709458816643256, 36.80531243171715, 38.69449841254824, 40.611464415328605, 47.204065918420426, 69.31014079534336, 26.67956828651522, 30.40442383616926, 82.13541867647702, 177.5793804430944, 852.1451742567609, 164.65148416647162, 230.68916634194449, 93.26405254922915, 200.62236055522834, 91.91972820380897, 70.96237612177032, 1642.4866649933194, 134.92685623332326, 767.6222508584943, 117.66023405715812, 862.4695313204932, 291.67718818187853, 219.15762618381382, 196.212005387202, 333.67677997372374, 352.96818242546703, 139.45792437139175, 334.46368601838594, 154.34350527524464, 506.1126580330949, 441.10696871329037, 529.762405834676, 522.8887271008433, 378.7272122214157, 502.55639241021146, 252.32072928230917, 530.9305018570102, 241.5506847673518, 842.0084667018937, 43.860162251751014, 50.76199520178723, 105.15628266810589, 31.786616881929557, 26.87910937765625, 35.80343355599006, 35.61017139503197, 28.57570518908984, 21.739893291654177, 30.698389209022743, 40.83992841689344, 39.71097005174766, 30.703883063707305, 22.585944868264047, 33.51441146229955, 23.846350481666306, 41.783228758666255, 24.588510625722982, 40.348359623758, 59.142049953960985, 36.61364764484612, 26.270894778097436, 32.51389178290476, 85.24100902113949, 30.6786754646526, 55.11679812704633, 40.894608861522954, 75.49588990149546, 41.54818954830361, 54.29693337730052, 142.29324399777312, 112.95616890808358, 170.28155970217307, 263.57856068219985, 60.365141792290196, 131.19032573067855, 401.86015439762303, 164.50726214679264, 448.4934624126816, 767.6222508584943, 265.4880866517754, 852.1451742567609, 352.96818242546703, 1642.4866649933194, 404.20377722753835, 446.0017122062789, 314.63582174009224, 110.3934103460129, 502.55639241021146, 209.04132217817917, 191.00398889205772, 189.1134006422674, 578.8872594630711, 457.9155698319128, 530.9305018570102, 506.1126580330949, 453.0292276276482, 487.4105541497807, 92.15151708358391, 91.48599677348066, 55.75320317408453, 28.845619813694768, 58.73745392424271, 22.763580263158516, 49.5103008072009, 33.59892572854078, 197.19888884848697, 42.62418472643663, 32.49802610822781, 39.393322992756545, 91.91698146566418, 27.59351658186681, 29.645850326513838, 25.51916852711998, 25.81661611845926, 28.575135445729135, 45.7818749916763, 101.00889013735382, 28.640281265503596, 32.52015587226701, 22.73077395770633, 34.49452851720625, 27.819139815477026, 38.82656904428469, 23.582352034595765, 27.89822318053104, 68.43306659158769, 39.560928168581036, 74.9709991976216, 138.38740051008105, 119.32640863561737, 101.82897586338974, 189.1134006422674, 333.67677997372374, 767.6222508584943, 191.00398889205772, 131.19032573067855, 862.4695313204932, 252.32072928230917, 502.55639241021146, 401.86015439762303, 506.1126580330949, 578.8872594630711, 1642.4866649933194, 281.8368261322255, 461.048361499489, 530.9305018570102, 352.96818242546703, 448.4934624126816, 522.8887271008433, 378.7272122214157, 211.8534114854376, 852.1451742567609, 487.4105541497807, 40.29169164664999, 64.79243367017298, 29.033506726913803, 49.776247252103154, 28.744651508352785, 25.802993502957698, 21.61943972925976, 25.950721370490626, 21.618543195681866, 23.82765829066311, 47.72824541830429, 85.70169139423814, 45.85211989625363, 25.53062724944236, 23.921372025922153, 38.44223272890956, 29.776927220201102, 31.865620745927718, 42.58941062334077, 36.774915296889915, 53.55208670905552, 38.86264716180385, 41.587696610142764, 191.00398889205772, 177.5793804430944, 37.65934700196763, 42.47216056741774, 36.62585572622304, 201.34044815661633, 40.462213725600854, 190.5552226672317, 352.96818242546703, 75.44857020461029, 98.75527901081149, 119.8945464466832, 378.7272122214157, 767.6222508584943, 401.86015439762303, 502.55639241021146, 132.1998395737822, 276.86201771659637, 529.762405834676, 172.5504821950745, 192.13192817914054, 219.21072776600266, 1642.4866649933194, 506.1126580330949, 457.9155698319128, 330.1118513538274, 404.20377722753835, 172.7420396608068, 257.9026754527532, 224.23100241834163, 530.9305018570102, 487.4105541497807, 578.8872594630711, 93.64761823307474, 57.52046977428486, 22.670523265559254, 35.81670826475868, 56.47153684507183, 33.62339218357331, 44.713648053219394, 21.834114313484335, 32.56763983369056, 22.65173806862637, 22.713843549156316, 47.36923503107835, 23.56770853961879, 26.581817053963164, 29.033506726913803, 89.01067155908746, 32.719599293131836, 37.80617680533869, 35.59758557860666, 168.58639486031572, 45.7818749916763, 119.8945464466832, 24.776558523456032, 40.365993187073244, 93.26405254922915, 34.79331549568597, 34.67452539850384, 65.01979162656946, 37.08655156875984, 21.547818864280345, 57.821215132962735, 137.56647430598426, 83.70741704635763, 453.0292276276482, 132.1998395737822, 852.1451742567609, 145.8230266860305, 401.86015439762303, 201.34044815661633, 119.32640863561737, 221.4583422609753, 767.6222508584943, 446.0017122062789, 118.88953667129064, 862.4695313204932, 842.0084667018937, 241.5506847673518, 169.872856630039, 1642.4866649933194, 264.8087480362038, 286.9862962769315, 333.67677997372374, 352.96818242546703, 139.45792437139175, 578.8872594630711, 378.7272122214157, 487.4105541497807, 78.24087975422597, 55.52555903614282, 35.68628533788356, 29.610391144928283, 93.95066364758698, 44.713648053219394, 32.68765266999353, 57.972789352823746, 24.568281909195978, 30.668064708204092, 41.587696610142764, 23.645164200519126, 24.75598299443883, 209.04132217817917, 33.719842062943826, 25.738450831915515, 27.876722942148685, 89.12299056804048, 39.79730866008843, 68.43306659158769, 22.847417132016314, 31.673583278319693, 21.652065795771918, 49.58274835996991, 24.660704051405805, 75.59118179910807, 69.79394833855946, 29.546059523339775, 281.8368261322255, 22.791440508683134, 441.10696871329037, 194.7558175553203, 139.80763457597402, 79.47594961633311, 378.7272122214157, 333.67677997372374, 172.06693795686618, 852.1451742567609, 404.20377722753835, 352.96818242546703, 401.86015439762303, 842.0084667018937, 261.26632959767835, 1642.4866649933194, 506.1126580330949, 264.8087480362038, 446.0017122062789, 522.8887271008433, 334.46368601838594, 862.4695313204932, 25.807063704472434, 25.807063846955668, 50.012508154978114, 50.01250908403509, 50.01251023043989, 50.01251079561765, 25.25960882860189, 25.25960893688361, 25.130274623853698, 26.100046752807426, 25.293067689471737, 22.45283090288538, 77.63773410080272, 34.20645507876424, 57.46435461552092, 34.08827873093109, 21.521609072370484, 25.53062724944236, 22.481643357909764, 26.270894778097436, 39.24338398859893, 23.265671044978706, 64.85467706742486, 50.616212817710405, 32.24130079132162, 25.32839064903075, 32.348346497646695, 23.379470767274906, 441.10696871329037, 23.44402483137405, 62.786892895030334, 54.90191217884108, 261.26632959767835, 66.72183368788401, 164.27506002983566, 852.1451742567609, 128.15561939452786, 395.52951994561664, 199.36508772410266, 170.6359669099565, 155.39973682995458, 264.8087480362038, 446.0017122062789, 1642.4866649933194, 190.5552226672317, 192.13192817914054, 218.0112017756533, 453.0292276276482, 252.32072928230917, 281.8368261322255, 862.4695313204932, 276.86201771659637, 529.762405834676, 487.4105541497807, 32.039287428088066, 37.73667576515356, 62.04578386356622, 27.66009025159147, 23.92300245363973, 55.744993389503826, 39.24338398859893, 22.753219819826274, 40.29169164664999, 24.75598299443883, 22.770416823804428, 44.63588399868302, 36.774915296889915, 22.78091886126801, 29.82456623821354, 20.786929650690958, 22.45283090288538, 38.761460896176544, 32.51389178290476, 30.53768913175703, 24.841358167247964, 62.279480073391596, 29.59685482459667, 27.464749931066592, 24.90831123372251, 55.07398056050773, 42.70780112457484, 54.95910909563949, 45.85211989625363, 36.5722807155106, 79.57700370475423, 121.47935547568267, 113.82402845751623, 378.7272122214157, 221.4583422609753, 522.8887271008433, 352.96818242546703, 767.6222508584943, 155.39973682995458, 461.048361499489, 502.55639241021146, 132.1998395737822, 1642.4866649933194, 862.4695313204932, 88.31122348990193, 842.0084667018937, 578.8872594630711, 286.9862962769315, 122.30115121124899, 852.1451742567609, 487.4105541497807, 395.52951994561664, 506.1126580330949, 291.67718818187853, 224.23100241834163, 330.1118513538274, 199.36508772410266, 457.9155698319128, 31.617897263747906, 48.405926662428534, 32.56763983369056, 34.60082408467974, 24.631467814552455, 85.70169139423814, 33.334147997315874, 61.447794727769505, 30.35489787660966, 116.84414413525032, 65.61163219149404, 28.656032080126487, 34.49452851720625, 81.41137104675323, 43.251015396709235, 29.33465454333789, 22.33836272575483, 58.12469435852275, 33.59559656523559, 26.60427139207285, 82.83611491975985, 83.26792619881196, 34.43608441504118, 108.12662176822597, 22.713843549156316, 30.485113697403925, 32.6192577855822, 28.845619813694768, 31.585347208569047, 25.818364717920677, 47.83576144500321, 96.39829705685224, 66.91324291259824, 230.68916634194449, 120.56606705147028, 69.31014079534336, 172.06693795686618, 1642.4866649933194, 334.46368601838594, 199.36508772410266, 170.6359669099565, 220.88673923265816, 448.4934624126816, 502.55639241021146, 170.28155970217307, 352.96818242546703, 180.37285580690502, 446.0017122062789, 147.74304496589653, 862.4695313204932, 173.0880482303293, 530.9305018570102, 257.9026754527532, 767.6222508584943], \"Category\": [\"Default\", \"Default\", \"Default\", \"Default\", \"Default\", \"Default\", \"Default\", \"Default\", \"Default\", \"Default\", \"Default\", \"Default\", \"Default\", \"Default\", \"Default\", \"Default\", \"Default\", \"Default\", \"Default\", \"Default\", \"Default\", \"Default\", \"Default\", \"Default\", \"Default\", \"Default\", \"Default\", \"Default\", \"Default\", \"Default\", \"Topic1\", \"Topic1\", \"Topic1\", \"Topic1\", \"Topic1\", \"Topic1\", \"Topic1\", \"Topic1\", \"Topic1\", \"Topic1\", \"Topic1\", \"Topic1\", \"Topic1\", \"Topic1\", \"Topic1\", \"Topic1\", \"Topic1\", \"Topic1\", \"Topic1\", \"Topic1\", \"Topic1\", \"Topic1\", \"Topic1\", \"Topic1\", \"Topic1\", \"Topic1\", \"Topic1\", \"Topic1\", \"Topic1\", \"Topic1\", \"Topic1\", \"Topic1\", \"Topic1\", \"Topic1\", \"Topic1\", \"Topic1\", \"Topic1\", \"Topic1\", \"Topic1\", \"Topic1\", \"Topic1\", \"Topic1\", \"Topic1\", \"Topic1\", \"Topic1\", \"Topic1\", \"Topic1\", \"Topic1\", \"Topic1\", \"Topic1\", \"Topic1\", \"Topic1\", \"Topic1\", \"Topic1\", \"Topic1\", \"Topic1\", \"Topic1\", \"Topic1\", \"Topic1\", \"Topic1\", \"Topic1\", \"Topic1\", \"Topic1\", \"Topic1\", \"Topic1\", \"Topic2\", \"Topic2\", \"Topic2\", \"Topic2\", \"Topic2\", \"Topic2\", \"Topic2\", \"Topic2\", \"Topic2\", \"Topic2\", \"Topic2\", \"Topic2\", \"Topic2\", \"Topic2\", \"Topic2\", \"Topic2\", \"Topic2\", \"Topic2\", \"Topic2\", \"Topic2\", \"Topic2\", \"Topic2\", \"Topic2\", \"Topic2\", \"Topic2\", \"Topic2\", \"Topic2\", \"Topic2\", \"Topic2\", \"Topic2\", \"Topic2\", \"Topic2\", \"Topic2\", \"Topic2\", \"Topic2\", \"Topic2\", \"Topic2\", \"Topic2\", \"Topic2\", \"Topic2\", \"Topic2\", \"Topic2\", \"Topic2\", \"Topic2\", \"Topic2\", \"Topic2\", \"Topic2\", \"Topic2\", \"Topic2\", \"Topic2\", \"Topic2\", \"Topic2\", \"Topic2\", \"Topic2\", \"Topic2\", \"Topic2\", \"Topic2\", \"Topic2\", \"Topic2\", \"Topic2\", \"Topic2\", \"Topic2\", \"Topic2\", \"Topic2\", \"Topic2\", \"Topic2\", \"Topic2\", \"Topic2\", \"Topic3\", \"Topic3\", \"Topic3\", \"Topic3\", \"Topic3\", \"Topic3\", \"Topic3\", \"Topic3\", \"Topic3\", \"Topic3\", \"Topic3\", \"Topic3\", \"Topic3\", \"Topic3\", \"Topic3\", \"Topic3\", \"Topic3\", \"Topic3\", \"Topic3\", \"Topic3\", \"Topic3\", \"Topic3\", \"Topic3\", \"Topic3\", \"Topic3\", \"Topic3\", \"Topic3\", \"Topic3\", \"Topic3\", \"Topic3\", \"Topic3\", \"Topic3\", \"Topic3\", \"Topic3\", \"Topic3\", \"Topic3\", \"Topic3\", \"Topic3\", \"Topic3\", \"Topic3\", \"Topic3\", \"Topic3\", \"Topic3\", \"Topic3\", \"Topic3\", \"Topic3\", \"Topic3\", \"Topic3\", \"Topic3\", \"Topic3\", \"Topic3\", \"Topic4\", \"Topic4\", \"Topic4\", \"Topic4\", \"Topic4\", \"Topic4\", \"Topic4\", \"Topic4\", \"Topic4\", \"Topic4\", \"Topic4\", \"Topic4\", \"Topic4\", \"Topic4\", \"Topic4\", \"Topic4\", \"Topic4\", \"Topic4\", \"Topic4\", \"Topic4\", \"Topic4\", \"Topic4\", \"Topic4\", \"Topic4\", \"Topic4\", \"Topic4\", \"Topic4\", \"Topic4\", \"Topic4\", \"Topic4\", \"Topic4\", \"Topic4\", \"Topic4\", \"Topic4\", \"Topic4\", \"Topic4\", \"Topic4\", \"Topic4\", \"Topic4\", \"Topic4\", \"Topic4\", \"Topic4\", \"Topic4\", \"Topic4\", \"Topic4\", \"Topic4\", \"Topic4\", \"Topic4\", \"Topic4\", \"Topic4\", \"Topic4\", \"Topic4\", \"Topic4\", \"Topic4\", \"Topic4\", \"Topic4\", \"Topic4\", \"Topic5\", \"Topic5\", \"Topic5\", \"Topic5\", \"Topic5\", \"Topic5\", \"Topic5\", \"Topic5\", \"Topic5\", \"Topic5\", \"Topic5\", \"Topic5\", \"Topic5\", \"Topic5\", \"Topic5\", \"Topic5\", \"Topic5\", \"Topic5\", \"Topic5\", \"Topic5\", \"Topic5\", \"Topic5\", \"Topic5\", \"Topic5\", \"Topic5\", \"Topic5\", \"Topic5\", \"Topic5\", \"Topic5\", \"Topic5\", \"Topic5\", \"Topic5\", \"Topic5\", \"Topic5\", \"Topic5\", \"Topic5\", \"Topic5\", \"Topic5\", \"Topic5\", \"Topic5\", \"Topic5\", \"Topic5\", \"Topic5\", \"Topic5\", \"Topic5\", \"Topic5\", \"Topic5\", \"Topic5\", \"Topic5\", \"Topic5\", \"Topic5\", \"Topic5\", \"Topic5\", \"Topic5\", \"Topic5\", \"Topic5\", \"Topic5\", \"Topic5\", \"Topic5\", \"Topic6\", \"Topic6\", \"Topic6\", \"Topic6\", \"Topic6\", \"Topic6\", \"Topic6\", \"Topic6\", \"Topic6\", \"Topic6\", \"Topic6\", \"Topic6\", \"Topic6\", \"Topic6\", \"Topic6\", \"Topic6\", \"Topic6\", \"Topic6\", \"Topic6\", \"Topic6\", \"Topic6\", \"Topic6\", \"Topic6\", \"Topic6\", \"Topic6\", \"Topic6\", \"Topic6\", \"Topic6\", \"Topic6\", \"Topic6\", \"Topic6\", \"Topic6\", \"Topic6\", \"Topic6\", \"Topic6\", \"Topic6\", \"Topic6\", \"Topic6\", \"Topic6\", \"Topic6\", \"Topic6\", \"Topic6\", \"Topic6\", \"Topic6\", \"Topic6\", \"Topic6\", \"Topic6\", \"Topic6\", \"Topic6\", \"Topic6\", \"Topic6\", \"Topic6\", \"Topic6\", \"Topic6\", \"Topic7\", \"Topic7\", \"Topic7\", \"Topic7\", \"Topic7\", \"Topic7\", \"Topic7\", \"Topic7\", \"Topic7\", \"Topic7\", \"Topic7\", \"Topic7\", \"Topic7\", \"Topic7\", \"Topic7\", \"Topic7\", \"Topic7\", \"Topic7\", \"Topic7\", \"Topic7\", \"Topic7\", \"Topic7\", \"Topic7\", \"Topic7\", \"Topic7\", \"Topic7\", \"Topic7\", \"Topic7\", \"Topic7\", \"Topic7\", \"Topic7\", \"Topic7\", \"Topic7\", \"Topic7\", \"Topic7\", \"Topic7\", \"Topic7\", \"Topic7\", \"Topic7\", \"Topic7\", \"Topic7\", \"Topic7\", \"Topic7\", \"Topic7\", \"Topic7\", \"Topic7\", \"Topic7\", \"Topic7\", \"Topic7\", \"Topic7\", \"Topic7\", \"Topic7\", \"Topic7\", \"Topic7\", \"Topic7\", \"Topic7\", \"Topic7\", \"Topic7\", \"Topic7\", \"Topic7\", \"Topic7\", \"Topic7\", \"Topic8\", \"Topic8\", \"Topic8\", \"Topic8\", \"Topic8\", \"Topic8\", \"Topic8\", \"Topic8\", \"Topic8\", \"Topic8\", \"Topic8\", \"Topic8\", \"Topic8\", \"Topic8\", \"Topic8\", \"Topic8\", \"Topic8\", \"Topic8\", \"Topic8\", \"Topic8\", \"Topic8\", \"Topic8\", \"Topic8\", \"Topic8\", \"Topic8\", \"Topic8\", \"Topic8\", \"Topic8\", \"Topic8\", \"Topic8\", \"Topic8\", \"Topic8\", \"Topic8\", \"Topic8\", \"Topic8\", \"Topic8\", \"Topic8\", \"Topic8\", \"Topic8\", \"Topic8\", \"Topic8\", \"Topic8\", \"Topic8\", \"Topic8\", \"Topic8\", \"Topic8\", \"Topic8\", \"Topic8\", \"Topic8\", \"Topic8\", \"Topic8\", \"Topic8\", \"Topic8\", \"Topic8\", \"Topic8\", \"Topic8\", \"Topic8\", \"Topic8\", \"Topic9\", \"Topic9\", \"Topic9\", \"Topic9\", \"Topic9\", \"Topic9\", \"Topic9\", \"Topic9\", \"Topic9\", \"Topic9\", \"Topic9\", \"Topic9\", \"Topic9\", \"Topic9\", \"Topic9\", \"Topic9\", \"Topic9\", \"Topic9\", \"Topic9\", \"Topic9\", \"Topic9\", \"Topic9\", \"Topic9\", \"Topic9\", \"Topic9\", \"Topic9\", \"Topic9\", \"Topic9\", \"Topic9\", \"Topic9\", \"Topic9\", \"Topic9\", \"Topic9\", \"Topic9\", \"Topic9\", \"Topic9\", \"Topic9\", \"Topic9\", \"Topic9\", \"Topic9\", \"Topic9\", \"Topic9\", \"Topic9\", \"Topic9\", \"Topic9\", \"Topic9\", \"Topic9\", \"Topic9\", \"Topic9\", \"Topic9\", \"Topic9\", \"Topic9\", \"Topic9\", \"Topic9\", \"Topic9\", \"Topic9\", \"Topic10\", \"Topic10\", \"Topic10\", \"Topic10\", \"Topic10\", \"Topic10\", \"Topic10\", \"Topic10\", \"Topic10\", \"Topic10\", \"Topic10\", \"Topic10\", \"Topic10\", \"Topic10\", \"Topic10\", \"Topic10\", \"Topic10\", \"Topic10\", \"Topic10\", \"Topic10\", \"Topic10\", \"Topic10\", \"Topic10\", \"Topic10\", \"Topic10\", \"Topic10\", \"Topic10\", \"Topic10\", \"Topic10\", \"Topic10\", \"Topic10\", \"Topic10\", \"Topic10\", \"Topic10\", \"Topic10\", \"Topic10\", \"Topic10\", \"Topic10\", \"Topic10\", \"Topic10\", \"Topic10\", \"Topic10\", \"Topic10\", \"Topic10\", \"Topic10\", \"Topic10\", \"Topic10\", \"Topic10\", \"Topic10\", \"Topic10\", \"Topic10\", \"Topic10\", \"Topic10\", \"Topic10\", \"Topic10\", \"Topic10\", \"Topic11\", \"Topic11\", \"Topic11\", \"Topic11\", \"Topic11\", \"Topic11\", \"Topic11\", \"Topic11\", \"Topic11\", \"Topic11\", \"Topic11\", \"Topic11\", \"Topic11\", \"Topic11\", \"Topic11\", \"Topic11\", \"Topic11\", \"Topic11\", \"Topic11\", \"Topic11\", \"Topic11\", \"Topic11\", \"Topic11\", \"Topic11\", \"Topic11\", \"Topic11\", \"Topic11\", \"Topic11\", \"Topic11\", \"Topic11\", \"Topic11\", \"Topic11\", \"Topic11\", \"Topic11\", \"Topic11\", \"Topic11\", \"Topic11\", \"Topic11\", \"Topic11\", \"Topic11\", \"Topic11\", \"Topic11\", \"Topic11\", \"Topic11\", \"Topic11\", \"Topic11\", \"Topic11\", \"Topic11\", \"Topic11\", \"Topic11\", \"Topic11\", \"Topic11\", \"Topic11\", \"Topic11\", \"Topic11\", \"Topic11\", \"Topic11\", \"Topic12\", \"Topic12\", \"Topic12\", \"Topic12\", \"Topic12\", \"Topic12\", \"Topic12\", \"Topic12\", \"Topic12\", \"Topic12\", \"Topic12\", \"Topic12\", \"Topic12\", \"Topic12\", \"Topic12\", \"Topic12\", \"Topic12\", \"Topic12\", \"Topic12\", \"Topic12\", \"Topic12\", \"Topic12\", \"Topic12\", \"Topic12\", \"Topic12\", \"Topic12\", \"Topic12\", \"Topic12\", \"Topic12\", \"Topic12\", \"Topic12\", \"Topic12\", \"Topic12\", \"Topic12\", \"Topic12\", \"Topic12\", \"Topic12\", \"Topic12\", \"Topic12\", \"Topic12\", \"Topic12\", \"Topic12\", \"Topic12\", \"Topic12\", \"Topic12\", \"Topic12\", \"Topic12\", \"Topic12\", \"Topic12\", \"Topic12\", \"Topic13\", \"Topic13\", \"Topic13\", \"Topic13\", \"Topic13\", \"Topic13\", \"Topic13\", \"Topic13\", \"Topic13\", \"Topic13\", \"Topic13\", \"Topic13\", \"Topic13\", \"Topic13\", \"Topic13\", \"Topic13\", \"Topic13\", \"Topic13\", \"Topic13\", \"Topic13\", \"Topic13\", \"Topic13\", \"Topic13\", \"Topic13\", \"Topic13\", \"Topic13\", \"Topic13\", \"Topic13\", \"Topic13\", \"Topic13\", \"Topic13\", \"Topic13\", \"Topic13\", \"Topic13\", \"Topic13\", \"Topic13\", \"Topic13\", \"Topic13\", \"Topic13\", \"Topic13\", \"Topic13\", \"Topic13\", \"Topic13\", \"Topic13\", \"Topic13\", \"Topic13\", \"Topic13\", \"Topic13\", \"Topic13\", \"Topic13\", \"Topic13\", \"Topic13\", \"Topic13\", \"Topic13\", \"Topic14\", \"Topic14\", \"Topic14\", \"Topic14\", \"Topic14\", \"Topic14\", \"Topic14\", \"Topic14\", \"Topic14\", \"Topic14\", \"Topic14\", \"Topic14\", \"Topic14\", \"Topic14\", \"Topic14\", \"Topic14\", \"Topic14\", \"Topic14\", \"Topic14\", \"Topic14\", \"Topic14\", \"Topic14\", \"Topic14\", \"Topic14\", \"Topic14\", \"Topic14\", \"Topic14\", \"Topic14\", \"Topic14\", \"Topic14\", \"Topic14\", \"Topic14\", \"Topic14\", \"Topic14\", \"Topic14\", \"Topic14\", \"Topic14\", \"Topic14\", \"Topic14\", \"Topic14\", \"Topic14\", \"Topic14\", \"Topic14\", \"Topic14\", \"Topic14\", \"Topic14\", \"Topic14\", \"Topic14\", \"Topic14\", \"Topic14\", \"Topic14\", \"Topic14\", \"Topic14\", \"Topic14\", \"Topic14\", \"Topic14\", \"Topic14\", \"Topic14\", \"Topic15\", \"Topic15\", \"Topic15\", \"Topic15\", \"Topic15\", \"Topic15\", \"Topic15\", \"Topic15\", \"Topic15\", \"Topic15\", \"Topic15\", \"Topic15\", \"Topic15\", \"Topic15\", \"Topic15\", \"Topic15\", \"Topic15\", \"Topic15\", \"Topic15\", \"Topic15\", \"Topic15\", \"Topic15\", \"Topic15\", \"Topic15\", \"Topic15\", \"Topic15\", \"Topic15\", \"Topic15\", \"Topic15\", \"Topic15\", \"Topic15\", \"Topic15\", \"Topic15\", \"Topic15\", \"Topic15\", \"Topic15\", \"Topic15\", \"Topic15\", \"Topic15\", \"Topic15\", \"Topic15\", \"Topic15\", \"Topic15\", \"Topic15\", \"Topic15\", \"Topic15\", \"Topic15\", \"Topic15\", \"Topic15\", \"Topic15\", \"Topic15\", \"Topic15\", \"Topic15\", \"Topic15\"], \"logprob\": [30.0, 29.0, 28.0, 27.0, 26.0, 25.0, 24.0, 23.0, 22.0, 21.0, 20.0, 19.0, 18.0, 17.0, 16.0, 15.0, 14.0, 13.0, 12.0, 11.0, 10.0, 9.0, 8.0, 7.0, 6.0, 5.0, 4.0, 3.0, 2.0, 1.0, -6.2459, -6.5158, -6.3662, -6.611, -4.5719, -6.6085, -6.534, -6.2239, -6.6728, -6.1975, -6.3076, -6.551, -6.0339, -6.5446, -6.8704, -6.2942, -6.6059, -6.4227, -6.6188, -6.0685, -6.7446, -6.3075, -6.3228, -6.5494, -6.682, -6.4244, -6.6168, -6.6324, -6.7657, -7.0092, -6.1467, -6.4272, -5.9661, -5.0421, -5.3512, -5.2517, -3.7253, -5.4375, -3.2881, -5.1019, -4.7659, -4.5458, -4.519, -4.6265, -4.6267, -4.619, -4.5822, -4.5299, -4.6037, -4.2953, -4.4517, -5.0817, -5.2263, -4.8035, -5.177, -5.3862, -4.5151, -5.158, -5.084, -5.2494, -5.1519, -4.9586, -4.9885, -5.0848, -5.1903, -5.9947, -6.1924, -5.5932, -6.4807, -6.2729, -6.4785, -6.5829, -6.4261, -6.4439, -6.593, -5.9017, -6.4295, -6.1957, -6.7313, -6.6429, -5.9741, -6.5978, -5.6125, -6.3229, -6.4709, -6.4262, -6.6923, -6.6975, -6.4777, -5.5844, -5.9965, -6.6249, -6.6643, -6.1699, -6.7094, -6.1669, -5.1426, -6.3118, -5.2417, -5.0127, -6.0195, -5.078, -5.4125, -4.4346, -4.3627, -3.542, -5.7581, -5.521, -4.5123, -5.5465, -5.0971, -4.6817, -4.5238, -4.6724, -4.2911, -4.6688, -4.9161, -5.5519, -5.048, -4.4709, -5.0113, -4.7457, -4.8355, -4.9393, -5.2736, -4.9166, -5.15, -5.3784, -5.3162, -5.3409, -5.3368, -5.4351, -5.402, -5.5106, -5.4058, -5.8894, -5.9747, -5.7537, -4.9507, -5.9689, -4.3408, -5.1762, -4.8214, -5.874, -3.4792, -6.1091, -4.8332, -4.0398, -5.7115, -5.8505, -5.692, -4.9337, -4.2362, -5.4408, -4.8414, -6.3731, -6.0566, -5.3759, -4.2842, -6.5546, -4.4715, -6.471, -5.0274, -5.2002, -5.4603, -3.9031, -4.1987, -4.6804, -4.2064, -3.8138, -4.5011, -4.989, -5.015, -4.3887, -4.9465, -4.5578, -4.8078, -4.9284, -4.8073, -4.7425, -4.8819, -5.0538, -5.018, -5.0191, -4.4928, -4.1691, -4.9599, -4.8469, -5.7173, -4.443, -4.8869, -5.8969, -5.5951, -5.0639, -4.0695, -6.1081, -6.2887, -5.7633, -5.7715, -5.611, -4.7979, -5.9974, -6.4449, -6.2602, -5.5234, -5.8904, -5.6572, -6.352, -6.2634, -5.2881, -6.0393, -6.2268, -6.1806, -5.8864, -4.9294, -4.7197, -3.8113, -5.2383, -5.3851, -5.1544, -4.7839, -4.9758, -4.7734, -4.5916, -3.9033, -5.1222, -3.659, -4.7053, -4.4679, -4.6738, -5.2803, -4.8803, -4.9245, -4.7815, -4.7781, -4.8075, -4.9156, -5.046, -5.0042, -5.0665, -5.0595, -5.8075, -5.5345, -5.9798, -5.6081, -5.5088, -5.2582, -4.5579, -5.9365, -5.527, -6.26, -4.622, -6.0501, -6.087, -4.9686, -6.0397, -4.7935, -4.3276, -6.4455, -6.2899, -6.4186, -6.2381, -5.4714, -5.8409, -5.3956, -5.6155, -4.8433, -6.2081, -6.5765, -6.0269, -5.9021, -5.1599, -4.8718, -5.6026, -5.2868, -4.7684, -3.4558, -3.7633, -4.6893, -3.5157, -4.7914, -4.8131, -5.1066, -4.6267, -4.8621, -4.941, -4.3842, -4.2336, -4.5094, -4.6696, -5.1554, -4.2691, -4.9283, -5.0794, -4.8208, -5.0816, -5.0309, -4.9933, -5.042, -5.0967, -5.043, -4.5844, -4.8397, -5.5899, -5.6694, -5.6157, -5.6472, -4.6088, -6.1974, -5.8748, -4.6158, -5.7177, -6.0568, -5.9907, -5.6781, -5.9668, -6.1215, -5.5423, -5.452, -3.8841, -5.7861, -5.6773, -4.1235, -6.1549, -5.0201, -5.2578, -5.8958, -6.385, -5.0166, -6.4883, -5.2689, -4.1195, -4.718, -5.0039, -4.9577, -5.0797, -3.8991, -4.7174, -4.5906, -4.5923, -4.3307, -4.4674, -3.8201, -4.4629, -4.4642, -4.8977, -5.0197, -4.7002, -4.8946, -4.6019, -4.8806, -4.8169, -4.9563, -4.9916, -4.8101, -4.8864, -5.8124, -6.1347, -5.5239, -5.6977, -6.0184, -6.1525, -6.1322, -5.8335, -5.7747, -3.8941, -5.7274, -6.2232, -5.6146, -4.2534, -6.0487, -4.2197, -6.1617, -6.2674, -6.196, -6.052, -6.2185, -6.0087, -5.9647, -5.9288, -5.7796, -5.4359, -6.4003, -6.2826, -5.3383, -4.6447, -3.2633, -4.7978, -4.5399, -5.3137, -4.7355, -5.3334, -5.5256, -3.4723, -5.1354, -4.0342, -5.2428, -4.1078, -4.7406, -4.9212, -5.0025, -4.748, -4.7461, -5.1992, -4.8117, -5.1805, -4.8179, -4.9257, -4.9184, -4.927, -5.0175, -4.9976, -5.1449, -5.0274, -5.1561, -5.1674, -4.6669, -4.716, -4.2744, -5.5245, -5.7006, -5.4196, -5.5571, -5.827, -6.1086, -5.7661, -5.4862, -5.5298, -5.8194, -6.2463, -5.866, -6.2083, -5.702, -6.2335, -5.7646, -5.3928, -5.8884, -6.2237, -6.0134, -5.0569, -6.0829, -5.5162, -5.8147, -5.2117, -5.8115, -5.5493, -4.6063, -4.944, -4.6267, -4.3088, -5.5126, -4.8948, -4.0381, -4.73, -4.0389, -3.7354, -4.6239, -3.9845, -4.5325, -3.7662, -4.5453, -4.5042, -4.7276, -5.2068, -4.5424, -4.9682, -5.0065, -5.0235, -4.6989, -4.8254, -4.8258, -4.8814, -4.9319, -5.0424, -3.8038, -3.9671, -4.4693, -5.1976, -4.5229, -5.5004, -4.7839, -5.4972, -3.8656, -5.4623, -5.7563, -5.6176, -4.7706, -5.9979, -5.9365, -6.1358, -6.1555, -6.0714, -5.6154, -4.8784, -6.1408, -6.1131, -6.4764, -6.0612, -6.2972, -5.9715, -6.4811, -6.368, -5.4738, -6.0305, -5.4065, -4.8242, -4.9948, -5.1702, -4.6823, -4.4719, -3.9953, -4.9496, -5.1981, -4.074, -4.831, -4.4538, -4.6062, -4.4897, -4.5711, -4.1491, -4.8949, -4.7226, -4.6832, -4.8642, -4.7865, -4.8195, -4.9299, -5.0547, -4.9345, -5.0023, -4.783, -4.4807, -5.4665, -4.9685, -5.5737, -5.7117, -5.9481, -5.7892, -6.0028, -5.9195, -5.2378, -4.7009, -5.3719, -6.0542, -6.1345, -5.6604, -5.9291, -5.8882, -5.6291, -5.8272, -5.4544, -5.7926, -5.7436, -4.225, -4.3053, -5.8579, -5.7445, -5.9095, -4.2057, -5.8133, -4.3, -3.8042, -5.257, -5.0561, -4.9117, -4.1538, -3.6814, -4.204, -4.0739, -4.9725, -4.562, -4.2827, -4.8952, -4.9277, -4.8703, -3.9816, -4.5103, -4.6241, -4.7633, -4.7167, -5.0033, -4.9007, -4.9452, -4.8124, -4.9312, -5.0009, -4.0278, -4.8348, -5.8107, -5.4087, -5.0907, -5.625, -5.3633, -6.1327, -5.7423, -6.1473, -6.1492, -5.4521, -6.185, -6.0699, -5.9887, -4.8779, -5.9165, -5.7769, -5.855, -4.3014, -5.6314, -4.6719, -6.2538, -5.7781, -4.9501, -5.9404, -5.9795, -5.3621, -5.946, -6.5147, -5.5276, -4.7553, -5.2601, -3.9315, -4.9212, -3.5107, -4.9218, -4.2484, -4.7168, -5.0747, -4.7014, -4.0701, -4.4006, -5.1556, -4.0857, -4.1031, -4.7843, -4.9727, -3.8955, -4.8227, -4.8206, -4.7895, -4.8405, -5.1126, -4.7952, -5.0402, -5.0454, -3.5687, -3.9771, -4.4784, -4.6939, -3.6639, -4.4692, -4.8484, -4.3189, -5.3115, -5.2676, -5.1983, -5.8772, -5.8402, -3.7422, -5.6111, -5.8813, -5.8235, -4.6691, -5.5443, -5.012, -6.1382, -5.8496, -6.286, -5.4862, -6.1893, -5.085, -5.2159, -6.0931, -3.8792, -6.4083, -3.5713, -4.4224, -4.9151, -5.3514, -4.3586, -4.4722, -4.8886, -4.0168, -4.548, -4.6232, -4.6004, -4.2796, -4.7945, -4.1482, -4.6162, -4.8409, -4.7834, -4.8572, -4.9459, -5.0096, -4.4947, -4.4947, -3.908, -3.908, -3.908, -3.908, -4.7621, -4.7621, -5.6551, -5.8082, -5.9476, -6.1683, -4.9297, -5.773, -5.2593, -5.7875, -6.2791, -6.1098, -6.2855, -6.2041, -5.8133, -6.3719, -5.3548, -5.605, -6.084, -6.3264, -6.0957, -6.433, -3.5085, -6.447, -5.4795, -5.6111, -4.1819, -5.4935, -4.9034, -3.8073, -5.143, -4.4006, -4.8647, -4.975, -5.0555, -4.7694, -4.5715, -4.0664, -5.0566, -5.0696, -5.0623, -4.7938, -5.0575, -5.0229, -4.681, -5.0618, -5.0055, -5.0851, -4.5919, -4.9346, -4.478, -5.4813, -5.6644, -4.8216, -5.2626, -5.8368, -5.3229, -5.837, -5.9301, -5.2809, -5.5268, -6.03, -5.7626, -6.133, -6.0706, -5.5318, -5.7352, -5.8097, -6.0238, -5.1216, -5.9036, -6.015, -6.118, -5.3354, -5.6577, -5.4394, -5.6819, -5.9187, -5.1467, -4.7804, -4.9014, -4.0214, -4.4856, -4.1402, -4.3815, -3.926, -4.9154, -4.4136, -4.4424, -5.1008, -4.0101, -4.3023, -5.3007, -4.3584, -4.5217, -4.9061, -5.187, -4.618, -4.7846, -4.8684, -4.8438, -4.9684, -5.0249, -4.9953, -5.0674, -5.0426, -4.3088, -4.1072, -5.0767, -5.1059, -5.5042, -4.2581, -5.3103, -4.7692, -5.4943, -4.2222, -4.8747, -5.7051, -5.5325, -4.6786, -5.3262, -5.7436, -6.0284, -5.0871, -5.6443, -5.8889, -4.769, -4.8237, -5.7253, -4.5821, -6.173, -5.8889, -5.8242, -5.9707, -5.8889, -6.1043, -5.4943, -4.8275, -5.2424, -4.2151, -4.7657, -5.2933, -4.6641, -3.231, -4.274, -4.641, -4.7425, -4.6188, -4.3705, -4.3889, -4.8919, -4.6015, -4.8914, -4.6584, -4.9835, -4.5383, -4.9522, -4.7754, -4.8885, -4.9114], \"loglift\": [30.0, 29.0, 28.0, 27.0, 26.0, 25.0, 24.0, 23.0, 22.0, 21.0, 20.0, 19.0, 18.0, 17.0, 16.0, 15.0, 14.0, 13.0, 12.0, 11.0, 10.0, 9.0, 8.0, 7.0, 6.0, 5.0, 4.0, 3.0, 2.0, 1.0, 1.5026, 1.4212, 1.3802, 1.3743, 1.3394, 1.3312, 1.3247, 1.3113, 1.3032, 1.2894, 1.2774, 1.2644, 1.2098, 1.2023, 1.1937, 1.1797, 1.171, 1.1661, 1.1646, 1.1593, 1.1521, 1.119, 1.0759, 1.065, 1.0611, 1.0331, 1.0273, 1.0159, 1.0144, 1.0102, 0.9972, 1.001, 0.9781, 0.9286, 0.9005, 0.8615, 0.6105, 0.8592, 0.4035, 0.7513, 0.6541, 0.4338, 0.3498, 0.3425, 0.3354, 0.2875, 0.241, 0.2046, 0.2325, 0.0645, 0.0006, 0.3903, 0.4795, 0.1917, 0.4315, 0.572, -0.1673, 0.3721, 0.289, 0.3845, 0.2843, 0.0477, -0.1676, 0.0089, 0.0951, 1.6572, 1.5573, 1.5193, 1.5104, 1.4528, 1.3811, 1.3586, 1.3566, 1.3042, 1.3036, 1.3008, 1.2873, 1.2587, 1.2529, 1.2505, 1.2281, 1.2226, 1.2209, 1.2194, 1.2072, 1.1895, 1.1685, 1.1551, 1.1358, 1.1279, 1.126, 1.1258, 1.1164, 1.1126, 1.1083, 1.1034, 1.0763, 1.094, 0.9741, 0.8329, 1.0338, 0.7944, 0.8766, 0.545, 0.4605, 0.1496, 0.9397, 0.8276, 0.3942, 0.8287, 0.6132, 0.412, 0.3125, 0.3173, 0.0447, 0.2071, 0.367, 0.7845, 0.3882, -0.1111, 0.2849, -0.0112, 0.0333, 0.0296, 0.4217, -0.0956, 0.0088, 0.4158, 0.0568, -0.2255, -0.3415, -0.3356, -1.0541, 2.035, 2.0061, 1.9169, 1.8721, 1.8534, 1.8216, 1.8027, 1.8005, 1.7569, 1.7418, 1.7051, 1.6361, 1.6283, 1.6007, 1.597, 1.571, 1.5424, 1.524, 1.5081, 1.4741, 1.4711, 1.462, 1.435, 1.4348, 1.4262, 1.4137, 1.4121, 1.406, 1.4006, 1.3849, 1.3198, 1.3112, 0.9728, 0.791, 0.8626, 0.2459, -0.1222, 0.3199, 0.7507, 0.721, -0.0529, 0.5675, -0.198, 0.1543, 0.3546, 0.0159, -0.3947, 0.0246, 0.4674, 0.0757, -0.0502, 2.4049, 2.3811, 2.3152, 2.2335, 2.2066, 2.1196, 2.1104, 2.0287, 1.9225, 1.855, 1.8311, 1.7364, 1.7342, 1.7308, 1.7257, 1.6927, 1.6775, 1.6391, 1.6142, 1.6049, 1.5944, 1.5477, 1.5362, 1.5322, 1.5065, 1.4904, 1.4853, 1.4832, 1.463, 1.436, 1.4054, 1.3331, 1.195, 1.3672, 1.3808, 1.3145, 1.1599, 1.1795, 1.038, 0.8805, 0.4565, 1.1344, 0.0326, 0.6389, 0.2666, 0.2883, 1.0978, 0.2785, 0.3716, 0.0547, 0.0429, 0.0157, 0.0533, 0.3902, -0.0977, 0.3535, -0.0798, 2.0741, 1.9916, 1.9119, 1.8848, 1.8618, 1.8565, 1.855, 1.8052, 1.7738, 1.7572, 1.7561, 1.7554, 1.7247, 1.7049, 1.7005, 1.6755, 1.639, 1.5693, 1.556, 1.5515, 1.5074, 1.479, 1.4389, 1.4313, 1.4277, 1.4134, 1.4047, 1.3977, 1.3899, 1.3689, 1.3667, 1.319, 1.3532, 1.2858, 1.1998, 0.904, 0.9712, 1.1481, 0.8322, 1.1536, 1.0875, 1.1969, 0.9163, 0.9493, 0.9945, 0.4368, 0.2187, 0.4859, 0.3201, 1.0457, -0.5775, 0.5882, 0.8644, 0.0551, 0.4833, 0.1983, -0.1245, -0.2058, 0.0028, 2.7311, 2.5892, 2.3942, 2.3511, 2.2559, 2.0261, 1.9605, 1.9113, 1.8689, 1.8295, 1.8261, 1.8075, 1.7902, 1.7496, 1.7423, 1.7413, 1.6827, 1.6691, 1.6446, 1.6371, 1.6278, 1.6198, 1.5745, 1.5532, 1.536, 1.5145, 1.4971, 1.4601, 1.4557, 1.4468, 1.4454, 1.3946, 1.3953, 1.3366, 1.1836, 1.2162, 0.4367, 0.9195, 0.7824, 0.7039, 0.4903, 0.5279, -0.1284, 0.506, 0.4979, 0.6189, 0.7745, 0.123, 0.4496, -0.2421, 0.4048, -0.0824, 0.0334, -0.1228, 2.3533, 2.2764, 1.8883, 1.8777, 1.8608, 1.8201, 1.7585, 1.6891, 1.6756, 1.6488, 1.6371, 1.636, 1.6357, 1.6244, 1.623, 1.5922, 1.5854, 1.5709, 1.5142, 1.5132, 1.5103, 1.5006, 1.4856, 1.4812, 1.4752, 1.4628, 1.4615, 1.4211, 1.4114, 1.3984, 1.349, 1.2715, 1.0846, 1.194, 1.1146, 1.2464, 1.0587, 1.2413, 1.3079, 0.2193, 1.0554, 0.4181, 1.085, 0.228, 0.6794, 0.7846, 0.814, 0.5375, 0.4831, 0.9587, 0.4714, 0.876, 0.051, 0.0806, -0.0952, -0.0908, 0.1413, -0.1217, 0.42, -0.2064, 0.4525, -0.8076, 2.6477, 2.4525, 2.1658, 2.1121, 2.1037, 2.098, 1.9659, 1.916, 1.9078, 1.9053, 1.8997, 1.8842, 1.8518, 1.732, 1.7176, 1.7156, 1.6611, 1.6598, 1.6334, 1.6228, 1.6067, 1.6035, 1.6006, 1.5933, 1.5891, 1.57, 1.5699, 1.5598, 1.5572, 1.5518, 1.5314, 1.4247, 1.3314, 1.2125, 1.4826, 1.3241, 1.0614, 1.2626, 0.9508, 0.7169, 0.8901, 0.3634, 0.6968, -0.0746, 0.5484, 0.4911, 0.6165, 1.1847, 0.3335, 0.7849, 0.8368, 0.8298, 0.0356, 0.1435, -0.0048, -0.0125, 0.0477, -0.1359, 2.7683, 2.6123, 2.6054, 2.536, 2.4996, 2.4701, 2.4095, 2.0839, 1.9458, 1.8809, 1.8581, 1.8044, 1.8041, 1.7801, 1.7698, 1.7204, 1.689, 1.6717, 1.6563, 1.602, 1.6, 1.5006, 1.4955, 1.4936, 1.4727, 1.465, 1.454, 1.399, 1.396, 1.3872, 1.372, 1.3413, 1.3189, 1.3021, 1.171, 0.8135, 0.457, 0.8937, 1.0209, 0.2618, 0.7339, 0.4221, 0.4933, 0.3791, 0.1634, -0.4574, 0.5594, 0.2395, 0.1378, 0.365, 0.2032, 0.0167, 0.2289, 0.6851, -0.5866, -0.0958, 2.6164, 2.4438, 2.2606, 2.2196, 2.1635, 2.1334, 2.0739, 2.0502, 2.0192, 2.0053, 1.9923, 1.9439, 1.8982, 1.8015, 1.7863, 1.7861, 1.7728, 1.7459, 1.7149, 1.6636, 1.6605, 1.6429, 1.6242, 1.6183, 1.6109, 1.6091, 1.6023, 1.5853, 1.5849, 1.582, 1.5457, 1.425, 1.5151, 1.4469, 1.3973, 1.005, 0.7709, 0.8955, 0.802, 1.2388, 0.9101, 0.5405, 1.0497, 0.9097, 0.8352, -0.2899, 0.3585, 0.3449, 0.5329, 0.3769, 0.9405, 0.6424, 0.7377, 0.0085, -0.0247, -0.2664, 2.5282, 2.2087, 2.1639, 2.1085, 1.9712, 1.9554, 1.932, 1.8795, 1.87, 1.828, 1.8234, 1.7856, 1.7507, 1.7455, 1.7385, 1.729, 1.6912, 1.6862, 1.6684, 1.6667, 1.6403, 1.6371, 1.6319, 1.6195, 1.6101, 1.6058, 1.5701, 1.5588, 1.5363, 1.5107, 1.5107, 1.4162, 1.4081, 1.0482, 1.2901, 0.8371, 1.1914, 0.8511, 1.0738, 1.2391, 0.994, 0.3822, 0.5947, 1.1618, 0.2501, 0.2567, 0.8242, 0.9878, -0.2039, 0.6939, 0.6156, 0.4959, 0.3887, 1.0453, -0.0607, 0.1186, -0.1389, 3.1671, 3.1016, 3.0425, 3.0136, 2.8889, 2.8261, 2.7602, 2.7167, 2.5826, 2.4048, 2.1695, 2.0552, 2.0464, 2.0109, 1.9664, 1.9663, 1.9443, 1.9365, 1.8675, 1.8577, 1.8286, 1.7905, 1.7345, 1.7057, 1.7011, 1.6852, 1.6341, 1.6165, 1.575, 1.5609, 1.435, 1.4014, 1.2402, 1.3688, 0.8002, 0.8132, 1.0591, 0.3311, 0.5456, 0.6061, 0.4991, 0.0802, 0.7356, -0.4566, 0.2526, 0.6757, 0.2119, -0.021, 0.3372, -0.6738, 3.3503, 3.3503, 3.2754, 3.2754, 3.2754, 3.2754, 3.1043, 3.1043, 2.2164, 2.0255, 1.9174, 1.8159, 1.8138, 1.7902, 1.7852, 1.7791, 1.7475, 1.7459, 1.6975, 1.623, 1.6125, 1.5767, 1.5687, 1.5664, 1.5384, 1.5373, 1.5233, 1.5108, 1.4978, 1.494, 1.4764, 1.479, 1.3482, 1.4016, 1.0906, 0.5405, 1.0994, 0.7148, 0.9358, 0.981, 0.9941, 0.7472, 0.4238, -0.3748, 0.789, 0.7678, 0.6487, 0.1858, 0.5074, 0.4314, -0.3452, 0.4103, -0.1824, -0.1786, 3.0368, 2.5303, 2.4897, 2.2943, 2.2563, 2.2533, 2.1632, 2.1341, 2.0766, 2.0495, 2.04, 2.0161, 1.964, 1.9397, 1.9377, 1.9283, 1.9136, 1.9064, 1.8787, 1.867, 1.8593, 1.8424, 1.8044, 1.7677, 1.7624, 1.7515, 1.6835, 1.6497, 1.5883, 1.5777, 1.5722, 1.5154, 1.4595, 1.1374, 1.2098, 0.6961, 0.8477, 0.5263, 1.1343, 0.5485, 0.4335, 1.1105, -0.3185, 0.0336, 1.314, 0.0014, 0.2128, 0.5301, 1.1021, -0.2702, 0.1219, 0.247, 0.025, 0.4515, 0.658, 0.3009, 0.7331, -0.0737, 3.3331, 3.1088, 2.5356, 2.4458, 2.3873, 2.3866, 2.2787, 2.2083, 2.1884, 2.1125, 2.0371, 2.0351, 2.0223, 2.0175, 2.0024, 1.9732, 1.9609, 1.9459, 1.9369, 1.9256, 1.9098, 1.8498, 1.8312, 1.8302, 1.7996, 1.7894, 1.7865, 1.7629, 1.754, 1.7402, 1.7336, 1.6996, 1.6499, 1.4395, 1.5377, 1.5638, 1.2836, 0.4607, 1.0091, 1.1595, 1.2136, 1.0791, 0.6193, 0.487, 1.0663, 0.6277, 1.0092, 0.3369, 1.1167, -0.2025, 0.9896, 0.0455, 0.6545, -0.4591]}, \"token.table\": {\"Topic\": [1, 3, 4, 6, 7, 8, 15, 1, 6, 12, 13, 2, 6, 11, 12, 13, 14, 1, 3, 4, 6, 8, 9, 14, 6, 13, 1, 4, 5, 6, 7, 3, 6, 7, 8, 1, 2, 3, 4, 5, 6, 7, 8, 9, 11, 12, 13, 14, 15, 1, 2, 3, 4, 5, 6, 7, 8, 9, 12, 15, 1, 2, 4, 5, 6, 7, 8, 13, 1, 2, 3, 4, 6, 7, 8, 9, 10, 11, 12, 13, 14, 15, 1, 2, 5, 7, 8, 1, 2, 7, 8, 10, 11, 13, 14, 1, 3, 5, 10, 11, 1, 2, 4, 6, 7, 8, 9, 10, 11, 12, 13, 14, 1, 5, 10, 12, 13, 3, 4, 5, 6, 8, 13, 1, 2, 3, 4, 5, 6, 7, 9, 10, 12, 14, 15, 1, 2, 5, 6, 7, 8, 9, 10, 12, 14, 4, 5, 6, 1, 2, 3, 4, 6, 7, 8, 9, 11, 12, 13, 14, 15, 1, 3, 8, 11, 12, 14, 15, 1, 5, 8, 9, 10, 12, 1, 3, 7, 13, 14, 1, 2, 3, 4, 5, 6, 8, 9, 10, 11, 12, 14, 15, 1, 5, 6, 7, 8, 11, 13, 14, 1, 2, 3, 4, 5, 6, 7, 8, 9, 12, 13, 1, 2, 3, 4, 12, 13, 14, 1, 2, 3, 4, 5, 6, 7, 8, 9, 10, 12, 13, 14, 15, 1, 3, 4, 5, 6, 13, 14, 15, 1, 2, 4, 5, 7, 8, 9, 12, 1, 2, 4, 7, 8, 9, 13, 14, 15, 1, 2, 3, 7, 8, 9, 10, 11, 14, 1, 2, 3, 4, 6, 7, 8, 9, 10, 12, 13, 14, 1, 2, 6, 13, 14, 1, 2, 3, 5, 6, 7, 9, 10, 11, 14, 2, 5, 6, 7, 9, 10, 11, 13, 15, 2, 3, 4, 6, 7, 9, 10, 11, 12, 13, 1, 2, 3, 5, 7, 9, 13, 1, 2, 4, 6, 7, 10, 1, 2, 3, 4, 5, 6, 7, 8, 9, 10, 11, 12, 13, 14, 15, 1, 2, 5, 9, 10, 13, 1, 2, 6, 7, 8, 13, 14, 2, 3, 8, 9, 13, 14, 15, 1, 2, 3, 4, 5, 6, 7, 8, 9, 10, 11, 12, 13, 15, 1, 2, 3, 5, 6, 8, 10, 11, 14, 15, 1, 2, 5, 8, 11, 13, 1, 2, 3, 4, 6, 8, 13, 14, 2, 6, 8, 9, 10, 1, 2, 3, 4, 5, 6, 7, 12, 14, 1, 2, 3, 4, 5, 6, 7, 9, 10, 11, 13, 14, 15, 1, 2, 3, 4, 8, 10, 12, 14, 15, 3, 5, 8, 13, 2, 3, 6, 9, 10, 15, 1, 2, 3, 4, 5, 6, 7, 8, 9, 10, 11, 12, 13, 15, 2, 3, 6, 8, 10, 12, 13, 1, 2, 3, 5, 7, 9, 11, 12, 3, 5, 6, 7, 8, 9, 15, 1, 2, 5, 10, 11, 14, 1, 2, 4, 5, 6, 8, 9, 13, 15, 1, 8, 9, 10, 14, 6, 13, 1, 2, 3, 4, 5, 6, 7, 8, 9, 10, 11, 12, 13, 14, 15, 1, 3, 4, 6, 8, 9, 13, 1, 5, 7, 8, 11, 12, 1, 4, 6, 9, 14, 3, 5, 7, 8, 9, 11, 12, 15, 5, 7, 10, 14, 1, 2, 3, 4, 5, 10, 11, 12, 13, 14, 2, 4, 5, 2, 5, 7, 8, 11, 13, 1, 3, 10, 11, 12, 13, 14, 1, 2, 3, 4, 5, 6, 7, 8, 10, 11, 13, 14, 15, 1, 2, 4, 6, 9, 11, 13, 1, 2, 3, 5, 6, 8, 9, 11, 13, 14, 2, 3, 6, 11, 1, 3, 9, 1, 2, 4, 5, 6, 11, 1, 2, 6, 7, 11, 15, 1, 2, 5, 7, 8, 9, 11, 13, 14, 1, 2, 3, 5, 10, 12, 1, 2, 3, 4, 5, 6, 10, 13, 14, 1, 2, 4, 8, 10, 13, 2, 3, 4, 6, 10, 15, 1, 3, 4, 11, 13, 1, 2, 3, 4, 5, 6, 7, 8, 9, 10, 11, 12, 13, 14, 1, 4, 10, 13, 14, 15, 2, 3, 5, 6, 8, 9, 11, 1, 4, 13, 15, 1, 2, 5, 7, 10, 11, 12, 14, 6, 13, 1, 2, 3, 5, 6, 7, 11, 13, 15, 1, 5, 6, 9, 11, 13, 1, 3, 6, 10, 11, 12, 1, 2, 3, 5, 6, 7, 9, 12, 1, 4, 5, 6, 9, 13, 1, 2, 4, 7, 9, 12, 14, 1, 2, 9, 10, 13, 1, 2, 3, 4, 5, 6, 7, 8, 9, 10, 11, 12, 14, 1, 2, 3, 5, 6, 9, 11, 13, 1, 2, 3, 5, 7, 8, 11, 13, 1, 3, 6, 11, 15, 1, 2, 3, 4, 8, 9, 11, 2, 3, 6, 7, 1, 3, 6, 7, 9, 11, 1, 2, 3, 4, 7, 9, 1, 4, 5, 6, 7, 9, 10, 11, 1, 2, 3, 4, 5, 10, 1, 2, 3, 4, 5, 8, 9, 10, 11, 12, 13, 15, 1, 2, 3, 4, 5, 7, 8, 10, 12, 13, 1, 7, 8, 10, 14, 2, 3, 4, 5, 7, 9, 10, 11, 12, 1, 2, 3, 4, 5, 6, 7, 8, 9, 10, 11, 13, 14, 15, 1, 2, 3, 4, 6, 8, 9, 2, 5, 6, 7, 10, 11, 13, 14, 1, 2, 5, 8, 10, 11, 14, 1, 2, 4, 5, 8, 13, 15, 2, 4, 5, 6, 7, 8, 9, 12, 1, 2, 4, 14, 2, 3, 4, 6, 8, 13, 1, 2, 4, 5, 6, 8, 9, 15, 1, 2, 4, 5, 8, 13, 14, 1, 2, 4, 5, 6, 9, 11, 1, 2, 10, 13, 1, 2, 6, 12, 2, 3, 4, 9, 10, 13, 14, 1, 2, 4, 5, 6, 8, 9, 11, 12, 1, 2, 3, 4, 5, 6, 7, 8, 9, 10, 11, 12, 13, 14, 15, 1, 2, 4, 7, 9, 11, 14, 2, 3, 4, 7, 8, 10, 13, 1, 2, 3, 4, 5, 6, 10, 13, 14, 1, 2, 3, 4, 6, 7, 8, 10, 11, 12, 13, 14, 1, 3, 4, 9, 10, 14, 1, 2, 4, 5, 6, 7, 8, 10, 14, 1, 2, 3, 4, 5, 6, 7, 8, 9, 11, 12, 1, 2, 3, 4, 5, 6, 7, 8, 9, 10, 11, 12, 13, 14, 15, 2, 4, 6, 7, 8, 10, 11, 12, 1, 2, 3, 4, 5, 6, 7, 8, 9, 10, 11, 12, 13, 14, 1, 2, 4, 5, 9, 10, 12, 13, 14, 4, 8, 1, 2, 4, 5, 13, 15, 1, 2, 3, 5, 7, 8, 9, 10, 12, 13, 1, 2, 4, 5, 7, 13, 1, 3, 4, 5, 10, 15, 1, 4, 8, 1, 2, 5, 7, 8, 9, 11, 13, 14, 6, 13, 1, 2, 4, 5, 6, 7, 8, 12, 13, 1, 3, 4, 5, 7, 9, 11, 13, 14, 15, 1, 3, 4, 7, 8, 9, 10, 11, 1, 2, 5, 8, 1, 2, 7, 11, 12, 13, 1, 2, 3, 7, 10, 13, 1, 2, 3, 4, 6, 7, 10, 11, 14, 15, 1, 2, 3, 4, 6, 11, 13, 14, 1, 2, 4, 5, 6, 7, 8, 9, 10, 12, 14, 1, 2, 3, 4, 5, 6, 7, 8, 9, 10, 11, 12, 13, 14, 1, 2, 3, 4, 7, 9, 10, 1, 2, 3, 4, 7, 9, 1, 3, 5, 7, 10, 11, 14, 1, 2, 3, 7, 8, 9, 14, 15, 1, 2, 3, 4, 5, 6, 7, 8, 9, 10, 12, 13, 14, 15, 1, 3, 4, 7, 8, 10, 12, 1, 2, 7, 9, 10, 11, 14, 2, 3, 4, 5, 9, 11, 13, 1, 2, 3, 4, 6, 9, 11, 13, 14, 1, 2, 3, 6, 9, 14, 1, 2, 3, 4, 5, 6, 7, 8, 9, 10, 11, 12, 13, 14, 15, 1, 2, 3, 4, 5, 6, 7, 8, 9, 10, 11, 12, 13, 14, 15, 2, 4, 7, 9, 11, 13, 1, 5, 7, 14, 1, 2, 4, 8, 11, 13, 1, 5, 6, 7, 11, 13, 15, 2, 3, 4, 7, 8, 11, 1, 2, 4, 7, 11, 12, 14, 1, 2, 3, 4, 5, 6, 7, 8, 9, 10, 11, 12, 13, 14, 15, 1, 2, 3, 7, 13, 1, 2, 3, 4, 5, 6, 7, 8, 9, 10, 11, 12, 13, 14, 15, 1, 2, 3, 5, 6, 7, 8, 9, 10, 11, 14, 1, 2, 3, 4, 5, 6, 7, 8, 9, 10, 11, 12, 13, 14, 15, 1, 2, 5, 7, 10, 11, 1, 2, 3, 4, 5, 6, 7, 8, 10, 11, 13, 14, 1, 2, 3, 4, 5, 6, 7, 9, 13, 14, 1, 2, 3, 7, 11, 14, 2, 3, 4, 9, 11, 13, 14, 15, 1, 2, 3, 4, 5, 6, 7, 8, 9, 10, 11, 13, 14, 15, 1, 2, 3, 5, 7, 8, 9, 10, 11, 12, 14, 15, 1, 2, 3, 4, 5, 6, 7, 8, 9, 10, 11, 12, 13, 14, 15, 1, 2, 3, 4, 9, 11, 13, 14, 1, 3, 4, 5, 6, 7, 10, 2, 4, 5, 7, 9, 11, 13, 1, 6, 7, 12, 13, 14, 15, 1, 2, 3, 4, 5, 6, 7, 8, 9, 10, 11, 12, 13, 14, 15, 1, 2, 3, 5, 6, 7, 8, 9, 12, 14, 15, 1, 2, 4, 5, 13, 1, 2, 3, 5, 7, 8, 10, 11, 14, 15, 1, 2, 3, 4, 7, 8, 14, 1, 2, 3, 4, 5, 6, 7, 8, 9, 10, 11, 12, 13, 14, 15, 1, 2, 3, 6, 8, 9, 10, 14, 2, 3, 7, 8, 10, 12, 13, 14, 1, 2, 3, 4, 7, 14, 1, 2, 3, 4, 5, 6, 7, 8, 10, 13, 15, 1, 2, 3, 6, 7, 8, 9, 14, 1, 2, 3, 4, 5, 6, 7, 8, 10, 11, 12, 15, 1, 2, 3, 7, 8, 11, 15, 1, 3, 4, 5, 6, 8, 11, 1, 2, 10, 11, 14, 1, 2, 4, 7, 8, 10, 11, 12, 13, 15, 2, 3, 5, 9, 1, 2, 3, 4, 5, 6, 7, 8, 9, 10, 11, 12, 13, 14, 15, 2, 4, 8, 10, 13, 14, 1, 2, 3, 4, 8, 10, 14, 2, 3, 4, 5, 8, 9, 10, 13, 1, 2, 5, 6, 12, 14, 1, 2, 3, 4, 5, 7, 8, 9, 10, 12, 14, 15, 1, 5, 8, 10, 11, 15, 5, 10, 12, 13, 14, 2, 3, 5, 7, 9, 11, 12, 13, 1, 6, 11, 14, 15, 1, 2, 7, 8, 13, 1, 3, 4, 6, 8, 11, 1, 2, 3, 5, 6, 9, 10, 11, 14, 15, 3, 6, 8, 15, 1, 2, 3, 4, 5, 6, 7, 8, 9, 10, 11, 12, 13, 15, 1, 2, 3, 4, 5, 6, 7, 8, 9, 10, 11, 12, 13, 14, 15, 1, 2, 3, 4, 5, 7, 8, 9, 10, 11, 12, 13, 14, 1, 2, 3, 4, 5, 6, 7, 8, 9, 10, 11, 12, 13, 14, 15, 2, 4, 5, 6, 9, 12, 4, 9, 13, 15, 1, 4, 5, 13, 1, 3, 6, 8, 10, 14, 2, 3, 5, 6, 9, 11, 13, 15, 1, 2, 6, 7, 8, 9, 13, 1, 2, 3, 5, 6, 7, 10, 12, 14, 15, 1, 2, 5, 6, 11, 13, 14, 1, 2, 3, 4, 5, 7, 9, 10, 11, 12, 13, 14, 15, 1, 2, 3, 4, 5, 6, 7, 8, 9, 10, 11, 12, 13, 14, 15, 1, 2, 4, 9, 1, 2, 4, 11, 12, 13, 15, 1, 2, 5, 7, 8, 9, 10, 11, 12, 13, 1, 2, 4, 6, 12, 14, 1, 2, 3, 5, 6, 10, 11, 12, 13, 1, 4, 5, 8, 13, 1, 2, 3, 5, 6, 7, 12, 1, 2, 3, 4, 9, 14, 4, 6, 8, 9, 12, 1, 2, 5, 9, 11, 12, 4, 8, 1, 4, 5, 13, 15, 1, 2, 3, 5, 6, 7, 8, 9, 10, 11, 12, 13, 14, 1, 2, 3, 6, 7, 8, 9, 10, 11, 13, 1, 2, 3, 4, 11, 14, 15, 1, 7, 8, 9, 13, 1, 2, 3, 4, 6, 7, 13, 1, 2, 3, 4, 5, 6, 7, 8, 9, 10, 11, 12, 13, 14, 15, 1, 2, 4, 5, 9, 11, 13, 1, 2, 4, 5, 10, 11, 12, 13, 15, 2, 3, 4, 5, 10, 1, 2, 7, 10, 11, 14, 1, 2, 4, 7, 9, 10, 11, 14, 1, 5, 6, 1, 2, 7, 9, 11, 13, 1, 3, 6, 9, 1, 2, 6, 8, 11, 12, 15, 1, 2, 3, 7, 9, 11, 12, 15, 1, 2, 3, 4, 6, 9, 10, 12, 1, 2, 3, 5, 6, 7, 8, 9, 10, 11, 12, 13, 14, 15, 1, 2, 3, 7, 8, 9, 11, 15, 1, 2, 4, 5, 12, 1, 3, 4, 6, 7, 8, 11, 12, 15, 2, 5, 6, 7, 8, 9, 11, 14, 2, 5, 8, 11, 12, 13, 1, 2, 3, 5, 7, 9, 10, 11, 12, 14, 15, 2, 3, 4, 6, 7, 9, 1, 2, 3, 4, 5, 6, 7, 8, 9, 11, 12, 13, 14, 15, 1, 2, 3, 4, 5, 7, 8, 9, 10, 12, 13, 14, 15, 1, 2, 3, 4, 5, 8, 1, 2, 3, 4, 5, 6, 7, 8, 9, 11, 13, 15, 1, 4, 5, 8, 9, 11, 13, 1, 2, 3, 4, 5, 6, 7, 8, 9, 10, 12, 13, 2, 3, 6, 15, 1, 2, 4, 7, 8, 11, 14, 2, 3, 8, 13, 3, 5, 8, 10, 11, 12, 1, 2, 4, 5, 8, 10, 11, 12, 13, 2, 4, 7, 8, 10, 11, 13, 1, 2, 4, 5, 6, 7, 9, 11, 13, 6, 13, 1, 4, 7, 9, 13, 1, 3, 5, 6, 7, 11, 13, 1, 2, 3, 4, 5, 7, 8, 9, 10, 13, 14, 1, 2, 3, 4, 5, 6, 7, 8, 9, 10, 11, 12, 13, 14, 15, 1, 2, 4, 7, 8, 9, 10, 11, 12, 15, 1, 2, 3, 4, 5, 6, 7, 9, 10, 11, 12, 13, 15, 1, 3, 7, 8, 10, 12, 1, 2, 3, 5, 6, 7, 8, 9, 10, 11, 12, 14, 1, 2, 11, 13, 2, 4, 8, 9, 10, 11, 1, 2, 3, 4, 5, 6, 7, 8, 9, 10, 11, 12, 13, 14, 15, 1, 2, 3, 4, 5, 6, 7, 8, 9, 10, 11, 12, 13, 14, 15, 1, 4, 5, 7, 8, 9, 10, 12, 1, 2, 3, 6, 7, 11, 13, 14, 1, 4, 7, 9, 10, 14, 15, 1, 2, 7, 8, 9, 13, 14, 1, 2, 4, 6, 7, 8, 1, 2, 3, 4, 5, 6, 8, 1, 2, 3, 4, 5, 6, 7, 8, 9, 10, 11, 12, 13, 14, 1, 2, 3, 4, 5, 6, 7, 8, 9, 10, 13, 14, 15, 1, 2, 3, 4, 5, 6, 7, 8, 9, 11, 12, 13, 14, 15, 1, 2, 3, 4, 6, 8, 11, 15, 1, 3, 5, 8, 10, 11, 1, 4, 7, 8, 12, 1, 4, 5, 6, 10, 12, 13, 15, 4, 5, 6, 7, 13, 14, 2, 3, 4, 6, 7, 8, 9, 10, 11, 2, 3, 4, 6, 9, 14, 1, 2, 4, 5, 8, 9, 11, 12, 13, 15, 2, 3, 4, 5, 6, 10, 11, 15, 1, 2, 3, 4, 5, 6, 7, 8, 9, 10, 11, 12, 13, 1, 5, 7, 10, 14, 15, 1, 2, 3, 9, 10, 13, 1, 2, 3, 4, 5, 6, 7, 8, 9, 10, 13, 14, 15, 2, 3, 5, 11, 13, 14, 2, 3, 5, 10, 12, 13, 14, 15, 1, 2, 3, 4, 5, 6, 7, 8, 10, 11, 13, 14, 15, 5, 9, 12, 14, 2, 5, 6, 7, 8, 9, 10, 11, 13, 2, 4, 6, 9, 14, 1, 2, 4, 5, 6, 7, 8, 10, 11, 13, 1, 2, 4, 5, 8, 9, 10, 11, 12, 14, 15, 2, 4, 8, 9, 13, 15, 1, 2, 3, 4, 5, 6, 7, 8, 9, 10, 11, 12, 13, 14, 15, 2, 5, 6, 9, 13, 14, 1, 2, 3, 4, 5, 7, 8, 10, 12, 13, 14, 15, 1, 2, 3, 14, 1, 3, 5, 8, 9, 13, 1, 2, 5, 6, 8, 9, 15, 1, 2, 4, 5, 9, 10, 14, 2, 4, 5, 10, 12, 13, 1, 2, 3, 4, 5, 8, 11, 12, 13, 14, 15, 1, 3, 4, 9, 10, 11, 12, 13, 14, 1, 2, 3, 4, 7, 15, 1, 6, 7, 8, 9, 1, 2, 4, 8, 12, 1, 2, 3, 4, 5, 6, 7, 8, 9, 10, 11, 12, 13, 14, 15, 1, 2, 3, 4, 5, 6, 7, 8, 9, 10, 11, 12, 13, 14, 1, 2, 3, 4, 5, 6, 7, 8, 9, 10, 11, 12, 13, 14, 15, 1, 2, 3, 4, 6, 8, 9, 12, 13, 15, 1, 2, 3, 5, 6, 10, 11, 12, 1, 3, 4, 9, 12, 14, 2, 3, 4, 5, 10, 15, 1, 2, 4, 6, 7, 8, 9, 11, 12, 1, 6, 8, 9, 11, 14, 1, 2, 4, 5, 9, 10, 14, 1, 2, 6, 10, 11, 13, 1, 2, 4, 5, 7, 8, 10, 11, 13, 14, 15, 1, 2, 3, 4, 5, 6, 7, 8, 10, 11, 14, 15, 1, 2, 3, 4, 5, 7, 9, 12, 13, 1, 2, 3, 6, 7, 8, 9, 11, 12, 13, 15, 1, 2, 5, 7, 1, 2, 4, 5, 12, 13, 1, 2, 3, 5, 6, 8, 11, 13, 14, 1, 3, 4, 5, 6, 7, 8, 10, 11, 12, 14, 1, 2, 6, 7, 12, 1, 2, 3, 6, 7, 8, 10, 13, 1, 2, 5, 6, 7, 5, 8, 11, 12, 1, 2, 4, 5, 6, 7, 8, 9, 12, 13, 14, 2, 4, 5, 7, 8, 12, 13, 14, 1, 2, 4, 5, 6, 9, 13, 1, 2, 3, 4, 5, 6, 7, 8, 9, 11, 12, 1, 2, 4, 5, 9, 10, 11, 1, 3, 5, 11, 12, 13, 11, 12, 2, 5, 9, 14, 2, 5, 7, 8, 10, 13, 14, 1, 2, 3, 4, 5, 6, 7, 9, 10, 12, 13, 14, 1, 2, 6, 9, 13, 14, 1, 2, 3, 4, 5, 6, 7, 8, 9, 10, 11, 12, 13, 14, 15, 1, 2, 3, 6, 7, 12, 13, 14, 2, 4, 9, 10, 11, 12, 13, 14, 1, 2, 3, 4, 5, 6, 7, 8, 9, 11, 13, 14, 2, 3, 1, 2, 4, 6, 13, 1, 2, 4, 6, 9, 10, 15, 1, 2, 4, 5, 7, 8, 10, 11, 13, 14, 15, 4, 8, 9, 10, 11, 15, 1, 2, 4, 5, 6, 8, 9, 12, 14, 1, 2, 3, 5, 7, 8, 9, 10, 11, 14, 1, 3, 4, 5, 7, 9, 1, 3, 4, 5, 7, 13, 1, 9, 11, 14, 15, 1, 2, 3, 4, 5, 6, 7, 8, 10, 11, 12, 13, 14, 1, 2, 5, 9, 13, 14, 2, 5, 7, 10, 11, 12, 1, 2, 3, 4, 7, 9, 11, 13, 1, 2, 12, 14, 1, 3, 5, 6, 8, 10, 11, 15, 2, 4, 5, 6, 7, 9, 11, 4, 5, 7, 10, 11, 12, 13, 2, 3, 6, 9, 2, 3, 7, 8, 9, 10, 13, 15, 3, 4, 5, 7, 8, 10, 11, 12, 1, 2, 4, 5, 7, 8, 9, 10, 11, 13, 14, 5, 7, 8, 9, 11, 12, 15, 1, 2, 3, 4, 5, 6, 7, 8, 9, 10, 11, 12, 13, 14, 15, 2, 3, 4, 6, 7, 8, 10, 11, 12, 15, 2, 3, 5, 7, 10, 11, 12, 2, 4, 5, 6, 8, 9, 10, 12, 13, 1, 2, 3, 4, 5, 6, 7, 8, 9, 10, 11, 12, 13, 14, 1, 2, 3, 4, 5, 6, 8, 11, 13, 15, 1, 6, 7, 9, 1, 2, 3, 4, 5, 6, 7, 8, 9, 10, 11, 12, 1, 2, 5, 7, 8, 9, 10, 11, 12, 13, 2, 3, 4, 6, 8, 15, 1, 2, 4, 6, 9, 11, 15, 1, 2, 4, 5, 6, 7, 9, 10, 11, 13, 14, 15, 1, 2, 3, 5, 6, 9, 11, 13, 14, 1, 2, 3, 4, 5, 7, 9, 10, 13, 14, 15, 1, 2, 3, 4, 5, 7, 8, 9, 11, 12, 14, 1, 2, 3, 4, 5, 8, 9, 11, 15, 1, 2, 3, 7, 8, 10, 11, 13, 1, 10, 12, 13, 1, 2, 3, 4, 7, 8, 12, 1, 2, 3, 4, 5, 6, 7, 8, 9, 10, 11, 12, 13, 14, 1, 2, 3, 4, 6, 7, 8, 9, 11, 13, 2, 5, 8, 9, 10, 12, 14, 2, 3, 4, 5, 6, 7, 8, 13, 1, 2, 3, 4, 5, 7, 12, 1, 2, 3, 4, 5, 7, 8, 9, 11, 14, 1, 3, 4, 9, 10, 13, 14, 1, 2, 3, 5, 8, 11, 12, 13, 14, 1, 2, 7, 8, 12, 1, 2, 5, 10, 12, 1, 2, 3, 5, 6, 7, 8, 10, 11, 12, 1, 2, 3, 5, 6, 10, 13, 1, 2, 3, 7, 8, 12, 13, 15, 1, 4, 8, 12, 1, 3, 5, 6, 8, 10, 12, 14, 1, 2, 3, 4, 7, 8, 9, 10, 12, 14, 1, 2, 3, 5, 6, 7, 9, 11, 12, 13, 14, 15, 1, 2, 3, 4, 5, 6, 7, 8, 9, 10, 11, 13, 14, 15, 2, 3, 4, 5, 7, 8, 9, 10, 13, 15, 1, 2, 3, 12, 13, 1, 2, 5, 7, 10, 12, 15, 1, 2, 5, 7, 2, 3, 10, 14, 2, 3, 4, 8, 9, 10, 11, 12, 13, 1, 2, 4, 5, 6, 8, 13, 14, 15, 4, 6, 8, 9, 11, 1, 2, 3, 4, 5, 6, 7, 8, 9, 10, 11, 12, 13, 1, 2, 7, 8, 11, 15, 2, 3, 12, 14, 2, 3, 4, 6, 9, 13, 1, 2, 5, 10, 15, 6, 13, 2, 5, 7, 9, 10, 11, 12, 13, 1, 2, 3, 10, 11, 12, 13, 15, 1, 4, 6, 7, 8, 2, 4, 5, 7, 9, 11, 14, 2, 3, 4, 6, 7, 8, 11, 12, 13, 14, 2, 3, 5, 7, 8, 10, 12, 13, 14, 1, 3, 6, 7, 12, 14, 15, 1, 2, 3, 4, 6, 7, 8, 13, 14, 15, 1, 2, 6, 10, 1, 2, 4, 5, 6, 7, 9, 11, 13, 1, 3, 6, 10, 1, 2, 3, 4, 5, 6, 7, 8, 9, 10, 11, 12, 13, 14, 15, 1, 2, 3, 4, 5, 6, 7, 8, 10, 11, 12, 13, 14, 15, 2, 8, 9, 14, 15, 4, 5, 4, 5, 10, 12, 13, 1, 2, 3, 4, 5, 7, 8, 10, 11, 12, 13, 3, 4, 5, 8, 10, 12, 14, 15, 1, 3, 5, 6, 7, 11, 12, 1, 3, 4, 7, 8, 12, 14, 15, 1, 2, 3, 4, 6, 7, 8, 9, 11, 12, 13, 14, 1, 3, 5, 9, 11, 1, 2, 3, 5, 8, 9, 10, 11, 12, 13, 14, 15, 1, 2, 3, 4, 5, 8, 9, 10, 12, 13, 14, 6, 14, 1, 3, 4, 9, 11, 14, 1, 2, 3, 5, 7, 8, 9, 10, 11, 12, 13, 14, 15, 1, 2, 3, 4, 5, 6, 7, 10, 12, 13, 14, 15, 1, 2, 3, 4, 5, 6, 7, 8, 9, 10, 11, 12, 13, 14, 1, 2, 3, 4, 5, 6, 7, 8, 9, 10, 11, 12, 13, 14, 15, 1, 2, 6, 7, 8, 9, 13, 1, 2, 3, 4, 6, 7, 9, 10, 12, 13, 14, 15, 1, 3, 4, 6, 7, 8, 10, 11, 12, 13, 14, 1, 2, 4, 7, 11, 12, 13, 14, 15, 1, 2, 4, 7, 9, 10, 11, 12, 1, 2, 3, 12, 14, 1, 5, 6, 9, 13, 2, 3, 7, 8, 9, 10, 13, 14, 15, 1, 2, 3, 4, 5, 6, 7, 9, 10, 11, 12, 13, 14, 15, 1, 2, 3, 4, 6, 7, 8, 9, 10, 11, 12, 14, 1, 2, 3, 4, 5, 7, 8, 9, 10, 11, 13, 14, 15, 1, 2, 3, 4, 5, 6, 7, 8, 9, 10, 11, 12, 13, 14, 1, 3, 4, 5, 6, 7, 8, 9, 10, 11, 13, 14, 1, 2, 3, 4, 5, 6, 8, 9, 11, 12, 13, 14, 15, 6, 7, 8, 10, 15, 2, 8, 10, 13, 14, 1, 2, 4, 5, 8, 9, 13, 1, 2, 3, 5, 6, 7, 8, 9, 11, 13, 14, 15], \"Freq\": [0.21849776011394242, 0.21849776011394242, 0.08193666004272841, 0.13656110007121403, 0.054624440028485606, 0.24580998012818522, 0.054624440028485606, 0.08530958375899231, 0.6398218781924423, 0.08530958375899231, 0.17061916751798462, 0.28922537588393105, 0.21691903191294828, 0.10845951595647414, 0.03615317198549138, 0.03615317198549138, 0.28922537588393105, 0.36834492771485394, 0.12892072470019889, 0.05525173915722809, 0.11050347831445619, 0.22100695662891237, 0.07366898554297079, 0.018417246385742696, 0.07997999047156132, 0.8997748928050647, 0.24525707561836768, 0.02725078617981863, 0.517764937416554, 0.0817523585394559, 0.10900314471927453, 0.12597795246402219, 0.5878971114987702, 0.04199265082134073, 0.20996325410670363, 0.2074725447505024, 0.12448352685030144, 0.12448352685030144, 0.03112088171257536, 0.06224176342515072, 0.01037362723752512, 0.06224176342515072, 0.11410989961277632, 0.06224176342515072, 0.04149450895010048, 0.02074725447505024, 0.0518681361876256, 0.03112088171257536, 0.06224176342515072, 0.33771470996124925, 0.03752385666236103, 0.05003180888314804, 0.02501590444157402, 0.05003180888314804, 0.2626669966365272, 0.12507952220787008, 0.07504771332472206, 0.02501590444157402, 0.01250795222078701, 0.01250795222078701, 0.17780864072965444, 0.2765912189127958, 0.019756515636628273, 0.1382956094563979, 0.05926954690988482, 0.07902606254651309, 0.05926954690988482, 0.15805212509302619, 0.26464969989843623, 0.1642653309714432, 0.10951022064762879, 0.0410663327428608, 0.03650340688254293, 0.11863607236826453, 0.018251703441271465, 0.03194048102222506, 0.06388096204445012, 0.045629258603178666, 0.0410663327428608, 0.018251703441271465, 0.0410663327428608, 0.009125851720635732, 0.7389416738315557, 0.035187698753883605, 0.10556309626165082, 0.035187698753883605, 0.035187698753883605, 0.08896146817026772, 0.26688440451080314, 0.08896146817026772, 0.04448073408513386, 0.08896146817026772, 0.13344220225540157, 0.17792293634053544, 0.08896146817026772, 0.2747993307104064, 0.3205992191621408, 0.045799888451734404, 0.045799888451734404, 0.2747993307104064, 0.16947263458521766, 0.22928650561529448, 0.08972080654511524, 0.12959672056516647, 0.15451916682769848, 0.029906935515038414, 0.04486040327255762, 0.019937957010025608, 0.04984489252506402, 0.029906935515038414, 0.004984489252506402, 0.04486040327255762, 0.20351443452496715, 0.08140577380998687, 0.08140577380998687, 0.5291375297649146, 0.08140577380998687, 0.16878545439582102, 0.12056103885415786, 0.5304685709582946, 0.024112207770831572, 0.024112207770831572, 0.09644883108332629, 0.2140281358770017, 0.13994147345803956, 0.016463702759769362, 0.07408666241896213, 0.008231851379884681, 0.205796284497117, 0.024695554139654043, 0.1317096220781549, 0.016463702759769362, 0.024695554139654043, 0.1317096220781549, 0.016463702759769362, 0.11928655474308848, 0.17230280129557224, 0.10603249310496754, 0.07952436982872566, 0.0927784314668466, 0.06627030819060471, 0.06627030819060471, 0.19881092457181412, 0.05301624655248377, 0.026508123276241885, 0.24117588065136433, 0.6431356817369716, 0.08039196021712144, 0.15196897494830394, 0.23707160091935414, 0.06686634897725373, 0.048630071983457264, 0.03039379498966079, 0.08510262597105021, 0.17020525194210043, 0.05470883098138942, 0.03647255398759294, 0.03039379498966079, 0.03647255398759294, 0.03039379498966079, 0.01823627699379647, 0.21938060466582132, 0.13162836279949278, 0.13162836279949278, 0.17550448373265704, 0.17550448373265704, 0.08775224186632852, 0.04387612093316426, 0.3840744404018541, 0.06983171643670075, 0.1396634328734015, 0.24441100752845263, 0.034915858218350374, 0.1396634328734015, 0.46133237323705406, 0.1845329492948216, 0.1845329492948216, 0.0461332373237054, 0.13839971197111622, 0.09657623378099385, 0.1931524675619877, 0.12072029222624231, 0.036216087667872696, 0.060360146113121155, 0.21729652600723617, 0.036216087667872696, 0.048288116890496925, 0.024144058445248463, 0.060360146113121155, 0.012072029222624231, 0.012072029222624231, 0.07243217533574539, 0.1954499944328188, 0.06514999814427294, 0.13029999628854588, 0.06514999814427294, 0.3257499907213647, 0.13029999628854588, 0.03257499907213647, 0.06514999814427294, 0.13055259005086706, 0.13055259005086706, 0.032638147512716764, 0.032638147512716764, 0.06527629502543353, 0.1087938250423892, 0.032638147512716764, 0.16319073756358382, 0.28286394511021196, 0.010879382504238921, 0.010879382504238921, 0.09670278343478626, 0.19340556686957253, 0.04835139171739313, 0.1450541751521794, 0.04835139171739313, 0.09670278343478626, 0.3545768725942163, 0.014160734910828728, 0.12744661419745856, 0.2312920035435359, 0.15576808401911602, 0.1416073491082873, 0.037761959762209946, 0.028321469821657456, 0.014160734910828728, 0.09440489940552485, 0.047202449702762425, 0.009440489940552486, 0.037761959762209946, 0.05664293964331491, 0.004720244970276243, 0.27745013359647097, 0.2312084446637258, 0.1156042223318629, 0.13872506679823549, 0.02312084446637258, 0.04624168893274516, 0.04624168893274516, 0.09248337786549032, 0.1435982852032597, 0.02393304753387662, 0.02393304753387662, 0.07179914260162985, 0.2871965704065194, 0.2393304753387662, 0.02393304753387662, 0.16753133273713633, 0.20881603861255665, 0.31936570611332193, 0.08598307472281745, 0.13511626027871312, 0.024566592777947843, 0.09826637111179137, 0.024566592777947843, 0.012283296388973922, 0.08598307472281745, 0.07835408052784427, 0.03917704026392214, 0.0587655603958832, 0.5288900435629488, 0.0587655603958832, 0.07835408052784427, 0.01958852013196107, 0.07835408052784427, 0.0587655603958832, 0.21247620489905927, 0.15298286752732268, 0.14448381933136029, 0.07649143376366134, 0.0849904819596237, 0.16148191572328505, 0.05099428917577423, 0.01699809639192474, 0.025497144587887113, 0.05099428917577423, 0.00849904819596237, 0.01699809639192474, 0.34385425567712535, 0.257890691757844, 0.128945345878922, 0.17192712783856268, 0.04298178195964067, 0.012484879096807216, 0.46194052658186696, 0.012484879096807216, 0.062424395484036076, 0.012484879096807216, 0.11236391187126493, 0.062424395484036076, 0.12484879096807215, 0.02496975819361443, 0.09987903277445773, 0.09498075104857817, 0.09498075104857817, 0.06332050069905211, 0.15830125174763027, 0.09498075104857817, 0.09498075104857817, 0.18996150209715634, 0.09498075104857817, 0.06332050069905211, 0.14072284216195774, 0.056289136864783096, 0.028144568432391548, 0.3658793896210901, 0.056289136864783096, 0.14072284216195774, 0.056289136864783096, 0.056289136864783096, 0.028144568432391548, 0.056289136864783096, 0.27540000521283514, 0.21184615785602706, 0.04236923157120541, 0.10592307892801353, 0.23303077364162975, 0.06355384735680812, 0.06355384735680812, 0.5269582133332259, 0.17565273777774199, 0.0702610951110968, 0.0351305475555484, 0.0351305475555484, 0.10539164266664519, 0.17458256753140722, 0.13539056257537702, 0.08907273853643226, 0.13539056257537702, 0.19952293432160825, 0.04750546055276387, 0.023752730276381934, 0.01900218422110555, 0.020189820734924646, 0.009501092110552774, 0.05581891614949755, 0.04394255101130658, 0.011876365138190967, 0.029690912845477417, 0.004750546055276387, 0.018627946512615613, 0.6892340209667777, 0.1490235721009249, 0.037255893025231225, 0.055883839537846834, 0.055883839537846834, 0.20040240274042304, 0.5153204641896593, 0.028628914677203292, 0.057257829354406584, 0.028628914677203292, 0.14314457338601647, 0.028628914677203292, 0.26242316428300777, 0.4264376419598876, 0.06560579107075194, 0.06560579107075194, 0.03280289553537597, 0.03280289553537597, 0.06560579107075194, 0.03257155243250965, 0.21714368288339764, 0.010857184144169883, 0.021714368288339767, 0.29314397189258684, 0.021714368288339767, 0.05428592072084941, 0.03257155243250965, 0.05428592072084941, 0.08685747315335907, 0.08685747315335907, 0.04342873657667953, 0.021714368288339767, 0.010857184144169883, 0.008294207685924555, 0.2737088536355103, 0.47276983809769957, 0.04976524611554733, 0.03317683074369822, 0.008294207685924555, 0.04147103842962277, 0.03317683074369822, 0.01658841537184911, 0.04976524611554733, 0.2204814089559211, 0.08819256358236845, 0.30867397253828954, 0.2204814089559211, 0.04409628179118422, 0.04409628179118422, 0.03378737389247668, 0.1689368694623834, 0.20272424335486008, 0.03378737389247668, 0.23651161724733677, 0.06757474778495336, 0.06757474778495336, 0.1689368694623834, 0.36798708681202014, 0.09199677170300503, 0.3219887009605176, 0.13799515755450756, 0.09199677170300503, 0.020564187013415527, 0.08225674805366211, 0.08225674805366211, 0.20564187013415527, 0.10282093506707764, 0.32902699221464843, 0.08225674805366211, 0.041128374026831054, 0.08225674805366211, 0.17555731747995815, 0.14044585398396653, 0.14546177734053675, 0.1053343904879749, 0.08527069706169396, 0.03511146349599163, 0.05517515692227257, 0.0300955401394214, 0.005015923356570233, 0.04012738685256186, 0.08527069706169396, 0.0601910802788428, 0.03511146349599163, 0.2145971574832711, 0.09197021034997332, 0.24525389426659552, 0.12262694713329776, 0.06131347356664888, 0.09197021034997332, 0.06131347356664888, 0.06131347356664888, 0.06131347356664888, 0.8330409317527852, 0.028725549370785697, 0.11490219748314279, 0.9687270232013041, 0.23662345743886898, 0.6238254787024727, 0.010755611701766771, 0.043022446807067086, 0.043022446807067086, 0.043022446807067086, 0.2140133319747268, 0.08719061673044425, 0.047558518216605956, 0.059448147770757444, 0.13078592509566636, 0.039632098513838296, 0.08322740687906041, 0.05152172806798978, 0.09908024628459573, 0.04359530836522212, 0.015852839405535318, 0.0673745674735251, 0.05548493791937361, 0.003963209851383829, 0.07751038652824323, 0.11626557979236485, 0.27128635284885133, 0.038755193264121614, 0.34879673937709454, 0.038755193264121614, 0.038755193264121614, 0.2986636498951388, 0.03733295623689235, 0.03733295623689235, 0.0746659124737847, 0.2986636498951388, 0.11199886871067707, 0.11199886871067707, 0.03733295623689235, 0.3973726257037702, 0.06622877095062837, 0.1457032960913824, 0.013245754190125674, 0.22517782123213645, 0.07947452514075404, 0.052983016760502696, 0.10904621228665431, 0.1308554547439852, 0.1744739396586469, 0.2835201519453012, 0.10904621228665431, 0.15266469720131606, 0.10872119148349008, 0.14496158864465344, 0.03624039716116336, 0.1812019858058168, 0.10872119148349008, 0.03624039716116336, 0.2899231772893069, 0.03624039716116336, 0.03624039716116336, 0.4166799889113011, 0.02976285635080722, 0.38691713256049387, 0.08928856905242166, 0.05952571270161444, 0.079979991957309, 0.8997749095197262, 0.30145992473719535, 0.15768672986253293, 0.10319205116003995, 0.02898653122473032, 0.010435151240902916, 0.09391636116812624, 0.06840821369036355, 0.016232457485848978, 0.060291984947439065, 0.019710841232816616, 0.05565413995148222, 0.02087030248180583, 0.02434868622877347, 0.031305453722708744, 0.009275689991913702, 0.10928581103796908, 0.29142882943458426, 0.16392871655695362, 0.03642860367932303, 0.18214301839661515, 0.05464290551898454, 0.14571441471729213, 0.3632465740340684, 0.12108219134468946, 0.12108219134468946, 0.08072146089645965, 0.2018036522411491, 0.08072146089645965, 0.07739646366878608, 0.4127811395668591, 0.18059174856050084, 0.12899410611464346, 0.20639056978342954, 0.05107473680880489, 0.10214947361760977, 0.01702491226960163, 0.1191743858872114, 0.5788470171664554, 0.10214947361760977, 0.01702491226960163, 0.01702491226960163, 0.12409506267071117, 0.024819012534142235, 0.5956563008194137, 0.24819012534142235, 0.1331465116723317, 0.06367876645198474, 0.005788978768362248, 0.2720820021130257, 0.1910362993559542, 0.10999059659888272, 0.023155915073448993, 0.07525672398870922, 0.06946774522034699, 0.046311830146897985, 0.08401099749187438, 0.6300824811890579, 0.21002749372968596, 0.5293069092069312, 0.11342290911577098, 0.03780763637192366, 0.11342290911577098, 0.11342290911577098, 0.07561527274384731, 0.37219341978999915, 0.18609670989499957, 0.06203223663166653, 0.12406447326333306, 0.06203223663166653, 0.15508059157916632, 0.06203223663166653, 0.16201665531468307, 0.18226873722901843, 0.06075624574300615, 0.09113436861450921, 0.04050416382867077, 0.06075624574300615, 0.010126040957167692, 0.04050416382867077, 0.18226873722901843, 0.08100832765734153, 0.030378122871503075, 0.020252081914335383, 0.04050416382867077, 0.08829344547163408, 0.30902705915071926, 0.04414672273581704, 0.08829344547163408, 0.1324401682074511, 0.2648803364149022, 0.04414672273581704, 0.05940071207436381, 0.17820213622309142, 0.15840189886497014, 0.11880142414872762, 0.029700356037181904, 0.10890130546966698, 0.22770272961839458, 0.039600474716242534, 0.009900118679060634, 0.05940071207436381, 0.026512328589544196, 0.676064379033377, 0.27837945019021404, 0.013256164294772098, 0.19410299135588788, 0.6987707688811963, 0.07764119654235514, 0.3220532674559115, 0.22295995439255412, 0.04954665653167869, 0.04954665653167869, 0.12386664132919672, 0.22295995439255412, 0.3294361272651694, 0.3623797399916863, 0.03294361272651694, 0.09883083817955082, 0.06588722545303388, 0.09883083817955082, 0.2680561193371243, 0.042888979093939884, 0.12866693728181966, 0.1930004059227295, 0.021444489546969942, 0.0750557134143948, 0.21444489546969944, 0.010722244773484971, 0.032166734320454915, 0.19112181439048823, 0.19112181439048823, 0.1638186980489899, 0.1638186980489899, 0.21842493073198654, 0.08190934902449495, 0.0599503907328368, 0.10491318378246439, 0.3447147467138116, 0.20982636756492878, 0.0149875976832092, 0.0299751953664184, 0.0449627930496276, 0.1348883791488828, 0.0449627930496276, 0.1498539953513677, 0.4495619860541031, 0.19980532713515695, 0.049951331783789236, 0.049951331783789236, 0.07492699767568385, 0.3382915422627093, 0.18793974570150515, 0.18793974570150515, 0.07517589828060206, 0.07517589828060206, 0.07517589828060206, 0.5100857031863354, 0.29147754467790593, 0.03643469308473824, 0.03643469308473824, 0.07286938616947648, 0.2235292063457097, 0.14141643666769388, 0.0410563848390079, 0.08667459021568334, 0.06386548752734562, 0.07298912860268071, 0.05474184645201054, 0.02280910268833772, 0.05930366698967808, 0.10036005182868599, 0.02737092322600527, 0.02737092322600527, 0.02737092322600527, 0.04561820537667544, 0.15814609952058142, 0.43490177368159894, 0.07907304976029071, 0.23721914928087215, 0.039536524880145356, 0.039536524880145356, 0.05036391700816639, 0.12590979252041598, 0.025181958504083196, 0.30218350204899835, 0.30218350204899835, 0.12590979252041598, 0.05036391700816639, 0.595919411587849, 0.2166979678501269, 0.1354362299063293, 0.054174491962531726, 0.20195588337808418, 0.23561519727443153, 0.06731862779269472, 0.23561519727443153, 0.06731862779269472, 0.06731862779269472, 0.03365931389634736, 0.06731862779269472, 0.19794447382354735, 0.7521890005294799, 0.2508738262509054, 0.2269810808936763, 0.19114196285783266, 0.0836246087503018, 0.023892745357229083, 0.023892745357229083, 0.17919559017921813, 0.023892745357229083, 0.011946372678614542, 0.3248588659525, 0.13922522826535716, 0.13922522826535716, 0.04640840942178572, 0.1856336376871429, 0.13922522826535716, 0.44378072814181674, 0.28528761094831073, 0.031698623438701196, 0.06339724687740239, 0.06339724687740239, 0.12679449375480478, 0.02060153993062149, 0.061804619791864475, 0.4017300286471191, 0.02060153993062149, 0.4120307986124298, 0.02060153993062149, 0.04120307986124298, 0.02060153993062149, 0.09206887781537873, 0.18413775563075746, 0.4603443890768937, 0.1381033167230681, 0.046034438907689365, 0.09206887781537873, 0.03594647450039614, 0.03594647450039614, 0.3954112195043576, 0.1797323725019807, 0.21567884700237686, 0.07189294900079228, 0.03594647450039614, 0.6390223888853643, 0.08520298518471524, 0.17040597036943048, 0.04260149259235762, 0.04260149259235762, 0.14935335034592537, 0.17570982393638276, 0.1142113855586488, 0.052712947180914835, 0.017570982393638277, 0.16692433273956364, 0.04392745598409569, 0.008785491196819139, 0.052712947180914835, 0.052712947180914835, 0.017570982393638277, 0.008785491196819139, 0.13178236795228707, 0.12288474632804341, 0.18432711949206512, 0.15360593291005425, 0.3379330524021194, 0.09216355974603256, 0.030721186582010854, 0.030721186582010854, 0.030721186582010854, 0.15840345486385585, 0.06336138194554233, 0.06336138194554233, 0.34848760070048285, 0.14256310937747027, 0.06336138194554233, 0.06336138194554233, 0.0950420729183135, 0.08911064972337344, 0.5940709981558229, 0.1782212994467469, 0.029703549907791147, 0.059407099815582294, 0.09778779411309801, 0.19557558822619603, 0.19557558822619603, 0.09778779411309801, 0.2281715195972287, 0.13038372548413069, 0.06519186274206534, 0.0745567415314408, 0.7455674153144081, 0.0372783707657204, 0.0745567415314408, 0.13959965173348093, 0.25127937312026566, 0.11167972138678474, 0.08375979104008856, 0.05583986069339237, 0.36295909450705044, 0.08798644532391504, 0.3079525586337027, 0.08798644532391504, 0.08798644532391504, 0.1759728906478301, 0.21996611330978763, 0.07168915335782794, 0.21506746007348382, 0.17922288339456985, 0.03584457667891397, 0.17922288339456985, 0.17922288339456985, 0.03584457667891397, 0.07168915335782794, 0.188543764042672, 0.4525050337024128, 0.07541750561706881, 0.1131262584256032, 0.037708752808534404, 0.1131262584256032, 0.042983669378431955, 0.042983669378431955, 0.028655779585621304, 0.05731155917124261, 0.2005904570993491, 0.08596733875686391, 0.11462311834248522, 0.028655779585621304, 0.05731155917124261, 0.2005904570993491, 0.11462311834248522, 0.014327889792810652, 0.02681275535638741, 0.06256309583157062, 0.017875170237591605, 0.2591899684450783, 0.4647544261773818, 0.017875170237591605, 0.044687925593979015, 0.02681275535638741, 0.02681275535638741, 0.044687925593979015, 0.24088345226218327, 0.20073621021848606, 0.20073621021848606, 0.12044172613109164, 0.16058896817478885, 0.035872222214758, 0.071744444429516, 0.035872222214758, 0.286977777718064, 0.071744444429516, 0.071744444429516, 0.035872222214758, 0.107616666644274, 0.286977777718064, 0.265760695035324, 0.16754478600053035, 0.04044184489667974, 0.09821590903479366, 0.03466443848286835, 0.12710294110385062, 0.0693288769657367, 0.005777406413811392, 0.017332219241434174, 0.011554812827622784, 0.0693288769657367, 0.03466443848286835, 0.023109625655245568, 0.028887032069056958, 0.14441062451167566, 0.07220531225583783, 0.09627374967445045, 0.14441062451167566, 0.21661593676751348, 0.21661593676751348, 0.09627374967445045, 0.14334201909061758, 0.31853782020137245, 0.20704958313089208, 0.04778067303020586, 0.04778067303020586, 0.04778067303020586, 0.14334201909061758, 0.03185378202013724, 0.21948192829486662, 0.21948192829486662, 0.08779277131794665, 0.04389638565897332, 0.04389638565897332, 0.13168915697691996, 0.21948192829486662, 0.17730612918635097, 0.019700681020705664, 0.4531156634762302, 0.19700681020705663, 0.06895238357246981, 0.059102043062116985, 0.009850340510352832, 0.5073110846545579, 0.0704598728686886, 0.09864382201616403, 0.014091974573737719, 0.19728764403232807, 0.014091974573737719, 0.056367898294950876, 0.028183949147475438, 0.35263729891763046, 0.45842848859291957, 0.07052745978352609, 0.07052745978352609, 0.02465783555342527, 0.5178145466219307, 0.07397350666027581, 0.271236191087678, 0.04931567110685054, 0.04931567110685054, 0.1404528281946483, 0.42135848458394487, 0.08778301762165518, 0.10533962114598622, 0.08778301762165518, 0.05266981057299311, 0.07022641409732415, 0.017556603524331037, 0.08133880211141066, 0.08133880211141066, 0.122008203167116, 0.244016406334232, 0.244016406334232, 0.122008203167116, 0.04066940105570533, 0.3093975589467818, 0.0281270508133438, 0.3656516605734694, 0.08438115244003139, 0.0281270508133438, 0.1125082032533752, 0.0281270508133438, 0.32378267372610015, 0.23127333837578581, 0.32378267372610015, 0.09250933535031433, 0.5969995309321005, 0.22742839273603827, 0.11371419636801913, 0.028428549092004783, 0.08393607024252576, 0.33574428097010306, 0.04196803512126288, 0.04196803512126288, 0.33574428097010306, 0.04196803512126288, 0.04196803512126288, 0.06406996903078634, 0.010678328171797723, 0.07474829720258405, 0.010678328171797723, 0.192209907092359, 0.04271331268719089, 0.04271331268719089, 0.5445947367616838, 0.010678328171797723, 0.12916106594937335, 0.043053688649791116, 0.11959357958275309, 0.02391871591655062, 0.004783743183310124, 0.02391871591655062, 0.02391871591655062, 0.10524235003282272, 0.01435122954993037, 0.07653989093296198, 0.07653989093296198, 0.3013758205485378, 0.019134972733240496, 0.03826994546648099, 0.004783743183310124, 0.17236512154331188, 0.24623588791901696, 0.04924717758380339, 0.24623588791901696, 0.12311794395950848, 0.04924717758380339, 0.12311794395950848, 0.2775395152989982, 0.09251317176633272, 0.04625658588316636, 0.04625658588316636, 0.04625658588316636, 0.3237961011821645, 0.1387697576494991, 0.06758668547689704, 0.06758668547689704, 0.06758668547689704, 0.16896671369224261, 0.06758668547689704, 0.2703467419075882, 0.10138002821534557, 0.06758668547689704, 0.06758668547689704, 0.07722020799257172, 0.1930505199814293, 0.19948553731414362, 0.09009024265800034, 0.01930505199814293, 0.057915155994428785, 0.09009024265800034, 0.01287003466542862, 0.03861010399628586, 0.03217508666357155, 0.09009024265800034, 0.09009024265800034, 0.07719494731044853, 0.3087797892417941, 0.15438989462089706, 0.18012154372437988, 0.23158484193134557, 0.025731649103482843, 0.048971682310116386, 0.048971682310116386, 0.17140088808540735, 0.09794336462023277, 0.09794336462023277, 0.048971682310116386, 0.3183159350157565, 0.14691504693034915, 0.024485841155058193, 0.19078358167337234, 0.16589876667249767, 0.09953926000349861, 0.01658987666724977, 0.2654380266759963, 0.04147469166812442, 0.03317975333449954, 0.058064568335374184, 0.03317975333449954, 0.03317975333449954, 0.049769630001749304, 0.2420552182217035, 0.16561672825695503, 0.12739748327458078, 0.07643848996474847, 0.07219190718892911, 0.05945215886147104, 0.03821924498237424, 0.03821924498237424, 0.02972607943073552, 0.021232913879096798, 0.03821924498237424, 0.025479496654916157, 0.025479496654916157, 0.03397266220655488, 0.00849316555163872, 0.1005093091636994, 0.12563663645462425, 0.1005093091636994, 0.2764006002001734, 0.07538198187277455, 0.02512732729092485, 0.02512732729092485, 0.2512732729092485, 0.04869881038878963, 0.1704458363607637, 0.10957232337477665, 0.04869881038878963, 0.036524107791592215, 0.09739762077757926, 0.07304821558318443, 0.012174702597197407, 0.07913556688178314, 0.030436756492993516, 0.08522291818038184, 0.06087351298598703, 0.10348497207617795, 0.04869881038878963, 0.04383845631095513, 0.058451275081273506, 0.1315153689328654, 0.14612818770318375, 0.1899666440141389, 0.058451275081273506, 0.2630307378657308, 0.014612818770318376, 0.08767691262191026, 0.5865359244710376, 0.3910239496473584, 0.19157103160010258, 0.027367290228586083, 0.4926112241145495, 0.21893832182868866, 0.027367290228586083, 0.027367290228586083, 0.1878401199479306, 0.14088008996094795, 0.11740007496745664, 0.14088008996094795, 0.04696002998698265, 0.023480014993491324, 0.023480014993491324, 0.23480014993491327, 0.023480014993491324, 0.023480014993491324, 0.07523728001429443, 0.09673364573266427, 0.7093800687062046, 0.07523728001429443, 0.03224454857755475, 0.010748182859184918, 0.1441458576662657, 0.016632214346107583, 0.5322308590754427, 0.23839507229420867, 0.027720357243512638, 0.027720357243512638, 0.08766786827478319, 0.8766786827478319, 0.043833934137391596, 0.12165970803501268, 0.08689979145358048, 0.33021920752360584, 0.12165970803501268, 0.06951983316286439, 0.12165970803501268, 0.10427974974429659, 0.017379958290716098, 0.017379958290716098, 0.07997998863823112, 0.8997748721801001, 0.0335451119347539, 0.1006353358042617, 0.0670902238695078, 0.0670902238695078, 0.1006353358042617, 0.3689962312822929, 0.2012706716085234, 0.0335451119347539, 0.0335451119347539, 0.3096790477550388, 0.06881756616778639, 0.10322634925167959, 0.051613174625839794, 0.13763513233557279, 0.034408783083893196, 0.12043074079362619, 0.051613174625839794, 0.051613174625839794, 0.06881756616778639, 0.12541086676588117, 0.2090181112764686, 0.1672144890211749, 0.04180362225529372, 0.04180362225529372, 0.08360724451058744, 0.25082173353176235, 0.04180362225529372, 0.6797803876791395, 0.04248627422994622, 0.08497254845989244, 0.12745882268983866, 0.32720392263365267, 0.45808549168711377, 0.021813594842243513, 0.08725437936897405, 0.043627189684487026, 0.043627189684487026, 0.07833728409644475, 0.11750592614466712, 0.11750592614466712, 0.23501185228933424, 0.27418049433755665, 0.19584321024111187, 0.20230732027851903, 0.028901045754074147, 0.028901045754074147, 0.23120836603259318, 0.14450522877037072, 0.057802091508148294, 0.028901045754074147, 0.057802091508148294, 0.08670313726222244, 0.11560418301629659, 0.059482398119756016, 0.26767079153890205, 0.059482398119756016, 0.08922359717963402, 0.14870599529939002, 0.29741199059878004, 0.029741199059878008, 0.059482398119756016, 0.16197636535088972, 0.2332459661052812, 0.0583114915263203, 0.07126960075439148, 0.10366487382456942, 0.12958109228071177, 0.09070676459649825, 0.012958109228071177, 0.09070676459649825, 0.006479054614035589, 0.03239527307017794, 0.2109983323120102, 0.06880380401478593, 0.0963253256207003, 0.1054991661560051, 0.06880380401478593, 0.04128228240887156, 0.08256456481774312, 0.08715148508539551, 0.027521521605914374, 0.08715148508539551, 0.009173840535304791, 0.018347681070609582, 0.06421688374713354, 0.036695362141219164, 0.2892482619943917, 0.23139860959551337, 0.02892482619943917, 0.08677447859831751, 0.23139860959551337, 0.08677447859831751, 0.02892482619943917, 0.14067976182417383, 0.5627190472966953, 0.07033988091208691, 0.03516994045604346, 0.07033988091208691, 0.07033988091208691, 0.23171945058627505, 0.1930995421552292, 0.07723981686209168, 0.3089592674483667, 0.07723981686209168, 0.03861990843104584, 0.07723981686209168, 0.37687136362845075, 0.057980209788992425, 0.028990104894496212, 0.057980209788992425, 0.11596041957798485, 0.20293073426147348, 0.057980209788992425, 0.08697031468348863, 0.3489969498504634, 0.1427714794842805, 0.042302660587934963, 0.0052878325734918704, 0.03701482801444309, 0.01586349772047561, 0.03172699544095122, 0.11104448404332928, 0.15334714463126425, 0.010575665146983741, 0.021151330293967482, 0.0052878325734918704, 0.052878325734918706, 0.026439162867459353, 0.33583048801677073, 0.06716609760335414, 0.13433219520670828, 0.06716609760335414, 0.06716609760335414, 0.26866439041341655, 0.06716609760335414, 0.15413829707826637, 0.07706914853913319, 0.15413829707826637, 0.03853457426956659, 0.3468111684260993, 0.07706914853913319, 0.11560372280869978, 0.08299756843750755, 0.01659951368750151, 0.7137790885625649, 0.03319902737500302, 0.06639805475000604, 0.01659951368750151, 0.04979854106250453, 0.4407718966622188, 0.0629674138088884, 0.0472255603566663, 0.1416766810699989, 0.0944511207133326, 0.0787092672611105, 0.0314837069044442, 0.0944511207133326, 0.0314837069044442, 0.1637321009598056, 0.3929570423035334, 0.06549284038392224, 0.06549284038392224, 0.13098568076784448, 0.1964785211517667, 0.12258430948986843, 0.2182598681161072, 0.15547278276763798, 0.10763500345451861, 0.01793916724241977, 0.014949306035349807, 0.08670597500502888, 0.03288847327776958, 0.04484791810604942, 0.01793916724241977, 0.04185805689897946, 0.05680736293432927, 0.02391888965655969, 0.029898612070699614, 0.029898612070699614, 0.20038444119083254, 0.1485608788138931, 0.005182356237693945, 0.11228438515003548, 0.21247660574545174, 0.05527846653540208, 0.012092164554619205, 0.04836865821847682, 0.05527846653540208, 0.03282158950539499, 0.04145884990155156, 0.022456877030007098, 0.012092164554619205, 0.036276493663857615, 0.001727452079231315, 0.5344551162432242, 0.08907585270720401, 0.08907585270720401, 0.13361377906080604, 0.04453792635360201, 0.08907585270720401, 0.41232976887032347, 0.1832576750534771, 0.3665153501069542, 0.04581441876336927, 0.08822028395958431, 0.13233042593937647, 0.17644056791916862, 0.08822028395958431, 0.39699127781812943, 0.08822028395958431, 0.39481387264463536, 0.23688832358678122, 0.039481387264463534, 0.039481387264463534, 0.039481387264463534, 0.15792554905785414, 0.039481387264463534, 0.16301994477377327, 0.19018993556940214, 0.21735992636503101, 0.2445299171606599, 0.10867996318251551, 0.054339981591257754, 0.5522401329525007, 0.1911600460220195, 0.06372001534067316, 0.04248001022711544, 0.06372001534067316, 0.06372001534067316, 0.02124000511355772, 0.20654490028654093, 0.20654490028654093, 0.08988528068025393, 0.08988528068025393, 0.06502339453465178, 0.04589886673034243, 0.0497237722912043, 0.030599244486894956, 0.047811319510773366, 0.03251169726732589, 0.02103698058474028, 0.040161508389049624, 0.013387169463016543, 0.059286036193358975, 0.0019124527804309348, 0.46045930932410983, 0.0657799013320157, 0.16444975333003922, 0.23022965466205492, 0.0657799013320157, 0.25313049331741333, 0.1530556471221569, 0.10007484619525643, 0.09418809053671194, 0.06475431224398946, 0.023547022634177985, 0.035320533951266976, 0.017660266975633488, 0.011773511317088993, 0.011773511317088993, 0.11773511317088993, 0.035320533951266976, 0.005886755658544496, 0.06475431224398946, 0.023547022634177985, 0.12041633336253524, 0.10994534785274956, 0.1308873188723209, 0.04188394203914269, 0.031412956529357015, 0.031412956529357015, 0.10994534785274956, 0.1151808406076424, 0.21989069570549913, 0.031412956529357015, 0.06282591305871403, 0.21916870409253877, 0.16028755970946865, 0.10794876470229521, 0.026169397503586718, 0.09159289126255352, 0.13084698751793358, 0.055609969695121775, 0.013084698751793359, 0.04252527094332842, 0.03925409625538007, 0.0065423493758966795, 0.055609969695121775, 0.016355873439741698, 0.026169397503586718, 0.013084698751793359, 0.11236717139613842, 0.30900972133938065, 0.25282613564131146, 0.028091792849034604, 0.028091792849034604, 0.22473434279227683, 0.09934148235461064, 0.2302916181856883, 0.07224835080335319, 0.09031043850419149, 0.09934148235461064, 0.08127939465377235, 0.05418626310251489, 0.027093131551257445, 0.013546565775628723, 0.11740357005544894, 0.022577609626047872, 0.09934148235461064, 0.005071022488206442, 0.07606533732309663, 0.020284089952825768, 0.24340907943390921, 0.20791192201646413, 0.035497157417445094, 0.035497157417445094, 0.32961646173341874, 0.030426134929238652, 0.020284089952825768, 0.10937245153276885, 0.32811735459830654, 0.30077424171511435, 0.08202933864957664, 0.027343112883192213, 0.13671556441596106, 0.5454299786064368, 0.0681787473258046, 0.1022681209887069, 0.0340893736629023, 0.0681787473258046, 0.0340893736629023, 0.0340893736629023, 0.0681787473258046, 0.16472381691159957, 0.17339349148589428, 0.06502255930721035, 0.03467869829717886, 0.07369223388150507, 0.01733934914858943, 0.16472381691159957, 0.060687722020063, 0.06935739659435772, 0.01733934914858943, 0.01733934914858943, 0.047683210158620926, 0.04334837287147357, 0.047683210158620926, 0.0076225132793168475, 0.44210577020037717, 0.03049005311726739, 0.03811256639658424, 0.03811256639658424, 0.1753178054242875, 0.12958272574838642, 0.022867539837950545, 0.022867539837950545, 0.03049005311726739, 0.04573507967590109, 0.015245026558633695, 0.11944453679900321, 0.10700239754910705, 0.05225698484956391, 0.05474541269954314, 0.08211811904931471, 0.02737270634977157, 0.004976855699958468, 0.13686353174885785, 0.07714126334935624, 0.10700239754910705, 0.10202554184914858, 0.06718755194943932, 0.03234956204973004, 0.02488427849979234, 0.007465283549937701, 0.1288033469268471, 0.30912803262443306, 0.02576066938536942, 0.10304267754147768, 0.06440167346342356, 0.06440167346342356, 0.20608535508295536, 0.09016234284879297, 0.20199414004319902, 0.033665690007199836, 0.10099707002159951, 0.1683284500359992, 0.3703225900791982, 0.06733138001439967, 0.033665690007199836, 0.05617652413745626, 0.43068668505383134, 0.22470609654982504, 0.09362754022909377, 0.11235304827491252, 0.018725508045818753, 0.07490203218327501, 0.2414926063811709, 0.01724947188436935, 0.01724947188436935, 0.6037315159529273, 0.05174841565310805, 0.01724947188436935, 0.01724947188436935, 0.2525349909844048, 0.14075720808966827, 0.07451852192982437, 0.07451852192982437, 0.008279835769980487, 0.04139917884990243, 0.0869382755847951, 0.0289794251949317, 0.05381893250487316, 0.04139917884990243, 0.09935802923976583, 0.016559671539960973, 0.03725926096491219, 0.03725926096491219, 0.008279835769980487, 0.11585083718561254, 0.34755251155683764, 0.10693923432518081, 0.017823205720863468, 0.1604088514877712, 0.06238122002302214, 0.06238122002302214, 0.026734808581295202, 0.04455801430215867, 0.026734808581295202, 0.026734808581295202, 0.28423474655025377, 0.08120992758578678, 0.04060496379289339, 0.5278645293076141, 0.04060496379289339, 0.2099818899524395, 0.08399275598097579, 0.027997585326991932, 0.33597102392390316, 0.16798551196195158, 0.055995170653983864, 0.027997585326991932, 0.055995170653983864, 0.013998792663495966, 0.013998792663495966, 0.13118222337030294, 0.49193333763863606, 0.032795555842575735, 0.06559111168515147, 0.13118222337030294, 0.032795555842575735, 0.06559111168515147, 0.16575797598814546, 0.22760796702849825, 0.11627798315586324, 0.012369998208070557, 0.05442799211551045, 0.05690199175712456, 0.04947999283228223, 0.08164198817326568, 0.03463599498259756, 0.0643239906819669, 0.03216199534098345, 0.06927198996519512, 0.024739996416141115, 0.004947999283228223, 0.007421998924842334, 0.039281549932960756, 0.23568929959776455, 0.17676697469832342, 0.25533007456424495, 0.019640774966480378, 0.17676697469832342, 0.07856309986592151, 0.009820387483240189, 0.1614494764958498, 0.1435106457740887, 0.05381649216528327, 0.21526596866113307, 0.08969415360880544, 0.035877661443522176, 0.017938830721761088, 0.2870212915481774, 0.08789964742736224, 0.30764876599576785, 0.08789964742736224, 0.17579929485472448, 0.04394982371368112, 0.26369894228208673, 0.287758698509118, 0.1644335420052103, 0.14094303600446598, 0.017617879500558247, 0.04698101200148866, 0.011745253000372165, 0.08221677100260515, 0.18205142150576853, 0.011745253000372165, 0.02349050600074433, 0.02936313250093041, 0.11239657093718568, 0.337189712811557, 0.09633991794615915, 0.03211330598205305, 0.11239657093718568, 0.08028326495513262, 0.016056652991026526, 0.1926798358923183, 0.011381805835176177, 0.12519986418693793, 0.1745210228060347, 0.015175741113568234, 0.037939352783920584, 0.3111026928281488, 0.04173328806231264, 0.15934528169246645, 0.011381805835176177, 0.064496899732665, 0.034145417505528526, 0.015175741113568234, 0.0981641813927064, 0.4580995131659632, 0.0654427875951376, 0.2617711503805504, 0.0327213937975688, 0.0654427875951376, 0.0327213937975688, 0.08162434965216706, 0.46253798136227997, 0.1632486993043341, 0.2176649324057788, 0.02720811655072235, 0.02720811655072235, 0.02720811655072235, 0.20873448398762065, 0.27831264531682753, 0.38267988731063785, 0.06957816132920688, 0.03478908066460344, 0.06182696231924861, 0.06182696231924861, 0.21639436811737014, 0.030913481159624306, 0.06182696231924861, 0.09274044347887292, 0.18548088695774584, 0.030913481159624306, 0.15456740579812153, 0.06182696231924861, 0.1440368981801645, 0.6481660418107402, 0.10802767363512336, 0.07201844909008225, 0.13128163734941162, 0.1277334849886167, 0.07805935193748799, 0.07451119957669307, 0.0851556566590778, 0.014192609443179634, 0.039029675968743995, 0.039029675968743995, 0.0816075042982829, 0.024837066525564357, 0.01774076180397454, 0.19514837984371997, 0.05322228541192362, 0.028385218886359267, 0.010644457082384725, 0.22268906854669523, 0.13361344112801715, 0.13361344112801715, 0.04453781370933905, 0.22268906854669523, 0.22268906854669523, 0.4711689210574392, 0.12399182133090504, 0.04959672853236202, 0.17358854986326708, 0.04959672853236202, 0.04959672853236202, 0.04959672853236202, 0.021861269161793144, 0.04372253832358629, 0.16395951871344858, 0.054653172904482863, 0.021861269161793144, 0.6339768056920012, 0.04372253832358629, 0.010930634580896572, 0.2114597284078165, 0.1691677827262532, 0.0845838913631266, 0.1268758370446899, 0.2960436197709431, 0.0422919456815633, 0.12795524490805632, 0.08530349660537087, 0.25591048981611264, 0.08530349660537087, 0.2016264465217857, 0.023264589983282964, 0.031019453311043953, 0.0659163382859684, 0.08142606494149038, 0.007754863327760988, 0.015509726655521977, 0.01938715831940247, 0.06325531338521799, 0.3162765669260899, 0.18976594015565396, 0.06325531338521799, 0.06325531338521799, 0.3162765669260899, 0.030592591340092633, 0.21414813938064844, 0.6424444181419453, 0.06118518268018527, 0.030592591340092633, 0.07583239673285966, 0.025277465577619885, 0.22749719019857897, 0.17694225904333918, 0.17694225904333918, 0.12638732788809942, 0.10110986231047954, 0.10110986231047954, 0.5642955095789287, 0.037619700638595245, 0.2633379044701667, 0.07523940127719049, 0.037619700638595245, 0.10318664688680045, 0.6535154302830695, 0.03439554896226681, 0.06879109792453363, 0.13758219584906725, 0.308900507048237, 0.1684911856626747, 0.056163728554224905, 0.08424559283133735, 0.3369823713253494, 0.056163728554224905, 0.09559712356683332, 0.16388078325742855, 0.4506721539579285, 0.04097019581435714, 0.10925385550495235, 0.02731346387623809, 0.013656731938119044, 0.02731346387623809, 0.05462692775247618, 0.013656731938119044, 0.4958070561766189, 0.08263450936276982, 0.16526901872553965, 0.24790352808830945, 0.1973086595669825, 0.1076229052183541, 0.05605359646789276, 0.06502217190275561, 0.13004434380551122, 0.10313861750092268, 0.024663582445872814, 0.07847503505504987, 0.029147870163304238, 0.013452863152294263, 0.07847503505504987, 0.04932716489174563, 0.05156930875046134, 0.015695007011009975, 0.1374944550080875, 0.1374944550080875, 0.14879536911834126, 0.08852382719698784, 0.12431005521279143, 0.09794125562219931, 0.04332017075597277, 0.04708714212605736, 0.054621084866226535, 0.04332017075597277, 0.011300914110253767, 0.018834856850422944, 0.013184399795296061, 0.01695137116538065, 0.011300914110253767, 0.014055481088274998, 0.098388367617925, 0.1335270703386125, 0.06324966489723749, 0.18974899469171247, 0.098388367617925, 0.21785995686826248, 0.0351387027206875, 0.014055481088274998, 0.070277405441375, 0.014055481088274998, 0.007027740544137499, 0.04216644326482499, 0.20764025304265912, 0.23973011033107008, 0.10948304251340209, 0.086831378545112, 0.041528050608531826, 0.06795499190487027, 0.049078605264628525, 0.024539302632314262, 0.013213470648169218, 0.07550554656096696, 0.03020221862438678, 0.007550554656096695, 0.02831457996036261, 0.011325831984145043, 0.0056629159920725215, 0.472407828134158, 0.07267812740525507, 0.03633906370262754, 0.21803438221576524, 0.07267812740525507, 0.10901719110788262, 0.40395634189100205, 0.5251432444583026, 0.0403956341891002, 0.0201978170945501, 0.31610152723668494, 0.34244332117307535, 0.28975973330029453, 0.02634179393639041, 0.597583313125818, 0.17927499393774543, 0.059758331312581806, 0.059758331312581806, 0.059758331312581806, 0.029879165656290903, 0.5974424705706871, 0.042674462183620504, 0.042674462183620504, 0.042674462183620504, 0.042674462183620504, 0.08534892436724101, 0.042674462183620504, 0.042674462183620504, 0.04646492725694026, 0.04646492725694026, 0.13939478177082076, 0.18585970902776103, 0.13939478177082076, 0.13939478177082076, 0.18585970902776103, 0.15682449573994175, 0.089613997565681, 0.1344209963485215, 0.11201749695710125, 0.089613997565681, 0.02240349939142025, 0.06721049817426075, 0.0448069987828405, 0.2240349939142025, 0.0448069987828405, 0.04391663129128975, 0.04391663129128975, 0.39524968162160773, 0.175666525165159, 0.04391663129128975, 0.0878332625825795, 0.2195831564564487, 0.03782152849897707, 0.12859319689652202, 0.015128611399590826, 0.06807875129815871, 0.1210288911967266, 0.0605144455983633, 0.08320736269774955, 0.15128611399590827, 0.15885041969570368, 0.0605144455983633, 0.02269291709938624, 0.09077166839754496, 0.007564305699795413, 0.2174757996057392, 0.223630775066279, 0.11078955828971619, 0.07796302250017066, 0.03692985276323873, 0.04718814519747171, 0.03898151125008533, 0.041033169736931926, 0.04308482822377852, 0.04308482822377852, 0.03692985276323873, 0.01641326789477277, 0.028723218815852346, 0.03282653578954554, 0.006154975460539789, 0.2621972966745515, 0.524394593349103, 0.13109864833727575, 0.052439459334910295, 0.3581283059199529, 0.13429811471998235, 0.044766038239994116, 0.13429811471998235, 0.044766038239994116, 0.13429811471998235, 0.08953207647998823, 0.004966711900939705, 0.18873505223570877, 0.07450067851409557, 0.26323573074980433, 0.03973369520751764, 0.00993342380187941, 0.2135686117404073, 0.12913450942443233, 0.06456725471221617, 0.01986684760375882, 0.12118282682105244, 0.08078855121403496, 0.08078855121403496, 0.12118282682105244, 0.3231542048561398, 0.24236565364210488, 0.14053786472537264, 0.10220935616390737, 0.5365991198605138, 0.012776169520488422, 0.15331403424586107, 0.008517446346992282, 0.008517446346992282, 0.008517446346992282, 0.029811062214472987, 0.22551351947837806, 0.4735783909045939, 0.15785946363486464, 0.06765405584351342, 0.06765405584351342, 0.3694797565949661, 0.09236993914874153, 0.046184969574370766, 0.09236993914874153, 0.09236993914874153, 0.046184969574370766, 0.23092484787185383, 0.1224028044795066, 0.5712130875710308, 0.0816018696530044, 0.1632037393060088, 0.0816018696530044, 0.0408009348265022, 0.43205373530507424, 0.1440179117683581, 0.0960119411789054, 0.0480059705894527, 0.1920238823578108, 0.07083214347386886, 0.19478839455313937, 0.12395625107927052, 0.12395625107927052, 0.3187446456324099, 0.15937232281620495, 0.9466343823167294, 0.04507782772936807, 0.02123032515646015, 0.9235191443060166, 0.02123032515646015, 0.010615162578230076, 0.010615162578230076, 0.0394189910029738, 0.06757541314795508, 0.23088266158884654, 0.02252513771598503, 0.005631284428996257, 0.19146367058587274, 0.0394189910029738, 0.01689385328698877, 0.21962009273085403, 0.09573183529293637, 0.028156422144981284, 0.02252513771598503, 0.01689385328698877, 0.24969642494948116, 0.2340903983901386, 0.13265122575441188, 0.031212053118685145, 0.015606026559342573, 0.054621092957699006, 0.054621092957699006, 0.07803013279671286, 0.04681807967802772, 0.10143917263572673, 0.16239389508232108, 0.20299236885290137, 0.16239389508232108, 0.16239389508232108, 0.12179542131174081, 0.04059847377058027, 0.12179542131174081, 0.16865766860896003, 0.23612073605254402, 0.16865766860896003, 0.269852269774336, 0.067463067443584, 0.4342266976290076, 0.17879922843547372, 0.02554274691935339, 0.20434197535482712, 0.02554274691935339, 0.05108549383870678, 0.05108549383870678, 0.0056662331042326205, 0.1104915455325361, 0.033997398625395726, 0.053829214490209894, 0.09915907932407086, 0.0056662331042326205, 0.08782661311560562, 0.09632596277195456, 0.06799479725079145, 0.18131945933544386, 0.06516168069867513, 0.07366103035502407, 0.031164282073279412, 0.07082791380290776, 0.01983181586481417, 0.044973737792160795, 0.06746060668824119, 0.24735555785688434, 0.4722242468176883, 0.044973737792160795, 0.044973737792160795, 0.06746060668824119, 0.11615722483979213, 0.11615722483979213, 0.20327514346963624, 0.14519653104974017, 0.058078612419896064, 0.058078612419896064, 0.14519653104974017, 0.058078612419896064, 0.058078612419896064, 0.4685795974438206, 0.1561931991479402, 0.11714489936095515, 0.19524149893492526, 0.03904829978698505, 0.11174600792534121, 0.27936501981335304, 0.33523802377602363, 0.16761901188801182, 0.05587300396267061, 0.05587300396267061, 0.2933273552652084, 0.06285586184254467, 0.06285586184254467, 0.10475976973757445, 0.06285586184254467, 0.31427930921272335, 0.02095195394751489, 0.06285586184254467, 0.3379521986484741, 0.2703617589187793, 0.3379521986484741, 0.16888598675387734, 0.189996735098112, 0.27443972847505066, 0.021110748344234667, 0.253328980130816, 0.08444299337693867, 0.46156649484019946, 0.1230843986240532, 0.0923132989680399, 0.30771099656013295, 0.2763479345128867, 0.03070532605698741, 0.06141065211397482, 0.15352663028493704, 0.2763479345128867, 0.06141065211397482, 0.15352663028493704, 0.44210378176511184, 0.1537752284400389, 0.11533142133002919, 0.03844380711000973, 0.03844380711000973, 0.03844380711000973, 0.13455332488503405, 0.03844380711000973, 0.10137473904500369, 0.20274947809000737, 0.2534368476125092, 0.10137473904500369, 0.3548115866575129, 0.012781042380163008, 0.025562084760326016, 0.9585781785122256, 0.06020154642779593, 0.20736088214018597, 0.23857649880645054, 0.11148434523665914, 0.06243123333252911, 0.04459373809466365, 0.12263277976032504, 0.057971859523062746, 0.011148434523665913, 0.0022296869047331827, 0.022296869047331826, 0.020067182142598644, 0.020067182142598644, 0.020067182142598644, 0.015241199869581069, 0.045723599608743205, 0.47247719595701315, 0.1981355983045539, 0.09144719921748641, 0.045723599608743205, 0.015241199869581069, 0.09144719921748641, 0.10484485713518195, 0.3145345714055458, 0.03494828571172731, 0.4892759999641824, 0.03494828571172731, 0.24339161441026425, 0.05215534594505662, 0.03477023063003775, 0.12169580720513212, 0.05215534594505662, 0.05215534594505662, 0.3998576522454341, 0.017385115315018875, 0.03477023063003775, 0.22136580854282545, 0.03162368693468935, 0.47435530402034026, 0.0632473738693787, 0.0632473738693787, 0.09487106080406806, 0.03162368693468935, 0.03162368693468935, 0.23870328169119787, 0.2685411919025976, 0.2685411919025976, 0.059675820422799467, 0.0895137306341992, 0.059675820422799467, 0.0607343447319883, 0.2429373789279532, 0.2429373789279532, 0.10324838604438011, 0.1822030341959649, 0.00607343447319883, 0.05466091025878947, 0.01214686894639766, 0.04251404131239181, 0.04251404131239181, 0.00607343447319883, 0.08059287347276929, 0.32237149389107717, 0.40296436736384644, 0.040296436736384646, 0.08059287347276929, 0.08059287347276929, 0.2344402928313395, 0.127413202625728, 0.0764479215754368, 0.010193056210058239, 0.14270278694081534, 0.005096528105029119, 0.12231667452069887, 0.08154444968046591, 0.08154444968046591, 0.045868752945262076, 0.010193056210058239, 0.045868752945262076, 0.005096528105029119, 0.005096528105029119, 0.0410770784689274, 0.09755806136370257, 0.1848468531101733, 0.09755806136370257, 0.10269269617231849, 0.015403904425847773, 0.08728879174647072, 0.09755806136370257, 0.0205385392344637, 0.1643083138757096, 0.03594244366031147, 0.03594244366031147, 0.0205385392344637, 0.025252045150217985, 0.22726840635196188, 0.1767643160515259, 0.10100818060087194, 0.3282765869528338, 0.12626022575108994, 0.38402714079287914, 0.04800339259910989, 0.04114576508495133, 0.04114576508495133, 0.03428813757079278, 0.246874590509708, 0.006857627514158556, 0.020572882542475666, 0.013715255028317112, 0.14401017779732966, 0.006857627514158556, 0.013715255028317112, 0.036079850293553636, 0.7937567064581801, 0.018039925146776818, 0.018039925146776818, 0.018039925146776818, 0.036079850293553636, 0.036079850293553636, 0.23730574121614997, 0.04210263150609112, 0.007655023910198386, 0.06889521519178547, 0.0535851673713887, 0.003827511955099193, 0.27940837272224106, 0.03827511955099193, 0.04975765541628951, 0.007655023910198386, 0.08420526301218224, 0.13013540647337257, 0.20239740961323902, 0.6227612603484278, 0.10898322056097486, 0.04670709452613208, 0.11289850483930744, 0.4704104368304477, 0.11289850483930744, 0.07526566989287163, 0.15053133978574326, 0.018816417473217908, 0.05644925241965372, 0.6726829544689852, 0.04484553029793235, 0.0896910605958647, 0.13453659089379702, 0.8041704079611111, 0.02513032524878472, 0.15078195149270832, 0.07203889649082706, 0.018009724122706766, 0.9004862061353383, 0.20089903421912705, 0.020089903421912705, 0.10044951710956353, 0.10044951710956353, 0.020089903421912705, 0.4017980684382541, 0.10044951710956353, 0.020089903421912705, 0.020089903421912705, 0.09260340536895256, 0.15433900894825428, 0.13890510805342884, 0.030867801789650855, 0.4938848286344137, 0.015433900894825428, 0.06173560357930171, 0.057679232145634425, 0.14419808036408607, 0.057679232145634425, 0.14419808036408607, 0.2018773125097205, 0.11535846429126885, 0.028839616072817213, 0.2018773125097205, 0.028839616072817213, 0.1979444746720865, 0.7521890037539287, 0.35302883705185273, 0.5525668753855086, 0.015349079871819686, 0.07674539935909842, 0.9687270178528709, 0.06979809348336007, 0.06979809348336007, 0.24429332719176025, 0.34899046741680034, 0.1046971402250401, 0.06979809348336007, 0.06979809348336007, 0.026676982051793818, 0.026676982051793818, 0.08003094615538145, 0.37347774872511347, 0.026676982051793818, 0.040015473077690725, 0.040015473077690725, 0.18673887436255673, 0.040015473077690725, 0.10670792820717527, 0.053353964103587635, 0.14786368180816292, 0.15314452758702587, 0.04224676623090369, 0.11353818424555366, 0.029044651783746288, 0.023763806004883325, 0.06337014934635553, 0.010561691557725923, 0.058089303567492576, 0.11881903002441663, 0.04752761200976665, 0.08977437824067035, 0.005280845778862961, 0.09241480113010182, 0.005280845778862961, 0.06314410284512972, 0.15786025711282434, 0.03157205142256486, 0.06314410284512972, 0.12628820569025945, 0.15786025711282434, 0.03157205142256486, 0.06314410284512972, 0.2525764113805189, 0.03157205142256486, 0.047379556862496015, 0.23012927618926635, 0.14213867058748805, 0.02030552436964115, 0.1692127030803429, 0.047379556862496015, 0.0067685081232137165, 0.10152762184820574, 0.0406110487392823, 0.03384254061606858, 0.07445358935535087, 0.047379556862496015, 0.03384254061606858, 0.08753724714017586, 0.4376862357008793, 0.08753724714017586, 0.04376862357008793, 0.04376862357008793, 0.26261174142052757, 0.05164503575642567, 0.06886004767523422, 0.17215011918808557, 0.1205050834316599, 0.2324026609039155, 0.04303752979702139, 0.008607505959404278, 0.08607505959404278, 0.008607505959404278, 0.06025254171582995, 0.06025254171582995, 0.08607505959404278, 0.6242173682088609, 0.17834781948824596, 0.04458695487206149, 0.04458695487206149, 0.10332888921127212, 0.06888592614084807, 0.13777185228169614, 0.034442963070424035, 0.41331555684508847, 0.24110074149296826, 0.14716965827246672, 0.17392777795836978, 0.1873068378013213, 0.05797592598612326, 0.08919373228634347, 0.031217806300220217, 0.03567749291453739, 0.008919373228634347, 0.008919373228634347, 0.08919373228634347, 0.008919373228634347, 0.0668952992147576, 0.026758119685903043, 0.05797592598612326, 0.008919373228634347, 0.241997802922115, 0.09390959516380581, 0.043342890075602686, 0.20587872785911276, 0.010835722518900671, 0.06862624261970425, 0.039730982569302464, 0.010835722518900671, 0.028895260050401793, 0.10835722518900671, 0.039730982569302464, 0.039730982569302464, 0.050566705088203136, 0.007223815012600448, 0.010835722518900671, 0.2852896587708978, 0.01901931058472652, 0.06656758704654281, 0.07607724233890607, 0.40891517757162016, 0.05705793175417955, 0.06656758704654281, 0.00950965529236326, 0.4471352751145959, 0.1578124500404456, 0.052604150013481864, 0.052604150013481864, 0.052604150013481864, 0.0789062250202228, 0.10520830002696373, 0.026302075006740932, 0.2809791111698088, 0.1873194074465392, 0.1639044815157218, 0.0234149259308174, 0.117074629654087, 0.1639044815157218, 0.0468298518616348, 0.0761298774515834, 0.38064938725791697, 0.0761298774515834, 0.22838963235475018, 0.0380649387257917, 0.19032469362895849, 0.0380649387257917, 0.3469781703778731, 0.17348908518893655, 0.07435246508097282, 0.09913662010796374, 0.024784155026990936, 0.24784155026990937, 0.036667395315832275, 0.018333697657916138, 0.31167286018457435, 0.11000218594749683, 0.12833588360541295, 0.31167286018457435, 0.036667395315832275, 0.22774183527841554, 0.08675879439177735, 0.12580025186807717, 0.11495540256910498, 0.04554836705568311, 0.09977261355054395, 0.03904145747629981, 0.026027638317533203, 0.05856218621444971, 0.041210427336094244, 0.026027638317533203, 0.026027638317533203, 0.028196608177327637, 0.05205527663506641, 0.04334125315847537, 0.04334125315847537, 0.4442478448743725, 0.032505939868856526, 0.09210016296176016, 0.13544141612023552, 0.06501187973771305, 0.005417656644809421, 0.032505939868856526, 0.04334125315847537, 0.021670626579237684, 0.04334125315847537, 0.005417656644809421, 0.14651072955323857, 0.1523711587353681, 0.1230690128247204, 0.09962729609620222, 0.041023004274906794, 0.09376686691407268, 0.04688343345703634, 0.017581287546388626, 0.04688343345703634, 0.02344171672851817, 0.04688343345703634, 0.08790643773194314, 0.02930214591064771, 0.03516257509277725, 0.004527207035940299, 0.08148972664692537, 0.44819349655808954, 0.040744863323462686, 0.2897412503001791, 0.07243531257504478, 0.02716324221564179, 0.03169044925158209, 0.16774055229437745, 0.2935459665151605, 0.1258054142207831, 0.2516108284415662, 0.041935138073594364, 0.08387027614718873, 0.5347698279939475, 0.2941234053966711, 0.026738491399697372, 0.08021547419909211, 0.053476982799394744, 0.02728327386912531, 0.49109892964425556, 0.10913309547650124, 0.10913309547650124, 0.08184982160737593, 0.10913309547650124, 0.02728327386912531, 0.02728327386912531, 0.24267252625528168, 0.5226792873190682, 0.037334234808504875, 0.11200270442551463, 0.056001352212757316, 0.018667117404252438, 0.17474164178410118, 0.043685410446025294, 0.021842705223012647, 0.021842705223012647, 0.1310562313380759, 0.021842705223012647, 0.24026975745313914, 0.08737082089205059, 0.21842705223012648, 0.044809715316085276, 0.2240485765804264, 0.20164371892238375, 0.31366800721259697, 0.15683400360629848, 0.022404857658042638, 0.06998952385481626, 0.03499476192740813, 0.06998952385481626, 0.13997904770963251, 0.3149528573466731, 0.06998952385481626, 0.03499476192740813, 0.06998952385481626, 0.10498428578222438, 0.03499476192740813, 0.49292926857203634, 0.06161615857150454, 0.06161615857150454, 0.03080807928575227, 0.06161615857150454, 0.03080807928575227, 0.15404039642876136, 0.06161615857150454, 0.09818406753105213, 0.1548287218758899, 0.05286834405518192, 0.04153941318621436, 0.14349979100692234, 0.11328930868967553, 0.003776310289655851, 0.045315723475870213, 0.056644654344837765, 0.049092033765526066, 0.08685513666208458, 0.07930251608277288, 0.07174989550346117, 0.5307037493615511, 0.09649159079300929, 0.04824579539650464, 0.19298318158601857, 0.04824579539650464, 0.04824579539650464, 0.22988464567997818, 0.22988464567997818, 0.07662821522665939, 0.03831410761332969, 0.15325643045331877, 0.2681987532933079, 0.03539558817740059, 0.12135630232251632, 0.5587446419432522, 0.0025282562983857566, 0.06067815116125816, 0.027810819282243323, 0.00758476889515727, 0.037923844475786346, 0.02275430668547181, 0.010113025193543027, 0.06826292005641543, 0.037923844475786346, 0.010113025193543027, 0.06959633685311972, 0.5567706948249578, 0.24358717898591906, 0.03479816842655986, 0.03479816842655986, 0.03479816842655986, 0.10153638246176834, 0.2369182257441261, 0.20307276492353668, 0.033845460820589444, 0.20307276492353668, 0.10153638246176834, 0.033845460820589444, 0.033845460820589444, 0.0564997103605428, 0.12429936279319416, 0.19209901522584552, 0.06403300507528184, 0.094166183934238, 0.2448320782290188, 0.052733063003173285, 0.11676606807845512, 0.00753329471473904, 0.0188332367868476, 0.00376664735736952, 0.0188332367868476, 0.00376664735736952, 0.028021969519434066, 0.028021969519434066, 0.840659085583022, 0.05604393903886813, 0.07038257785466386, 0.11730429642443975, 0.0938434371395518, 0.0938434371395518, 0.07038257785466386, 0.30499117070354337, 0.0469217185697759, 0.1407651557093277, 0.07038257785466386, 0.7045982389285035, 0.10568973583927553, 0.07045982389285035, 0.03522991194642518, 0.03522991194642518, 0.1230348506956477, 0.38140803715650784, 0.03691045520869431, 0.02460697013912954, 0.06151742534782385, 0.02460697013912954, 0.11073136562608292, 0.07382091041738861, 0.08612439548695339, 0.08612439548695339, 0.2557144360355267, 0.02324676691232061, 0.1569156766581641, 0.16272736838624427, 0.02324676691232061, 0.10461045110544274, 0.0058116917280801525, 0.058116917280801525, 0.11623383456160305, 0.058116917280801525, 0.04068184209656107, 0.07837245942690259, 0.31348983770761035, 0.15674491885380518, 0.27430360799415904, 0.11755868914035388, 0.039186229713451294, 0.23117382689991786, 0.1560917292743035, 0.0572994955563899, 0.04742027218459854, 0.0711304082768978, 0.053347806207673355, 0.0572994955563899, 0.04742027218459854, 0.06915456360253953, 0.06322702957946472, 0.03161351478973236, 0.05137196153331508, 0.02371013609229927, 0.029637670115374087, 0.00790337869743309, 0.1317894621724035, 0.087859641448269, 0.0439298207241345, 0.5710876694137484, 0.0439298207241345, 0.087859641448269, 0.12009426025723068, 0.048037704102892265, 0.06004713012861534, 0.048037704102892265, 0.44434876295175346, 0.08406598218006146, 0.012009426025723066, 0.06004713012861534, 0.012009426025723066, 0.012009426025723066, 0.024018852051446132, 0.0720565561543384, 0.43579754695872536, 0.18158231123280225, 0.25421523572592314, 0.10894938673968134, 0.22137661404750872, 0.04427532280950174, 0.22137661404750872, 0.26565193685701044, 0.08855064561900348, 0.13282596842850522, 0.0899978004610037, 0.41998973548468393, 0.029999266820334564, 0.14999633410167282, 0.14999633410167282, 0.029999266820334564, 0.11999706728133826, 0.23898449432832083, 0.1327691635157338, 0.1327691635157338, 0.15932299621888057, 0.05310766540629352, 0.21243066162517407, 0.05310766540629352, 0.4724074066319628, 0.0393672838859969, 0.1968364194299845, 0.0787345677719938, 0.0787345677719938, 0.1181018516579907, 0.08966834872787696, 0.2839497709716104, 0.2241708718196924, 0.059778899151917975, 0.059778899151917975, 0.029889449575958987, 0.014944724787979494, 0.10461307351585646, 0.014944724787979494, 0.029889449575958987, 0.059778899151917975, 0.10058821898828384, 0.16764703164713973, 0.2682352506354236, 0.03352940632942795, 0.0670588126588559, 0.03352940632942795, 0.0670588126588559, 0.03352940632942795, 0.20117643797656767, 0.23812644566277252, 0.0892974171235397, 0.23812644566277252, 0.1785948342470794, 0.1785948342470794, 0.0892974171235397, 0.48993643535266085, 0.10498637900414161, 0.0699909193360944, 0.0699909193360944, 0.24496821767633042, 0.10157166889056055, 0.3047150066716816, 0.37242945259872196, 0.03385722296352018, 0.13542889185408072, 0.16414323563326097, 0.048200791416116315, 0.13939147787903908, 0.029962654123531763, 0.10030975510921504, 0.023449033661894426, 0.08207161781663048, 0.0977043069245601, 0.07425527326266568, 0.0937961346475777, 0.06383348052404593, 0.01302724092327468, 0.01302724092327468, 0.050806239600771255, 0.00651362046163734, 0.21021821469061622, 0.33419305925174886, 0.08624337012948358, 0.08085315949639085, 0.037731474431649065, 0.037731474431649065, 0.021560842532370894, 0.04312168506474179, 0.010780421266185447, 0.037731474431649065, 0.026951053165463618, 0.037731474431649065, 0.03234126379855634, 0.010780421266185447, 0.05088449082754092, 0.17446111140871173, 0.036346064876814944, 0.014538425950725978, 0.0654229167782669, 0.10176898165508184, 0.05088449082754092, 0.05815370380290391, 0.05815370380290391, 0.04361527785217793, 0.18173032438407472, 0.09449976867971886, 0.029076851901451956, 0.036346064876814944, 0.014538425950725978, 0.18828500275148058, 0.11981772902366947, 0.11981772902366947, 0.350894777855032, 0.00855840921597639, 0.01711681843195278, 0.01711681843195278, 0.059908864511834733, 0.04279204607988195, 0.09414250137574029, 0.6220257085414493, 0.11207670424170259, 0.044830681696681036, 0.044830681696681036, 0.07284985775710667, 0.03362301127251077, 0.044830681696681036, 0.028019176060425647, 0.12076634376438175, 0.20127723960730293, 0.20127723960730293, 0.16102179168584235, 0.12076634376438175, 0.20127723960730293, 0.07746423996450048, 0.07746423996450048, 0.5035175597692532, 0.07746423996450048, 0.15492847992900097, 0.07746423996450048, 0.26963059124959204, 0.08987686374986402, 0.022469215937466005, 0.10111147171859702, 0.022469215937466005, 0.11234607968733003, 0.10111147171859702, 0.24716137531212606, 0.04493843187493201, 0.12225088590371702, 0.4278781006630096, 0.09168816442778777, 0.06112544295185851, 0.24450177180743404, 0.030562721475929255, 0.29911693640067416, 0.02719244876369765, 0.02719244876369765, 0.0543848975273953, 0.13596224381848826, 0.2175395901095812, 0.2175395901095812, 0.08486187771025236, 0.29701657198588327, 0.04243093885512618, 0.16972375542050472, 0.2545856331307571, 0.08486187771025236, 0.09889038318651923, 0.19257600936322167, 0.12491416823560324, 0.25503309348102327, 0.057252327107984814, 0.041638056078534415, 0.10929989720615284, 0.005204757009816802, 0.07286659813743522, 0.02602378504908401, 0.020819028039267207, 0.10413468289751655, 0.3471156096583885, 0.07810101217313742, 0.0694231219316777, 0.03471156096583885, 0.18223569507065396, 0.05206734144875828, 0.03471156096583885, 0.02603367072437914, 0.02603367072437914, 0.017355780482919424, 0.02603367072437914, 0.17601358071963044, 0.08800679035981522, 0.08800679035981522, 0.11734238714642029, 0.08800679035981522, 0.08800679035981522, 0.05867119357321014, 0.08800679035981522, 0.2053491775062355, 0.10099532218047809, 0.014427903168639726, 0.07213951584319864, 0.24527435386687535, 0.23084645069823562, 0.07213951584319864, 0.057711612674558904, 0.10099532218047809, 0.028855806337279452, 0.04328370950591918, 0.057711612674558904, 0.5305294260893886, 0.28566969097120926, 0.04080995585302989, 0.12242986755908968, 0.1710902714529768, 0.21386283931622102, 0.21386283931622102, 0.12831770358973263, 0.12831770358973263, 0.1710902714529768, 0.145156935009991, 0.09331517250642278, 0.15552528751070463, 0.3214189275221229, 0.06221011500428185, 0.010368352500713642, 0.11405187750785006, 0.08294682000570913, 0.010368352500713642, 0.0436543739337294, 0.0436543739337294, 0.10913593483432352, 0.3274078045029705, 0.1746174957349176, 0.10913593483432352, 0.0218271869668647, 0.0218271869668647, 0.10913593483432352, 0.0218271869668647, 0.0218271869668647, 0.44561279706631246, 0.22280639853315623, 0.09548845651420981, 0.15914742752368302, 0.031829485504736604, 0.1270030233589537, 0.2358627576666283, 0.1270030233589537, 0.1632896014615119, 0.0181432890512791, 0.2358627576666283, 0.0362865781025582, 0.0362865781025582, 0.09184722876301689, 0.22961807190754221, 0.36738891505206756, 0.045923614381508444, 0.18369445752603378, 0.06839919977451137, 0.6611922644869432, 0.13679839954902273, 0.11399866629085229, 0.22619600087964373, 0.1256644449331354, 0.03769933347994062, 0.2136295563863302, 0.02513288898662708, 0.03769933347994062, 0.02513288898662708, 0.02513288898662708, 0.05026577797325416, 0.08796511145319479, 0.13823088942644893, 0.1570862906503544, 0.33661347996504515, 0.011220449332168172, 0.056102246660840856, 0.08976359465734537, 0.2805112333042043, 0.011220449332168172, 0.056102246660840856, 0.11489901298828124, 0.045959605195312496, 0.36767684156249997, 0.275757631171875, 0.09191921039062499, 0.045959605195312496, 0.022979802597656248, 0.09218412022765465, 0.008380374566150423, 0.05866262196305296, 0.12570561849225634, 0.09218412022765465, 0.11732524392610592, 0.12570561849225634, 0.02514112369845127, 0.17598786588915888, 0.15084674219070762, 0.03352149826460169, 0.08622345865176231, 0.028741152883920772, 0.28741152883920773, 0.11496461153568309, 0.17244691730352463, 0.028741152883920772, 0.22992922307136618, 0.6285641565800922, 0.07857051957251153, 0.15714103914502306, 0.039285259786255765, 0.039285259786255765, 0.039285259786255765, 0.290738970448733, 0.6709360856509222, 0.23272650412674756, 0.3878775068779126, 0.1939387534389563, 0.15515100275116506, 0.0563394974494797, 0.5915647232195368, 0.02816974872473985, 0.1126789948989594, 0.02816974872473985, 0.1126789948989594, 0.02816974872473985, 0.024529613746792488, 0.3597676682862898, 0.13900114456515744, 0.049059227493584975, 0.04088268957798748, 0.049059227493584975, 0.04088268957798748, 0.07358884124037747, 0.049059227493584975, 0.057235765409182474, 0.024529613746792488, 0.08994191707157245, 0.3449904983556692, 0.14525915720238705, 0.12710176255208866, 0.1815739465029838, 0.03631478930059676, 0.16341655185268542, 0.24475084551242618, 0.17473505637329928, 0.09619560594766999, 0.08828077761020346, 0.04505363822865557, 0.05296846656612208, 0.06758045734298335, 0.04383597233058379, 0.029832814502758414, 0.032876979247937844, 0.03531231104408139, 0.02557098385950721, 0.023135652063363668, 0.021917986165291895, 0.017656155522040695, 0.07266458283778257, 0.254326039932239, 0.07266458283778257, 0.07266458283778257, 0.254326039932239, 0.036332291418891285, 0.10899687425667386, 0.10899687425667386, 0.2838523987558643, 0.08110068535881838, 0.04055034267940919, 0.08110068535881838, 0.08110068535881838, 0.20275171339704595, 0.04055034267940919, 0.12165102803822758, 0.38723573282556084, 0.16478116290449396, 0.05767340701657289, 0.09062963959747168, 0.04119529072612349, 0.032956232580898796, 0.008239058145224699, 0.08239058145224698, 0.016478116290449398, 0.04119529072612349, 0.06591246516179759, 0.008239058145224699, 0.463686348662879, 0.5299272556147189, 0.09259282090278495, 0.2777784627083549, 0.4629641045139248, 0.046296410451392475, 0.046296410451392475, 0.22846511327960012, 0.20308010069297788, 0.025385012586622235, 0.1523100755197334, 0.2792351384528446, 0.0761550377598667, 0.05077002517324447, 0.11011270300896535, 0.2202254060179307, 0.10431729758744085, 0.25499783854707764, 0.052158648793720425, 0.04056783795067144, 0.12170351385201432, 0.0057954054215244915, 0.052158648793720425, 0.0057954054215244915, 0.017386216264573474, 0.034667308466890326, 0.06933461693378065, 0.5893442439371356, 0.1386692338675613, 0.034667308466890326, 0.06933461693378065, 0.16018090803485194, 0.2028958168441458, 0.021357454404646925, 0.05339363601161731, 0.27764690726041, 0.09610854482091116, 0.10678727202323463, 0.06407236321394078, 0.021357454404646925, 0.0864734507654717, 0.0864734507654717, 0.03458938030618868, 0.22483097199022642, 0.05188407045928302, 0.01729469015309434, 0.05188407045928302, 0.13835752122475473, 0.19024159168403773, 0.0864734507654717, 0.05151111852604968, 0.1287777963151242, 0.3348222704193229, 0.1287777963151242, 0.15453335557814904, 0.2060444741041987, 0.11244559761172387, 0.03748186587057463, 0.07496373174114926, 0.4497823904468955, 0.22489119522344775, 0.11244559761172387, 0.6671452429575908, 0.10533872257225117, 0.10533872257225117, 0.07022581504816745, 0.03511290752408373, 0.172293809417004, 0.05440857139484337, 0.006801071424355421, 0.28337797601480924, 0.04987452377860642, 0.0022670238081184736, 0.05894261901108032, 0.020403214273066263, 0.01133511904059237, 0.015869166656829317, 0.17002678560888554, 0.15189059514393774, 0.0022670238081184736, 0.36900192136635873, 0.09225048034158968, 0.15375080056931612, 0.2152511207970426, 0.030750160113863226, 0.1230006404554529, 0.1587486756311249, 0.26458112605187484, 0.0926033941181562, 0.0926033941181562, 0.17197773193371865, 0.2116649008414999, 0.08770274479165291, 0.11693699305553722, 0.08770274479165291, 0.14617124131942152, 0.20463973784719014, 0.08770274479165291, 0.05846849652776861, 0.20463973784719014, 0.14564123139804827, 0.5825649255921931, 0.07282061569902414, 0.18205153924756035, 0.05290140842058317, 0.3438591547337906, 0.05290140842058317, 0.1587042252617495, 0.026450704210291585, 0.07935211263087474, 0.23805633789262426, 0.026450704210291585, 0.07746948673765074, 0.15493897347530147, 0.15493897347530147, 0.19367371684412685, 0.03873474336882537, 0.27114320358177757, 0.1162042301064761, 0.38016486412539563, 0.19008243206269781, 0.06336081068756594, 0.06336081068756594, 0.03168040534378297, 0.12672162137513188, 0.12672162137513188, 0.09164207286568275, 0.7025892253035678, 0.09164207286568275, 0.09164207286568275, 0.09248416196184717, 0.4346755612206817, 0.07398732956947773, 0.08323574576566245, 0.10173257815803188, 0.1109809943542166, 0.02774524858855415, 0.06473891337329302, 0.10785580839415204, 0.08089185629561403, 0.05392790419707602, 0.26963952098538013, 0.02696395209853801, 0.1887476646897661, 0.1887476646897661, 0.08089185629561403, 0.11858276733530262, 0.1556398821275847, 0.022234268875369244, 0.303868341296713, 0.1556398821275847, 0.1037599214183898, 0.037057114792282075, 0.04446853775073849, 0.022234268875369244, 0.007411422958456414, 0.029645691833825656, 0.1434895135086803, 0.017936189188585038, 0.05380856756575511, 0.6277666216004764, 0.10761713513151022, 0.017936189188585038, 0.017936189188585038, 0.13847405766619442, 0.05280790334727753, 0.07275755572291571, 0.02347017926545668, 0.18541441619710777, 0.0070410537796370045, 0.16077072796837827, 0.06806351986982437, 0.025817197192002348, 0.022296670302183845, 0.09974826187819089, 0.056328430237096036, 0.05750193920036887, 0.022296670302183845, 0.00586754481636417, 0.07549453676193559, 0.02516484558731186, 0.2516484558731186, 0.17615391911118303, 0.13840665073021524, 0.02516484558731186, 0.02516484558731186, 0.11324180514290337, 0.1635714963175271, 0.02516484558731186, 0.22185135684976934, 0.040336610336321695, 0.26218796718609105, 0.040336610336321695, 0.020168305168160847, 0.18151474651344762, 0.22185135684976934, 0.12030275579256365, 0.018508116275779023, 0.5182272557218126, 0.018508116275779023, 0.14806493020623218, 0.037016232551558045, 0.037016232551558045, 0.06477840696522658, 0.027762174413668534, 0.22929991229287613, 0.15505041688375432, 0.10263900835966835, 0.08953615622864687, 0.037124747704560895, 0.10045519967116477, 0.04149236508156806, 0.05459521721258955, 0.0240218955735394, 0.0611466432781003, 0.03057332163905015, 0.0240218955735394, 0.015286660819525075, 0.028389512950546567, 0.03508124305471827, 0.14032497221887308, 0.03508124305471827, 0.14032497221887308, 0.3508124305471827, 0.03508124305471827, 0.07016248610943654, 0.03508124305471827, 0.10524372916415481, 0.03508124305471827, 0.059408041968351775, 0.8119099069008076, 0.09901340328058629, 0.019802680656117257, 0.025822716760975962, 0.12265790461463581, 0.08392382947317187, 0.3227839595121995, 0.01936703757073197, 0.09037950866341586, 0.10974654623414783, 0.051645433521951924, 0.025822716760975962, 0.012911358380487981, 0.10329086704390385, 0.03227839595121995, 0.020991290314751623, 0.3463562901934018, 0.015743467736063717, 0.2676389515130832, 0.010495645157375812, 0.020991290314751623, 0.20466508056882834, 0.010495645157375812, 0.02623911289343953, 0.07346951610163069, 0.06668068402895595, 0.4953422242151013, 0.009525812004136564, 0.371506668161326, 0.01905162400827313, 0.01905162400827313, 0.5100237136219127, 0.17850829976766944, 0.051002371362191275, 0.0765035570432869, 0.051002371362191275, 0.0765035570432869, 0.025501185681095637, 0.18718141322885865, 0.0973343348790065, 0.06738530876238912, 0.23210495240378473, 0.11979610446646953, 0.059898052233234765, 0.029949026116617383, 0.03743628264577173, 0.059898052233234765, 0.014974513058308691, 0.06738530876238912, 0.02246176958746304, 0.21027922809658808, 0.13457870598181637, 0.03364467649545409, 0.1429898751056799, 0.15140104422954342, 0.058878183867044666, 0.13457870598181637, 0.07570052211477171, 0.050467014743181146, 0.14556276714890795, 0.3093208801914294, 0.09097672946806747, 0.03639069178722699, 0.018195345893613494, 0.018195345893613494, 0.09097672946806747, 0.018195345893613494, 0.07278138357445398, 0.16375811304252144, 0.018195345893613494, 0.07948700502686794, 0.24568710644668273, 0.20233055825020932, 0.014452182732157808, 0.12284355322334137, 0.014452182732157808, 0.13006964458942027, 0.1806522841519726, 0.007226091366078904, 0.007226091366078904, 0.007226091366078904, 0.06509590812365344, 0.03254795406182672, 0.0813698851545668, 0.2115617014018737, 0.22783567843278704, 0.14646579327822024, 0.0813698851545668, 0.04882193109274008, 0.09764386218548016, 0.235448347020788, 0.117724173510394, 0.09417933880831521, 0.023544834702078802, 0.1412690082124728, 0.21190351231870921, 0.09417933880831521, 0.047089669404157604, 0.06754385614870756, 0.03377192807435378, 0.8105262737844907, 0.03377192807435378, 0.09782162743374746, 0.13042883657832996, 0.03260720914458249, 0.06521441828916498, 0.16303604572291244, 0.03260720914458249, 0.4565009280241549, 0.17981472970556975, 0.05394441891167092, 0.10788883782334184, 0.04795059458815193, 0.08990736485278487, 0.08990736485278487, 0.09290427701454436, 0.017981472970556973, 0.10489192566158234, 0.02097838513231647, 0.0719258918822279, 0.08990736485278487, 0.014984560808797478, 0.011987648647037982, 0.20290131994649116, 0.16908443328874262, 0.05072532998662279, 0.05072532998662279, 0.08454221664437131, 0.05072532998662279, 0.23671820660423967, 0.06763377331549705, 0.05072532998662279, 0.03381688665774853, 0.07879910913862519, 0.2560971047005319, 0.5515937639703763, 0.019699777284656297, 0.019699777284656297, 0.03939955456931259, 0.019699777284656297, 0.17616143199752227, 0.17616143199752227, 0.08808071599876113, 0.33030268499535426, 0.022020178999690283, 0.022020178999690283, 0.11010089499845141, 0.04404035799938057, 0.05168693437182325, 0.18090427030138137, 0.1033738687436465, 0.07753040155773488, 0.206747737487293, 0.23259120467320463, 0.1033738687436465, 0.23462885094473795, 0.05865721273618449, 0.023462885094473796, 0.09385154037789518, 0.11731442547236898, 0.04692577018894759, 0.23462885094473795, 0.05865721273618449, 0.09385154037789518, 0.03519432764171069, 0.197715331500469, 0.0988576657502345, 0.22242974793802764, 0.04942883287511725, 0.22242974793802764, 0.0988576657502345, 0.07414324931267588, 0.15289201363835322, 0.02548200227305887, 0.07644600681917661, 0.15289201363835322, 0.02548200227305887, 0.07644600681917661, 0.02548200227305887, 0.1783740159114121, 0.25482002273058874, 0.07770475437938995, 0.27196664032786483, 0.27196664032786483, 0.07770475437938995, 0.27196664032786483, 0.5398505267555697, 0.1799501755851899, 0.08997508779259494, 0.05998339186172996, 0.1499584796543249, 0.043023729393973635, 0.05019435095963591, 0.22228926853553047, 0.15775367444457, 0.10755932348493409, 0.14341243131324546, 0.021511864696986818, 0.07170621565662273, 0.12190056661625864, 0.06453559409096046, 0.056423052560140255, 0.021158644710052594, 0.6559179860116304, 0.04937017099012272, 0.19748068396049087, 0.007052881570017532, 0.007052881570017532, 0.12225470192584309, 0.5093945913576795, 0.04075156730861436, 0.14263048558015026, 0.08150313461722872, 0.061127350962921545, 0.02037578365430718, 0.02037578365430718, 0.06291956163277584, 0.4404369314294309, 0.37751736979665507, 0.09437934244916377, 0.1779367764771845, 0.11862451765145635, 0.08896838823859225, 0.029656129412864086, 0.05931225882572817, 0.05931225882572817, 0.29656129412864085, 0.11862451765145635, 0.14909266727092282, 0.16565851918991426, 0.1987902230278971, 0.0662634076759657, 0.03313170383798285, 0.21535607494688852, 0.0662634076759657, 0.03313170383798285, 0.016565851918991424, 0.03313170383798285, 0.02965838378679851, 0.2016770097502299, 0.10083850487511495, 0.2669254540811866, 0.053385090816237324, 0.06524844433095672, 0.011863353514719406, 0.2313353935370284, 0.011863353514719406, 0.011863353514719406, 0.005931676757359703, 0.005931676757359703, 0.04377618180218571, 0.1850538594365123, 0.286535008159761, 0.003979652891107792, 0.08556253715881752, 0.001989826445553896, 0.0477558346932935, 0.06566427270327857, 0.07163375203994025, 0.0975014958321409, 0.027857570237754543, 0.015918611564431168, 0.045766008247739604, 0.017908438009985064, 0.2362600151989705, 0.5386728346536527, 0.0472520030397941, 0.00945040060795882, 0.02835120182387646, 0.01890080121591764, 0.07560320486367056, 0.02835120182387646, 0.00945040060795882, 0.00945040060795882, 0.15917056458281573, 0.03979264114570393, 0.43771905260274324, 0.03979264114570393, 0.31834112916563145, 0.06276356628814742, 0.18829069886444227, 0.12552713257629483, 0.25105426515258966, 0.25105426515258966, 0.06276356628814742, 0.03138178314407371, 0.542994110379624, 0.0723992147172832, 0.0361996073586416, 0.32579646622777436, 0.7987185820875873, 0.06389748656700697, 0.031948743283503486, 0.06389748656700697, 0.5503328567407939, 0.06114809519342155, 0.04076539679561437, 0.04076539679561437, 0.020382698397807184, 0.08153079359122874, 0.1222961903868431, 0.04076539679561437, 0.04076539679561437, 0.11872739088589424, 0.0633212751391436, 0.2691154193413603, 0.3324366944805039, 0.02374547817717885, 0.08706675331632244, 0.055406115746750646, 0.03957579696196475, 0.00791515939239295, 0.18928858289662434, 0.673026072521331, 0.06309619429887478, 0.042064129532583185, 0.021032064766291592, 0.2445538844549752, 0.15519765744258043, 0.22103908787276605, 0.07524734906306929, 0.009405918632883661, 0.042326633847976476, 0.018811837265767323, 0.037623674531534645, 0.023514796582209153, 0.0611384711137438, 0.023514796582209153, 0.042326633847976476, 0.037623674531534645, 0.35220811408191427, 0.044026014260239284, 0.044026014260239284, 0.17610405704095713, 0.2641560855614357, 0.08805202852047857, 0.5287172718627475, 0.16268223749623, 0.16268223749623, 0.1220116781221725, 0.07596185306044187, 0.09766523964913955, 0.01085169329434884, 0.04340677317739536, 0.7487668373100699, 0.02170338658869768, 0.10469000005344627, 0.20938000010689253, 0.45365666689826717, 0.13958666673792836, 0.06979333336896418, 0.07997998773439906, 0.8997748620119894, 0.0721367193793641, 0.1442734387587282, 0.024045573126454698, 0.024045573126454698, 0.21641015813809228, 0.0721367193793641, 0.36068359689682045, 0.0721367193793641, 0.2601305722932097, 0.10405222891728388, 0.20810445783456777, 0.2601305722932097, 0.02601305722932097, 0.02601305722932097, 0.07803917168796291, 0.02601305722932097, 0.6184201967956541, 0.04417287119968958, 0.04417287119968958, 0.13251861359906872, 0.13251861359906872, 0.4611321671792712, 0.1537107223930904, 0.030742144478618078, 0.030742144478618078, 0.18445286687170848, 0.09222643343585424, 0.030742144478618078, 0.2088251069778628, 0.1044125534889314, 0.06960836899262093, 0.12181464573708664, 0.0522062767444657, 0.017402092248155233, 0.03480418449631047, 0.12181464573708664, 0.2088251069778628, 0.0522062767444657, 0.04890620195860991, 0.07335930293791486, 0.07335930293791486, 0.34234341371026933, 0.2200779088137446, 0.024453100979304955, 0.12226550489652477, 0.024453100979304955, 0.04890620195860991, 0.03919843788375075, 0.23519062730250448, 0.09799609470937687, 0.5683773493143858, 0.019599218941875374, 0.019599218941875374, 0.019599218941875374, 0.5226215543520198, 0.12542917304448475, 0.08361944869632318, 0.020904862174080795, 0.020904862174080795, 0.04180972434816159, 0.020904862174080795, 0.06271458652224238, 0.020904862174080795, 0.06271458652224238, 0.1966030374847466, 0.5898091124542398, 0.11796182249084798, 0.07864121499389864, 0.08291872747240356, 0.08291872747240356, 0.1599146886967783, 0.41459363736201776, 0.0236910649921153, 0.08884149372043239, 0.03553659748817295, 0.03553659748817295, 0.0710731949763459, 0.19415167930420482, 0.3106426868867277, 0.3494730227475687, 0.1164910075825229, 0.13631743245645295, 0.19993223426946433, 0.11814177479559256, 0.12420032734921269, 0.009087828830430196, 0.12117105107240263, 0.012117105107240263, 0.030292762768100657, 0.03938059159853085, 0.07270263064344157, 0.021204933937670457, 0.02726348649129059, 0.036351315321720784, 0.03938059159853085, 0.0060585525536201315, 0.21603818999138627, 0.22300716386207614, 0.12544152967241784, 0.12544152967241784, 0.013937947741379759, 0.055751790965519035, 0.03136038241810446, 0.01045346080603482, 0.03832935628879434, 0.08014319951293361, 0.006968973870689879, 0.01045346080603482, 0.0522673040301741, 0.006968973870689879, 0.031211680417190683, 0.2184817629203348, 0.09363504125157206, 0.6242336083438137, 0.031211680417190683, 0.7967420337753643, 0.16773516500533986, 0.07450719056394646, 0.08515107493022453, 0.06386330619766839, 0.7237841369069085, 0.042575537465112265, 0.0834066293786513, 0.10008795525438156, 0.0834066293786513, 0.00834066293786513, 0.07506596644078617, 0.05004397762719078, 0.07506596644078617, 0.17515392169516775, 0.22519789932235854, 0.06672530350292104, 0.06672530350292104, 0.15168895489119846, 0.08167866801833763, 0.04667352458190722, 0.16335733603667527, 0.3033779097823969, 0.08167866801833763, 0.035005143436430415, 0.11668381145476804, 0.14938754435425505, 0.4481626330627651, 0.03734688608856376, 0.1867344304428188, 0.07469377217712753, 0.03734688608856376, 0.03734688608856376, 0.19541502250873727, 0.1628458520906144, 0.09770751125436863, 0.03256917041812288, 0.2931225337631059, 0.1302766816724915, 0.03256917041812288, 0.03256917041812288, 0.06087507777484506, 0.24350031109938025, 0.13392517110465912, 0.012175015554969013, 0.0974001244397521, 0.2069752644344732, 0.03652504666490704, 0.012175015554969013, 0.04870006221987605, 0.024350031109938025, 0.024350031109938025, 0.0974001244397521, 0.03725133325737498, 0.26075933280162483, 0.4842673323458747, 0.11175399977212494, 0.07450266651474996, 0.0452943560504219, 0.15853024617647662, 0.19250101321429305, 0.05661794506302737, 0.12455947913866021, 0.03397076703781642, 0.1358830681512657, 0.06794153407563285, 0.0452943560504219, 0.02264717802521095, 0.11323589012605474, 0.011323589012605474, 0.2832957270889696, 0.1682068379590757, 0.0619709403007121, 0.0088529914715303, 0.1505008550160151, 0.1947658123736666, 0.0088529914715303, 0.0265589744145909, 0.0177059829430606, 0.0531179488291818, 0.0177059829430606, 0.9385596767099433, 0.03609844910422859, 0.04180077320720487, 0.2508046392432292, 0.2508046392432292, 0.1254023196216146, 0.04180077320720487, 0.2926054124504341, 0.16288616733617498, 0.3343452908479381, 0.034291824702352626, 0.017145912351176313, 0.10287547410705788, 0.04286478087794078, 0.08572956175588156, 0.017145912351176313, 0.11144843028264603, 0.008572956175588156, 0.07715660558029341, 0.008572956175588156, 0.008572956175588156, 0.4163124152974094, 0.1189464043706884, 0.0594732021853442, 0.15463032568189491, 0.01784196065560326, 0.041631241529740945, 0.041631241529740945, 0.011894640437068841, 0.06542052240387862, 0.011894640437068841, 0.047578561748275364, 0.011894640437068841, 0.2516393933278371, 0.26046884572530504, 0.026488357192403902, 0.07946507157721171, 0.002207363099366992, 0.03752517268923886, 0.028695720291770893, 0.050769351285440814, 0.03311044649050488, 0.03752517268923886, 0.12361233356455155, 0.011036815496834959, 0.039732535788605854, 0.019866267894302927, 0.16527043777918926, 0.11123971773599277, 0.08581349653919443, 0.16209216012958946, 0.06674383064159567, 0.09534832948799381, 0.019069665897598762, 0.08899177418879423, 0.04449588709439711, 0.06038727534239608, 0.047674164743996904, 0.022247943547198556, 0.006356555299199587, 0.019069665897598762, 0.012713110598399174, 0.04834905588788118, 0.14504716766364353, 0.38679244710304944, 0.04834905588788118, 0.14504716766364353, 0.09669811177576236, 0.04834905588788118, 0.09118758562065987, 0.40274516982458114, 0.07598965468388323, 0.1291824129626015, 0.12158344749421317, 0.022796896405164968, 0.030395861873553292, 0.022796896405164968, 0.030395861873553292, 0.022796896405164968, 0.037994827341941616, 0.015197930936776646, 0.09251453050582953, 0.15419088417638255, 0.03083817683527651, 0.10793361892346778, 0.12335270734110604, 0.015419088417638255, 0.06167635367055302, 0.07709544208819127, 0.09251453050582953, 0.1696099725940208, 0.09251453050582953, 0.17881713023629295, 0.12874833377013092, 0.278954723168617, 0.10729027814177577, 0.05722148167561374, 0.14305370418903438, 0.05722148167561374, 0.02861074083780687, 0.007152685209451718, 0.29221871563543905, 0.29221871563543905, 0.046139797205595634, 0.046139797205595634, 0.015379932401865212, 0.06151972960746085, 0.19993912122424776, 0.046139797205595634, 0.19242861101745443, 0.09621430550872721, 0.33675006928054524, 0.04810715275436361, 0.19242861101745443, 0.25442754782041604, 0.1696183652136107, 0.25442754782041604, 0.2120229565170134, 0.08480918260680535, 0.1854959361964753, 0.1854959361964753, 0.02649941945663933, 0.05299883891327866, 0.02649941945663933, 0.05299883891327866, 0.02649941945663933, 0.3709918723929506, 0.02649941945663933, 0.40166189767651417, 0.09450868180623863, 0.0866329583223854, 0.05513006438697253, 0.015751446967706438, 0.023627170451559657, 0.047254340903119314, 0.05513006438697253, 0.031502893935412876, 0.007875723483853219, 0.06300578787082575, 0.015751446967706438, 0.07088151135467896, 0.023627170451559657, 0.3154171931424146, 0.10628188029798753, 0.07885429828560366, 0.12342411905572746, 0.023999134260835896, 0.10628188029798753, 0.02057068650928791, 0.02742758201238388, 0.04799826852167179, 0.04799826852167179, 0.05485516402476776, 0.04799826852167179, 0.2502183203697389, 0.06527434444427972, 0.10879057407379954, 0.05439528703689977, 0.043516229629519815, 0.1849439759254592, 0.021758114814759907, 0.010879057407379954, 0.06527434444427972, 0.08703245925903963, 0.05439528703689977, 0.03263717222213986, 0.010879057407379954, 0.09759938677953663, 0.13778736957111054, 0.057411403987962725, 0.13204622917231426, 0.21816333515425834, 0.05167026358916645, 0.017223421196388818, 0.017223421196388818, 0.06889368478555527, 0.02296456159518509, 0.07463482518435154, 0.06889368478555527, 0.011482280797592545, 0.02296456159518509, 0.13071386065739093, 0.07469363466136623, 0.05602022599602468, 0.01867340866534156, 0.0933670433267078, 0.03734681733068312, 0.07469363466136623, 0.03734681733068312, 0.22408090398409872, 0.14938726932273247, 0.05602022599602468, 0.01867340866534156, 0.2355213043831746, 0.07246809365636142, 0.09058511707045176, 0.07246809365636142, 0.05435107024227106, 0.0815266053634066, 0.153994699019768, 0.04529255853522588, 0.03623404682818071, 0.07246809365636142, 0.03623404682818071, 0.03623404682818071, 0.009058511707045178, 0.3348325226683818, 0.0744072272596404, 0.372036136298202, 0.1116108408894606, 0.0372036136298202, 0.3075608440469076, 0.24604867523752608, 0.1537804220234538, 0.09226825321407228, 0.18453650642814456, 0.11745138056378555, 0.00978761504698213, 0.3229912965504103, 0.4306550620672137, 0.01957523009396426, 0.0978761504698213, 0.00978761504698213, 0.022917590348153435, 0.2795946022474719, 0.47210236117196075, 0.004583518069630687, 0.03666814455704549, 0.009167036139261373, 0.04583518069630687, 0.06416925297482962, 0.022917590348153435, 0.018334072278522746, 0.018334072278522746, 0.004583518069630687], \"Term\": [\"20\", \"20\", \"20\", \"20\", \"20\", \"20\", \"20\", \"abandonne\", \"abandonne\", \"abandonne\", \"abandonne\", \"abri\", \"abri\", \"abri\", \"abri\", \"abri\", \"abri\", \"acier\", \"acier\", \"acier\", \"acier\", \"acier\", \"acier\", \"acier\", \"adaptation\", \"adaptation\", \"aegon\", \"aegon\", \"aegon\", \"aegon\", \"aegon\", \"aemon\", \"aemon\", \"aemon\", \"aemon\", \"aide\", \"aide\", \"aide\", \"aide\", \"aide\", \"aide\", \"aide\", \"aide\", \"aide\", \"aide\", \"aide\", \"aide\", \"aide\", \"aide\", \"aider\", \"aider\", \"aider\", \"aider\", \"aider\", \"aider\", \"aider\", \"aider\", \"aider\", \"aider\", \"aider\", \"aimait\", \"aimait\", \"aimait\", \"aimait\", \"aimait\", \"aimait\", \"aimait\", \"aimait\", \"aime\", \"aime\", \"aime\", \"aime\", \"aime\", \"aime\", \"aime\", \"aime\", \"aime\", \"aime\", \"aime\", \"aime\", \"aime\", \"aime\", \"aimer\", \"aimer\", \"aimer\", \"aimer\", \"aimer\", \"aimez\", \"aimez\", \"aimez\", \"aimez\", \"aimez\", \"aimez\", \"aimez\", \"aimez\", \"allais\", \"allais\", \"allais\", \"allais\", \"allais\", \"allez\", \"allez\", \"allez\", \"allez\", \"allez\", \"allez\", \"allez\", \"allez\", \"allez\", \"allez\", \"allez\", \"allez\", \"alliance\", \"alliance\", \"alliance\", \"alliance\", \"alliance\", \"allies\", \"allies\", \"allies\", \"allies\", \"allies\", \"allies\", \"ami\", \"ami\", \"ami\", \"ami\", \"ami\", \"ami\", \"ami\", \"ami\", \"ami\", \"ami\", \"ami\", \"ami\", \"amour\", \"amour\", \"amour\", \"amour\", \"amour\", \"amour\", \"amour\", \"amour\", \"amour\", \"amour\", \"andals\", \"andals\", \"andals\", \"ans\", \"ans\", \"ans\", \"ans\", \"ans\", \"ans\", \"ans\", \"ans\", \"ans\", \"ans\", \"ans\", \"ans\", \"ans\", \"appartements\", \"appartements\", \"appartements\", \"appartements\", \"appartements\", \"appartements\", \"appartements\", \"appartient\", \"appartient\", \"appartient\", \"appartient\", \"appartient\", \"appartient\", \"appeler\", \"appeler\", \"appeler\", \"appeler\", \"appeler\", \"appelle\", \"appelle\", \"appelle\", \"appelle\", \"appelle\", \"appelle\", \"appelle\", \"appelle\", \"appelle\", \"appelle\", \"appelle\", \"appelle\", \"appelle\", \"apporte\", \"apporte\", \"apporte\", \"apporte\", \"apporte\", \"apporte\", \"apporte\", \"apporte\", \"appris\", \"appris\", \"appris\", \"appris\", \"appris\", \"appris\", \"appris\", \"appris\", \"appris\", \"appris\", \"appris\", \"argent\", \"argent\", \"argent\", \"argent\", \"argent\", \"argent\", \"argent\", \"armee\", \"armee\", \"armee\", \"armee\", \"armee\", \"armee\", \"armee\", \"armee\", \"armee\", \"armee\", \"armee\", \"armee\", \"armee\", \"armee\", \"armes\", \"armes\", \"armes\", \"armes\", \"armes\", \"armes\", \"armes\", \"armes\", \"armure\", \"armure\", \"armure\", \"armure\", \"armure\", \"armure\", \"armure\", \"armure\", \"arrete\", \"arrete\", \"arrete\", \"arrete\", \"arrete\", \"arrete\", \"arrete\", \"arrete\", \"arrete\", \"arretez\", \"arretez\", \"arretez\", \"arretez\", \"arretez\", \"arretez\", \"arretez\", \"arretez\", \"arretez\", \"arrive\", \"arrive\", \"arrive\", \"arrive\", \"arrive\", \"arrive\", \"arrive\", \"arrive\", \"arrive\", \"arrive\", \"arrive\", \"arrive\", \"arrivera\", \"arrivera\", \"arrivera\", \"arrivera\", \"arrivera\", \"arya\", \"arya\", \"arya\", \"arya\", \"arya\", \"arya\", \"arya\", \"arya\", \"arya\", \"arya\", \"assassine\", \"assassine\", \"assassine\", \"assassine\", \"assassine\", \"assassine\", \"assassine\", \"assassine\", \"assassine\", \"attends\", \"attends\", \"attends\", \"attends\", \"attends\", \"attends\", \"attends\", \"attends\", \"attends\", \"attends\", \"attention\", \"attention\", \"attention\", \"attention\", \"attention\", \"attention\", \"attention\", \"avenir\", \"avenir\", \"avenir\", \"avenir\", \"avenir\", \"avenir\", \"avez\", \"avez\", \"avez\", \"avez\", \"avez\", \"avez\", \"avez\", \"avez\", \"avez\", \"avez\", \"avez\", \"avez\", \"avez\", \"avez\", \"avez\", \"baelish\", \"baelish\", \"baelish\", \"baelish\", \"baelish\", \"baelish\", \"baiser\", \"baiser\", \"baiser\", \"baiser\", \"baiser\", \"baiser\", \"baiser\", \"bannerets\", \"bannerets\", \"bannerets\", \"bannerets\", \"bannerets\", \"bannerets\", \"bannerets\", \"baratheon\", \"baratheon\", \"baratheon\", \"baratheon\", \"baratheon\", \"baratheon\", \"baratheon\", \"baratheon\", \"baratheon\", \"baratheon\", \"baratheon\", \"baratheon\", \"baratheon\", \"baratheon\", \"batard\", \"batard\", \"batard\", \"batard\", \"batard\", \"batard\", \"batard\", \"batard\", \"batard\", \"batard\", \"batards\", \"batards\", \"batards\", \"batards\", \"batards\", \"batards\", \"battu\", \"battu\", \"battu\", \"battu\", \"battu\", \"battu\", \"battu\", \"battu\", \"beaux\", \"beaux\", \"beaux\", \"beaux\", \"beaux\", \"bebe\", \"bebe\", \"bebe\", \"bebe\", \"bebe\", \"bebe\", \"bebe\", \"bebe\", \"bebe\", \"besoin\", \"besoin\", \"besoin\", \"besoin\", \"besoin\", \"besoin\", \"besoin\", \"besoin\", \"besoin\", \"besoin\", \"besoin\", \"besoin\", \"besoin\", \"bienvenue\", \"bienvenue\", \"bienvenue\", \"bienvenue\", \"bienvenue\", \"bienvenue\", \"bienvenue\", \"bienvenue\", \"bienvenue\", \"blancs\", \"blancs\", \"blancs\", \"blandine\", \"bolton\", \"bolton\", \"bolton\", \"bolton\", \"bolton\", \"bolton\", \"bon\", \"bon\", \"bon\", \"bon\", \"bon\", \"bon\", \"bon\", \"bon\", \"bon\", \"bon\", \"bon\", \"bon\", \"bon\", \"bon\", \"bonjour\", \"bonjour\", \"bonjour\", \"bonjour\", \"bonjour\", \"bonjour\", \"bonjour\", \"bons\", \"bons\", \"bons\", \"bons\", \"bons\", \"bons\", \"bons\", \"bons\", \"bran\", \"bran\", \"bran\", \"bran\", \"bran\", \"bran\", \"bran\", \"brienne\", \"brienne\", \"brienne\", \"brienne\", \"brienne\", \"brienne\", \"brise\", \"brise\", \"brise\", \"brise\", \"brise\", \"brise\", \"brise\", \"brise\", \"brise\", \"bronn\", \"bronn\", \"bronn\", \"bronn\", \"bronn\", \"brothers\", \"brothers\", \"ca\", \"ca\", \"ca\", \"ca\", \"ca\", \"ca\", \"ca\", \"ca\", \"ca\", \"ca\", \"ca\", \"ca\", \"ca\", \"ca\", \"ca\", \"cadeau\", \"cadeau\", \"cadeau\", \"cadeau\", \"cadeau\", \"cadeau\", \"cadeau\", \"capable\", \"capable\", \"capable\", \"capable\", \"capable\", \"capable\", \"capitaine\", \"capitaine\", \"capitaine\", \"capitaine\", \"capitaine\", \"castral\", \"castral\", \"castral\", \"castral\", \"castral\", \"castral\", \"castral\", \"castral\", \"catelyn\", \"catelyn\", \"catelyn\", \"catelyn\", \"cersei\", \"cersei\", \"cersei\", \"cersei\", \"cersei\", \"cersei\", \"cersei\", \"cersei\", \"cersei\", \"cersei\", \"chaines\", \"chaines\", \"chaines\", \"chambre\", \"chambre\", \"chambre\", \"chambre\", \"chambre\", \"chambre\", \"champ\", \"champ\", \"champ\", \"champ\", \"champ\", \"champ\", \"champ\", \"chance\", \"chance\", \"chance\", \"chance\", \"chance\", \"chance\", \"chance\", \"chance\", \"chance\", \"chance\", \"chance\", \"chance\", \"chance\", \"changer\", \"changer\", \"changer\", \"changer\", \"changer\", \"changer\", \"changer\", \"chateau\", \"chateau\", \"chateau\", \"chateau\", \"chateau\", \"chateau\", \"chateau\", \"chateau\", \"chateau\", \"chateau\", \"chateaunoir\", \"chateaunoir\", \"chateaunoir\", \"chateaunoir\", \"chateaux\", \"chateaux\", \"chateaux\", \"chemin\", \"chemin\", \"chemin\", \"chemin\", \"chemin\", \"chemin\", \"cherche\", \"cherche\", \"cherche\", \"cherche\", \"cherche\", \"cherche\", \"chevalier\", \"chevalier\", \"chevalier\", \"chevalier\", \"chevalier\", \"chevalier\", \"chevalier\", \"chevalier\", \"chevalier\", \"chevaliers\", \"chevaliers\", \"chevaliers\", \"chevaliers\", \"chevaliers\", \"chevaliers\", \"chevaux\", \"chevaux\", \"chevaux\", \"chevaux\", \"chevaux\", \"chevaux\", \"chevaux\", \"chevaux\", \"chevaux\", \"cheveux\", \"cheveux\", \"cheveux\", \"cheveux\", \"cheveux\", \"cheveux\", \"chien\", \"chien\", \"chien\", \"chien\", \"chien\", \"chien\", \"choisir\", \"choisir\", \"choisir\", \"choisir\", \"choisir\", \"chose\", \"chose\", \"chose\", \"chose\", \"chose\", \"chose\", \"chose\", \"chose\", \"chose\", \"chose\", \"chose\", \"chose\", \"chose\", \"chose\", \"ciel\", \"ciel\", \"ciel\", \"ciel\", \"ciel\", \"ciel\", \"citadelle\", \"citadelle\", \"citadelle\", \"citadelle\", \"citadelle\", \"citadelle\", \"citadelle\", \"cite\", \"cite\", \"cite\", \"cite\", \"clegane\", \"clegane\", \"clegane\", \"clegane\", \"clegane\", \"clegane\", \"clegane\", \"clegane\", \"clotilde\", \"clotilde\", \"combat\", \"combat\", \"combat\", \"combat\", \"combat\", \"combat\", \"combat\", \"combat\", \"combat\", \"combats\", \"combats\", \"combats\", \"combats\", \"combats\", \"combats\", \"combattu\", \"combattu\", \"combattu\", \"combattu\", \"combattu\", \"combattu\", \"commandant\", \"commandant\", \"commandant\", \"commandant\", \"commandant\", \"commandant\", \"commandant\", \"commandant\", \"commun\", \"commun\", \"commun\", \"commun\", \"commun\", \"commun\", \"compagnie\", \"compagnie\", \"compagnie\", \"compagnie\", \"compagnie\", \"compagnie\", \"compagnie\", \"condamne\", \"condamne\", \"condamne\", \"condamne\", \"condamne\", \"connais\", \"connais\", \"connais\", \"connais\", \"connais\", \"connais\", \"connais\", \"connais\", \"connais\", \"connais\", \"connais\", \"connais\", \"connais\", \"connait\", \"connait\", \"connait\", \"connait\", \"connait\", \"connait\", \"connait\", \"connait\", \"conseil\", \"conseil\", \"conseil\", \"conseil\", \"conseil\", \"conseil\", \"conseil\", \"conseil\", \"corbac\", \"corbac\", \"corbac\", \"corbac\", \"corbac\", \"corbeau\", \"corbeau\", \"corbeau\", \"corbeau\", \"corbeau\", \"corbeau\", \"corbeau\", \"corbeaux\", \"corbeaux\", \"corbeaux\", \"corbeaux\", \"coupe\", \"coupe\", \"coupe\", \"coupe\", \"coupe\", \"coupe\", \"couper\", \"couper\", \"couper\", \"couper\", \"couper\", \"couper\", \"cour\", \"cour\", \"cour\", \"cour\", \"cour\", \"cour\", \"cour\", \"cour\", \"courageux\", \"courageux\", \"courageux\", \"courageux\", \"courageux\", \"courageux\", \"couronne\", \"couronne\", \"couronne\", \"couronne\", \"couronne\", \"couronne\", \"couronne\", \"couronne\", \"couronne\", \"couronne\", \"couronne\", \"couronne\", \"couronnes\", \"couronnes\", \"couronnes\", \"couronnes\", \"couronnes\", \"couronnes\", \"couronnes\", \"couronnes\", \"couronnes\", \"couronnes\", \"crime\", \"crime\", \"crime\", \"crime\", \"crime\", \"crimes\", \"crimes\", \"crimes\", \"crimes\", \"crimes\", \"crimes\", \"crimes\", \"crimes\", \"crimes\", \"crois\", \"crois\", \"crois\", \"crois\", \"crois\", \"crois\", \"crois\", \"crois\", \"crois\", \"crois\", \"crois\", \"crois\", \"crois\", \"crois\", \"croyais\", \"croyais\", \"croyais\", \"croyais\", \"croyais\", \"croyais\", \"croyais\", \"croyez\", \"croyez\", \"croyez\", \"croyez\", \"croyez\", \"croyez\", \"croyez\", \"croyez\", \"cru\", \"cru\", \"cru\", \"cru\", \"cru\", \"cru\", \"cru\", \"daenerys\", \"daenerys\", \"daenerys\", \"daenerys\", \"daenerys\", \"daenerys\", \"daenerys\", \"dame\", \"dame\", \"dame\", \"dame\", \"dame\", \"dame\", \"dame\", \"dame\", \"davantage\", \"davantage\", \"davantage\", \"davantage\", \"dela\", \"dela\", \"dela\", \"dela\", \"dela\", \"dela\", \"demain\", \"demain\", \"demain\", \"demain\", \"demain\", \"demain\", \"demain\", \"demain\", \"detroit\", \"detroit\", \"detroit\", \"detroit\", \"detroit\", \"detroit\", \"detroit\", \"detruire\", \"detruire\", \"detruire\", \"detruire\", \"detruire\", \"detruire\", \"detruire\", \"devais\", \"devais\", \"devais\", \"devais\", \"devenir\", \"devenir\", \"devenir\", \"devenir\", \"devrions\", \"devrions\", \"devrions\", \"devrions\", \"devrions\", \"devrions\", \"devrions\", \"dieu\", \"dieu\", \"dieu\", \"dieu\", \"dieu\", \"dieu\", \"dieu\", \"dieu\", \"dieu\", \"dieux\", \"dieux\", \"dieux\", \"dieux\", \"dieux\", \"dieux\", \"dieux\", \"dieux\", \"dieux\", \"dieux\", \"dieux\", \"dieux\", \"dieux\", \"dieux\", \"dieux\", \"difficile\", \"difficile\", \"difficile\", \"difficile\", \"difficile\", \"difficile\", \"difficile\", \"digne\", \"digne\", \"digne\", \"digne\", \"digne\", \"digne\", \"digne\", \"dirait\", \"dirait\", \"dirait\", \"dirait\", \"dirait\", \"dirait\", \"dirait\", \"dirait\", \"dirait\", \"dis\", \"dis\", \"dis\", \"dis\", \"dis\", \"dis\", \"dis\", \"dis\", \"dis\", \"dis\", \"dis\", \"dis\", \"disait\", \"disait\", \"disait\", \"disait\", \"disait\", \"disait\", \"disent\", \"disent\", \"disent\", \"disent\", \"disent\", \"disent\", \"disent\", \"disent\", \"disent\", \"dites\", \"dites\", \"dites\", \"dites\", \"dites\", \"dites\", \"dites\", \"dites\", \"dites\", \"dites\", \"dites\", \"dois\", \"dois\", \"dois\", \"dois\", \"dois\", \"dois\", \"dois\", \"dois\", \"dois\", \"dois\", \"dois\", \"dois\", \"dois\", \"dois\", \"dois\", \"donjon\", \"donjon\", \"donjon\", \"donjon\", \"donjon\", \"donjon\", \"donjon\", \"donjon\", \"donne\", \"donne\", \"donne\", \"donne\", \"donne\", \"donne\", \"donne\", \"donne\", \"donne\", \"donne\", \"donne\", \"donne\", \"donne\", \"donne\", \"dorne\", \"dorne\", \"dorne\", \"dorne\", \"dorne\", \"dorne\", \"dorne\", \"dorne\", \"dorne\", \"dothraki\", \"dothraki\", \"dothrakis\", \"dothrakis\", \"dothrakis\", \"dothrakis\", \"dothrakis\", \"dothrakis\", \"doute\", \"doute\", \"doute\", \"doute\", \"doute\", \"doute\", \"doute\", \"doute\", \"doute\", \"doute\", \"dragon\", \"dragon\", \"dragon\", \"dragon\", \"dragon\", \"dragon\", \"dragons\", \"dragons\", \"dragons\", \"dragons\", \"dragons\", \"dragons\", \"drogo\", \"drogo\", \"drogo\", \"droit\", \"droit\", \"droit\", \"droit\", \"droit\", \"droit\", \"droit\", \"droit\", \"droit\", \"dubbing\", \"dubbing\", \"dure\", \"dure\", \"dure\", \"dure\", \"dure\", \"dure\", \"dure\", \"dure\", \"dure\", \"eau\", \"eau\", \"eau\", \"eau\", \"eau\", \"eau\", \"eau\", \"eau\", \"eau\", \"eau\", \"echappe\", \"echappe\", \"echappe\", \"echappe\", \"echappe\", \"echappe\", \"echappe\", \"echappe\", \"ecouter\", \"ecouter\", \"ecouter\", \"ecouter\", \"ecuyer\", \"ecuyer\", \"ecuyer\", \"ecuyer\", \"ecuyer\", \"ecuyer\", \"eddard\", \"eddard\", \"eddard\", \"eddard\", \"eddard\", \"eddard\", \"emmene\", \"emmene\", \"emmene\", \"emmene\", \"emmene\", \"emmene\", \"emmene\", \"emmene\", \"emmene\", \"emmene\", \"emmenez\", \"emmenez\", \"emmenez\", \"emmenez\", \"emmenez\", \"emmenez\", \"emmenez\", \"emmenez\", \"enfant\", \"enfant\", \"enfant\", \"enfant\", \"enfant\", \"enfant\", \"enfant\", \"enfant\", \"enfant\", \"enfant\", \"enfant\", \"enfants\", \"enfants\", \"enfants\", \"enfants\", \"enfants\", \"enfants\", \"enfants\", \"enfants\", \"enfants\", \"enfants\", \"enfants\", \"enfants\", \"enfants\", \"enfants\", \"entendre\", \"entendre\", \"entendre\", \"entendre\", \"entendre\", \"entendre\", \"entendre\", \"entends\", \"entends\", \"entends\", \"entends\", \"entends\", \"entends\", \"entrer\", \"entrer\", \"entrer\", \"entrer\", \"entrer\", \"entrer\", \"entrer\", \"envie\", \"envie\", \"envie\", \"envie\", \"envie\", \"envie\", \"envie\", \"envie\", \"epee\", \"epee\", \"epee\", \"epee\", \"epee\", \"epee\", \"epee\", \"epee\", \"epee\", \"epee\", \"epee\", \"epee\", \"epee\", \"epee\", \"epees\", \"epees\", \"epees\", \"epees\", \"epees\", \"epees\", \"epees\", \"epoux\", \"epoux\", \"epoux\", \"epoux\", \"epoux\", \"epoux\", \"epoux\", \"esclaves\", \"esclaves\", \"esclaves\", \"esclaves\", \"esclaves\", \"esclaves\", \"esclaves\", \"espere\", \"espere\", \"espere\", \"espere\", \"espere\", \"espere\", \"espere\", \"espere\", \"espere\", \"essaye\", \"essaye\", \"essaye\", \"essaye\", \"essaye\", \"essaye\", \"ete\", \"ete\", \"ete\", \"ete\", \"ete\", \"ete\", \"ete\", \"ete\", \"ete\", \"ete\", \"ete\", \"ete\", \"ete\", \"ete\", \"ete\", \"etes\", \"etes\", \"etes\", \"etes\", \"etes\", \"etes\", \"etes\", \"etes\", \"etes\", \"etes\", \"etes\", \"etes\", \"etes\", \"etes\", \"etes\", \"excuses\", \"excuses\", \"excuses\", \"excuses\", \"excuses\", \"excuses\", \"excusez\", \"excusez\", \"excusez\", \"excusez\", \"exige\", \"exige\", \"exige\", \"exige\", \"exige\", \"exige\", \"experience\", \"experience\", \"experience\", \"experience\", \"experience\", \"experience\", \"experience\", \"facile\", \"facile\", \"facile\", \"facile\", \"facile\", \"facile\", \"faim\", \"faim\", \"faim\", \"faim\", \"faim\", \"faim\", \"faim\", \"faire\", \"faire\", \"faire\", \"faire\", \"faire\", \"faire\", \"faire\", \"faire\", \"faire\", \"faire\", \"faire\", \"faire\", \"faire\", \"faire\", \"faire\", \"faisait\", \"faisait\", \"faisait\", \"faisait\", \"faisait\", \"faites\", \"faites\", \"faites\", \"faites\", \"faites\", \"faites\", \"faites\", \"faites\", \"faites\", \"faites\", \"faites\", \"faites\", \"faites\", \"faites\", \"faites\", \"famille\", \"famille\", \"famille\", \"famille\", \"famille\", \"famille\", \"famille\", \"famille\", \"famille\", \"famille\", \"famille\", \"faut\", \"faut\", \"faut\", \"faut\", \"faut\", \"faut\", \"faut\", \"faut\", \"faut\", \"faut\", \"faut\", \"faut\", \"faut\", \"faut\", \"faut\", \"faux\", \"faux\", \"faux\", \"faux\", \"faux\", \"faux\", \"femme\", \"femme\", \"femme\", \"femme\", \"femme\", \"femme\", \"femme\", \"femme\", \"femme\", \"femme\", \"femme\", \"femme\", \"fer\", \"fer\", \"fer\", \"fer\", \"fer\", \"fer\", \"fer\", \"fer\", \"fer\", \"fer\", \"ferait\", \"ferait\", \"ferait\", \"ferait\", \"ferait\", \"ferait\", \"ferme\", \"ferme\", \"ferme\", \"ferme\", \"ferme\", \"ferme\", \"ferme\", \"ferme\", \"fille\", \"fille\", \"fille\", \"fille\", \"fille\", \"fille\", \"fille\", \"fille\", \"fille\", \"fille\", \"fille\", \"fille\", \"fille\", \"fille\", \"filles\", \"filles\", \"filles\", \"filles\", \"filles\", \"filles\", \"filles\", \"filles\", \"filles\", \"filles\", \"filles\", \"filles\", \"fils\", \"fils\", \"fils\", \"fils\", \"fils\", \"fils\", \"fils\", \"fils\", \"fils\", \"fils\", \"fils\", \"fils\", \"fils\", \"fils\", \"fils\", \"fini\", \"fini\", \"fini\", \"fini\", \"fini\", \"fini\", \"fini\", \"fini\", \"flammes\", \"flammes\", \"flammes\", \"flammes\", \"flammes\", \"flammes\", \"flammes\", \"flotte\", \"flotte\", \"flotte\", \"flotte\", \"flotte\", \"flotte\", \"flotte\", \"foi\", \"foi\", \"foi\", \"foi\", \"foi\", \"foi\", \"foi\", \"fois\", \"fois\", \"fois\", \"fois\", \"fois\", \"fois\", \"fois\", \"fois\", \"fois\", \"fois\", \"fois\", \"fois\", \"fois\", \"fois\", \"fois\", \"fort\", \"fort\", \"fort\", \"fort\", \"fort\", \"fort\", \"fort\", \"fort\", \"fort\", \"fort\", \"fort\", \"fortune\", \"fortune\", \"fortune\", \"fortune\", \"fortune\", \"fou\", \"fou\", \"fou\", \"fou\", \"fou\", \"fou\", \"fou\", \"fou\", \"fou\", \"fou\", \"frappe\", \"frappe\", \"frappe\", \"frappe\", \"frappe\", \"frappe\", \"frappe\", \"frere\", \"frere\", \"frere\", \"frere\", \"frere\", \"frere\", \"frere\", \"frere\", \"frere\", \"frere\", \"frere\", \"frere\", \"frere\", \"frere\", \"frere\", \"freres\", \"freres\", \"freres\", \"freres\", \"freres\", \"freres\", \"freres\", \"freres\", \"frey\", \"frey\", \"frey\", \"frey\", \"frey\", \"frey\", \"frey\", \"frey\", \"fui\", \"fui\", \"fui\", \"fui\", \"fui\", \"fui\", \"garcon\", \"garcon\", \"garcon\", \"garcon\", \"garcon\", \"garcon\", \"garcon\", \"garcon\", \"garcon\", \"garcon\", \"garcon\", \"garcons\", \"garcons\", \"garcons\", \"garcons\", \"garcons\", \"garcons\", \"garcons\", \"garcons\", \"garde\", \"garde\", \"garde\", \"garde\", \"garde\", \"garde\", \"garde\", \"garde\", \"garde\", \"garde\", \"garde\", \"garde\", \"gardes\", \"gardes\", \"gardes\", \"gardes\", \"gardes\", \"gardes\", \"gardes\", \"genou\", \"genou\", \"genou\", \"genou\", \"genou\", \"genou\", \"genou\", \"gentil\", \"gentil\", \"gentil\", \"gentil\", \"gentil\", \"gloire\", \"gloire\", \"gloire\", \"gloire\", \"gloire\", \"gloire\", \"gloire\", \"gloire\", \"gloire\", \"gloire\", \"gouverneur\", \"gouverneur\", \"gouverneur\", \"gouverneur\", \"grand\", \"grand\", \"grand\", \"grand\", \"grand\", \"grand\", \"grand\", \"grand\", \"grand\", \"grand\", \"grand\", \"grand\", \"grand\", \"grand\", \"grand\", \"grandi\", \"grandi\", \"grandi\", \"grandi\", \"grandi\", \"grandi\", \"grands\", \"grands\", \"grands\", \"grands\", \"grands\", \"grands\", \"grands\", \"greyjoy\", \"greyjoy\", \"greyjoy\", \"greyjoy\", \"greyjoy\", \"greyjoy\", \"greyjoy\", \"greyjoy\", \"guere\", \"guere\", \"guere\", \"guere\", \"guere\", \"guere\", \"guerre\", \"guerre\", \"guerre\", \"guerre\", \"guerre\", \"guerre\", \"guerre\", \"guerre\", \"guerre\", \"guerre\", \"guerre\", \"guerre\", \"harrenhal\", \"harrenhal\", \"harrenhal\", \"harrenhal\", \"harrenhal\", \"harrenhal\", \"hautjardin\", \"hautjardin\", \"hautjardin\", \"hautjardin\", \"hautjardin\", \"heritier\", \"heritier\", \"heritier\", \"heritier\", \"heritier\", \"heritier\", \"heritier\", \"heritier\", \"heros\", \"heros\", \"heros\", \"heros\", \"heros\", \"heureuse\", \"heureuse\", \"heureuse\", \"heureuse\", \"heureuse\", \"histoires\", \"histoires\", \"histoires\", \"histoires\", \"histoires\", \"histoires\", \"hiver\", \"hiver\", \"hiver\", \"hiver\", \"hiver\", \"hiver\", \"hiver\", \"hiver\", \"hiver\", \"hiver\", \"hodor\", \"hodor\", \"hodor\", \"hodor\", \"homme\", \"homme\", \"homme\", \"homme\", \"homme\", \"homme\", \"homme\", \"homme\", \"homme\", \"homme\", \"homme\", \"homme\", \"homme\", \"homme\", \"hommes\", \"hommes\", \"hommes\", \"hommes\", \"hommes\", \"hommes\", \"hommes\", \"hommes\", \"hommes\", \"hommes\", \"hommes\", \"hommes\", \"hommes\", \"hommes\", \"hommes\", \"honneur\", \"honneur\", \"honneur\", \"honneur\", \"honneur\", \"honneur\", \"honneur\", \"honneur\", \"honneur\", \"honneur\", \"honneur\", \"honneur\", \"honneur\", \"ici\", \"ici\", \"ici\", \"ici\", \"ici\", \"ici\", \"ici\", \"ici\", \"ici\", \"ici\", \"ici\", \"ici\", \"ici\", \"ici\", \"ici\", \"idiote\", \"idiote\", \"idiote\", \"idiote\", \"idiote\", \"idiote\", \"iles\", \"iles\", \"iles\", \"iles\", \"immacules\", \"immacules\", \"immacules\", \"immacules\", \"importance\", \"importance\", \"importance\", \"importance\", \"importance\", \"importance\", \"instant\", \"instant\", \"instant\", \"instant\", \"instant\", \"instant\", \"instant\", \"instant\", \"interieur\", \"interieur\", \"interieur\", \"interieur\", \"interieur\", \"interieur\", \"interieur\", \"inutile\", \"inutile\", \"inutile\", \"inutile\", \"inutile\", \"inutile\", \"inutile\", \"inutile\", \"inutile\", \"inutile\", \"ira\", \"ira\", \"ira\", \"ira\", \"ira\", \"ira\", \"ira\", \"jaime\", \"jaime\", \"jaime\", \"jaime\", \"jaime\", \"jaime\", \"jaime\", \"jaime\", \"jaime\", \"jaime\", \"jaime\", \"jaime\", \"jaime\", \"jamais\", \"jamais\", \"jamais\", \"jamais\", \"jamais\", \"jamais\", \"jamais\", \"jamais\", \"jamais\", \"jamais\", \"jamais\", \"jamais\", \"jamais\", \"jamais\", \"jamais\", \"jeu\", \"jeu\", \"jeu\", \"jeu\", \"jeunes\", \"jeunes\", \"jeunes\", \"jeunes\", \"jeunes\", \"jeunes\", \"jeunes\", \"joffrey\", \"joffrey\", \"joffrey\", \"joffrey\", \"joffrey\", \"joffrey\", \"joffrey\", \"joffrey\", \"joffrey\", \"joffrey\", \"joie\", \"joie\", \"joie\", \"joie\", \"joie\", \"joie\", \"jon\", \"jon\", \"jon\", \"jon\", \"jon\", \"jon\", \"jon\", \"jon\", \"jon\", \"jorah\", \"jorah\", \"jorah\", \"jorah\", \"jorah\", \"joue\", \"joue\", \"joue\", \"joue\", \"joue\", \"joue\", \"joue\", \"jouer\", \"jouer\", \"jouer\", \"jouer\", \"jouer\", \"jouer\", \"journee\", \"journee\", \"journee\", \"journee\", \"journee\", \"justice\", \"justice\", \"justice\", \"justice\", \"justice\", \"justice\", \"khal\", \"khal\", \"khaleesi\", \"khaleesi\", \"khaleesi\", \"khaleesi\", \"khaleesi\", \"lady\", \"lady\", \"lady\", \"lady\", \"lady\", \"lady\", \"lady\", \"lady\", \"lady\", \"lady\", \"lady\", \"lady\", \"lady\", \"laisse\", \"laisse\", \"laisse\", \"laisse\", \"laisse\", \"laisse\", \"laisse\", \"laisse\", \"laisse\", \"laisse\", \"laisserai\", \"laisserai\", \"laisserai\", \"laisserai\", \"laisserai\", \"laisserai\", \"laisserai\", \"lame\", \"lame\", \"lame\", \"lame\", \"lame\", \"langue\", \"langue\", \"langue\", \"langue\", \"langue\", \"langue\", \"langue\", \"lannister\", \"lannister\", \"lannister\", \"lannister\", \"lannister\", \"lannister\", \"lannister\", \"lannister\", \"lannister\", \"lannister\", \"lannister\", \"lannister\", \"lannister\", \"lannister\", \"lannister\", \"legitime\", \"legitime\", \"legitime\", \"legitime\", \"legitime\", \"legitime\", \"legitime\", \"libere\", \"libere\", \"libere\", \"libere\", \"libere\", \"libere\", \"libere\", \"libere\", \"libere\", \"liberer\", \"liberer\", \"liberer\", \"liberer\", \"liberer\", \"limier\", \"limier\", \"limier\", \"limier\", \"limier\", \"limier\", \"lion\", \"lion\", \"lion\", \"lion\", \"lion\", \"lion\", \"lion\", \"lion\", \"lire\", \"lire\", \"lire\", \"lit\", \"lit\", \"lit\", \"lit\", \"lit\", \"lit\", \"livre\", \"livre\", \"livre\", \"livre\", \"loi\", \"loi\", \"loi\", \"loi\", \"loi\", \"loi\", \"loi\", \"long\", \"long\", \"long\", \"long\", \"long\", \"long\", \"long\", \"long\", \"longue\", \"longue\", \"longue\", \"longue\", \"longue\", \"loras\", \"loras\", \"loras\", \"lord\", \"lord\", \"lord\", \"lord\", \"lord\", \"lord\", \"lord\", \"lord\", \"lord\", \"lord\", \"lord\", \"lord\", \"lord\", \"lord\", \"loup\", \"loup\", \"loup\", \"loup\", \"loup\", \"loup\", \"loup\", \"loup\", \"loyal\", \"loyal\", \"loyal\", \"loyal\", \"loyal\", \"lumiere\", \"lumiere\", \"lumiere\", \"lumiere\", \"lumiere\", \"lumiere\", \"lumiere\", \"lumiere\", \"lumiere\", \"lune\", \"lune\", \"lune\", \"lune\", \"lune\", \"lune\", \"lune\", \"lune\", \"lutin\", \"lutin\", \"lutin\", \"lutin\", \"lutin\", \"lutin\", \"madame\", \"madame\", \"madame\", \"madame\", \"madame\", \"madame\", \"madame\", \"madame\", \"madame\", \"madame\", \"madame\", \"magie\", \"magie\", \"magie\", \"magie\", \"magie\", \"magie\", \"main\", \"main\", \"main\", \"main\", \"main\", \"main\", \"main\", \"main\", \"main\", \"main\", \"main\", \"main\", \"main\", \"main\", \"maison\", \"maison\", \"maison\", \"maison\", \"maison\", \"maison\", \"maison\", \"maison\", \"maison\", \"maison\", \"maison\", \"maison\", \"maison\", \"maisons\", \"maisons\", \"maisons\", \"maisons\", \"maisons\", \"maisons\", \"maitre\", \"maitre\", \"maitre\", \"maitre\", \"maitre\", \"maitre\", \"maitre\", \"maitre\", \"maitre\", \"maitre\", \"maitre\", \"maitre\", \"maitres\", \"maitres\", \"maitres\", \"maitres\", \"maitres\", \"maitres\", \"maitres\", \"majeste\", \"majeste\", \"majeste\", \"majeste\", \"majeste\", \"majeste\", \"majeste\", \"majeste\", \"majeste\", \"majeste\", \"majeste\", \"majeste\", \"mance\", \"mance\", \"mance\", \"mance\", \"manger\", \"manger\", \"manger\", \"manger\", \"manger\", \"manger\", \"manger\", \"marcher\", \"marcher\", \"marcher\", \"marcher\", \"marcheurs\", \"marcheurs\", \"marcheurs\", \"margaery\", \"margaery\", \"margaery\", \"mari\", \"mari\", \"mari\", \"mari\", \"mari\", \"mari\", \"mari\", \"mari\", \"mari\", \"mariage\", \"mariage\", \"mariage\", \"mariage\", \"mariage\", \"mariage\", \"mariage\", \"matin\", \"matin\", \"matin\", \"matin\", \"matin\", \"matin\", \"matin\", \"matin\", \"matin\", \"maville\", \"maville\", \"meereen\", \"meereen\", \"meereen\", \"meereen\", \"menard\", \"mene\", \"mene\", \"mene\", \"mene\", \"mene\", \"mene\", \"mene\", \"mer\", \"mer\", \"mer\", \"mer\", \"mer\", \"mer\", \"mer\", \"mer\", \"mer\", \"mer\", \"mer\", \"mere\", \"mere\", \"mere\", \"mere\", \"mere\", \"mere\", \"mere\", \"mere\", \"mere\", \"mere\", \"mere\", \"mere\", \"mere\", \"mere\", \"mere\", \"message\", \"message\", \"message\", \"message\", \"message\", \"message\", \"message\", \"message\", \"message\", \"message\", \"messire\", \"messire\", \"messire\", \"messire\", \"messire\", \"messire\", \"messire\", \"messire\", \"messire\", \"messire\", \"messire\", \"messire\", \"messire\", \"messires\", \"messires\", \"messires\", \"messires\", \"messires\", \"messires\", \"mestre\", \"mestre\", \"mestre\", \"mestre\", \"mestre\", \"mestre\", \"mestre\", \"mestre\", \"mestre\", \"mestre\", \"mestre\", \"mestre\", \"meurent\", \"meurent\", \"meurent\", \"meurent\", \"meurtre\", \"meurtre\", \"meurtre\", \"meurtre\", \"meurtre\", \"meurtre\", \"mieux\", \"mieux\", \"mieux\", \"mieux\", \"mieux\", \"mieux\", \"mieux\", \"mieux\", \"mieux\", \"mieux\", \"mieux\", \"mieux\", \"mieux\", \"mieux\", \"mieux\", \"monde\", \"monde\", \"monde\", \"monde\", \"monde\", \"monde\", \"monde\", \"monde\", \"monde\", \"monde\", \"monde\", \"monde\", \"monde\", \"monde\", \"monde\", \"monseigneur\", \"monseigneur\", \"monseigneur\", \"monseigneur\", \"monseigneur\", \"monseigneur\", \"monseigneur\", \"monseigneur\", \"monstre\", \"monstre\", \"monstre\", \"monstre\", \"monstre\", \"monstre\", \"monstre\", \"monstre\", \"montagne\", \"montagne\", \"montagne\", \"montagne\", \"montagne\", \"montagne\", \"montagne\", \"monter\", \"monter\", \"monter\", \"monter\", \"monter\", \"monter\", \"monter\", \"montre\", \"montre\", \"montre\", \"montre\", \"montre\", \"montre\", \"mormont\", \"mormont\", \"mormont\", \"mormont\", \"mormont\", \"mormont\", \"mormont\", \"mort\", \"mort\", \"mort\", \"mort\", \"mort\", \"mort\", \"mort\", \"mort\", \"mort\", \"mort\", \"mort\", \"mort\", \"mort\", \"mort\", \"morts\", \"morts\", \"morts\", \"morts\", \"morts\", \"morts\", \"morts\", \"morts\", \"morts\", \"morts\", \"morts\", \"morts\", \"morts\", \"mourir\", \"mourir\", \"mourir\", \"mourir\", \"mourir\", \"mourir\", \"mourir\", \"mourir\", \"mourir\", \"mourir\", \"mourir\", \"mourir\", \"mourir\", \"mourir\", \"mur\", \"mur\", \"mur\", \"mur\", \"mur\", \"mur\", \"mur\", \"mur\", \"murs\", \"murs\", \"murs\", \"murs\", \"murs\", \"murs\", \"nain\", \"nain\", \"nain\", \"nain\", \"nain\", \"navire\", \"navire\", \"navire\", \"navire\", \"navire\", \"navire\", \"navire\", \"navire\", \"navires\", \"navires\", \"navires\", \"navires\", \"navires\", \"navires\", \"nera\", \"nera\", \"nera\", \"nera\", \"nera\", \"nera\", \"nera\", \"nera\", \"nera\", \"nes\", \"nes\", \"nes\", \"nes\", \"nes\", \"nes\", \"nobles\", \"nobles\", \"nobles\", \"nobles\", \"nobles\", \"nobles\", \"nobles\", \"nobles\", \"nobles\", \"nobles\", \"noir\", \"noir\", \"noir\", \"noir\", \"noir\", \"noir\", \"noir\", \"noir\", \"nom\", \"nom\", \"nom\", \"nom\", \"nom\", \"nom\", \"nom\", \"nom\", \"nom\", \"nom\", \"nom\", \"nom\", \"nom\", \"nombre\", \"nombre\", \"nombre\", \"nombre\", \"nombre\", \"nombre\", \"nomme\", \"nomme\", \"nomme\", \"nomme\", \"nomme\", \"nomme\", \"nord\", \"nord\", \"nord\", \"nord\", \"nord\", \"nord\", \"nord\", \"nord\", \"nord\", \"nord\", \"nord\", \"nord\", \"nord\", \"nordiens\", \"nordiens\", \"nordiens\", \"nordiens\", \"nordiens\", \"nordiens\", \"nourrir\", \"nourrir\", \"nourrir\", \"nourrir\", \"nourrir\", \"nourrir\", \"nourrir\", \"nourrir\", \"nuit\", \"nuit\", \"nuit\", \"nuit\", \"nuit\", \"nuit\", \"nuit\", \"nuit\", \"nuit\", \"nuit\", \"nuit\", \"nuit\", \"nuit\", \"oberyn\", \"oberyn\", \"oberyn\", \"oberyn\", \"offre\", \"offre\", \"offre\", \"offre\", \"offre\", \"offre\", \"offre\", \"offre\", \"offre\", \"ombre\", \"ombre\", \"ombre\", \"ombre\", \"ombre\", \"oncle\", \"oncle\", \"oncle\", \"oncle\", \"oncle\", \"oncle\", \"oncle\", \"oncle\", \"oncle\", \"oncle\", \"or\", \"or\", \"or\", \"or\", \"or\", \"or\", \"or\", \"or\", \"or\", \"or\", \"or\", \"ouest\", \"ouest\", \"ouest\", \"ouest\", \"ouest\", \"ouest\", \"oui\", \"oui\", \"oui\", \"oui\", \"oui\", \"oui\", \"oui\", \"oui\", \"oui\", \"oui\", \"oui\", \"oui\", \"oui\", \"oui\", \"oui\", \"paie\", \"paie\", \"paie\", \"paie\", \"paie\", \"paie\", \"paix\", \"paix\", \"paix\", \"paix\", \"paix\", \"paix\", \"paix\", \"paix\", \"paix\", \"paix\", \"paix\", \"paix\", \"parles\", \"parles\", \"parles\", \"parles\", \"paroles\", \"paroles\", \"paroles\", \"paroles\", \"paroles\", \"paroles\", \"pars\", \"pars\", \"pars\", \"pars\", \"pars\", \"pars\", \"pars\", \"partie\", \"partie\", \"partie\", \"partie\", \"partie\", \"partie\", \"partie\", \"partout\", \"partout\", \"partout\", \"partout\", \"partout\", \"partout\", \"passer\", \"passer\", \"passer\", \"passer\", \"passer\", \"passer\", \"passer\", \"passer\", \"passer\", \"passer\", \"passer\", \"paye\", \"paye\", \"paye\", \"paye\", \"paye\", \"paye\", \"paye\", \"paye\", \"paye\", \"peau\", \"peau\", \"peau\", \"peau\", \"peau\", \"peau\", \"penses\", \"penses\", \"penses\", \"penses\", \"penses\", \"perdre\", \"perdre\", \"perdre\", \"perdre\", \"perdre\", \"pere\", \"pere\", \"pere\", \"pere\", \"pere\", \"pere\", \"pere\", \"pere\", \"pere\", \"pere\", \"pere\", \"pere\", \"pere\", \"pere\", \"pere\", \"petit\", \"petit\", \"petit\", \"petit\", \"petit\", \"petit\", \"petit\", \"petit\", \"petit\", \"petit\", \"petit\", \"petit\", \"petit\", \"petit\", \"petite\", \"petite\", \"petite\", \"petite\", \"petite\", \"petite\", \"petite\", \"petite\", \"petite\", \"petite\", \"petite\", \"petite\", \"petite\", \"petite\", \"petite\", \"peuple\", \"peuple\", \"peuple\", \"peuple\", \"peuple\", \"peuple\", \"peuple\", \"peuple\", \"peuple\", \"peuple\", \"peur\", \"peur\", \"peur\", \"peur\", \"peur\", \"peur\", \"peur\", \"peur\", \"pied\", \"pied\", \"pied\", \"pied\", \"pied\", \"pied\", \"pierre\", \"pierre\", \"pierre\", \"pierre\", \"pierre\", \"pierre\", \"pitie\", \"pitie\", \"pitie\", \"pitie\", \"pitie\", \"pitie\", \"pitie\", \"pitie\", \"pitie\", \"pleine\", \"pleine\", \"pleine\", \"pleine\", \"pleine\", \"pleine\", \"plutot\", \"plutot\", \"plutot\", \"plutot\", \"plutot\", \"plutot\", \"plutot\", \"poison\", \"poison\", \"poison\", \"poison\", \"poison\", \"poison\", \"port\", \"port\", \"port\", \"port\", \"port\", \"port\", \"port\", \"port\", \"port\", \"port\", \"port\", \"porte\", \"porte\", \"porte\", \"porte\", \"porte\", \"porte\", \"porte\", \"porte\", \"porte\", \"porte\", \"porte\", \"porte\", \"porter\", \"porter\", \"porter\", \"porter\", \"porter\", \"porter\", \"porter\", \"porter\", \"porter\", \"portes\", \"portes\", \"portes\", \"portes\", \"portes\", \"portes\", \"portes\", \"portes\", \"portes\", \"portes\", \"portes\", \"pose\", \"pose\", \"pose\", \"pose\", \"position\", \"position\", \"position\", \"position\", \"position\", \"position\", \"pouvoir\", \"pouvoir\", \"pouvoir\", \"pouvoir\", \"pouvoir\", \"pouvoir\", \"pouvoir\", \"pouvoir\", \"pouvoir\", \"premiers\", \"premiers\", \"premiers\", \"premiers\", \"premiers\", \"premiers\", \"premiers\", \"premiers\", \"premiers\", \"premiers\", \"premiers\", \"prend\", \"prend\", \"prend\", \"prend\", \"prend\", \"prends\", \"prends\", \"prends\", \"prends\", \"prends\", \"prends\", \"prends\", \"prends\", \"preparer\", \"preparer\", \"preparer\", \"preparer\", \"preparer\", \"prete\", \"prete\", \"prete\", \"prete\", \"prie\", \"prie\", \"prie\", \"prie\", \"prie\", \"prie\", \"prie\", \"prie\", \"prie\", \"prie\", \"prie\", \"prince\", \"prince\", \"prince\", \"prince\", \"prince\", \"prince\", \"prince\", \"prince\", \"princesse\", \"princesse\", \"princesse\", \"princesse\", \"princesse\", \"princesse\", \"princesse\", \"pris\", \"pris\", \"pris\", \"pris\", \"pris\", \"pris\", \"pris\", \"pris\", \"pris\", \"pris\", \"pris\", \"prix\", \"prix\", \"prix\", \"prix\", \"prix\", \"prix\", \"prix\", \"probleme\", \"probleme\", \"probleme\", \"probleme\", \"probleme\", \"probleme\", \"proces\", \"proces\", \"propre\", \"propre\", \"propre\", \"propre\", \"protecteur\", \"protecteur\", \"protecteur\", \"protecteur\", \"protecteur\", \"protecteur\", \"protecteur\", \"proteger\", \"proteger\", \"proteger\", \"proteger\", \"proteger\", \"proteger\", \"proteger\", \"proteger\", \"proteger\", \"proteger\", \"proteger\", \"proteger\", \"putain\", \"putain\", \"putain\", \"putain\", \"putain\", \"putain\", \"qu\", \"qu\", \"qu\", \"qu\", \"qu\", \"qu\", \"qu\", \"qu\", \"qu\", \"qu\", \"qu\", \"qu\", \"qu\", \"qu\", \"qu\", \"quitte\", \"quitte\", \"quitte\", \"quitte\", \"quitte\", \"quitte\", \"quitte\", \"quitte\", \"quitter\", \"quitter\", \"quitter\", \"quitter\", \"quitter\", \"quitter\", \"quitter\", \"quitter\", \"raison\", \"raison\", \"raison\", \"raison\", \"raison\", \"raison\", \"raison\", \"raison\", \"raison\", \"raison\", \"raison\", \"raison\", \"ramsay\", \"ramsay\", \"rappelez\", \"rappelez\", \"rappelez\", \"rappelez\", \"rappelez\", \"rappelle\", \"rappelle\", \"rappelle\", \"rappelle\", \"rappelle\", \"rappelle\", \"rappelle\", \"real\", \"real\", \"real\", \"real\", \"real\", \"real\", \"real\", \"real\", \"real\", \"real\", \"real\", \"recompense\", \"recompense\", \"recompense\", \"recompense\", \"recompense\", \"recompense\", \"regarde\", \"regarde\", \"regarde\", \"regarde\", \"regarde\", \"regarde\", \"regarde\", \"regarde\", \"regarde\", \"regicide\", \"regicide\", \"regicide\", \"regicide\", \"regicide\", \"regicide\", \"regicide\", \"regicide\", \"regicide\", \"regicide\", \"regne\", \"regne\", \"regne\", \"regne\", \"regne\", \"regne\", \"regner\", \"regner\", \"regner\", \"regner\", \"regner\", \"regner\", \"regrette\", \"regrette\", \"regrette\", \"regrette\", \"regrette\", \"reine\", \"reine\", \"reine\", \"reine\", \"reine\", \"reine\", \"reine\", \"reine\", \"reine\", \"reine\", \"reine\", \"reine\", \"reine\", \"rencontre\", \"rencontre\", \"rencontre\", \"rencontre\", \"rencontre\", \"rencontre\", \"renly\", \"renly\", \"renly\", \"renly\", \"renly\", \"renly\", \"rentre\", \"rentre\", \"rentre\", \"rentre\", \"rentre\", \"rentre\", \"rentre\", \"rentre\", \"retrouver\", \"retrouver\", \"retrouver\", \"retrouver\", \"reve\", \"reve\", \"reve\", \"reve\", \"reve\", \"reve\", \"reve\", \"reve\", \"revient\", \"revient\", \"revient\", \"revient\", \"revient\", \"revient\", \"revient\", \"riche\", \"riche\", \"riche\", \"riche\", \"riche\", \"riche\", \"riche\", \"rickon\", \"rickon\", \"rickon\", \"rickon\", \"robb\", \"robb\", \"robb\", \"robb\", \"robb\", \"robb\", \"robb\", \"robb\", \"robe\", \"robe\", \"robe\", \"robe\", \"robe\", \"robe\", \"robe\", \"robe\", \"robert\", \"robert\", \"robert\", \"robert\", \"robert\", \"robert\", \"robert\", \"robert\", \"robert\", \"robert\", \"robert\", \"roc\", \"roc\", \"roc\", \"roc\", \"roc\", \"roc\", \"roc\", \"roi\", \"roi\", \"roi\", \"roi\", \"roi\", \"roi\", \"roi\", \"roi\", \"roi\", \"roi\", \"roi\", \"roi\", \"roi\", \"roi\", \"roi\", \"rouge\", \"rouge\", \"rouge\", \"rouge\", \"rouge\", \"rouge\", \"rouge\", \"rouge\", \"rouge\", \"rouge\", \"royale\", \"royale\", \"royale\", \"royale\", \"royale\", \"royale\", \"royale\", \"royaume\", \"royaume\", \"royaume\", \"royaume\", \"royaume\", \"royaume\", \"royaume\", \"royaume\", \"royaume\", \"sais\", \"sais\", \"sais\", \"sais\", \"sais\", \"sais\", \"sais\", \"sais\", \"sais\", \"sais\", \"sais\", \"sais\", \"sais\", \"sais\", \"salle\", \"salle\", \"salle\", \"salle\", \"salle\", \"salle\", \"salle\", \"salle\", \"salle\", \"salle\", \"sam\", \"sam\", \"sam\", \"sam\", \"sang\", \"sang\", \"sang\", \"sang\", \"sang\", \"sang\", \"sang\", \"sang\", \"sang\", \"sang\", \"sang\", \"sang\", \"sansa\", \"sansa\", \"sansa\", \"sansa\", \"sansa\", \"sansa\", \"sansa\", \"sansa\", \"sansa\", \"sansa\", \"sauvageons\", \"sauvageons\", \"sauvageons\", \"sauvageons\", \"sauvageons\", \"sauvageons\", \"savent\", \"savent\", \"savent\", \"savent\", \"savent\", \"savent\", \"savent\", \"savez\", \"savez\", \"savez\", \"savez\", \"savez\", \"savez\", \"savez\", \"savez\", \"savez\", \"savez\", \"savez\", \"savez\", \"savoir\", \"savoir\", \"savoir\", \"savoir\", \"savoir\", \"savoir\", \"savoir\", \"savoir\", \"savoir\", \"securite\", \"securite\", \"securite\", \"securite\", \"securite\", \"securite\", \"securite\", \"securite\", \"securite\", \"securite\", \"securite\", \"seigneur\", \"seigneur\", \"seigneur\", \"seigneur\", \"seigneur\", \"seigneur\", \"seigneur\", \"seigneur\", \"seigneur\", \"seigneur\", \"seigneur\", \"seigneurs\", \"seigneurs\", \"seigneurs\", \"seigneurs\", \"seigneurs\", \"seigneurs\", \"seigneurs\", \"seigneurs\", \"seigneurs\", \"sens\", \"sens\", \"sens\", \"sens\", \"sens\", \"sens\", \"sens\", \"sens\", \"septon\", \"septon\", \"septon\", \"septon\", \"septuaire\", \"septuaire\", \"septuaire\", \"septuaire\", \"septuaire\", \"septuaire\", \"septuaire\", \"ser\", \"ser\", \"ser\", \"ser\", \"ser\", \"ser\", \"ser\", \"ser\", \"ser\", \"ser\", \"ser\", \"ser\", \"ser\", \"ser\", \"serais\", \"serais\", \"serais\", \"serais\", \"serais\", \"serais\", \"serais\", \"serais\", \"serais\", \"serais\", \"serment\", \"serment\", \"serment\", \"serment\", \"serment\", \"serment\", \"serment\", \"servi\", \"servi\", \"servi\", \"servi\", \"servi\", \"servi\", \"servi\", \"servi\", \"service\", \"service\", \"service\", \"service\", \"service\", \"service\", \"service\", \"servir\", \"servir\", \"servir\", \"servir\", \"servir\", \"servir\", \"servir\", \"servir\", \"servir\", \"servir\", \"seuls\", \"seuls\", \"seuls\", \"seuls\", \"seuls\", \"seuls\", \"seuls\", \"siege\", \"siege\", \"siege\", \"siege\", \"siege\", \"siege\", \"siege\", \"siege\", \"siege\", \"signifie\", \"signifie\", \"signifie\", \"signifie\", \"signifie\", \"simple\", \"simple\", \"simple\", \"simple\", \"simple\", \"sire\", \"sire\", \"sire\", \"sire\", \"sire\", \"sire\", \"sire\", \"sire\", \"sire\", \"sire\", \"snow\", \"snow\", \"snow\", \"snow\", \"snow\", \"snow\", \"snow\", \"sois\", \"sois\", \"sois\", \"sois\", \"sois\", \"sois\", \"sois\", \"sois\", \"soleil\", \"soleil\", \"soleil\", \"soleil\", \"souhaite\", \"souhaite\", \"souhaite\", \"souhaite\", \"souhaite\", \"souhaite\", \"souhaite\", \"souhaite\", \"souviens\", \"souviens\", \"souviens\", \"souviens\", \"souviens\", \"souviens\", \"souviens\", \"souviens\", \"souviens\", \"souviens\", \"stannis\", \"stannis\", \"stannis\", \"stannis\", \"stannis\", \"stannis\", \"stannis\", \"stannis\", \"stannis\", \"stannis\", \"stannis\", \"stannis\", \"stark\", \"stark\", \"stark\", \"stark\", \"stark\", \"stark\", \"stark\", \"stark\", \"stark\", \"stark\", \"stark\", \"stark\", \"stark\", \"stark\", \"sud\", \"sud\", \"sud\", \"sud\", \"sud\", \"sud\", \"sud\", \"sud\", \"sud\", \"sud\", \"suivez\", \"suivez\", \"suivez\", \"suivez\", \"suivez\", \"surs\", \"surs\", \"surs\", \"surs\", \"surs\", \"surs\", \"surs\", \"survecu\", \"survecu\", \"survecu\", \"survecu\", \"tante\", \"tante\", \"tante\", \"tante\", \"tard\", \"tard\", \"tard\", \"tard\", \"tard\", \"tard\", \"tard\", \"tard\", \"tard\", \"targaryen\", \"targaryen\", \"targaryen\", \"targaryen\", \"targaryen\", \"targaryen\", \"targaryen\", \"targaryen\", \"targaryen\", \"tarly\", \"tarly\", \"tarly\", \"tarly\", \"tarly\", \"temps\", \"temps\", \"temps\", \"temps\", \"temps\", \"temps\", \"temps\", \"temps\", \"temps\", \"temps\", \"temps\", \"temps\", \"temps\", \"tenebres\", \"tenebres\", \"tenebres\", \"tenebres\", \"tenebres\", \"tenebres\", \"tenu\", \"tenu\", \"tenu\", \"tenu\", \"theon\", \"theon\", \"theon\", \"theon\", \"theon\", \"theon\", \"tient\", \"tient\", \"tient\", \"tient\", \"tient\", \"titrage\", \"titrage\", \"tommen\", \"tommen\", \"tommen\", \"tommen\", \"tommen\", \"tommen\", \"tommen\", \"tommen\", \"tort\", \"tort\", \"tort\", \"tort\", \"tort\", \"tort\", \"tort\", \"tort\", \"tot\", \"tot\", \"tot\", \"tot\", \"tot\", \"touche\", \"touche\", \"touche\", \"touche\", \"touche\", \"touche\", \"touche\", \"tour\", \"tour\", \"tour\", \"tour\", \"tour\", \"tour\", \"tour\", \"tour\", \"tour\", \"tour\", \"trahison\", \"trahison\", \"trahison\", \"trahison\", \"trahison\", \"trahison\", \"trahison\", \"trahison\", \"trahison\", \"traitre\", \"traitre\", \"traitre\", \"traitre\", \"traitre\", \"traitre\", \"traitre\", \"travail\", \"travail\", \"travail\", \"travail\", \"travail\", \"travail\", \"travail\", \"travail\", \"travail\", \"travail\", \"triste\", \"triste\", \"triste\", \"triste\", \"trone\", \"trone\", \"trone\", \"trone\", \"trone\", \"trone\", \"trone\", \"trone\", \"trone\", \"trouves\", \"trouves\", \"trouves\", \"trouves\", \"tue\", \"tue\", \"tue\", \"tue\", \"tue\", \"tue\", \"tue\", \"tue\", \"tue\", \"tue\", \"tue\", \"tue\", \"tue\", \"tue\", \"tue\", \"tuer\", \"tuer\", \"tuer\", \"tuer\", \"tuer\", \"tuer\", \"tuer\", \"tuer\", \"tuer\", \"tuer\", \"tuer\", \"tuer\", \"tuer\", \"tuer\", \"tully\", \"tully\", \"tully\", \"tully\", \"tully\", \"typhon\", \"typhon\", \"tyrell\", \"tyrell\", \"tyrell\", \"tyrell\", \"tyrell\", \"tyrion\", \"tyrion\", \"tyrion\", \"tyrion\", \"tyrion\", \"tyrion\", \"tyrion\", \"tyrion\", \"tyrion\", \"tyrion\", \"tyrion\", \"tywin\", \"tywin\", \"tywin\", \"tywin\", \"tywin\", \"tywin\", \"tywin\", \"tywin\", \"vaincre\", \"vaincre\", \"vaincre\", \"vaincre\", \"vaincre\", \"vaincre\", \"vaincre\", \"valyrien\", \"valyrien\", \"valyrien\", \"valyrien\", \"valyrien\", \"valyrien\", \"valyrien\", \"valyrien\", \"venez\", \"venez\", \"venez\", \"venez\", \"venez\", \"venez\", \"venez\", \"venez\", \"venez\", \"venez\", \"venez\", \"venez\", \"venger\", \"venger\", \"venger\", \"venger\", \"venger\", \"venir\", \"venir\", \"venir\", \"venir\", \"venir\", \"venir\", \"venir\", \"venir\", \"venir\", \"venir\", \"venir\", \"venir\", \"venu\", \"venu\", \"venu\", \"venu\", \"venu\", \"venu\", \"venu\", \"venu\", \"venu\", \"venu\", \"venu\", \"vere\", \"vere\", \"veritable\", \"veritable\", \"veritable\", \"veritable\", \"veritable\", \"veritable\", \"verite\", \"verite\", \"verite\", \"verite\", \"verite\", \"verite\", \"verite\", \"verite\", \"verite\", \"verite\", \"verite\", \"verite\", \"verite\", \"veut\", \"veut\", \"veut\", \"veut\", \"veut\", \"veut\", \"veut\", \"veut\", \"veut\", \"veut\", \"veut\", \"veut\", \"veux\", \"veux\", \"veux\", \"veux\", \"veux\", \"veux\", \"veux\", \"veux\", \"veux\", \"veux\", \"veux\", \"veux\", \"veux\", \"veux\", \"vie\", \"vie\", \"vie\", \"vie\", \"vie\", \"vie\", \"vie\", \"vie\", \"vie\", \"vie\", \"vie\", \"vie\", \"vie\", \"vie\", \"vie\", \"vieil\", \"vieil\", \"vieil\", \"vieil\", \"vieil\", \"vieil\", \"vieil\", \"viens\", \"viens\", \"viens\", \"viens\", \"viens\", \"viens\", \"viens\", \"viens\", \"viens\", \"viens\", \"viens\", \"viens\", \"vieux\", \"vieux\", \"vieux\", \"vieux\", \"vieux\", \"vieux\", \"vieux\", \"vieux\", \"vieux\", \"vieux\", \"vieux\", \"ville\", \"ville\", \"ville\", \"ville\", \"ville\", \"ville\", \"ville\", \"ville\", \"ville\", \"visage\", \"visage\", \"visage\", \"visage\", \"visage\", \"visage\", \"visage\", \"visage\", \"vit\", \"vit\", \"vit\", \"vit\", \"vit\", \"vivant\", \"vivant\", \"vivant\", \"vivant\", \"vivant\", \"vivesaigues\", \"vivesaigues\", \"vivesaigues\", \"vivesaigues\", \"vivesaigues\", \"vivesaigues\", \"vivesaigues\", \"vivesaigues\", \"vivesaigues\", \"voila\", \"voila\", \"voila\", \"voila\", \"voila\", \"voila\", \"voila\", \"voila\", \"voila\", \"voila\", \"voila\", \"voila\", \"voila\", \"voila\", \"voir\", \"voir\", \"voir\", \"voir\", \"voir\", \"voir\", \"voir\", \"voir\", \"voir\", \"voir\", \"voir\", \"voir\", \"voulait\", \"voulait\", \"voulait\", \"voulait\", \"voulait\", \"voulait\", \"voulait\", \"voulait\", \"voulait\", \"voulait\", \"voulait\", \"voulait\", \"voulait\", \"voulez\", \"voulez\", \"voulez\", \"voulez\", \"voulez\", \"voulez\", \"voulez\", \"voulez\", \"voulez\", \"voulez\", \"voulez\", \"voulez\", \"voulez\", \"voulez\", \"voulu\", \"voulu\", \"voulu\", \"voulu\", \"voulu\", \"voulu\", \"voulu\", \"voulu\", \"voulu\", \"voulu\", \"voulu\", \"voulu\", \"vraiment\", \"vraiment\", \"vraiment\", \"vraiment\", \"vraiment\", \"vraiment\", \"vraiment\", \"vraiment\", \"vraiment\", \"vraiment\", \"vraiment\", \"vraiment\", \"vraiment\", \"vux\", \"vux\", \"vux\", \"vux\", \"vux\", \"walder\", \"walder\", \"walder\", \"walder\", \"walder\", \"westeros\", \"westeros\", \"westeros\", \"westeros\", \"westeros\", \"westeros\", \"westeros\", \"winterfell\", \"winterfell\", \"winterfell\", \"winterfell\", \"winterfell\", \"winterfell\", \"winterfell\", \"winterfell\", \"winterfell\", \"winterfell\", \"winterfell\", \"winterfell\"]}, \"R\": 30, \"lambda.step\": 0.01, \"plot.opts\": {\"xlab\": \"PC1\", \"ylab\": \"PC2\"}, \"topic.order\": [9, 13, 11, 1, 8, 12, 3, 4, 7, 10, 2, 15, 6, 5, 14]};\n",
       "\n",
       "function LDAvis_load_lib(url, callback){\n",
       "  var s = document.createElement('script');\n",
       "  s.src = url;\n",
       "  s.async = true;\n",
       "  s.onreadystatechange = s.onload = callback;\n",
       "  s.onerror = function(){console.warn(\"failed to load library \" + url);};\n",
       "  document.getElementsByTagName(\"head\")[0].appendChild(s);\n",
       "}\n",
       "\n",
       "if(typeof(LDAvis) !== \"undefined\"){\n",
       "   // already loaded: just create the visualization\n",
       "   !function(LDAvis){\n",
       "       new LDAvis(\"#\" + \"ldavis_el359301402216080722006781078604\", ldavis_el359301402216080722006781078604_data);\n",
       "   }(LDAvis);\n",
       "}else if(typeof define === \"function\" && define.amd){\n",
       "   // require.js is available: use it to load d3/LDAvis\n",
       "   require.config({paths: {d3: \"https://cdnjs.cloudflare.com/ajax/libs/d3/3.5.5/d3.min\"}});\n",
       "   require([\"d3\"], function(d3){\n",
       "      window.d3 = d3;\n",
       "      LDAvis_load_lib(\"https://cdn.rawgit.com/bmabey/pyLDAvis/files/ldavis.v1.0.0.js\", function(){\n",
       "        new LDAvis(\"#\" + \"ldavis_el359301402216080722006781078604\", ldavis_el359301402216080722006781078604_data);\n",
       "      });\n",
       "    });\n",
       "}else{\n",
       "    // require.js not available: dynamically load d3 & LDAvis\n",
       "    LDAvis_load_lib(\"https://cdnjs.cloudflare.com/ajax/libs/d3/3.5.5/d3.min.js\", function(){\n",
       "         LDAvis_load_lib(\"https://cdn.rawgit.com/bmabey/pyLDAvis/files/ldavis.v1.0.0.js\", function(){\n",
       "                 new LDAvis(\"#\" + \"ldavis_el359301402216080722006781078604\", ldavis_el359301402216080722006781078604_data);\n",
       "            })\n",
       "         });\n",
       "}\n",
       "</script>"
      ],
      "text/plain": [
       "<IPython.core.display.HTML object>"
      ]
     },
     "execution_count": 337,
     "metadata": {},
     "output_type": "execute_result"
    }
   ],
   "source": [
    "pyLDAvis.display(LDAvis_prepared)"
   ]
  },
  {
   "cell_type": "markdown",
   "metadata": {},
   "source": [
    "<div class=\"alert alert-info\" role=\"alert\">\n",
    "    <p><b>Exercice :</b> Faire varier le paramètre Lambda et justifier de son impact.</p>\n",
    "</div>    "
   ]
  },
  {
   "cell_type": "code",
   "execution_count": null,
   "metadata": {},
   "outputs": [],
   "source": []
  },
  {
   "cell_type": "markdown",
   "metadata": {},
   "source": [
    "<div class=\"alert alert-info\" role=\"alert\">\n",
    "    <p><b>Exercice :</b> Faire varier le préprocessing,en particulier la stemmatization</p>\n",
    "</div>    "
   ]
  },
  {
   "cell_type": "code",
   "execution_count": null,
   "metadata": {},
   "outputs": [],
   "source": []
  },
  {
   "cell_type": "markdown",
   "metadata": {},
   "source": [
    "<div class=\"alert alert-info\" role=\"alert\">\n",
    "    <p><b>Exercice :</b> Etudier l'impact des Stop Words sur les topics</p>\n",
    "</div>    "
   ]
  },
  {
   "cell_type": "code",
   "execution_count": null,
   "metadata": {},
   "outputs": [],
   "source": []
  },
  {
   "cell_type": "code",
   "execution_count": null,
   "metadata": {},
   "outputs": [],
   "source": []
  },
  {
   "cell_type": "markdown",
   "metadata": {},
   "source": [
    "Sources :\n",
    "https://medium.com/analytics-vidhya/topic-modeling-using-lda-and-gibbs-sampling-explained-49d49b3d1045\n",
    "https://towardsdatascience.com/light-on-math-machine-learning-intuitive-guide-to-latent-dirichlet-allocation-437c81220158\n",
    "https://wiki.ubc.ca/Course:CPSC522/Latent_Dirichlet_Allocation\n",
    "http://www.arbylon.net/publications/text-est2.pdf\n",
    "\n",
    "Icons made by <a href=\"https://www.flaticon.com/authors/freepik\" title=\"Freepik\">Freepik</a> and <a href=\"https://www.flaticon.com/authors/pixel-perfect\" title=\"Pixel perfect\">Pixel perfect</a> from <a href=\"https://www.flaticon.com/\" title=\"Flaticon\"> www.flaticon.com</a>"
   ]
  },
  {
   "cell_type": "code",
   "execution_count": null,
   "metadata": {},
   "outputs": [],
   "source": []
  }
 ],
 "metadata": {
  "kernelspec": {
   "display_name": "Python 3",
   "language": "python",
   "name": "python3"
  },
  "language_info": {
   "codemirror_mode": {
    "name": "ipython",
    "version": 3
   },
   "file_extension": ".py",
   "mimetype": "text/x-python",
   "name": "python",
   "nbconvert_exporter": "python",
   "pygments_lexer": "ipython3",
   "version": "3.6.12"
  }
 },
 "nbformat": 4,
 "nbformat_minor": 4
}
