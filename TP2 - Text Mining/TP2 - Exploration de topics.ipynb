{
 "cells": [
  {
   "cell_type": "markdown",
   "metadata": {},
   "source": [
    "# TP2 - Exploration de topics"
   ]
  },
  {
   "cell_type": "markdown",
   "metadata": {},
   "source": [
    "<img src=\"./figures/figure2.png\" width=\"1000\">"
   ]
  },
  {
   "cell_type": "markdown",
   "metadata": {},
   "source": [
    "# Latent Dirichlet Allocation (LDA)\n",
    "\n",
    "La Latent Dirichlet Allocation (LDA) <span class=\"badge badge-secondary\">(Blei et al., 2001)</span> est une méthode de <b>topic modelling</b>. C'est l'une des méthodes les plus utilisées dans ce domaine. La LDA prend en input une collection de documents et cherche à identifier les topics ou thèmes spécifiques dans l'ensemble du corpus.\n",
    "\n",
    "<span class=\"badge badge-secondary\">(Blei et al., 2001)</span> David M. Blei, Andrew Y. Ng, Michael I. Jordan: Latent Dirichlet Allocation. NIPS 2001: 601-608\n",
    "\n",
    "Par exemple, on peut considérer le corpus suivant :"
   ]
  },
  {
   "cell_type": "code",
   "execution_count": null,
   "metadata": {},
   "outputs": [],
   "source": [
    "# !pip install -q scikit-learn==0.23.2 pyLDAvis nltk==3.5 unidecode pysrt\n",
    "\n",
    "# Only if running in colab\n",
    "# !git clone https://github.com/AntoineSimoulin/m2-data-sciences.git"
   ]
  },
  {
   "cell_type": "code",
   "execution_count": 48,
   "metadata": {},
   "outputs": [],
   "source": [
    "documents = [\n",
    "    \"Nous avons pris l'avion pour aller en vacances.\",\n",
    "    \"J'ai fait de la plongée en vacances.\"\n",
    "    \"Nous avons joué au foot hier matin.\",\n",
    "    \"J'ai pris le taxi.\",\n",
    "]"
   ]
  },
  {
   "cell_type": "code",
   "execution_count": 49,
   "metadata": {},
   "outputs": [],
   "source": [
    "n_documents = len(documents)"
   ]
  },
  {
   "cell_type": "markdown",
   "metadata": {},
   "source": [
    "L'objectif est d'identifier les thèmes ou <i>topics</i> qui correspondent à chaque phrase. Ici, on pourrait considérer des thèmes commes les <i>vacances</i>, le <i>sport</i> ou encore les <i>moyens de transports</i>.\n",
    "\n",
    "La LDA est un outil qui permet de faire exactement ça. Il s'agit d'un modèle <b>génératif</b> qui cherche à expliquer une observation (ici le corpus) en s'appuyant sur des variables latentes (les topics). En plus de l'epxloration de thèmes, ce type de modèle peut être utilisé pour des tâches non supervisées, en particulier le clustering.\n",
    "\n",
    "La LDA décrit chaque document comme une distribution de **topics**, eux mêmes caractérisés par une **distribution de mots**. En pratique, on va introduire une **variable latente** et exprimer chaque document comme une distribution de cette variable. Cette variable sera elle même décrite comme une distribution sur le vocabulaire comme décrit ci-dessous. Ainsi chaque topic n'est pas décrit explicitement. Il doit être interprété en fonction de sa distribution sur les mots du vocabulaire.\n",
    "\n",
    "<img src=\"./figures/lda-idee.png\" width=\"1000\">\n",
    "\n"
   ]
  },
  {
   "cell_type": "code",
   "execution_count": null,
   "metadata": {},
   "outputs": [],
   "source": [
    "from sklearn.feature_extraction.text import CountVectorizer\n",
    "import numpy as np"
   ]
  },
  {
   "cell_type": "code",
   "execution_count": 75,
   "metadata": {},
   "outputs": [
    {
     "name": "stdout",
     "output_type": "stream",
     "text": [
      "20\n"
     ]
    }
   ],
   "source": [
    "vectorizer = CountVectorizer()\n",
    "\n",
    "vectorizer.fit(documents)\n",
    "\n",
    "w2idx = {w: i for (i, w) in enumerate(vectorizer.get_feature_names())}\n",
    "idx2w = {i: w for (i, w) in enumerate(vectorizer.get_feature_names())}\n",
    "\n",
    "print(len(w2idx))"
   ]
  },
  {
   "cell_type": "code",
   "execution_count": 51,
   "metadata": {},
   "outputs": [],
   "source": [
    "tokenizer = vectorizer.build_tokenizer()"
   ]
  },
  {
   "cell_type": "code",
   "execution_count": 124,
   "metadata": {},
   "outputs": [
    {
     "name": "stdout",
     "output_type": "stream",
     "text": [
      "['nous', 'avons', 'pris', 'avion', 'pour', 'aller', 'en', 'vacances']\n",
      "['ai', 'fait', 'de', 'la', 'plongée', 'en', 'vacances', 'nous', 'avons', 'joué', 'au', 'foot', 'hier', 'matin']\n",
      "['ai', 'pris', 'le', 'taxi']\n"
     ]
    }
   ],
   "source": [
    "documents = [[t.lower() for t in tokenizer(d)] for d in documents]\n",
    "for doc in documents:\n",
    "    print(doc)"
   ]
  },
  {
   "cell_type": "code",
   "execution_count": 53,
   "metadata": {},
   "outputs": [
    {
     "name": "stdout",
     "output_type": "stream",
     "text": [
      "20\n"
     ]
    }
   ],
   "source": [
    "vocab_size = len(vectorizer.get_feature_names())\n",
    "print(vocab_size)"
   ]
  },
  {
   "cell_type": "code",
   "execution_count": 146,
   "metadata": {},
   "outputs": [
    {
     "name": "stdout",
     "output_type": "stream",
     "text": [
      "matrice d'occurence :\n",
      "[[0 1 0 1 1 0 1 0 0 0 0 0 0 0 1 0 1 1 0 1]\n",
      " [1 0 1 0 1 1 1 1 1 1 1 1 0 1 1 1 0 0 0 1]\n",
      " [1 0 0 0 0 0 0 0 0 0 0 0 1 0 0 0 0 1 1 0]]\n"
     ]
    }
   ],
   "source": [
    "print(\"matrice d'occurence :\")\n",
    "\n",
    "n = np.zeros((len(documents), vocab_size), dtype=int)\n",
    "for (doc_idx, doc) in enumerate(documents):\n",
    "    words_idx, words_freq = np.unique(doc, return_counts=True)\n",
    "    for (w, f) in zip(words_idx, words_freq):\n",
    "        n[doc_idx][w2idx[w]] = f\n",
    "print(n)"
   ]
  },
  {
   "cell_type": "markdown",
   "metadata": {},
   "source": [
    "## 1. Modélisation"
   ]
  },
  {
   "cell_type": "markdown",
   "metadata": {},
   "source": [
    "La séance précédente, on a vu que l'on pouvait représenter les documents comme une distribution sur les mots. Les paramètres de cette distribution peuvent être calculés simplement en utilisant la fréquence des mots dans le document (le modèle Bag-Of_Word) ou alors en pondérant les mots en fonction de leur fréquence dans l'ensemble du corpus (modèle TF-IDF).\n",
    "\n",
    "<img src=\"./figures/bow.png\" width=\"500\">"
   ]
  },
  {
   "cell_type": "markdown",
   "metadata": {},
   "source": [
    "### Les modèles génératifs\n",
    "\n",
    "La LDA est un modèle de probabilité génératif. Les modèles génératifs sont générallement développés suivant les 3 étapes suivantes :\n",
    "\n",
    "1. **Observations** Les données sont considérées comme des observations générées par le modèles. La notion de données inclue les variables latenntes. Ces dernières représentent la structure thématique du corpus.\n",
    "2. **Apprentissage** On met à jour les variables du modèles en utilisant l'inférence à postériori\n",
    "3. **Inférence** On peut utiliser le modèle pour situer de nouvelles de données dans la structure de topics apprise."
   ]
  },
  {
   "cell_type": "markdown",
   "metadata": {},
   "source": [
    "L'originalité de la LDA réside dans sa modélisation de chaque document comme une distribution de topics. La plupart des modèles considérant que tous les mots d'un document sont issus du même topic. Ainsi chaque document peut être rattaché à plusieurs topics. Dans notre corpus exemple, la LDA pourrait générer une distribution du type :\n",
    "\n",
    "* Document 1 : 50% Topic \"Transports\" + 50% Topic \"Voyages\"\n",
    "* Document 2 : 50% Topic \"Sports\" + 50% Topic \"Voyages\"\n",
    "* Document 3 : 100% Topic \"Sports\"\n",
    "* Document 4 : 100% Topic \"Transports\""
   ]
  },
  {
   "cell_type": "markdown",
   "metadata": {},
   "source": [
    "Comme illustré précédemment, la LDA cherche à expliquer ces modèles en introduisant une variable latente : les topics.\n",
    "\n",
    "<img src=\"./figures/lda2.png\" width=\"1000\">"
   ]
  },
  {
   "cell_type": "markdown",
   "metadata": {},
   "source": [
    "### Notations\n",
    "\n",
    "Les modèles graphiques représentent les variables aléatoies comme des noeuds. Les arcs entre les noeuds indiquent les variables potentiellement dépendantes. Les variables observées sont grisées. Dans la figure ci-dessous, les noeuds $ X_{1,...,N}$ sont observés alors que le noeud $Y$ est une variable latente. Les variables observées dépendent de cette variable latente. Les rectangles synthétisent la réplication de plusieurs structure. Un rectangle résume donc plusieurs variables $X_n$ avec $n \\in N$.\n",
    "\n",
    "La structure du graph définie les dépendances conditionnelles entre l'ensemble des variables. Par exemple dans le graph ci-dessous, on a $p(Y,X_{1},...,X_{N})=p(Y)\\prod _{n=1}^{N}p(X_{n}|Y)$.\n",
    "\n",
    "<img src=\"./figures/graphical_model.png\" width=\"500\">"
   ]
  },
  {
   "cell_type": "markdown",
   "metadata": {},
   "source": [
    "### La distribution de Dirichlet\n",
    "\n",
    "\n",
    "La distribution de Dirichlet est généralement notée $Dir(\\alpha)$. Il s'agit d'une famille de lois de probabilité continues pour des variables aléatoires multinomiales. Cette loi (ou encore distribution) est paramétrée par le vecteur ${\\bf \\alpha}$ de nombres réels positifs. La taille du vecteur ${\\bf \\alpha}$ indique la dimension de la distribution. Ce type de distribution est souvent utilisée comme distribution à priori dans les modèles Bayésiens. Sans rentrer dans les détails, voici quelques caraactéristiques de la distribution de Dirichlet :\n",
    "\n",
    "* La distribution est définie sur un simplex de vecteurs positifs dont la somme est égale à 1 \n",
    "* Sa densité est caractérisée par : $P(\\theta |{\\overrightarrow {\\alpha }})={\\frac {\\Gamma (\\Sigma _{i}\\alpha _{i})f}{\\Pi _{i}\\Gamma (\\alpha _{i})}}\\Pi _{i}\\theta _{i}^{\\alpha _{i}-1}$\n",
    "* En pratique, si toutes les dimensions de ${\\bf \\alpha}$ ont des valeurs similaires, la distribution est plus étalée. Elle devient plus concentrée pour des valeurs plus importantes de ${\\bf \\alpha}$.\n",
    "\n",
    "La distribution est illustrée ci-dessous pour des valeurs ${\\bf \\alpha}$ qui varient entre (6, 2, 2), (3, 7, 5), (6, 2, 6), (2, 3, 4).\n",
    "\n",
    "<img src=\"./figures/dirichlet.png\" width=\"500\">"
   ]
  },
  {
   "cell_type": "markdown",
   "metadata": {},
   "source": [
    "On utilise les notations suivantes :\n",
    "\n",
    "* Les mots sont l'unité de base des données. Ils sont définis comme un élément d'un vocabulaire indexé par ${1,...,V}$. On erprésent chaque mot en utilisant des vecteurs one-hot dont toutes les composantes sont 0, sauf pour la composante qui correspond à l'index du mot, qui vaut 1.\n",
    "* Un document est une séquence de $N$ mots telle que $W=(w_{1},w_{2},...,w_{N})$ avec $w_{n}$ le $n$th mot de la séquence.\n",
    "* Un corpus est un ensemble de $M$ documents tels que $D=\\lbrace W_{1},W_{2},...,W_{M}\\rbrace$."
   ]
  },
  {
   "cell_type": "markdown",
   "metadata": {},
   "source": [
    "### Le principe de la LDA\n",
    "\n",
    "La LDA est un modèle génératif. L'idée de baase est que chaque document est représenté comme une distribution sur $k$ topics latents. Chaque topic est caractérisé par une distribution sur les mots. On appelle $\\beta$ la matrice de dimension $k*V$ qui représente la distribution des mots sur les $k$ topics. On a ainsi $\\beta _{ij}=p(w_{j}=1|z_{i}=1)$.\n",
    "\n",
    "La LDA suppose le procéssus génératif suivant pour chaque document $W$ dans le corpus $D$.\n",
    "\n",
    "\n",
    "> 1. On choisit $\\theta \\sim Dir(\\alpha )$\n",
    "> 2. Pour chaque document dans le corpus:\n",
    ">     * Pour chacun des $N$ mots $w_{n}$ dans le document :\n",
    ">        * on choisit un topic $z_{n}\\sim Multinomial(\\theta )$\n",
    ">        * on choisit un mot $w_{n}$ $p(w_{n}|z_{n},B)$ selon une loi multinimoale conditionnée par le topic $z_{n}$.\n",
    "\n",
    "\n",
    "Une variable aléatoire suivant une loi de dirichlet de dimension $k$ peut prendre des valeurs dans le $k-1$-simplex. Cet espace désigne les vecteurs $\\theta$ de dimension $k$ tels que $\\theta _{i}\\geq 0$ et $\\sum _{i=1}^{k}\\theta _{i}=1$\n",
    "\n",
    "Etant donné $\\alpha$ et $\\beta$, la probabilité jointe de $\\theta$, un ensemble de $K$ topics $Z$ et un ensemble de $N$ mots est donnée par : $$p(\\theta ,Z,W|\\alpha ,\\beta )=p(\\theta |\\alpha )\\prod _{n=1}^{N}p(z_{n}|\\theta )p(w_{n}|z_{n},\\beta ),$$\n",
    "\n",
    "Avec $p(z_{n}|\\theta )$ qui représente $\\theta _{i}$ pour chaque $i$ tel que $z_{i}^{n}=1$.\n",
    "\n",
    "On peut obtenir la distribution marginale du document en itérant sur les $\\theta$ et en sommant sur les $z$:\n",
    "\n",
    "$$p(W|\\alpha ,\\beta )=\\int p(\\theta |\\alpha ){\\big (}\\prod _{n=1}^{N}\\Sigma _{z_{n}}p(z_{n}|\\theta )p(w_{n}|z_{n},\\beta {\\big )}d\\theta$$\n",
    "\n",
    "Finalement, en prenant le produit des probabilitées marginales sur un chaque document, on obtient la probabilité du corpus :\n",
    "\n",
    "\n",
    "$$p(D|\\alpha ,\\beta )=\\prod _{d=1}^{M}\\int p(\\theta _{d}|\\alpha ){\\big (}\\prod _{n=1}^{N_{d}}\\Sigma _{z_{dn}}p(z_{dn}|\\theta _{d})p(w_{dn}|z_{dn},\\beta ){\\big )}d\\theta _{d}$$\n",
    "\n",
    "La représentation garphique du modèle est proposée ci-dessous.\n",
    "\n",
    "<img src=\"./figures/lda_graph.png\" width=\"700\">"
   ]
  },
  {
   "cell_type": "markdown",
   "metadata": {},
   "source": [
    "Avec les notations suivantes :\n",
    "* k — Le nombre de topics qui caractérisent un document\n",
    "* V — La taille du vocabulaire\n",
    "* M — Le nombre de documents\n",
    "* N — Le nombre de mots dans chaque document\n",
    "* w — Un mot dans un document représenté par un vecteur one-hot de taille V\n",
    "* **w** — Représentation d'un document, i.e. une collection de N vecteurs w de mots\n",
    "* D — Le corpus, i.e. une collection de M documents\n",
    "* z — Un topic parmi k. Un topic correspond à une distribution de mots. Par exemple, Animal = (0.3 Chats, 0.4 Chiens, 0.2 Adorable)"
   ]
  },
  {
   "cell_type": "markdown",
   "metadata": {},
   "source": [
    "## 2. Apprendre les paramètres du modèle"
   ]
  },
  {
   "cell_type": "markdown",
   "metadata": {},
   "source": [
    "Ce modèle permet d'expliquer comment le corpus a été généré. Néanmoins en pratique on n'observe pas toutes les variables du modèles mais seulement la distribution des mots. En pratique on va \"inverser\" le modèle pour estimer les paramètres. Ce processus est appelé inférence à posteriori.\n",
    "\n",
    "On dispose d'un corpus de documents. On a fixé un nombre $k$ de topics. Pour apprendre la représentation des topics et des documents, il existe deux méthodes principales :\n",
    "\n",
    "* Le sampling de Gibbs\n",
    "* L'inférence variationelle\n",
    "\n",
    "Nous allons détailler le procéssus du sampling de Gibbs sur notre jeu de données exemples puis utiliser la librarie `sklearn`qui repose sur l'inférence variationelle pour expérimenter sur un jeu de données plus conséquent."
   ]
  },
  {
   "cell_type": "code",
   "execution_count": 76,
   "metadata": {},
   "outputs": [],
   "source": [
    "from tqdm import tqdm\n",
    "\n",
    "# IPython automatically reload all changed code\n",
    "%load_ext autoreload\n",
    "%autoreload 2"
   ]
  },
  {
   "cell_type": "code",
   "execution_count": 56,
   "metadata": {},
   "outputs": [],
   "source": [
    "n_topics = 3"
   ]
  },
  {
   "cell_type": "markdown",
   "metadata": {},
   "source": [
    "### Le Sampling de Gibbs"
   ]
  },
  {
   "cell_type": "markdown",
   "metadata": {},
   "source": [
    "Pour fixer les paramètres des matrices, on cherche à maximiser la vraisemblance de nos données selon ce modèle. On utilise pour cela l'algorthime de **sampling de Gibbs**. Le sampling de Gibbs est un algorithme qui permet de sélectionner des distributions conditionelles dont la distribution des états converge vers la vraie distribution à terme. En pratique, on va mettre à jour itérativement les matrices $\\Theta$ et $\\beta$ pour maximiser la vraisemblance de nos données. Les itérations s'effectuent mot par mot en ajustant le topic assigné à chaque mot.  On fait l'hypothèse que l'on ne connait pas le topic assigné à chaque mot mais qu'on connait la correpondance de topic pour tous les autres mots dans le texte et on cherche à inférer le topic à assigner pour ce mot.\n",
    "\n",
    "\n",
    "D'un point de vue mathématique, on cherche la probabilité conditionnelle pour chaque mot d'être assigné à un topic, étant donné l'attribution des autres topics. \n",
    "\n",
    "On peut montrer que \n",
    "\n",
    "$$P(z_{i,d}=k|z_{:,d},w,\\alpha,\\beta) \\propto \\frac{n_{d,k}+\\beta_k}{\\sum_i^Kn_{d,i}+\\beta_i}v_{k,w_{d,n}}+\\alpha_{w_{d,n}}$$\n",
    "\n",
    "Avec :\n",
    "* $n_{d,k}$ : le nombre de fois ou le document $d$ utilise le topic $k$\n",
    "* $v_{k,w}$ : le nombre de fois ou le topic $k$ utilise le mot $w$\n",
    "* $\\alpha_k$ : le paramètre de dirichlet pour la distribution de topics par documents\n",
    "* $\\lambda_w$ : Le paramètre de dirichlet pour la distribution des mots par topic\n",
    "\n",
    "Il y a deux parties dans cette équation. D'abord on évalue la proprtion de chaque topic dans un document. Puis on réparti l'attention des topics pour chaque mot. Les paramètres de dirichlet permette de régulariser quand $n_{d,k}$ ou $v_{k,w}$ sont trop proches de 0 et qu'il y a peu de chance qu'un mot choisise un topic."
   ]
  },
  {
   "cell_type": "code",
   "execution_count": 239,
   "metadata": {},
   "outputs": [
    {
     "name": "stdout",
     "output_type": "stream",
     "text": [
      "assignation de topic aléatoire pour le premier document\n",
      "      nous -> TOPIC 1\n",
      "     avons -> TOPIC 1\n",
      "      pris -> TOPIC 2\n",
      "     avion -> TOPIC 0\n",
      "      pour -> TOPIC 0\n",
      "     aller -> TOPIC 2\n",
      "        en -> TOPIC 0\n",
      "  vacances -> TOPIC 2\n",
      "matrices d'assignation des topics :\n"
     ]
    },
    {
     "data": {
      "text/plain": [
       "[[1, 1, 2, 0, 0, 2, 0, 2],\n",
       " [2, 2, 2, 2, 2, 2, 2, 0, 2, 0, 1, 1, 2, 0],\n",
       " [2, 0, 0, 1]]"
      ]
     },
     "execution_count": 239,
     "metadata": {},
     "output_type": "execute_result"
    }
   ],
   "source": [
    "#  1. Go through each document, and randomly assign each word in the document to one of the topics \n",
    "\n",
    "words_topic = [[np.random.randint(n_topics) for _ in range(len(d))] for d in documents]\n",
    "\n",
    "print(\"assignation de topic aléatoire pour le premier document\")\n",
    "for (w, t) in zip(documents[0], words_topic[0]):\n",
    "    print(\"{:>10} -> TOPIC {:1}\".format(w, t))\n",
    "    \n",
    "print(\"matrices d'assignation des topics :\")\n",
    "words_topic"
   ]
  },
  {
   "cell_type": "markdown",
   "metadata": {},
   "source": [
    "* $n_{d,k}$ : le nombre de fois ou le document $d$ utilise le topic $k$\n",
    "* $v_{k,w}$ : le nombre de fois ou le topic $k$ utilise le mot $w$"
   ]
  },
  {
   "cell_type": "code",
   "execution_count": 240,
   "metadata": {},
   "outputs": [
    {
     "name": "stdout",
     "output_type": "stream",
     "text": [
      "Le nombre de fois ou le document  𝑑  utilise le topic  𝑘 :\n",
      "[[3 2 3]\n",
      " [3 2 9]\n",
      " [2 1 1]] \n",
      "\n",
      "Le nombre de fois ou le topic  𝑘  utilise le mot  𝑤 :\n",
      "[[0 0 0 1 0 0 1 0 0 0 1 0 1 1 1 0 1 1 0 0 0]\n",
      " [0 0 1 0 1 0 0 0 1 0 0 0 0 0 1 0 0 0 1 0 0]\n",
      " [2 1 0 0 1 1 1 1 0 1 0 1 0 0 0 1 0 1 0 2 0]]\n"
     ]
    }
   ],
   "source": [
    "# 2. Notice that this random assignment already gives both topic representations \n",
    "#    of all the documents and word distributions of all the topics (albeit not very good ones).\n",
    "\n",
    "document_topic_counts = np.zeros((len(documents), n_topics), dtype=int)\n",
    "for (doc_idx, topics) in enumerate(words_topic):\n",
    "    topics, topics_freq = np.unique(topics, return_counts=True)\n",
    "    for (t, f) in zip(topics, topics_freq):\n",
    "        document_topic_counts[doc_idx][t] = f\n",
    "print(\"Le nombre de fois ou le document  𝑑  utilise le topic  𝑘 :\")\n",
    "print(document_topic_counts, '\\n')\n",
    "\n",
    "topic_word_counts = np.zeros((n_topics, vocab_size + 1), dtype=int)\n",
    "for (topics, doc) in zip(words_topic, documents):\n",
    "    for (t, w_idx) in zip(topics, doc):\n",
    "        topic_word_counts[t][w2idx[w_idx]] += 1\n",
    "print(\"Le nombre de fois ou le topic  𝑘  utilise le mot  𝑤 :\")\n",
    "print(topic_word_counts)"
   ]
  },
  {
   "cell_type": "code",
   "execution_count": 241,
   "metadata": {},
   "outputs": [
    {
     "data": {
      "text/plain": [
       "array([ 8,  5, 13])"
      ]
     },
     "execution_count": 241,
     "metadata": {},
     "output_type": "execute_result"
    }
   ],
   "source": [
    "# nombre de mots pour chaque topic:\n",
    "np.sum(topic_word_counts, 1)"
   ]
  },
  {
   "cell_type": "code",
   "execution_count": 242,
   "metadata": {},
   "outputs": [],
   "source": [
    "# 3. So to improve on them, for each document W do the following:\n",
    "#    3.1 Go through each word w in W\n",
    "#        3.1.1 And for each topic t, compute two things: \n",
    "#              1) p(t|W) = the proportion of words in document W that are currently assigned to topic t, and \n",
    "#              2) p(w|t) = the proportion of assignments to topic t over all documents that come from this word w \n",
    "#              Reassign w a new topic, where we choose topic t with probability p(t|W)*p(w|t). \n",
    "#              It is worth noting that according to our generative model, \n",
    "#              this is essentially the probability that topic t generated word w, \n",
    "#              so it makes sense that we resample the current word’s topic with this probability. \n",
    "#              (Also, I’m glossing over a couple of things here, \n",
    "#              in particular the use of priors/pseudocounts in these probabilities.)\n",
    "#        3.1.2 In other words, in this step, we’re assuming that all topic assignments \n",
    "#              except for the current word in question are correct, and then updating the assignment \n",
    "#              of the current word using our model of how documents are generated.\n",
    "eta = 0.01\n",
    "alpha = 50.\n",
    "\n",
    "\n",
    "for (doc_idx, doc) in enumerate(documents):\n",
    "    for (w_idx, w) in enumerate(doc):\n",
    "        \n",
    "        \n",
    "        current_topic = words_topic[doc_idx][w_idx]\n",
    "        \n",
    "        # Mise à jour des matrices de fréquences\n",
    "        document_topic_counts[doc_idx, current_topic] -= 1\n",
    "        topic_word_counts[current_topic, w2idx[w]] -= 1\n",
    "        \n",
    "        # Change le topic\n",
    "        topic_distribution = (topic_word_counts[:, w2idx[w]] + eta) * \\\n",
    "            (document_topic_counts[doc_idx, :] + alpha) / \\\n",
    "            (np.sum(topic_word_counts, 1) + 1e-12)\n",
    "\n",
    "        new_topic = np.random.multinomial(1, topic_distribution / topic_distribution.sum()).argmax()\n",
    "        \n",
    "        # Mise à jour des matrices de fréquences\n",
    "        document_topic_counts[doc_idx][new_topic] += 1\n",
    "        topic_word_counts[new_topic, w2idx[w]] += 1\n",
    "        words_topic[doc_idx][w_idx] = new_topic"
   ]
  },
  {
   "cell_type": "code",
   "execution_count": 243,
   "metadata": {},
   "outputs": [
    {
     "data": {
      "text/plain": [
       "array([[ 5,  3,  0],\n",
       "       [ 2, 12,  0],\n",
       "       [ 3,  1,  0]])"
      ]
     },
     "execution_count": 243,
     "metadata": {},
     "output_type": "execute_result"
    }
   ],
   "source": [
    "document_topic_counts"
   ]
  },
  {
   "cell_type": "code",
   "execution_count": 244,
   "metadata": {},
   "outputs": [
    {
     "data": {
      "text/plain": [
       "array([[1, 0, 1, 0, 1, 1, 1, 0, 0, 0, 0, 0, 1, 0, 1, 0, 1, 1, 1, 0, 0],\n",
       "       [1, 1, 0, 1, 1, 0, 1, 1, 1, 1, 1, 1, 0, 1, 1, 1, 0, 1, 0, 2, 0],\n",
       "       [0, 0, 0, 0, 0, 0, 0, 0, 0, 0, 0, 0, 0, 0, 0, 0, 0, 0, 0, 0, 0]])"
      ]
     },
     "execution_count": 244,
     "metadata": {},
     "output_type": "execute_result"
    }
   ],
   "source": [
    "topic_word_counts"
   ]
  },
  {
   "cell_type": "code",
   "execution_count": 252,
   "metadata": {},
   "outputs": [],
   "source": [
    "# 4. After repeating the previous step a large number of times, \n",
    "#    you’ll eventually reach a roughly steady state where your assignments are pretty good. \n",
    "#    So use these assignments to estimate the topic mixtures of each document \n",
    "#    (by counting the proportion of words assigned to each topic within that document) \n",
    "#    and the words associated to each topic (by counting the proportion of words assigned to each topic overall).\n",
    "\n",
    "n_iters = 10\n",
    "\n",
    "for _ in range(n_iters):\n",
    "    for (doc_idx, doc) in enumerate(documents):\n",
    "        for (w_idx, w) in enumerate(doc):\n",
    "\n",
    "\n",
    "            current_topic = words_topic[doc_idx][w_idx]\n",
    "\n",
    "            # Mise à jour des matrices de fréquences\n",
    "            document_topic_counts[doc_idx, current_topic] -= 1\n",
    "            topic_word_counts[current_topic, w2idx[w]] -= 1\n",
    "\n",
    "            # Change le topic\n",
    "            topic_distribution = (topic_word_counts[:, w2idx[w]] + eta) * \\\n",
    "                (document_topic_counts[doc_idx, :] + alpha) / \\\n",
    "                (np.sum(topic_word_counts, 1) + 1e-12)\n",
    "\n",
    "            new_topic = np.random.multinomial(1, topic_distribution / topic_distribution.sum()).argmax()\n",
    "\n",
    "            # Mise à jour des matrices de fréquences\n",
    "            document_topic_counts[doc_idx][new_topic] += 1\n",
    "            topic_word_counts[new_topic, w2idx[w]] += 1\n",
    "            words_topic[doc_idx][w_idx] = new_topic"
   ]
  },
  {
   "cell_type": "code",
   "execution_count": 253,
   "metadata": {},
   "outputs": [
    {
     "data": {
      "text/plain": [
       "array([[4, 4, 0],\n",
       "       [7, 7, 0],\n",
       "       [1, 3, 0]])"
      ]
     },
     "execution_count": 253,
     "metadata": {},
     "output_type": "execute_result"
    }
   ],
   "source": [
    "document_topic_counts"
   ]
  },
  {
   "cell_type": "markdown",
   "metadata": {},
   "source": [
    "Finalement on peut évaluer les matrices $\\Theta$ et $\\beta$ selon les formules suivantes :\n",
    "\n",
    "$$\\Theta_{k,t} = \\frac{n_{d,k}+\\eta_k}{\\sum_i^Kn_{d,i}+\\eta_k}$$\n",
    "\n",
    "$$\\beta_{m,k} = \\frac{v_{k}+\\alpha_k}{\\sum_i^Kn_{d,i}+\\alpha_k}$$\n"
   ]
  },
  {
   "cell_type": "code",
   "execution_count": 256,
   "metadata": {},
   "outputs": [],
   "source": [
    "beta = (topic_word_counts + alpha) / (np.sum(topic_word_counts, 0) + alpha)"
   ]
  },
  {
   "cell_type": "code",
   "execution_count": 255,
   "metadata": {},
   "outputs": [
    {
     "name": "stdout",
     "output_type": "stream",
     "text": [
      "Topic #0: matin aller\n",
      "Topic #1: hier taxi\n",
      "Topic #2: la aller\n"
     ]
    }
   ],
   "source": [
    "n_top_words = 3\n",
    "\n",
    "for topic_idx in range(n_topics):\n",
    "    message = \"Topic #%d: \" % topic_idx\n",
    "    message += \" \".join([idx2w[i] for i in beta[topic_idx].argsort()[:-n_top_words - 1:-1][1:]])\n",
    "    print(message)"
   ]
  },
  {
   "cell_type": "markdown",
   "metadata": {},
   "source": [
    "## 3. Utilisation des librairies"
   ]
  },
  {
   "cell_type": "code",
   "execution_count": 316,
   "metadata": {},
   "outputs": [
    {
     "name": "stdout",
     "output_type": "stream",
     "text": [
      "Requirement already satisfied: pysrt in /Users/antoine/opt/anaconda3/envs/nlp-101/lib/python3.6/site-packages (1.1.2)\n",
      "Requirement already satisfied: chardet in /Users/antoine/opt/anaconda3/envs/nlp-101/lib/python3.6/site-packages (from pysrt) (3.0.4)\n"
     ]
    }
   ],
   "source": [
    "import os\n",
    "import nltk\n",
    "from nltk.corpus import stopwords\n",
    "from nltk.stem.snowball import FrenchStemmer\n",
    "import pysrt\n",
    "import re\n",
    "from sklearn.decomposition import LatentDirichletAllocation as LDA\n",
    "from sklearn.feature_extraction.text import CountVectorizer\n",
    "from spacy.lang.fr.stop_words import STOP_WORDS\n",
    "import unidecode"
   ]
  },
  {
   "cell_type": "markdown",
   "metadata": {},
   "source": [
    "On va chercher à analyser les thèmes de la Série Game Of Thrones. On utilise pour ça les sous-titres de l'ensemble des saisons qui ont été récupérés sur le site https://www.sous-titres.eu/series/game_of_thrones.html."
   ]
  },
  {
   "cell_type": "code",
   "execution_count": 258,
   "metadata": {},
   "outputs": [],
   "source": [
    "def create_subtitle_file_dict(subtitles_dir):\n",
    "    \"Retourne les chemins vers les fichiers de sous titres\"\n",
    "    subtitles_file_path = {}\n",
    "    for path, subdirs, files in os.walk(subtitles_dir):\n",
    "        for name in files:\n",
    "            episode_name = '_'.join([os.path.basename(path), name.split('.')[0]])\n",
    "            subtitles_file_path[episode_name] = os.path.join(path, name)\n",
    "    return subtitles_file_path\n",
    "\n",
    "def parse_srt_file(srt_file, encoding='iso-8859-1'):\n",
    "    \"Lit un ficher de sous titres au format rst\"\n",
    "    subs = pysrt.open(srt_file, encoding=encoding)\n",
    "    text = ' '.join([' '.join(sub.text.split('\\n')) for sub in subs])\n",
    "    return text\n",
    "\n",
    "def create_corpus(subtitles_file_path):\n",
    "    \"Créer un corpus à partir de tous les fichiers rst dans un dossier\"\n",
    "    corpus = []\n",
    "    for k, v in subtitles_file_path.items():\n",
    "        if v.endswith('srt'):\n",
    "            corpus.append(parse_srt_file(v))\n",
    "    return corpus"
   ]
  },
  {
   "cell_type": "code",
   "execution_count": 259,
   "metadata": {},
   "outputs": [],
   "source": [
    "subtitles_file_path = create_subtitle_file_dict('./sous-titres-got')"
   ]
  },
  {
   "cell_type": "code",
   "execution_count": 340,
   "metadata": {},
   "outputs": [],
   "source": [
    "episode_1_txt = parse_srt_file(subtitles_file_path['S01_E01'])"
   ]
  },
  {
   "cell_type": "code",
   "execution_count": 341,
   "metadata": {},
   "outputs": [
    {
     "name": "stdout",
     "output_type": "stream",
     "text": [
      "Doucement. Que croyais-tu ? Ce sont des sauvages. L'un vole une chèvre à l'autre, et ils finissent p\n"
     ]
    }
   ],
   "source": [
    "print(episode_1_txt[:100])"
   ]
  },
  {
   "cell_type": "code",
   "execution_count": 303,
   "metadata": {
    "scrolled": true
   },
   "outputs": [],
   "source": [
    "corpus = create_corpus(subtitles_file_path)"
   ]
  },
  {
   "cell_type": "code",
   "execution_count": 304,
   "metadata": {},
   "outputs": [
    {
     "data": {
      "text/plain": [
       "73"
      ]
     },
     "execution_count": 304,
     "metadata": {},
     "output_type": "execute_result"
    }
   ],
   "source": [
    "len(corpus)"
   ]
  },
  {
   "cell_type": "code",
   "execution_count": 342,
   "metadata": {},
   "outputs": [
    {
     "data": {
      "text/plain": [
       "'attention au feu au feu une vingtaine d hommes voire moins ils se sont faufiles dans le camp ils ont'"
      ]
     },
     "execution_count": 342,
     "metadata": {},
     "output_type": "execute_result"
    }
   ],
   "source": [
    "corpus[0][:100]"
   ]
  },
  {
   "cell_type": "markdown",
   "metadata": {},
   "source": [
    "<div class=\"alert alert-info\" role=\"alert\">\n",
    "    <p><b>Exercice :</b> Nettoyer le corpus pour enlever les accents, mettre le texte en minuscule, enlever la ponctuation et les doubles espaces. Eventuellement pour le stemming </p>\n",
    "</div>    "
   ]
  },
  {
   "cell_type": "code",
   "execution_count": null,
   "metadata": {},
   "outputs": [],
   "source": [
    "# %load solutions/cleaning.py\n"
   ]
  },
  {
   "cell_type": "code",
   "execution_count": 344,
   "metadata": {},
   "outputs": [],
   "source": [
    "clean_corpus = clean_corpus(corpus)"
   ]
  },
  {
   "cell_type": "code",
   "execution_count": 345,
   "metadata": {},
   "outputs": [
    {
     "data": {
      "text/plain": [
       "'attent au feu au feu une vingtain d homm voir moin il se sont faufil dan le camp il ont brul nos viv'"
      ]
     },
     "execution_count": 345,
     "metadata": {},
     "output_type": "execute_result"
    }
   ],
   "source": [
    "clean_corpus[0][:100]"
   ]
  },
  {
   "cell_type": "code",
   "execution_count": 346,
   "metadata": {},
   "outputs": [],
   "source": [
    "clean_corpus_split = []\n",
    "for episode in clean_corpus:\n",
    "    episode_words = episode.split()\n",
    "    i = 0\n",
    "    while i < len(episode_words):\n",
    "        clean_corpus_split.append(' '.join(episode_words[i:i+400]))\n",
    "        i+=400"
   ]
  },
  {
   "cell_type": "code",
   "execution_count": 347,
   "metadata": {},
   "outputs": [
    {
     "data": {
      "text/plain": [
       "726"
      ]
     },
     "execution_count": 347,
     "metadata": {},
     "output_type": "execute_result"
    }
   ],
   "source": [
    "len(clean_corpus_split)"
   ]
  },
  {
   "cell_type": "code",
   "execution_count": 348,
   "metadata": {},
   "outputs": [],
   "source": [
    "def tokenize_corpus(corpus):\n",
    "    tokens = []\n",
    "    for sentence in corpus.split('\\n'):\n",
    "        tokens.append(nltk.word_tokenize(sentence))\n",
    "    return tokens"
   ]
  },
  {
   "cell_type": "code",
   "execution_count": 349,
   "metadata": {},
   "outputs": [],
   "source": [
    "sentence_length = [len(x.split()) for x in clean_corpus_split]"
   ]
  },
  {
   "cell_type": "code",
   "execution_count": 350,
   "metadata": {},
   "outputs": [
    {
     "data": {
      "text/plain": [
       "(378.10743801652893, 75.55046495285958)"
      ]
     },
     "execution_count": 350,
     "metadata": {},
     "output_type": "execute_result"
    }
   ],
   "source": [
    "np.mean(sentence_length), np.std(sentence_length)"
   ]
  },
  {
   "cell_type": "markdown",
   "metadata": {},
   "source": [
    "<div class=\"alert alert-info\" role=\"alert\">\n",
    "    <p><b>Exercice :</b> Vectorizer le corpus en utilisant la méthode Bag-Of-Words.</p>\n",
    "</div>    "
   ]
  },
  {
   "cell_type": "code",
   "execution_count": 351,
   "metadata": {},
   "outputs": [],
   "source": [
    "# %load solutions/vectorize.py\n"
   ]
  },
  {
   "cell_type": "code",
   "execution_count": 352,
   "metadata": {},
   "outputs": [
    {
     "data": {
      "text/plain": [
       "726"
      ]
     },
     "execution_count": 352,
     "metadata": {},
     "output_type": "execute_result"
    }
   ],
   "source": [
    "len(clean_corpus_split)"
   ]
  },
  {
   "cell_type": "code",
   "execution_count": 353,
   "metadata": {},
   "outputs": [
    {
     "data": {
      "text/plain": [
       "LatentDirichletAllocation(n_components=15, n_jobs=-1)"
      ]
     },
     "execution_count": 353,
     "metadata": {},
     "output_type": "execute_result"
    }
   ],
   "source": [
    "# Tweak the two parameters below\n",
    "number_topics = 15\n",
    "number_words = 10\n",
    "\n",
    "# Create and fit the LDA model\n",
    "lda = LDA(n_components=number_topics, n_jobs=-1)\n",
    "lda.fit(count_data)"
   ]
  },
  {
   "cell_type": "code",
   "execution_count": 354,
   "metadata": {},
   "outputs": [],
   "source": [
    "def print_topics(model, count_vectorizer, n_top_words):\n",
    "    words = count_vectorizer.get_feature_names()\n",
    "    for topic_idx, topic in enumerate(model.components_):\n",
    "        print(\"\\nTopic #%d:\" % topic_idx)\n",
    "        print(\" \".join([words[i]\n",
    "                        for i in topic.argsort()[:-n_top_words - 1:-1]]))"
   ]
  },
  {
   "cell_type": "code",
   "execution_count": 355,
   "metadata": {
    "scrolled": true
   },
   "outputs": [
    {
     "name": "stdout",
     "output_type": "stream",
     "text": [
      "Topics found via LDA:\n",
      "\n",
      "Topic #0:\n",
      "qu reine oui ca avez ici jamais mort sais majeste\n",
      "\n",
      "Topic #1:\n",
      "stark pere lord qu fille batard nord garcon bolton mere\n",
      "\n",
      "Topic #2:\n",
      "nord qu jon winterfell snow stark mur ca hommes morts\n",
      "\n",
      "Topic #3:\n",
      "qu roi homme hommes veux majeste reine joffrey dragons sang\n",
      "\n",
      "Topic #4:\n",
      "roi qu robert stannis garde bon epouse ca lord faire\n",
      "\n",
      "Topic #5:\n",
      "qu avez nord roi ca lord jon sansa lannister etes\n",
      "\n",
      "Topic #6:\n",
      "qu ca veux roi pere faut mort faire sais ete\n",
      "\n",
      "Topic #7:\n",
      "qu etes avez reine ca pere hommes faire homme port\n",
      "\n",
      "Topic #8:\n",
      "qu ca etes sais jamais nuit ici veux faire avez\n",
      "\n",
      "Topic #9:\n",
      "epee ca qu veux mort petite faire ici acier tue\n",
      "\n",
      "Topic #10:\n",
      "avez roi grand reine qu tyrell loras faire frere mere\n",
      "\n",
      "Topic #11:\n",
      "qu dubbing adaptation brothers titrage ca pere etes faire ici\n",
      "\n",
      "Topic #12:\n",
      "lannister pere roi qu avez fils stark ca oui lord\n",
      "\n",
      "Topic #13:\n",
      "roi qu lord fils stark pere ser hommes main frere\n",
      "\n",
      "Topic #14:\n",
      "qu etes brienne lady compte sansa avez fille stark oui\n"
     ]
    }
   ],
   "source": [
    "# Print the topics found by the LDA model\n",
    "print(\"Topics found via LDA:\")\n",
    "print_topics(lda, count_vectorizer, number_words)"
   ]
  },
  {
   "cell_type": "markdown",
   "metadata": {},
   "source": [
    "## 4. Visualisation"
   ]
  },
  {
   "cell_type": "code",
   "execution_count": 356,
   "metadata": {},
   "outputs": [],
   "source": [
    "# !pip install pyLDAvis"
   ]
  },
  {
   "cell_type": "code",
   "execution_count": 357,
   "metadata": {},
   "outputs": [
    {
     "name": "stdout",
     "output_type": "stream",
     "text": [
      "CPU times: user 218 ms, sys: 20 ms, total: 238 ms\n",
      "Wall time: 1.11 s\n"
     ]
    }
   ],
   "source": [
    "%%time\n",
    "from pyLDAvis import sklearn as sklearn_lda\n",
    "import pickle\n",
    "import pyLDAvis\n",
    "\n",
    "LDAvis_data_filepath = os.path.join('./ldavis_prepared_'+str(number_topics))\n",
    "LDAvis_prepared = sklearn_lda.prepare(lda, count_data, count_vectorizer, mds='mmds')"
   ]
  },
  {
   "cell_type": "code",
   "execution_count": 358,
   "metadata": {},
   "outputs": [],
   "source": [
    "with open(LDAvis_data_filepath, 'wb') as f:\n",
    "        pickle.dump(LDAvis_prepared, f)\n",
    "\n",
    "# load the pre-prepared pyLDAvis data from disk\n",
    "with open(LDAvis_data_filepath, 'rb') as f:\n",
    "    LDAvis_prepared = pickle.load(f)\n",
    "    \n",
    "pyLDAvis.save_html(LDAvis_prepared, './ldavis_prepared_'+ str(number_topics) +'.html')"
   ]
  },
  {
   "cell_type": "code",
   "execution_count": 359,
   "metadata": {},
   "outputs": [
    {
     "data": {
      "text/html": [
       "\n",
       "<link rel=\"stylesheet\" type=\"text/css\" href=\"https://cdn.rawgit.com/bmabey/pyLDAvis/files/ldavis.v1.0.0.css\">\n",
       "\n",
       "\n",
       "<div id=\"ldavis_el359301402220635074009191907667\"></div>\n",
       "<script type=\"text/javascript\">\n",
       "\n",
       "var ldavis_el359301402220635074009191907667_data = {\"mdsDat\": {\"x\": [0.058097697986978336, 0.01351713254521595, -0.07244476884847381, -0.013859133422381712, 0.15861133088634827, 0.12466779409078904, 0.03297241857432911, -0.08579557428538849, -0.1491753152362417, 0.14879283837215068, 0.20528780620374942, -0.044235137177585634, -0.21827217209655245, -0.17921835956462867, 0.021053441971691553], \"y\": [0.002047883618986855, -0.04234106660247133, -0.04674767813543082, 0.12591548298806193, -0.1608923117846231, -0.04687702440843146, 0.1997955407872027, -0.17267468731243996, 0.04728564959138486, 0.11401642277433725, 0.03507816568203098, 0.06070989616451663, -0.0898874805030388, 0.19539955869199752, -0.22082835155208333], \"topics\": [1, 2, 3, 4, 5, 6, 7, 8, 9, 10, 11, 12, 13, 14, 15], \"cluster\": [1, 1, 1, 1, 1, 1, 1, 1, 1, 1, 1, 1, 1, 1, 1], \"Freq\": [15.229154599607982, 14.974683863817576, 10.497847556387756, 9.427243590718737, 9.05850732325537, 6.8258651379373365, 6.479182014808125, 5.835360909050822, 4.556921509315788, 3.801112054955385, 3.7111240693052854, 3.4089335027924648, 3.2167873341139788, 1.8716887053524731, 1.1055878285809193]}, \"tinfo\": {\"Term\": [\"roi\", \"qu\", \"stark\", \"ca\", \"lord\", \"nord\", \"reine\", \"garde\", \"epee\", \"jon\", \"stannis\", \"veux\", \"etes\", \"winterfell\", \"robert\", \"lady\", \"lannister\", \"bon\", \"sansa\", \"avez\", \"mur\", \"snow\", \"pere\", \"fille\", \"homme\", \"faire\", \"madame\", \"tyrell\", \"faut\", \"oui\", \"drogo\", \"khal\", \"sam\", \"chaud\", \"soleil\", \"pleine\", \"khaleesi\", \"vere\", \"lune\", \"jeu\", \"monter\", \"cheveux\", \"magie\", \"froid\", \"cheval\", \"dothraki\", \"dela\", \"aemon\", \"abandonne\", \"bonjour\", \"rapide\", \"vieil\", \"tenebres\", \"princesse\", \"chevaux\", \"trouves\", \"idiote\", \"disent\", \"essaye\", \"touche\", \"nuit\", \"sois\", \"mur\", \"lumiere\", \"feu\", \"porte\", \"maitre\", \"premiere\", \"sais\", \"sud\", \"yeux\", \"ca\", \"etes\", \"sang\", \"qu\", \"jamais\", \"veux\", \"femme\", \"ici\", \"faire\", \"garde\", \"vie\", \"viens\", \"pere\", \"avez\", \"homme\", \"oui\", \"chose\", \"faut\", \"mere\", \"hommes\", \"aime\", \"mort\", \"voir\", \"ser\", \"regne\", \"oberyn\", \"eviter\", \"roc\", \"dorne\", \"fortune\", \"dothrakis\", \"castral\", \"perdre\", \"prince\", \"myrcella\", \"massacre\", \"flotte\", \"ciel\", \"daenerys\", \"westeros\", \"serai\", \"nombre\", \"dragons\", \"faible\", \"pourra\", \"port\", \"navires\", \"cite\", \"long\", \"pierre\", \"imagine\", \"real\", \"detruire\", \"assassine\", \"messire\", \"ville\", \"cersei\", \"reine\", \"difficile\", \"guerre\", \"etes\", \"peuple\", \"immacules\", \"qu\", \"avez\", \"monde\", \"armee\", \"voir\", \"hommes\", \"ennemis\", \"trone\", \"faire\", \"homme\", \"mere\", \"pere\", \"ca\", \"fer\", \"oui\", \"majeste\", \"faut\", \"sais\", \"roi\", \"ici\", \"jamais\", \"mort\", \"veux\", \"ete\", \"val\", \"baelish\", \"tante\", \"regicide\", \"arryn\", \"harrenhal\", \"meurtre\", \"catelyn\", \"chevaliers\", \"tully\", \"joie\", \"lutin\", \"poison\", \"lannister\", \"proces\", \"mensonge\", \"prisonnier\", \"crimes\", \"vivesaigues\", \"message\", \"alliance\", \"tywin\", \"littlefinger\", \"laisserai\", \"justice\", \"propre\", \"ira\", \"arme\", \"jaime\", \"sansa\", \"lady\", \"madame\", \"fils\", \"joffrey\", \"honneur\", \"stark\", \"pere\", \"roi\", \"tyrion\", \"lord\", \"avez\", \"oui\", \"femme\", \"ca\", \"qu\", \"ici\", \"ser\", \"maison\", \"mere\", \"etes\", \"ete\", \"chose\", \"homme\", \"faire\", \"mort\", \"frere\", \"veux\", \"hommes\", \"protecteur\", \"condamne\", \"surs\", \"monseigneur\", \"pousse\", \"eddard\", \"capitaine\", \"legitime\", \"royaume\", \"arretez\", \"andals\", \"soient\", \"vit\", \"prix\", \"aegon\", \"20\", \"robert\", \"voyez\", \"vux\", \"etrange\", \"heritier\", \"dommage\", \"paroles\", \"traitre\", \"dothraki\", \"message\", \"service\", \"cru\", \"trahison\", \"siege\", \"main\", \"roi\", \"dieu\", \"honneur\", \"targaryen\", \"baratheon\", \"couronnes\", \"fils\", \"lord\", \"ser\", \"dites\", \"trone\", \"stark\", \"garcon\", \"vie\", \"qu\", \"frere\", \"hommes\", \"allez\", \"mort\", \"ami\", \"pere\", \"sais\", \"dieux\", \"voir\", \"fer\", \"avez\", \"mourir\", \"stannis\", \"oui\", \"majeste\", \"jamais\", \"ca\", \"faire\", \"mance\", \"chateaunoir\", \"corbac\", \"snow\", \"corbeaux\", \"jon\", \"sauvageons\", \"nes\", \"nordiens\", \"theon\", \"hodor\", \"rickon\", \"winterfell\", \"chef\", \"commandant\", \"trahi\", \"bolton\", \"neige\", \"vaincre\", \"morts\", \"con\", \"victoire\", \"davos\", \"gouverneur\", \"nord\", \"mur\", \"greyjoy\", \"iles\", \"mormont\", \"ramsay\", \"robb\", \"garde\", \"perdu\", \"nuit\", \"armee\", \"tue\", \"stark\", \"hommes\", \"qu\", \"fer\", \"guerre\", \"ca\", \"seigneur\", \"lord\", \"avez\", \"nom\", \"faut\", \"roi\", \"pere\", \"tuer\", \"ete\", \"jamais\", \"maitres\", \"grands\", \"meereen\", \"rappelez\", \"devait\", \"tot\", \"survecu\", \"experience\", \"faux\", \"change\", \"davantage\", \"grace\", \"terrible\", \"vus\", \"penser\", \"brise\", \"revoir\", \"touche\", \"crime\", \"interieur\", \"idee\", \"arrivera\", \"ayez\", \"executer\", \"decision\", \"esprit\", \"esclaves\", \"aimais\", \"etranger\", \"plaisir\", \"rentrer\", \"espere\", \"reine\", \"heureux\", \"choix\", \"vivre\", \"oui\", \"fois\", \"majeste\", \"arya\", \"ici\", \"vrai\", \"qu\", \"ca\", \"jamais\", \"ete\", \"avez\", \"dois\", \"mort\", \"sais\", \"raison\", \"bonne\", \"aime\", \"frere\", \"ans\", \"lady\", \"faire\", \"mieux\", \"bon\", \"cersei\", \"faites\", \"veux\", \"tue\", \"etes\", \"monde\", \"grand\", \"margaery\", \"loras\", \"tyrell\", \"septon\", \"foi\", \"septuaire\", \"avenir\", \"allies\", \"commun\", \"hautjardin\", \"tommen\", \"renly\", \"venger\", \"couronne\", \"ecuyer\", \"fier\", \"reprendre\", \"guere\", \"occupe\", \"aimez\", \"royale\", \"arrivee\", \"messires\", \"merite\", \"tyrion\", \"naissance\", \"grand\", \"digne\", \"titre\", \"maisons\", \"proces\", \"dieux\", \"maison\", \"jaime\", \"reine\", \"stannis\", \"avez\", \"roi\", \"armee\", \"frere\", \"nom\", \"majeste\", \"mere\", \"faire\", \"lannister\", \"ser\", \"cersei\", \"qu\", \"voulez\", \"pere\", \"oui\", \"fils\", \"ici\", \"tuer\", \"walder\", \"chiens\", \"frey\", \"dirai\", \"ramsay\", \"batard\", \"bolton\", \"eddard\", \"gouverneur\", \"devrions\", \"rickon\", \"ned\", \"oublier\", \"robb\", \"hiver\", \"ferait\", \"massacre\", \"loups\", \"ecuyer\", \"dure\", \"tenu\", \"stark\", \"fille\", \"garcon\", \"executer\", \"loup\", \"parles\", \"marcher\", \"partout\", \"noces\", \"lord\", \"petits\", \"manger\", \"bran\", \"epouser\", \"pere\", \"madame\", \"nord\", \"epee\", \"winterfell\", \"laisse\", \"ans\", \"mere\", \"qu\", \"lady\", \"snow\", \"voila\", \"temps\", \"sais\", \"jamais\", \"frere\", \"ici\", \"ca\", \"tue\", \"mort\", \"hommes\", \"veux\", \"andals\", \"souhaite\", \"payer\", \"auras\", \"typhon\", \"premiers\", \"immacules\", \"mange\", \"cite\", \"drole\", \"existe\", \"libre\", \"coupe\", \"cotes\", \"nomme\", \"prix\", \"heureuse\", \"putain\", \"braavos\", \"tuez\", \"guerres\", \"trahison\", \"limier\", \"ferais\", \"bete\", \"esclaves\", \"menteur\", \"emmene\", \"erreur\", \"vivant\", \"prend\", \"sang\", \"dragon\", \"dragons\", \"ville\", \"joffrey\", \"plait\", \"homme\", \"majeste\", \"petite\", \"veux\", \"roi\", \"hommes\", \"garde\", \"qu\", \"demande\", \"reine\", \"stannis\", \"combat\", \"mere\", \"crois\", \"or\", \"oui\", \"nom\", \"mort\", \"ca\", \"avez\", \"ici\", \"pere\", \"fils\", \"cersei\", \"tuer\", \"deteste\", \"devenir\", \"hodor\", \"garder\", \"porter\", \"partez\", \"faim\", \"crime\", \"loups\", \"aube\", \"jouer\", \"reve\", \"visage\", \"peau\", \"emmenez\", \"attendre\", \"revenir\", \"mois\", \"terre\", \"regarde\", \"importance\", \"monstre\", \"ramene\", \"emmene\", \"mettre\", \"rebellion\", \"ramener\", \"route\", \"limier\", \"nomme\", \"dangereux\", \"bois\", \"choses\", \"bran\", \"veux\", \"fort\", \"ca\", \"servir\", \"faut\", \"viens\", \"qu\", \"partir\", \"fois\", \"donne\", \"connais\", \"mort\", \"peur\", \"ete\", \"sais\", \"pere\", \"roi\", \"faire\", \"tue\", \"hommes\", \"jamais\", \"enfant\", \"yeux\", \"mere\", \"monde\", \"ici\", \"frere\", \"valyrien\", \"epees\", \"lame\", \"acier\", \"armure\", \"epee\", \"cul\", \"gros\", \"trouvez\", \"pose\", \"menteur\", \"appartements\", \"appartient\", \"croit\", \"loup\", \"appeler\", \"bois\", \"probleme\", \"jeunes\", \"quitter\", \"su\", \"eau\", \"frappe\", \"envie\", \"cas\", \"retrouver\", \"pars\", \"jolie\", \"offrir\", \"bete\", \"petite\", \"appelle\", \"servir\", \"laissez\", \"ca\", \"putain\", \"dieu\", \"allez\", \"aurais\", \"sansa\", \"ami\", \"veux\", \"mort\", \"qu\", \"or\", \"quelqu\", \"vie\", \"tue\", \"faire\", \"ici\", \"main\", \"homme\", \"jamais\", \"faut\", \"voir\", \"aime\", \"pere\", \"avez\", \"auras\", \"noces\", \"peau\", \"quitte\", \"bats\", \"heros\", \"excuses\", \"revient\", \"capitale\", \"dangereux\", \"loup\", \"meilleur\", \"parait\", \"gorge\", \"poison\", \"naissance\", \"montrer\", \"mari\", \"emporte\", \"lit\", \"aider\", \"sort\", \"croire\", \"pied\", \"croyez\", \"mange\", \"drole\", \"menace\", \"appartements\", \"ferait\", \"doute\", \"sire\", \"sansa\", \"nord\", \"tyrion\", \"jon\", \"000\", \"varys\", \"cause\", \"lord\", \"trone\", \"qu\", \"avez\", \"lannister\", \"roi\", \"monseigneur\", \"ca\", \"mort\", \"etes\", \"monde\", \"faut\", \"faire\", \"oui\", \"sommes\", \"peur\", \"jamais\", \"joffrey\", \"stark\", \"vie\", \"homme\", \"dubbing\", \"adaptation\", \"titrage\", \"brothers\", \"menard\", \"blandine\", \"maville\", \"clotilde\", \"suivez\", \"meilleure\", \"donjon\", \"bruler\", \"attendez\", \"armes\", \"portes\", \"gloire\", \"restez\", \"journee\", \"chercher\", \"capitaine\", \"quitte\", \"juge\", \"regarder\", \"ferme\", \"marcher\", \"idiote\", \"tenu\", \"pitie\", \"capable\", \"bats\", \"rouge\", \"fini\", \"vite\", \"mormont\", \"porte\", \"dis\", \"yeux\", \"vue\", \"laissez\", \"faire\", \"qu\", \"etes\", \"ici\", \"pere\", \"ca\", \"allez\", \"jamais\", \"monde\", \"avez\", \"aurais\", \"tue\", \"homme\", \"hommes\", \"enfants\", \"reine\", \"mourir\", \"fois\", \"faut\", \"brienne\", \"siege\", \"chambre\", \"epoux\", \"plutot\", \"beaute\", \"assassine\", \"combattu\", \"compte\", \"vivesaigues\", \"catelyn\", \"position\", \"danger\", \"hautjardin\", \"secret\", \"noces\", \"ombre\", \"aimait\", \"tully\", \"retrouver\", \"alliance\", \"suivez\", \"devriez\", \"vit\", \"ramsay\", \"braavos\", \"aimez\", \"evidemment\", \"loi\", \"bienvenue\", \"lady\", \"ferai\", \"queue\", \"margaery\", \"000\", \"sansa\", \"chateau\", \"madame\", \"venu\", \"sire\", \"etes\", \"fille\", \"qu\", \"besoin\", \"savoir\", \"enfants\", \"tue\", \"savez\", \"stark\", \"oui\", \"avez\", \"frere\", \"ici\", \"ser\", \"dois\", \"proteger\", \"batards\", \"partout\", \"rebellion\", \"trouves\", \"blancs\", \"devenir\", \"marcheurs\", \"septon\", \"frapper\", \"robert\", \"guerres\", \"heureuse\", \"epouse\", \"facile\", \"nomme\", \"seras\", \"donnez\", \"idee\", \"instant\", \"aimait\", \"stannis\", \"laisserai\", \"neige\", \"argent\", \"signifie\", \"quitte\", \"salle\", \"suite\", \"vite\", \"derniers\", \"loi\", \"garde\", \"bon\", \"oncle\", \"ordres\", \"roi\", \"ans\", \"paix\", \"aurais\", \"winterfell\", \"proteger\", \"lord\", \"qu\", \"ete\", \"ca\", \"femme\", \"sud\", \"faire\", \"homme\", \"oui\", \"avez\", \"mur\", \"frere\", \"etes\", \"joffrey\"], \"Freq\": [847.0, 1645.0, 505.0, 866.0, 450.0, 399.0, 443.0, 262.0, 190.0, 237.0, 166.0, 455.0, 576.0, 220.0, 133.0, 177.0, 351.0, 251.0, 191.0, 839.0, 221.0, 143.0, 764.0, 231.0, 445.0, 521.0, 164.0, 92.0, 306.0, 506.0, 44.22038543417866, 57.95171851001844, 41.01093774243618, 20.873112008337255, 24.795143392814715, 24.924103144443787, 71.11571302833578, 20.07853898096541, 22.06477351259375, 26.07871779501487, 17.20357044719129, 25.668252895035693, 14.883525354053829, 26.30512627466581, 42.73117037394227, 20.603134146918176, 23.526537994465997, 13.490538953111269, 13.250823536327308, 13.971855205116343, 13.28875163908147, 10.635130668006289, 11.46518630993139, 21.312489241141318, 32.5489528281696, 12.335196173461139, 12.907028835439357, 18.895226300449696, 14.314064023634963, 14.949355197171366, 110.87414693637174, 21.951623664949157, 83.9598762152726, 25.00741801326237, 51.74249568490183, 43.83060685880776, 50.63115922676384, 30.59071673467606, 117.5775161153159, 38.99364732553471, 47.032233762658926, 171.9990962705164, 128.26554790728918, 50.33443986054987, 256.08542679851155, 111.81787016059079, 101.67562321664374, 62.81977635301936, 105.82864128809076, 95.48097305625184, 63.12920992804721, 66.75705409932502, 43.5029409478237, 93.77464652522946, 94.78874556150389, 69.4675181533279, 71.55654364285756, 51.49881883495722, 57.945369979278226, 58.95170372980981, 64.91119171145182, 49.75604788892869, 53.78032667989286, 49.92122161207186, 47.04929977928688, 27.947111558309626, 24.762730258467396, 17.617691295252605, 36.96133340806241, 45.23458582471368, 15.055574879439545, 21.498954018775436, 32.963947343716626, 16.16102610322426, 47.736793244571416, 18.04560793223544, 14.952049395581415, 27.177640240400702, 12.48275962748525, 48.744848411882565, 48.377996272404154, 30.09177704780756, 9.707415446927868, 82.6270758616334, 11.287429392090395, 15.59443856448583, 86.64929010908645, 23.781210120070753, 16.7230603905319, 23.31186358711427, 11.338244191104845, 24.924984103203442, 76.64335087010377, 15.6608126456758, 13.815250238213562, 63.44401622444897, 57.701593062925234, 65.99344538766007, 145.13234118515794, 17.624924818277684, 83.52230474943067, 161.62870985435953, 42.276980636671375, 28.823675146892466, 291.8639073222027, 160.02962609185653, 70.5326410455007, 58.450908236089454, 70.92934370664977, 101.63865395752617, 38.051451500260114, 49.24134032364787, 97.7056585909144, 88.2135053986044, 78.16748054148411, 114.27156284084343, 121.33804154133664, 51.526879026236415, 75.42084622363762, 57.568720273258144, 60.204291677317364, 68.03456697412742, 80.28491442335888, 61.08376260053329, 59.78456581075361, 58.63613688396611, 58.25327815977468, 53.466223649379614, 49.28377005471499, 36.52428645905797, 21.292620382244028, 37.777681129640264, 35.74291664949428, 18.31588990093368, 16.205646775506263, 22.051248136461542, 19.87986760437059, 17.12351005957993, 12.177547849907691, 16.535418060992534, 11.606210123476291, 171.20340658061423, 21.580900590507266, 13.27065906962237, 19.119485959377563, 12.3489222710726, 16.880158536123783, 13.805654056582032, 10.78703946041213, 37.11233877463571, 12.783173088374099, 10.235323079896135, 23.26536415942992, 10.597104690408246, 9.029311829961012, 11.705440363044747, 51.76647187785197, 74.27932216888958, 64.60533758091543, 56.254467587606435, 113.06329885303161, 60.11525761694092, 42.499890708648245, 112.4442929659923, 146.00406769990548, 142.69478837888107, 33.87632066856678, 80.69311367492719, 113.71394209492416, 81.10183233076661, 45.58423286098194, 93.38877845056143, 128.51474170557938, 69.94784051856287, 53.86459990448625, 39.05244233930023, 49.919353599349456, 56.46688892010931, 45.428950792193575, 39.174332641296125, 48.28513230238487, 49.0392493654515, 45.88635792512308, 44.31715424090851, 44.698170763755535, 43.94397726860743, 21.625779451888018, 13.555108482077282, 16.729960330252474, 55.00506076217565, 12.34646151575425, 13.2609487552992, 19.26212200858798, 22.45629225113947, 53.10024563024377, 23.641196065533656, 11.123383273027933, 11.137678557732604, 9.039621278543217, 14.627455596142505, 15.150155975536352, 14.879992435054373, 53.64151698503048, 15.207979687095849, 9.927932954599324, 9.162879149226532, 14.570165701208376, 8.638205833460324, 8.307714959156861, 18.164949477034675, 12.750035562327925, 11.21273025292442, 13.41745009815685, 7.706395050307972, 13.739743356392065, 12.970630145770397, 63.6145233959597, 253.91893620264398, 29.82092037826151, 42.75391785870567, 38.000583075559604, 28.311744799564146, 33.05970507132334, 92.9001081353088, 101.35310725926054, 75.87600454619795, 32.14770160063333, 39.61707534239119, 83.50623887459325, 39.21379817709276, 57.38489409078053, 153.85248627983296, 63.31532847353065, 71.58571049399872, 39.38466904778907, 62.6859786459274, 29.680161253084957, 76.32196840169495, 57.8227821759155, 36.2719716770539, 40.040466871694896, 34.518623964204544, 50.78934970608082, 32.64481729939321, 32.17169098865632, 39.70745365455593, 34.02278431054877, 36.34702929284613, 37.502467005098154, 34.960407334742236, 54.05710508848075, 56.18060949975375, 23.36669767885674, 95.0472781273849, 17.595621791603104, 144.90738549996792, 62.58892259518339, 26.304036125666993, 16.809761250481063, 53.560204508120314, 27.066342629240726, 17.390364591787375, 113.80061664291787, 18.354153223118725, 47.32301239390027, 23.340262619935217, 42.92284857517575, 9.805322310341827, 11.85072936275026, 80.79044270710095, 13.063417967221605, 13.17886957246724, 23.31846889416122, 11.73208445881939, 165.73585087281253, 91.66968694514156, 37.01765234457003, 19.288241425921726, 20.72008244284593, 16.83375587836297, 35.84685673604863, 68.9970707667836, 29.345313809882317, 66.14567112138934, 55.54446731569144, 71.76707654184068, 94.26683814713735, 87.26654432504144, 146.2096045915455, 44.2325487762274, 49.08677064651697, 87.39883780371831, 36.007594890430184, 59.677082819819724, 77.92147020274028, 43.677627279701014, 45.35995614775461, 59.58517248313245, 57.78468671790275, 44.16985201200383, 44.23001756833173, 43.0890637895946, 36.2280330552557, 22.03785530256094, 34.079950367857826, 10.940029428201612, 13.81514037144902, 10.446773726713875, 11.957163640165799, 10.106211675618633, 13.641898476251349, 15.093671347651574, 10.888639040713178, 25.423115094179966, 12.062865450842063, 10.912118360773254, 8.145962347735827, 8.661097166711107, 13.368050987965935, 10.162878848841872, 7.7823926790901226, 6.681192665390424, 11.53082661627061, 6.953836732981223, 8.438384852347454, 8.92273832137243, 6.514405404143779, 11.752843955320536, 17.02109356143368, 7.292564852916126, 6.388106555416917, 9.374984574515919, 13.369101090694985, 17.422785372979934, 104.33518001870762, 11.636283232344491, 20.024522230116403, 14.152102021339568, 78.22389788624898, 43.54368636505981, 45.253179763405086, 18.434453148952045, 71.25928560687365, 28.911701959825177, 130.77319937603755, 76.9375739623384, 53.157215004768574, 41.772387294209196, 71.54723393485192, 33.1972937772524, 48.49060570524551, 46.7867066987905, 21.65777347970941, 20.41579496605415, 26.8135906841399, 34.357304894576906, 23.275407040814212, 23.867597758487086, 33.75059926436681, 25.626111553748192, 26.52669347480662, 22.711555957711237, 22.52450678673003, 28.949805823980576, 26.46300273764292, 28.925967303451518, 24.22422976785708, 23.400160981463358, 46.25323031953833, 65.10950832652313, 65.33026100005844, 19.479482068752773, 37.38226516170701, 19.42471946221032, 17.409385135129995, 21.396385935559227, 11.070293025298806, 14.649571312732041, 15.685397776313849, 27.771046167329384, 9.663175392561843, 23.972648256152997, 15.788357040222905, 10.86683452870735, 7.917838751902712, 7.527924475483429, 10.941233380585011, 6.784254175952494, 14.586991819619747, 9.269448293968944, 6.565313758490885, 9.319912192977576, 34.144996942697894, 8.793159924073775, 79.72478178655598, 5.914924205410285, 7.53728039311725, 10.33077469080469, 11.564760624151491, 46.84127955560149, 41.00437848232602, 29.258942692540685, 72.96557579363923, 32.260673565779506, 110.93230755506401, 95.95527051250173, 35.71375149319669, 52.03282611356254, 39.15202756073596, 37.95675952242913, 47.267446767039836, 53.07736666703341, 41.75607326847435, 38.19214002498967, 27.127019477791595, 66.46821341825448, 25.967153379918102, 41.81744600809364, 31.534039707590466, 29.70718644037038, 27.956524430180057, 25.39083765957257, 26.587953557921836, 18.81958950653164, 32.50886180386329, 14.203862502762787, 21.902123351926814, 54.67335181382221, 39.49833640127206, 10.645979623982933, 10.625619064091941, 8.707543116744393, 11.391987990152082, 34.134760210121044, 7.938642077581436, 32.869096935477124, 21.976662444566234, 10.738381526788553, 8.118191731753454, 6.392507280073955, 12.747353274269141, 7.831851413111544, 6.222703868762529, 126.99694110634064, 57.91966457967866, 42.725016500281036, 7.6011712682862616, 16.12546763771818, 6.838436368836554, 5.487179028759574, 6.166923549868784, 13.356572288225314, 99.46170739314186, 12.446069795400918, 12.335162379908253, 16.75033698712787, 11.119896569936742, 101.61051327771254, 27.953333877234023, 53.72842232204226, 29.461224021336957, 30.729208419685865, 21.42665285653556, 24.518062611239884, 37.97029675268281, 75.89255061449218, 24.36847305730498, 21.55556559083855, 20.39045591149667, 24.81062205553398, 32.99171585298228, 33.02536924439287, 29.530029061027356, 30.313221407079247, 33.92623114806763, 24.564022110093497, 25.45171409370033, 23.67585382662657, 23.097718987295938, 9.745624276920159, 13.267394085728485, 15.111229991086187, 10.18154574985831, 7.714759924030839, 14.801566943607703, 22.711222507680546, 8.025962113046988, 10.56412306888234, 9.130617893694225, 6.818051285648484, 19.899039870783973, 9.757816234339312, 14.953542754557832, 7.1330097299685535, 8.320231233640815, 7.108317093660782, 13.022956003897512, 6.67304728272323, 9.291770928810035, 4.884781723615778, 8.903053243082292, 7.843670076117419, 5.683106127378067, 6.4437124517931705, 12.221192215824283, 5.449091181935468, 6.765406014616588, 5.552945638923627, 4.571781243087484, 6.121490807386403, 28.30948958763132, 16.990969967677422, 30.274174372929274, 24.05129538653947, 33.04166241409598, 14.642103506053568, 59.46883927100377, 35.61602275702679, 20.29389976566023, 47.07362398965435, 65.44978075694945, 47.12120707783315, 27.417699745650093, 78.45859983349726, 19.957032159015835, 35.231526739668006, 20.572931368202724, 13.559039997154368, 24.8783817660666, 17.867584397302792, 17.349009434456686, 24.451076918076513, 19.549462958047478, 22.698442111537812, 26.13934719654553, 25.522030823205576, 20.745227328282724, 21.56508488178489, 19.510621801163023, 17.110536574497814, 17.558924109113764, 14.545404757246486, 13.974273453932486, 17.04272308117139, 12.65615668545399, 10.456011564542708, 13.041627479513542, 13.628414632249571, 7.097470564765347, 6.451074559625683, 7.3776192588782825, 6.55573228226696, 9.70349506457029, 16.524418958600112, 8.371910618840024, 8.309020869860543, 11.928066183584484, 6.73866809228722, 5.043973016512843, 8.736891641690558, 20.980263971438664, 7.52978904760503, 8.402915622528694, 8.344810446273389, 7.376218470348491, 10.226674316963026, 4.365160949737006, 8.124077042895395, 14.246911482669272, 6.921081439221454, 5.182726959272888, 7.042368017815378, 14.41191346085183, 16.561478598317187, 13.215925633711883, 55.24866119783585, 18.023427393155046, 79.16866403342466, 14.050337505178504, 32.98378727321195, 17.941249350938936, 84.91219356186933, 15.861455617327088, 24.975594375623032, 19.860751681438458, 15.668803960209784, 29.91010496494706, 18.73800079902767, 25.217485762687446, 28.061517680397337, 34.42374099513585, 35.58869209074486, 28.770824312091058, 22.01723021302226, 22.903833228821266, 20.684070959809745, 15.934801795134897, 15.508304902677555, 17.23529019338139, 16.33835031617294, 17.2631398390261, 16.06879678095214, 19.9290708400732, 16.696547245775626, 16.242630899262604, 23.328395128827044, 16.414278100088126, 66.59492544377497, 10.01401150016836, 14.2526001272621, 8.239396179083734, 8.242164327932912, 8.750123222168927, 6.81689956274135, 7.539088789765511, 7.27364358668088, 16.224707240728204, 5.301252926706947, 19.80871047590099, 6.211834242513256, 5.4949757718441825, 5.733415685710275, 7.904842200658347, 12.86214071502857, 6.51751754942444, 7.3794632641142055, 6.364899516408973, 5.815075851251716, 6.974369842266617, 10.474106915706802, 6.998212307984918, 6.273379103201961, 27.16521543641416, 16.447515170842316, 13.285024678183738, 15.262994387766543, 58.61984692794513, 9.564515120147705, 13.309492834198934, 21.004613579070046, 17.66997980628531, 20.311713480474616, 15.123165327465152, 31.618977462598686, 30.39585268421806, 56.20725440453904, 17.46075628190447, 13.754456871523313, 22.006026672663264, 22.13105801858319, 24.392561008861563, 24.175230266706173, 16.819499264760147, 21.120547938620025, 20.80866155176332, 17.808122226625944, 17.158525764435684, 16.25686258884425, 17.457580092574126, 17.13481869514351, 12.126831924767181, 17.646477360879206, 9.48100370270743, 7.128817135247266, 7.966607417612446, 6.5274787208565, 5.531958648798536, 6.023073708113099, 11.974169915258232, 8.405931085449975, 14.795581672899091, 16.884834224993927, 9.261703567592441, 4.364022945681644, 4.5598567038529945, 5.74828656164726, 5.636392015757456, 8.943082424835996, 4.607778446001217, 8.475992249332132, 14.199082910361424, 9.402794222486465, 8.150568796997959, 4.309011675051248, 10.885728807126375, 4.675776021870868, 5.39969997208412, 6.043249274664414, 3.708443034932477, 5.960066650950826, 6.795140668704342, 21.26918808223625, 24.054070566694264, 39.83767340334076, 15.250833979202444, 25.617378197063356, 9.251815618623073, 8.397119675577814, 8.469824098890216, 29.72817188069157, 16.100140777146777, 64.70865054357071, 41.68965536252164, 23.632812502039823, 31.757538274270473, 11.560602772007888, 31.01047101173357, 21.16267019179637, 23.092993141788018, 16.573545823835524, 17.109994762458335, 18.728800740268294, 17.540022866608616, 12.381142487191973, 12.707567058317858, 15.81562287039724, 12.668270938717775, 14.56556500144797, 13.504885100427662, 13.750524771925603, 48.916028043462454, 48.91602804346245, 48.91602804346245, 48.91602804346245, 24.949632337687216, 24.949632337687216, 24.02784730943929, 24.02784730872119, 9.501859325657604, 7.361973514610801, 10.907590991675816, 11.137620513818865, 10.241762120701564, 10.664838771396747, 16.00664023801464, 6.967507223823314, 7.090160101543402, 4.020433428615356, 10.267907726647184, 7.283436746821335, 5.191253325750978, 3.962933977787548, 6.826820996668434, 5.098496584970367, 3.895652280120649, 4.651536784010278, 3.9781826010668984, 14.290505373543137, 3.837979049307031, 4.844451357455516, 11.391289240958479, 10.99681381464051, 11.439432098520912, 7.387310137496871, 12.61482266676409, 15.414515404472468, 13.7093344926659, 8.732760051242263, 11.23396360973039, 27.587530730926936, 50.15021586668992, 28.154845072679798, 26.65761176237244, 30.481073650396645, 31.629781272221962, 15.260189292965876, 21.009775491274716, 16.301886541933936, 22.05601093130363, 13.38718392927536, 14.736296178537392, 14.881139114904345, 15.183698976352897, 13.164780047369355, 14.062383136994002, 12.58346544390319, 12.832058922783999, 12.723053188042211, 23.128680321346653, 13.527215083633129, 8.488003399428601, 7.540114052714384, 10.257061767927418, 8.94235256307732, 6.981717169491625, 6.684688744728886, 16.08328787504168, 7.857327750677682, 8.079318042599153, 4.619750623632428, 6.165319143103476, 5.751186425721318, 5.01733272998937, 9.080004145412639, 4.629095192877289, 8.126962610481602, 4.983580418074467, 4.358297074125661, 3.5797201850749065, 3.6186514557798346, 5.4974062792986045, 2.899968674009334, 6.285076242149425, 3.8366533245230814, 2.932762163554759, 3.319230950923226, 4.068230627729072, 4.113068631158654, 22.156357386036557, 10.1071464101591, 6.19836589770923, 6.243343862436228, 7.138650521266997, 16.00097058470159, 9.415794750876854, 12.964665642524634, 9.883200367861408, 11.133290465932976, 25.767617148431363, 14.842891350423999, 45.304583359551366, 13.063596391193347, 9.181034687023557, 11.6860464664567, 12.68253200113588, 9.2000747631277, 14.43766842572853, 13.922803579957957, 15.50670695737719, 12.348589354932233, 11.288115791619404, 10.143279077308215, 8.46007328028283, 8.232376027028776, 4.685936897755506, 4.443961578875636, 3.3911605754929264, 3.8676916113230666, 4.938060354271215, 4.937999493049955, 4.9380603351444625, 3.5253741504956713, 2.6681582589722543, 14.879784545728546, 2.2603195656920496, 2.9888260758480065, 9.11388906958905, 3.6466102257312594, 2.5663983895040046, 5.518400023168631, 2.5817946652303303, 3.2856175813837125, 2.014208761672634, 4.304613835211838, 13.945353615428656, 2.0237895800653534, 1.7849828468652862, 4.9982292777388455, 2.014208904801958, 1.9322163228582254, 2.014208915990561, 1.8891010319447614, 5.578599096423999, 1.5109495218918507, 2.0142088887203062, 13.902786214806314, 13.316062260168634, 4.29787639229207, 3.566011691139072, 19.8479670516531, 6.46705710695246, 4.139107352504759, 5.835278035003645, 6.777521651978826, 4.9798011473200035, 9.049996523867774, 16.162729864999307, 6.9613860612455785, 9.072118544378007, 5.706701557977184, 4.498968549588857, 7.172491435820534, 6.544839554501163, 6.580598568986764, 6.718678136617592, 4.80130326245761, 5.004811719859717, 5.035948559501772, 4.671029494784844], \"Total\": [847.0, 1645.0, 505.0, 866.0, 450.0, 399.0, 443.0, 262.0, 190.0, 237.0, 166.0, 455.0, 576.0, 220.0, 133.0, 177.0, 351.0, 251.0, 191.0, 839.0, 221.0, 143.0, 764.0, 231.0, 445.0, 521.0, 164.0, 92.0, 306.0, 506.0, 45.14207213746382, 65.68308652300509, 49.96533152553476, 26.475970425010537, 31.501385866282327, 32.31230815244051, 93.21745242624638, 27.657994079487434, 31.419795179204325, 38.45755256019942, 26.38130564091618, 40.38570066712079, 24.71603122387437, 44.51630822028888, 72.63918952473529, 35.35607346408063, 40.60419881940335, 23.631458369995133, 23.669386252929254, 25.689994554933207, 25.625348713127487, 20.62249963945524, 22.542607575523558, 43.37499177617415, 67.24353807126843, 25.724087535980413, 27.1336466852943, 40.37549779182353, 30.62901740360911, 32.58597959389493, 264.7628036592146, 49.10630163482053, 221.46626375317373, 56.97428258018662, 136.04542958726645, 114.67720974045923, 145.78464290416215, 75.78873724723897, 458.8758070764081, 105.78310481425396, 137.6720384419985, 866.840873421407, 576.1022608061309, 153.0407537119858, 1645.5643575411732, 488.47963073973574, 455.6571735197681, 221.16750445105336, 530.7292649645589, 521.7168003100636, 262.4322800732396, 313.1340991232637, 132.40209587589712, 764.1811059114984, 839.9328755851695, 445.17399640982984, 506.78419975454796, 218.6862549286267, 306.26279290433024, 376.904961340029, 529.7373118282867, 219.19634940483098, 461.67400680620875, 291.5082389217382, 332.4177780943749, 38.481221923377994, 35.46726068222764, 25.621699822454623, 55.15536870158811, 67.87883431687247, 24.58967939843298, 36.02822547589449, 58.195790797111165, 29.39929727403246, 88.7245794433317, 33.60372328223545, 28.708766707748914, 52.88374631997005, 25.520431959934292, 101.35394859002352, 101.33185978137114, 63.85591819388916, 20.70776217305325, 177.85833522589363, 24.726235526985644, 34.5015366463561, 192.18199048977968, 52.938728536072915, 37.22863454160863, 52.26835932107875, 25.532540414581373, 56.148656457638964, 172.90514473574993, 35.41897954531372, 31.494786531598766, 147.79529406065512, 139.14467008129856, 172.02440203878723, 443.0262890985365, 40.53634443852434, 257.52320139147946, 576.1022608061309, 116.96170272127482, 75.55398457293974, 1645.5643575411732, 839.9328755851695, 276.5680953594484, 211.18130844509136, 291.5082389217382, 529.7373118282867, 110.2606757972628, 167.89569297415292, 521.7168003100636, 445.17399640982984, 376.904961340029, 764.1811059114984, 866.840873421407, 196.13811793400794, 506.78419975454796, 261.76441381287185, 306.26279290433024, 458.8758070764081, 847.8444092743981, 530.7292649645589, 488.47963073973574, 461.67400680620875, 455.6571735197681, 336.19517163124095, 55.753305845704624, 54.496290280046196, 31.83640757364589, 57.62789808464645, 60.42347077244857, 31.685560232827648, 28.73976390182807, 39.86747832066212, 36.587035512562274, 31.97800003673552, 24.745930496649553, 33.7304224921527, 23.73955853926574, 351.6637226597788, 44.50012521542845, 27.69688270962412, 41.737596612007366, 27.622928528737667, 37.87812515979327, 31.526687945462346, 24.71327063686547, 85.33307034876029, 29.655481894829748, 24.717179139616697, 56.43531782463794, 25.708816277412478, 22.672813329053053, 29.541923739122563, 131.71412708084077, 191.43314394352487, 177.4090602961616, 164.69864360905487, 400.9735544707566, 199.24713291829508, 141.51679055365565, 505.7054179808947, 764.1811059114984, 847.8444092743981, 119.01449931187346, 450.6835233294714, 839.9328755851695, 506.78419975454796, 221.16750445105336, 866.840873421407, 1645.5643575411732, 530.7292649645589, 332.4177780943749, 194.41370034048506, 376.904961340029, 576.1022608061309, 336.19517163124095, 218.6862549286267, 445.17399640982984, 521.7168003100636, 461.67400680620875, 405.1827884814153, 455.6571735197681, 529.7373118282867, 35.01900779870502, 23.654403700323503, 31.515598881430005, 104.27248637566761, 23.60836048423873, 25.803451394217152, 37.828305798244735, 44.33439362569335, 106.76720001702951, 49.849577202271824, 24.43510947800606, 25.517635430455364, 20.747600772384043, 34.34378458410665, 36.33242375836541, 36.27248854325775, 133.77647414139645, 39.12131159902158, 26.499554346628624, 24.53149537857317, 39.54822679957969, 23.538277102579016, 22.644626831133237, 50.197823308916355, 35.35607346408063, 31.526687945462346, 38.39162567452018, 22.59161104386842, 40.320862786377255, 39.55435417295807, 196.07144554694887, 847.8444092743981, 92.49587464600376, 141.51679055365565, 125.40007070764071, 91.58268962803872, 110.8621534185688, 400.9735544707566, 450.6835233294714, 332.4177780943749, 120.01420236920536, 167.89569297415292, 505.7054179808947, 171.59197052789838, 313.1340991232637, 1645.5643575411732, 405.1827884814153, 529.7373118282867, 199.70700028557354, 461.67400680620875, 121.41740925871082, 764.1811059114984, 458.8758070764081, 208.19864451039854, 291.5082389217382, 196.13811793400794, 839.9328755851695, 171.59273649208603, 166.97541826407576, 506.78419975454796, 261.76441381287185, 488.47963073973574, 866.840873421407, 521.7168003100636, 64.87071024831319, 76.0123627846155, 33.69593261176116, 143.07777215501585, 26.952749913928805, 237.57279659807855, 105.52973885304412, 44.75051071416338, 28.89788338172006, 93.03247821885535, 49.393950463174455, 33.26125174061404, 220.94408771094754, 36.82320866786709, 97.40133091109833, 49.70202947128209, 94.53783351993806, 21.868992183045048, 26.646382020645596, 184.56173764847108, 29.9489153250843, 30.693769983876116, 54.333626614675055, 28.04110294526716, 399.09261154973575, 221.46626375317373, 91.66603920453191, 49.67996104141479, 54.26737467412467, 46.27974641281095, 108.94924128136452, 262.4322800732396, 90.85730135421821, 264.7628036592146, 211.18130844509136, 332.2897294661647, 505.7054179808947, 529.7373118282867, 1645.5643575411732, 196.13811793400794, 257.52320139147946, 866.840873421407, 139.0577159725364, 450.6835233294714, 839.9328755851695, 265.63247166984854, 306.26279290433024, 847.8444092743981, 764.1811059114984, 287.5606342044099, 336.19517163124095, 488.47963073973574, 55.635365964178185, 40.698707180075466, 65.4383532280624, 21.713172812693774, 29.711698146386112, 22.802150890524114, 27.4774821030242, 25.618095630872045, 35.54554914149226, 39.621249895239984, 29.00777984767496, 68.18721519769282, 32.64520234169152, 33.609568577403294, 25.507947031735835, 27.606120895585626, 42.694339708495804, 32.58597959389493, 25.04477948822262, 21.784975786148106, 38.22454395259229, 23.5046110399336, 28.683943403338727, 30.874689896674187, 22.656869893178825, 41.414416767148914, 60.01458437395442, 25.775190297258536, 22.83077742937893, 33.81464299365915, 48.46761281736544, 64.31389287464073, 443.0262890985365, 42.68303293154585, 78.14205207585884, 53.72519620345985, 506.78419975454796, 242.58334749378784, 261.76441381287185, 80.4542979070994, 530.7292649645589, 150.3458112512862, 1645.5643575411732, 866.840873421407, 488.47963073973574, 336.19517163124095, 839.9328755851695, 236.61458813113438, 461.67400680620875, 458.8758070764081, 122.18765342726277, 107.899289624233, 219.19634940483098, 405.1827884814153, 165.21359940452004, 177.4090602961616, 521.7168003100636, 224.35787094677352, 251.89209890259824, 172.02440203878723, 170.00215607303792, 455.6571735197681, 332.2897294661647, 576.1022608061309, 276.5680953594484, 282.1619782829816, 54.85707306384336, 77.22471390610596, 92.99939646186613, 29.41158086846217, 57.64765541385702, 30.303534401524903, 28.49120195331253, 41.37193620077481, 21.50030041282463, 32.38957621655873, 41.52819951797457, 74.6672470164076, 26.63518038026157, 69.4115977168335, 46.29550624367179, 33.567245202574014, 24.48290763226081, 23.645310957216875, 34.40217855133038, 22.42353338286419, 49.23766538295472, 31.72108325553943, 22.685670236136872, 32.4792112252355, 119.01449931187346, 30.700524778754897, 282.1619782829816, 21.66433440399562, 27.61715405132965, 39.36116124068464, 44.50012521542845, 208.19864451039854, 194.41370034048506, 131.71412708084077, 443.0262890985365, 166.97541826407576, 839.9328755851695, 847.8444092743981, 211.18130844509136, 405.1827884814153, 265.63247166984854, 261.76441381287185, 376.904961340029, 521.7168003100636, 351.6637226597788, 332.4177780943749, 172.02440203878723, 1645.5643575411732, 173.2858359237713, 764.1811059114984, 506.78419975454796, 400.9735544707566, 530.7292649645589, 287.5606342044099, 33.166859247659765, 31.962870231276746, 56.07482759685333, 26.85108826418655, 46.27974641281095, 121.74282602185772, 94.53783351993806, 25.803451394217152, 28.04110294526716, 23.81927663549665, 33.26125174061404, 108.5817571803806, 25.9039006656319, 108.94924128136452, 73.35213582533302, 36.724077343414244, 28.708766707748914, 22.862639877352674, 46.29550624367179, 29.735827153537603, 24.49376177320817, 505.7054179808947, 231.89527617847443, 171.59197052789838, 30.874689896674187, 65.73766905646312, 27.983739339711935, 22.696749246701135, 25.548297163682435, 55.51492820136726, 450.6835233294714, 53.72284208341404, 53.83626202278049, 76.23943941677406, 48.33489947494406, 764.1811059114984, 164.69864360905487, 399.09261154973575, 190.05507725125105, 220.94408771094754, 129.63279858942346, 165.21359940452004, 376.904961340029, 1645.5643575411732, 177.4090602961616, 143.07777215501585, 127.44788926994482, 214.21110192341587, 458.8758070764081, 488.47963073973574, 405.1827884814153, 530.7292649645589, 866.840873421407, 332.2897294661647, 461.67400680620875, 529.7373118282867, 455.6571735197681, 24.43510947800606, 33.51212757531483, 41.221590364550615, 28.29017142821497, 23.446036220712223, 45.04739612957134, 75.55398457293974, 27.434468117232676, 37.22863454160863, 32.230853893380754, 24.56887840636227, 71.70972939326276, 35.570627328913304, 54.893362150834115, 26.827790930448344, 34.34378458410665, 29.51059688760886, 54.76365643013909, 28.576499929460233, 40.29668661465302, 21.70605541986735, 40.320862786377255, 35.64297906680083, 27.49835431845182, 31.552171950301542, 60.01458437395442, 27.537030115758167, 34.433634062485865, 28.4259633835947, 23.498724844792577, 31.55678694911497, 153.0407537119858, 92.18427659799708, 177.85833522589363, 139.14467008129856, 199.24713291829508, 80.7334106937743, 445.17399640982984, 261.76441381287185, 136.8734659453849, 455.6571735197681, 847.8444092743981, 529.7373118282867, 262.4322800732396, 1645.5643575411732, 156.51472529032245, 443.0262890985365, 166.97541826407576, 83.75020569597272, 376.904961340029, 173.56017290745632, 171.07548005576362, 506.78419975454796, 265.63247166984854, 461.67400680620875, 866.840873421407, 839.9328755851695, 530.7292649645589, 764.1811059114984, 400.9735544707566, 172.02440203878723, 287.5606342044099, 29.035580838953898, 35.74329147574988, 49.393950463174455, 38.79109320983527, 34.91975123808539, 44.13543110035787, 47.7982570361143, 25.04477948822262, 22.862639877352674, 27.816339384033977, 24.764913474265445, 37.81529675313145, 65.503820538727, 33.644541535505965, 33.69964367905077, 49.784967399205165, 28.697046611702362, 21.770619104093694, 37.786238250850644, 94.0200366733515, 33.87633766264504, 38.57160093614909, 38.740786033603904, 34.433634062485865, 48.71041875800261, 20.80001395941778, 39.47369426795773, 70.38302813152526, 35.64297906680083, 26.827790930448344, 36.61191100553921, 81.39500219312887, 96.32349298921206, 76.23943941677406, 455.6571735197681, 113.24282186454907, 866.840873421407, 85.48277303003401, 306.26279290433024, 132.40209587589712, 1645.5643575411732, 108.67118297173647, 242.58334749378784, 164.87441956393135, 114.05914541858156, 461.67400680620875, 180.7353334547978, 336.19517163124095, 458.8758070764081, 764.1811059114984, 847.8444092743981, 521.7168003100636, 332.2897294661647, 529.7373118282867, 488.47963073973574, 154.38367126883952, 137.6720384419985, 376.904961340029, 276.5680953594484, 530.7292649645589, 405.1827884814153, 30.72885690429146, 29.698833246202252, 29.58785021955193, 54.40682750927909, 41.37921038560504, 190.05507725125105, 28.723505993228326, 41.39051741421904, 24.503847285320756, 24.621072435145706, 27.537030115758167, 22.718661513287284, 28.69348795081169, 28.485925042788324, 65.73766905646312, 21.78074972223522, 81.39500219312887, 25.529462910586133, 22.778382930832464, 24.69626067108032, 34.47046943110065, 58.24716907448286, 30.351449820760923, 34.58892709198363, 30.597549020204784, 28.009172522662197, 33.70387010970581, 51.34164660928142, 34.53633492966297, 31.552171950301542, 136.8734659453849, 83.40055081782835, 85.48277303003401, 109.96565476872964, 866.840873421407, 54.76365643013909, 92.49587464600376, 199.70700028557354, 151.13023962138683, 191.43314394352487, 121.41740925871082, 455.6571735197681, 461.67400680620875, 1645.5643575411732, 171.07548005576362, 105.80365899094949, 313.1340991232637, 332.2897294661647, 521.7168003100636, 530.7292649645589, 196.07144554694887, 445.17399640982984, 488.47963073973574, 306.26279290433024, 291.5082389217382, 219.19634940483098, 764.1811059114984, 839.9328755851695, 28.29017142821497, 55.51492820136726, 33.644541535505965, 27.260077444158146, 31.29431456989475, 26.563937289005814, 22.594739262562445, 25.687021973360547, 51.909837964599774, 36.61191100553921, 65.73766905646312, 75.87653617585194, 45.3363656319055, 21.62017508678772, 23.73955853926574, 30.700524778754897, 30.449519066014172, 49.405045166989396, 25.55984191059529, 47.43083586372413, 79.57761486348588, 53.13295326454216, 46.31465627376437, 24.51999925380429, 63.249795119427546, 27.434468117232676, 32.230853893380754, 36.59662682565174, 22.718661513287284, 36.724077343414244, 42.28409426502514, 138.18540241735508, 191.43314394352487, 399.09261154973575, 119.01449931187346, 237.57279659807855, 65.84115649664483, 57.83100694979154, 59.30943273456848, 450.6835233294714, 167.89569297415292, 1645.5643575411732, 839.9328755851695, 351.6637226597788, 847.8444092743981, 104.27248637566761, 866.840873421407, 461.67400680620875, 576.1022608061309, 276.5680953594484, 306.26279290433024, 521.7168003100636, 506.78419975454796, 156.9186377716159, 180.7353334547978, 488.47963073973574, 199.24713291829508, 505.7054179808947, 313.1340991232637, 445.17399640982984, 49.84056426071993, 49.84056426071992, 49.84056426071992, 49.84056426071992, 25.874168534001388, 25.874168534001388, 24.952384145950575, 24.95238414602778, 25.101748761214193, 24.167773552939707, 38.68543157724577, 42.76778782381013, 39.75396817477888, 42.66103753448832, 68.03609298018249, 32.180170152278606, 33.19394952474039, 20.44351262634827, 52.6163112204651, 37.828305798244735, 27.260077444158146, 21.526302239538218, 38.028149915907434, 29.3313912248622, 22.696749246701135, 27.1336466852943, 24.49376177320817, 88.06725836859218, 24.427498299547487, 31.29431456989475, 77.80259228868381, 78.53481184280544, 83.28492487737799, 54.26737467412467, 114.67720974045923, 155.16173295212144, 137.6720384419985, 71.02945537243228, 109.96565476872964, 521.7168003100636, 1645.5643575411732, 576.1022608061309, 530.7292649645589, 764.1811059114984, 866.840873421407, 199.70700028557354, 488.47963073973574, 276.5680953594484, 839.9328755851695, 151.13023962138683, 332.2897294661647, 445.17399640982984, 529.7373118282867, 217.39768073738503, 443.0262890985365, 171.59273649208603, 242.58334749378784, 306.26279290433024, 45.80353549741081, 39.55435417295807, 26.76365974806985, 25.472831264934097, 36.39594133608236, 34.679332242228405, 31.494786531598766, 31.747949560501684, 77.1038011084764, 37.87812515979327, 39.86747832066212, 23.642316220509965, 31.698175078457627, 32.38957621655873, 28.744376371195372, 55.51492820136726, 28.521515594044786, 51.24064692393658, 31.97800003673552, 28.009172522662197, 24.71327063686547, 25.101748761214193, 38.5685401269965, 20.747600772384043, 46.27974641281095, 28.576499929460233, 22.42353338286419, 25.592938391467438, 32.117312125500696, 32.582177946424984, 177.4090602961616, 84.90690079854747, 51.29411938600518, 54.85707306384336, 65.84115649664483, 191.43314394352487, 101.07953581812288, 164.69864360905487, 113.5706196562056, 138.18540241735508, 576.1022608061309, 231.89527617847443, 1645.5643575411732, 200.92984351827317, 119.57602531385305, 217.39768073738503, 332.2897294661647, 133.49521473698314, 505.7054179808947, 506.78419975454796, 839.9328755851695, 405.1827884814153, 530.7292649645589, 332.4177780943749, 236.61458813113438, 122.71153216357048, 22.528900645555673, 25.548297163682435, 20.80001395941778, 25.724087535980413, 34.77514114113394, 35.74329147574988, 39.86302519079743, 29.41158086846217, 22.631585073654016, 133.77647414139645, 21.70605541986735, 29.51059688760886, 90.57584948040767, 36.339878517737844, 26.827790930448344, 58.82598252218903, 27.736358570875396, 38.22454395259229, 23.77610221405174, 51.24064692393658, 166.97541826407576, 24.717179139616697, 21.868992183045048, 61.672990534240434, 25.54441758879618, 27.260077444158146, 28.61948902766758, 26.926282791945148, 83.28492487737799, 23.607086802697097, 32.117312125500696, 262.4322800732396, 251.89209890259824, 82.33328120917224, 64.10458430755325, 847.8444092743981, 165.21359940452004, 82.65654800228202, 151.13023962138683, 220.94408771094754, 122.71153216357048, 450.6835233294714, 1645.5643575411732, 336.19517163124095, 866.840873421407, 221.16750445105336, 105.78310481425396, 521.7168003100636, 445.17399640982984, 506.78419975454796, 839.9328755851695, 221.46626375317373, 405.1827884814153, 576.1022608061309, 199.24713291829508], \"Category\": [\"Default\", \"Default\", \"Default\", \"Default\", \"Default\", \"Default\", \"Default\", \"Default\", \"Default\", \"Default\", \"Default\", \"Default\", \"Default\", \"Default\", \"Default\", \"Default\", \"Default\", \"Default\", \"Default\", \"Default\", \"Default\", \"Default\", \"Default\", \"Default\", \"Default\", \"Default\", \"Default\", \"Default\", \"Default\", \"Default\", \"Topic1\", \"Topic1\", \"Topic1\", \"Topic1\", \"Topic1\", \"Topic1\", \"Topic1\", \"Topic1\", \"Topic1\", \"Topic1\", \"Topic1\", \"Topic1\", \"Topic1\", \"Topic1\", \"Topic1\", \"Topic1\", \"Topic1\", \"Topic1\", \"Topic1\", \"Topic1\", \"Topic1\", \"Topic1\", \"Topic1\", \"Topic1\", \"Topic1\", \"Topic1\", \"Topic1\", \"Topic1\", \"Topic1\", \"Topic1\", \"Topic1\", \"Topic1\", \"Topic1\", \"Topic1\", \"Topic1\", \"Topic1\", \"Topic1\", \"Topic1\", \"Topic1\", \"Topic1\", \"Topic1\", \"Topic1\", \"Topic1\", \"Topic1\", \"Topic1\", \"Topic1\", \"Topic1\", \"Topic1\", \"Topic1\", \"Topic1\", \"Topic1\", \"Topic1\", \"Topic1\", \"Topic1\", \"Topic1\", \"Topic1\", \"Topic1\", \"Topic1\", \"Topic1\", \"Topic1\", \"Topic1\", \"Topic1\", \"Topic1\", \"Topic1\", \"Topic1\", \"Topic2\", \"Topic2\", \"Topic2\", \"Topic2\", \"Topic2\", \"Topic2\", \"Topic2\", \"Topic2\", \"Topic2\", \"Topic2\", \"Topic2\", \"Topic2\", \"Topic2\", \"Topic2\", \"Topic2\", \"Topic2\", \"Topic2\", \"Topic2\", \"Topic2\", \"Topic2\", \"Topic2\", \"Topic2\", \"Topic2\", \"Topic2\", \"Topic2\", \"Topic2\", \"Topic2\", \"Topic2\", \"Topic2\", \"Topic2\", \"Topic2\", \"Topic2\", \"Topic2\", \"Topic2\", \"Topic2\", \"Topic2\", \"Topic2\", \"Topic2\", \"Topic2\", \"Topic2\", \"Topic2\", \"Topic2\", \"Topic2\", \"Topic2\", \"Topic2\", \"Topic2\", \"Topic2\", \"Topic2\", \"Topic2\", \"Topic2\", \"Topic2\", \"Topic2\", \"Topic2\", \"Topic2\", \"Topic2\", \"Topic2\", \"Topic2\", \"Topic2\", \"Topic2\", \"Topic2\", \"Topic2\", \"Topic2\", \"Topic2\", \"Topic3\", \"Topic3\", \"Topic3\", \"Topic3\", \"Topic3\", \"Topic3\", \"Topic3\", \"Topic3\", \"Topic3\", \"Topic3\", \"Topic3\", \"Topic3\", \"Topic3\", \"Topic3\", \"Topic3\", \"Topic3\", \"Topic3\", \"Topic3\", \"Topic3\", \"Topic3\", \"Topic3\", \"Topic3\", \"Topic3\", \"Topic3\", \"Topic3\", \"Topic3\", \"Topic3\", \"Topic3\", \"Topic3\", \"Topic3\", \"Topic3\", \"Topic3\", \"Topic3\", \"Topic3\", \"Topic3\", \"Topic3\", \"Topic3\", \"Topic3\", \"Topic3\", \"Topic3\", \"Topic3\", \"Topic3\", \"Topic3\", \"Topic3\", \"Topic3\", \"Topic3\", \"Topic3\", \"Topic3\", \"Topic3\", \"Topic3\", \"Topic3\", \"Topic3\", \"Topic3\", \"Topic3\", \"Topic3\", \"Topic3\", \"Topic3\", \"Topic3\", \"Topic4\", \"Topic4\", \"Topic4\", \"Topic4\", \"Topic4\", \"Topic4\", \"Topic4\", \"Topic4\", \"Topic4\", \"Topic4\", \"Topic4\", \"Topic4\", \"Topic4\", \"Topic4\", \"Topic4\", \"Topic4\", \"Topic4\", \"Topic4\", \"Topic4\", \"Topic4\", \"Topic4\", \"Topic4\", \"Topic4\", \"Topic4\", \"Topic4\", \"Topic4\", \"Topic4\", \"Topic4\", \"Topic4\", \"Topic4\", \"Topic4\", \"Topic4\", \"Topic4\", \"Topic4\", \"Topic4\", \"Topic4\", \"Topic4\", \"Topic4\", \"Topic4\", \"Topic4\", \"Topic4\", \"Topic4\", \"Topic4\", \"Topic4\", \"Topic4\", \"Topic4\", \"Topic4\", \"Topic4\", \"Topic4\", \"Topic4\", \"Topic4\", \"Topic4\", \"Topic4\", \"Topic4\", \"Topic4\", \"Topic4\", \"Topic4\", \"Topic4\", \"Topic4\", \"Topic4\", \"Topic4\", \"Topic4\", \"Topic4\", \"Topic4\", \"Topic5\", \"Topic5\", \"Topic5\", \"Topic5\", \"Topic5\", \"Topic5\", \"Topic5\", \"Topic5\", \"Topic5\", \"Topic5\", \"Topic5\", \"Topic5\", \"Topic5\", \"Topic5\", \"Topic5\", \"Topic5\", \"Topic5\", \"Topic5\", \"Topic5\", \"Topic5\", \"Topic5\", \"Topic5\", \"Topic5\", \"Topic5\", \"Topic5\", \"Topic5\", \"Topic5\", \"Topic5\", \"Topic5\", \"Topic5\", \"Topic5\", \"Topic5\", \"Topic5\", \"Topic5\", \"Topic5\", \"Topic5\", \"Topic5\", \"Topic5\", \"Topic5\", \"Topic5\", \"Topic5\", \"Topic5\", \"Topic5\", \"Topic5\", \"Topic5\", \"Topic5\", \"Topic5\", \"Topic5\", \"Topic5\", \"Topic5\", \"Topic5\", \"Topic5\", \"Topic6\", \"Topic6\", \"Topic6\", \"Topic6\", \"Topic6\", \"Topic6\", \"Topic6\", \"Topic6\", \"Topic6\", \"Topic6\", \"Topic6\", \"Topic6\", \"Topic6\", \"Topic6\", \"Topic6\", \"Topic6\", \"Topic6\", \"Topic6\", \"Topic6\", \"Topic6\", \"Topic6\", \"Topic6\", \"Topic6\", \"Topic6\", \"Topic6\", \"Topic6\", \"Topic6\", \"Topic6\", \"Topic6\", \"Topic6\", \"Topic6\", \"Topic6\", \"Topic6\", \"Topic6\", \"Topic6\", \"Topic6\", \"Topic6\", \"Topic6\", \"Topic6\", \"Topic6\", \"Topic6\", \"Topic6\", \"Topic6\", \"Topic6\", \"Topic6\", \"Topic6\", \"Topic6\", \"Topic6\", \"Topic6\", \"Topic6\", \"Topic6\", \"Topic6\", \"Topic6\", \"Topic6\", \"Topic6\", \"Topic6\", \"Topic6\", \"Topic6\", \"Topic6\", \"Topic6\", \"Topic6\", \"Topic6\", \"Topic6\", \"Topic6\", \"Topic6\", \"Topic6\", \"Topic7\", \"Topic7\", \"Topic7\", \"Topic7\", \"Topic7\", \"Topic7\", \"Topic7\", \"Topic7\", \"Topic7\", \"Topic7\", \"Topic7\", \"Topic7\", \"Topic7\", \"Topic7\", \"Topic7\", \"Topic7\", \"Topic7\", \"Topic7\", \"Topic7\", \"Topic7\", \"Topic7\", \"Topic7\", \"Topic7\", \"Topic7\", \"Topic7\", \"Topic7\", \"Topic7\", \"Topic7\", \"Topic7\", \"Topic7\", \"Topic7\", \"Topic7\", \"Topic7\", \"Topic7\", \"Topic7\", \"Topic7\", \"Topic7\", \"Topic7\", \"Topic7\", \"Topic7\", \"Topic7\", \"Topic7\", \"Topic7\", \"Topic7\", \"Topic7\", \"Topic7\", \"Topic7\", \"Topic7\", \"Topic7\", \"Topic7\", \"Topic7\", \"Topic7\", \"Topic7\", \"Topic7\", \"Topic8\", \"Topic8\", \"Topic8\", \"Topic8\", \"Topic8\", \"Topic8\", \"Topic8\", \"Topic8\", \"Topic8\", \"Topic8\", \"Topic8\", \"Topic8\", \"Topic8\", \"Topic8\", \"Topic8\", \"Topic8\", \"Topic8\", \"Topic8\", \"Topic8\", \"Topic8\", \"Topic8\", \"Topic8\", \"Topic8\", \"Topic8\", \"Topic8\", \"Topic8\", \"Topic8\", \"Topic8\", \"Topic8\", \"Topic8\", \"Topic8\", \"Topic8\", \"Topic8\", \"Topic8\", \"Topic8\", \"Topic8\", \"Topic8\", \"Topic8\", \"Topic8\", \"Topic8\", \"Topic8\", \"Topic8\", \"Topic8\", \"Topic8\", \"Topic8\", \"Topic8\", \"Topic8\", \"Topic8\", \"Topic8\", \"Topic8\", \"Topic8\", \"Topic8\", \"Topic8\", \"Topic8\", \"Topic8\", \"Topic8\", \"Topic8\", \"Topic9\", \"Topic9\", \"Topic9\", \"Topic9\", \"Topic9\", \"Topic9\", \"Topic9\", \"Topic9\", \"Topic9\", \"Topic9\", \"Topic9\", \"Topic9\", \"Topic9\", \"Topic9\", \"Topic9\", \"Topic9\", \"Topic9\", \"Topic9\", \"Topic9\", \"Topic9\", \"Topic9\", \"Topic9\", \"Topic9\", \"Topic9\", \"Topic9\", \"Topic9\", \"Topic9\", \"Topic9\", \"Topic9\", \"Topic9\", \"Topic9\", \"Topic9\", \"Topic9\", \"Topic9\", \"Topic9\", \"Topic9\", \"Topic9\", \"Topic9\", \"Topic9\", \"Topic9\", \"Topic9\", \"Topic9\", \"Topic9\", \"Topic9\", \"Topic9\", \"Topic9\", \"Topic9\", \"Topic9\", \"Topic9\", \"Topic9\", \"Topic9\", \"Topic9\", \"Topic9\", \"Topic9\", \"Topic9\", \"Topic9\", \"Topic9\", \"Topic9\", \"Topic9\", \"Topic9\", \"Topic9\", \"Topic9\", \"Topic10\", \"Topic10\", \"Topic10\", \"Topic10\", \"Topic10\", \"Topic10\", \"Topic10\", \"Topic10\", \"Topic10\", \"Topic10\", \"Topic10\", \"Topic10\", \"Topic10\", \"Topic10\", \"Topic10\", \"Topic10\", \"Topic10\", \"Topic10\", \"Topic10\", \"Topic10\", \"Topic10\", \"Topic10\", \"Topic10\", \"Topic10\", \"Topic10\", \"Topic10\", \"Topic10\", \"Topic10\", \"Topic10\", \"Topic10\", \"Topic10\", \"Topic10\", \"Topic10\", \"Topic10\", \"Topic10\", \"Topic10\", \"Topic10\", \"Topic10\", \"Topic10\", \"Topic10\", \"Topic10\", \"Topic10\", \"Topic10\", \"Topic10\", \"Topic10\", \"Topic10\", \"Topic10\", \"Topic10\", \"Topic10\", \"Topic10\", \"Topic10\", \"Topic10\", \"Topic10\", \"Topic10\", \"Topic10\", \"Topic10\", \"Topic10\", \"Topic10\", \"Topic10\", \"Topic10\", \"Topic10\", \"Topic11\", \"Topic11\", \"Topic11\", \"Topic11\", \"Topic11\", \"Topic11\", \"Topic11\", \"Topic11\", \"Topic11\", \"Topic11\", \"Topic11\", \"Topic11\", \"Topic11\", \"Topic11\", \"Topic11\", \"Topic11\", \"Topic11\", \"Topic11\", \"Topic11\", \"Topic11\", \"Topic11\", \"Topic11\", \"Topic11\", \"Topic11\", \"Topic11\", \"Topic11\", \"Topic11\", \"Topic11\", \"Topic11\", \"Topic11\", \"Topic11\", \"Topic11\", \"Topic11\", \"Topic11\", \"Topic11\", \"Topic11\", \"Topic11\", \"Topic11\", \"Topic11\", \"Topic11\", \"Topic11\", \"Topic11\", \"Topic11\", \"Topic11\", \"Topic11\", \"Topic11\", \"Topic11\", \"Topic11\", \"Topic11\", \"Topic11\", \"Topic11\", \"Topic11\", \"Topic11\", \"Topic11\", \"Topic11\", \"Topic11\", \"Topic11\", \"Topic11\", \"Topic12\", \"Topic12\", \"Topic12\", \"Topic12\", \"Topic12\", \"Topic12\", \"Topic12\", \"Topic12\", \"Topic12\", \"Topic12\", \"Topic12\", \"Topic12\", \"Topic12\", \"Topic12\", \"Topic12\", \"Topic12\", \"Topic12\", \"Topic12\", \"Topic12\", \"Topic12\", \"Topic12\", \"Topic12\", \"Topic12\", \"Topic12\", \"Topic12\", \"Topic12\", \"Topic12\", \"Topic12\", \"Topic12\", \"Topic12\", \"Topic12\", \"Topic12\", \"Topic12\", \"Topic12\", \"Topic12\", \"Topic12\", \"Topic12\", \"Topic12\", \"Topic12\", \"Topic12\", \"Topic12\", \"Topic12\", \"Topic12\", \"Topic12\", \"Topic12\", \"Topic12\", \"Topic12\", \"Topic12\", \"Topic12\", \"Topic12\", \"Topic12\", \"Topic12\", \"Topic12\", \"Topic12\", \"Topic12\", \"Topic12\", \"Topic12\", \"Topic12\", \"Topic12\", \"Topic12\", \"Topic13\", \"Topic13\", \"Topic13\", \"Topic13\", \"Topic13\", \"Topic13\", \"Topic13\", \"Topic13\", \"Topic13\", \"Topic13\", \"Topic13\", \"Topic13\", \"Topic13\", \"Topic13\", \"Topic13\", \"Topic13\", \"Topic13\", \"Topic13\", \"Topic13\", \"Topic13\", \"Topic13\", \"Topic13\", \"Topic13\", \"Topic13\", \"Topic13\", \"Topic13\", \"Topic13\", \"Topic13\", \"Topic13\", \"Topic13\", \"Topic13\", \"Topic13\", \"Topic13\", \"Topic13\", \"Topic13\", \"Topic13\", \"Topic13\", \"Topic13\", \"Topic13\", \"Topic13\", \"Topic13\", \"Topic13\", \"Topic13\", \"Topic13\", \"Topic13\", \"Topic13\", \"Topic13\", \"Topic13\", \"Topic13\", \"Topic13\", \"Topic13\", \"Topic13\", \"Topic13\", \"Topic13\", \"Topic13\", \"Topic13\", \"Topic13\", \"Topic13\", \"Topic14\", \"Topic14\", \"Topic14\", \"Topic14\", \"Topic14\", \"Topic14\", \"Topic14\", \"Topic14\", \"Topic14\", \"Topic14\", \"Topic14\", \"Topic14\", \"Topic14\", \"Topic14\", \"Topic14\", \"Topic14\", \"Topic14\", \"Topic14\", \"Topic14\", \"Topic14\", \"Topic14\", \"Topic14\", \"Topic14\", \"Topic14\", \"Topic14\", \"Topic14\", \"Topic14\", \"Topic14\", \"Topic14\", \"Topic14\", \"Topic14\", \"Topic14\", \"Topic14\", \"Topic14\", \"Topic14\", \"Topic14\", \"Topic14\", \"Topic14\", \"Topic14\", \"Topic14\", \"Topic14\", \"Topic14\", \"Topic14\", \"Topic14\", \"Topic14\", \"Topic14\", \"Topic14\", \"Topic14\", \"Topic14\", \"Topic14\", \"Topic14\", \"Topic14\", \"Topic14\", \"Topic14\", \"Topic14\", \"Topic14\", \"Topic15\", \"Topic15\", \"Topic15\", \"Topic15\", \"Topic15\", \"Topic15\", \"Topic15\", \"Topic15\", \"Topic15\", \"Topic15\", \"Topic15\", \"Topic15\", \"Topic15\", \"Topic15\", \"Topic15\", \"Topic15\", \"Topic15\", \"Topic15\", \"Topic15\", \"Topic15\", \"Topic15\", \"Topic15\", \"Topic15\", \"Topic15\", \"Topic15\", \"Topic15\", \"Topic15\", \"Topic15\", \"Topic15\", \"Topic15\", \"Topic15\", \"Topic15\", \"Topic15\", \"Topic15\", \"Topic15\", \"Topic15\", \"Topic15\", \"Topic15\", \"Topic15\", \"Topic15\", \"Topic15\", \"Topic15\", \"Topic15\", \"Topic15\", \"Topic15\", \"Topic15\", \"Topic15\", \"Topic15\", \"Topic15\", \"Topic15\", \"Topic15\", \"Topic15\", \"Topic15\", \"Topic15\", \"Topic15\"], \"logprob\": [30.0, 29.0, 28.0, 27.0, 26.0, 25.0, 24.0, 23.0, 22.0, 21.0, 20.0, 19.0, 18.0, 17.0, 16.0, 15.0, 14.0, 13.0, 12.0, 11.0, 10.0, 9.0, 8.0, 7.0, 6.0, 5.0, 4.0, 3.0, 2.0, 1.0, -5.4245, -5.154, -5.4998, -6.1752, -6.003, -5.9978, -4.9493, -6.214, -6.1197, -5.9525, -6.3685, -5.9684, -6.5134, -5.9439, -5.4587, -6.1882, -6.0555, -6.6117, -6.6296, -6.5766, -6.6267, -6.8495, -6.7743, -6.1544, -5.7309, -6.7012, -6.6559, -6.2747, -6.5524, -6.509, -4.5053, -6.1248, -4.7833, -5.9945, -5.2674, -5.4333, -5.2891, -5.793, -4.4465, -5.5502, -5.3628, -4.0662, -4.3595, -5.295, -3.6681, -4.4968, -4.5919, -5.0734, -4.5518, -4.6547, -5.0685, -5.0126, -5.4408, -4.6728, -4.662, -4.9728, -4.9432, -5.2721, -5.1541, -5.1369, -5.0406, -5.3065, -5.2287, -5.3032, -5.3625, -5.8665, -5.9875, -6.3279, -5.5869, -5.3849, -6.485, -6.1288, -5.7014, -6.4142, -5.3311, -6.3039, -6.4919, -5.8944, -6.6724, -5.3102, -5.3178, -5.7925, -6.9239, -4.7825, -6.7731, -6.4499, -4.7349, -6.0279, -6.38, -6.0478, -6.7686, -5.9809, -4.8576, -6.4456, -6.571, -5.0466, -5.1415, -5.0072, -4.2192, -6.3275, -4.7717, -4.1115, -5.4526, -5.8356, -3.5205, -4.1214, -4.9407, -5.1286, -4.9351, -4.5754, -5.5579, -5.3001, -4.6148, -4.717, -4.8379, -4.4582, -4.3982, -5.2547, -4.8737, -5.1438, -5.0991, -4.9768, -4.8112, -5.0846, -5.106, -5.1254, -5.132, -5.2177, -4.944, -5.2436, -5.7832, -5.2099, -5.2653, -5.9338, -6.0562, -5.7482, -5.8519, -6.0012, -6.342, -6.0361, -6.3901, -3.6988, -5.7698, -6.256, -5.8909, -6.328, -6.0155, -6.2165, -6.4633, -5.2277, -6.2935, -6.5158, -5.6946, -6.481, -6.6411, -6.3816, -4.8949, -4.5338, -4.6733, -4.8117, -4.1137, -4.7453, -5.0921, -4.1191, -3.858, -3.8809, -5.3189, -4.451, -4.1079, -4.4459, -5.022, -4.3048, -3.9856, -4.5939, -4.8551, -5.1767, -4.9312, -4.808, -5.0255, -5.1736, -4.9645, -4.949, -5.0154, -5.0502, -5.0417, -5.0587, -5.6602, -6.1273, -5.9168, -4.7266, -6.2207, -6.1492, -5.7759, -5.6225, -4.7619, -5.571, -6.325, -6.3237, -6.5324, -6.0511, -6.016, -6.034, -4.7517, -6.0122, -6.4387, -6.5189, -6.0551, -6.5778, -6.6169, -5.8345, -6.1885, -6.317, -6.1375, -6.692, -6.1137, -6.1714, -4.5812, -3.197, -5.3388, -4.9786, -5.0964, -5.3908, -5.2357, -4.2025, -4.1154, -4.4049, -5.2637, -5.0548, -4.3091, -5.065, -4.6843, -3.698, -4.5859, -4.4631, -5.0607, -4.5959, -5.3436, -4.3991, -4.6767, -5.143, -5.0441, -5.1925, -4.8064, -5.2484, -5.263, -5.0525, -5.207, -5.1409, -5.1096, -5.1798, -4.7041, -4.6656, -5.5428, -4.1398, -5.8265, -3.718, -4.5576, -5.4244, -5.8722, -4.7133, -5.3958, -5.8382, -3.9597, -5.7843, -4.8371, -5.544, -4.9347, -6.4112, -6.2218, -4.3023, -6.1243, -6.1155, -5.5449, -6.2318, -3.5837, -4.1759, -5.0827, -5.7346, -5.663, -5.8708, -5.1149, -4.4601, -5.315, -4.5023, -4.677, -4.4207, -4.148, -4.2252, -3.7091, -4.9047, -4.8005, -4.2237, -5.1104, -4.6052, -4.3384, -4.9173, -4.8795, -4.6067, -4.6374, -4.9061, -4.9047, -4.9309, -4.8213, -5.3184, -4.8824, -6.0187, -5.7854, -6.0649, -5.9298, -6.098, -5.798, -5.6969, -6.0234, -5.1755, -5.921, -6.0213, -6.3136, -6.2523, -5.8183, -6.0924, -6.3593, -6.5119, -5.9661, -6.4719, -6.2784, -6.2226, -6.5371, -5.9471, -5.5767, -6.4243, -6.5567, -6.1731, -5.8182, -5.5534, -3.7635, -5.957, -5.4142, -5.7613, -4.0516, -4.6374, -4.5989, -5.4969, -4.1448, -5.0469, -3.5377, -4.0682, -4.4379, -4.6789, -4.1408, -4.9087, -4.5298, -4.5656, -5.3358, -5.3948, -5.1222, -4.8743, -5.2638, -5.2386, -4.8922, -5.1675, -5.133, -5.2883, -5.2966, -5.0456, -5.1354, -5.0464, -5.2238, -5.2584, -4.5249, -4.183, -4.1796, -5.3897, -4.7378, -5.3925, -5.502, -5.2958, -5.9548, -5.6746, -5.6063, -5.035, -6.0907, -5.1821, -5.5998, -5.9733, -6.2899, -6.3404, -5.9665, -6.4444, -5.6789, -6.1323, -6.4772, -6.1269, -4.8284, -6.1851, -3.9804, -6.5816, -6.3392, -6.0239, -5.9111, -4.5123, -4.6454, -4.9828, -4.069, -4.8852, -3.6501, -3.7951, -4.7835, -4.4072, -4.6916, -4.7226, -4.5032, -4.3873, -4.6272, -4.7164, -5.0585, -4.1623, -5.1022, -4.6257, -4.908, -4.9676, -5.0284, -5.1246, -4.9739, -5.3195, -4.7729, -5.6009, -5.1678, -4.253, -4.5781, -5.8892, -5.8911, -6.0902, -5.8215, -4.7241, -6.1826, -4.7618, -5.1644, -5.8805, -6.1603, -6.3992, -5.709, -6.1962, -6.4262, -3.4102, -4.1953, -4.4996, -6.2261, -5.474, -6.3318, -6.552, -6.4352, -5.6624, -3.6546, -5.733, -5.7419, -5.436, -5.8456, -3.6332, -4.9238, -4.2704, -4.8713, -4.8292, -5.1897, -5.055, -4.6176, -3.9251, -5.0611, -5.1837, -5.2393, -5.0431, -4.7581, -4.7571, -4.869, -4.8428, -4.7302, -5.0531, -5.0176, -5.0899, -5.1146, -5.7303, -5.4218, -5.2916, -5.6865, -5.9639, -5.3123, -4.8842, -5.9244, -5.6496, -5.7954, -6.0875, -5.0164, -5.729, -5.3021, -6.0423, -5.8884, -6.0458, -5.4404, -6.109, -5.778, -6.421, -5.8207, -5.9474, -6.2696, -6.144, -5.5039, -6.3116, -6.0953, -6.2928, -6.4872, -6.1953, -4.6639, -5.1744, -4.5968, -4.8269, -4.5093, -5.3232, -3.9216, -4.4343, -4.9968, -4.1554, -3.8258, -4.1544, -4.6959, -3.6445, -5.0135, -4.4451, -4.9831, -5.4, -4.7931, -5.1241, -5.1535, -4.8104, -5.0341, -4.8848, -4.7436, -4.7675, -4.9748, -4.936, -5.0361, -5.1674, -5.1415, -5.1485, -5.1885, -4.99, -5.2876, -5.4786, -5.2576, -5.2136, -5.866, -5.9615, -5.8273, -5.9454, -5.5532, -5.0209, -5.7008, -5.7084, -5.3468, -5.9179, -6.2075, -5.6582, -4.7821, -5.8069, -5.6972, -5.7041, -5.8275, -5.5007, -6.3521, -5.7309, -5.1692, -5.8912, -6.1804, -5.8738, -5.1577, -5.0186, -5.2443, -3.8139, -4.9341, -3.4541, -5.1831, -4.3297, -4.9386, -3.3841, -5.0618, -4.6078, -4.837, -5.0741, -4.4275, -4.8952, -4.5982, -4.4913, -4.287, -4.2537, -4.4664, -4.7339, -4.6944, -4.7964, -5.0572, -5.0844, -4.9788, -5.0322, -4.9772, -5.0488, -4.8096, -4.9866, -5.0141, -4.6521, -5.0036, -3.6031, -5.4978, -5.1448, -5.6928, -5.6925, -5.6327, -5.8824, -5.7817, -5.8175, -5.0152, -6.1338, -4.8156, -5.9753, -6.0979, -6.0555, -5.7343, -5.2475, -5.9273, -5.8031, -5.951, -6.0413, -5.8595, -5.4529, -5.8561, -5.9655, -4.4998, -5.0016, -5.2151, -5.0763, -3.7307, -5.5437, -5.2133, -4.757, -4.9299, -4.7906, -5.0855, -4.348, -4.3875, -3.7727, -4.9418, -5.1804, -4.7105, -4.7048, -4.6075, -4.6164, -4.9792, -4.7515, -4.7664, -4.9221, -4.9593, -5.0133, -4.942, -4.9607, -5.2214, -4.8463, -5.4675, -5.7527, -5.6416, -5.8408, -6.0063, -5.9212, -5.2341, -5.5879, -5.0225, -4.8904, -5.4909, -6.2434, -6.1995, -5.9679, -5.9876, -5.526, -6.1891, -5.5796, -5.0637, -5.4758, -5.6187, -6.2561, -5.3294, -6.1744, -6.0305, -5.9179, -6.4062, -5.9318, -5.8006, -4.6596, -4.5365, -4.032, -4.9922, -4.4736, -5.492, -5.5889, -5.5803, -4.3247, -4.938, -3.5469, -3.9866, -4.5542, -4.2587, -5.2692, -4.2825, -4.6646, -4.5773, -4.909, -4.8772, -4.7868, -4.8523, -5.2007, -5.1746, -4.9558, -5.1777, -5.0382, -5.1138, -5.0958, -3.7687, -3.7687, -3.7687, -3.7687, -4.442, -4.442, -4.4796, -4.4796, -5.4073, -5.6625, -5.2694, -5.2485, -5.3323, -5.2919, -4.8858, -5.7176, -5.7001, -6.2674, -5.3298, -5.6732, -6.0118, -6.2818, -5.738, -6.0299, -6.299, -6.1216, -6.278, -4.9992, -6.3139, -6.081, -5.226, -5.2612, -5.2218, -5.6591, -5.1239, -4.9235, -5.0407, -5.4917, -5.2399, -4.3415, -3.7438, -4.3211, -4.3757, -4.2417, -4.2047, -4.9336, -4.6138, -4.8675, -4.5652, -5.0645, -4.9685, -4.9587, -4.9386, -5.0813, -5.0153, -5.1264, -5.1069, -5.1154, -3.9762, -4.5126, -4.9786, -5.097, -4.7893, -4.9265, -5.174, -5.2175, -4.3395, -5.0558, -5.028, -5.5869, -5.2983, -5.3679, -5.5044, -4.9112, -5.5849, -5.0221, -5.5111, -5.6452, -5.842, -5.8312, -5.413, -6.0526, -5.2791, -5.7727, -6.0413, -5.9175, -5.7141, -5.7031, -4.0192, -4.804, -5.293, -5.2858, -5.1518, -4.3446, -4.8749, -4.555, -4.8264, -4.7073, -3.8682, -4.4198, -3.3039, -4.5474, -4.9001, -4.6589, -4.5771, -4.8981, -4.4474, -4.4837, -4.376, -4.6037, -4.6935, -4.8005, -4.9819, -5.0092, -5.0462, -5.0993, -5.3696, -5.2382, -4.9938, -4.9939, -4.9938, -5.3308, -5.6094, -3.8908, -5.7753, -5.4959, -4.381, -5.297, -5.6483, -4.8827, -5.6423, -5.4013, -5.8906, -5.1311, -3.9557, -5.8858, -6.0114, -4.9817, -5.8906, -5.9321, -5.8906, -5.9547, -4.8719, -6.1781, -5.8906, -3.9587, -4.0018, -5.1327, -5.3194, -3.6027, -4.7241, -5.1703, -4.8269, -4.6772, -4.9854, -4.388, -3.8081, -4.6504, -4.3856, -4.8492, -5.087, -4.6206, -4.7121, -4.7067, -4.6859, -5.0219, -4.9804, -4.9742, -5.0494], \"loglift\": [30.0, 29.0, 28.0, 27.0, 26.0, 25.0, 24.0, 23.0, 22.0, 21.0, 20.0, 19.0, 18.0, 17.0, 16.0, 15.0, 14.0, 13.0, 12.0, 11.0, 10.0, 9.0, 8.0, 7.0, 6.0, 5.0, 4.0, 3.0, 2.0, 1.0, 1.8613, 1.7567, 1.6845, 1.6442, 1.6426, 1.6223, 1.6113, 1.5617, 1.5285, 1.4935, 1.4544, 1.4287, 1.3748, 1.3559, 1.3514, 1.3419, 1.3362, 1.3214, 1.3018, 1.2729, 1.2253, 1.2197, 1.2059, 1.1714, 1.1564, 1.147, 1.139, 1.1226, 1.1213, 1.1027, 1.0115, 1.0768, 0.912, 1.0585, 0.9152, 0.9202, 0.8244, 0.9747, 0.5203, 0.884, 0.8079, 0.2646, 0.3798, 0.7699, 0.0216, 0.4075, 0.382, 0.6233, 0.2695, 0.1838, 0.4571, 0.3364, 0.7689, -0.216, -0.2997, 0.0244, -0.0756, 0.4359, 0.217, 0.0267, -0.2174, 0.3991, -0.268, 0.1173, -0.0732, 1.579, 1.5395, 1.5243, 1.4985, 1.4929, 1.4082, 1.3825, 1.3304, 1.3004, 1.279, 1.2771, 1.2465, 1.2331, 1.1837, 1.1668, 1.1595, 1.1464, 1.1412, 1.1322, 1.1146, 1.1047, 1.1022, 1.0986, 1.0985, 1.0914, 1.087, 1.0867, 1.0852, 1.0827, 1.0748, 1.0531, 1.0186, 0.9407, 0.7828, 1.0659, 0.7728, 0.6278, 0.8812, 0.9352, 0.1693, 0.2408, 0.5324, 0.6143, 0.4854, 0.2479, 0.8349, 0.6722, 0.2236, 0.2801, 0.3257, -0.0014, -0.0675, 0.5621, -0.0062, 0.3843, 0.2721, -0.01, -0.4583, -0.2632, -0.2017, -0.1647, -0.1581, 0.0602, 2.1307, 1.8538, 1.8517, 1.8317, 1.729, 1.7059, 1.6811, 1.6618, 1.644, 1.6294, 1.5449, 1.5411, 1.5384, 1.5342, 1.5303, 1.5182, 1.4733, 1.4489, 1.4458, 1.4282, 1.425, 1.4214, 1.4125, 1.3723, 1.3679, 1.3677, 1.3333, 1.3282, 1.3201, 1.3073, 1.2438, 1.1798, 0.9881, 1.0557, 1.0511, 0.7505, 0.5988, 0.472, 0.9975, 0.5339, 0.2544, 0.4216, 0.6746, 0.0259, -0.2958, 0.2275, 0.4341, 0.6489, 0.2324, -0.0686, 0.2525, 0.5344, 0.0327, -0.1105, -0.0547, 0.041, -0.0678, -0.2355, 1.8796, 1.8048, 1.7283, 1.722, 1.7133, 1.6959, 1.6866, 1.6814, 1.6631, 1.6155, 1.5746, 1.5325, 1.5308, 1.508, 1.4869, 1.4705, 1.4477, 1.4167, 1.3798, 1.3768, 1.363, 1.3591, 1.3588, 1.3451, 1.3416, 1.3278, 1.3103, 1.286, 1.285, 1.2466, 1.2359, 1.1559, 1.2296, 1.1646, 1.1677, 1.1876, 1.1516, 0.8992, 0.8694, 0.8843, 1.0443, 0.9175, 0.5605, 0.8855, 0.6647, -0.0083, 0.5054, 0.3601, 0.7381, 0.3648, 0.9528, 0.0577, 0.2902, 0.6141, 0.3764, 0.6242, -0.4441, 0.7021, 0.7148, -0.185, 0.3212, -0.2366, -0.7789, -0.3413, 2.2191, 2.0991, 2.0354, 1.9925, 1.975, 1.9071, 1.8791, 1.8701, 1.8597, 1.8493, 1.7999, 1.753, 1.738, 1.7052, 1.6796, 1.6456, 1.6119, 1.5993, 1.5912, 1.5753, 1.5718, 1.556, 1.5556, 1.5301, 1.5227, 1.5194, 1.4947, 1.4554, 1.4386, 1.3901, 1.2898, 1.0655, 1.2713, 1.0145, 1.0659, 0.8689, 0.7216, 0.5981, -0.0193, 0.9121, 0.7439, 0.1071, 1.0503, 0.3796, 0.0238, 0.5962, 0.4917, -0.2538, -0.1806, 0.5281, 0.3732, -0.0266, 2.2555, 2.071, 2.0321, 1.999, 1.9187, 1.9039, 1.8524, 1.7543, 1.7268, 1.7194, 1.7046, 1.6979, 1.6889, 1.5595, 1.543, 1.5253, 1.5233, 1.5193, 1.5156, 1.5025, 1.486, 1.4665, 1.4609, 1.4431, 1.438, 1.4249, 1.4243, 1.4219, 1.4108, 1.4016, 1.3965, 1.3785, 1.2384, 1.3848, 1.3229, 1.3504, 0.8159, 0.9669, 0.9293, 1.211, 0.6765, 1.0358, 0.1521, 0.2626, 0.4664, 0.599, 0.2215, 0.7205, 0.431, 0.4013, 0.9543, 1.0196, 0.5834, 0.2169, 0.7246, 0.6785, -0.0537, 0.5148, 0.4336, 0.6597, 0.6632, -0.0717, 0.1542, -0.3071, 0.2493, 0.1947, 2.566, 2.5659, 2.3834, 2.3245, 2.3034, 2.2919, 2.244, 2.0772, 2.0728, 1.9432, 1.7629, 1.7475, 1.7227, 1.6734, 1.6608, 1.6087, 1.6077, 1.592, 1.591, 1.5411, 1.52, 1.5063, 1.4966, 1.4881, 1.4879, 1.4863, 1.4727, 1.4384, 1.438, 1.3989, 1.389, 1.2448, 1.1803, 1.2321, 0.9329, 1.0926, 0.7122, 0.5578, 0.9594, 0.6841, 0.8219, 0.8056, 0.6604, 0.4512, 0.6057, 0.5728, 0.8895, -0.4725, 0.8385, -0.1689, -0.0404, 0.1341, -0.207, 0.3095, 2.6201, 2.3116, 2.2961, 2.2044, 2.0931, 2.0407, 1.9685, 1.9559, 1.8708, 1.8349, 1.7698, 1.684, 1.6586, 1.6429, 1.6359, 1.6116, 1.5781, 1.5669, 1.5515, 1.5071, 1.471, 1.4594, 1.454, 1.4509, 1.4396, 1.436, 1.4322, 1.4214, 1.4199, 1.4166, 1.3302, 1.3788, 1.3677, 1.3258, 1.3718, 0.8236, 1.0677, 0.836, 0.977, 0.8685, 1.0412, 0.9334, 0.546, -0.2353, 0.8561, 0.9485, 1.0086, 0.6855, 0.2087, 0.1472, 0.2223, -0.0214, -0.3994, 0.2365, -0.0568, -0.2667, -0.1408, 2.1693, 2.1619, 2.085, 2.0666, 1.977, 1.9755, 1.8865, 1.8594, 1.8289, 1.8272, 1.8066, 1.8066, 1.7951, 1.7881, 1.7638, 1.6708, 1.665, 1.6522, 1.634, 1.6214, 1.5971, 1.578, 1.5747, 1.5119, 1.5, 1.4971, 1.4684, 1.4613, 1.4555, 1.4515, 1.4485, 1.401, 1.3974, 1.3178, 1.3332, 1.2917, 1.3813, 1.0755, 1.0939, 1.1798, 0.8185, 0.5271, 0.6689, 0.8297, 0.0453, 1.029, 0.5568, 0.9947, 1.2677, 0.3705, 0.815, 0.8, 0.0571, 0.4794, 0.076, -0.4129, -0.4053, -0.1534, -0.4792, 0.0656, 0.7806, 0.2927, 2.5786, 2.3307, 2.2058, 2.1498, 2.064, 2.0508, 2.015, 2.0089, 2.0046, 1.9427, 1.9408, 1.9096, 1.8926, 1.8789, 1.8697, 1.8411, 1.8209, 1.8075, 1.8055, 1.77, 1.766, 1.7459, 1.7346, 1.7291, 1.709, 1.7086, 1.6891, 1.6725, 1.6309, 1.6258, 1.6214, 1.5386, 1.5092, 1.5174, 1.16, 1.432, 0.8766, 1.4642, 1.0414, 1.2711, 0.3057, 1.3454, 0.9964, 1.1534, 1.2848, 0.5332, 1.0034, 0.6797, 0.4755, 0.1698, 0.0992, 0.3721, 0.5557, 0.1288, 0.1079, 0.9989, 1.0864, 0.1848, 0.4409, -0.1558, 0.0424, 2.8608, 2.7179, 2.6941, 2.447, 2.3692, 2.2451, 2.2401, 2.2277, 2.2039, 2.1995, 2.1474, 2.0901, 1.9573, 1.9287, 1.8947, 1.8808, 1.8806, 1.8805, 1.8719, 1.8335, 1.8212, 1.7834, 1.7555, 1.749, 1.7237, 1.7218, 1.7185, 1.7042, 1.6975, 1.6785, 1.6767, 1.6704, 1.4322, 1.3191, 0.6001, 1.5489, 1.3551, 1.0417, 1.1476, 1.0505, 1.2108, 0.6259, 0.5733, -0.083, 1.0117, 1.2536, 0.6385, 0.5848, 0.231, 0.2049, 0.8379, 0.2456, 0.1379, 0.449, 0.4613, 0.6924, -0.4852, -0.5984, 2.5317, 2.2327, 2.1122, 2.0375, 2.0106, 1.9752, 1.9716, 1.9284, 1.912, 1.9073, 1.8874, 1.8761, 1.7905, 1.7785, 1.7289, 1.7034, 1.6919, 1.6696, 1.6655, 1.6567, 1.6552, 1.647, 1.6414, 1.64, 1.6191, 1.6094, 1.5922, 1.5778, 1.5662, 1.5604, 1.5506, 1.5074, 1.3045, 1.0744, 1.3242, 1.1516, 1.4163, 1.4491, 1.4325, 0.6601, 1.0343, 0.1428, 0.3757, 0.6787, 0.0942, 1.1794, 0.0482, 0.2962, 0.162, 0.5641, 0.494, 0.0517, 0.0152, 0.8392, 0.7239, -0.0515, 0.6233, -0.1685, 0.2352, -0.0986, 3.4181, 3.4181, 3.4181, 3.4181, 3.4004, 3.4004, 3.399, 3.399, 2.4653, 2.2481, 2.1708, 2.0913, 2.0806, 2.0505, 1.9898, 1.9067, 1.8931, 1.8105, 1.8028, 1.7893, 1.7783, 1.7445, 1.7193, 1.6871, 1.6744, 1.6732, 1.6192, 1.6183, 1.586, 1.5712, 1.5155, 1.4709, 1.4516, 1.4426, 1.2295, 1.1276, 1.13, 1.3408, 1.1556, 0.497, -0.054, 0.4182, 0.4456, 0.2151, 0.126, 0.8652, 0.2905, 0.6056, -0.2029, 1.0129, 0.3211, 0.0384, -0.1154, 0.6326, -0.0133, 0.824, 0.4974, 0.2558, 3.295, 2.9054, 2.8299, 2.761, 2.7118, 2.623, 2.4718, 2.4203, 2.411, 2.4054, 2.3821, 2.3456, 2.341, 2.2499, 2.2328, 2.1678, 2.16, 2.137, 2.1194, 2.1179, 2.0463, 2.0415, 2.0302, 2.0106, 1.9818, 1.9703, 1.9442, 1.9357, 1.9121, 1.9087, 1.898, 1.85, 1.865, 1.8051, 1.7566, 1.4964, 1.6048, 1.4364, 1.5367, 1.4597, 0.8712, 1.2296, 0.3859, 1.2452, 1.4115, 1.055, 0.7125, 1.3035, 0.4222, 0.3838, -0.0137, 0.4875, 0.1278, 0.4887, 0.6473, 1.2766, 2.9346, 2.7558, 2.691, 2.61, 2.5529, 2.5254, 2.4163, 2.3834, 2.3668, 2.3086, 2.2427, 2.2149, 2.2084, 2.2057, 2.1579, 2.1383, 2.1305, 2.0509, 2.0363, 2.0279, 2.0221, 2.0023, 1.9991, 1.992, 1.9646, 1.858, 1.8509, 1.8478, 1.8015, 1.756, 1.7356, 1.5669, 1.5648, 1.5521, 1.6157, 0.7502, 1.2643, 1.5106, 1.2506, 1.0205, 1.3003, 0.5968, -0.1183, 0.6275, -0.0549, 0.8475, 1.3473, 0.2179, 0.285, 0.1608, -0.3236, 0.6734, 0.1109, -0.2349, 0.7516]}, \"token.table\": {\"Topic\": [2, 3, 4, 5, 7, 12, 13, 14, 1, 3, 4, 5, 6, 9, 12, 13, 1, 4, 7, 8, 10, 13, 1, 2, 4, 8, 11, 15, 13, 1, 2, 4, 11, 12, 1, 4, 5, 1, 2, 3, 4, 5, 6, 7, 8, 12, 13, 15, 1, 2, 3, 6, 7, 10, 1, 4, 5, 6, 7, 8, 9, 10, 12, 14, 15, 1, 2, 3, 4, 5, 6, 7, 8, 9, 10, 11, 12, 1, 2, 7, 9, 13, 14, 1, 2, 3, 4, 5, 6, 7, 8, 9, 10, 11, 12, 13, 14, 3, 7, 9, 12, 14, 15, 2, 5, 6, 7, 12, 1, 2, 4, 5, 6, 7, 11, 12, 15, 3, 4, 9, 1, 2, 3, 4, 5, 6, 7, 8, 9, 11, 12, 13, 15, 3, 4, 8, 11, 12, 13, 1, 3, 4, 6, 11, 12, 2, 3, 6, 7, 11, 13, 1, 2, 3, 4, 5, 6, 8, 9, 10, 11, 12, 13, 1, 2, 4, 5, 6, 8, 9, 12, 13, 15, 2, 3, 6, 9, 12, 13, 1, 2, 3, 4, 5, 6, 7, 9, 10, 11, 12, 13, 14, 15, 1, 2, 4, 6, 8, 12, 13, 14, 1, 2, 3, 4, 7, 9, 11, 1, 4, 11, 13, 1, 2, 3, 6, 7, 8, 10, 1, 5, 6, 7, 9, 12, 13, 3, 4, 5, 12, 1, 2, 3, 4, 5, 6, 8, 9, 11, 12, 2, 3, 4, 10, 12, 13, 14, 15, 1, 2, 3, 6, 7, 10, 11, 13, 1, 2, 3, 4, 5, 6, 10, 11, 12, 1, 2, 3, 4, 10, 14, 1, 2, 3, 5, 6, 7, 8, 9, 10, 11, 13, 15, 2, 3, 9, 12, 13, 2, 7, 10, 11, 12, 1, 2, 3, 4, 5, 6, 7, 8, 9, 10, 11, 12, 13, 14, 15, 1, 2, 3, 4, 6, 9, 10, 12, 14, 3, 4, 7, 15, 1, 2, 3, 4, 7, 8, 11, 12, 14, 1, 3, 4, 5, 8, 10, 13, 14, 1, 3, 4, 6, 7, 9, 15, 1, 2, 3, 6, 11, 12, 13, 14, 1, 3, 4, 11, 12, 14, 1, 2, 3, 4, 5, 6, 7, 8, 9, 10, 11, 12, 13, 14, 2, 4, 5, 6, 7, 9, 11, 1, 2, 3, 6, 8, 9, 13, 14, 1, 5, 8, 10, 12, 15, 13, 1, 2, 4, 5, 6, 7, 9, 10, 11, 12, 13, 3, 5, 8, 11, 14, 1, 2, 3, 4, 5, 6, 7, 8, 9, 11, 12, 13, 15, 1, 2, 5, 6, 8, 11, 12, 14, 1, 2, 3, 4, 5, 6, 9, 10, 11, 12, 15, 1, 3, 8, 9, 11, 14, 1, 3, 4, 5, 6, 8, 10, 13, 15, 1, 3, 6, 7, 8, 14, 2, 3, 4, 6, 9, 13, 1, 2, 3, 4, 5, 7, 13, 1, 2, 3, 4, 5, 6, 7, 8, 9, 10, 11, 12, 13, 14, 15, 1, 2, 3, 4, 6, 7, 13, 14, 15, 1, 2, 4, 13, 14, 1, 2, 7, 8, 9, 12, 13, 1, 2, 3, 6, 10, 11, 12, 13, 1, 2, 3, 5, 8, 9, 11, 3, 7, 8, 14, 1, 2, 3, 5, 6, 9, 10, 12, 13, 14, 2, 3, 4, 5, 6, 7, 9, 10, 11, 13, 14, 1, 3, 4, 8, 9, 14, 1, 2, 5, 6, 7, 8, 1, 2, 3, 4, 5, 7, 8, 9, 10, 12, 13, 14, 1, 5, 8, 10, 12, 1, 2, 9, 2, 5, 6, 7, 15, 1, 3, 4, 5, 6, 7, 11, 13, 15, 1, 4, 8, 9, 10, 11, 12, 13, 14, 1, 2, 3, 5, 7, 9, 13, 14, 15, 1, 4, 5, 6, 8, 10, 11, 12, 15, 1, 2, 3, 4, 6, 12, 14, 1, 2, 5, 7, 8, 11, 1, 2, 5, 6, 7, 8, 9, 11, 13, 14, 1, 2, 3, 4, 5, 6, 7, 8, 9, 10, 11, 12, 13, 14, 1, 2, 5, 6, 7, 10, 11, 12, 14, 2, 6, 8, 9, 13, 2, 6, 9, 13, 13, 1, 2, 3, 4, 5, 6, 8, 9, 13, 2, 4, 5, 6, 9, 10, 14, 2, 4, 5, 7, 8, 10, 12, 13, 15, 1, 2, 7, 9, 1, 2, 3, 4, 5, 6, 7, 8, 10, 11, 12, 13, 14, 2, 5, 6, 8, 9, 10, 14, 4, 7, 10, 11, 1, 2, 3, 5, 6, 7, 8, 9, 10, 13, 1, 5, 9, 10, 13, 1, 2, 5, 8, 1, 2, 4, 5, 7, 9, 10, 12, 13, 15, 1, 2, 5, 8, 9, 11, 2, 3, 4, 5, 7, 9, 10, 13, 1, 2, 3, 4, 7, 9, 11, 12, 14, 3, 4, 6, 10, 2, 3, 4, 6, 9, 13, 1, 2, 4, 5, 9, 11, 12, 15, 1, 2, 3, 4, 5, 6, 7, 9, 10, 11, 12, 13, 14, 1, 2, 6, 9, 10, 11, 13, 1, 2, 3, 4, 5, 8, 9, 10, 12, 14, 1, 3, 4, 5, 6, 7, 13, 14, 1, 3, 9, 10, 11, 1, 2, 3, 4, 6, 9, 10, 12, 3, 4, 7, 8, 10, 11, 12, 14, 15, 2, 9, 10, 12, 14, 1, 5, 6, 10, 11, 14, 1, 4, 5, 13, 1, 4, 6, 7, 9, 11, 12, 1, 4, 5, 8, 10, 1, 2, 3, 4, 5, 6, 8, 9, 10, 12, 13, 2, 3, 5, 6, 7, 12, 13, 15, 1, 2, 10, 12, 2, 6, 7, 9, 10, 12, 1, 2, 4, 6, 10, 1, 3, 7, 10, 11, 13, 15, 1, 2, 3, 4, 6, 7, 8, 9, 10, 14, 1, 2, 8, 10, 13, 15, 1, 2, 4, 8, 9, 10, 11, 12, 13, 1, 2, 3, 4, 5, 6, 7, 8, 10, 11, 12, 14, 1, 2, 3, 4, 6, 7, 8, 10, 11, 1, 2, 3, 6, 7, 13, 1, 7, 8, 9, 12, 1, 2, 3, 4, 5, 6, 7, 8, 9, 11, 12, 13, 15, 1, 4, 6, 7, 10, 11, 1, 2, 3, 4, 5, 6, 7, 8, 9, 11, 13, 15, 1, 2, 3, 4, 5, 6, 7, 8, 9, 10, 11, 12, 13, 14, 2, 4, 6, 7, 11, 13, 1, 2, 4, 7, 10, 13, 1, 2, 3, 4, 5, 7, 8, 9, 10, 11, 13, 14, 15, 1, 2, 3, 6, 11, 14, 15, 1, 2, 3, 11, 15, 1, 4, 10, 2, 7, 9, 10, 13, 1, 2, 3, 5, 9, 11, 12, 13, 14, 15, 1, 2, 4, 5, 6, 7, 9, 10, 11, 12, 14, 1, 2, 4, 6, 7, 9, 10, 13, 14, 1, 1, 2, 3, 4, 7, 9, 12, 13, 13, 1, 2, 7, 8, 9, 10, 12, 1, 2, 3, 4, 6, 8, 9, 10, 11, 2, 4, 6, 7, 8, 9, 13, 15, 4, 8, 12, 1, 2, 4, 9, 10, 11, 13, 1, 3, 4, 8, 9, 10, 13, 14, 1, 4, 6, 7, 12, 1, 2, 3, 4, 5, 7, 8, 9, 10, 12, 15, 1, 2, 3, 4, 5, 6, 7, 8, 9, 10, 11, 12, 13, 14, 15, 1, 2, 3, 4, 5, 6, 7, 8, 9, 10, 11, 13, 1, 2, 3, 5, 6, 10, 11, 12, 13, 1, 2, 3, 4, 7, 8, 9, 10, 11, 13, 14, 4, 7, 8, 11, 1, 2, 3, 4, 5, 8, 9, 11, 12, 14, 15, 1, 2, 3, 8, 9, 13, 2, 4, 8, 9, 11, 12, 13, 14, 1, 2, 6, 7, 9, 11, 12, 14, 1, 2, 3, 6, 9, 1, 2, 4, 6, 8, 10, 11, 12, 13, 14, 1, 2, 4, 6, 7, 12, 1, 2, 3, 4, 7, 10, 1, 2, 3, 4, 5, 6, 7, 8, 9, 10, 11, 12, 13, 14, 15, 1, 2, 3, 4, 5, 6, 7, 8, 9, 10, 11, 12, 13, 14, 15, 1, 4, 7, 11, 1, 2, 4, 6, 8, 1, 2, 3, 7, 9, 11, 12, 14, 2, 4, 7, 10, 2, 4, 6, 12, 13, 2, 3, 4, 5, 6, 7, 8, 10, 1, 2, 4, 9, 10, 11, 1, 2, 5, 6, 7, 9, 13, 1, 2, 4, 5, 7, 12, 15, 1, 2, 5, 7, 10, 11, 1, 2, 3, 8, 9, 10, 12, 1, 2, 3, 4, 5, 6, 7, 8, 9, 10, 11, 12, 13, 14, 15, 1, 2, 3, 4, 5, 6, 7, 8, 9, 10, 11, 12, 13, 14, 1, 2, 3, 4, 5, 6, 7, 9, 10, 11, 12, 13, 15, 1, 2, 3, 6, 7, 11, 13, 15, 1, 2, 3, 4, 5, 6, 7, 8, 9, 10, 11, 12, 13, 15, 1, 2, 4, 5, 6, 7, 8, 9, 10, 12, 13, 1, 2, 4, 5, 6, 7, 8, 9, 11, 12, 13, 14, 3, 4, 7, 8, 9, 12, 14, 1, 2, 3, 4, 5, 8, 12, 13, 1, 2, 5, 8, 10, 13, 1, 2, 4, 5, 7, 8, 9, 10, 11, 13, 1, 2, 5, 7, 8, 12, 1, 2, 3, 4, 5, 6, 7, 8, 9, 10, 11, 12, 14, 15, 1, 2, 3, 4, 5, 6, 7, 8, 9, 10, 11, 12, 13, 1, 2, 3, 5, 6, 7, 8, 10, 11, 13, 1, 2, 4, 6, 9, 13, 2, 4, 7, 9, 12, 1, 2, 3, 4, 5, 6, 7, 8, 9, 10, 11, 12, 13, 14, 1, 2, 3, 4, 5, 6, 8, 10, 12, 13, 14, 15, 2, 4, 6, 15, 1, 3, 10, 11, 12, 13, 1, 2, 4, 6, 7, 15, 1, 2, 3, 4, 5, 6, 7, 8, 9, 10, 11, 12, 13, 14, 15, 2, 3, 5, 7, 8, 12, 1, 6, 8, 10, 13, 1, 2, 3, 4, 5, 6, 8, 11, 12, 14, 15, 1, 2, 3, 4, 5, 7, 8, 9, 10, 11, 13, 14, 15, 1, 3, 4, 6, 7, 9, 10, 12, 2, 3, 4, 6, 7, 8, 12, 13, 2, 5, 6, 11, 12, 13, 2, 5, 7, 8, 15, 1, 2, 3, 4, 6, 8, 11, 13, 14, 15, 1, 2, 3, 4, 5, 6, 7, 8, 9, 10, 12, 13, 14, 15, 2, 5, 6, 7, 9, 12, 1, 2, 4, 5, 6, 8, 11, 1, 2, 4, 8, 9, 11, 12, 3, 4, 6, 7, 12, 1, 2, 3, 4, 5, 6, 7, 8, 9, 10, 11, 12, 1, 6, 7, 9, 10, 12, 15, 2, 3, 2, 7, 14, 3, 4, 8, 9, 11, 12, 14, 1, 2, 4, 6, 9, 11, 12, 1, 2, 3, 6, 8, 9, 12, 15, 1, 2, 3, 4, 5, 6, 8, 11, 12, 15, 1, 2, 7, 8, 9, 10, 12, 14, 15, 1, 5, 10, 1, 2, 3, 4, 5, 6, 7, 8, 9, 10, 11, 12, 13, 15, 1, 2, 3, 4, 5, 6, 7, 8, 9, 10, 11, 12, 13, 14, 15, 1, 2, 3, 4, 5, 6, 7, 8, 10, 11, 12, 15, 1, 2, 3, 4, 5, 6, 7, 8, 9, 10, 11, 12, 13, 14, 15, 2, 3, 4, 5, 6, 8, 9, 13, 15, 1, 2, 7, 9, 13, 1, 2, 4, 5, 6, 9, 1, 2, 3, 6, 8, 9, 12, 14, 2, 6, 7, 9, 10, 14, 1, 2, 3, 4, 6, 7, 8, 10, 11, 12, 14, 1, 2, 6, 8, 10, 15, 1, 2, 4, 6, 8, 10, 11, 1, 2, 3, 4, 8, 9, 12, 13, 2, 3, 4, 6, 7, 8, 9, 10, 11, 15, 1, 2, 3, 4, 5, 6, 7, 8, 9, 10, 11, 12, 13, 14, 15, 1, 2, 4, 5, 4, 5, 6, 7, 9, 11, 1, 2, 3, 4, 6, 7, 8, 9, 10, 11, 12, 14, 15, 1, 3, 12, 14, 1, 2, 3, 5, 7, 9, 11, 1, 3, 4, 5, 7, 8, 10, 11, 12, 13, 1, 2, 4, 7, 10, 1, 2, 6, 11, 13, 1, 3, 6, 13, 1, 2, 3, 5, 6, 7, 8, 13, 14, 1, 9, 11, 1, 2, 4, 6, 9, 1, 3, 4, 5, 6, 7, 8, 9, 10, 11, 12, 14, 1, 2, 3, 4, 5, 6, 7, 8, 9, 10, 11, 13, 14, 15, 1, 2, 3, 5, 9, 12, 15, 1, 2, 3, 4, 5, 7, 8, 9, 11, 12, 13, 15, 3, 7, 8, 11, 13, 14, 15, 1, 2, 3, 4, 5, 6, 7, 8, 9, 10, 11, 12, 14, 15, 2, 3, 4, 5, 6, 12, 1, 2, 3, 5, 6, 7, 9, 12, 13, 1, 2, 3, 7, 8, 9, 10, 11, 1, 2, 3, 4, 6, 8, 9, 12, 15, 2, 3, 4, 11, 1, 3, 7, 9, 11, 13, 14, 15, 1, 2, 3, 6, 8, 11, 12, 2, 3, 7, 12, 14, 1, 2, 3, 4, 5, 6, 7, 8, 9, 10, 11, 12, 13, 15, 4, 5, 8, 9, 11, 12, 14, 4, 7, 8, 10, 12, 13, 1, 2, 4, 6, 7, 10, 13, 1, 3, 8, 13, 14, 2, 3, 4, 6, 8, 9, 10, 12, 15, 1, 2, 3, 4, 7, 8, 9, 10, 12, 14, 15, 1, 5, 8, 11, 14, 1, 2, 3, 4, 5, 6, 7, 8, 9, 10, 11, 12, 13, 15, 1, 2, 3, 4, 5, 6, 7, 8, 9, 11, 12, 13, 15, 1, 3, 4, 5, 7, 8, 12, 13, 14, 1, 2, 4, 5, 6, 9, 10, 11, 12, 13, 2, 6, 8, 9, 2, 3, 4, 6, 7, 8, 9, 10, 11, 12, 13, 14, 1, 5, 8, 13, 1, 4, 6, 9, 10, 11, 12, 13, 14, 1, 2, 3, 4, 5, 8, 10, 11, 12, 1, 5, 6, 8, 13, 1, 5, 8, 10, 12, 15, 7, 10, 14, 2, 3, 4, 6, 8, 9, 12, 14, 15, 2, 5, 8, 9, 15, 13, 2, 6, 9, 10, 11, 2, 3, 4, 5, 6, 7, 8, 9, 10, 11, 12, 13, 14, 15, 1, 2, 4, 5, 6, 13, 14, 1, 2, 3, 8, 9, 10, 11, 12, 13, 1, 3, 6, 13, 1, 2, 6, 9, 11, 1, 2, 3, 4, 5, 6, 7, 8, 9, 10, 11, 13, 14, 15, 1, 2, 3, 4, 5, 7, 8, 11, 12, 13, 2, 3, 4, 13, 1, 2, 3, 4, 7, 8, 9, 11, 12, 15, 2, 3, 4, 7, 8, 2, 3, 6, 7, 8, 9, 10, 11, 12, 13, 2, 3, 4, 6, 7, 1, 2, 3, 4, 5, 6, 7, 8, 9, 10, 11, 12, 13, 14, 15, 1, 2, 4, 7, 10, 1, 2, 3, 4, 5, 6, 7, 8, 9, 10, 11, 12, 13, 15, 1, 3, 4, 12, 15, 2, 3, 6, 10, 12, 13, 14, 1, 7, 8, 13, 1, 2, 5, 7, 8, 9, 12, 14, 1, 2, 3, 4, 5, 8, 10, 13, 1, 2, 3, 4, 5, 6, 7, 8, 9, 10, 11, 12, 13, 15, 1, 2, 3, 4, 5, 6, 7, 8, 9, 10, 12, 13, 15, 1, 2, 3, 4, 5, 6, 7, 9, 10, 11, 12, 13, 14, 15, 1, 2, 4, 5, 7, 8, 9, 10, 13, 15, 2, 3, 7, 10, 11, 14, 1, 3, 5, 7, 10, 12, 1, 2, 4, 5, 6, 9, 10, 13, 3, 4, 5, 6, 7, 8, 9, 11, 15, 1, 5, 10, 12, 15, 1, 2, 5, 8, 12, 13, 1, 2, 6, 8, 9, 12, 14, 15, 1, 2, 3, 4, 5, 6, 7, 8, 9, 10, 11, 12, 13, 15, 2, 3, 4, 9, 10, 3, 6, 8, 9, 10, 15, 1, 2, 3, 4, 5, 6, 7, 8, 9, 11, 12, 13, 15, 2, 4, 5, 6, 7, 9, 11, 12, 14, 1, 2, 3, 4, 5, 7, 8, 9, 10, 11, 12, 13, 14, 15, 2, 3, 1, 2, 4, 6, 7, 9, 2, 4, 5, 9, 11, 14, 1, 2, 7, 11, 12, 14, 1, 3, 4, 5, 6, 7, 8, 9, 10, 12, 13, 14, 15, 1, 2, 3, 4, 6, 7, 8, 9, 11, 13, 14, 15, 1, 2, 3, 4, 6, 7, 8, 10, 11, 13, 15, 1, 5, 6, 8, 12, 1, 2, 3, 4, 5, 6, 7, 8, 9, 10, 11, 12, 13, 14, 15, 2, 3, 4, 6, 9, 11, 13, 15, 1, 2, 3, 4, 5, 8, 10, 11, 12, 13, 1, 2, 3, 4, 6, 8, 10, 2, 4, 8, 9, 12, 1, 6, 10, 11, 12, 13, 15, 1, 3, 5, 6, 7, 10, 11, 1, 2, 3, 4, 5, 7, 8, 9, 10, 12, 13, 15, 2, 3, 4, 5, 8, 13, 15, 1, 2, 4, 6, 8, 9, 12, 1, 2, 8, 10, 11, 12, 13, 1, 2, 6, 12, 13, 1, 2, 6, 7, 8, 12, 13, 15, 1, 2, 4, 5, 7, 9, 11, 12, 13, 1, 2, 3, 4, 5, 6, 7, 8, 9, 10, 11, 12, 13, 15, 1, 2, 3, 5, 6, 7, 8, 9, 10, 11, 12, 13, 14, 1, 2, 3, 4, 5, 6, 7, 8, 11, 14, 1, 2, 4, 5, 6, 7, 9, 12, 13, 15, 1, 2, 3, 4, 5, 6, 8, 9, 10, 11, 12, 15, 4, 5, 6, 10, 12, 13, 1, 2, 5, 8, 9, 13, 14, 1, 3, 4, 5, 6, 8, 9, 10, 11, 13, 1, 2, 3, 6, 8, 9, 11, 12, 1, 2, 3, 5, 6, 8, 9, 10, 11, 12, 13, 14, 1, 4, 12, 13, 15, 1, 2, 4, 9, 13, 14, 15, 3, 6, 7, 9, 12, 1, 2, 3, 5, 6, 7, 8, 9, 10, 11, 12, 13, 14, 1, 2, 3, 4, 5, 6, 8, 9, 11, 13, 14, 2, 3, 5, 10, 1, 2, 4, 5, 6, 7, 9, 10, 13, 14, 1, 4, 5, 9, 11, 14, 15, 1, 2, 6, 7, 9, 11, 14, 2, 4, 5, 7, 8, 9, 10, 2, 3, 4, 6, 1, 2, 3, 5, 6, 7, 9, 12, 13, 15, 1, 2, 3, 4, 7, 9, 10, 12, 1, 2, 4, 5, 6, 7, 9, 12, 1, 2, 3, 4, 5, 10, 11, 15, 1, 2, 3, 4, 10, 15, 3, 5, 7, 9, 10, 12, 13, 4, 6, 7, 8, 9, 2, 3, 4, 6, 9, 11, 13, 14, 2, 3, 6, 7, 11, 13, 1, 3, 4, 7, 8, 9, 10, 3, 4, 9, 10, 13, 1, 2, 3, 4, 5, 6, 7, 8, 10, 11, 13, 14, 15, 1, 2, 3, 4, 9, 11, 12, 13, 14, 1, 2, 3, 4, 5, 6, 7, 8, 9, 10, 11, 12, 13, 14, 15, 1, 2, 3, 4, 6, 7, 9, 10, 11, 12, 14, 1, 2, 4, 5, 6, 8, 9, 12, 13, 14, 2, 4, 10, 11, 12, 13, 15, 1, 2, 3, 6, 8, 9, 11, 1, 2, 3, 4, 5, 6, 7, 8, 12, 13, 1, 4, 5, 6, 8, 9, 10, 11, 12, 13, 2, 3, 6, 8, 9, 10, 11, 12, 13, 5, 8, 14, 1, 6, 11, 12, 6, 7, 9, 12, 13, 14, 1, 2, 3, 5, 6, 7, 8, 9, 10, 11, 12, 13, 14, 2, 3, 5, 10, 13, 15, 1, 2, 4, 5, 7, 10, 11, 12, 13, 15, 1, 2, 4, 8, 9, 10, 13, 15, 2, 3, 8, 9, 11, 13, 15, 2, 3, 5, 8, 1, 2, 3, 4, 5, 6, 7, 9, 10, 11, 12, 13, 14, 15, 3, 4, 7, 12, 14, 15, 1, 6, 7, 8, 9, 10, 11, 15, 2, 4, 5, 7, 9, 13, 2, 3, 4, 6, 8, 10, 11, 12, 13, 3, 4, 5, 8, 10, 11, 14, 1, 4, 5, 7, 10, 11, 12, 13, 1, 2, 6, 7, 10, 13, 14, 2, 3, 4, 6, 10, 12, 1, 4, 6, 8, 9, 10, 11, 14, 5, 8, 10, 1, 2, 3, 4, 5, 7, 8, 9, 12, 14, 1, 2, 3, 4, 6, 7, 8, 9, 10, 12, 14, 15, 1, 2, 3, 5, 9, 11, 1, 2, 3, 4, 5, 6, 7, 9, 10, 11, 12, 13, 15, 1, 2, 3, 4, 5, 7, 9, 11, 12, 13, 14, 15, 1, 2, 3, 4, 5, 6, 9, 10, 12, 15, 2, 4, 6, 7, 8, 9, 12, 14, 1, 2, 3, 4, 7, 9, 1, 2, 3, 4, 5, 6, 7, 8, 9, 10, 11, 12, 13, 14, 15, 1, 2, 3, 9, 10, 15, 1, 4, 5, 12, 13, 1, 2, 3, 4, 5, 8, 9, 10, 11, 13, 14, 15, 3, 4, 6, 7, 8, 9, 10, 11, 12, 14, 15, 1, 5, 7, 8, 9, 10, 12, 13, 15, 1, 2, 3, 4, 5, 6, 7, 8, 9, 10, 12, 13, 14, 1, 2, 3, 4, 5, 6, 7, 8, 9, 10, 11, 12, 13, 14, 15, 1, 4, 6, 8, 9, 12, 13, 14, 1, 3, 4, 5, 8, 9, 11, 14, 1, 7, 8, 15, 2, 6, 7, 15, 1, 2, 3, 4, 5, 6, 7, 8, 9, 10, 11, 12, 13, 14, 15, 1, 2, 4, 5, 7, 10, 11, 13, 14, 1, 2, 4, 6, 7, 8, 9, 10, 11, 13, 14, 15, 1, 3, 4, 7, 8, 9, 10, 14, 1, 2, 4, 5, 6, 7, 8, 10, 11, 15, 2, 4, 5, 6, 7, 13, 14, 1, 2, 3, 15, 1, 2, 3, 4, 5, 7, 8, 9, 10, 12, 14, 1, 5, 8, 10, 12, 13, 1, 2, 4, 5, 1, 2, 3, 6, 9, 13, 15, 1, 2, 8, 11, 1, 2, 3, 4, 5, 6, 7, 9, 10, 12, 13, 1, 2, 3, 6, 9, 11, 12, 13, 2, 3, 8, 9, 10, 12, 1, 2, 3, 4, 5, 7, 9, 11, 12, 14, 15, 1, 2, 3, 4, 5, 6, 7, 8, 9, 10, 11, 12, 14, 15, 1, 2, 3, 6, 7, 8, 11, 13, 1, 2, 4, 5, 7, 8, 11, 12, 13, 15, 2, 3, 6, 8, 10, 15, 8, 9, 10, 12, 13, 14, 1, 2, 3, 4, 5, 8, 12, 1, 4, 6, 12, 13, 15, 3, 5, 7, 8, 13, 1, 2, 3, 4, 6, 7, 9, 10, 11, 12, 13, 14, 15, 1, 2, 3, 4, 5, 6, 7, 8, 9, 10, 11, 12, 14, 1, 2, 10, 13, 2, 3, 7, 8, 11, 12, 13, 1, 2, 3, 4, 6, 7, 9, 10, 11, 13, 1, 2, 3, 4, 6, 9, 12, 2, 4, 5, 6, 8, 10, 13, 1, 2, 4, 5, 7, 10, 2, 3, 4, 7, 10, 3, 4, 6, 12, 14, 1, 3, 5, 6, 13, 2, 3, 4, 5, 6, 7, 8, 9, 15, 3, 4, 5, 7, 9, 10, 13, 2, 3, 4, 5, 7, 9, 12, 13, 15, 1, 2, 3, 4, 5, 6, 7, 9, 10, 12, 15, 1, 2, 8, 10, 15, 1, 2, 3, 7, 11, 13, 1, 2, 3, 4, 5, 6, 7, 8, 10, 11, 12, 13, 14, 15, 1, 2, 3, 4, 5, 6, 7, 8, 9, 10, 11, 12, 13, 14, 15, 1, 2, 3, 4, 5, 9, 10, 14, 15, 3, 5, 7, 8, 14, 1, 2, 4, 9, 2, 7, 11, 12, 14, 1, 2, 3, 4, 6, 7, 8, 11, 12, 13, 14, 15, 2, 3, 4, 5, 6, 7, 8, 11, 12, 14, 1, 2, 5, 10, 12, 13, 15, 3, 4, 12, 14, 15, 2, 6, 8, 9, 11, 2, 4, 6, 7, 9, 12, 2, 3, 4, 7, 10, 11, 12, 1, 2, 3, 4, 5, 6, 7, 9, 11, 14, 1, 5, 10, 1, 2, 3, 4, 6, 7, 8, 9, 10, 11, 12, 13, 14, 15, 4, 5, 6, 7, 8, 9, 11, 13, 1, 2, 3, 4, 5, 6, 7, 8, 9, 10, 11, 12, 13, 14, 15, 1, 2, 5, 9, 1, 2, 3, 4, 5, 6, 7, 10, 11, 13, 14, 2, 3, 4, 6, 7, 9, 10, 12, 13, 14, 1, 2, 3, 6, 7, 9, 10, 11, 13, 14, 2, 4, 5, 10, 13, 14, 1, 2, 4, 5, 7, 8, 9, 10, 11, 12, 13, 15, 1, 3, 4, 9, 10, 13, 2, 3, 5, 10, 14, 1, 2, 3, 4, 5, 6, 7, 8, 10, 11, 14, 1, 2, 3, 4, 5, 6, 7, 8, 9, 11, 12, 13, 14, 15, 1, 2, 3, 4, 5, 6, 7, 8, 9, 10, 11, 12, 13, 15, 1, 2, 3, 4, 5, 6, 7, 8, 9, 10, 11, 12, 13, 14, 1, 2, 4, 7, 8, 13, 15, 1, 2, 3, 4, 5, 6, 7, 8, 11, 12, 13, 14, 1, 2, 3, 5, 6, 8, 9, 10, 12, 13, 1, 2, 5, 6, 15, 1, 4, 7, 9, 14, 3, 8, 12, 1, 2, 3, 4, 6, 7, 9, 10, 12, 1, 2, 3, 4, 5, 6, 7, 8, 9, 10, 14, 15, 1, 2, 3, 4, 5, 6, 7, 8, 10, 11, 12, 13, 15], \"Freq\": [0.12150454860870599, 0.13669261718479425, 0.2581971657935002, 0.12150454860870599, 0.015188068576088249, 0.13669261718479425, 0.0911284114565295, 0.10631648003261775, 0.11027641500884866, 0.0827073112566365, 0.4135365562831825, 0.05513820750442433, 0.05513820750442433, 0.0827073112566365, 0.11027641500884866, 0.05513820750442433, 0.5492326611718189, 0.042248666243986065, 0.08449733248797213, 0.042248666243986065, 0.16899466497594426, 0.042248666243986065, 0.34922087667691243, 0.03676009228178025, 0.03676009228178025, 0.11028027684534077, 0.42274106124047295, 0.018380046140890127, 0.983134936909565, 0.13761812405506715, 0.22018899848810744, 0.4128543721652015, 0.11009449924405372, 0.05504724962202686, 0.5501141654679299, 0.253898845600583, 0.1269494228002915, 0.3015923515824345, 0.11309713184341294, 0.11309713184341294, 0.025132695965202876, 0.08796443587821007, 0.025132695965202876, 0.05026539193040575, 0.025132695965202876, 0.17592887175642014, 0.05026539193040575, 0.012566347982601438, 0.31037598200975786, 0.07759399550243946, 0.07759399550243946, 0.2715789842585381, 0.11639099325365919, 0.11639099325365919, 0.09757878364459714, 0.05854727018675829, 0.03903151345783886, 0.11709454037351658, 0.21467332401811373, 0.03903151345783886, 0.11709454037351658, 0.01951575672891943, 0.05854727018675829, 0.15612605383135544, 0.07806302691567772, 0.2281059886980856, 0.19617115028035362, 0.09580451525319596, 0.027372718643770274, 0.02281059886980856, 0.12317723389696623, 0.05930755706150226, 0.05474543728754055, 0.06386967683546398, 0.02281059886980856, 0.0729939163833874, 0.0364969581916937, 0.17838401877630733, 0.22298002347038418, 0.31217203285853784, 0.04459600469407683, 0.08919200938815366, 0.1337880140822305, 0.215315436807481, 0.045066021657379746, 0.08512470757505063, 0.19528609384864556, 0.025036678698544302, 0.09513937905446834, 0.02002934295883544, 0.025036678698544302, 0.01001467147941772, 0.050073357397088604, 0.10515405053388607, 0.025036678698544302, 0.07511003609563291, 0.025036678698544302, 0.4451049867754451, 0.24278453824115184, 0.04046408970685864, 0.08092817941371729, 0.16185635882743457, 0.04046408970685864, 0.09668389655703588, 0.26588071553184867, 0.04834194827851794, 0.5075904569244384, 0.07251292241777692, 0.181193126540226, 0.181193126540226, 0.2470815361912173, 0.11530471688923474, 0.11530471688923474, 0.00823605120637391, 0.12354076809560866, 0.01647210241274782, 0.00823605120637391, 0.12277415833558215, 0.45017191389713457, 0.4092471944519405, 0.24816359033261454, 0.12105540991834855, 0.10289709843059627, 0.042369393471422, 0.05447493446325685, 0.13921372140610083, 0.018158311487752283, 0.1513192623979357, 0.030263852479587138, 0.02421108198366971, 0.018158311487752283, 0.012105540991834855, 0.036316622975504566, 0.176066710517279, 0.22008338814659875, 0.0880333552586395, 0.30811674340523826, 0.176066710517279, 0.04401667762931975, 0.10455333994747526, 0.20910667989495052, 0.24395779321077563, 0.13940445326330034, 0.2788089065266007, 0.034851113315825084, 0.18364840747040664, 0.22956050933800828, 0.27547261120560995, 0.04591210186760166, 0.22956050933800828, 0.04591210186760166, 0.1558742702838483, 0.011990328483372946, 0.035970985450118835, 0.04796131393349178, 0.22781624118408597, 0.04796131393349178, 0.1318936133171024, 0.08393229938361062, 0.02398065696674589, 0.19184525573396713, 0.011990328483372946, 0.011990328483372946, 0.12971642741336586, 0.3242910685334147, 0.032429106853341466, 0.016214553426670733, 0.06485821370668293, 0.1459309808400366, 0.08107276713335368, 0.016214553426670733, 0.09728732056002441, 0.08107276713335368, 0.2369513936132011, 0.4062023890512019, 0.13540079635040062, 0.10155059726280047, 0.06770039817520031, 0.06770039817520031, 0.037882140511881796, 0.274645518711143, 0.014205802691955672, 0.042617408075867017, 0.26517498358317254, 0.018941070255940898, 0.17046963230346807, 0.028411605383911343, 0.02367633781992612, 0.014205802691955672, 0.04735267563985224, 0.02367633781992612, 0.037882140511881796, 0.0047352675639852244, 0.16408414807870092, 0.18752474066137248, 0.14064355549602936, 0.07032177774801468, 0.04688118516534312, 0.04688118516534312, 0.25784651840938716, 0.07032177774801468, 0.14500035027462183, 0.024166725045770304, 0.07250017513731091, 0.16916707532039213, 0.12083362522885152, 0.07250017513731091, 0.38666760073232487, 0.24072420817749918, 0.48144841635499835, 0.16048280545166613, 0.08024140272583306, 0.09457432382849384, 0.09457432382849384, 0.0630495492189959, 0.22067342226648565, 0.28372297148548153, 0.1891486476569877, 0.03152477460949795, 0.2127242178781498, 0.08508968715125992, 0.2978139050294097, 0.04254484357562996, 0.17017937430251984, 0.04254484357562996, 0.12763453072688988, 0.5957949707254322, 0.2978974853627161, 0.01654986029792867, 0.08274930148964335, 0.0870059174226205, 0.012429416774660071, 0.2983060025918417, 0.06214708387330036, 0.012429416774660071, 0.22372950194388128, 0.1367235845212608, 0.0870059174226205, 0.03728825032398021, 0.024858833549320142, 0.4445180152579786, 0.095253860412424, 0.031751286804141333, 0.031751286804141333, 0.06350257360828267, 0.06350257360828267, 0.2222590076289893, 0.031751286804141333, 0.4527849879252996, 0.0754641646542166, 0.02515472155140553, 0.02515472155140553, 0.05030944310281106, 0.10061888620562212, 0.02515472155140553, 0.2515472155140553, 0.1606910764016634, 0.18077746095187136, 0.18077746095187136, 0.06025915365062379, 0.06025915365062379, 0.06025915365062379, 0.24103661460249515, 0.020086384550207927, 0.04017276910041585, 0.07190018687893777, 0.25165065407628223, 0.07190018687893777, 0.21570056063681334, 0.25165065407628223, 0.07190018687893777, 0.15880342716404783, 0.07278490411685526, 0.09263533251236124, 0.10586895144269856, 0.13895299876854186, 0.01985042839550598, 0.11248576090786722, 0.00661680946516866, 0.04631766625618062, 0.11910257037303587, 0.08601852304719257, 0.03970085679101196, 0.10604389611467588, 0.035347965371558626, 0.35347965371558626, 0.4241755844587035, 0.035347965371558626, 0.10529566302313213, 0.5966754237977487, 0.10529566302313213, 0.10529566302313213, 0.035098554341044044, 0.11310427625995093, 0.19049141264833838, 0.1357251315119411, 0.06071913778165786, 0.09286456366606496, 0.08572113569175227, 0.13215341752478477, 0.021430283922938068, 0.030954854555354988, 0.016667998606729607, 0.020239712593885954, 0.05000399582018883, 0.026192569239146528, 0.019049141264833837, 0.008333999303364804, 0.06972541996325393, 0.17431354990813483, 0.034862709981626966, 0.17431354990813483, 0.2789016798530157, 0.06972541996325393, 0.06972541996325393, 0.1045881299448809, 0.034862709981626966, 0.6789452971911291, 0.22019847476469048, 0.07339949158823017, 0.018349872897057543, 0.19654369262473775, 0.08735275227766122, 0.1637864105206148, 0.30573463297181425, 0.09827184631236888, 0.04367637613883061, 0.010919094034707652, 0.05459547017353826, 0.03275728210412296, 0.09035440000403029, 0.02464210909200826, 0.16428072728005508, 0.13142458182404404, 0.45177200002015144, 0.06571229091202202, 0.04107018182001377, 0.02464210909200826, 0.13316228994919097, 0.04438742998306366, 0.26632457989838193, 0.08877485996612731, 0.08877485996612731, 0.17754971993225463, 0.22193714991531827, 0.12781874455393938, 0.06390937227696969, 0.15977343069242422, 0.09586405841545453, 0.09586405841545453, 0.25563748910787876, 0.15977343069242422, 0.06390937227696969, 0.25952056796067313, 0.25952056796067313, 0.11534247464918806, 0.05767123732459403, 0.028835618662297016, 0.25952056796067313, 0.05474547636822116, 0.20902818249684443, 0.024884307440100527, 0.07962978380832168, 0.19409759803278412, 0.059722337856241266, 0.059722337856241266, 0.0895835067843619, 0.06469919934426137, 0.03981489190416084, 0.024884307440100527, 0.014930584464060316, 0.024884307440100527, 0.06469919934426137, 0.06338707849178307, 0.12677415698356614, 0.06338707849178307, 0.2535483139671323, 0.09508061773767461, 0.19016123547534922, 0.19016123547534922, 0.0920748761771823, 0.30691625392394095, 0.15345812696197048, 0.030691625392394097, 0.12276650156957639, 0.0920748761771823, 0.030691625392394097, 0.12276650156957639, 0.25880556353384015, 0.25880556353384015, 0.17253704235589346, 0.057512347451964485, 0.08626852117794673, 0.1437808686299112, 0.9662146231731993, 0.19657226572752243, 0.04914306643188061, 0.07371459964782091, 0.08600036625579106, 0.09828613286376121, 0.024571533215940303, 0.012285766607970152, 0.17200073251158213, 0.24571533215940303, 0.012285766607970152, 0.024571533215940303, 0.031733327159092335, 0.45484435594699013, 0.4125332530682003, 0.06346665431818467, 0.031733327159092335, 0.16276810657667315, 0.17070801421455964, 0.09130893783569469, 0.09130893783569469, 0.07939907637886494, 0.10718875311146768, 0.03175963055154598, 0.023819722913659483, 0.06351926110309196, 0.05557935346520546, 0.03969953818943247, 0.035729584370489224, 0.05160939964626221, 0.5449592435710191, 0.07785132051014558, 0.07785132051014558, 0.03892566025507279, 0.07785132051014558, 0.03892566025507279, 0.03892566025507279, 0.07785132051014558, 0.0926790160975639, 0.23169754024390973, 0.14828642575610224, 0.07414321287805112, 0.12975062253658945, 0.1853580321951278, 0.04633950804878195, 0.00926790160975639, 0.03707160643902556, 0.01853580321951278, 0.01853580321951278, 0.3849316755779396, 0.0349937886889036, 0.1399751547556144, 0.2449565208223252, 0.0349937886889036, 0.1399751547556144, 0.05246628294488649, 0.026233141472443246, 0.06558285368110811, 0.3279142684055406, 0.06558285368110811, 0.2229817025157676, 0.1705154195708811, 0.013116570736221623, 0.03934971220866487, 0.06549712740339846, 0.2619885096135938, 0.04366475160226564, 0.08732950320453128, 0.02183237580113282, 0.5021446434260549, 0.2897908050992867, 0.07244770127482167, 0.14489540254964334, 0.3260146557366975, 0.18111925318705419, 0.983134936909565, 0.11691041913597289, 0.16367458679036204, 0.07014625148158372, 0.07014625148158372, 0.25720292209914036, 0.04676416765438915, 0.25720292209914036, 0.19842165416256707, 0.13958732647482916, 0.10728612695999266, 0.04383734219870668, 0.10036444134967056, 0.08882829866580037, 0.001153614268387018, 0.03922288512515861, 0.029993970978062466, 0.09113552720257441, 0.06806324183483406, 0.03576204231999756, 0.036915656588384575, 0.009228914147096144, 0.010382528415483162, 0.040937470867351354, 0.08187494173470271, 0.12281241260205407, 0.16374988346940542, 0.16374988346940542, 0.12281241260205407, 0.16374988346940542, 0.08187494173470271, 0.040937470867351354, 0.02643523094408317, 0.21148184755266536, 0.5022693879375802, 0.18504661660858218, 0.05287046188816634, 0.05779251328131419, 0.36601925078165654, 0.11558502656262838, 0.11558502656262838, 0.019264171093771397, 0.23117005312525676, 0.07705668437508559, 0.065364712666342, 0.098047068999513, 0.294141206998539, 0.032682356333171, 0.130729425332684, 0.196094137999026, 0.032682356333171, 0.098047068999513, 0.05155012001570601, 0.5670513201727662, 0.2405672267399614, 0.01718337333856867, 0.03436674667713734, 0.01718337333856867, 0.05155012001570601, 0.5518282300939524, 0.10033240547162772, 0.12541550683953465, 0.20066481094325544, 0.033721448811536194, 0.21918941727498525, 0.10116434643460857, 0.18546796846344904, 0.08430362202884048, 0.05058217321730429, 0.08430362202884048, 0.13488579524614477, 0.05058217321730429, 0.016860724405768097, 0.3836664985768626, 0.1278888328589542, 0.0116262575326322, 0.0058131287663161, 0.1337019616252703, 0.1569544766905347, 0.0988231890273737, 0.0290656438315805, 0.0058131287663161, 0.0290656438315805, 0.0174393862989483, 0.14945639115324927, 0.29891278230649854, 0.11209229336493695, 0.03736409778831232, 0.07472819557662463, 0.29891278230649854, 0.20191185339059947, 0.2271508350644244, 0.0757169450214748, 0.378584725107374, 0.0757169450214748, 0.05047796334764987, 0.1483979905387595, 0.1483979905387595, 0.009893199369250634, 0.04946599684625316, 0.18797078801576203, 0.04946599684625316, 0.1483979905387595, 0.0296795981077519, 0.04946599684625316, 0.04946599684625316, 0.0296795981077519, 0.08903879432325569, 0.1973363207048725, 0.7367222639648573, 0.026311509427316332, 0.013155754713658166, 0.013155754713658166, 0.7931720599053979, 0.1133102942721997, 0.03777009809073323, 0.10862714425781439, 0.48882214916016475, 0.19009750245117518, 0.16294071638672158, 0.027156786064453597, 0.2850826987309926, 0.1330385927411299, 0.07602205299493137, 0.07602205299493137, 0.03801102649746568, 0.05701653974619853, 0.09502756624366422, 0.19005513248732844, 0.01900551324873284, 0.5919669572491242, 0.12390006081958413, 0.02753334684879647, 0.02753334684879647, 0.04130002027319471, 0.05506669369759294, 0.013766673424398235, 0.05506669369759294, 0.05506669369759294, 0.08199625790862286, 0.08199625790862286, 0.5466417193908191, 0.054664171939081914, 0.08199625790862286, 0.027332085969540957, 0.027332085969540957, 0.054664171939081914, 0.027332085969540957, 0.49075347530085, 0.11897053946687274, 0.16358449176695, 0.029742634866718184, 0.05948526973343637, 0.044613952300077274, 0.014871317433359092, 0.044613952300077274, 0.014871317433359092, 0.6437922227549064, 0.02476123933672717, 0.04952247867345434, 0.04952247867345434, 0.09904495734690869, 0.07428371801018152, 0.07428371801018152, 0.15643150830388602, 0.09385890498233163, 0.031286301660777206, 0.06257260332155441, 0.5944397315547669, 0.031286301660777206, 0.1663636883682021, 0.1535664815706481, 0.07678324078532404, 0.2559441359510801, 0.08958044758287804, 0.11517486117798606, 0.07678324078532404, 0.012797206797554007, 0.012797206797554007, 0.025594413595108015, 0.23321081618341777, 0.1829104440654257, 0.17833768296379005, 0.1188917886425267, 0.0045727611016356425, 0.03658208881308514, 0.050300372117992063, 0.01829104440654257, 0.03658208881308514, 0.032009327711449494, 0.04115484991472078, 0.050300372117992063, 0.01829104440654257, 0.0045727611016356425, 0.2803054495025831, 0.11419851646401535, 0.05190841657455243, 0.16610693303856777, 0.08305346651928389, 0.17648861635347826, 0.10381683314910486, 0.010381683314910486, 0.02076336662982097, 0.47021147678218594, 0.15673715892739531, 0.15673715892739531, 0.03918428973184883, 0.11755286919554649, 0.45663775234624654, 0.2148883540452925, 0.2954714868122772, 0.026861044255661562, 0.9618319379641568, 0.11940269181310044, 0.1910443069009607, 0.17910403771965067, 0.023880538362620087, 0.17910403771965067, 0.07164161508786027, 0.023880538362620087, 0.1671637685383406, 0.04776107672524017, 0.125992388654179, 0.15749048581772376, 0.15749048581772376, 0.03149809716354475, 0.15749048581772376, 0.125992388654179, 0.22048668014481326, 0.03080040048670595, 0.1848024029202357, 0.4825396076250599, 0.020533600324470633, 0.1437352022712944, 0.020533600324470633, 0.020533600324470633, 0.05133400081117658, 0.04106720064894127, 0.13953293407056497, 0.2325548901176083, 0.5116207582587383, 0.09302195604704332, 0.06484764600600638, 0.1556343504144153, 0.02593905840240255, 0.09078670440840893, 0.02593905840240255, 0.06484764600600638, 0.12969529201201277, 0.02593905840240255, 0.07781717520720766, 0.0518781168048051, 0.0518781168048051, 0.03890858760360383, 0.2075124672192204, 0.1669509545079301, 0.4340724817206183, 0.20034114540951614, 0.03339019090158602, 0.03339019090158602, 0.03339019090158602, 0.03339019090158602, 0.5918559680203874, 0.1691017051486821, 0.12682627886151157, 0.08455085257434106, 0.16658024159546858, 0.21041714727848662, 0.14904547932226136, 0.14027809818565776, 0.07890643022943249, 0.01753476227320722, 0.026302143409810828, 0.052604286819621655, 0.14027809818565776, 0.026302143409810828, 0.11870868944591396, 0.6825749643140053, 0.02967717236147849, 0.02967717236147849, 0.11870868944591396, 0.18550982797551466, 0.11130589678530879, 0.6678353807118528, 0.03710196559510293, 0.10930283307321209, 0.3279084992196363, 0.054651416536606046, 0.036434277691070695, 0.036434277691070695, 0.27325708268303023, 0.09108569422767675, 0.018217138845535347, 0.018217138845535347, 0.036434277691070695, 0.14056541521649774, 0.08433924912989864, 0.11245233217319818, 0.22490466434639636, 0.28113083043299547, 0.14056541521649774, 0.05762725728224999, 0.15847495752618748, 0.21610221480843747, 0.028813628641124994, 0.34576354369349993, 0.11525451456449998, 0.014406814320562497, 0.05762725728224999, 0.10824253029519511, 0.23452548230625606, 0.09020210857932925, 0.2976669583117865, 0.1443233737269268, 0.06314147600553048, 0.009020210857932925, 0.027060632573798777, 0.01804042171586585, 0.2395708855341097, 0.11978544276705486, 0.31942784737881297, 0.27949936645646134, 0.1810090481462971, 0.43442171555111303, 0.25341266740481594, 0.03620180962925942, 0.03620180962925942, 0.03620180962925942, 0.19432293628179606, 0.15114006155250806, 0.15114006155250806, 0.19432293628179606, 0.06477431209393202, 0.06477431209393202, 0.17273149891715206, 0.021591437364644007, 0.2707994536572672, 0.13251888157696054, 0.14980395308699887, 0.06914028604015333, 0.051855214530115, 0.04609352402676888, 0.00576169050334611, 0.10371042906023, 0.057616905033461105, 0.017285071510038334, 0.06337859553680722, 0.01152338100669222, 0.017285071510038334, 0.2106303372977174, 0.1053151686488587, 0.17552528108143117, 0.07021011243257247, 0.035105056216286235, 0.24573539351400364, 0.1053151686488587, 0.20553426260833807, 0.06324131157179633, 0.047430983678847245, 0.20553426260833807, 0.0790516394647454, 0.06324131157179633, 0.06324131157179633, 0.09486196735769449, 0.1739136068224399, 0.015810327892949082, 0.13279265450235472, 0.08852843633490314, 0.35411374533961254, 0.08852843633490314, 0.08852843633490314, 0.17705687266980627, 0.04426421816745157, 0.04426421816745157, 0.3481469150164864, 0.13925876600659456, 0.03481469150164864, 0.10444407450494593, 0.3481469150164864, 0.09866413829075349, 0.48345427762469206, 0.00986641382907535, 0.11839696594890418, 0.14799620743613023, 0.08879772446167813, 0.0394656553163014, 0.00986641382907535, 0.18928534482345186, 0.15773778735287655, 0.18928534482345186, 0.03154755747057531, 0.06309511494115062, 0.06309511494115062, 0.06309511494115062, 0.18928534482345186, 0.03154755747057531, 0.4097027330185133, 0.05462703106913511, 0.19119460874197286, 0.21850812427654043, 0.08194054660370266, 0.10342053117313826, 0.3102615935194148, 0.37920861430150693, 0.06894702078209217, 0.06894702078209217, 0.06894702078209217, 0.20245289492656454, 0.29447693807500297, 0.42331059848281677, 0.05521442588906306, 0.1324101702549474, 0.1324101702549474, 0.3089570639282106, 0.1324101702549474, 0.08827344683663159, 0.044136723418315794, 0.1324101702549474, 0.5910718767471709, 0.04925598972893091, 0.2216519537801891, 0.04925598972893091, 0.07388398459339636, 0.22362113171829529, 0.08944845268731812, 0.15972937979878235, 0.108615978263172, 0.02555670076780518, 0.038335051151707766, 0.04472422634365906, 0.1277835038390259, 0.07028092711146423, 0.06389175191951295, 0.04472422634365906, 0.38124144987562614, 0.16944064438916717, 0.08472032219458359, 0.08472032219458359, 0.08472032219458359, 0.04236016109729179, 0.04236016109729179, 0.08472032219458359, 0.2755240215228367, 0.10332150807106379, 0.5166075403553189, 0.06888100538070918, 0.45173520540110984, 0.11293380135027746, 0.14116725168784683, 0.08470035101270809, 0.05646690067513873, 0.11293380135027746, 0.1682838852012287, 0.10097033112073722, 0.1682838852012287, 0.47119487856344033, 0.033656777040245736, 0.30775005730692084, 0.027977277936992805, 0.05595455587398561, 0.39168189111789925, 0.027977277936992805, 0.05595455587398561, 0.13988638968496403, 0.23335080794775387, 0.051855735099500866, 0.025927867549750433, 0.12963933774875216, 0.0777836026492513, 0.051855735099500866, 0.10371147019900173, 0.0777836026492513, 0.051855735099500866, 0.12963933774875216, 0.0419828030591723, 0.3358624244733784, 0.3778452275325507, 0.0839656061183446, 0.0419828030591723, 0.0419828030591723, 0.10811292977412854, 0.19460327359343135, 0.3243387893223856, 0.03243387893223856, 0.08649034381930283, 0.07567905084188997, 0.1405468087063671, 0.010811292977412854, 0.021622585954825708, 0.15369936761716885, 0.12007763095091317, 0.10566831523680359, 0.17291178856931497, 0.028818631428219162, 0.0048031052380365265, 0.22574594618771676, 0.06724347333251138, 0.04803105238036527, 0.03842484190429221, 0.009606210476073053, 0.024015526190182636, 0.04933844005181852, 0.44404596046636663, 0.04933844005181852, 0.12334610012954629, 0.04933844005181852, 0.04933844005181852, 0.04933844005181852, 0.12334610012954629, 0.09867688010363704, 0.046158814822188435, 0.13847644446656532, 0.3692705185775075, 0.09231762964437687, 0.27695288893313064, 0.046158814822188435, 0.11172731512716155, 0.2234546302543231, 0.5213941372600872, 0.03724243837572052, 0.07448487675144104, 0.22557108208375076, 0.025779552238142944, 0.12245287313117899, 0.05155910447628589, 0.11600798507164324, 0.045114216416750154, 0.05800399253582162, 0.11600798507164324, 0.09022843283350031, 0.019334664178607207, 0.012889776119071472, 0.09667332089303604, 0.025779552238142944, 0.4705824333848264, 0.27244246143332057, 0.04953499298787646, 0.0743024894818147, 0.0743024894818147, 0.04953499298787646, 0.11665286044172621, 0.04166173587204507, 0.14164990196495325, 0.2666351095810885, 0.04166173587204507, 0.04166173587204507, 0.09165581891849917, 0.06665877739527212, 0.058326430220863104, 0.058326430220863104, 0.03332938869763606, 0.03332938869763606, 0.14791987373408533, 0.1225621810939564, 0.11833589898726825, 0.08029936002707488, 0.0972044884538275, 0.13946730952070902, 0.033810256853505215, 0.016905128426752607, 0.025357692640128913, 0.054941667386945975, 0.06339423160032227, 0.04226282106688152, 0.02113141053344076, 0.033810256853505215, 0.2549039580871702, 0.38235593713075533, 0.1274519790435851, 0.08496798602905674, 0.1274519790435851, 0.04248399301452837, 0.12924762103315734, 0.20679619365305174, 0.025849524206631468, 0.20679619365305174, 0.12924762103315734, 0.28434476627294614, 0.08491311167025149, 0.10310877845673395, 0.09097833393241231, 0.13343488976753806, 0.10917400071889477, 0.06671744488376903, 0.09704355619457312, 0.06065222262160821, 0.12130444524321642, 0.02426088904864328, 0.07278266714592985, 0.01819566678648246, 0.00606522226216082, 0.07210751890481049, 0.18026879726202621, 0.3244838350716472, 0.14421503780962097, 0.14421503780962097, 0.03605375945240524, 0.10816127835721573, 0.07366066389206043, 0.6629459750285438, 0.11785706222729668, 0.11785706222729668, 0.02946426555682417, 0.5939573584531261, 0.3676878885662209, 0.02828368373586315, 0.5828763343909494, 0.11102406369351418, 0.13878007961689273, 0.027756015923378546, 0.11102406369351418, 0.21284599224451778, 0.16554688285684718, 0.16554688285684718, 0.047299109387670624, 0.09459821877534125, 0.047299109387670624, 0.16554688285684718, 0.023649554693835312, 0.047299109387670624, 0.047299109387670624, 0.22780457551972885, 0.30373943402630516, 0.14102188008364167, 0.021695673859021797, 0.032543510788532695, 0.021695673859021797, 0.18441322780168526, 0.010847836929510898, 0.021695673859021797, 0.010847836929510898, 0.010847836929510898, 0.10682659306277974, 0.4666635381163536, 0.06746942719754509, 0.022489809065848364, 0.123693949862166, 0.16867356799386274, 0.005622452266462091, 0.028112261332310456, 0.011244904532924182, 0.9747004937215542, 0.21718320039412883, 0.15513085742437774, 0.062052342969751095, 0.031026171484875548, 0.062052342969751095, 0.27923554336387996, 0.15513085742437774, 0.031026171484875548, 0.9831349369095649, 0.33629466395423013, 0.13451786558169207, 0.06725893279084603, 0.26903573116338414, 0.03362946639542302, 0.10088839918626905, 0.06725893279084603, 0.22318681245051425, 0.18885037976581975, 0.08584108171173625, 0.12017751439643075, 0.05150464902704175, 0.05150464902704175, 0.0343364326846945, 0.01716821634234725, 0.22318681245051425, 0.08640147445297171, 0.17280294890594342, 0.021600368613242927, 0.34560589781188683, 0.280804791972158, 0.043200737226485854, 0.021600368613242927, 0.043200737226485854, 0.5038085720158136, 0.4262995609364577, 0.03875450553967798, 0.1742482361609567, 0.11616549077397113, 0.11616549077397113, 0.2032896088544495, 0.2032896088544495, 0.11616549077397113, 0.05808274538698557, 0.08902171276858147, 0.2967390425619382, 0.08902171276858147, 0.08902171276858147, 0.05934780851238765, 0.2373912340495506, 0.08902171276858147, 0.029673904256193824, 0.31299098124248453, 0.27386710858717395, 0.1173716179659317, 0.07824774531062113, 0.19561936327655283, 0.18784369980099896, 0.12954737917310274, 0.20727580667696438, 0.07772842750386164, 0.06477368958655137, 0.051818951669241095, 0.03886421375193082, 0.06477368958655137, 0.10363790333848219, 0.058296320627896234, 0.01943210687596541, 0.10579689682974976, 0.23919298413682555, 0.036798920636434695, 0.04139878571598903, 0.027599190477326025, 0.06899797619331506, 0.10579689682974976, 0.07359784127286939, 0.05519838095465205, 0.04139878571598903, 0.05519838095465205, 0.022999325397771685, 0.05979824603420639, 0.05519838095465205, 0.004599865079554337, 0.054416499414825355, 0.3446378296272273, 0.09976358226051316, 0.06348591598396292, 0.06348591598396292, 0.00906941656913756, 0.0906941656913756, 0.07255533255310048, 0.0906941656913756, 0.03627766627655024, 0.0453470828456878, 0.027208249707412677, 0.08673295913521653, 0.05782197275681102, 0.08673295913521653, 0.17346591827043306, 0.17346591827043306, 0.02891098637840551, 0.20237690464883856, 0.08673295913521653, 0.08673295913521653, 0.21572693870102919, 0.02630816325622307, 0.042093061209956914, 0.11575591832738151, 0.005261632651244614, 0.15258734688609382, 0.010523265302489229, 0.03156979590746768, 0.35252938763338915, 0.02630816325622307, 0.01578489795373384, 0.23569949505996593, 0.03367135643713799, 0.10101406931141398, 0.5724130594313459, 0.1766475290244, 0.209768940716475, 0.16560705846037502, 0.0441618822561, 0.033121411692075, 0.02208094112805, 0.0883237645122, 0.077283293948175, 0.055202352820125, 0.011040470564025, 0.09936423507622501, 0.08275593915476183, 0.2896457870416664, 0.24826781746428547, 0.22757883267559503, 0.08275593915476183, 0.06206695436607137, 0.15703005128866065, 0.15703005128866065, 0.039257512822165164, 0.039257512822165164, 0.07851502564433033, 0.07851502564433033, 0.11777253846649549, 0.3140601025773213, 0.035179106737931135, 0.3166119606413802, 0.07035821347586227, 0.1758955336896557, 0.2110746404275868, 0.035179106737931135, 0.1055373202137934, 0.035179106737931135, 0.21661401367034772, 0.2666018629788895, 0.016662616436180593, 0.2832644794150701, 0.19995139723416713, 0.2954260603853416, 0.015548740020281135, 0.0466462200608434, 0.2643285803447793, 0.06219496008112454, 0.06219496008112454, 0.06219496008112454, 0.0466462200608434, 0.0466462200608434, 0.07774370010140567, 0.3139003519738558, 0.0724385427631975, 0.144877085526395, 0.28975417105279, 0.0724385427631975, 0.12073090460532916, 0.4570828967680281, 0.06529755668114687, 0.19589267004344063, 0.09794633502172032, 0.032648778340573434, 0.09794633502172032, 0.13087635906996856, 0.1576465234251894, 0.13385082177610422, 0.059489254122712984, 0.13087635906996856, 0.12492743365769726, 0.05651479141657734, 0.03866801517976344, 0.0029744627061356493, 0.07436156765339123, 0.011897850824542597, 0.03569355247362779, 0.008923388118406948, 0.011897850824542597, 0.020821238942949544, 0.22218277675371662, 0.2812000768289226, 0.09720496482975102, 0.059017300075205975, 0.04339507358471028, 0.05033828535826392, 0.03471605886776822, 0.026037044150826166, 0.020829635320660934, 0.013886423547107288, 0.008679014716942055, 0.03992346769793346, 0.04860248241487551, 0.04513087652809869, 0.008679014716942055, 0.32611138768929404, 0.3668753111504558, 0.16305569384464702, 0.08152784692232351, 0.2628031401278138, 0.08760104670927127, 0.1314015700639069, 0.2628031401278138, 0.21900261677317817, 0.3125862250607051, 0.07814655626517628, 0.07814655626517628, 0.07814655626517628, 0.07814655626517628, 0.1172198343977644, 0.07814655626517628, 0.1172198343977644, 0.702529501349671, 0.039029416741648386, 0.039029416741648386, 0.15611766696659354, 0.3983228084827795, 0.04425808983141995, 0.22129044915709975, 0.2655485389885197, 0.04425808983141995, 0.16194494638595863, 0.06477797855438346, 0.06477797855438346, 0.03238898927719173, 0.2915009034947255, 0.09716696783157518, 0.2591119142175338, 0.03238898927719173, 0.08140379739443405, 0.12210569609165108, 0.24421139218330215, 0.2849132908805192, 0.08140379739443405, 0.12210569609165108, 0.03903490776242215, 0.3122792620993772, 0.03903490776242215, 0.39034907762422144, 0.11710472328726643, 0.03903490776242215, 0.03903490776242215, 0.3577337220226142, 0.13758989308562086, 0.16510787170274502, 0.08255393585137251, 0.05503595723424834, 0.11007191446849668, 0.11007191446849668, 0.12132861861345084, 0.4448716015826531, 0.12132861861345084, 0.08088574574230056, 0.12132861861345084, 0.08088574574230056, 0.10460632479176418, 0.20921264958352837, 0.2301339145418812, 0.020921264958352837, 0.06276379487505851, 0.2928977094169397, 0.06276379487505851, 0.1820911267253425, 0.18784137283245858, 0.09392068641622929, 0.06708620458302092, 0.0364182253450685, 0.0651694558806489, 0.1015876812257174, 0.040251722749812556, 0.009583743511860131, 0.055585712368788766, 0.04600196885692863, 0.0364182253450685, 0.053668963666416734, 0.011500492214232157, 0.013417240916604184, 0.1823506284630972, 0.07646961838775043, 0.11176328841286602, 0.07058734005023116, 0.05294050503767338, 0.13529240176294308, 0.07646961838775043, 0.05294050503767338, 0.058822783375192644, 0.02352911335007706, 0.05294050503767338, 0.058822783375192644, 0.01176455667503853, 0.03529367002511558, 0.18937984418537554, 0.19591018364004367, 0.04897754591001092, 0.013060678909336244, 0.14693263773003276, 0.05224271563734498, 0.0587730550920131, 0.016325848636670307, 0.10775060100202402, 0.0587730550920131, 0.05550788536467904, 0.04244720645534279, 0.013060678909336244, 0.028132917458087648, 0.08439875237426295, 0.19693042220661353, 0.39386084441322705, 0.056265834916175296, 0.14066458729043824, 0.08439875237426295, 0.028132917458087648, 0.28485197297120357, 0.06782189832647705, 0.20798715486786293, 0.06330043843804524, 0.040693138995886224, 0.018085839553727213, 0.013564379665295409, 0.09495065765706787, 0.03165021921902262, 0.036171679107454426, 0.04521459888431803, 0.040693138995886224, 0.03165021921902262, 0.027128759330590817, 0.10706740852415847, 0.2651192972979162, 0.17844568087359744, 0.2243317130982368, 0.06627982432447906, 0.025492240124799635, 0.010196896049919853, 0.03059068814975956, 0.01529534407487978, 0.040787584199679414, 0.03568913617471949, 0.1648864799955047, 0.1059984514256816, 0.08244323999775235, 0.1648864799955047, 0.04711042285585849, 0.05888802856982311, 0.04711042285585849, 0.07066563428378773, 0.05888802856982311, 0.04711042285585849, 0.023555211427929244, 0.11777605713964621, 0.10909743780510361, 0.29092650081360966, 0.14546325040680483, 0.07273162520340241, 0.21819487561020723, 0.07273162520340241, 0.07273162520340241, 0.10892036749065727, 0.08169027561799296, 0.027230091872664317, 0.10892036749065727, 0.1633805512359859, 0.2995310105993075, 0.1633805512359859, 0.027230091872664317, 0.3409316633956213, 0.2386521643769349, 0.03409316633956213, 0.10227949901868638, 0.10227949901868638, 0.17046583169781065, 0.38222526223598385, 0.1617106878690701, 0.08085534393453506, 0.036752429061152295, 0.1249582588079178, 0.036752429061152295, 0.06615437231007414, 0.036752429061152295, 0.0073504858122304595, 0.06615437231007414, 0.05958189264356538, 0.23832757057426152, 0.17874567793069615, 0.3277004095396096, 0.11916378528713076, 0.02979094632178269, 0.1466179068427097, 0.21992686026406452, 0.0776212447990816, 0.034498331021814044, 0.0043122913777267555, 0.034498331021814044, 0.034498331021814044, 0.25011289990815183, 0.051747496532721066, 0.008624582755453511, 0.0388106223995408, 0.034498331021814044, 0.06468437066590134, 0.0043122913777267555, 0.08479362197558506, 0.11222685261474494, 0.28181409656591505, 0.2319354954038062, 0.04239681098779253, 0.02493930058105443, 0.07481790174316329, 0.052372531220214305, 0.04987860116210886, 0.012469650290527216, 0.014963580348632658, 0.0174575104067381, 0.002493930058105443, 0.1145988611778216, 0.2673973427482504, 0.0763992407852144, 0.0381996203926072, 0.06366603398767866, 0.0381996203926072, 0.16553168836796453, 0.025466413595071465, 0.05093282719014293, 0.14006527477289307, 0.037818803302986814, 0.5105538445903219, 0.018909401651493407, 0.24582222146941426, 0.11345640990896043, 0.07563760660597363, 0.1387740740289848, 0.1561208332826079, 0.6418300923840548, 0.0346935185072462, 0.0173467592536231, 0.1319134241101173, 0.11954654059979382, 0.09481277357914682, 0.10717965708947032, 0.07420130106194099, 0.1813809581514113, 0.012366883510323499, 0.049467534041293997, 0.004122294503441166, 0.10305736258602916, 0.024733767020646998, 0.024733767020646998, 0.05358982854473516, 0.024733767020646998, 0.2560868717549904, 0.05298349070792905, 0.03532232713861937, 0.07064465427723873, 0.09713639963120325, 0.11479756320051293, 0.08830581784654841, 0.15895047212378713, 0.017661163569309683, 0.03532232713861937, 0.06181407249258389, 0.017661163569309683, 0.6100120199597193, 0.1626698719892585, 0.1626698719892585, 0.040667467997314626, 0.4283156184225431, 0.03294735526327255, 0.0658947105265451, 0.23063148684290782, 0.09884206578981763, 0.1317894210530902, 0.17674413820252027, 0.1325581036518902, 0.22093017275315033, 0.22093017275315033, 0.08837206910126014, 0.1325581036518902, 0.10612494218019407, 0.06910461351268452, 0.10859296409136138, 0.15548538040354015, 0.10118889835785946, 0.08391274497968833, 0.1283371393806998, 0.07404065733501912, 0.03455230675634226, 0.03948835057867686, 0.01234010955583652, 0.01727615337817113, 0.022212197200505737, 0.029616262934007646, 0.01234010955583652, 0.08916656928394333, 0.213999766281464, 0.03566662771357733, 0.053499941570366, 0.5884993572740259, 0.017833313856788664, 0.5840556200513988, 0.02246367769428457, 0.22463677694284567, 0.08985471077713827, 0.04492735538856914, 0.18648891263124262, 0.058277785197263315, 0.046622228157810655, 0.22728336226932694, 0.023311114078905328, 0.09907223483534765, 0.2505944763482323, 0.058277785197263315, 0.029138892598631658, 0.011655557039452664, 0.005827778519726332, 0.24006193133869796, 0.022863041079875995, 0.026673547926521997, 0.08383115062621199, 0.26292497241857393, 0.04953658900639799, 0.06096810954633599, 0.10288368485944198, 0.022863041079875995, 0.030484054773167995, 0.03429456161981399, 0.007621013693291999, 0.053347095853043994, 0.07733734091410877, 0.10311645455214503, 0.10311645455214503, 0.10311645455214503, 0.02577911363803626, 0.1804537954662538, 0.33512847729447137, 0.05155822727607252, 0.09322511303712223, 0.09322511303712223, 0.15537518839520373, 0.18645022607424447, 0.06215007535808149, 0.12430015071616297, 0.031075037679040744, 0.2175252637532852, 0.3700247554835423, 0.13875928330632836, 0.09250618887088558, 0.09250618887088558, 0.18501237774177115, 0.09250618887088558, 0.0713238706731243, 0.42794322403874585, 0.03566193533656215, 0.3922812887021837, 0.03566193533656215, 0.1613205638052248, 0.0879930348028499, 0.1613205638052248, 0.04399651740142495, 0.36663764501187457, 0.04399651740142495, 0.029331011600949967, 0.058662023201899935, 0.014665505800474984, 0.014665505800474984, 0.14176254449096543, 0.11695409920504649, 0.10277784475594995, 0.02480844528591895, 0.0389846997350155, 0.08151346308230513, 0.28352508898193085, 0.06733720863320858, 0.028352508898193088, 0.046072826959563766, 0.035440636122741356, 0.007088127224548272, 0.014176254449096544, 0.003544063612274136, 0.12285402526122031, 0.12285402526122031, 0.5405577111493693, 0.07371241515673219, 0.07371241515673219, 0.04914161010448813, 0.021818331165563455, 0.14181915257616245, 0.1636374837417259, 0.4036391265629239, 0.13090998699338072, 0.10909165582781727, 0.03272749674834518, 0.2416012319905105, 0.16912086239335736, 0.07248036959715315, 0.048320246398102104, 0.048320246398102104, 0.3382417247867147, 0.048320246398102104, 0.16916673277156224, 0.2114584159644528, 0.16916673277156224, 0.3383334655431245, 0.08458336638578112, 0.031065162116552858, 0.326184202223805, 0.12814379373078055, 0.07377976002681304, 0.19027411796388627, 0.04659774317482929, 0.023298871587414643, 0.0543640337039675, 0.04271459791026018, 0.031065162116552858, 0.011649435793707322, 0.04271459791026018, 0.04607009337517444, 0.23035046687587218, 0.1382102801255233, 0.23035046687587218, 0.1382102801255233, 0.09214018675034888, 0.09214018675034888, 0.3787214084845963, 0.5680821127268945, 0.339615434498226, 0.46311195613394457, 0.1852447824535778, 0.12642791863561223, 0.3792837559068367, 0.17699908608985712, 0.10114233490848978, 0.12642791863561223, 0.025285583727122446, 0.05057116745424489, 0.11293506558764649, 0.22587013117529298, 0.15058008745019533, 0.15058008745019533, 0.03764502186254883, 0.03764502186254883, 0.26351515303784184, 0.03388613262579883, 0.16943066312899416, 0.203316795754793, 0.1016583978773965, 0.03388613262579883, 0.23720292838059182, 0.06777226525159766, 0.1016583978773965, 0.023428513189392583, 0.07028553956817775, 0.21085661870453326, 0.1405710791363555, 0.07028553956817775, 0.281142158272711, 0.046857026378785166, 0.046857026378785166, 0.07028553956817775, 0.046857026378785166, 0.2590244958271294, 0.21812589122284579, 0.04089860460428359, 0.29992310043141296, 0.027265736402855723, 0.054531472805711446, 0.04089860460428359, 0.013632868201427862, 0.04089860460428359, 0.08098157694396585, 0.5466256443717695, 0.3441717020118549, 0.15499557601400912, 0.197675517235258, 0.10782300940104982, 0.06738938087565613, 0.056157817396380115, 0.03818731582953848, 0.056157817396380115, 0.0494188793088145, 0.13253244905545705, 0.008985250783420818, 0.047172566612959294, 0.031448377741972865, 0.033694690437828065, 0.015724188870986432, 0.12270232537644926, 0.1925482644368896, 0.08306003563944259, 0.1359164219554515, 0.16423234319617055, 0.016989552744431438, 0.030203649323433664, 0.045305473985150495, 0.08872321988758639, 0.04341774590243589, 0.013214096579002228, 0.022652736992575247, 0.02831592124071906, 0.005663184248143812, 0.009438640413573021, 0.07066299313937968, 0.021198897941813902, 0.29678457118539464, 0.3038508704993326, 0.05653039451150374, 0.014132598627875935, 0.08479559176725561, 0.021198897941813902, 0.049464095197565776, 0.049464095197565776, 0.014132598627875935, 0.014132598627875935, 0.19972518381302845, 0.114936190684856, 0.13189398931049048, 0.04522079633502531, 0.050873395876903475, 0.1337781891577832, 0.052757595724196193, 0.05652599541878164, 0.039568196793147145, 0.03203139740397626, 0.04522079633502531, 0.018841998472927213, 0.050873395876903475, 0.020726198320219935, 0.005652599541878163, 0.13080600794613045, 0.07848360476767827, 0.10464480635690436, 0.05232240317845218, 0.31393441907071307, 0.05232240317845218, 0.05232240317845218, 0.13080600794613045, 0.07848360476767827, 0.4791099460672807, 0.14741844494377868, 0.07370922247188934, 0.110563833707834, 0.18427305617972334, 0.16103072209197078, 0.1811595623534671, 0.040257680522992695, 0.3824479649684306, 0.20128840261496345, 0.040257680522992695, 0.16028878637176294, 0.4452466288104526, 0.053429595457254314, 0.08904932576209053, 0.053429595457254314, 0.08904932576209053, 0.035619730304836214, 0.053429595457254314, 0.38383151019657247, 0.14559126248835508, 0.09264898521986233, 0.3044180942938334, 0.02647113863424638, 0.03970670795136957, 0.0590382590915479, 0.08855738863732183, 0.08855738863732183, 0.1180765181830958, 0.0590382590915479, 0.0590382590915479, 0.1180765181830958, 0.2361530363661916, 0.02951912954577395, 0.08855738863732183, 0.0590382590915479, 0.12617711570179035, 0.3364723085381076, 0.1682361542690538, 0.1682361542690538, 0.04205903856726345, 0.0841180771345269, 0.13770958615926204, 0.09180639077284136, 0.32132236770494477, 0.32132236770494477, 0.04590319538642068, 0.04590319538642068, 0.04590319538642068, 0.13231705992814688, 0.1764227465708625, 0.3969511797844406, 0.08821137328543124, 0.04410568664271562, 0.04410568664271562, 0.04410568664271562, 0.04410568664271562, 0.1366596005981373, 0.3947944017279522, 0.02277660009968955, 0.05314540023260895, 0.22017380096366565, 0.0759220003322985, 0.015184400066459701, 0.030368800132919403, 0.030368800132919403, 0.015184400066459701, 0.2292828461043325, 0.12283009612732099, 0.051179206719717076, 0.07369805767639259, 0.08802823555791338, 0.1084999182458002, 0.040943365375773665, 0.06755655287002654, 0.03275469230061893, 0.042990533644562345, 0.042990533644562345, 0.03275469230061893, 0.042990533644562345, 0.016377346150309464, 0.008188673075154732, 0.6760700634628524, 0.07800808424571373, 0.026002694748571243, 0.20802155798856994, 0.04390127266876419, 0.21950636334382095, 0.21950636334382095, 0.08780254533752838, 0.17560509067505675, 0.21950636334382095, 0.045170035162767505, 0.09535896312139808, 0.3011335677517834, 0.08532117752967196, 0.010037785591726113, 0.07026449914208278, 0.025094463979315283, 0.16562346226348085, 0.03513224957104139, 0.05520782075449362, 0.06524560634621973, 0.020075571183452226, 0.025094463979315283, 0.28287479434033636, 0.48492821886914805, 0.12123205471728701, 0.040410684905762335, 0.3311152080760647, 0.11686419108566991, 0.17529628662850485, 0.07790946072377994, 0.058432095542834954, 0.03895473036188997, 0.19477365180944983, 0.04209236134437489, 0.03367388907549991, 0.04209236134437489, 0.6103392394934359, 0.025255416806624933, 0.06734777815099982, 0.0378831252099374, 0.004209236134437489, 0.10944013949537472, 0.025255416806624933, 0.12113912706044629, 0.36341738118133887, 0.12113912706044629, 0.12113912706044629, 0.28265796314104136, 0.29349163764875724, 0.14674581882437862, 0.14674581882437862, 0.19566109176583818, 0.19566109176583818, 0.23227398483778142, 0.32518357877289394, 0.18581918787022514, 0.18581918787022514, 0.05315820155956119, 0.15947460467868357, 0.40754621195663576, 0.05315820155956119, 0.08859700259926864, 0.14175520415882983, 0.01771940051985373, 0.01771940051985373, 0.05315820155956119, 0.8830279310897771, 0.09134771700928727, 0.01522461950154788, 0.7616599483468525, 0.010727604906293698, 0.07509323434405588, 0.06436562943776218, 0.08582083925034958, 0.045093525587954916, 0.3663848954021337, 0.011273381396988729, 0.0056366906984943645, 0.13528057676386473, 0.016910072095483092, 0.13528057676386473, 0.016910072095483092, 0.0056366906984943645, 0.09018705117590983, 0.045093525587954916, 0.12400719536687602, 0.1465678455355833, 0.1157114570017763, 0.015428194266903507, 0.1619960398024868, 0.04628458280071052, 0.06942687420106577, 0.06171277706761403, 0.1619960398024868, 0.015428194266903507, 0.08485506846796928, 0.053998679934162276, 0.030856388533807014, 0.015428194266903507, 0.02314229140035526, 0.20228845580465124, 0.0809153823218605, 0.4045769116093025, 0.0809153823218605, 0.04045769116093025, 0.04045769116093025, 0.0809153823218605, 0.15459372324707152, 0.04546874213149162, 0.13640622639447486, 0.15459372324707152, 0.13640622639447486, 0.027281245278894976, 0.0363749937051933, 0.027281245278894976, 0.13640622639447486, 0.01818749685259665, 0.10003123268928157, 0.027281245278894976, 0.1689882827883167, 0.03379765655766334, 0.06759531311532668, 0.5407625049226135, 0.10139296967299001, 0.03379765655766334, 0.03379765655766334, 0.03696713411800228, 0.08246514534015893, 0.4862599949367992, 0.03412350841661749, 0.0028436257013847908, 0.03412350841661749, 0.11943227945816122, 0.048341636923541445, 0.02843625701384791, 0.014218128506923954, 0.02843625701384791, 0.06824701683323497, 0.0056872514027695815, 0.0056872514027695815, 0.22555851523374948, 0.06766755457012484, 0.49622873351424884, 0.11277925761687474, 0.0451117030467499, 0.0451117030467499, 0.18128641831440756, 0.013945109101108273, 0.09761576370775792, 0.2510119638199489, 0.027890218202216547, 0.04183532730332482, 0.2789021820221655, 0.055780436404433094, 0.055780436404433094, 0.056112032505803454, 0.16833609751741035, 0.19639211377031207, 0.08416804875870518, 0.056112032505803454, 0.22444813002321382, 0.19639211377031207, 0.028056016252901727, 0.08433332297774801, 0.105416653722185, 0.21083330744437, 0.21083330744437, 0.042166661488874005, 0.126499984466622, 0.021083330744437002, 0.16866664595549602, 0.021083330744437002, 0.33720578324992384, 0.43836751822490094, 0.13488231329996953, 0.06744115664998476, 0.12454342332165635, 0.09340756749124227, 0.12454342332165635, 0.18681513498248453, 0.12454342332165635, 0.15567927915207044, 0.12454342332165635, 0.06227171166082818, 0.17218830123811607, 0.4400367698307411, 0.11479220082541072, 0.07652813388360714, 0.05739610041270536, 0.05739610041270536, 0.05739610041270536, 0.0258984449256971, 0.01294922246284855, 0.8416994600851556, 0.0517968898513942, 0.0517968898513942, 0.03772048260031947, 0.03772048260031947, 0.17972700533093394, 0.22410404368425096, 0.13313111505995107, 0.002218851917665851, 0.04215818643565117, 0.21966633984891926, 0.002218851917665851, 0.008875407670663403, 0.017750815341326807, 0.06656555752997553, 0.008875407670663403, 0.01996966725899266, 0.03042395674665873, 0.19775571885328175, 0.24339165397326984, 0.015211978373329365, 0.24339165397326984, 0.22817967559994048, 0.015211978373329365, 0.1312184426686328, 0.04373948088954427, 0.2624368853372656, 0.2624368853372656, 0.1312184426686328, 0.08747896177908854, 0.4387944677462951, 0.31593201677733246, 0.05265533612955541, 0.10531067225911082, 0.017551778709851803, 0.017551778709851803, 0.017551778709851803, 0.7001955256080421, 0.09548120803746028, 0.09548120803746028, 0.06365413869164019, 0.031827069345820094, 0.02964682699223965, 0.5039960588680741, 0.14823413496119825, 0.02964682699223965, 0.08894048097671894, 0.0592936539844793, 0.0592936539844793, 0.02964682699223965, 0.0592936539844793, 0.12750560380963244, 0.03643017251703784, 0.3400149434923531, 0.006071695419506306, 0.13357729922913875, 0.17000747174617656, 0.01821508625851892, 0.01821508625851892, 0.048573563356050446, 0.07893204045358197, 0.01821508625851892, 0.6068935527768228, 0.08091914037024303, 0.08091914037024303, 0.08091914037024303, 0.08091914037024303, 0.05100181707797693, 0.18360654148071695, 0.08160290732476308, 0.3264116292990523, 0.0051001817077976925, 0.05100181707797693, 0.03060109024678616, 0.05610199878577462, 0.04590163537017924, 0.03060109024678616, 0.08670308903256078, 0.03060109024678616, 0.010200363415595385, 0.01530054512339308, 0.08744239716762332, 0.08744239716762332, 0.20060314644337116, 0.11316074927574782, 0.13373543096224744, 0.010287340843249802, 0.21089048728662094, 0.030862022529749407, 0.04629303379462411, 0.04629303379462411, 0.025718352108124506, 0.005143670421624901, 0.005143670421624901, 0.025405754517383906, 0.20324603613907125, 0.20324603613907125, 0.15243452710430344, 0.25405754517383905, 0.025405754517383906, 0.025405754517383906, 0.05081150903476781, 0.025405754517383906, 0.3498310863478745, 0.13032922824724735, 0.11661036211595817, 0.07545376372209057, 0.12346979518160277, 0.061734897590801384, 0.04115659839386759, 0.061734897590801384, 0.006859433065644598, 0.027437732262578392, 0.28758685635863135, 0.6470704268069206, 0.01797417852241446, 0.01797417852241446, 0.22157328093291778, 0.05730343472403046, 0.12988778537446904, 0.17191030417209138, 0.14516870130087717, 0.015280915926408123, 0.1375282433376731, 0.030561831852816246, 0.03438206083441828, 0.022921373889612184, 0.011460686944806092, 0.019101144908010154, 0.06166110999384365, 0.8324249849168893, 0.030830554996921826, 0.06166110999384365, 0.1822524854002656, 0.036450497080053115, 0.036450497080053115, 0.2916039766404249, 0.036450497080053115, 0.10935149124015935, 0.1822524854002656, 0.036450497080053115, 0.036450497080053115, 0.13002388607585705, 0.14859872694383663, 0.05572452260393874, 0.03714968173595916, 0.16717356781181622, 0.22289809041575495, 0.11144904520787748, 0.01857484086797958, 0.11144904520787748, 0.08811834585918468, 0.17623669171836936, 0.2643550375775541, 0.22029586464796172, 0.17623669171836936, 0.20068722736694952, 0.2759449376295556, 0.17560132394608083, 0.12542951710434344, 0.07525771026260607, 0.12542951710434344, 0.8385427335225234, 0.036458379718370584, 0.10937513915511175, 0.1619267824360841, 0.20240847804510512, 0.06072254341353154, 0.040481695609021026, 0.14168593463157358, 0.12144508682706308, 0.1821676302405946, 0.06072254341353154, 0.020240847804510513, 0.5224884841866537, 0.06966513122488717, 0.2786605248995487, 0.06966513122488717, 0.034832565612443585, 0.9618319379671327, 0.3820389537137538, 0.5195729770507052, 0.045844674445650456, 0.0305631162971003, 0.01528155814855015, 0.13179304833873726, 0.013179304833873725, 0.1054344386709898, 0.13179304833873726, 0.039537914501621176, 0.06589652416936863, 0.07907582900324235, 0.0527172193354949, 0.02635860966774745, 0.0527172193354949, 0.22404818217585332, 0.0527172193354949, 0.013179304833873725, 0.013179304833873725, 0.20688707584285573, 0.20688707584285573, 0.041377415168571144, 0.08275483033714229, 0.12413224550571343, 0.289641906179998, 0.041377415168571144, 0.13662461362409883, 0.21859938179855815, 0.16394953634891862, 0.10929969089927907, 0.08197476817445931, 0.08197476817445931, 0.027324922724819768, 0.16394953634891862, 0.9662146231731993, 0.3249463159575239, 0.4693669008275345, 0.1444205848700106, 0.03610514621750265, 0.29051789413637497, 0.07262947353409374, 0.07262947353409374, 0.18157368383523434, 0.3268326309034218, 0.15653813574179115, 0.20694872182813065, 0.13265943706931452, 0.03449145363802178, 0.021225509931090323, 0.05306377482772581, 0.12469987084515566, 0.10082117217267904, 0.06632971853465726, 0.04510420860356694, 0.029185076155249196, 0.018572321189704033, 0.0026531887413862904, 0.005306377482772581, 0.061577850094033444, 0.061577850094033444, 0.24631140037613378, 0.061577850094033444, 0.030788925047016722, 0.2771003254231505, 0.030788925047016722, 0.061577850094033444, 0.12315570018806689, 0.030788925047016722, 0.12687663248735656, 0.44406821370574795, 0.34891073934023054, 0.03171915812183914, 0.040596691783282374, 0.42626526372446494, 0.10149172945820593, 0.006766115297213729, 0.06089503767492356, 0.12179007534984712, 0.08795949886377848, 0.08795949886377848, 0.05412892237770983, 0.006766115297213729, 0.1763227605075669, 0.2204034506344586, 0.13224207038067518, 0.30856483088824205, 0.13224207038067518, 0.10264744437612852, 0.1437064221265799, 0.08211795550090281, 0.020529488875225703, 0.16423591100180562, 0.020529488875225703, 0.20529488875225704, 0.041058977750451406, 0.12317693325135422, 0.06158846662567711, 0.10438499113102237, 0.5567199526987859, 0.06958999408734824, 0.10438499113102237, 0.10438499113102237, 0.15154360244426696, 0.18274375588867486, 0.06685747166658837, 0.031200153444407904, 0.12480061377763162, 0.11588628422208651, 0.09805762511099628, 0.06685747166658837, 0.031200153444407904, 0.008914329555545115, 0.031200153444407904, 0.04011448299995302, 0.013371494333317673, 0.026742988666635346, 0.004457164777772558, 0.3215342644382464, 0.13780039904496272, 0.22966733174160456, 0.09186693269664183, 0.22966733174160456, 0.1482455882943163, 0.2567179699730843, 0.07954641323109655, 0.03615746055958934, 0.04700469872746614, 0.08677790534301441, 0.057851936895342945, 0.025310222391712538, 0.021694476335753603, 0.057851936895342945, 0.057851936895342945, 0.06146768295130188, 0.057851936895342945, 0.010847238167876801, 0.15344412084273135, 0.1918051510534142, 0.527464165396889, 0.11508309063204852, 0.00959025755267071, 0.15555486042522113, 0.10370324028348075, 0.18148067049609132, 0.2074064805669615, 0.12962905035435093, 0.10370324028348075, 0.07777743021261056, 0.6443957032071145, 0.0379056296004185, 0.151622518401674, 0.11371688880125551, 0.09852372359300776, 0.19704744718601552, 0.09852372359300776, 0.131364964790677, 0.03284124119766925, 0.19704744718601552, 0.19704744718601552, 0.03284124119766925, 0.05528183403039093, 0.1474182240810425, 0.09213639005065155, 0.07370911204052125, 0.38697283821273654, 0.03685455602026062, 0.07370911204052125, 0.12899094607091216, 0.11696564936276978, 0.12779580208154476, 0.09963740501272982, 0.13645992425656475, 0.06714694685640488, 0.1039694661002398, 0.03682251924383493, 0.0541507635938749, 0.04981870250636491, 0.06498091631264988, 0.06498091631264988, 0.04548664141885491, 0.02166030543754996, 0.008664122175019983, 0.11920130510421778, 0.08669185825761294, 0.04334592912880647, 0.05960065255210889, 0.4388775324291655, 0.08127361711651213, 0.016254723423302427, 0.021672964564403235, 0.021672964564403235, 0.021672964564403235, 0.03792768798770566, 0.03792768798770566, 0.021672964564403235, 0.13986606012957253, 0.06993303006478627, 0.09907179259178055, 0.19231583267816224, 0.1165550501079771, 0.11072729760257825, 0.023311010021595423, 0.017483257516196567, 0.07576078257018512, 0.0524497725485897, 0.005827752505398856, 0.07576078257018512, 0.017483257516196567, 0.005827752505398856, 0.37929027462900083, 0.00451536041225001, 0.02257680206125005, 0.4154131579270009, 0.02257680206125005, 0.05869968535925013, 0.03612288329800008, 0.03612288329800008, 0.00451536041225001, 0.02257680206125005, 0.5356549287356996, 0.11903442860793324, 0.05951721430396662, 0.08927582145594994, 0.11903442860793324, 0.08927582145594994, 0.09771819933436555, 0.06514546622291037, 0.2605818648916415, 0.2931545980030967, 0.09771819933436555, 0.1954363986687311, 0.018889762328133573, 0.45335429587520576, 0.18889762328133575, 0.0755590493125343, 0.018889762328133573, 0.11333857396880144, 0.05666928698440072, 0.05666928698440072, 0.22103160441703099, 0.2394509047851169, 0.09209650184042958, 0.055257901104257746, 0.009209650184042958, 0.31312810625746057, 0.027628950552128873, 0.027628950552128873, 0.009209650184042958, 0.27436106564854773, 0.4572684427475796, 0.045726844274757955, 0.09145368854951591, 0.09145368854951591, 0.022346113687670238, 0.22346113687670238, 0.5809989558794262, 0.06703834106301071, 0.022346113687670238, 0.044692227375340475, 0.01801317289599541, 0.1621185560639587, 0.03602634579199082, 0.23417124764794034, 0.03602634579199082, 0.3242371121279174, 0.1621185560639587, 0.01801317289599541, 0.13929019960325809, 0.04893979986060419, 0.14305479959253534, 0.10917339968904012, 0.16564239952819879, 0.04893979986060419, 0.14681939958181256, 0.04517519987132695, 0.0752919997855449, 0.01505839995710898, 0.01505839995710898, 0.026352199924940718, 0.011293799967831737, 0.003764599989277245, 0.4829107035531282, 0.2897464221318769, 0.09658214071062564, 0.09658214071062564, 0.04829107035531282, 0.14909911928157227, 0.11182433946117919, 0.1863738991019653, 0.26092345874275147, 0.1863738991019653, 0.11182433946117919, 0.05261936551131299, 0.07266483808705128, 0.03758526107950928, 0.04510231329541114, 0.4159435559465694, 0.020045472575738285, 0.060136417727214855, 0.1353069398862334, 0.025056840719672856, 0.030068208863607428, 0.10022736287869143, 0.005011368143934571, 0.005011368143934571, 0.13841844218010377, 0.03460461054502594, 0.588278379265441, 0.06920922109005188, 0.06920922109005188, 0.03460461054502594, 0.03460461054502594, 0.03460461054502594, 0.03460461054502594, 0.4192431809374248, 0.022661793564185125, 0.018884827970154273, 0.10197807103883307, 0.2492797292060364, 0.011330896782092563, 0.0491005527224011, 0.0491005527224011, 0.022661793564185125, 0.007553931188061708, 0.015107862376123417, 0.018884827970154273, 0.003776965594030854, 0.007553931188061708, 0.7048754123976454, 0.28195016495905817, 0.029067926570636574, 0.2325434125650926, 0.08720377971190972, 0.26161133913572915, 0.3197471922770023, 0.08720377971190972, 0.2895501222224679, 0.2026850855557275, 0.17373007333348073, 0.08686503666674036, 0.2026850855557275, 0.02895501222224679, 0.42073500478724796, 0.03506125039893733, 0.2454287527925613, 0.03506125039893733, 0.07012250079787466, 0.17530625199468663, 0.04858302670869851, 0.18218635015761941, 0.10931181009457164, 0.14574908012609553, 0.03643727003152388, 0.03643727003152388, 0.04858302670869851, 0.03643727003152388, 0.15789483680327016, 0.07287454006304776, 0.04858302670869851, 0.03643727003152388, 0.04858302670869851, 0.09352596874072575, 0.2630417870832912, 0.09937134178702112, 0.10521671483331647, 0.058453730462953594, 0.04676298437036287, 0.05260835741665824, 0.09937134178702112, 0.09937134178702112, 0.029226865231476797, 0.029226865231476797, 0.011690746092590718, 0.2183931172977035, 0.12479606702725914, 0.2027936089192961, 0.09359705027044435, 0.09359705027044435, 0.07799754189203696, 0.031199016756814784, 0.046798525135222174, 0.015599508378407392, 0.031199016756814784, 0.06239803351362957, 0.23162534775932503, 0.11581267387966251, 0.23162534775932503, 0.30883379701243335, 0.15441689850621668, 0.14207230619042965, 0.14799198561503088, 0.15983134446423336, 0.07892905899468314, 0.043410982447075724, 0.15391166503963213, 0.06314324719574652, 0.03157162359787326, 0.04735743539680989, 0.021705491223537862, 0.021705491223537862, 0.03551807654760741, 0.01381258532406955, 0.0276251706481391, 0.01381258532406955, 0.3145546315251658, 0.22986684611454422, 0.14517906070392267, 0.108884295527942, 0.07258953035196133, 0.04839302023464089, 0.024196510117320446, 0.04839302023464089, 0.13234408882077428, 0.04411469627359143, 0.08822939254718286, 0.15440143695757, 0.06617204441038714, 0.08822939254718286, 0.022057348136795715, 0.13234408882077428, 0.1985161332311614, 0.06617204441038714, 0.07147007680856235, 0.035735038404281175, 0.25014526882996824, 0.07147007680856235, 0.1786751920214059, 0.25014526882996824, 0.10720511521284354, 0.26496351848690336, 0.3532846913158712, 0.13248175924345168, 0.0441605864144839, 0.13248175924345168, 0.356042198149355, 0.11868073271645167, 0.1780210990746775, 0.20769128225379044, 0.059340366358225836, 0.029670183179112918, 0.059340366358225836, 0.09063013321212504, 0.09063013321212504, 0.22657533303031258, 0.20391779972728133, 0.04531506660606252, 0.29454793293940634, 0.04531506660606252, 0.19324350233181636, 0.046010357698051514, 0.2760621461883091, 0.02760621461883091, 0.07361657231688243, 0.06441450077727212, 0.046010357698051514, 0.009202071539610304, 0.14723314463376486, 0.02760621461883091, 0.08281864385649274, 0.009202071539610304, 0.11742465577175834, 0.23484931154351668, 0.03914155192391945, 0.03914155192391945, 0.23484931154351668, 0.11742465577175834, 0.1565662076956778, 0.12129565976910625, 0.12129565976910625, 0.12129565976910625, 0.0485182639076425, 0.1455547917229275, 0.3638869793073188, 0.0485182639076425, 0.17833502036780746, 0.05944500678926915, 0.08916751018390373, 0.2377800271570766, 0.029722503394634576, 0.2675025305517112, 0.05944500678926915, 0.2744242800602854, 0.2744242800602854, 0.31362774864032616, 0.03920346858004077, 0.07840693716008154, 0.10204325538929845, 0.5442306954095917, 0.03401441846309948, 0.13605767385239792, 0.06802883692619896, 0.03401441846309948, 0.03401441846309948, 0.03401441846309948, 0.13207524129752155, 0.1761003217300287, 0.13207524129752155, 0.31918183313567705, 0.033018810324380386, 0.04402508043250718, 0.08805016086501435, 0.055031350540633975, 0.02201254021625359, 0.12300749033552572, 0.1491792967898929, 0.19105418711688038, 0.09945286452659527, 0.07589823871766481, 0.02093744516349374, 0.054960793554171064, 0.1334762129172726, 0.028788987099803893, 0.0444920709724242, 0.0222460354862121, 0.011777312904465228, 0.03925770968155076, 0.003925770968155076, 0.08767221548103579, 0.18265044891882457, 0.10959026935129473, 0.07306017956752983, 0.021918053870258948, 0.05114212569727088, 0.029224071827011932, 0.14612035913505966, 0.029224071827011932, 0.19726248483233053, 0.007306017956752983, 0.043836107740517896, 0.021918053870258948, 0.09307028083578736, 0.09307028083578736, 0.05584216850147242, 0.018614056167157472, 0.22336867400588967, 0.05584216850147242, 0.16752650550441725, 0.22336867400588967, 0.037228112334314944, 0.018614056167157472, 0.1367969140987007, 0.3590918995090894, 0.008549807131168794, 0.1453467212298695, 0.09404787844285674, 0.051298842787012765, 0.05984864991818156, 0.07694826418051914, 0.034199228524675176, 0.025649421393506382, 0.20471923941343634, 0.13832381041448402, 0.14938971524764275, 0.027664762082896803, 0.00553295241657936, 0.1272579055813253, 0.09959314349842849, 0.01106590483315872, 0.10512609591500785, 0.049796571749214244, 0.07192838141553169, 0.01106590483315872, 0.28548124849204254, 0.16313214199545287, 0.16313214199545287, 0.04078303549886322, 0.16313214199545287, 0.16313214199545287, 0.23499424274184097, 0.4308227783600418, 0.03916570712364016, 0.03916570712364016, 0.03916570712364016, 0.03916570712364016, 0.07833141424728032, 0.10219461996116494, 0.02270991554692554, 0.24980907101618097, 0.13625949328155326, 0.0794847044142394, 0.034064873320388316, 0.04541983109385108, 0.01135495777346277, 0.13625949328155326, 0.1589694088284788, 0.1478649353458379, 0.05914597413833515, 0.1478649353458379, 0.26615688362250817, 0.20701090948417303, 0.029572987069167576, 0.05914597413833515, 0.029572987069167576, 0.14863734725040387, 0.04954578241680129, 0.2105695752714055, 0.07431867362520193, 0.03715933681260097, 0.012386445604200323, 0.18579668406300484, 0.04954578241680129, 0.09909156483360258, 0.06193222802100161, 0.04954578241680129, 0.03715933681260097, 0.7736989843640056, 0.1237918374982409, 0.030947959374560224, 0.030947959374560224, 0.030947959374560224, 0.19232913734423215, 0.21980472839340817, 0.1373779552458801, 0.08242677314752807, 0.02747559104917602, 0.2747559104917602, 0.02747559104917602, 0.505485389719937, 0.12637134742998424, 0.08424756495332282, 0.04212378247666141, 0.21061891238330707, 0.031220407202094635, 0.4526959044303722, 0.12488162880837854, 0.020813604801396424, 0.0936612216062839, 0.05203401200349106, 0.0936612216062839, 0.04162720960279285, 0.005203401200349106, 0.04162720960279285, 0.005203401200349106, 0.031220407202094635, 0.010406802400698212, 0.38368565209758826, 0.05232077074058022, 0.12208179839468718, 0.02616038537029011, 0.13080192685145053, 0.008720128456763369, 0.034880513827053476, 0.06976102765410695, 0.04360064228381685, 0.1133616699379238, 0.017440256913526738, 0.37228214804180765, 0.2577337947981745, 0.05727417662181656, 0.28637088310908276, 0.044094242755442145, 0.17637697102176858, 0.2645654565326529, 0.11758464734784572, 0.05879232367392286, 0.014698080918480716, 0.014698080918480716, 0.044094242755442145, 0.23516929469569145, 0.014698080918480716, 0.16246246017659824, 0.16246246017659824, 0.04061561504414956, 0.16246246017659824, 0.3249249203531965, 0.04061561504414956, 0.04061561504414956, 0.29607928151842516, 0.12689112065075364, 0.08459408043383576, 0.2114852010845894, 0.04229704021691788, 0.04229704021691788, 0.2114852010845894, 0.4637474604102843, 0.02898421627564277, 0.14492108137821386, 0.14492108137821386, 0.05796843255128554, 0.11593686510257108, 0.05796843255128554, 0.2541472544866334, 0.1270736272433167, 0.5082945089732668, 0.08471575149554446, 0.40903175228888444, 0.14514029919928156, 0.10555658123584115, 0.10555658123584115, 0.13194572654480144, 0.013194572654480144, 0.013194572654480144, 0.026389145308960287, 0.052778290617920574, 0.013194572654480144, 0.11099420675988313, 0.04439768270395325, 0.13319304811185975, 0.177590730815813, 0.13319304811185975, 0.33298262027964937, 0.04439768270395325, 0.04439768270395325, 0.06337780849568056, 0.19013342548704168, 0.03168890424784028, 0.19013342548704168, 0.15844452123920139, 0.06337780849568056, 0.19013342548704168, 0.06337780849568056, 0.056354169626619585, 0.5410000284155481, 0.056354169626619585, 0.11270833925323917, 0.07889583747726742, 0.033812501775971754, 0.10143750532791525, 0.011270833925323917, 0.48414994770178343, 0.25360235355807703, 0.1152737970718532, 0.02305475941437064, 0.06916427824311192, 0.02305475941437064, 0.4552250618698525, 0.2875105653914858, 0.07187764134787145, 0.07187764134787145, 0.04791842756524763, 0.023959213782623816, 0.023959213782623816, 0.4367602517208189, 0.17470410068832756, 0.11646940045888504, 0.02911735011472126, 0.23293880091777008, 0.15668171375204867, 0.03917042843801217, 0.11751128531403651, 0.11751128531403651, 0.15668171375204867, 0.23502257062807302, 0.07834085687602434, 0.07834085687602434, 0.06741554064121785, 0.49438063136893096, 0.08988738752162381, 0.2696621625648714, 0.06741554064121785, 0.022471846880405953, 0.1555886493114956, 0.4278687856066129, 0.0777943246557478, 0.0777943246557478, 0.0777943246557478, 0.1555886493114956, 0.0388971623278739, 0.028555920423221682, 0.628230249310877, 0.1713355225393301, 0.028555920423221682, 0.11422368169288673, 0.21187902670258282, 0.09779032001657668, 0.21187902670258282, 0.008149193334714724, 0.07334274001243252, 0.05704435334300306, 0.09779032001657668, 0.02444758000414417, 0.04889516000828834, 0.05704435334300306, 0.016298386669429447, 0.06519354667771779, 0.040745966673573615, 0.20086314021110846, 0.09130142736868566, 0.10956171284242279, 0.03652057094747427, 0.23738371115858273, 0.1826028547373713, 0.018260285473737134, 0.07304114189494854, 0.03652057094747427, 0.15556972829827148, 0.1774467213402159, 0.07839255840030086, 0.09358491467942895, 0.08872336067010796, 0.07960794690263112, 0.04010782057689812, 0.04618476308854935, 0.0474001515908796, 0.05165401134903546, 0.03403087806524689, 0.039500126325733, 0.03038471255825615, 0.027346241302430536, 0.009723108018641968, 0.2079323173679834, 0.047257344856359865, 0.1039661586839917, 0.13232056559780764, 0.1417720345690796, 0.05670881382763184, 0.02835440691381592, 0.06616028279890382, 0.13232056559780764, 0.07561175177017579, 0.009451468971271974, 0.11697247309868057, 0.3509174192960417, 0.038990824366226855, 0.09747706091556714, 0.11697247309868057, 0.038990824366226855, 0.019495412183113427, 0.07798164873245371, 0.038990824366226855, 0.11697247309868057, 0.22010208930223726, 0.07336736310074575, 0.11005104465111863, 0.07336736310074575, 0.2567857708526101, 0.18341840775186438, 0.07336736310074575, 0.1214758800919624, 0.1214758800919624, 0.1214758800919624, 0.16196784012261653, 0.08098392006130826, 0.20245980015327067, 0.2429517601839248, 0.09820959535116609, 0.2864446531075678, 0.04092066472965254, 0.13913026008081864, 0.12276199418895761, 0.18005092481047116, 0.04092066472965254, 0.03273653178372203, 0.016368265891861015, 0.049104797675583046, 0.15487553594796907, 0.025812589324661513, 0.12906294662330756, 0.15487553594796907, 0.05162517864932303, 0.025812589324661513, 0.2065007145972921, 0.10325035729864605, 0.05162517864932303, 0.07743776797398454, 0.15199996127219395, 0.17733328815089294, 0.12666663439349496, 0.07599998063609698, 0.07599998063609698, 0.20266661502959193, 0.050666653757397984, 0.025333326878698992, 0.12666663439349496, 0.36733131267318564, 0.475369934047652, 0.12964634564935962, 0.507310169533041, 0.15609543677939725, 0.11707157758454793, 0.15609543677939725, 0.5066049119071752, 0.09210998398312276, 0.13816497597468413, 0.04605499199156138, 0.04605499199156138, 0.13816497597468413, 0.011567035804843112, 0.4453308784864598, 0.13880442965811735, 0.034701107414529336, 0.10988684014600957, 0.06361869692663712, 0.0925362864387449, 0.023134071609686224, 0.005783517902421556, 0.04626814321937245, 0.011567035804843112, 0.011567035804843112, 0.011567035804843112, 0.14423067243383592, 0.2403844540563932, 0.14423067243383592, 0.19230756324511455, 0.04807689081127864, 0.14423067243383592, 0.19144855327525964, 0.14890443032520195, 0.17017649180023078, 0.053180153687572125, 0.031908092212543274, 0.22335664548780293, 0.08508824590011539, 0.021272061475028848, 0.021272061475028848, 0.031908092212543274, 0.13148154751300342, 0.13148154751300342, 0.23666678552340614, 0.18407416651820477, 0.05259261900520137, 0.026296309502600684, 0.18407416651820477, 0.026296309502600684, 0.069410825883752, 0.6594028458956439, 0.104116238825628, 0.034705412941876, 0.08676353235468999, 0.017352706470938, 0.017352706470938, 0.7276276220061901, 0.07796010235780608, 0.10394680314374145, 0.07796010235780608, 0.031600833504682076, 0.32729434701277865, 0.006771607179574731, 0.06545886940255573, 0.0022572023931915768, 0.234749048891924, 0.16477577470298513, 0.07900208376170519, 0.018057619145532614, 0.006771607179574731, 0.018057619145532614, 0.031600833504682076, 0.006771607179574731, 0.0045144047863831535, 0.14732028351845927, 0.29464056703691854, 0.37499708531971454, 0.09374927132992864, 0.08035651828279597, 0.013392753047132661, 0.20632334498671873, 0.26822034848273435, 0.22695567948539058, 0.10316167249335936, 0.0825293379946875, 0.061897003496015617, 0.020632334498671873, 0.020632334498671873, 0.2450689309505819, 0.08168964365019397, 0.20422410912548494, 0.3267585746007759, 0.04084482182509699, 0.08168964365019397, 0.09037791654662893, 0.18075583309325785, 0.18075583309325785, 0.09037791654662893, 0.09037791654662893, 0.030125972182209644, 0.09037791654662893, 0.030125972182209644, 0.21088180527546752, 0.17851294949733001, 0.071405179798932, 0.071405179798932, 0.107107769698398, 0.142810359597864, 0.214215539396796, 0.142810359597864, 0.29088757578212315, 0.026444325071102105, 0.21155460056881684, 0.05288865014220421, 0.26444325071102104, 0.05288865014220421, 0.05288865014220421, 0.026444325071102105, 0.06969358300391862, 0.34846791501959307, 0.03484679150195931, 0.13938716600783724, 0.24392754051371515, 0.03484679150195931, 0.10454037450587793, 0.272511153969485, 0.15572065941113428, 0.11679049455835071, 0.15572065941113428, 0.03893016485278357, 0.23358098911670142, 0.21080077737351863, 0.14053385158234574, 0.3044900117617491, 0.0936892343882305, 0.04684461719411525, 0.04684461719411525, 0.07026692579117287, 0.07026692579117287, 0.5111052383889073, 0.33071515425164594, 0.12026005609150761, 0.018357172353637076, 0.03671434470727415, 0.1468573788290966, 0.06425010323772977, 0.33042910236546735, 0.027535758530455614, 0.30289334383501176, 0.027535758530455614, 0.027535758530455614, 0.018357172353637076, 0.08222671490335015, 0.0747515590030456, 0.08970187080365472, 0.4036584186164462, 0.02242546770091368, 0.09717702670395928, 0.052326091302131915, 0.01495031180060912, 0.02242546770091368, 0.00747515590030456, 0.01495031180060912, 0.1121273385045684, 0.018130601309373655, 0.6708322484468252, 0.18130601309373653, 0.03626120261874731, 0.018130601309373655, 0.07252240523749462, 0.022409772114037496, 0.09435693521699998, 0.16866302170038747, 0.29958326931397494, 0.07076770141274999, 0.021230310423824995, 0.11322832226039997, 0.07666500986381249, 0.04246062084764999, 0.016512463662974996, 0.03774277408679999, 0.012974078592337497, 0.023589233804249994, 0.2956199700218124, 0.1285304217486141, 0.025706084349722817, 0.10282433739889127, 0.03855912652458422, 0.1799425904480597, 0.012853042174861409, 0.025706084349722817, 0.012853042174861409, 0.14138346392347548, 0.012853042174861409, 0.012853042174861409, 0.08524782407468683, 0.2557434722240605, 0.056831882716457886, 0.17049564814937365, 0.056831882716457886, 0.056831882716457886, 0.028415941358228943, 0.1989115895076026, 0.04262391203734341, 0.04262391203734341, 0.24371586074741483, 0.14216758543599198, 0.06092896518685371, 0.30464482593426856, 0.10154827531142285, 0.04061931012456914, 0.02030965506228457, 0.10154827531142285, 0.06556320666724884, 0.10302789619139104, 0.06556320666724884, 0.4964071361948841, 0.16859110285863987, 0.0936617238103555, 0.2571501878728413, 0.14818824385892548, 0.07191488304918442, 0.12639585505614231, 0.050122494246401264, 0.10242422737308084, 0.039226299845009686, 0.07191488304918442, 0.019613149922504843, 0.06101868864779284, 0.017433911042226528, 0.017433911042226528, 0.0065377166408349474, 0.004358477760556632, 0.008716955521113264, 0.1747061240389828, 0.31447102327016907, 0.3494122480779656, 0.034941224807796566, 0.034941224807796566, 0.06988244961559313, 0.8205689574789866, 0.0600416310350478, 0.0400277540233652, 0.0400277540233652, 0.0400277540233652, 0.32671036169945444, 0.03920524340393453, 0.04573945063792362, 0.15682097361573813, 0.058807865105901795, 0.04573945063792362, 0.18295780255169447, 0.026136828935956355, 0.03920524340393453, 0.04573945063792362, 0.013068414467978177, 0.013068414467978177, 0.3865579307511708, 0.02089502328384707, 0.10447511641923535, 0.07835633731442651, 0.02089502328384707, 0.047013802388655906, 0.010447511641923535, 0.10447511641923535, 0.12537013970308242, 0.08358009313538828, 0.005223755820961767, 0.2558520497961145, 0.5969881161909337, 0.028428005532901608, 0.01895200368860107, 0.009476001844300535, 0.01895200368860107, 0.03790400737720214, 0.009476001844300535, 0.028428005532901608, 0.06741814691809073, 0.2097453459673934, 0.21723625118051457, 0.0898908625574543, 0.03745452606560596, 0.08239995734433311, 0.014981810426242383, 0.014981810426242383, 0.06741814691809073, 0.05992724170496953, 0.04494543127872715, 0.014981810426242383, 0.06741814691809073, 0.15053184743977835, 0.20070912991970444, 0.025088641239963055, 0.01672576082664204, 0.04181440206660509, 0.10871744537317324, 0.025088641239963055, 0.05017728247992611, 0.0919916845465312, 0.07526592371988917, 0.03345152165328408, 0.05017728247992611, 0.01672576082664204, 0.07526592371988917, 0.03345152165328408, 0.13915765464330562, 0.034789413660826406, 0.20873648196495842, 0.20873648196495842, 0.034789413660826406, 0.10436824098247921, 0.034789413660826406, 0.17394706830413204, 0.251694052036008, 0.18697272436960594, 0.12225139670320388, 0.2588853106656082, 0.09348636218480297, 0.028765034518400914, 0.007191258629600229, 0.03595629314800114, 0.06800042503477213, 0.6460040378303352, 0.13600085006954427, 0.13600085006954427, 0.26399560836697095, 0.03299945104587137, 0.6269895698715561, 0.03299945104587137, 0.1413883465241636, 0.04813220307205569, 0.16244618536818797, 0.22862796459226456, 0.0782148299920905, 0.05414872845606265, 0.11431398229613228, 0.027074364228031327, 0.03910741499604525, 0.024066101536027847, 0.006016525384006962, 0.021057838844024367, 0.018049576152020887, 0.03008262692003481, 0.006016525384006962, 0.10962178914639553, 0.4698076677702666, 0.06264102236936887, 0.14094230033108, 0.04698076677702666, 0.01566025559234222, 0.06264102236936887, 0.06264102236936887, 0.01566025559234222, 0.30598723945172424, 0.05099787324195404, 0.2209907840484675, 0.05099787324195404, 0.05099787324195404, 0.03399858216130269, 0.016999291080651346, 0.06799716432260539, 0.016999291080651346, 0.06799716432260539, 0.016999291080651346, 0.10199574648390808, 0.1562840826504018, 0.026047347108400305, 0.33861551240920396, 0.23442612397560272, 0.10418938843360122, 0.05209469421680061, 0.026047347108400305, 0.026047347108400305, 0.03509479037309614, 0.04679305383079485, 0.21056874223857686, 0.10528437111928843, 0.08188784420389099, 0.10528437111928843, 0.05849131728849357, 0.16377568840778198, 0.15207742495008328, 0.023396526915397425, 0.07584500019598335, 0.3286616675159279, 0.050563333463988905, 0.12640833365997226, 0.050563333463988905, 0.025281666731994452, 0.35394333424792235, 0.4306224622958175, 0.2740324760064293, 0.1565899862893882, 0.0782949931446941, 0.07236654396965503, 0.10131316155751703, 0.10854981595448254, 0.19538966871806857, 0.036183271984827514, 0.14473308793931006, 0.04341992638179301, 0.014473308793931005, 0.04341992638179301, 0.15196974233627555, 0.07960319836662053, 0.0629028525147083, 0.663974554321921, 0.15376252836928694, 0.013978411669935178, 0.08387047001961107, 0.020967617504902766, 0.23513150410633207, 0.27432008812405406, 0.43107442419494213, 0.03918858401772201, 0.4480076745262391, 0.142547896440167, 0.18327586685164327, 0.06109195561721442, 0.08145594082295256, 0.02036398520573814, 0.04072797041147628, 0.7936158779210689, 0.03174463511684276, 0.09523390535052827, 0.06348927023368552, 0.12745458591801315, 0.19755460817292037, 0.03186364647950329, 0.19755460817292037, 0.17206369098931773, 0.10833639803031117, 0.012745458591801314, 0.019118187887701973, 0.025490917183602628, 0.07647275155080789, 0.019118187887701973, 0.03764142358212721, 0.24466925328382685, 0.16938640611957242, 0.22584854149276323, 0.07528284716425442, 0.018820711791063604, 0.16938640611957242, 0.05646213537319081, 0.08951983108973996, 0.29839943696579985, 0.029839943696579985, 0.3879192680555398, 0.11935977478631994, 0.05967988739315997, 0.005988905495169805, 0.17966716485509415, 0.005988905495169805, 0.19164497584543377, 0.16768935386475456, 0.19164497584543377, 0.1257670153985659, 0.01197781099033961, 0.017966716485509418, 0.017966716485509418, 0.08384467693237728, 0.019774358044108983, 0.007909743217643593, 0.2214728100940206, 0.16610460757051546, 0.18587896561462441, 0.03361640867498527, 0.02175179384851988, 0.25113434716018407, 0.005932307413232694, 0.007909743217643593, 0.017796922239698084, 0.029661537066163472, 0.027684101261752574, 0.005932307413232694, 0.08703101667925875, 0.23208271114469, 0.116041355572345, 0.08703101667925875, 0.116041355572345, 0.0580206777861725, 0.23208271114469, 0.0580206777861725, 0.36867891208601455, 0.028359916314308814, 0.05671983262861763, 0.2457859413906764, 0.018906610876205876, 0.10398635981913232, 0.04726652719051469, 0.05671983262861763, 0.018906610876205876, 0.03781322175241175, 0.22283060927351128, 0.18569217439459273, 0.18569217439459273, 0.22283060927351128, 0.11141530463675564, 0.0742768697578371, 0.1195135856285611, 0.07967572375237407, 0.07967572375237407, 0.15935144750474814, 0.39837861876187036, 0.15935144750474814, 0.1269212752405263, 0.06346063762026315, 0.06346063762026315, 0.5394154197722367, 0.09519095643039471, 0.03173031881013157, 0.06346063762026315, 0.25475405547546776, 0.036393436496495395, 0.43672123795794476, 0.07278687299299079, 0.10918030948948619, 0.07278687299299079, 0.6596221621871607, 0.1570528957588478, 0.06282115830353911, 0.06282115830353911, 0.031410579151769556, 0.1036682031089788, 0.32695356365139466, 0.015948954324458278, 0.30303013216470726, 0.023923431486687415, 0.031897908648916555, 0.05582134013560397, 0.007974477162229139, 0.015948954324458278, 0.023923431486687415, 0.023923431486687415, 0.023923431486687415, 0.031897908648916555, 0.15405364009470462, 0.19606826921144227, 0.11203901097796701, 0.009336584248163917, 0.10737071885388505, 0.09803413460572113, 0.09336584248163918, 0.11670730310204896, 0.023341460620409794, 0.051351213364901546, 0.014004876372245876, 0.018673168496327833, 0.004668292124081958, 0.48796484449046806, 0.3105230828575706, 0.08872088081644873, 0.044360440408224365, 0.08165344378370026, 0.04082672189185013, 0.16330688756740053, 0.24496033135110082, 0.16330688756740053, 0.08165344378370026, 0.16330688756740053, 0.052929322752972796, 0.052929322752972796, 0.21171729101189118, 0.052929322752972796, 0.132323306882432, 0.0793939841294592, 0.026464661376486398, 0.23818195238837758, 0.0793939841294592, 0.026464661376486398, 0.061264745093822855, 0.12252949018764571, 0.15316186273455712, 0.061264745093822855, 0.36758847056293714, 0.09189711764073429, 0.12252949018764571, 0.07524254039038676, 0.1397361464392897, 0.5804424544401264, 0.032246803024451466, 0.1397361464392897, 0.021497868682967648, 0.983134936909565, 0.03620937907437476, 0.25346565352062334, 0.18104689537187382, 0.14483751629749905, 0.2896750325949981, 0.10862813722312428, 0.1204001150552135, 0.3371203221545978, 0.0240800230110427, 0.3852803681766832, 0.1204001150552135, 0.04385551191206132, 0.2631330714723679, 0.43855511912061323, 0.13156653573618396, 0.04385551191206132, 0.4603206712499841, 0.1534402237499947, 0.03068804474999894, 0.3068804474999894, 0.03068804474999894, 0.06035970828381173, 0.06035970828381173, 0.0804796110450823, 0.4627577635092232, 0.020119902761270576, 0.06035970828381173, 0.10059951380635287, 0.12071941656762346, 0.04023980552254115, 0.049602113193761246, 0.3472147923563287, 0.17360739617816434, 0.12400528298440311, 0.2232095093719256, 0.07440316979064186, 0.024801056596880623, 0.059763547545439624, 0.1992118251514654, 0.3585812852726378, 0.15936946012117234, 0.019921182515146543, 0.059763547545439624, 0.059763547545439624, 0.039842365030293085, 0.039842365030293085, 0.029780394669026655, 0.2918478677564612, 0.005956078933805332, 0.23824315735221324, 0.023824315735221327, 0.08338510507327464, 0.10720942080849596, 0.08934118400707997, 0.017868236801415995, 0.09529726294088531, 0.023824315735221327, 0.4664888495351113, 0.07774814158918522, 0.07774814158918522, 0.19437035397296307, 0.15549628317837044, 0.12242975419607582, 0.12242975419607582, 0.16323967226143443, 0.08161983613071722, 0.32647934452286886, 0.12242975419607582, 0.0993109237923654, 0.11134861152477332, 0.08727323605995747, 0.024075375464815855, 0.2166783791833427, 0.07824497026065153, 0.06620728252824361, 0.07523554832754954, 0.06620728252824361, 0.06620728252824361, 0.01805653159861189, 0.04514132899652973, 0.03912248513032576, 0.006018843866203964, 0.15301120795526899, 0.14605615304821132, 0.08346065888469217, 0.05564043925646145, 0.15301120795526899, 0.07302807652410566, 0.08693818633822102, 0.020865164721173043, 0.06259549416351913, 0.05216291180293261, 0.038252801988817246, 0.027820219628230725, 0.017387637267644203, 0.024342692174701884, 0.010432582360586522, 0.09926374439295678, 0.19852748878591356, 0.04963187219647839, 0.17371155268767435, 0.07444780829471759, 0.22334342488415274, 0.04963187219647839, 0.04963187219647839, 0.04963187219647839, 0.5316154850356755, 0.12508599647898244, 0.03127149911974561, 0.15635749559872808, 0.15635749559872808, 0.12795339782635842, 0.3412090608702891, 0.17060453043514456, 0.3412090608702891, 0.08602206363006189, 0.6989292669942528, 0.010752757953757736, 0.10752757953757736, 0.07526930567630415, 0.01680467515776433, 0.025207012736646495, 0.28567947768199364, 0.10923038852546815, 0.01680467515776433, 0.28567947768199364, 0.05041402547329299, 0.03360935031552866, 0.12603506368323247, 0.03360935031552866, 0.008402337578882165, 0.008402337578882165, 0.1289066472710109, 0.4335950862752184, 0.046875144462185776, 0.011718786115546444, 0.023437572231092888, 0.1289066472710109, 0.14062543338655734, 0.046875144462185776, 0.035156358346639334, 0.023437572231092888, 0.26269982898903144, 0.03752854699843306, 0.45034256398119676, 0.07505709399686612, 0.03752854699843306, 0.11258564099529919, 0.03752854699843306, 0.8788716517654726, 0.01793615615847903, 0.01793615615847903, 0.0538084684754371, 0.01793615615847903, 0.13017080369954723, 0.03254270092488681, 0.09762810277466041, 0.06508540184977361, 0.650854018497736, 0.24208466596742292, 0.24208466596742292, 0.06916704741926369, 0.22479290411260702, 0.06916704741926369, 0.13833409483852738, 0.1126329897965774, 0.2628103095253473, 0.03754432993219247, 0.37544329932192466, 0.07508865986438494, 0.07508865986438494, 0.03754432993219247, 0.17610188322070305, 0.12327131825449214, 0.06163565912724607, 0.07044075328828123, 0.14088150657656245, 0.09685603577138668, 0.15849169489863274, 0.05283056496621091, 0.026415282483105457, 0.08805094161035153, 0.7231182399750751, 0.18077955999376877, 0.03615591199875375, 0.22385250562849937, 0.1272886796711075, 0.09875845836551443, 0.0614497074274312, 0.06364433983555375, 0.010973162040612714, 0.050476545386818485, 0.1031477231817595, 0.12070478244673985, 0.07022823705992137, 0.02414095648934797, 0.017557059264980343, 0.017557059264980343, 0.008778529632490172, 0.06515980282157027, 0.4235387183402068, 0.1628995070539257, 0.09773970423235541, 0.06515980282157027, 0.032579901410785136, 0.06515980282157027, 0.09773970423235541, 0.21396583823860646, 0.1309343189221323, 0.07664447936905305, 0.18203063850150103, 0.06387039947421089, 0.025548159789684353, 0.025548159789684353, 0.02235463981597381, 0.05109631957936871, 0.041515759658237075, 0.07025743942163197, 0.04470927963194762, 0.031935199737105444, 0.015967599868552722, 0.003193519973710544, 0.5333979969603032, 0.24245363498195602, 0.09698145399278241, 0.09698145399278241, 0.3323210233865331, 0.09063300637814538, 0.03776375265756057, 0.06797475478360904, 0.12084400850419384, 0.08308025584663327, 0.022658251594536345, 0.13594950956721807, 0.022658251594536345, 0.06042200425209692, 0.03021100212604846, 0.41683235129388807, 0.021560294032442487, 0.05030735274236581, 0.13654852887213575, 0.12936176419465492, 0.1724823522595399, 0.014373529354961658, 0.007186764677480829, 0.028747058709923317, 0.028747058709923317, 0.1373965659709733, 0.12213028086308737, 0.12213028086308737, 0.09159771064731553, 0.015266285107885922, 0.12213028086308737, 0.2595268468340607, 0.030532570215771843, 0.030532570215771843, 0.0763314255394296, 0.09639668807692149, 0.4337850963461467, 0.19279337615384298, 0.048198344038460746, 0.048198344038460746, 0.14459503211538224, 0.0960557989549556, 0.1440836984324334, 0.13207672356306394, 0.0480278994774778, 0.03602092460810835, 0.1200697486936945, 0.0240139497387389, 0.06003487434684725, 0.10806277382432504, 0.0240139497387389, 0.13207672356306394, 0.0720418492162167, 0.12766650189807272, 0.0851110012653818, 0.25533300379614543, 0.21277750316345453, 0.1702220025307636, 0.12766650189807272, 0.15840277138027037, 0.44880785224409936, 0.1056018475868469, 0.05280092379342345, 0.2112036951736938, 0.24197212702152612, 0.09306620270058696, 0.05583972162035218, 0.03722648108023479, 0.05583972162035218, 0.2605853675616435, 0.03722648108023479, 0.03722648108023479, 0.14890592432093916, 0.018613240540117395, 0.03722648108023479, 0.12554150634939681, 0.23539032440511903, 0.06277075317469841, 0.06277075317469841, 0.047078064881023805, 0.08630978561521031, 0.031385376587349204, 0.156926882936746, 0.031385376587349204, 0.0549244090278611, 0.023539032440511903, 0.031385376587349204, 0.031385376587349204, 0.015692688293674602, 0.1715217387506622, 0.24356086902594032, 0.12692608667549002, 0.13721739100052976, 0.030873912975119197, 0.06517826072525164, 0.010291304325039732, 0.07203913027527813, 0.010291304325039732, 0.044595652075172174, 0.05831739117522515, 0.006860869550026488, 0.013721739100052976, 0.006860869550026488, 0.2019784237610543, 0.14427030268646734, 0.14427030268646734, 0.005770812107458694, 0.04039568475221086, 0.07502055739696302, 0.15004111479392604, 0.028854060537293467, 0.08656218161188041, 0.01731243632237608, 0.01731243632237608, 0.03462487264475216, 0.023083248429834776, 0.04039568475221086, 0.15336909103400456, 0.1278075758616705, 0.38342272758501145, 0.05112303034466819, 0.1278075758616705, 0.10224606068933638, 0.05112303034466819, 0.17958598098135586, 0.1064213220630257, 0.03325666314469553, 0.15298065046559944, 0.1130726546919648, 0.19288864623923407, 0.01995399788681732, 0.026605330515756424, 0.06651332628939106, 0.07981599154726927, 0.006651332628939106, 0.013302665257878212, 0.11262933043838223, 0.11262933043838223, 0.09855066413358446, 0.09855066413358446, 0.2111799945719667, 0.1407866630479778, 0.028157332609595558, 0.04223599891439334, 0.014078666304797779, 0.12670799674318, 0.20827402124722025, 0.2975343160674575, 0.08926029482023726, 0.32728774767420327, 0.0595068632134915, 0.2641553857259704, 0.3773648367513863, 0.1132094510254159, 0.1132094510254159, 0.1132094510254159, 0.06030115740130319, 0.8140656249175932, 0.0904517361019548, 0.15789703292252652, 0.4736910987675796, 0.03947425823063163, 0.09868564557657908, 0.08881708101892118, 0.05921138734594745, 0.019737129115315815, 0.03947425823063163, 0.009868564557657908, 0.04526031949351189, 0.018104127797404758, 0.04526031949351189, 0.08599460703767259, 0.5159676422260355, 0.03168222364545832, 0.022630159746755946, 0.14030699042988687, 0.0045260319493511895, 0.018104127797404758, 0.036208255594809516, 0.03168222364545832, 0.34139103722068587, 0.07990002998782009, 0.05084547362861278, 0.10169094725722556, 0.029054556359207305, 0.029054556359207305, 0.02179091726940548, 0.08716366907762192, 0.11621822543682922, 0.02179091726940548, 0.014527278179603653, 0.10169094725722556, 0.014527278179603653], \"Term\": [\"000\", \"000\", \"000\", \"000\", \"000\", \"000\", \"000\", \"000\", \"20\", \"20\", \"20\", \"20\", \"20\", \"20\", \"20\", \"20\", \"abandonne\", \"abandonne\", \"abandonne\", \"abandonne\", \"abandonne\", \"abandonne\", \"acier\", \"acier\", \"acier\", \"acier\", \"acier\", \"acier\", \"adaptation\", \"aegon\", \"aegon\", \"aegon\", \"aegon\", \"aegon\", \"aemon\", \"aemon\", \"aemon\", \"aider\", \"aider\", \"aider\", \"aider\", \"aider\", \"aider\", \"aider\", \"aider\", \"aider\", \"aider\", \"aider\", \"aimais\", \"aimais\", \"aimais\", \"aimais\", \"aimais\", \"aimais\", \"aimait\", \"aimait\", \"aimait\", \"aimait\", \"aimait\", \"aimait\", \"aimait\", \"aimait\", \"aimait\", \"aimait\", \"aimait\", \"aime\", \"aime\", \"aime\", \"aime\", \"aime\", \"aime\", \"aime\", \"aime\", \"aime\", \"aime\", \"aime\", \"aime\", \"aimez\", \"aimez\", \"aimez\", \"aimez\", \"aimez\", \"aimez\", \"allez\", \"allez\", \"allez\", \"allez\", \"allez\", \"allez\", \"allez\", \"allez\", \"allez\", \"allez\", \"allez\", \"allez\", \"allez\", \"allez\", \"alliance\", \"alliance\", \"alliance\", \"alliance\", \"alliance\", \"alliance\", \"allies\", \"allies\", \"allies\", \"allies\", \"allies\", \"ami\", \"ami\", \"ami\", \"ami\", \"ami\", \"ami\", \"ami\", \"ami\", \"ami\", \"andals\", \"andals\", \"andals\", \"ans\", \"ans\", \"ans\", \"ans\", \"ans\", \"ans\", \"ans\", \"ans\", \"ans\", \"ans\", \"ans\", \"ans\", \"ans\", \"appartements\", \"appartements\", \"appartements\", \"appartements\", \"appartements\", \"appartements\", \"appartient\", \"appartient\", \"appartient\", \"appartient\", \"appartient\", \"appartient\", \"appeler\", \"appeler\", \"appeler\", \"appeler\", \"appeler\", \"appeler\", \"appelle\", \"appelle\", \"appelle\", \"appelle\", \"appelle\", \"appelle\", \"appelle\", \"appelle\", \"appelle\", \"appelle\", \"appelle\", \"appelle\", \"argent\", \"argent\", \"argent\", \"argent\", \"argent\", \"argent\", \"argent\", \"argent\", \"argent\", \"argent\", \"arme\", \"arme\", \"arme\", \"arme\", \"arme\", \"arme\", \"armee\", \"armee\", \"armee\", \"armee\", \"armee\", \"armee\", \"armee\", \"armee\", \"armee\", \"armee\", \"armee\", \"armee\", \"armee\", \"armee\", \"armes\", \"armes\", \"armes\", \"armes\", \"armes\", \"armes\", \"armes\", \"armes\", \"armure\", \"armure\", \"armure\", \"armure\", \"armure\", \"armure\", \"armure\", \"arretez\", \"arretez\", \"arretez\", \"arretez\", \"arrivee\", \"arrivee\", \"arrivee\", \"arrivee\", \"arrivee\", \"arrivee\", \"arrivee\", \"arrivera\", \"arrivera\", \"arrivera\", \"arrivera\", \"arrivera\", \"arrivera\", \"arrivera\", \"arryn\", \"arryn\", \"arryn\", \"arryn\", \"arya\", \"arya\", \"arya\", \"arya\", \"arya\", \"arya\", \"arya\", \"arya\", \"arya\", \"arya\", \"assassine\", \"assassine\", \"assassine\", \"assassine\", \"assassine\", \"assassine\", \"assassine\", \"assassine\", \"attendez\", \"attendez\", \"attendez\", \"attendez\", \"attendez\", \"attendez\", \"attendez\", \"attendez\", \"attendre\", \"attendre\", \"attendre\", \"attendre\", \"attendre\", \"attendre\", \"attendre\", \"attendre\", \"attendre\", \"aube\", \"aube\", \"aube\", \"aube\", \"aube\", \"aube\", \"aurais\", \"aurais\", \"aurais\", \"aurais\", \"aurais\", \"aurais\", \"aurais\", \"aurais\", \"aurais\", \"aurais\", \"aurais\", \"aurais\", \"auras\", \"auras\", \"auras\", \"auras\", \"auras\", \"avenir\", \"avenir\", \"avenir\", \"avenir\", \"avenir\", \"avez\", \"avez\", \"avez\", \"avez\", \"avez\", \"avez\", \"avez\", \"avez\", \"avez\", \"avez\", \"avez\", \"avez\", \"avez\", \"avez\", \"avez\", \"ayez\", \"ayez\", \"ayez\", \"ayez\", \"ayez\", \"ayez\", \"ayez\", \"ayez\", \"ayez\", \"baelish\", \"baelish\", \"baelish\", \"baelish\", \"baratheon\", \"baratheon\", \"baratheon\", \"baratheon\", \"baratheon\", \"baratheon\", \"baratheon\", \"baratheon\", \"baratheon\", \"batard\", \"batard\", \"batard\", \"batard\", \"batard\", \"batard\", \"batard\", \"batard\", \"batards\", \"batards\", \"batards\", \"batards\", \"batards\", \"batards\", \"batards\", \"bats\", \"bats\", \"bats\", \"bats\", \"bats\", \"bats\", \"bats\", \"bats\", \"beaute\", \"beaute\", \"beaute\", \"beaute\", \"beaute\", \"beaute\", \"besoin\", \"besoin\", \"besoin\", \"besoin\", \"besoin\", \"besoin\", \"besoin\", \"besoin\", \"besoin\", \"besoin\", \"besoin\", \"besoin\", \"besoin\", \"besoin\", \"bete\", \"bete\", \"bete\", \"bete\", \"bete\", \"bete\", \"bete\", \"bienvenue\", \"bienvenue\", \"bienvenue\", \"bienvenue\", \"bienvenue\", \"bienvenue\", \"bienvenue\", \"bienvenue\", \"blancs\", \"blancs\", \"blancs\", \"blancs\", \"blancs\", \"blancs\", \"blandine\", \"bois\", \"bois\", \"bois\", \"bois\", \"bois\", \"bois\", \"bois\", \"bois\", \"bois\", \"bois\", \"bois\", \"bolton\", \"bolton\", \"bolton\", \"bolton\", \"bolton\", \"bon\", \"bon\", \"bon\", \"bon\", \"bon\", \"bon\", \"bon\", \"bon\", \"bon\", \"bon\", \"bon\", \"bon\", \"bon\", \"bonjour\", \"bonjour\", \"bonjour\", \"bonjour\", \"bonjour\", \"bonjour\", \"bonjour\", \"bonjour\", \"bonne\", \"bonne\", \"bonne\", \"bonne\", \"bonne\", \"bonne\", \"bonne\", \"bonne\", \"bonne\", \"bonne\", \"bonne\", \"braavos\", \"braavos\", \"braavos\", \"braavos\", \"braavos\", \"braavos\", \"bran\", \"bran\", \"bran\", \"bran\", \"bran\", \"bran\", \"bran\", \"bran\", \"bran\", \"brienne\", \"brienne\", \"brienne\", \"brienne\", \"brienne\", \"brienne\", \"brise\", \"brise\", \"brise\", \"brise\", \"brise\", \"brothers\", \"bruler\", \"bruler\", \"bruler\", \"bruler\", \"bruler\", \"bruler\", \"bruler\", \"ca\", \"ca\", \"ca\", \"ca\", \"ca\", \"ca\", \"ca\", \"ca\", \"ca\", \"ca\", \"ca\", \"ca\", \"ca\", \"ca\", \"ca\", \"capable\", \"capable\", \"capable\", \"capable\", \"capable\", \"capable\", \"capable\", \"capable\", \"capable\", \"capitaine\", \"capitaine\", \"capitaine\", \"capitaine\", \"capitaine\", \"capitale\", \"capitale\", \"capitale\", \"capitale\", \"capitale\", \"capitale\", \"capitale\", \"cas\", \"cas\", \"cas\", \"cas\", \"cas\", \"cas\", \"cas\", \"cas\", \"castral\", \"castral\", \"castral\", \"castral\", \"castral\", \"castral\", \"castral\", \"catelyn\", \"catelyn\", \"catelyn\", \"catelyn\", \"cause\", \"cause\", \"cause\", \"cause\", \"cause\", \"cause\", \"cause\", \"cause\", \"cause\", \"cause\", \"cersei\", \"cersei\", \"cersei\", \"cersei\", \"cersei\", \"cersei\", \"cersei\", \"cersei\", \"cersei\", \"cersei\", \"cersei\", \"chambre\", \"chambre\", \"chambre\", \"chambre\", \"chambre\", \"chambre\", \"change\", \"change\", \"change\", \"change\", \"change\", \"change\", \"chateau\", \"chateau\", \"chateau\", \"chateau\", \"chateau\", \"chateau\", \"chateau\", \"chateau\", \"chateau\", \"chateau\", \"chateau\", \"chateau\", \"chateaunoir\", \"chateaunoir\", \"chateaunoir\", \"chateaunoir\", \"chateaunoir\", \"chaud\", \"chaud\", \"chaud\", \"chef\", \"chef\", \"chef\", \"chef\", \"chef\", \"chercher\", \"chercher\", \"chercher\", \"chercher\", \"chercher\", \"chercher\", \"chercher\", \"chercher\", \"chercher\", \"cheval\", \"cheval\", \"cheval\", \"cheval\", \"cheval\", \"cheval\", \"cheval\", \"cheval\", \"cheval\", \"chevaliers\", \"chevaliers\", \"chevaliers\", \"chevaliers\", \"chevaliers\", \"chevaliers\", \"chevaliers\", \"chevaliers\", \"chevaliers\", \"chevaux\", \"chevaux\", \"chevaux\", \"chevaux\", \"chevaux\", \"chevaux\", \"chevaux\", \"chevaux\", \"chevaux\", \"cheveux\", \"cheveux\", \"cheveux\", \"cheveux\", \"cheveux\", \"cheveux\", \"cheveux\", \"chiens\", \"chiens\", \"chiens\", \"chiens\", \"chiens\", \"chiens\", \"choix\", \"choix\", \"choix\", \"choix\", \"choix\", \"choix\", \"choix\", \"choix\", \"choix\", \"choix\", \"chose\", \"chose\", \"chose\", \"chose\", \"chose\", \"chose\", \"chose\", \"chose\", \"chose\", \"chose\", \"chose\", \"chose\", \"chose\", \"chose\", \"choses\", \"choses\", \"choses\", \"choses\", \"choses\", \"choses\", \"choses\", \"choses\", \"choses\", \"ciel\", \"ciel\", \"ciel\", \"ciel\", \"ciel\", \"cite\", \"cite\", \"cite\", \"cite\", \"clotilde\", \"combat\", \"combat\", \"combat\", \"combat\", \"combat\", \"combat\", \"combat\", \"combat\", \"combat\", \"combattu\", \"combattu\", \"combattu\", \"combattu\", \"combattu\", \"combattu\", \"combattu\", \"commandant\", \"commandant\", \"commandant\", \"commandant\", \"commandant\", \"commandant\", \"commandant\", \"commandant\", \"commandant\", \"commun\", \"commun\", \"commun\", \"commun\", \"compte\", \"compte\", \"compte\", \"compte\", \"compte\", \"compte\", \"compte\", \"compte\", \"compte\", \"compte\", \"compte\", \"compte\", \"compte\", \"con\", \"con\", \"con\", \"con\", \"con\", \"con\", \"con\", \"condamne\", \"condamne\", \"condamne\", \"condamne\", \"connais\", \"connais\", \"connais\", \"connais\", \"connais\", \"connais\", \"connais\", \"connais\", \"connais\", \"connais\", \"corbac\", \"corbac\", \"corbac\", \"corbac\", \"corbac\", \"corbeaux\", \"corbeaux\", \"corbeaux\", \"corbeaux\", \"cotes\", \"cotes\", \"cotes\", \"cotes\", \"cotes\", \"cotes\", \"cotes\", \"cotes\", \"cotes\", \"cotes\", \"coupe\", \"coupe\", \"coupe\", \"coupe\", \"coupe\", \"coupe\", \"couronne\", \"couronne\", \"couronne\", \"couronne\", \"couronne\", \"couronne\", \"couronne\", \"couronne\", \"couronnes\", \"couronnes\", \"couronnes\", \"couronnes\", \"couronnes\", \"couronnes\", \"couronnes\", \"couronnes\", \"couronnes\", \"crime\", \"crime\", \"crime\", \"crime\", \"crimes\", \"crimes\", \"crimes\", \"crimes\", \"crimes\", \"crimes\", \"croire\", \"croire\", \"croire\", \"croire\", \"croire\", \"croire\", \"croire\", \"croire\", \"crois\", \"crois\", \"crois\", \"crois\", \"crois\", \"crois\", \"crois\", \"crois\", \"crois\", \"crois\", \"crois\", \"crois\", \"crois\", \"croit\", \"croit\", \"croit\", \"croit\", \"croit\", \"croit\", \"croit\", \"croyez\", \"croyez\", \"croyez\", \"croyez\", \"croyez\", \"croyez\", \"croyez\", \"croyez\", \"croyez\", \"croyez\", \"cru\", \"cru\", \"cru\", \"cru\", \"cru\", \"cru\", \"cru\", \"cru\", \"cul\", \"cul\", \"cul\", \"cul\", \"cul\", \"daenerys\", \"daenerys\", \"daenerys\", \"daenerys\", \"daenerys\", \"daenerys\", \"daenerys\", \"daenerys\", \"danger\", \"danger\", \"danger\", \"danger\", \"danger\", \"danger\", \"danger\", \"danger\", \"danger\", \"dangereux\", \"dangereux\", \"dangereux\", \"dangereux\", \"dangereux\", \"davantage\", \"davantage\", \"davantage\", \"davantage\", \"davantage\", \"davantage\", \"davos\", \"davos\", \"davos\", \"davos\", \"decision\", \"decision\", \"decision\", \"decision\", \"decision\", \"decision\", \"decision\", \"dela\", \"dela\", \"dela\", \"dela\", \"dela\", \"demande\", \"demande\", \"demande\", \"demande\", \"demande\", \"demande\", \"demande\", \"demande\", \"demande\", \"demande\", \"demande\", \"derniers\", \"derniers\", \"derniers\", \"derniers\", \"derniers\", \"derniers\", \"derniers\", \"derniers\", \"deteste\", \"deteste\", \"deteste\", \"deteste\", \"detruire\", \"detruire\", \"detruire\", \"detruire\", \"detruire\", \"detruire\", \"devait\", \"devait\", \"devait\", \"devait\", \"devait\", \"devenir\", \"devenir\", \"devenir\", \"devenir\", \"devenir\", \"devenir\", \"devenir\", \"devriez\", \"devriez\", \"devriez\", \"devriez\", \"devriez\", \"devriez\", \"devriez\", \"devriez\", \"devriez\", \"devriez\", \"devrions\", \"devrions\", \"devrions\", \"devrions\", \"devrions\", \"devrions\", \"dieu\", \"dieu\", \"dieu\", \"dieu\", \"dieu\", \"dieu\", \"dieu\", \"dieu\", \"dieu\", \"dieux\", \"dieux\", \"dieux\", \"dieux\", \"dieux\", \"dieux\", \"dieux\", \"dieux\", \"dieux\", \"dieux\", \"dieux\", \"dieux\", \"difficile\", \"difficile\", \"difficile\", \"difficile\", \"difficile\", \"difficile\", \"difficile\", \"difficile\", \"difficile\", \"digne\", \"digne\", \"digne\", \"digne\", \"digne\", \"digne\", \"dirai\", \"dirai\", \"dirai\", \"dirai\", \"dirai\", \"dis\", \"dis\", \"dis\", \"dis\", \"dis\", \"dis\", \"dis\", \"dis\", \"dis\", \"dis\", \"dis\", \"dis\", \"dis\", \"disent\", \"disent\", \"disent\", \"disent\", \"disent\", \"disent\", \"dites\", \"dites\", \"dites\", \"dites\", \"dites\", \"dites\", \"dites\", \"dites\", \"dites\", \"dites\", \"dites\", \"dites\", \"dois\", \"dois\", \"dois\", \"dois\", \"dois\", \"dois\", \"dois\", \"dois\", \"dois\", \"dois\", \"dois\", \"dois\", \"dois\", \"dois\", \"dommage\", \"dommage\", \"dommage\", \"dommage\", \"dommage\", \"dommage\", \"donjon\", \"donjon\", \"donjon\", \"donjon\", \"donjon\", \"donjon\", \"donne\", \"donne\", \"donne\", \"donne\", \"donne\", \"donne\", \"donne\", \"donne\", \"donne\", \"donne\", \"donne\", \"donne\", \"donne\", \"donnez\", \"donnez\", \"donnez\", \"donnez\", \"donnez\", \"donnez\", \"donnez\", \"dorne\", \"dorne\", \"dorne\", \"dorne\", \"dorne\", \"dothraki\", \"dothraki\", \"dothraki\", \"dothrakis\", \"dothrakis\", \"dothrakis\", \"dothrakis\", \"dothrakis\", \"doute\", \"doute\", \"doute\", \"doute\", \"doute\", \"doute\", \"doute\", \"doute\", \"doute\", \"doute\", \"dragon\", \"dragon\", \"dragon\", \"dragon\", \"dragon\", \"dragon\", \"dragon\", \"dragon\", \"dragon\", \"dragon\", \"dragon\", \"dragons\", \"dragons\", \"dragons\", \"dragons\", \"dragons\", \"dragons\", \"dragons\", \"dragons\", \"dragons\", \"drogo\", \"drole\", \"drole\", \"drole\", \"drole\", \"drole\", \"drole\", \"drole\", \"drole\", \"dubbing\", \"dure\", \"dure\", \"dure\", \"dure\", \"dure\", \"dure\", \"dure\", \"eau\", \"eau\", \"eau\", \"eau\", \"eau\", \"eau\", \"eau\", \"eau\", \"eau\", \"ecuyer\", \"ecuyer\", \"ecuyer\", \"ecuyer\", \"ecuyer\", \"ecuyer\", \"ecuyer\", \"ecuyer\", \"eddard\", \"eddard\", \"eddard\", \"emmene\", \"emmene\", \"emmene\", \"emmene\", \"emmene\", \"emmene\", \"emmene\", \"emmenez\", \"emmenez\", \"emmenez\", \"emmenez\", \"emmenez\", \"emmenez\", \"emmenez\", \"emmenez\", \"emporte\", \"emporte\", \"emporte\", \"emporte\", \"emporte\", \"enfant\", \"enfant\", \"enfant\", \"enfant\", \"enfant\", \"enfant\", \"enfant\", \"enfant\", \"enfant\", \"enfant\", \"enfant\", \"enfants\", \"enfants\", \"enfants\", \"enfants\", \"enfants\", \"enfants\", \"enfants\", \"enfants\", \"enfants\", \"enfants\", \"enfants\", \"enfants\", \"enfants\", \"enfants\", \"enfants\", \"ennemis\", \"ennemis\", \"ennemis\", \"ennemis\", \"ennemis\", \"ennemis\", \"ennemis\", \"ennemis\", \"ennemis\", \"ennemis\", \"ennemis\", \"ennemis\", \"envie\", \"envie\", \"envie\", \"envie\", \"envie\", \"envie\", \"envie\", \"envie\", \"envie\", \"epee\", \"epee\", \"epee\", \"epee\", \"epee\", \"epee\", \"epee\", \"epee\", \"epee\", \"epee\", \"epee\", \"epees\", \"epees\", \"epees\", \"epees\", \"epouse\", \"epouse\", \"epouse\", \"epouse\", \"epouse\", \"epouse\", \"epouse\", \"epouse\", \"epouse\", \"epouse\", \"epouse\", \"epouser\", \"epouser\", \"epouser\", \"epouser\", \"epouser\", \"epouser\", \"epoux\", \"epoux\", \"epoux\", \"epoux\", \"epoux\", \"epoux\", \"epoux\", \"epoux\", \"erreur\", \"erreur\", \"erreur\", \"erreur\", \"erreur\", \"erreur\", \"erreur\", \"erreur\", \"esclaves\", \"esclaves\", \"esclaves\", \"esclaves\", \"esclaves\", \"espere\", \"espere\", \"espere\", \"espere\", \"espere\", \"espere\", \"espere\", \"espere\", \"espere\", \"espere\", \"esprit\", \"esprit\", \"esprit\", \"esprit\", \"esprit\", \"esprit\", \"essaye\", \"essaye\", \"essaye\", \"essaye\", \"essaye\", \"essaye\", \"ete\", \"ete\", \"ete\", \"ete\", \"ete\", \"ete\", \"ete\", \"ete\", \"ete\", \"ete\", \"ete\", \"ete\", \"ete\", \"ete\", \"ete\", \"etes\", \"etes\", \"etes\", \"etes\", \"etes\", \"etes\", \"etes\", \"etes\", \"etes\", \"etes\", \"etes\", \"etes\", \"etes\", \"etes\", \"etes\", \"etrange\", \"etrange\", \"etrange\", \"etrange\", \"etranger\", \"etranger\", \"etranger\", \"etranger\", \"etranger\", \"evidemment\", \"evidemment\", \"evidemment\", \"evidemment\", \"evidemment\", \"evidemment\", \"evidemment\", \"evidemment\", \"eviter\", \"eviter\", \"eviter\", \"eviter\", \"excuses\", \"excuses\", \"excuses\", \"excuses\", \"excuses\", \"executer\", \"executer\", \"executer\", \"executer\", \"executer\", \"executer\", \"executer\", \"executer\", \"existe\", \"existe\", \"existe\", \"existe\", \"existe\", \"existe\", \"experience\", \"experience\", \"experience\", \"experience\", \"experience\", \"experience\", \"experience\", \"facile\", \"facile\", \"facile\", \"facile\", \"facile\", \"facile\", \"facile\", \"faible\", \"faible\", \"faible\", \"faible\", \"faible\", \"faible\", \"faim\", \"faim\", \"faim\", \"faim\", \"faim\", \"faim\", \"faim\", \"faire\", \"faire\", \"faire\", \"faire\", \"faire\", \"faire\", \"faire\", \"faire\", \"faire\", \"faire\", \"faire\", \"faire\", \"faire\", \"faire\", \"faire\", \"faites\", \"faites\", \"faites\", \"faites\", \"faites\", \"faites\", \"faites\", \"faites\", \"faites\", \"faites\", \"faites\", \"faites\", \"faites\", \"faites\", \"faut\", \"faut\", \"faut\", \"faut\", \"faut\", \"faut\", \"faut\", \"faut\", \"faut\", \"faut\", \"faut\", \"faut\", \"faut\", \"faux\", \"faux\", \"faux\", \"faux\", \"faux\", \"faux\", \"faux\", \"faux\", \"femme\", \"femme\", \"femme\", \"femme\", \"femme\", \"femme\", \"femme\", \"femme\", \"femme\", \"femme\", \"femme\", \"femme\", \"femme\", \"femme\", \"fer\", \"fer\", \"fer\", \"fer\", \"fer\", \"fer\", \"fer\", \"fer\", \"fer\", \"fer\", \"fer\", \"ferai\", \"ferai\", \"ferai\", \"ferai\", \"ferai\", \"ferai\", \"ferai\", \"ferai\", \"ferai\", \"ferai\", \"ferai\", \"ferai\", \"ferais\", \"ferais\", \"ferais\", \"ferais\", \"ferais\", \"ferais\", \"ferais\", \"ferait\", \"ferait\", \"ferait\", \"ferait\", \"ferait\", \"ferait\", \"ferait\", \"ferait\", \"ferme\", \"ferme\", \"ferme\", \"ferme\", \"ferme\", \"ferme\", \"feu\", \"feu\", \"feu\", \"feu\", \"feu\", \"feu\", \"feu\", \"feu\", \"feu\", \"feu\", \"fier\", \"fier\", \"fier\", \"fier\", \"fier\", \"fier\", \"fille\", \"fille\", \"fille\", \"fille\", \"fille\", \"fille\", \"fille\", \"fille\", \"fille\", \"fille\", \"fille\", \"fille\", \"fille\", \"fille\", \"fils\", \"fils\", \"fils\", \"fils\", \"fils\", \"fils\", \"fils\", \"fils\", \"fils\", \"fils\", \"fils\", \"fils\", \"fils\", \"fini\", \"fini\", \"fini\", \"fini\", \"fini\", \"fini\", \"fini\", \"fini\", \"fini\", \"fini\", \"flotte\", \"flotte\", \"flotte\", \"flotte\", \"flotte\", \"flotte\", \"foi\", \"foi\", \"foi\", \"foi\", \"foi\", \"fois\", \"fois\", \"fois\", \"fois\", \"fois\", \"fois\", \"fois\", \"fois\", \"fois\", \"fois\", \"fois\", \"fois\", \"fois\", \"fois\", \"fort\", \"fort\", \"fort\", \"fort\", \"fort\", \"fort\", \"fort\", \"fort\", \"fort\", \"fort\", \"fort\", \"fort\", \"fortune\", \"fortune\", \"fortune\", \"fortune\", \"frappe\", \"frappe\", \"frappe\", \"frappe\", \"frappe\", \"frappe\", \"frapper\", \"frapper\", \"frapper\", \"frapper\", \"frapper\", \"frapper\", \"frere\", \"frere\", \"frere\", \"frere\", \"frere\", \"frere\", \"frere\", \"frere\", \"frere\", \"frere\", \"frere\", \"frere\", \"frere\", \"frere\", \"frere\", \"frey\", \"frey\", \"frey\", \"frey\", \"frey\", \"frey\", \"froid\", \"froid\", \"froid\", \"froid\", \"froid\", \"garcon\", \"garcon\", \"garcon\", \"garcon\", \"garcon\", \"garcon\", \"garcon\", \"garcon\", \"garcon\", \"garcon\", \"garcon\", \"garde\", \"garde\", \"garde\", \"garde\", \"garde\", \"garde\", \"garde\", \"garde\", \"garde\", \"garde\", \"garde\", \"garde\", \"garde\", \"garder\", \"garder\", \"garder\", \"garder\", \"garder\", \"garder\", \"garder\", \"garder\", \"gloire\", \"gloire\", \"gloire\", \"gloire\", \"gloire\", \"gloire\", \"gloire\", \"gloire\", \"gorge\", \"gorge\", \"gorge\", \"gorge\", \"gorge\", \"gorge\", \"gouverneur\", \"gouverneur\", \"gouverneur\", \"gouverneur\", \"gouverneur\", \"grace\", \"grace\", \"grace\", \"grace\", \"grace\", \"grace\", \"grace\", \"grace\", \"grace\", \"grace\", \"grand\", \"grand\", \"grand\", \"grand\", \"grand\", \"grand\", \"grand\", \"grand\", \"grand\", \"grand\", \"grand\", \"grand\", \"grand\", \"grand\", \"grands\", \"grands\", \"grands\", \"grands\", \"grands\", \"grands\", \"greyjoy\", \"greyjoy\", \"greyjoy\", \"greyjoy\", \"greyjoy\", \"greyjoy\", \"greyjoy\", \"gros\", \"gros\", \"gros\", \"gros\", \"gros\", \"gros\", \"gros\", \"guere\", \"guere\", \"guere\", \"guere\", \"guere\", \"guerre\", \"guerre\", \"guerre\", \"guerre\", \"guerre\", \"guerre\", \"guerre\", \"guerre\", \"guerre\", \"guerre\", \"guerre\", \"guerre\", \"guerres\", \"guerres\", \"guerres\", \"guerres\", \"guerres\", \"guerres\", \"guerres\", \"harrenhal\", \"harrenhal\", \"hautjardin\", \"hautjardin\", \"hautjardin\", \"heritier\", \"heritier\", \"heritier\", \"heritier\", \"heritier\", \"heritier\", \"heritier\", \"heros\", \"heros\", \"heros\", \"heros\", \"heros\", \"heros\", \"heros\", \"heureuse\", \"heureuse\", \"heureuse\", \"heureuse\", \"heureuse\", \"heureuse\", \"heureuse\", \"heureuse\", \"heureux\", \"heureux\", \"heureux\", \"heureux\", \"heureux\", \"heureux\", \"heureux\", \"heureux\", \"heureux\", \"heureux\", \"hiver\", \"hiver\", \"hiver\", \"hiver\", \"hiver\", \"hiver\", \"hiver\", \"hiver\", \"hiver\", \"hodor\", \"hodor\", \"hodor\", \"homme\", \"homme\", \"homme\", \"homme\", \"homme\", \"homme\", \"homme\", \"homme\", \"homme\", \"homme\", \"homme\", \"homme\", \"homme\", \"homme\", \"hommes\", \"hommes\", \"hommes\", \"hommes\", \"hommes\", \"hommes\", \"hommes\", \"hommes\", \"hommes\", \"hommes\", \"hommes\", \"hommes\", \"hommes\", \"hommes\", \"hommes\", \"honneur\", \"honneur\", \"honneur\", \"honneur\", \"honneur\", \"honneur\", \"honneur\", \"honneur\", \"honneur\", \"honneur\", \"honneur\", \"honneur\", \"ici\", \"ici\", \"ici\", \"ici\", \"ici\", \"ici\", \"ici\", \"ici\", \"ici\", \"ici\", \"ici\", \"ici\", \"ici\", \"ici\", \"ici\", \"idee\", \"idee\", \"idee\", \"idee\", \"idee\", \"idee\", \"idee\", \"idee\", \"idee\", \"idiote\", \"idiote\", \"idiote\", \"idiote\", \"idiote\", \"iles\", \"iles\", \"iles\", \"iles\", \"iles\", \"iles\", \"imagine\", \"imagine\", \"imagine\", \"imagine\", \"imagine\", \"imagine\", \"imagine\", \"imagine\", \"immacules\", \"immacules\", \"immacules\", \"immacules\", \"immacules\", \"immacules\", \"importance\", \"importance\", \"importance\", \"importance\", \"importance\", \"importance\", \"importance\", \"importance\", \"importance\", \"importance\", \"importance\", \"instant\", \"instant\", \"instant\", \"instant\", \"instant\", \"instant\", \"interieur\", \"interieur\", \"interieur\", \"interieur\", \"interieur\", \"interieur\", \"interieur\", \"ira\", \"ira\", \"ira\", \"ira\", \"ira\", \"ira\", \"ira\", \"ira\", \"jaime\", \"jaime\", \"jaime\", \"jaime\", \"jaime\", \"jaime\", \"jaime\", \"jaime\", \"jaime\", \"jaime\", \"jamais\", \"jamais\", \"jamais\", \"jamais\", \"jamais\", \"jamais\", \"jamais\", \"jamais\", \"jamais\", \"jamais\", \"jamais\", \"jamais\", \"jamais\", \"jamais\", \"jamais\", \"jeu\", \"jeu\", \"jeu\", \"jeu\", \"jeunes\", \"jeunes\", \"jeunes\", \"jeunes\", \"jeunes\", \"jeunes\", \"joffrey\", \"joffrey\", \"joffrey\", \"joffrey\", \"joffrey\", \"joffrey\", \"joffrey\", \"joffrey\", \"joffrey\", \"joffrey\", \"joffrey\", \"joffrey\", \"joffrey\", \"joie\", \"joie\", \"joie\", \"joie\", \"jolie\", \"jolie\", \"jolie\", \"jolie\", \"jolie\", \"jolie\", \"jolie\", \"jon\", \"jon\", \"jon\", \"jon\", \"jon\", \"jon\", \"jon\", \"jon\", \"jon\", \"jon\", \"jouer\", \"jouer\", \"jouer\", \"jouer\", \"jouer\", \"journee\", \"journee\", \"journee\", \"journee\", \"journee\", \"juge\", \"juge\", \"juge\", \"juge\", \"justice\", \"justice\", \"justice\", \"justice\", \"justice\", \"justice\", \"justice\", \"justice\", \"justice\", \"khal\", \"khal\", \"khal\", \"khaleesi\", \"khaleesi\", \"khaleesi\", \"khaleesi\", \"khaleesi\", \"lady\", \"lady\", \"lady\", \"lady\", \"lady\", \"lady\", \"lady\", \"lady\", \"lady\", \"lady\", \"lady\", \"lady\", \"laisse\", \"laisse\", \"laisse\", \"laisse\", \"laisse\", \"laisse\", \"laisse\", \"laisse\", \"laisse\", \"laisse\", \"laisse\", \"laisse\", \"laisse\", \"laisse\", \"laisserai\", \"laisserai\", \"laisserai\", \"laisserai\", \"laisserai\", \"laisserai\", \"laisserai\", \"laissez\", \"laissez\", \"laissez\", \"laissez\", \"laissez\", \"laissez\", \"laissez\", \"laissez\", \"laissez\", \"laissez\", \"laissez\", \"laissez\", \"lame\", \"lame\", \"lame\", \"lame\", \"lame\", \"lame\", \"lame\", \"lannister\", \"lannister\", \"lannister\", \"lannister\", \"lannister\", \"lannister\", \"lannister\", \"lannister\", \"lannister\", \"lannister\", \"lannister\", \"lannister\", \"lannister\", \"lannister\", \"legitime\", \"legitime\", \"legitime\", \"legitime\", \"legitime\", \"legitime\", \"libre\", \"libre\", \"libre\", \"libre\", \"libre\", \"libre\", \"libre\", \"libre\", \"libre\", \"limier\", \"limier\", \"limier\", \"limier\", \"limier\", \"limier\", \"limier\", \"limier\", \"lit\", \"lit\", \"lit\", \"lit\", \"lit\", \"lit\", \"lit\", \"lit\", \"lit\", \"littlefinger\", \"littlefinger\", \"littlefinger\", \"littlefinger\", \"loi\", \"loi\", \"loi\", \"loi\", \"loi\", \"loi\", \"loi\", \"loi\", \"long\", \"long\", \"long\", \"long\", \"long\", \"long\", \"long\", \"loras\", \"loras\", \"loras\", \"loras\", \"loras\", \"lord\", \"lord\", \"lord\", \"lord\", \"lord\", \"lord\", \"lord\", \"lord\", \"lord\", \"lord\", \"lord\", \"lord\", \"lord\", \"lord\", \"loup\", \"loup\", \"loup\", \"loup\", \"loup\", \"loup\", \"loup\", \"loups\", \"loups\", \"loups\", \"loups\", \"loups\", \"loups\", \"lumiere\", \"lumiere\", \"lumiere\", \"lumiere\", \"lumiere\", \"lumiere\", \"lumiere\", \"lune\", \"lune\", \"lune\", \"lune\", \"lune\", \"lutin\", \"lutin\", \"lutin\", \"lutin\", \"lutin\", \"lutin\", \"lutin\", \"lutin\", \"lutin\", \"madame\", \"madame\", \"madame\", \"madame\", \"madame\", \"madame\", \"madame\", \"madame\", \"madame\", \"madame\", \"madame\", \"magie\", \"magie\", \"magie\", \"magie\", \"magie\", \"main\", \"main\", \"main\", \"main\", \"main\", \"main\", \"main\", \"main\", \"main\", \"main\", \"main\", \"main\", \"main\", \"main\", \"maison\", \"maison\", \"maison\", \"maison\", \"maison\", \"maison\", \"maison\", \"maison\", \"maison\", \"maison\", \"maison\", \"maison\", \"maison\", \"maisons\", \"maisons\", \"maisons\", \"maisons\", \"maisons\", \"maisons\", \"maisons\", \"maisons\", \"maisons\", \"maitre\", \"maitre\", \"maitre\", \"maitre\", \"maitre\", \"maitre\", \"maitre\", \"maitre\", \"maitre\", \"maitre\", \"maitres\", \"maitres\", \"maitres\", \"maitres\", \"majeste\", \"majeste\", \"majeste\", \"majeste\", \"majeste\", \"majeste\", \"majeste\", \"majeste\", \"majeste\", \"majeste\", \"majeste\", \"majeste\", \"mance\", \"mance\", \"mance\", \"mance\", \"mange\", \"mange\", \"mange\", \"mange\", \"mange\", \"mange\", \"mange\", \"mange\", \"mange\", \"manger\", \"manger\", \"manger\", \"manger\", \"manger\", \"manger\", \"manger\", \"manger\", \"manger\", \"marcher\", \"marcher\", \"marcher\", \"marcher\", \"marcher\", \"marcheurs\", \"marcheurs\", \"marcheurs\", \"marcheurs\", \"marcheurs\", \"marcheurs\", \"margaery\", \"margaery\", \"margaery\", \"mari\", \"mari\", \"mari\", \"mari\", \"mari\", \"mari\", \"mari\", \"mari\", \"mari\", \"massacre\", \"massacre\", \"massacre\", \"massacre\", \"massacre\", \"maville\", \"meereen\", \"meereen\", \"meereen\", \"meereen\", \"meereen\", \"meilleur\", \"meilleur\", \"meilleur\", \"meilleur\", \"meilleur\", \"meilleur\", \"meilleur\", \"meilleur\", \"meilleur\", \"meilleur\", \"meilleur\", \"meilleur\", \"meilleur\", \"meilleur\", \"meilleure\", \"meilleure\", \"meilleure\", \"meilleure\", \"meilleure\", \"meilleure\", \"meilleure\", \"menace\", \"menace\", \"menace\", \"menace\", \"menace\", \"menace\", \"menace\", \"menace\", \"menard\", \"mensonge\", \"mensonge\", \"mensonge\", \"mensonge\", \"menteur\", \"menteur\", \"menteur\", \"menteur\", \"menteur\", \"mere\", \"mere\", \"mere\", \"mere\", \"mere\", \"mere\", \"mere\", \"mere\", \"mere\", \"mere\", \"mere\", \"mere\", \"mere\", \"mere\", \"merite\", \"merite\", \"merite\", \"merite\", \"merite\", \"merite\", \"merite\", \"merite\", \"merite\", \"merite\", \"message\", \"message\", \"message\", \"message\", \"messire\", \"messire\", \"messire\", \"messire\", \"messire\", \"messire\", \"messire\", \"messire\", \"messire\", \"messire\", \"messires\", \"messires\", \"messires\", \"messires\", \"messires\", \"mettre\", \"mettre\", \"mettre\", \"mettre\", \"mettre\", \"mettre\", \"mettre\", \"mettre\", \"mettre\", \"mettre\", \"meurtre\", \"meurtre\", \"meurtre\", \"meurtre\", \"meurtre\", \"mieux\", \"mieux\", \"mieux\", \"mieux\", \"mieux\", \"mieux\", \"mieux\", \"mieux\", \"mieux\", \"mieux\", \"mieux\", \"mieux\", \"mieux\", \"mieux\", \"mieux\", \"mois\", \"mois\", \"mois\", \"mois\", \"mois\", \"monde\", \"monde\", \"monde\", \"monde\", \"monde\", \"monde\", \"monde\", \"monde\", \"monde\", \"monde\", \"monde\", \"monde\", \"monde\", \"monde\", \"monseigneur\", \"monseigneur\", \"monseigneur\", \"monseigneur\", \"monseigneur\", \"monstre\", \"monstre\", \"monstre\", \"monstre\", \"monstre\", \"monstre\", \"monstre\", \"monter\", \"monter\", \"monter\", \"monter\", \"montrer\", \"montrer\", \"montrer\", \"montrer\", \"montrer\", \"montrer\", \"montrer\", \"montrer\", \"mormont\", \"mormont\", \"mormont\", \"mormont\", \"mormont\", \"mormont\", \"mormont\", \"mormont\", \"mort\", \"mort\", \"mort\", \"mort\", \"mort\", \"mort\", \"mort\", \"mort\", \"mort\", \"mort\", \"mort\", \"mort\", \"mort\", \"mort\", \"morts\", \"morts\", \"morts\", \"morts\", \"morts\", \"morts\", \"morts\", \"morts\", \"morts\", \"morts\", \"morts\", \"morts\", \"morts\", \"mourir\", \"mourir\", \"mourir\", \"mourir\", \"mourir\", \"mourir\", \"mourir\", \"mourir\", \"mourir\", \"mourir\", \"mourir\", \"mourir\", \"mourir\", \"mourir\", \"mur\", \"mur\", \"mur\", \"mur\", \"mur\", \"mur\", \"mur\", \"mur\", \"mur\", \"mur\", \"myrcella\", \"myrcella\", \"myrcella\", \"myrcella\", \"myrcella\", \"myrcella\", \"naissance\", \"naissance\", \"naissance\", \"naissance\", \"naissance\", \"naissance\", \"navires\", \"navires\", \"navires\", \"navires\", \"navires\", \"navires\", \"navires\", \"navires\", \"ned\", \"ned\", \"ned\", \"ned\", \"ned\", \"ned\", \"ned\", \"ned\", \"ned\", \"neige\", \"neige\", \"neige\", \"neige\", \"neige\", \"nes\", \"nes\", \"nes\", \"nes\", \"nes\", \"nes\", \"noces\", \"noces\", \"noces\", \"noces\", \"noces\", \"noces\", \"noces\", \"noces\", \"nom\", \"nom\", \"nom\", \"nom\", \"nom\", \"nom\", \"nom\", \"nom\", \"nom\", \"nom\", \"nom\", \"nom\", \"nom\", \"nom\", \"nombre\", \"nombre\", \"nombre\", \"nombre\", \"nombre\", \"nomme\", \"nomme\", \"nomme\", \"nomme\", \"nomme\", \"nomme\", \"nord\", \"nord\", \"nord\", \"nord\", \"nord\", \"nord\", \"nord\", \"nord\", \"nord\", \"nord\", \"nord\", \"nord\", \"nord\", \"nordiens\", \"nordiens\", \"nordiens\", \"nordiens\", \"nordiens\", \"nordiens\", \"nordiens\", \"nordiens\", \"nordiens\", \"nuit\", \"nuit\", \"nuit\", \"nuit\", \"nuit\", \"nuit\", \"nuit\", \"nuit\", \"nuit\", \"nuit\", \"nuit\", \"nuit\", \"nuit\", \"nuit\", \"oberyn\", \"oberyn\", \"occupe\", \"occupe\", \"occupe\", \"occupe\", \"occupe\", \"occupe\", \"offrir\", \"offrir\", \"offrir\", \"offrir\", \"offrir\", \"offrir\", \"ombre\", \"ombre\", \"ombre\", \"ombre\", \"ombre\", \"ombre\", \"oncle\", \"oncle\", \"oncle\", \"oncle\", \"oncle\", \"oncle\", \"oncle\", \"oncle\", \"oncle\", \"oncle\", \"oncle\", \"oncle\", \"oncle\", \"or\", \"or\", \"or\", \"or\", \"or\", \"or\", \"or\", \"or\", \"or\", \"or\", \"or\", \"or\", \"ordres\", \"ordres\", \"ordres\", \"ordres\", \"ordres\", \"ordres\", \"ordres\", \"ordres\", \"ordres\", \"ordres\", \"ordres\", \"oublier\", \"oublier\", \"oublier\", \"oublier\", \"oublier\", \"oui\", \"oui\", \"oui\", \"oui\", \"oui\", \"oui\", \"oui\", \"oui\", \"oui\", \"oui\", \"oui\", \"oui\", \"oui\", \"oui\", \"oui\", \"paix\", \"paix\", \"paix\", \"paix\", \"paix\", \"paix\", \"paix\", \"paix\", \"parait\", \"parait\", \"parait\", \"parait\", \"parait\", \"parait\", \"parait\", \"parait\", \"parait\", \"parait\", \"parles\", \"parles\", \"parles\", \"parles\", \"parles\", \"parles\", \"parles\", \"paroles\", \"paroles\", \"paroles\", \"paroles\", \"paroles\", \"pars\", \"pars\", \"pars\", \"pars\", \"pars\", \"pars\", \"pars\", \"partez\", \"partez\", \"partez\", \"partez\", \"partez\", \"partez\", \"partez\", \"partir\", \"partir\", \"partir\", \"partir\", \"partir\", \"partir\", \"partir\", \"partir\", \"partir\", \"partir\", \"partir\", \"partir\", \"partout\", \"partout\", \"partout\", \"partout\", \"partout\", \"partout\", \"partout\", \"payer\", \"payer\", \"payer\", \"payer\", \"payer\", \"payer\", \"payer\", \"peau\", \"peau\", \"peau\", \"peau\", \"peau\", \"peau\", \"peau\", \"penser\", \"penser\", \"penser\", \"penser\", \"penser\", \"perdre\", \"perdre\", \"perdre\", \"perdre\", \"perdre\", \"perdre\", \"perdre\", \"perdre\", \"perdu\", \"perdu\", \"perdu\", \"perdu\", \"perdu\", \"perdu\", \"perdu\", \"perdu\", \"perdu\", \"pere\", \"pere\", \"pere\", \"pere\", \"pere\", \"pere\", \"pere\", \"pere\", \"pere\", \"pere\", \"pere\", \"pere\", \"pere\", \"pere\", \"petite\", \"petite\", \"petite\", \"petite\", \"petite\", \"petite\", \"petite\", \"petite\", \"petite\", \"petite\", \"petite\", \"petite\", \"petite\", \"petits\", \"petits\", \"petits\", \"petits\", \"petits\", \"petits\", \"petits\", \"petits\", \"petits\", \"petits\", \"peuple\", \"peuple\", \"peuple\", \"peuple\", \"peuple\", \"peuple\", \"peuple\", \"peuple\", \"peuple\", \"peuple\", \"peur\", \"peur\", \"peur\", \"peur\", \"peur\", \"peur\", \"peur\", \"peur\", \"peur\", \"peur\", \"peur\", \"peur\", \"pied\", \"pied\", \"pied\", \"pied\", \"pied\", \"pied\", \"pierre\", \"pierre\", \"pierre\", \"pierre\", \"pierre\", \"pierre\", \"pierre\", \"pitie\", \"pitie\", \"pitie\", \"pitie\", \"pitie\", \"pitie\", \"pitie\", \"pitie\", \"pitie\", \"pitie\", \"plaisir\", \"plaisir\", \"plaisir\", \"plaisir\", \"plaisir\", \"plaisir\", \"plaisir\", \"plaisir\", \"plait\", \"plait\", \"plait\", \"plait\", \"plait\", \"plait\", \"plait\", \"plait\", \"plait\", \"plait\", \"plait\", \"plait\", \"pleine\", \"pleine\", \"pleine\", \"pleine\", \"pleine\", \"plutot\", \"plutot\", \"plutot\", \"plutot\", \"plutot\", \"plutot\", \"plutot\", \"poison\", \"poison\", \"poison\", \"poison\", \"poison\", \"port\", \"port\", \"port\", \"port\", \"port\", \"port\", \"port\", \"port\", \"port\", \"port\", \"port\", \"port\", \"port\", \"porte\", \"porte\", \"porte\", \"porte\", \"porte\", \"porte\", \"porte\", \"porte\", \"porte\", \"porte\", \"porte\", \"porter\", \"porter\", \"porter\", \"porter\", \"portes\", \"portes\", \"portes\", \"portes\", \"portes\", \"portes\", \"portes\", \"portes\", \"portes\", \"portes\", \"pose\", \"pose\", \"pose\", \"pose\", \"pose\", \"pose\", \"pose\", \"position\", \"position\", \"position\", \"position\", \"position\", \"position\", \"position\", \"pourra\", \"pourra\", \"pourra\", \"pourra\", \"pourra\", \"pourra\", \"pourra\", \"pousse\", \"pousse\", \"pousse\", \"pousse\", \"premiere\", \"premiere\", \"premiere\", \"premiere\", \"premiere\", \"premiere\", \"premiere\", \"premiere\", \"premiere\", \"premiere\", \"premiers\", \"premiers\", \"premiers\", \"premiers\", \"premiers\", \"premiers\", \"premiers\", \"premiers\", \"prend\", \"prend\", \"prend\", \"prend\", \"prend\", \"prend\", \"prend\", \"prend\", \"prince\", \"prince\", \"prince\", \"prince\", \"prince\", \"prince\", \"prince\", \"prince\", \"princesse\", \"princesse\", \"princesse\", \"princesse\", \"princesse\", \"princesse\", \"prisonnier\", \"prisonnier\", \"prisonnier\", \"prisonnier\", \"prisonnier\", \"prisonnier\", \"prisonnier\", \"prix\", \"prix\", \"prix\", \"prix\", \"prix\", \"probleme\", \"probleme\", \"probleme\", \"probleme\", \"probleme\", \"probleme\", \"probleme\", \"probleme\", \"proces\", \"proces\", \"proces\", \"proces\", \"proces\", \"proces\", \"propre\", \"propre\", \"propre\", \"propre\", \"propre\", \"propre\", \"propre\", \"protecteur\", \"protecteur\", \"protecteur\", \"protecteur\", \"protecteur\", \"proteger\", \"proteger\", \"proteger\", \"proteger\", \"proteger\", \"proteger\", \"proteger\", \"proteger\", \"proteger\", \"proteger\", \"proteger\", \"proteger\", \"proteger\", \"putain\", \"putain\", \"putain\", \"putain\", \"putain\", \"putain\", \"putain\", \"putain\", \"putain\", \"qu\", \"qu\", \"qu\", \"qu\", \"qu\", \"qu\", \"qu\", \"qu\", \"qu\", \"qu\", \"qu\", \"qu\", \"qu\", \"qu\", \"qu\", \"quelqu\", \"quelqu\", \"quelqu\", \"quelqu\", \"quelqu\", \"quelqu\", \"quelqu\", \"quelqu\", \"quelqu\", \"quelqu\", \"quelqu\", \"queue\", \"queue\", \"queue\", \"queue\", \"queue\", \"queue\", \"queue\", \"queue\", \"queue\", \"queue\", \"quitte\", \"quitte\", \"quitte\", \"quitte\", \"quitte\", \"quitte\", \"quitte\", \"quitter\", \"quitter\", \"quitter\", \"quitter\", \"quitter\", \"quitter\", \"quitter\", \"raison\", \"raison\", \"raison\", \"raison\", \"raison\", \"raison\", \"raison\", \"raison\", \"raison\", \"raison\", \"ramene\", \"ramene\", \"ramene\", \"ramene\", \"ramene\", \"ramene\", \"ramene\", \"ramene\", \"ramene\", \"ramene\", \"ramener\", \"ramener\", \"ramener\", \"ramener\", \"ramener\", \"ramener\", \"ramener\", \"ramener\", \"ramener\", \"ramsay\", \"ramsay\", \"ramsay\", \"rapide\", \"rapide\", \"rapide\", \"rapide\", \"rappelez\", \"rappelez\", \"rappelez\", \"rappelez\", \"rappelez\", \"rappelez\", \"real\", \"real\", \"real\", \"real\", \"real\", \"real\", \"real\", \"real\", \"real\", \"real\", \"real\", \"real\", \"real\", \"rebellion\", \"rebellion\", \"rebellion\", \"rebellion\", \"rebellion\", \"rebellion\", \"regarde\", \"regarde\", \"regarde\", \"regarde\", \"regarde\", \"regarde\", \"regarde\", \"regarde\", \"regarde\", \"regarde\", \"regarder\", \"regarder\", \"regarder\", \"regarder\", \"regarder\", \"regarder\", \"regarder\", \"regarder\", \"regicide\", \"regicide\", \"regicide\", \"regicide\", \"regicide\", \"regicide\", \"regicide\", \"regne\", \"regne\", \"regne\", \"regne\", \"reine\", \"reine\", \"reine\", \"reine\", \"reine\", \"reine\", \"reine\", \"reine\", \"reine\", \"reine\", \"reine\", \"reine\", \"reine\", \"reine\", \"renly\", \"renly\", \"renly\", \"renly\", \"renly\", \"renly\", \"rentrer\", \"rentrer\", \"rentrer\", \"rentrer\", \"rentrer\", \"rentrer\", \"rentrer\", \"rentrer\", \"reprendre\", \"reprendre\", \"reprendre\", \"reprendre\", \"reprendre\", \"reprendre\", \"restez\", \"restez\", \"restez\", \"restez\", \"restez\", \"restez\", \"restez\", \"restez\", \"restez\", \"retrouver\", \"retrouver\", \"retrouver\", \"retrouver\", \"retrouver\", \"retrouver\", \"retrouver\", \"reve\", \"reve\", \"reve\", \"reve\", \"reve\", \"reve\", \"reve\", \"reve\", \"revenir\", \"revenir\", \"revenir\", \"revenir\", \"revenir\", \"revenir\", \"revenir\", \"revient\", \"revient\", \"revient\", \"revient\", \"revient\", \"revient\", \"revoir\", \"revoir\", \"revoir\", \"revoir\", \"revoir\", \"revoir\", \"revoir\", \"revoir\", \"rickon\", \"rickon\", \"rickon\", \"robb\", \"robb\", \"robb\", \"robb\", \"robb\", \"robb\", \"robb\", \"robb\", \"robb\", \"robb\", \"robert\", \"robert\", \"robert\", \"robert\", \"robert\", \"robert\", \"robert\", \"robert\", \"robert\", \"robert\", \"robert\", \"robert\", \"roc\", \"roc\", \"roc\", \"roc\", \"roc\", \"roc\", \"roi\", \"roi\", \"roi\", \"roi\", \"roi\", \"roi\", \"roi\", \"roi\", \"roi\", \"roi\", \"roi\", \"roi\", \"roi\", \"rouge\", \"rouge\", \"rouge\", \"rouge\", \"rouge\", \"rouge\", \"rouge\", \"rouge\", \"rouge\", \"rouge\", \"rouge\", \"rouge\", \"route\", \"route\", \"route\", \"route\", \"route\", \"route\", \"route\", \"route\", \"route\", \"route\", \"royale\", \"royale\", \"royale\", \"royale\", \"royale\", \"royale\", \"royale\", \"royale\", \"royaume\", \"royaume\", \"royaume\", \"royaume\", \"royaume\", \"royaume\", \"sais\", \"sais\", \"sais\", \"sais\", \"sais\", \"sais\", \"sais\", \"sais\", \"sais\", \"sais\", \"sais\", \"sais\", \"sais\", \"sais\", \"sais\", \"salle\", \"salle\", \"salle\", \"salle\", \"salle\", \"salle\", \"sam\", \"sam\", \"sam\", \"sam\", \"sam\", \"sang\", \"sang\", \"sang\", \"sang\", \"sang\", \"sang\", \"sang\", \"sang\", \"sang\", \"sang\", \"sang\", \"sang\", \"sansa\", \"sansa\", \"sansa\", \"sansa\", \"sansa\", \"sansa\", \"sansa\", \"sansa\", \"sansa\", \"sansa\", \"sansa\", \"sauvageons\", \"sauvageons\", \"sauvageons\", \"sauvageons\", \"sauvageons\", \"sauvageons\", \"sauvageons\", \"sauvageons\", \"sauvageons\", \"savez\", \"savez\", \"savez\", \"savez\", \"savez\", \"savez\", \"savez\", \"savez\", \"savez\", \"savez\", \"savez\", \"savez\", \"savez\", \"savoir\", \"savoir\", \"savoir\", \"savoir\", \"savoir\", \"savoir\", \"savoir\", \"savoir\", \"savoir\", \"savoir\", \"savoir\", \"savoir\", \"savoir\", \"savoir\", \"savoir\", \"secret\", \"secret\", \"secret\", \"secret\", \"secret\", \"secret\", \"secret\", \"secret\", \"seigneur\", \"seigneur\", \"seigneur\", \"seigneur\", \"seigneur\", \"seigneur\", \"seigneur\", \"seigneur\", \"septon\", \"septon\", \"septon\", \"septon\", \"septuaire\", \"septuaire\", \"septuaire\", \"septuaire\", \"ser\", \"ser\", \"ser\", \"ser\", \"ser\", \"ser\", \"ser\", \"ser\", \"ser\", \"ser\", \"ser\", \"ser\", \"ser\", \"ser\", \"ser\", \"serai\", \"serai\", \"serai\", \"serai\", \"serai\", \"serai\", \"serai\", \"serai\", \"serai\", \"seras\", \"seras\", \"seras\", \"seras\", \"seras\", \"seras\", \"seras\", \"seras\", \"seras\", \"seras\", \"seras\", \"seras\", \"service\", \"service\", \"service\", \"service\", \"service\", \"service\", \"service\", \"service\", \"servir\", \"servir\", \"servir\", \"servir\", \"servir\", \"servir\", \"servir\", \"servir\", \"servir\", \"servir\", \"siege\", \"siege\", \"siege\", \"siege\", \"siege\", \"siege\", \"siege\", \"signifie\", \"signifie\", \"signifie\", \"signifie\", \"sire\", \"sire\", \"sire\", \"sire\", \"sire\", \"sire\", \"sire\", \"sire\", \"sire\", \"sire\", \"sire\", \"snow\", \"snow\", \"snow\", \"snow\", \"snow\", \"snow\", \"soient\", \"soient\", \"soient\", \"soient\", \"sois\", \"sois\", \"sois\", \"sois\", \"sois\", \"sois\", \"sois\", \"soleil\", \"soleil\", \"soleil\", \"soleil\", \"sommes\", \"sommes\", \"sommes\", \"sommes\", \"sommes\", \"sommes\", \"sommes\", \"sommes\", \"sommes\", \"sommes\", \"sommes\", \"sort\", \"sort\", \"sort\", \"sort\", \"sort\", \"sort\", \"sort\", \"sort\", \"souhaite\", \"souhaite\", \"souhaite\", \"souhaite\", \"souhaite\", \"souhaite\", \"stannis\", \"stannis\", \"stannis\", \"stannis\", \"stannis\", \"stannis\", \"stannis\", \"stannis\", \"stannis\", \"stannis\", \"stannis\", \"stark\", \"stark\", \"stark\", \"stark\", \"stark\", \"stark\", \"stark\", \"stark\", \"stark\", \"stark\", \"stark\", \"stark\", \"stark\", \"stark\", \"su\", \"su\", \"su\", \"su\", \"su\", \"su\", \"su\", \"su\", \"sud\", \"sud\", \"sud\", \"sud\", \"sud\", \"sud\", \"sud\", \"sud\", \"sud\", \"sud\", \"suite\", \"suite\", \"suite\", \"suite\", \"suite\", \"suite\", \"suivez\", \"suivez\", \"suivez\", \"suivez\", \"suivez\", \"suivez\", \"surs\", \"surs\", \"surs\", \"surs\", \"surs\", \"surs\", \"surs\", \"survecu\", \"survecu\", \"survecu\", \"survecu\", \"survecu\", \"survecu\", \"tante\", \"tante\", \"tante\", \"tante\", \"tante\", \"targaryen\", \"targaryen\", \"targaryen\", \"targaryen\", \"targaryen\", \"targaryen\", \"targaryen\", \"targaryen\", \"targaryen\", \"targaryen\", \"targaryen\", \"targaryen\", \"targaryen\", \"temps\", \"temps\", \"temps\", \"temps\", \"temps\", \"temps\", \"temps\", \"temps\", \"temps\", \"temps\", \"temps\", \"temps\", \"temps\", \"tenebres\", \"tenebres\", \"tenebres\", \"tenebres\", \"tenu\", \"tenu\", \"tenu\", \"tenu\", \"tenu\", \"tenu\", \"tenu\", \"terre\", \"terre\", \"terre\", \"terre\", \"terre\", \"terre\", \"terre\", \"terre\", \"terre\", \"terre\", \"terrible\", \"terrible\", \"terrible\", \"terrible\", \"terrible\", \"terrible\", \"terrible\", \"theon\", \"theon\", \"theon\", \"theon\", \"theon\", \"theon\", \"titrage\", \"titre\", \"titre\", \"titre\", \"titre\", \"titre\", \"titre\", \"tommen\", \"tommen\", \"tommen\", \"tommen\", \"tommen\", \"tot\", \"tot\", \"tot\", \"tot\", \"tot\", \"touche\", \"touche\", \"touche\", \"touche\", \"touche\", \"trahi\", \"trahi\", \"trahi\", \"trahi\", \"trahi\", \"trahi\", \"trahi\", \"trahi\", \"trahi\", \"trahison\", \"trahison\", \"trahison\", \"trahison\", \"trahison\", \"trahison\", \"trahison\", \"traitre\", \"traitre\", \"traitre\", \"traitre\", \"traitre\", \"traitre\", \"traitre\", \"traitre\", \"traitre\", \"trone\", \"trone\", \"trone\", \"trone\", \"trone\", \"trone\", \"trone\", \"trone\", \"trone\", \"trone\", \"trone\", \"trouves\", \"trouves\", \"trouves\", \"trouves\", \"trouves\", \"trouvez\", \"trouvez\", \"trouvez\", \"trouvez\", \"trouvez\", \"trouvez\", \"tue\", \"tue\", \"tue\", \"tue\", \"tue\", \"tue\", \"tue\", \"tue\", \"tue\", \"tue\", \"tue\", \"tue\", \"tue\", \"tue\", \"tuer\", \"tuer\", \"tuer\", \"tuer\", \"tuer\", \"tuer\", \"tuer\", \"tuer\", \"tuer\", \"tuer\", \"tuer\", \"tuer\", \"tuer\", \"tuer\", \"tuer\", \"tuez\", \"tuez\", \"tuez\", \"tuez\", \"tuez\", \"tuez\", \"tuez\", \"tuez\", \"tuez\", \"tully\", \"tully\", \"tully\", \"tully\", \"tully\", \"typhon\", \"typhon\", \"typhon\", \"typhon\", \"tyrell\", \"tyrell\", \"tyrell\", \"tyrell\", \"tyrell\", \"tyrion\", \"tyrion\", \"tyrion\", \"tyrion\", \"tyrion\", \"tyrion\", \"tyrion\", \"tyrion\", \"tyrion\", \"tyrion\", \"tyrion\", \"tyrion\", \"tywin\", \"tywin\", \"tywin\", \"tywin\", \"tywin\", \"tywin\", \"tywin\", \"tywin\", \"tywin\", \"tywin\", \"vaincre\", \"vaincre\", \"vaincre\", \"vaincre\", \"vaincre\", \"vaincre\", \"vaincre\", \"val\", \"val\", \"val\", \"val\", \"val\", \"valyrien\", \"valyrien\", \"valyrien\", \"valyrien\", \"valyrien\", \"varys\", \"varys\", \"varys\", \"varys\", \"varys\", \"varys\", \"venger\", \"venger\", \"venger\", \"venger\", \"venger\", \"venger\", \"venger\", \"venu\", \"venu\", \"venu\", \"venu\", \"venu\", \"venu\", \"venu\", \"venu\", \"venu\", \"venu\", \"vere\", \"vere\", \"vere\", \"veux\", \"veux\", \"veux\", \"veux\", \"veux\", \"veux\", \"veux\", \"veux\", \"veux\", \"veux\", \"veux\", \"veux\", \"veux\", \"veux\", \"victoire\", \"victoire\", \"victoire\", \"victoire\", \"victoire\", \"victoire\", \"victoire\", \"victoire\", \"vie\", \"vie\", \"vie\", \"vie\", \"vie\", \"vie\", \"vie\", \"vie\", \"vie\", \"vie\", \"vie\", \"vie\", \"vie\", \"vie\", \"vie\", \"vieil\", \"vieil\", \"vieil\", \"vieil\", \"viens\", \"viens\", \"viens\", \"viens\", \"viens\", \"viens\", \"viens\", \"viens\", \"viens\", \"viens\", \"viens\", \"ville\", \"ville\", \"ville\", \"ville\", \"ville\", \"ville\", \"ville\", \"ville\", \"ville\", \"ville\", \"visage\", \"visage\", \"visage\", \"visage\", \"visage\", \"visage\", \"visage\", \"visage\", \"visage\", \"visage\", \"vit\", \"vit\", \"vit\", \"vit\", \"vit\", \"vit\", \"vite\", \"vite\", \"vite\", \"vite\", \"vite\", \"vite\", \"vite\", \"vite\", \"vite\", \"vite\", \"vite\", \"vite\", \"vivant\", \"vivant\", \"vivant\", \"vivant\", \"vivant\", \"vivant\", \"vivesaigues\", \"vivesaigues\", \"vivesaigues\", \"vivesaigues\", \"vivesaigues\", \"vivre\", \"vivre\", \"vivre\", \"vivre\", \"vivre\", \"vivre\", \"vivre\", \"vivre\", \"vivre\", \"vivre\", \"vivre\", \"voila\", \"voila\", \"voila\", \"voila\", \"voila\", \"voila\", \"voila\", \"voila\", \"voila\", \"voila\", \"voila\", \"voila\", \"voila\", \"voila\", \"voir\", \"voir\", \"voir\", \"voir\", \"voir\", \"voir\", \"voir\", \"voir\", \"voir\", \"voir\", \"voir\", \"voir\", \"voir\", \"voir\", \"voulez\", \"voulez\", \"voulez\", \"voulez\", \"voulez\", \"voulez\", \"voulez\", \"voulez\", \"voulez\", \"voulez\", \"voulez\", \"voulez\", \"voulez\", \"voulez\", \"voyez\", \"voyez\", \"voyez\", \"voyez\", \"voyez\", \"voyez\", \"voyez\", \"vrai\", \"vrai\", \"vrai\", \"vrai\", \"vrai\", \"vrai\", \"vrai\", \"vrai\", \"vrai\", \"vrai\", \"vrai\", \"vrai\", \"vue\", \"vue\", \"vue\", \"vue\", \"vue\", \"vue\", \"vue\", \"vue\", \"vue\", \"vue\", \"vus\", \"vus\", \"vus\", \"vus\", \"vus\", \"vux\", \"vux\", \"vux\", \"vux\", \"vux\", \"walder\", \"walder\", \"walder\", \"westeros\", \"westeros\", \"westeros\", \"westeros\", \"westeros\", \"westeros\", \"westeros\", \"westeros\", \"westeros\", \"winterfell\", \"winterfell\", \"winterfell\", \"winterfell\", \"winterfell\", \"winterfell\", \"winterfell\", \"winterfell\", \"winterfell\", \"winterfell\", \"winterfell\", \"winterfell\", \"yeux\", \"yeux\", \"yeux\", \"yeux\", \"yeux\", \"yeux\", \"yeux\", \"yeux\", \"yeux\", \"yeux\", \"yeux\", \"yeux\", \"yeux\"]}, \"R\": 30, \"lambda.step\": 0.01, \"plot.opts\": {\"xlab\": \"PC1\", \"ylab\": \"PC2\"}, \"topic.order\": [9, 8, 13, 14, 3, 1, 11, 2, 4, 7, 10, 6, 12, 15, 5]};\n",
       "\n",
       "function LDAvis_load_lib(url, callback){\n",
       "  var s = document.createElement('script');\n",
       "  s.src = url;\n",
       "  s.async = true;\n",
       "  s.onreadystatechange = s.onload = callback;\n",
       "  s.onerror = function(){console.warn(\"failed to load library \" + url);};\n",
       "  document.getElementsByTagName(\"head\")[0].appendChild(s);\n",
       "}\n",
       "\n",
       "if(typeof(LDAvis) !== \"undefined\"){\n",
       "   // already loaded: just create the visualization\n",
       "   !function(LDAvis){\n",
       "       new LDAvis(\"#\" + \"ldavis_el359301402220635074009191907667\", ldavis_el359301402220635074009191907667_data);\n",
       "   }(LDAvis);\n",
       "}else if(typeof define === \"function\" && define.amd){\n",
       "   // require.js is available: use it to load d3/LDAvis\n",
       "   require.config({paths: {d3: \"https://cdnjs.cloudflare.com/ajax/libs/d3/3.5.5/d3.min\"}});\n",
       "   require([\"d3\"], function(d3){\n",
       "      window.d3 = d3;\n",
       "      LDAvis_load_lib(\"https://cdn.rawgit.com/bmabey/pyLDAvis/files/ldavis.v1.0.0.js\", function(){\n",
       "        new LDAvis(\"#\" + \"ldavis_el359301402220635074009191907667\", ldavis_el359301402220635074009191907667_data);\n",
       "      });\n",
       "    });\n",
       "}else{\n",
       "    // require.js not available: dynamically load d3 & LDAvis\n",
       "    LDAvis_load_lib(\"https://cdnjs.cloudflare.com/ajax/libs/d3/3.5.5/d3.min.js\", function(){\n",
       "         LDAvis_load_lib(\"https://cdn.rawgit.com/bmabey/pyLDAvis/files/ldavis.v1.0.0.js\", function(){\n",
       "                 new LDAvis(\"#\" + \"ldavis_el359301402220635074009191907667\", ldavis_el359301402220635074009191907667_data);\n",
       "            })\n",
       "         });\n",
       "}\n",
       "</script>"
      ],
      "text/plain": [
       "<IPython.core.display.HTML object>"
      ]
     },
     "execution_count": 359,
     "metadata": {},
     "output_type": "execute_result"
    }
   ],
   "source": [
    "pyLDAvis.display(LDAvis_prepared)"
   ]
  },
  {
   "cell_type": "markdown",
   "metadata": {},
   "source": [
    "<span class=\"badge badge-secondary\">(Sievert et al., 2014)</span> Sievert, Carson, and Kenneth Shirley. \"LDAvis: A method for visualizing and interpreting topics.\" Proceedings of the workshop on interactive language learning, visualization, and interfaces. 2014.\n",
    "\n",
    "<span class=\"badge badge-secondary\">(Chuang et al., 2012)</span> Chuang, Jason, Christopher D. Manning, and Jeffrey Heer. \"Termite: Visualization techniques for assessing textual topic models.\" Proceedings of the international working conference on advanced visual interfaces. 2012."
   ]
  },
  {
   "cell_type": "markdown",
   "metadata": {},
   "source": [
    "<div class=\"alert alert-info\" role=\"alert\">\n",
    "    <p><b>Exercice :</b> Faire varier le paramètre Lambda et justifier de son impact.</p>\n",
    "</div>    "
   ]
  },
  {
   "cell_type": "code",
   "execution_count": null,
   "metadata": {},
   "outputs": [],
   "source": []
  },
  {
   "cell_type": "markdown",
   "metadata": {},
   "source": [
    "<div class=\"alert alert-info\" role=\"alert\">\n",
    "    <p><b>Exercice :</b> Faire varier le préprocessing,en particulier la stemmatization. Analyser l'impact sur l'analyse des clusters.</p>\n",
    "</div>    "
   ]
  },
  {
   "cell_type": "code",
   "execution_count": null,
   "metadata": {},
   "outputs": [],
   "source": []
  },
  {
   "cell_type": "markdown",
   "metadata": {},
   "source": [
    "<div class=\"alert alert-info\" role=\"alert\">\n",
    "    <p><b>Exercice :</b> Etudier l'impact des Stop Words sur les topics.</p>\n",
    "</div>    "
   ]
  },
  {
   "cell_type": "code",
   "execution_count": null,
   "metadata": {},
   "outputs": [],
   "source": []
  },
  {
   "cell_type": "code",
   "execution_count": null,
   "metadata": {},
   "outputs": [],
   "source": []
  },
  {
   "cell_type": "markdown",
   "metadata": {},
   "source": [
    "Sources :\n",
    "* https://medium.com/analytics-vidhya/topic-modeling-using-lda-and-gibbs-sampling-explained-49d49b3d1045\n",
    "* https://towardsdatascience.com/light-on-math-machine-learning-intuitive-guide-to-latent-dirichlet-allocation-437c81220158\n",
    "* https://wiki.ubc.ca/Course:CPSC522/Latent_Dirichlet_Allocation\n",
    "* http://www.arbylon.net/publications/text-est2.pdf\n",
    "\n",
    "Icons made by <a href=\"https://www.flaticon.com/authors/freepik\" title=\"Freepik\">Freepik</a> and <a href=\"https://www.flaticon.com/authors/pixel-perfect\" title=\"Pixel perfect\">Pixel perfect</a> from <a href=\"https://www.flaticon.com/\" title=\"Flaticon\"> www.flaticon.com</a>"
   ]
  }
 ],
 "metadata": {
  "kernelspec": {
   "display_name": "Python 3",
   "language": "python",
   "name": "python3"
  },
  "language_info": {
   "codemirror_mode": {
    "name": "ipython",
    "version": 3
   },
   "file_extension": ".py",
   "mimetype": "text/x-python",
   "name": "python",
   "nbconvert_exporter": "python",
   "pygments_lexer": "ipython3",
   "version": "3.6.12"
  }
 },
 "nbformat": 4,
 "nbformat_minor": 4
}
