{
 "cells": [
  {
   "cell_type": "markdown",
   "metadata": {},
   "source": [
    "**Copyright 2021 Antoine SIMOULIN.**\n",
    "\n",
    "<i>Licensed under the Apache License, Version 2.0 (the \"License\");\n",
    "you may not use this file except in compliance with the License.\n",
    "You may obtain a copy of the License at\n",
    "\n",
    "https://www.apache.org/licenses/LICENSE-2.0\n",
    "\n",
    "Unless required by applicable law or agreed to in writing, software\n",
    "distributed under the License is distributed on an \"AS IS\" BASIS,\n",
    "WITHOUT WARRANTIES OR CONDITIONS OF ANY KIND, either express or implied.\n",
    "See the License for the specific language governing permissions and\n",
    "limitations under the License.\n",
    "\n",
    "Icons made by <a href=\"https://www.flaticon.com/authors/freepik\" title=\"Freepik\">Freepik</a>, <a href=\"https://www.flaticon.com/authors/pixel-perfect\" title=\"Pixel perfect\">Pixel perfect</a>, <a href=\"https://www.flaticon.com/authors/becris\" title=\"Becris\">Becris</a>, <a href=\"https://www.flaticon.com/authors/smashicons\" title=\"Smashicons\">Smashicons</a>, <a href=\"https://www.flaticon.com/authors/srip\" title=\"srip\">srip</a>, <a href=\"https://www.flaticon.com/authors/adib-sulthon\" title=\"Adib\">Adib</a>, <a href=\"https://www.flaticon.com/authors/flat-icons\" title=\"Flat Icons\">Flat Icons</a> and <a href=\"https://www.flaticon.com/authors/dinosoftlabs\" title=\"Pixel perfect\">DinosoftLabs</a> from <a href=\"https://www.flaticon.com/\" title=\"Flaticon\"> www.flaticon.com</a></i>"
   ]
  },
  {
   "cell_type": "markdown",
   "metadata": {},
   "source": [
    "# TP2 - Topic Modeling"
   ]
  },
  {
   "cell_type": "markdown",
   "metadata": {},
   "source": [
    "<img src=\"./figures/figure2.png\" width=\"1000\">"
   ]
  },
  {
   "cell_type": "markdown",
   "metadata": {},
   "source": [
    "Le <i>Topic Modeling</i> est une approche statistique qui permet de faire émerger des topics abstraits d'un corpus de documents. \n",
    "Cette approche permet également d'analyser la structure du corpus de documents en regroupant ceux qui présentent des topics similaires puis en analysant ces groupes, ou en analysant les caractéristiques des topics identifiés.\n",
    "\n",
    "La plupart des modèles de <i>Topic Modeling</i> s'appuient sur des hypothèses de modélisations similaires:\n",
    "* Chaque document est modélisé comme une distribution sur les _topics_ ;\n",
    "* Chaque _topic_ est modélisé comme une distribution sur les mots du vocabulaire.\n",
    "\n",
    "On a illustré cette modélisation ci-dessous. Ainsi chaque document est représenté par une distribution sur une variable latente (on dit aussi cachée), les _topics_. Ces derniers ne sont pas \"observés\" : en pratique chaque document est décrit par une distribution sur les mots du vocabulaire. **L'objectif des modèles de _topics_ est donc de caractériser la forme de cette variable latente.** Nous allons voir plusieurs méthodes et modèles proposant cette caractérisation.\n",
    "\n",
    "Ci-dessous, on a illustré l'intuition derrière cette modélisation. Chaque document va contenir plusieurs _topics_, par exemple, les transports et les vacances. On retrouvera donc des mots caractéristiques de ces topic: \"avion\", \"plage\", \"congés\" ... Des documents qui abordent des _topics_ proches contiendront donc un vocabulaire proche. Ainsi chaque _topic_ pourra être caractérisé par des mots saillants qui lui sont spécifiques.\n",
    "\n",
    "\n",
    "\n",
    "<img src=\"https://github.com/AntoineSimoulin/m2-data-sciences/blob/master/TP2%20-%20Text%20Mining/figures/lda-idee.png?raw=true\" width=\"1000\">\n"
   ]
  },
  {
   "cell_type": "code",
   "execution_count": null,
   "metadata": {},
   "outputs": [],
   "source": [
    "%%capture\n",
    "\n",
    "# ⚠️ Execute only if running in Colab\n",
    "if 'google.colab' in str(get_ipython()):\n",
    "  IN_COLAB = True\n",
    "else:\n",
    "  IN_COLAB = False\n",
    "\n",
    "if IN_COLAB:\n",
    "  !pip install -q scikit-learn==0.23.2 nltk==3.5 unidecode pysrt\n",
    "  !pip install --no-deps pyLDAvis==3.3.1\n",
    "  !pip install --no-deps funcy==1.16"
   ]
  },
  {
   "cell_type": "code",
   "execution_count": null,
   "metadata": {},
   "outputs": [],
   "source": [
    "import nltk\n",
    "from nltk.corpus import stopwords\n",
    "from nltk.stem.snowball import FrenchStemmer\n",
    "import numpy as np\n",
    "import os\n",
    "from pyLDAvis import sklearn as sklearn_lda\n",
    "import pickle\n",
    "import pyLDAvis\n",
    "import pysrt\n",
    "import re\n",
    "from sklearn.decomposition import LatentDirichletAllocation as LDA\n",
    "from sklearn.feature_extraction.text import CountVectorizer\n",
    "from spacy.lang.fr.stop_words import STOP_WORDS\n",
    "from tqdm.auto import tqdm\n",
    "import unidecode\n",
    "import urllib.request\n",
    "\n",
    "# IPython automatically reload all changed code\n",
    "%load_ext autoreload\n",
    "%autoreload 2"
   ]
  },
  {
   "cell_type": "code",
   "execution_count": null,
   "metadata": {},
   "outputs": [],
   "source": [
    "# import extrenal modules\n",
    "\n",
    "repo_url = 'https://raw.githubusercontent.com/AntoineSimoulin/m2-data-sciences/master/'\n",
    "for season in range(1, 9):\n",
    "  dir = './data/S{:02d}'.format(season)\n",
    "  if not os.path.exists(dir):\n",
    "    os.makedirs(dir)\n",
    "    for episode in range(1, 11):\n",
    "      try:\n",
    "        _ = urllib.request.urlretrieve(\n",
    "            repo_url + 'TP2%20-%20Text%20Mining/sous-titres-got/S{:02d}/E{:02d}.srt'.format(season, episode), \n",
    "            './data/S{:02d}/E{:02d}.srt'.format(season, episode))\n",
    "      except:\n",
    "        pass"
   ]
  },
  {
   "cell_type": "markdown",
   "metadata": {},
   "source": [
    "## Latent Semantic Analysis (LSA)"
   ]
  },
  {
   "cell_type": "markdown",
   "metadata": {},
   "source": [
    "Le modèle Latent Semantic Analysis (LSA) ([Landauer & Dumais, 1997](#landauer-dumais-1997)) cherche à décomposer la matrice de décomposition des documents selon le vocabulaire en deux matrices : une matrice de décomposition des documents selon les topics et une matrice de distribution des topics selon les mots du vocabulaires.\n",
    "\n",
    "On commencer donc par représenter les documents selon une distribution sur le vocabulaire. Pour cela on utilise le Tf-Idf qui permet de représenter chaque document du corpus comme une distribution sur le vocabulaire, en pratique, un vecteur de la taille du vocabulaire. On peut donc représenter le corpus comme une matrice de taille $(M, V)$ avec $M$ le nombre de documents dans le corpus et $V$ la taille du vocabulaire. Cette représentation est illustrée ci-dessous. \n",
    "\n",
    "<img src=\"https://github.com/AntoineSimoulin/m2-data-sciences/blob/master/TP2%20-%20Text%20Mining/figures/bow.png?raw=true\" width=\"500\">\n",
    "\n",
    "On va ensuite décomposer la matrice en utilisant **décomposition en valeurs singulières** (en anglais Singular Value Decomposition, [SVD](https://en.wikipedia.org/wiki/Singular_value_decomposition)). On peut interpréter la SVD comme la généralisation de la diagonalisation d'une matrice normale a des matrices arbitraires. Ainsi une matrice $A$ de taille $n \\times m$ peut être factorisée sous la forme $A = U \\Sigma V^T$, avec $U$ et $V$ des matrices orthogonales de tailles respectives $m \\times m$ et $n \\times n$ et $\\Sigma$ une martice rectangulaire diagonale de taille $m \\times n$. \n",
    "\n",
    "En pratique, il est peu commun de décomposer complétement la matrice, on utilise plutôt la <a href=\"https://en.wikipedia.org/wiki/Singular_value_decomposition#Truncated_SVD\"><i>Trucated Singular Value Decomposition</i></a> qui permet de ne calculer que les $t$ premières valeurs singulières. Dans ce cas, on ne considère que les $t$ premières colonnes de la matrice $U$ et les $t$ premières lignes de la matrice $V$. On a ainsi :\n",
    "\n",
    "$$A_t = U_t \\Sigma_t V_t^T$$\n",
    "\n",
    "Avec $U_t$ de taille $m \\times t$ et $V_t$ de taille $n \\times t$. Cette décomposition est illustrée ci-dessous.\n",
    "\n",
    "<img src=\"https://github.com/AntoineSimoulin/m2-data-sciences/blob/master/TP2%20-%20Text%20Mining/figures/svd-formule.png?raw=true\" width=\"500\">\n",
    "\n",
    "On illustre ci-dessous l'application de la décomposition à notre matrice Tf-Idf. La matrice $U_t$ apparait comme la matrice <i>document-topic</i> qui définit chaque document comme une distribution de topic. La matrice $V_t$ apparait comme la matrice <i>terme-topic</i> qui définit chaque topic comme une distribution sur le vocabulaire.\n",
    "\n",
    "<img src=\"https://github.com/AntoineSimoulin/m2-data-sciences/blob/master/TP2%20-%20Text%20Mining/figures/svd-illustration.png?raw=true\" width=\"500\">\n",
    "\n",
    "On peut aussi interpréter le <i>Topic Modeling</i> comme une approche de réduction de dimension. En effet, la matrice Tf-Idf a plusieurs défauts : Elle est de grande dimension (la taille du vocabulaire), elle est _sparse_ _i.e._ beaucoup d'entrées sont à zéro, elle est très bruitée et les information sont redondantes selon plusieurs dimensions. La décomposition permet ainsi de la factoriser. Les deux matrices résultantes permetent d'utiliser la similarité cosinus pour comparer simplement des doccuments ou des mots."
   ]
  },
  {
   "cell_type": "code",
   "execution_count": null,
   "metadata": {},
   "outputs": [],
   "source": [
    "from sklearn.feature_extraction.text import TfidfVectorizer\n",
    "from sklearn.decomposition import TruncatedSVD\n",
    "from sklearn.pipeline import Pipeline\n",
    "documents = [\"doc1.txt\", \"doc2.txt\", \"doc3.txt\"] \n",
    "  \n",
    "# raw documents to tf-idf matrix: \n",
    "vectorizer = TfidfVectorizer(stop_words='english', \n",
    "                             use_idf=True, \n",
    "                             smooth_idf=True)\n",
    "# SVD to reduce dimensionality: \n",
    "svd_model = TruncatedSVD(n_components=100,         // num dimensions\n",
    "                         algorithm='randomized',\n",
    "                         n_iter=10)\n",
    "# pipeline of tf-idf + SVD, fit to and applied to documents:\n",
    "svd_transformer = Pipeline([('tfidf', vectorizer), \n",
    "                            ('svd', svd_model)])\n",
    "svd_matrix = svd_transformer.fit_transform(documents)\n",
    "\n",
    "# svd_matrix can later be used to compare documents, compare words, or compare queries with documents"
   ]
  },
  {
   "cell_type": "markdown",
   "metadata": {},
   "source": [
    "## Probabilistic Latent Semantic Analysis (pLSA)"
   ]
  },
  {
   "cell_type": "markdown",
   "metadata": {},
   "source": [
    "La LSA est une méthode très efficace. Néanmoins en pratique, les topics résultants sont parfois difficiles à interpréter. \n",
    "La méthode nécessite un corpus important pour obtenir des résultats pertinents.\n",
    "\n",
    "<img src=\"https://github.com/AntoineSimoulin/m2-data-sciences/blob/master/TP2%20-%20Text%20Mining/figures/plda_principe.png?raw=true\" width=\"500\">\n",
    "\n",
    "La methode de Probabilistic Latent Semantic Analysis (pLSA) remplace ainsi la SVD par une approche probabiliste.\n",
    "Il s'agit d'un modèle **génératif**, qui permet de générer les documents que l'on observe. \n",
    "En pratique il permet de générer la matrice Bag-of-words qui représente le corpus. Le modèle ne tient donc pas compte de l'ordre des mots.\n",
    "\n",
    "<img src=\"https://github.com/AntoineSimoulin/m2-data-sciences/blob/master/TP2%20-%20Text%20Mining/figures/plda.png?raw=true\" width=\"500\">\n",
    "\n",
    "Le fonctionnement du modèle est détaillé selon la représentation graphique suivante :\n",
    "* Etant donné un document $d$, un topic $z$ est présent dans le document avec une probabilité $P(z|d)$. \n",
    "* Etant donné un topic $z$, un mot est généré selon la probabilité conditionnelle $P(w|z)$.\n",
    "\n",
    "La probabilité jointe d'observer un mot dans un document s'exprime donc :\n",
    "\n",
    "$$P(D,W)=P(D)\\sum_ZP(Z|D)P(W|Z)$$\n",
    "\n",
    "Ici, $P(D)$, $P(Z|D)$ et $P(W|Z)$ sont des paramètres du modèle. $P(D)$ peut être  calculé directement à partir du corpus.\n",
    "$P(Z|D)$ et $P(W|Z)$ sont modélisés par des distributions multinomiales qui peuvent être entrainés par la méthode [EM](https://en.wikipedia.org/wiki/Expectation%E2%80%93maximization_algorithm).\n",
    "\n",
    "En pratique, on apprend donc les paramètres de notre modèles qui permetent d'expliquer qu mieux le corpus observé comme illustré ci-dessous.\n",
    "\n",
    "<img src=\"https://github.com/AntoineSimoulin/m2-data-sciences/blob/master/TP2%20-%20Text%20Mining/figures/plsa_inference.png?raw=true\" width=\"500\">\n"
   ]
  },
  {
   "cell_type": "markdown",
   "metadata": {},
   "source": [
    "## Latent Dirichlet Allocation (LDA)\n",
    "\n",
    "La Latent Dirichlet Allocation (LDA) <span class=\"badge badge-secondary\">(Blei et al., 2001)</span> est une méthode de <b>topic modelling</b>. C'est l'une des méthodes les plus utilisées dans ce domaine. La LDA prend en input une collection de documents et cherche à identifier les topics ou thèmes spécifiques dans l'ensemble du corpus.\n",
    "\n",
    "<span class=\"badge badge-secondary\">(Blei et al., 2001)</span> David M. Blei, Andrew Y. Ng, Michael I. Jordan: Latent Dirichlet Allocation. NIPS 2001: 601-608\n",
    "\n",
    "Par exemple, on peut considérer le corpus suivant :"
   ]
  },
  {
   "cell_type": "code",
   "execution_count": 1,
   "metadata": {},
   "outputs": [],
   "source": [
    "corpus = [\n",
    "    \"Nous avons pris l'avion pour aller en vacances.\",\n",
    "    \"J'ai fait de la plongée en vacances.\"\n",
    "    \"Nous avons joué au foot hier matin.\",\n",
    "    \"J'ai pris le taxi.\",\n",
    "]"
   ]
  },
  {
   "cell_type": "code",
   "execution_count": 2,
   "metadata": {},
   "outputs": [],
   "source": [
    "n_documents = len(corpus)"
   ]
  },
  {
   "cell_type": "markdown",
   "metadata": {},
   "source": [
    "L'objectif est d'identifier les thèmes ou <i>topics</i> qui correspondent à chaque phrase. Ici, on pourrait considérer des thèmes commes les <i>vacances</i>, le <i>sport</i> ou encore les <i>moyens de transports</i>.\n",
    "\n",
    "La LDA est un modèle <b>génératif</b> qui cherche à expliquer une observation (ici le corpus) en s'appuyant sur des variables latentes (les topics). En plus de l'exploration de thèmes, ce type de modèle peut être utilisé pour des tâches non supervisées, en particulier le clustering.\n",
    "\n",
    "La LDA décrit chaque document comme une distribution de **topics**, eux mêmes caractérisés par une **distribution de mots**. En pratique, on va introduire une **variable latente** et exprimer chaque document comme une distribution de cette variable. Cette variable sera elle même décrite comme une distribution sur le vocabulaire comme décrit ci-dessous. Ainsi chaque topic n'est pas décrit explicitement. Il doit être interprété en fonction de sa distribution sur les mots du vocabulaire.\n",
    "\n",
    "<img src=\"https://github.com/AntoineSimoulin/m2-data-sciences/blob/master/TP2%20-%20Text%20Mining/figures/lda-idee.png?raw=true\" width=\"1000\">\n",
    "\n"
   ]
  },
  {
   "cell_type": "code",
   "execution_count": 4,
   "metadata": {},
   "outputs": [
    {
     "name": "stdout",
     "output_type": "stream",
     "text": [
      "20\n"
     ]
    }
   ],
   "source": [
    "vectorizer = CountVectorizer()\n",
    "\n",
    "vectorizer.fit(corpus)\n",
    "\n",
    "w2idx = {w: i for (i, w) in enumerate(vectorizer.get_feature_names())}\n",
    "idx2w = {i: w for (i, w) in enumerate(vectorizer.get_feature_names())}\n",
    "\n",
    "print(len(w2idx))"
   ]
  },
  {
   "cell_type": "code",
   "execution_count": 5,
   "metadata": {},
   "outputs": [],
   "source": [
    "tokenizer = vectorizer.build_tokenizer()"
   ]
  },
  {
   "cell_type": "code",
   "execution_count": 6,
   "metadata": {},
   "outputs": [
    {
     "name": "stdout",
     "output_type": "stream",
     "text": [
      "['nous', 'avons', 'pris', 'avion', 'pour', 'aller', 'en', 'vacances']\n",
      "['ai', 'fait', 'de', 'la', 'plongée', 'en', 'vacances', 'nous', 'avons', 'joué', 'au', 'foot', 'hier', 'matin']\n",
      "['ai', 'pris', 'le', 'taxi']\n"
     ]
    }
   ],
   "source": [
    "corpus = [[t.lower() for t in tokenizer(d)] for d in corpus]\n",
    "for document in corpus:\n",
    "    print(document)"
   ]
  },
  {
   "cell_type": "code",
   "execution_count": 7,
   "metadata": {},
   "outputs": [
    {
     "name": "stdout",
     "output_type": "stream",
     "text": [
      "20\n"
     ]
    }
   ],
   "source": [
    "vocab_size = len(vectorizer.get_feature_names())\n",
    "print(vocab_size)"
   ]
  },
  {
   "cell_type": "code",
   "execution_count": 8,
   "metadata": {},
   "outputs": [
    {
     "name": "stdout",
     "output_type": "stream",
     "text": [
      "matrice d'occurence :\n",
      "[[0 1 0 1 1 0 1 0 0 0 0 0 0 0 1 0 1 1 0 1]\n",
      " [1 0 1 0 1 1 1 1 1 1 1 1 0 1 1 1 0 0 0 1]\n",
      " [1 0 0 0 0 0 0 0 0 0 0 0 1 0 0 0 0 1 1 0]]\n"
     ]
    }
   ],
   "source": [
    "print(\"matrice d'occurence :\")\n",
    "\n",
    "n = np.zeros((len(corpus), vocab_size), dtype=int)\n",
    "for (document_idx, document) in enumerate(corpus):\n",
    "    words_idx, words_freq = np.unique(document, return_counts=True)\n",
    "    for (w, f) in zip(words_idx, words_freq):\n",
    "        n[document_idx][w2idx[w]] = f\n",
    "print(n)"
   ]
  },
  {
   "cell_type": "markdown",
   "metadata": {},
   "source": [
    "## 1. Modélisation"
   ]
  },
  {
   "cell_type": "markdown",
   "metadata": {},
   "source": [
    "La séance précédente, on a vu que l'on pouvait représenter les documents comme une distribution sur les mots. Les paramètres de cette distribution peuvent être calculés simplement en utilisant la fréquence des mots dans le document (le modèle Bag-Of-Word) ou alors en pondérant les mots en fonction de leur fréquence dans l'ensemble du corpus (modèle TF-IDF).\n",
    "\n",
    "<img src=\"https://github.com/AntoineSimoulin/m2-data-sciences/blob/master/TP2%20-%20Text%20Mining/figures/bow.png?raw=true\" width=\"500\">"
   ]
  },
  {
   "cell_type": "markdown",
   "metadata": {},
   "source": [
    "### Les modèles génératifs\n",
    "\n",
    "La LDA est un modèle de probabilité génératif. Les modèles génératifs sont générallement développés suivant les 3 étapes suivantes :\n",
    "\n",
    "1. **Observations** Les données sont considérées comme des observations générées par le modèle. La notion de données inclue les variables latentes. Ces dernières représentent la structure thématique du corpus.\n",
    "2. **Apprentissage** On met à jour les variables du modèle en utilisant l'inférence à postériori\n",
    "3. **Inférence** On peut utiliser le modèle pour situer de nouvelles de données dans la structure de topics apprise."
   ]
  },
  {
   "cell_type": "markdown",
   "metadata": {},
   "source": [
    "L'originalité de la LDA réside dans sa modélisation de chaque document comme une distribution de topics. La plupart des modèles considérant que tous les mots d'un document sont issus du même topic. Ainsi chaque document peut être rattaché à plusieurs topics. Dans notre corpus exemple, la LDA pourrait générer une distribution du type :\n",
    "\n",
    "* Document 1 : 50% Topic \"Transports\" + 50% Topic \"Voyages\"\n",
    "* Document 2 : 50% Topic \"Sports\" + 50% Topic \"Voyages\"\n",
    "* Document 3 : 100% Topic \"Sports\"\n",
    "* Document 4 : 100% Topic \"Transports\"\n",
    "\n",
    "<img src=\"https://github.com/AntoineSimoulin/m2-data-sciences/blob/master/TP2%20-%20Text%20Mining/figures/lda2.png?raw=true\" width=\"1000\">"
   ]
  },
  {
   "cell_type": "markdown",
   "metadata": {},
   "source": [
    "### Notations\n",
    "\n",
    "Les modèles graphiques représentent les variables aléatoies comme des noeuds. Les arcs entre les noeuds indiquent les variables potentiellement dépendantes. Les variables observées sont grisées. Dans la figure ci-dessous, les noeuds $ X_{1,...,N}$ sont observés alors que le noeud $Y$ est une variable latente. Dans cet exemple, les variables observées dépendent de cette variable latente. Les rectangles synthétisent la réplication de plusieurs structures. Un rectangle résume donc plusieurs variables $X_n$ avec $n \\in N$.\n",
    "\n",
    "La structure du graph définie les dépendances conditionnelles entre l'ensemble des variables. Par exemple dans le graph ci-dessous, on a $p(Y,X_{1},...,X_{N})=p(Y)\\prod _{n=1}^{N}p(X_{n}|Y)$.\n",
    "\n",
    "<img src=\"./figures/graphical_model.png\" width=\"500\">"
   ]
  },
  {
   "cell_type": "markdown",
   "metadata": {},
   "source": [
    "### La distribution de Dirichlet\n",
    "\n",
    "La distribution de Dirichlet est généralement notée $Dir(\\alpha)$. Il s'agit d'une famille de lois de probabilités continues pour des variables aléatoires multinomiales. Cette loi (ou encore distribution) est paramétrée par le vecteur ${\\bf \\alpha}$ de nombres réels positifs. La taille du vecteur ${\\bf \\alpha}$ indique la dimension de la distribution. Ce type de distribution est souvent utilisée comme distribution à priori dans les modèles Bayésiens. Sans rentrer dans les détails, voici quelques caraactéristiques de la distribution de Dirichlet :\n",
    "\n",
    "* La distribution est définie sur un simplex de vecteurs positifs dont la somme est égale à 1 \n",
    "* Sa densité est caractérisée par : $P(\\theta |{\\overrightarrow {\\alpha }})={\\frac {\\Gamma (\\Sigma _{i}\\alpha _{i})f}{\\Pi _{i}\\Gamma (\\alpha _{i})}}\\Pi _{i}\\theta _{i}^{\\alpha _{i}-1}$\n",
    "* En pratique, si toutes les dimensions de ${\\bf \\alpha}$ ont des valeurs similaires, la distribution est plus étalée. Elle devient plus concentrée pour des valeurs plus importantes de ${\\bf \\alpha}$.\n",
    "\n",
    "La distribution est illustrée ci-dessous pour des valeurs ${\\bf \\alpha}$ qui varient entre (6, 2, 2), (3, 7, 5), (6, 2, 6), (2, 3, 4).\n",
    "\n",
    "<img src=\"./figures/dirichlet.png\" width=\"500\">"
   ]
  },
  {
   "cell_type": "markdown",
   "metadata": {},
   "source": [
    "On utilise les notations suivantes :\n",
    "\n",
    "* Les mots sont l'unité de base des données. Ils sont définis comme un élément d'un vocabulaire indexé par ${1,...,V}$. On représent chaque mot en utilisant des vecteurs one-hot dont toutes les composantes sont 0, sauf pour la composante qui correspond à l'index du mot, qui vaut 1.\n",
    "* Un document est une séquence de $N$ mots telle que $W=(w_{1},w_{2},...,w_{N})$ avec $w_{n}$ le $n$th mot de la séquence.\n",
    "* Un corpus est un ensemble de $M$ documents tels que $D=\\lbrace W_{1},W_{2},...,W_{M}\\rbrace$."
   ]
  },
  {
   "cell_type": "markdown",
   "metadata": {},
   "source": [
    "### Le principe de la LDA\n",
    "\n",
    "La LDA est un modèle génératif. L'idée de base est que chaque document est représenté comme une distribution sur $k$ topics latents. Chaque topic est caractérisé par une distribution sur les mots. On appelle $\\beta$ la matrice de dimension $k*V$ qui représente la distribution des mots sur les $k$ topics. On a ainsi $\\beta _{ij}=p(w_{j}=1|z_{i}=1)$.\n",
    "\n",
    "La LDA suppose le procéssus génératif suivant pour chaque document $W$ dans le corpus $D$.\n",
    "\n",
    "\n",
    "> 1. On choisit $\\theta \\sim Dir(\\alpha )$\n",
    "> 2. Pour chaque document dans le corpus:\n",
    ">     * Pour chacun des $N$ mots $w_{n}$ dans le document :\n",
    ">        * on génère un topic $z_{n}\\sim Multinomial(\\theta )$\n",
    ">        * on génère un mot $w_{n}$ $p(w_{n}|z_{n},B)$ selon une loi multinimoale conditionnée par le topic $z_{n}$.\n",
    "\n",
    "\n",
    "Une variable aléatoire suivant une loi de dirichlet de dimension $k$ peut prendre des valeurs dans le $k-1$-simplex. Cet espace désigne les vecteurs $\\theta$ de dimension $k$ tels que $\\theta _{i}\\geq 0$ et $\\sum _{i=1}^{k}\\theta _{i}=1$\n",
    "\n",
    "Etant donné $\\alpha$ et $\\beta$, la probabilité jointe de $\\theta$, un ensemble de $K$ topics $Z$ et un ensemble de $N$ mots est donnée par : $$p(\\theta ,Z,W|\\alpha ,\\beta )=p(\\theta |\\alpha )\\prod _{n=1}^{N}p(z_{n}|\\theta )p(w_{n}|z_{n},\\beta ),$$\n",
    "\n",
    "Avec $p(z_{n}|\\theta )$ qui représente $\\theta _{i}$ pour chaque $i$ tel que $z_{i}^{n}=1$.\n",
    "\n",
    "On peut obtenir la distribution marginale du document en itérant sur les $\\theta$ et en sommant sur les $z$:\n",
    "\n",
    "$$p(W|\\alpha ,\\beta )=\\int p(\\theta |\\alpha ){\\big (}\\prod _{n=1}^{N}\\Sigma _{z_{n}}p(z_{n}|\\theta )p(w_{n}|z_{n},\\beta {\\big )}d\\theta$$\n",
    "\n",
    "Finalement, en prenant le produit des probabilitées marginales sur un chaque document, on obtient la probabilité du corpus :\n",
    "\n",
    "\n",
    "$$p(D|\\alpha ,\\beta )=\\prod _{d=1}^{M}\\int p(\\theta _{d}|\\alpha ){\\big (}\\prod _{n=1}^{N_{d}}\\Sigma _{z_{dn}}p(z_{dn}|\\theta _{d})p(w_{dn}|z_{dn},\\beta ){\\big )}d\\theta _{d}$$\n",
    "\n",
    "La représentation garphique du modèle est proposée ci-dessous.\n",
    "\n",
    "<img src=\"./figures/lda_graph.png\" width=\"700\">"
   ]
  },
  {
   "cell_type": "markdown",
   "metadata": {},
   "source": [
    "Avec les notations suivantes :\n",
    "* k — Le nombre de topics qui caractérisent un document\n",
    "* V — La taille du vocabulaire\n",
    "* M — Le nombre de documents\n",
    "* N — Le nombre de mots dans chaque document\n",
    "* w — Un mot dans un document représenté par un vecteur one-hot de taille V\n",
    "* **w** — Représentation d'un document, i.e. une collection de N vecteurs w de mots\n",
    "* D — Le corpus, i.e. une collection de M documents\n",
    "* z — Un topic parmi k. Un topic correspond à une distribution de mots. Par exemple, voyage = (0.3 avion, 0.4 plongée, 0.2 vacances)"
   ]
  },
  {
   "cell_type": "markdown",
   "metadata": {},
   "source": [
    "## 2. Apprendre les paramètres du modèle"
   ]
  },
  {
   "cell_type": "markdown",
   "metadata": {},
   "source": [
    "Ce modèle permet d'expliquer comment le corpus a été généré. Néanmoins en pratique on n'observe pas toutes les variables du modèle mais seulement la distribution des mots. En pratique on va \"inverser\" le modèle pour estimer les paramètres. Ce processus est appelé inférence à posteriori.\n",
    "\n",
    "On dispose d'un corpus de documents. On a fixé un nombre $k$ de topics. Pour apprendre la représentation des topics et des documents, il existe deux méthodes principales :\n",
    "\n",
    "* Le sampling de Gibbs\n",
    "* L'inférence variationelle\n",
    "\n",
    "Nous allons détailler le procéssus du sampling de Gibbs sur notre jeu de données exemple puis utiliser la librarie `sklearn` qui repose sur l'inférence variationelle pour expérimenter sur un jeu de données plus conséquent."
   ]
  },
  {
   "cell_type": "code",
   "execution_count": 10,
   "metadata": {},
   "outputs": [],
   "source": [
    "n_topics = 3"
   ]
  },
  {
   "cell_type": "markdown",
   "metadata": {},
   "source": [
    "### Le Sampling de Gibbs"
   ]
  },
  {
   "cell_type": "markdown",
   "metadata": {},
   "source": [
    "Pour fixer les paramètres des matrices, on cherche à maximiser la vraisemblance de nos données selon ce modèle. On utilise pour cela l'algorthime de **sampling de Gibbs**. Le sampling de Gibbs est un algorithme qui permet de sélectionner des distributions conditionelles dont la distribution des états converge vers la vraie distribution à terme. En pratique, on va mettre à jour itérativement les matrices $\\Theta$ et $\\beta$ pour maximiser la vraisemblance de nos données. Les itérations s'effectuent mot par mot en ajustant le topic assigné à chaque mot.  On fait l'hypothèse que l'on ne connait pas le topic assigné à chaque mot mais qu'on connait la correpondance de topic pour tous les autres mots dans le texte et on cherche à inférer le topic à assigner pour ce mot.\n",
    "\n",
    "\n",
    "D'un point de vue mathématique, on cherche la probabilité conditionnelle pour chaque mot d'être assigné à un topic, étant donné l'attribution des autres topics. On peut montrer que peut s'écrire :\n",
    "\n",
    "$$P(z_{i,d}=k|z_{:,d},w,\\alpha,\\beta) \\propto \\frac{n_{d,k}+\\beta_k}{\\sum_i^Kn_{d,i}+\\beta_i}v_{k,w_{d,n}}+\\alpha_{w_{d,n}}$$\n",
    "\n",
    "Avec :\n",
    "* $n_{d,k}$ : le nombre de fois ou le document $d$ utilise le topic $k$\n",
    "* $v_{k,w}$ : le nombre de fois ou le topic $k$ utilise le mot $w$\n",
    "* $\\alpha_k$ : le paramètre de dirichlet pour la distribution de topics par documents\n",
    "* $\\lambda_w$ : Le paramètre de dirichlet pour la distribution des mots par topic\n",
    "\n",
    "Il y a deux parties dans cette équation. D'abord on évalue la proportion de chaque topic dans un document. Puis on réparti l'attention des topics pour chaque mot. Les paramètres de dirichlet permette de régulariser quand $n_{d,k}$ ou $v_{k,w}$ sont trop proches de 0 et qu'il y a peu de chance qu'un mot choisise un topic."
   ]
  },
  {
   "cell_type": "code",
   "execution_count": 11,
   "metadata": {},
   "outputs": [
    {
     "name": "stdout",
     "output_type": "stream",
     "text": [
      "assignation de topic aléatoire pour le premier document\n",
      "      nous -> TOPIC 1\n",
      "     avons -> TOPIC 1\n",
      "      pris -> TOPIC 2\n",
      "     avion -> TOPIC 1\n",
      "      pour -> TOPIC 2\n",
      "     aller -> TOPIC 2\n",
      "        en -> TOPIC 0\n",
      "  vacances -> TOPIC 1\n",
      "matrices d'assignation des topics :\n"
     ]
    },
    {
     "data": {
      "text/plain": [
       "[[1, 1, 2, 1, 2, 2, 0, 1],\n",
       " [1, 0, 2, 2, 2, 2, 2, 1, 1, 1, 1, 1, 2, 1],\n",
       " [2, 2, 1, 2]]"
      ]
     },
     "execution_count": 11,
     "metadata": {},
     "output_type": "execute_result"
    }
   ],
   "source": [
    "#  1. Pour chaque document et chaque mot, assigner un topic initial au hasard\n",
    "\n",
    "words_topic = [[np.random.randint(n_topics) for _ in range(len(d))] for d in corpus]\n",
    "\n",
    "print(\"assignation de topic aléatoire pour le premier document\")\n",
    "for (w, t) in zip(corpus[0], words_topic[0]):\n",
    "    print(\"{:>10} -> TOPIC {:1}\".format(w, t))\n",
    "    \n",
    "print(\"matrices d'assignation des topics :\")\n",
    "words_topic"
   ]
  },
  {
   "cell_type": "markdown",
   "metadata": {},
   "source": [
    "* $n_{d,k}$ : le nombre de fois ou le document $d$ utilise le topic $k$\n",
    "* $v_{k,w}$ : le nombre de fois ou le topic $k$ utilise le mot $w$"
   ]
  },
  {
   "cell_type": "code",
   "execution_count": 12,
   "metadata": {},
   "outputs": [
    {
     "name": "stdout",
     "output_type": "stream",
     "text": [
      "Le nombre de fois ou le document  𝑑  utilise le topic  𝑘 :\n",
      "[[1 4 3]\n",
      " [1 7 6]\n",
      " [0 1 3]] \n",
      "\n",
      "Le nombre de fois ou le topic  𝑘  utilise le mot  𝑤 :\n",
      "[[0 0 0 0 0 0 1 1 0 0 0 0 0 0 0 0 0 0 0 0 0]\n",
      " [1 0 1 1 2 0 0 0 1 0 1 0 1 1 2 0 0 0 0 1 0]\n",
      " [1 1 0 0 0 1 1 0 0 1 0 1 0 0 0 1 1 2 1 1 0]]\n"
     ]
    }
   ],
   "source": [
    "# 2. Etant donné cette distribution de topic, calculer la distribution des documents\n",
    "#    en fonction des topics et des topics en fonction des mots\n",
    "\n",
    "document_topic_counts = np.zeros((len(corpus), n_topics), dtype=int)\n",
    "for (doc_idx, topics) in enumerate(words_topic):\n",
    "    topics, topics_freq = np.unique(topics, return_counts=True)\n",
    "    for (t, f) in zip(topics, topics_freq):\n",
    "        document_topic_counts[doc_idx][t] = f\n",
    "print(\"Le nombre de fois ou le document  𝑑  utilise le topic  𝑘 :\")\n",
    "print(document_topic_counts, '\\n')\n",
    "\n",
    "topic_word_counts = np.zeros((n_topics, vocab_size + 1), dtype=int)\n",
    "for (topics, document) in zip(words_topic, corpus):\n",
    "    for (t, w_idx) in zip(topics, document):\n",
    "        topic_word_counts[t][w2idx[w_idx]] += 1\n",
    "print(\"Le nombre de fois ou le topic  𝑘  utilise le mot  𝑤 :\")\n",
    "print(topic_word_counts)"
   ]
  },
  {
   "cell_type": "code",
   "execution_count": 13,
   "metadata": {},
   "outputs": [
    {
     "data": {
      "text/plain": [
       "array([ 2, 12, 12])"
      ]
     },
     "execution_count": 13,
     "metadata": {},
     "output_type": "execute_result"
    }
   ],
   "source": [
    "# nombre de mots pour chaque topic:\n",
    "np.sum(topic_word_counts, 1)"
   ]
  },
  {
   "cell_type": "code",
   "execution_count": 14,
   "metadata": {},
   "outputs": [],
   "source": [
    "# 3. Pour affiner les distributions définies précédemments on va itérer sur l'ensemble des documents\n",
    "#    3.1 Pour chaque mot de chaque document :\n",
    "#        On calcule la probabilité conditionnelle du mot d'être assigné à un topic en utilisant la formule ci-dessus\n",
    "#        suivant cette probabilité, on réassigne le topic du mot considéré.\n",
    "#        En fait, on considère ici que seul la probabilité du mot considéré est à ajuster et que toutes les autres sont correctes.\n",
    "#        Cette version de l'algorithme est assez simplifié pour mieux comprendre le procéssus.\n",
    "\n",
    "eta = 0.01\n",
    "alpha = 50.\n",
    "\n",
    "\n",
    "for (doc_idx, doc) in enumerate(corpus):\n",
    "    for (w_idx, w) in enumerate(doc):\n",
    "        \n",
    "        \n",
    "        current_topic = words_topic[doc_idx][w_idx]\n",
    "        \n",
    "        # Mise à jour des matrices de fréquences\n",
    "        document_topic_counts[doc_idx, current_topic] -= 1\n",
    "        topic_word_counts[current_topic, w2idx[w]] -= 1\n",
    "        \n",
    "        # Change le topic\n",
    "        topic_distribution = (topic_word_counts[:, w2idx[w]] + eta) * \\\n",
    "            (document_topic_counts[doc_idx, :] + alpha) / \\\n",
    "            (np.sum(topic_word_counts, 1) + 1e-12)\n",
    "\n",
    "        new_topic = np.random.multinomial(1, topic_distribution / topic_distribution.sum()).argmax()\n",
    "        \n",
    "        # Mise à jour des matrices de fréquences\n",
    "        document_topic_counts[doc_idx][new_topic] += 1\n",
    "        topic_word_counts[new_topic, w2idx[w]] += 1\n",
    "        words_topic[doc_idx][w_idx] = new_topic"
   ]
  },
  {
   "cell_type": "code",
   "execution_count": 15,
   "metadata": {},
   "outputs": [
    {
     "data": {
      "text/plain": [
       "array([[2, 2, 4],\n",
       "       [4, 6, 4],\n",
       "       [0, 0, 4]])"
      ]
     },
     "execution_count": 15,
     "metadata": {},
     "output_type": "execute_result"
    }
   ],
   "source": [
    "document_topic_counts"
   ]
  },
  {
   "cell_type": "code",
   "execution_count": 16,
   "metadata": {},
   "outputs": [
    {
     "data": {
      "text/plain": [
       "array([[0, 1, 1, 1, 0, 1, 0, 1, 0, 0, 0, 0, 0, 1, 0, 0, 0, 0, 0, 0, 0],\n",
       "       [0, 0, 0, 0, 2, 0, 0, 0, 0, 1, 1, 1, 0, 0, 2, 1, 0, 0, 0, 0, 0],\n",
       "       [2, 0, 0, 0, 0, 0, 2, 0, 1, 0, 0, 0, 1, 0, 0, 0, 1, 2, 1, 2, 0]])"
      ]
     },
     "execution_count": 16,
     "metadata": {},
     "output_type": "execute_result"
    }
   ],
   "source": [
    "topic_word_counts"
   ]
  },
  {
   "cell_type": "code",
   "execution_count": 17,
   "metadata": {},
   "outputs": [],
   "source": [
    "# 4. On va répéter cette transformation un certain nombre de fois afin de faire converger la distribution\n",
    "#    des topics\n",
    "\n",
    "n_iters = 10\n",
    "\n",
    "for _ in range(n_iters):\n",
    "    for (doc_idx, doc) in enumerate(corpus):\n",
    "        for (w_idx, w) in enumerate(doc):\n",
    "\n",
    "\n",
    "            current_topic = words_topic[doc_idx][w_idx]\n",
    "\n",
    "            # Mise à jour des matrices de fréquences\n",
    "            document_topic_counts[doc_idx, current_topic] -= 1\n",
    "            topic_word_counts[current_topic, w2idx[w]] -= 1\n",
    "\n",
    "            # Change le topic\n",
    "            topic_distribution = (topic_word_counts[:, w2idx[w]] + eta) * \\\n",
    "                (document_topic_counts[doc_idx, :] + alpha) / \\\n",
    "                (np.sum(topic_word_counts, 1) + 1e-12)\n",
    "\n",
    "            new_topic = np.random.multinomial(1, topic_distribution / topic_distribution.sum()).argmax()\n",
    "\n",
    "            # Mise à jour des matrices de fréquences\n",
    "            document_topic_counts[doc_idx][new_topic] += 1\n",
    "            topic_word_counts[new_topic, w2idx[w]] += 1\n",
    "            words_topic[doc_idx][w_idx] = new_topic"
   ]
  },
  {
   "cell_type": "code",
   "execution_count": 18,
   "metadata": {},
   "outputs": [
    {
     "data": {
      "text/plain": [
       "array([[3, 4, 1],\n",
       "       [7, 2, 5],\n",
       "       [1, 1, 2]])"
      ]
     },
     "execution_count": 18,
     "metadata": {},
     "output_type": "execute_result"
    }
   ],
   "source": [
    "document_topic_counts"
   ]
  },
  {
   "cell_type": "markdown",
   "metadata": {},
   "source": [
    "Finalement on peut évaluer les matrices $\\Theta$ et $\\beta$ selon les formules suivantes :\n",
    "\n",
    "$$\\Theta_{k,t} = \\frac{n_{d,k}+\\eta_k}{\\sum_i^Kn_{d,i}+\\eta_k}$$\n",
    "\n",
    "$$\\beta_{m,k} = \\frac{v_{k}+\\alpha_k}{\\sum_i^Kn_{d,i}+\\alpha_k}$$\n"
   ]
  },
  {
   "cell_type": "code",
   "execution_count": 19,
   "metadata": {},
   "outputs": [],
   "source": [
    "beta = (topic_word_counts + alpha) / (np.sum(topic_word_counts, 0) + alpha)"
   ]
  },
  {
   "cell_type": "code",
   "execution_count": 20,
   "metadata": {},
   "outputs": [
    {
     "name": "stdout",
     "output_type": "stream",
     "text": [
      "Topic #0: matin aller\n",
      "Topic #1: pris pour\n",
      "Topic #2: le au\n"
     ]
    }
   ],
   "source": [
    "n_top_words = 3\n",
    "\n",
    "for topic_idx in range(n_topics):\n",
    "    message = \"Topic #%d: \" % topic_idx\n",
    "    message += \" \".join([idx2w[i] for i in beta[topic_idx].argsort()[:-n_top_words - 1:-1][1:]])\n",
    "    print(message)"
   ]
  },
  {
   "cell_type": "markdown",
   "metadata": {},
   "source": [
    "## 3. Utilisation des librairies"
   ]
  },
  {
   "cell_type": "markdown",
   "metadata": {},
   "source": [
    "On va chercher à analyser les thèmes de la Série Game Of Thrones. On utilise pour ça les sous-titres de l'ensemble des saisons qui ont été récupérés sur le site https://www.sous-titres.eu/series/game_of_thrones.html."
   ]
  },
  {
   "cell_type": "code",
   "execution_count": 22,
   "metadata": {},
   "outputs": [],
   "source": [
    "def create_subtitle_file_dict(subtitles_dir):\n",
    "    \"Retourne les chemins vers les fichiers de sous titres\"\n",
    "    subtitles_file_path = {}\n",
    "    for path, subdirs, files in os.walk(subtitles_dir):\n",
    "        for name in files:\n",
    "            episode_name = '_'.join([os.path.basename(path), name.split('.')[0]])\n",
    "            subtitles_file_path[episode_name] = os.path.join(path, name)\n",
    "    return subtitles_file_path\n",
    "\n",
    "def parse_srt_file(srt_file, encoding='iso-8859-1'):\n",
    "    \"Lit un ficher de sous titres au format rst\"\n",
    "    subs = pysrt.open(srt_file, encoding=encoding)\n",
    "    text = ' '.join([' '.join(sub.text.split('\\n')) for sub in subs])\n",
    "    return text\n",
    "\n",
    "def create_corpus(subtitles_file_path):\n",
    "    \"Créer un corpus à partir de tous les fichiers rst dans un dossier\"\n",
    "    corpus = []\n",
    "    for k, v in subtitles_file_path.items():\n",
    "        if v.endswith('srt'):\n",
    "            corpus.append(parse_srt_file(v))\n",
    "    return corpus"
   ]
  },
  {
   "cell_type": "code",
   "execution_count": 23,
   "metadata": {},
   "outputs": [],
   "source": [
    "subtitles_file_path = create_subtitle_file_dict('./data/')"
   ]
  },
  {
   "cell_type": "code",
   "execution_count": 24,
   "metadata": {},
   "outputs": [],
   "source": [
    "episode_1_txt = parse_srt_file(subtitles_file_path['S01_E01'])"
   ]
  },
  {
   "cell_type": "code",
   "execution_count": 25,
   "metadata": {},
   "outputs": [
    {
     "name": "stdout",
     "output_type": "stream",
     "text": [
      "Doucement. Que croyais-tu ? Ce sont des sauvages. L'un vole une chèvre à l'autre, et ils finissent p\n"
     ]
    }
   ],
   "source": [
    "print(episode_1_txt[:100])"
   ]
  },
  {
   "cell_type": "code",
   "execution_count": 26,
   "metadata": {
    "scrolled": true
   },
   "outputs": [],
   "source": [
    "corpus = create_corpus(subtitles_file_path)"
   ]
  },
  {
   "cell_type": "code",
   "execution_count": 27,
   "metadata": {},
   "outputs": [
    {
     "data": {
      "text/plain": [
       "73"
      ]
     },
     "execution_count": 27,
     "metadata": {},
     "output_type": "execute_result"
    }
   ],
   "source": [
    "len(corpus)"
   ]
  },
  {
   "cell_type": "code",
   "execution_count": 28,
   "metadata": {},
   "outputs": [
    {
     "data": {
      "text/plain": [
       "\"Attention ! Au feu ! Au feu ! Une vingtaine d'hommes, voire moins. Ils se sont faufilés dans le camp\""
      ]
     },
     "execution_count": 28,
     "metadata": {},
     "output_type": "execute_result"
    }
   ],
   "source": [
    "corpus[0][:100]"
   ]
  },
  {
   "cell_type": "markdown",
   "metadata": {},
   "source": [
    "<div class=\"alert alert-info\" role=\"alert\">\n",
    "    <p><b>Exercice :</b> Nettoyer le corpus pour enlever les accents, mettre le texte en minuscule, enlever la ponctuation et les doubles espaces. Eventuellement pour le stemming </p>\n",
    "</div>    "
   ]
  },
  {
   "cell_type": "code",
   "execution_count": 29,
   "metadata": {},
   "outputs": [],
   "source": [
    "# %load solutions/cleaning.py\n",
    "stemmer = FrenchStemmer()\n",
    "\n",
    "def clean_corpus(corpus):\n",
    "    for i in range(len(corpus)):\n",
    "        corpus[i] = unidecode.unidecode(corpus[i])\n",
    "        corpus[i] = re.sub(r'[^\\w\\s]', ' ', corpus[i])\n",
    "        corpus[i] = corpus[i].lower()\n",
    "        corpus[i] = re.sub(r'\\s{2,}', ' ', corpus[i])\n",
    "        # corpus[i] = ' '.join([stemmer.stem(x) for x in corpus[i].split()])\n",
    "    return corpus"
   ]
  },
  {
   "cell_type": "code",
   "execution_count": 30,
   "metadata": {},
   "outputs": [],
   "source": [
    "clean_corpus = clean_corpus(corpus)"
   ]
  },
  {
   "cell_type": "code",
   "execution_count": 31,
   "metadata": {},
   "outputs": [
    {
     "data": {
      "text/plain": [
       "'attention au feu au feu une vingtaine d hommes voire moins ils se sont faufiles dans le camp ils ont'"
      ]
     },
     "execution_count": 31,
     "metadata": {},
     "output_type": "execute_result"
    }
   ],
   "source": [
    "clean_corpus[0][:100]"
   ]
  },
  {
   "cell_type": "code",
   "execution_count": 32,
   "metadata": {},
   "outputs": [],
   "source": [
    "clean_corpus_split = []\n",
    "for episode in clean_corpus:\n",
    "    episode_words = episode.split()\n",
    "    i = 0\n",
    "    while i < len(episode_words):\n",
    "        clean_corpus_split.append(' '.join(episode_words[i:i+400]))\n",
    "        i+=400"
   ]
  },
  {
   "cell_type": "code",
   "execution_count": 33,
   "metadata": {},
   "outputs": [
    {
     "data": {
      "text/plain": [
       "726"
      ]
     },
     "execution_count": 33,
     "metadata": {},
     "output_type": "execute_result"
    }
   ],
   "source": [
    "len(clean_corpus_split)"
   ]
  },
  {
   "cell_type": "code",
   "execution_count": 34,
   "metadata": {},
   "outputs": [],
   "source": [
    "def tokenize_corpus(corpus):\n",
    "    tokens = []\n",
    "    for sentence in corpus.split('\\n'):\n",
    "        tokens.append(nltk.word_tokenize(sentence))\n",
    "    return tokens"
   ]
  },
  {
   "cell_type": "code",
   "execution_count": 35,
   "metadata": {},
   "outputs": [],
   "source": [
    "sentence_length = [len(x.split()) for x in clean_corpus_split]"
   ]
  },
  {
   "cell_type": "code",
   "execution_count": 36,
   "metadata": {},
   "outputs": [
    {
     "data": {
      "text/plain": [
       "(378.10743801652893, 75.55046495285958)"
      ]
     },
     "execution_count": 36,
     "metadata": {},
     "output_type": "execute_result"
    }
   ],
   "source": [
    "np.mean(sentence_length), np.std(sentence_length)"
   ]
  },
  {
   "cell_type": "markdown",
   "metadata": {},
   "source": [
    "<div class=\"alert alert-info\" role=\"alert\">\n",
    "    <p><b>Exercice :</b> Vectorizer le corpus en utilisant la méthode Bag-Of-Words.</p>\n",
    "</div>    "
   ]
  },
  {
   "cell_type": "code",
   "execution_count": 37,
   "metadata": {},
   "outputs": [
    {
     "name": "stderr",
     "output_type": "stream",
     "text": [
      "/Users/antoine/opt/anaconda3/envs/nlp-101/lib/python3.6/site-packages/sklearn/feature_extraction/text.py:386: UserWarning: Your stop_words may be inconsistent with your preprocessing. Tokenizing the stop words generated tokens ['qu', 'quelqu'] not in stop_words.\n",
      "  'stop_words.' % sorted(inconsistent))\n"
     ]
    }
   ],
   "source": [
    "# %load solutions/vectorize.py\n",
    "\n",
    "# Initialise the count vectorizer\n",
    "count_vectorizer = CountVectorizer(max_features=2000,\n",
    "                                   stop_words=STOP_WORDS,\n",
    "                                   max_df=0.9,\n",
    "                                   min_df=20)\n",
    "\n",
    "count_data = count_vectorizer.fit_transform(clean_corpus_split)"
   ]
  },
  {
   "cell_type": "code",
   "execution_count": 38,
   "metadata": {},
   "outputs": [
    {
     "data": {
      "text/plain": [
       "726"
      ]
     },
     "execution_count": 38,
     "metadata": {},
     "output_type": "execute_result"
    }
   ],
   "source": [
    "len(clean_corpus_split)"
   ]
  },
  {
   "cell_type": "code",
   "execution_count": 39,
   "metadata": {},
   "outputs": [
    {
     "data": {
      "text/plain": [
       "LatentDirichletAllocation(n_components=15, n_jobs=-1)"
      ]
     },
     "execution_count": 39,
     "metadata": {},
     "output_type": "execute_result"
    }
   ],
   "source": [
    "# Tweak the two parameters below\n",
    "number_topics = 15\n",
    "number_words = 10\n",
    "\n",
    "# Create and fit the LDA model\n",
    "lda = LDA(n_components=number_topics, n_jobs=-1)\n",
    "lda.fit(count_data)"
   ]
  },
  {
   "cell_type": "code",
   "execution_count": 40,
   "metadata": {},
   "outputs": [],
   "source": [
    "def print_topics(model, count_vectorizer, n_top_words):\n",
    "    words = count_vectorizer.get_feature_names()\n",
    "    for topic_idx, topic in enumerate(model.components_):\n",
    "        print(\"\\nTopic #%d:\" % topic_idx)\n",
    "        print(\" \".join([words[i]\n",
    "                        for i in topic.argsort()[:-n_top_words - 1:-1]]))"
   ]
  },
  {
   "cell_type": "code",
   "execution_count": 41,
   "metadata": {
    "scrolled": true
   },
   "outputs": [
    {
     "name": "stdout",
     "output_type": "stream",
     "text": [
      "Topics found via LDA:\n",
      "\n",
      "Topic #0:\n",
      "avez bolton pere stark qu nom lord nord ramsay famille\n",
      "\n",
      "Topic #1:\n",
      "stark lord pere roi nord lannister robb winterfell maison fils\n",
      "\n",
      "Topic #2:\n",
      "qu ca mort nuit garde mur hommes veux theon sais\n",
      "\n",
      "Topic #3:\n",
      "qu pere ca mort sais etes mere jamais fils avez\n",
      "\n",
      "Topic #4:\n",
      "grand reine loras ca tyrell margaery foi dieux qu oui\n",
      "\n",
      "Topic #5:\n",
      "qu ca mur faire avez tue jamais hommes garde roi\n",
      "\n",
      "Topic #6:\n",
      "khaleesi khal qu drogo veux dothraki sang allez faire etes\n",
      "\n",
      "Topic #7:\n",
      "qu roi reine nord avez hommes ici guerre armee sais\n",
      "\n",
      "Topic #8:\n",
      "verite jeu petite trone fortune navires prince braavos femme avez\n",
      "\n",
      "Topic #9:\n",
      "qu roi fils avez homme lannister hommes etes frere ser\n",
      "\n",
      "Topic #10:\n",
      "avez reine meereen etes maitres pere ici westeros daenerys esclaves\n",
      "\n",
      "Topic #11:\n",
      "capitaine majeste avez etes faire paix faut confiance reine renly\n",
      "\n",
      "Topic #12:\n",
      "dubbing brothers titrage adaptation blandine menard clotilde maville qu ca\n",
      "\n",
      "Topic #13:\n",
      "ca pitie qu frere maitre hommes nom homme fils dois\n",
      "\n",
      "Topic #14:\n",
      "qu ca ici roi veux sansa ser oui jamais avez\n"
     ]
    }
   ],
   "source": [
    "# Print the topics found by the LDA model\n",
    "print(\"Topics found via LDA:\")\n",
    "print_topics(lda, count_vectorizer, number_words)"
   ]
  },
  {
   "cell_type": "markdown",
   "metadata": {},
   "source": [
    "## 4. Visualisation"
   ]
  },
  {
   "cell_type": "code",
   "execution_count": 43,
   "metadata": {},
   "outputs": [
    {
     "name": "stdout",
     "output_type": "stream",
     "text": [
      "CPU times: user 591 ms, sys: 115 ms, total: 706 ms\n",
      "Wall time: 2.06 s\n"
     ]
    }
   ],
   "source": [
    "%%time\n",
    "\n",
    "\n",
    "LDAvis_data_filepath = os.path.join('./ldavis_prepared_'+str(number_topics))\n",
    "LDAvis_prepared = sklearn_lda.prepare(lda, count_data, count_vectorizer, mds='mmds')"
   ]
  },
  {
   "cell_type": "code",
   "execution_count": 44,
   "metadata": {},
   "outputs": [],
   "source": [
    "with open(LDAvis_data_filepath, 'wb') as f:\n",
    "        pickle.dump(LDAvis_prepared, f)\n",
    "\n",
    "# load the pre-prepared pyLDAvis data from disk\n",
    "with open(LDAvis_data_filepath, 'rb') as f:\n",
    "    LDAvis_prepared = pickle.load(f)\n",
    "    \n",
    "pyLDAvis.save_html(LDAvis_prepared, './ldavis_prepared_'+ str(number_topics) +'.html')"
   ]
  },
  {
   "cell_type": "code",
   "execution_count": 45,
   "metadata": {},
   "outputs": [
    {
     "data": {
      "text/html": [
       "\n",
       "<link rel=\"stylesheet\" type=\"text/css\" href=\"https://cdn.rawgit.com/bmabey/pyLDAvis/files/ldavis.v1.0.0.css\">\n",
       "\n",
       "\n",
       "<div id=\"ldavis_el691361401853118202007425389734\"></div>\n",
       "<script type=\"text/javascript\">\n",
       "\n",
       "var ldavis_el691361401853118202007425389734_data = {\"mdsDat\": {\"x\": [0.03709475170192467, 0.02461329966362257, -0.04517747859968739, 0.021722575354611362, 0.12909614211886294, 0.07815963450059334, 0.08902969378121171, -0.09266132445475832, -0.11950193918901147, 0.17790759317255883, 0.24640523308251525, -0.22355421455275165, -0.2643812601132195, -0.10352326715440843, 0.04477056068793597], \"y\": [0.01799890935301226, -0.07233058334637207, 0.04236733869974819, 0.11500943961757341, -0.08792414614561615, -0.01403505477482801, 0.256049073869027, -0.16575947024389986, -0.03965378099059008, 0.13641247146223623, -0.027221858271390707, 0.11690580571958313, -0.07128673182721428, 0.20693575305728926, -0.4134671661785582], \"topics\": [1, 2, 3, 4, 5, 6, 7, 8, 9, 10, 11, 12, 13, 14, 15], \"cluster\": [1, 1, 1, 1, 1, 1, 1, 1, 1, 1, 1, 1, 1, 1, 1], \"Freq\": [15.443915613373916, 13.684936583797436, 13.054291963648149, 10.623216736984876, 9.731409433983206, 8.306228112702835, 6.463821399544544, 5.019206069232313, 4.35564408034484, 3.7899262897195354, 3.57535396581026, 2.8551941638677323, 1.1964133948769666, 1.0396292777289073, 0.8608129143844926]}, \"tinfo\": {\"Term\": [\"avez\", \"stark\", \"reine\", \"nord\", \"majeste\", \"ca\", \"lord\", \"roi\", \"etes\", \"grand\", \"pere\", \"lannister\", \"khaleesi\", \"qu\", \"frere\", \"brothers\", \"dubbing\", \"titrage\", \"adaptation\", \"faut\", \"ici\", \"khal\", \"trone\", \"faire\", \"veux\", \"loras\", \"verite\", \"bolton\", \"pitie\", \"maitre\", \"mance\", \"corbac\", \"commandant\", \"sauvageons\", \"chateaunoir\", \"courage\", \"libre\", \"snow\", \"loups\", \"vux\", \"aemon\", \"parles\", \"mur\", \"mange\", \"batard\", \"ferme\", \"reve\", \"sam\", \"neige\", \"con\", \"joli\", \"vit\", \"ombre\", \"regarder\", \"mormont\", \"bebe\", \"centaines\", \"courageux\", \"noir\", \"ramene\", \"jon\", \"peuple\", \"passer\", \"garde\", \"porte\", \"tue\", \"nuit\", \"ca\", \"filles\", \"qu\", \"tuer\", \"morts\", \"arrive\", \"faire\", \"cur\", \"battre\", \"jamais\", \"yeux\", \"faut\", \"sais\", \"hommes\", \"frere\", \"besoin\", \"ici\", \"avez\", \"lord\", \"mere\", \"roi\", \"fois\", \"pere\", \"homme\", \"mort\", \"veux\", \"oui\", \"limier\", \"chevalier\", \"brienne\", \"baelish\", \"tante\", \"pose\", \"trouvez\", \"beaute\", \"epoux\", \"sansa\", \"chevaliers\", \"heureuse\", \"littlefinger\", \"visage\", \"danger\", \"robe\", \"touche\", \"val\", \"jolie\", \"penses\", \"menteur\", \"drole\", \"dangereux\", \"chasse\", \"crime\", \"chambre\", \"aimes\", \"merde\", \"excuses\", \"bordel\", \"lady\", \"lit\", \"messire\", \"arya\", \"joffrey\", \"epouse\", \"madame\", \"ser\", \"veux\", \"ici\", \"quelqu\", \"venez\", \"femme\", \"tyrion\", \"qu\", \"ca\", \"aime\", \"passe\", \"oui\", \"jamais\", \"roi\", \"mere\", \"donne\", \"faire\", \"etes\", \"pere\", \"avez\", \"fois\", \"sais\", \"voir\", \"lord\", \"main\", \"crois\", \"mort\", \"monde\", \"stark\", \"lannister\", \"oberyn\", \"regner\", \"gouverner\", \"proces\", \"protecteur\", \"cour\", \"royaume\", \"pays\", \"nomme\", \"renly\", \"lutin\", \"tient\", \"crimes\", \"justice\", \"guerres\", \"maisons\", \"pied\", \"paie\", \"veritable\", \"andals\", \"prix\", \"meurtre\", \"parlez\", \"myrcella\", \"capable\", \"mauvais\", \"pierre\", \"pensez\", \"droit\", \"gout\", \"regicide\", \"fils\", \"trone\", \"roi\", \"jaime\", \"dites\", \"lannister\", \"homme\", \"paix\", \"couronnes\", \"qu\", \"or\", \"avez\", \"majeste\", \"joffrey\", \"hommes\", \"ser\", \"etes\", \"bon\", \"frere\", \"vie\", \"guerre\", \"mort\", \"ans\", \"ete\", \"oui\", \"sang\", \"pere\", \"faire\", \"enfants\", \"nom\", \"ca\", \"stark\", \"nordiens\", \"allies\", \"batards\", \"genou\", \"vaincre\", \"rappelez\", \"commun\", \"davos\", \"dothrakis\", \"ensemble\", \"survecu\", \"legitime\", \"derniers\", \"nobles\", \"inutile\", \"detruire\", \"grandi\", \"affronter\", \"daenerys\", \"centaines\", \"secret\", \"combattu\", \"ayez\", \"bannerets\", \"dommage\", \"cersei\", \"failli\", \"rebellion\", \"change\", \"suivez\", \"risque\", \"armee\", \"nord\", \"couronnes\", \"aimait\", \"morts\", \"reine\", \"targaryen\", \"jon\", \"stannis\", \"guerre\", \"real\", \"port\", \"sire\", \"sommes\", \"dragons\", \"trone\", \"roi\", \"winterfell\", \"temps\", \"qu\", \"sais\", \"hommes\", \"avez\", \"ici\", \"fer\", \"etes\", \"majeste\", \"stark\", \"faut\", \"faire\", \"pere\", \"monde\", \"ser\", \"blancs\", \"marcheurs\", \"hodor\", \"theon\", \"nes\", \"bran\", \"vere\", \"dela\", \"lune\", \"siecles\", \"citadelle\", \"greyjoy\", \"monter\", \"faudra\", \"acier\", \"sam\", \"souviens\", \"chiens\", \"chateaux\", \"histoires\", \"deteste\", \"vivant\", \"prends\", \"rejoindre\", \"vaincre\", \"trouves\", \"ecouter\", \"utile\", \"murs\", \"pouvais\", \"cheval\", \"mur\", \"nuit\", \"garde\", \"epee\", \"ans\", \"appris\", \"petite\", \"mort\", \"garcon\", \"qu\", \"ca\", \"veux\", \"hommes\", \"sauvageons\", \"vie\", \"sais\", \"homme\", \"jamais\", \"frere\", \"tuer\", \"fer\", \"nord\", \"oui\", \"peur\", \"pere\", \"ete\", \"stark\", \"faire\", \"etes\", \"joue\", \"joie\", \"fiche\", \"cheveux\", \"arme\", \"livre\", \"beaux\", \"emporte\", \"partie\", \"gentil\", \"penser\", \"choisir\", \"voyez\", \"erreur\", \"aegon\", \"ciel\", \"jeu\", \"evidemment\", \"epouser\", \"jouer\", \"aimez\", \"nombre\", \"devais\", \"fut\", \"serai\", \"surs\", \"appris\", \"dorne\", \"oublier\", \"avenir\", \"amour\", \"roc\", \"famille\", \"baratheon\", \"pere\", \"qu\", \"mere\", \"mort\", \"sais\", \"chose\", \"jamais\", \"bon\", \"etes\", \"fils\", \"voir\", \"ca\", \"aime\", \"oui\", \"monde\", \"temps\", \"faire\", \"homme\", \"petit\", \"avez\", \"dieux\", \"reine\", \"faut\", \"vie\", \"veux\", \"jour\", \"enfants\", \"dragons\", \"hommes\", \"roi\", \"tully\", \"loup\", \"robb\", \"eddard\", \"vivesaigues\", \"messires\", \"arryn\", \"catelyn\", \"monseigneur\", \"traitre\", \"bannerets\", \"gouverneur\", \"lache\", \"harrenhal\", \"tywin\", \"stark\", \"etranger\", \"appartient\", \"bete\", \"ned\", \"val\", \"frey\", \"trahi\", \"guerrier\", \"prince\", \"lord\", \"chien\", \"paroles\", \"000\", \"walder\", \"garcon\", \"nord\", \"maison\", \"seigneur\", \"winterfell\", \"lannister\", \"lady\", \"pere\", \"roi\", \"robert\", \"guerre\", \"fils\", \"fille\", \"ete\", \"majeste\", \"qu\", \"voir\", \"main\", \"frere\", \"ici\", \"ca\", \"meereen\", \"maitres\", \"chaines\", \"esclaves\", \"typhon\", \"experience\", \"immacules\", \"voie\", \"massacre\", \"jorah\", \"westeros\", \"daenerys\", \"nain\", \"cite\", \"crime\", \"grands\", \"flotte\", \"varys\", \"iles\", \"auriez\", \"dos\", \"tuez\", \"grace\", \"braavos\", \"soldats\", \"attendez\", \"ramener\", \"navires\", \"lumiere\", \"libere\", \"choix\", \"maitre\", \"reine\", \"ville\", \"avez\", \"peuple\", \"dragons\", \"etes\", \"faut\", \"monde\", \"ici\", \"mere\", \"fille\", \"tue\", \"fer\", \"pere\", \"grande\", \"ca\", \"homme\", \"qu\", \"enfants\", \"ete\", \"port\", \"hommes\", \"pitie\", \"lumiere\", \"maitre\", \"loyaute\", \"auras\", \"davantage\", \"victoire\", \"heureux\", \"braavos\", \"aimais\", \"anciens\", \"arrivera\", \"montagne\", \"nera\", \"digne\", \"eau\", \"donnerai\", \"plaisir\", \"brule\", \"retrouver\", \"garder\", \"davos\", \"baiser\", \"partie\", \"brise\", \"vaut\", \"compagnie\", \"tenebres\", \"difficile\", \"envoyer\", \"or\", \"argent\", \"dois\", \"nom\", \"ca\", \"frere\", \"rouge\", \"stannis\", \"fois\", \"fils\", \"peur\", \"real\", \"homme\", \"hommes\", \"verite\", \"port\", \"mort\", \"oui\", \"vie\", \"qu\", \"veux\", \"pere\", \"lannister\", \"majeste\", \"ami\", \"avez\", \"famille\", \"veut\", \"reine\", \"femme\", \"ramsay\", \"bolton\", \"walder\", \"rickon\", \"frey\", \"arya\", \"fui\", \"heritier\", \"noir\", \"devait\", \"quitter\", \"recompense\", \"nomme\", \"mensonge\", \"position\", \"digne\", \"partez\", \"bran\", \"fier\", \"offre\", \"jeunes\", \"croit\", \"nouvelles\", \"magie\", \"epouser\", \"devrait\", \"chateaunoir\", \"plaisir\", \"fini\", \"condamne\", \"revient\", \"fera\", \"famille\", \"vue\", \"dis\", \"nom\", \"sansa\", \"chateau\", \"messire\", \"stark\", \"avez\", \"pere\", \"winterfell\", \"nord\", \"lord\", \"mere\", \"tue\", \"fille\", \"enfants\", \"demande\", \"lannister\", \"oui\", \"qu\", \"grand\", \"jamais\", \"homme\", \"hommes\", \"tuer\", \"mort\", \"margaery\", \"loras\", \"foi\", \"septon\", \"hautjardin\", \"septuaire\", \"tyrell\", \"alliance\", \"existe\", \"exige\", \"eviter\", \"invite\", \"grand\", \"heros\", \"vus\", \"comprendre\", \"plutot\", \"pouvons\", \"commun\", \"tot\", \"dieux\", \"triste\", \"vit\", \"faisons\", \"refuse\", \"peine\", \"protege\", \"menace\", \"plupart\", \"revenir\", \"couronne\", \"service\", \"compte\", \"reine\", \"roc\", \"conseil\", \"baelish\", \"ville\", \"monde\", \"parole\", \"ca\", \"savoir\", \"maison\", \"oui\", \"cersei\", \"etes\", \"mieux\", \"avez\", \"qu\", \"passe\", \"roi\", \"armee\", \"voir\", \"mere\", \"frere\", \"chose\", \"jamais\", \"ete\", \"pere\", \"tuer\", \"ici\", \"khal\", \"drogo\", \"dothraki\", \"khaleesi\", \"soleil\", \"navire\", \"sauvages\", \"princesse\", \"dragon\", \"esclaves\", \"monter\", \"magie\", \"jorah\", \"detroit\", \"monseigneur\", \"boire\", \"cheval\", \"sang\", \"payer\", \"cotes\", \"riche\", \"chevaux\", \"cru\", \"epees\", \"nain\", \"baiser\", \"laisserai\", \"langue\", \"arretez\", \"20\", \"allez\", \"000\", \"honneur\", \"portes\", \"or\", \"trouve\", \"veux\", \"maison\", \"faire\", \"qu\", \"ici\", \"etes\", \"grand\", \"sais\", \"oui\", \"vie\", \"roi\", \"avez\", \"pere\", \"ca\", \"dieux\", \"jamais\", \"fortune\", \"jeu\", \"braavos\", \"mensonge\", \"jouer\", \"position\", \"detroit\", \"navires\", \"aube\", \"pleine\", \"bronn\", \"sers\", \"verite\", \"veritable\", \"reprendre\", \"coup\", \"travail\", \"demandez\", \"cite\", \"voyage\", \"accord\", \"anciens\", \"perdre\", \"prince\", \"nera\", \"mots\", \"juge\", \"impossible\", \"tour\", \"regicide\", \"guerrier\", \"petite\", \"trone\", \"facon\", \"droit\", \"femme\", \"fer\", \"stannis\", \"jaime\", \"belle\", \"lannister\", \"frere\", \"etes\", \"avez\", \"jamais\", \"ete\", \"pere\", \"roi\", \"prendre\", \"westeros\", \"viens\", \"capitaine\", \"fui\", \"excusez\", \"veritable\", \"arrivera\", \"bats\", \"paix\", \"armes\", \"aube\", \"loyal\", \"ordonne\", \"renly\", \"suivez\", \"aurez\", \"triste\", \"idiot\", \"aimez\", \"voyage\", \"revient\", \"regner\", \"merde\", \"voie\", \"salle\", \"camp\", \"appartient\", \"confiance\", \"mettre\", \"merite\", \"gagner\", \"majeste\", \"demain\", \"brienne\", \"connu\", \"robert\", \"devez\", \"aurai\", \"avez\", \"trouver\", \"chance\", \"faut\", \"faire\", \"etes\", \"fin\", \"jaime\", \"port\", \"reine\", \"cersei\", \"tue\", \"ser\", \"frere\", \"prendre\", \"mieux\", \"roi\", \"hommes\", \"qu\", \"ici\", \"oui\", \"bon\", \"brothers\", \"titrage\", \"dubbing\", \"adaptation\", \"menard\", \"blandine\", \"maville\", \"clotilde\", \"attendez\", \"suite\", \"restez\", \"connaitre\", \"comprendre\", \"montagne\", \"echange\", \"mormont\", \"donnerai\", \"revenu\", \"fini\", \"bruler\", \"courage\", \"harrenhal\", \"echappe\", \"argent\", \"meurtre\", \"croit\", \"partout\", \"interieur\", \"auras\", \"promis\", \"raison\", \"putain\", \"croyez\", \"donne\", \"commandant\", \"ca\", \"nord\", \"faut\", \"qu\", \"ici\", \"plait\", \"avez\", \"maitre\", \"veux\", \"chose\"], \"Freq\": [841.0, 506.0, 444.0, 396.0, 262.0, 863.0, 452.0, 852.0, 578.0, 282.0, 765.0, 354.0, 92.0, 1641.0, 404.0, 51.0, 51.0, 51.0, 51.0, 304.0, 531.0, 65.0, 168.0, 521.0, 455.0, 78.0, 117.0, 93.0, 88.0, 145.0, 62.31747371361979, 30.598418523067107, 69.48740495925476, 73.42489601910687, 47.078530788431614, 16.69685570130011, 43.12430355600327, 81.9969293195993, 13.060444273806505, 15.180107518475051, 12.918058468674204, 14.875353456599793, 117.18029167957636, 14.6004326975594, 62.70618566089576, 15.263595151059462, 19.323436349596363, 25.065230458615027, 10.701142027124463, 14.403991687680808, 15.730547209803007, 9.377137520146821, 12.990406782376379, 17.1506307908361, 23.529531760645416, 20.664061817440757, 9.62317616701605, 11.363611932374653, 13.701003483251382, 16.016345974889713, 94.02326584522338, 46.590413927303764, 27.19551488403007, 97.56288163865679, 45.13800497208781, 105.98522220368399, 82.17299602621745, 206.44984146890255, 46.02651314330568, 324.7441078540048, 82.42545204461764, 57.05161178283721, 40.797639015502284, 116.44003827814092, 35.19598166151066, 35.73097510594651, 100.56887683514678, 43.65721383665051, 72.39096777984169, 91.5316581957739, 97.69902007061208, 81.16642614134022, 52.84068329338102, 90.06780447632995, 109.02646972686607, 75.90342906007135, 68.92019055248822, 96.24055438580794, 55.94442668558404, 75.69712563989957, 64.86240554910711, 58.530535731735085, 57.467632992329136, 57.30643131204695, 28.498180989024846, 72.51644399880819, 30.495885725822856, 36.26293996803211, 19.729948721668908, 15.053120217598941, 14.729397272873193, 20.58072435979912, 14.308426503340318, 103.37866282801475, 19.661240742214815, 15.658676502497777, 15.587646287244059, 34.086726568190436, 15.935732839521817, 18.434512894988753, 15.471685141525757, 26.497360073532345, 23.997447686129778, 13.368599491573907, 12.709940755744311, 14.961350901644884, 16.607249004100066, 13.88168667088276, 11.193345510126665, 11.694057666718475, 15.326529992116257, 16.862137589328075, 9.669542917889336, 16.55710809391033, 70.61484139932539, 19.81785087290338, 55.12352236410743, 31.60076940678569, 69.98136131838565, 34.84188097731853, 57.12344777138798, 99.85636043295528, 128.82885346842286, 142.80014738639798, 38.230803507657804, 30.916004546732427, 65.27087319263173, 40.37001647680142, 248.805855588738, 154.32014449074993, 60.36613803429883, 42.07497364772574, 99.26412810184398, 96.49320558583757, 132.40039850234746, 73.42934838594375, 45.64623818037488, 83.62461492312767, 82.38806109743715, 93.32846541039281, 96.04873028492844, 52.69366486763212, 68.48056597666394, 56.94795448657116, 66.19843988037073, 48.33511845371583, 45.45906440582595, 60.21174897960192, 50.962486267992894, 57.47177636337014, 52.654832128526415, 22.94000695688692, 16.956336369011076, 18.48193299917916, 26.626846649894585, 20.989889079532574, 16.225860130212393, 61.46951208569045, 21.253154844659274, 14.880658688408563, 41.625679092004916, 18.39263915337752, 15.469961598047991, 14.460332427035834, 28.461248108503813, 10.794298297729526, 19.556697944162057, 12.229393801375771, 10.928118121052139, 11.111129239743544, 11.529470195254412, 16.190894285954737, 13.402805042655567, 18.92357011527632, 15.147374374601851, 11.01472609429844, 14.990041102690688, 11.434768723734663, 17.895115012867368, 25.362387389240123, 11.79197536349815, 24.308072314977647, 147.9501105824456, 64.63298488049583, 253.64866798349746, 48.37134757595266, 43.15378888106236, 103.41424789740498, 106.30249902221634, 29.641104939348274, 36.89043563969836, 258.3686057355805, 50.413829723514795, 146.9417925612075, 65.34935780428849, 53.08995291973613, 97.52379282414994, 71.72819424530331, 90.12547306785746, 55.67740469370095, 72.32237894867275, 59.73074928837992, 50.51900523620563, 64.87967835585272, 40.44091314394363, 55.19384880913488, 65.74829141975205, 38.12433496377444, 68.71354070642387, 58.84436335914885, 42.98350753141635, 42.44727565079257, 47.674359660479084, 42.748725130329426, 21.37776442737004, 30.734770087636445, 14.003254472669546, 20.05752111094229, 13.72430808740029, 11.077221958546822, 10.925067815686278, 26.37522138296937, 17.463356367123705, 33.06788209142526, 13.0378845289603, 20.899604557401734, 10.967931380983522, 13.238337524034085, 20.222248301959997, 15.105818000627181, 9.598018369868793, 11.673072812055063, 41.74691281443476, 8.992126421199403, 11.418491779799323, 12.424084318173932, 11.036138771970613, 11.629730265569178, 8.858231035194711, 64.515591998953, 10.987221752517403, 7.664241333632835, 14.321745448907443, 9.205506967239087, 12.81855944804407, 73.74039328461633, 132.6478889786742, 38.11362050038634, 18.357944695418276, 59.78067114790279, 134.79515674719968, 41.734185251039925, 70.34341711666758, 51.91494773964681, 75.32252354316421, 53.26911242511111, 53.95364625084778, 40.42949260203804, 43.33666441448225, 47.27077716816739, 45.25785357884189, 137.54256767338117, 53.713956600805645, 49.68178948208884, 173.27385872656075, 73.72639821078468, 79.08184932333681, 100.4933158447683, 76.29073568806184, 42.92648291823048, 66.53764178263837, 47.19783171218533, 57.11320372180003, 48.92647225207286, 55.728351466835235, 59.74782209557727, 44.50378513994613, 43.64612165015295, 33.13557611852619, 36.37117682082499, 36.07327526853086, 65.11814046549433, 29.928052549688342, 48.41066972596098, 16.934999367849773, 23.328315748841433, 16.866573307651887, 14.399169150250502, 19.789494923252246, 45.33430585612793, 12.763560059440419, 13.781702329977792, 25.924964091130754, 22.638339928572776, 26.893492940334795, 13.97004969503094, 11.32391739226576, 15.355588247363968, 12.108418402692307, 9.839784910532206, 22.819676240170327, 14.514318578502015, 10.664345247634747, 10.335992680703177, 9.348007270247805, 10.511361139747494, 9.224012083603679, 12.767121654944614, 27.603009188884347, 72.52832739153772, 81.48412311978826, 76.1856385407046, 56.38465268223065, 46.39321617986481, 27.786222379966688, 37.475806643449026, 82.89117803582448, 41.79565301612218, 162.47101091251125, 100.81767272922227, 66.81571412059051, 71.57846903544801, 28.482430710628414, 49.92147501637551, 60.13686740516439, 56.67911931225519, 57.302767750883056, 51.17325311604847, 44.551696838787436, 37.894454051540045, 48.25826745124677, 51.10138899865995, 36.63070817191589, 53.9761599472549, 40.946392212003715, 39.29028241497183, 38.89494466362369, 36.67925781917277, 15.333077623566927, 14.026704447942375, 14.718575414161673, 19.825892491208645, 14.202213109890499, 15.361508657624043, 9.370401292024408, 10.891042413621452, 15.324925661216009, 11.571639172455383, 9.956677791813009, 10.424131578124014, 14.830779352072978, 10.683363254734827, 13.569413728865307, 9.519183330894801, 14.07226466728438, 9.337806231838707, 17.466911054448207, 8.705454579166767, 7.964291272261854, 6.997878235190611, 7.311204021207354, 16.549172707902798, 21.139216675728957, 10.499583406796779, 30.228959627712165, 22.16416867835276, 8.104471017581167, 8.933605186791032, 22.546044308158216, 16.727837459960547, 46.175774274153106, 24.87496047094758, 121.4961864272201, 206.49482518197053, 67.85822259715421, 74.4114957214273, 73.59757383414077, 41.1896811494084, 64.97597947589091, 42.23189138719527, 71.1048316245568, 55.20251928687287, 44.4219059398226, 80.66540341004215, 35.490008494515195, 53.79235105081375, 37.70434955407006, 33.07660312168182, 48.35832482789909, 43.78846373023906, 30.157988888510076, 54.04479204694622, 29.951299307707174, 37.02221376011729, 32.68064121943197, 32.71680069047164, 35.45463789172481, 28.3746909302552, 28.837033783564618, 27.399300423074482, 28.704204921672808, 28.753159322270204, 30.21339305503761, 48.49539004560029, 77.44569426857718, 18.444767033815733, 24.755019203418048, 12.594551995838911, 28.647219945895763, 18.262876995965307, 48.0577012672274, 23.16567894924132, 13.528690184177004, 12.194644351166184, 17.37157144193155, 12.956175379432862, 34.84516512338664, 204.6222377761325, 9.238987555444861, 11.500389699297703, 12.347863396332007, 40.643133763715426, 20.59504824165704, 20.385498477683704, 17.94664823736185, 13.791273734154231, 30.655771649792467, 153.2630692637333, 9.122879440321805, 7.710963482427531, 21.99582801471382, 10.656890105403308, 54.84869230592666, 107.45858162899145, 55.787730280092305, 40.40390582240579, 57.7653828461264, 84.68421696048627, 46.18804933155184, 121.4192964372428, 109.73903081528607, 31.40579450635707, 44.400599556014065, 55.00930180557349, 37.41815228970561, 34.02066607385361, 30.546932543427175, 45.98736753967167, 30.55875367879377, 27.293966389165302, 30.339511933986746, 31.111959851955476, 27.6346721782621, 64.13477982462193, 51.08966082755359, 16.068131630879247, 35.16781233858617, 12.902905580259386, 13.6978676823101, 34.94919128949423, 11.645209236514203, 11.730438376029856, 18.013304666948258, 39.17975479747441, 36.87763672543263, 13.593433282058443, 13.561485761196394, 8.687823585876828, 13.702660217016845, 16.99662548599884, 18.46159873563151, 15.098712297358482, 12.426331744919525, 11.05920922109473, 11.992232306954723, 20.16917120220477, 8.477119824294288, 15.381152194991401, 10.88572214655782, 10.798209143195711, 14.194652446516855, 14.790552387807848, 8.844421762588976, 19.54188227605396, 34.86848766539443, 94.09729100528675, 31.536788977817288, 128.64400201269615, 25.311086619739815, 32.83154751170647, 62.78115881686915, 32.91856300927449, 30.330579393354842, 40.152186467640085, 33.99413919400897, 27.336138928242462, 31.01204904611217, 25.08383120488648, 40.584659969102866, 19.33467088684159, 35.00721035291627, 27.21717204002015, 31.090349104976784, 21.115975565810235, 20.635072804556522, 19.831681644765094, 20.803753762662875, 63.06192212085405, 24.221963238190774, 44.38417415939877, 12.52610815601319, 8.31509828927503, 8.06889928449906, 8.561252696013534, 11.65279090397685, 7.586680321367097, 6.649378800698757, 6.712911076118251, 5.8681335412452755, 10.475575532933739, 11.146450283879394, 5.253612846339613, 14.064163748220281, 5.342401856917858, 7.815879068444467, 11.225911553000726, 6.307303068535435, 8.695567144893424, 12.069289000879326, 7.7677814471477395, 8.090494895559363, 6.0019541679785755, 13.668225322490416, 5.639196757840824, 4.611908042139544, 8.227563768681792, 6.768477632965164, 31.651899084198252, 11.325670631903494, 34.27480487694969, 37.120280986404644, 87.18992425383007, 47.461807788586015, 13.491987704476761, 21.820112746302904, 27.302594598684188, 35.623757996811314, 21.38156510802423, 20.581345786086285, 36.002407690993344, 38.22546592488776, 15.757042256579027, 20.303621457681118, 30.173542768499313, 29.903584438434393, 24.033327487837475, 48.63884002363823, 25.715864376499393, 30.32141781247031, 22.299137629518594, 20.08798985059387, 15.08118797190483, 24.235504392393995, 16.455803852603637, 15.866576923068596, 16.573814291246705, 15.36581680580876, 32.21418480560635, 59.25692714858455, 17.936819998673855, 15.721396224756525, 21.776385727682406, 28.63497851950625, 7.375931521531097, 12.546525996053415, 8.811449372345539, 7.668322382504501, 5.99915395199081, 6.5558645085112985, 6.108529847327785, 6.2088061888240755, 5.204908336114766, 4.717325877146881, 9.343807010243827, 16.055848261943027, 7.092336694819952, 8.919833726189804, 4.75834080652289, 5.6092400074587445, 5.607874099967899, 4.733219840978759, 8.787458026052315, 12.729672422982208, 13.24173347455992, 5.936927548833288, 13.87632679036656, 4.1501902795253285, 4.494834278308403, 11.091003021458537, 30.37756061416271, 11.95618227904985, 23.816153050275528, 35.771876609396664, 26.638389641778595, 15.562356569074819, 20.848313370301494, 51.23355064292214, 60.093168505880556, 56.37476056766871, 22.889074351061797, 32.23902302545029, 34.137846418882724, 29.263598698252782, 25.44044270736576, 20.991801692066776, 19.86650788834138, 16.962898763852802, 23.403275036458407, 25.48795687611829, 37.60647777559215, 19.505159503641686, 20.078771825635926, 19.509980255587646, 18.65331375253453, 17.3302722223747, 16.803219230474845, 42.928376131298364, 57.58145246160137, 42.92390058710235, 20.679580273869217, 20.429779170965475, 14.872640843758749, 43.33340742248534, 9.652295756141484, 8.651841035420864, 7.901998754158209, 7.5486914113831265, 6.8573979667574365, 80.6674016724894, 7.006274152800172, 7.9248395488935595, 6.362850288688284, 8.456923878019222, 7.83031464012268, 4.612461726401029, 4.689437216235118, 42.68763842218954, 5.222075647705934, 4.1558832242561214, 5.052663536101504, 10.473395112743248, 7.296514420432213, 6.5220100309794855, 6.642105075777652, 4.99416556413944, 5.195711175549878, 12.421980860799762, 6.908396535569019, 13.415021382751199, 59.6537110538497, 9.29378028631186, 9.927911924190864, 8.911516956798481, 16.477760834160748, 23.554328266820562, 8.922105887162344, 46.060483857022, 13.693300735708723, 17.79317352837271, 28.131255612722626, 15.757618234452755, 25.971464306201003, 17.066174979650267, 27.625535851643743, 35.77692743655834, 12.921848299692517, 24.736733489804262, 15.063468188962897, 16.301290586672337, 17.357472871163793, 17.1975934415404, 14.506448296434703, 17.120539098609747, 14.88405440909106, 15.222418571271803, 13.995475704236767, 14.138916192954923, 63.4164418594588, 42.94704967656595, 33.339788107800565, 69.05198763232991, 14.761916859844295, 10.829386669451418, 6.860385198997867, 12.48818461563039, 25.964692311779697, 16.46003703904754, 6.9779428258081575, 6.436821864670561, 11.381391509651044, 6.176262942161823, 26.372696948573942, 10.234910587604679, 16.70467498804672, 33.05644144162536, 8.361287864067222, 10.339070894919642, 5.683509962626704, 11.878531509269688, 3.9748607054861993, 5.2009816106166795, 6.01430757043307, 5.575085239788685, 3.857342111221414, 5.968260633840324, 7.547913191167606, 5.353973040151862, 27.98708887593286, 9.326770916079203, 17.630653790023526, 9.458727204303075, 19.142218666716072, 14.306239031742363, 34.122172390400195, 17.561101830346054, 27.735726333807367, 47.46553482883357, 26.37842646096416, 26.888024821422157, 18.874753184560646, 20.301368841599277, 19.98147456621877, 15.788068464794316, 21.090659863239562, 20.276922242115706, 16.097950065069398, 15.247089296467557, 12.831962822802723, 13.14271116872084, 10.324793439459755, 12.872868290520449, 9.529270515775611, 8.388571902428918, 6.712335103539393, 4.875222800790996, 4.815272990871628, 10.296607469151919, 4.918636477449711, 5.362915628849487, 5.435645644464453, 4.314166076520083, 16.85684267491944, 3.262097728339482, 3.3190157434785887, 3.4448812474706383, 6.393635977328847, 2.6871364900326538, 4.817659963156853, 4.519041752958787, 7.337809130832894, 3.0677081966071267, 3.3076343175713325, 10.024671390174051, 4.963936961213626, 4.074749642310275, 2.3277175265168166, 3.997620025462373, 6.1753195085971555, 5.997087398884354, 4.014867117828672, 11.946100611229346, 11.380971519126742, 4.4492399509982095, 4.974464197755297, 9.405201814149576, 8.732281575019634, 7.938253838730219, 6.9241855576185225, 5.8794545175985915, 8.752032846527898, 9.046762751169302, 9.026730438266522, 9.21157015554987, 8.013422652827996, 7.398876542039217, 8.543530952526107, 8.44613284729642, 5.744176891964357, 5.68375976305616, 5.62983070002142, 25.08196019289131, 2.962213576381503, 2.810548996849358, 2.9852876355828806, 2.8941400645771154, 3.826905443445891, 9.65362718798665, 4.686409721976775, 2.8354520962110255, 2.930884510590993, 4.892906145650441, 7.0793546995268635, 2.1167271036890547, 3.8900531072640043, 2.0939384584422016, 5.619335687456374, 1.7846148082249276, 2.801004641429042, 1.9751610970159856, 1.9751612119161166, 2.9209108094272254, 1.9513873929747125, 2.083961888971954, 1.9751613229447536, 2.0538181412647534, 7.205376713321011, 3.3939499759430443, 2.276020733257743, 1.7986904875125014, 17.740537599805823, 3.7380313680314474, 2.9308845444075553, 3.4285939101500205, 5.72777988965635, 3.882309025334947, 2.930884503257209, 16.001947474875692, 3.9702725005626944, 4.33934398781647, 8.35259300898163, 10.126770546601819, 10.558303323076835, 4.303423280273211, 4.674952638854405, 5.273081368385108, 7.09158985684576, 4.797415659652506, 5.687497603428263, 5.592400014680258, 5.737513382827525, 4.193981017906897, 4.900951423601932, 6.042689958198088, 5.488673438940476, 6.232124074609904, 4.983598361538188, 4.876295821329401, 4.459478025406222, 50.2659069408511, 50.2659069408511, 50.2659069408511, 50.2659069408511, 25.63813841172101, 25.63813841172101, 24.690916518837962, 24.690916518837962, 6.603493748318123, 4.231843322329543, 5.202176646308876, 3.788848277120098, 2.8334736536872605, 3.955934742093787, 2.051400965461155, 4.569550965917225, 1.8563492396211507, 1.808083601210376, 5.927999487650918, 3.1677888376191596, 1.957591912477067, 2.257565683209774, 1.645985876750538, 3.854151502247412, 1.7302863472423544, 1.702816773634642, 1.5140551531456148, 1.2592066830478759, 1.5848339310605484, 3.132453761751903, 6.084292454357053, 2.7993732655483017, 3.0530507162495555, 6.391501361232699, 3.4443764217854467, 8.978841311918178, 5.999850501878602, 5.249761251021679, 9.034014082226888, 5.272909301691059, 2.9044935224960216, 5.2129609598658035, 3.2550397846597825, 3.629077358018425, 3.138722004841029], \"Total\": [841.0, 506.0, 444.0, 396.0, 262.0, 863.0, 452.0, 852.0, 578.0, 282.0, 765.0, 354.0, 92.0, 1641.0, 404.0, 51.0, 51.0, 51.0, 51.0, 304.0, 531.0, 65.0, 168.0, 521.0, 455.0, 78.0, 117.0, 93.0, 88.0, 145.0, 63.23704991256151, 33.113169992407705, 95.51105115484529, 103.6888347447076, 74.49583725282586, 27.26699379322407, 71.4220364542426, 139.7108056445494, 22.7000888750346, 26.407512199846927, 23.51221681208425, 27.531374454174316, 218.46366717255842, 27.433831326316653, 119.56840211864929, 29.4508247103343, 37.301632228380136, 50.08286063075779, 21.522621472066724, 29.33215857235907, 32.36186921339212, 20.5395253374193, 28.52828347485182, 38.19449855598727, 53.88763909135354, 48.111685572627046, 22.418957106803322, 26.527125919870198, 32.48360017900802, 38.20484512936605, 232.7525325325988, 116.8796424405283, 66.63233984413525, 261.8075726814231, 115.20813540762286, 330.4896734320957, 263.48817494970086, 863.2123236102357, 131.44672100639423, 1641.035780785898, 286.8896692314025, 182.337841964504, 116.87370696871852, 521.8144367865311, 96.26869830278417, 99.22049191388534, 487.34280273385843, 137.67790338783382, 304.4737239369964, 455.6210017161738, 529.316389940197, 404.36768849831276, 199.51718314740123, 531.1163302450581, 841.2314717651776, 452.1243034480443, 376.82351213086093, 852.1611980502654, 241.87487466794397, 765.4003486390937, 446.915492085641, 460.256853315026, 455.75680171882004, 506.45003834378946, 35.87516400789395, 93.62438588679434, 45.51839010357724, 54.717952723101405, 31.749286069590006, 24.867036933839216, 24.78493571975935, 34.80321412556577, 25.840397476944734, 191.69122374053617, 36.954127610237755, 29.831240614422597, 29.821731810142026, 65.39328562377479, 31.71218847083801, 36.81467174693192, 32.68745093485608, 56.139839816805036, 51.42755481377401, 28.72161751684711, 27.642585317154786, 32.72914729828335, 36.61284284600728, 30.63910124801209, 24.91154189016754, 26.739392576155947, 35.75383642775358, 39.37883330519933, 22.749952377406288, 39.61163878216143, 177.74237103567188, 47.72494373819002, 148.7535991971799, 80.60285585203773, 200.6064369016791, 91.06348701258942, 164.5650808151665, 333.03755232425175, 455.75680171882004, 531.1163302450581, 105.65886603532272, 81.89381816046202, 221.73963783250804, 119.5347979384866, 1641.035780785898, 863.2123236102357, 219.1624635432521, 127.90137981177241, 506.45003834378946, 487.34280273385843, 852.1611980502654, 376.82351213086093, 164.99318387327799, 521.8144367865311, 578.0972724057622, 765.4003486390937, 841.2314717651776, 241.87487466794397, 455.6210017161738, 291.67790506006776, 452.1243034480443, 197.46801017202438, 173.8554132015222, 460.256853315026, 276.9694679042099, 506.9479257124838, 354.00048533029127, 35.89727174230969, 26.593486693804977, 30.62456706185363, 44.380359834177916, 35.51555271623394, 27.67127555744495, 107.369639295342, 37.70462575678179, 26.830013901911425, 75.06178146595104, 33.79424577344247, 28.52694822438908, 27.641274124368948, 56.212165370073066, 21.678431689333625, 39.39283254332019, 24.688044763489078, 22.737219839363398, 23.60012090617876, 24.603699244281962, 34.57749100665781, 28.743619865308276, 41.627082849335004, 33.75605997244377, 24.61666625178126, 33.55407102084459, 25.610880054727264, 40.299133203659316, 57.34544643389371, 26.731577784003587, 57.52849125235491, 401.946771034983, 168.45020758076632, 852.1611980502654, 132.00301086170177, 120.48291035384554, 354.00048533029127, 446.915492085641, 82.76334640368445, 110.9413438112825, 1641.035780785898, 171.989452397415, 841.2314717651776, 262.3655756637145, 200.6064369016791, 529.316389940197, 333.03755232425175, 578.0972724057622, 251.99333322738553, 404.36768849831276, 313.4876280371604, 257.0327681863908, 460.256853315026, 165.24058037620145, 335.4988815422544, 506.45003834378946, 153.5978161302725, 765.4003486390937, 521.8144367865311, 217.89334847188965, 265.42548074236555, 863.2123236102357, 506.9479257124838, 28.358684646487102, 41.11861730448115, 22.525500692652813, 36.22295827945296, 26.504466773898713, 21.682134000069393, 21.548198844715937, 53.81458131751047, 36.119337900789695, 69.56600070482544, 27.523711531829687, 44.20647605705332, 23.477406359188976, 28.42123655900914, 44.075970465537814, 35.40642457391608, 22.608148343879567, 27.543939115270632, 101.34968534617416, 22.418957106803322, 28.607244529081843, 31.555788330306576, 28.46496168223993, 30.87431394123319, 23.52226080452245, 171.95552233200547, 29.315172083136638, 20.583286569040464, 39.268357603392985, 25.416220080505884, 35.5050434605663, 210.239652817941, 396.8596199394065, 110.9413438112825, 51.1008070919086, 182.337841964504, 444.2058415886739, 125.66777890904874, 232.7525325325988, 166.80907830047587, 257.0327681863908, 172.7185597154081, 192.5622337830688, 137.91139884144476, 156.5176258964086, 179.0925738845694, 168.45020758076632, 852.1611980502654, 219.08930549761578, 212.07594864433753, 1641.035780785898, 455.6210017161738, 529.316389940197, 841.2314717651776, 531.1163302450581, 196.01524951502947, 578.0972724057622, 262.3655756637145, 506.9479257124838, 304.4737239369964, 521.8144367865311, 765.4003486390937, 276.9694679042099, 333.03755232425175, 34.69056889311947, 39.6632787364462, 48.84394616718823, 92.36255204714253, 44.52468413009127, 75.41121879211444, 27.561712175571653, 40.33307827722717, 31.617610332035646, 27.633432160698828, 39.57822602450012, 90.78030965273182, 26.52518339450819, 28.70459337744852, 54.10150661573292, 50.08286063075779, 60.65406825013497, 31.587955164154867, 25.604993420076447, 35.39974938249599, 28.452389739540642, 23.701447229695233, 55.35602486315703, 35.51593773788154, 26.504466773898713, 25.736495568311373, 23.84150452242447, 26.827603446749894, 23.669680316803138, 33.560707004237905, 72.86106353592366, 218.46366717255842, 263.48817494970086, 261.8075726814231, 190.7504812893823, 165.24058037620145, 91.35285532727283, 138.11522775658915, 460.256853315026, 172.25634587293865, 1641.035780785898, 863.2123236102357, 455.75680171882004, 529.316389940197, 103.6888347447076, 313.4876280371604, 455.6210017161738, 446.915492085641, 487.34280273385843, 404.36768849831276, 286.8896692314025, 196.01524951502947, 396.8596199394065, 506.45003834378946, 179.95600907305382, 765.4003486390937, 335.4988815422544, 506.9479257124838, 521.8144367865311, 578.0972724057622, 21.458584373775672, 24.356112493957053, 29.439494692428973, 40.156392964237696, 29.55185659351654, 32.41669625828174, 21.661027291484984, 25.51162030759692, 37.152195370637955, 28.535093863229363, 25.483632727677325, 27.517815200844478, 39.22324426753729, 28.528647985606046, 36.305636151321075, 25.499439223027185, 38.39759478056956, 25.647814363382427, 48.41668542096538, 24.61078659540442, 22.586340374413776, 20.52699408741248, 21.533806143417852, 49.218893695901265, 63.63807692420049, 31.64889803882681, 91.35285532727283, 68.08751499721285, 25.50624568956552, 28.55493925446146, 74.82627996535254, 55.14898759110814, 188.95398823337496, 91.2654921167846, 765.4003486390937, 1641.035780785898, 376.82351213086093, 460.256853315026, 455.6210017161738, 218.4204052656449, 487.34280273385843, 251.99333322738553, 578.0972724057622, 401.946771034983, 291.67790506006776, 863.2123236102357, 219.1624635432521, 506.45003834378946, 276.9694679042099, 212.07594864433753, 521.8144367865311, 446.915492085641, 186.80245151250583, 841.2314717651776, 207.37757323305982, 444.2058415886739, 304.4737239369964, 313.4876280371604, 455.75680171882004, 199.14942420105174, 217.89334847188965, 179.0925738845694, 529.316389940197, 852.1611980502654, 32.51169905446977, 66.54738959383097, 109.80111453916669, 26.24305919882574, 38.350519776188335, 23.080285410315103, 61.07793836297037, 40.00137361270761, 105.45145701726221, 51.018284936919436, 30.87431394123319, 27.934523624317453, 41.838869692367325, 31.94996778514056, 86.16236731602933, 506.9479257124838, 22.931768280254246, 28.807272805479954, 31.981242509875145, 108.75232059714278, 56.139839816805036, 56.169261861802184, 49.77921031133456, 39.01731920473147, 89.81626697738598, 452.1243034480443, 26.935384321107396, 22.826143454799695, 66.57723417176615, 33.09909939677962, 172.25634587293865, 396.8596199394065, 195.43362512080833, 139.25935278281514, 219.08930549761578, 354.00048533029127, 177.74237103567188, 765.4003486390937, 852.1611980502654, 134.62603191208515, 257.0327681863908, 401.946771034983, 232.7723704755831, 335.4988815422544, 262.3655756637145, 1641.035780785898, 291.67790506006776, 197.46801017202438, 404.36768849831276, 531.1163302450581, 863.2123236102357, 66.00818819015802, 55.999524603845266, 23.796462252477163, 60.4860515638124, 23.74198700232848, 25.72987500864313, 76.31976917088296, 26.627733919648666, 28.709694874967884, 44.39595081851951, 102.2779237902743, 101.34968534617416, 37.45025595231511, 37.5848022870791, 24.91154189016754, 40.64005030980507, 53.272258740436364, 58.45119975917598, 49.38250826149447, 40.681634597499574, 36.44569163287769, 40.53731774588629, 68.45840626959507, 28.795385038746016, 56.06182469078368, 40.08892654116397, 39.81175916757593, 53.46349939660818, 57.41330888679054, 34.51050129385051, 78.11541542031327, 145.99074193807775, 444.2058415886739, 140.30000171349815, 841.2314717651776, 116.8796424405283, 179.0925738845694, 578.0972724057622, 304.4737239369964, 276.9694679042099, 531.1163302450581, 376.82351213086093, 232.7723704755831, 330.4896734320957, 196.01524951502947, 765.4003486390937, 108.54398402111799, 863.2123236102357, 446.915492085641, 1641.035780785898, 217.89334847188965, 335.4988815422544, 192.5622337830688, 529.316389940197, 88.88739780580245, 57.41330888679054, 145.99074193807775, 41.44750344836053, 28.460813762912323, 28.599153457077747, 30.444193776544136, 42.295958497925405, 28.795385038746016, 25.574636455969575, 26.72191543893415, 23.523157715547136, 42.32221499640169, 45.53964198496132, 21.816858298085148, 58.63188032390461, 22.407740410064353, 33.701046529094334, 49.079112058194376, 27.645458340867133, 38.32229694178957, 53.81458131751047, 35.44785314303743, 37.152195370637955, 27.708738610904998, 64.0136313414946, 27.569874695826883, 22.657689609139442, 40.61305292334813, 33.549992202500896, 171.989452397415, 61.646601758532306, 236.14302278948355, 265.42548074236555, 863.2123236102357, 404.36768849831276, 78.93863297002703, 166.80907830047587, 241.87487466794397, 401.946771034983, 179.95600907305382, 172.7185597154081, 446.915492085641, 529.316389940197, 117.81897726494758, 192.5622337830688, 460.256853315026, 506.45003834378946, 313.4876280371604, 1641.035780785898, 455.75680171882004, 765.4003486390937, 354.00048533029127, 262.3655756637145, 121.29414298775397, 841.2314717651776, 188.95398823337496, 169.11114851807054, 444.2058415886739, 221.73963783250804, 45.75177969481803, 93.70236227869627, 33.09909939677962, 32.91386951259826, 56.169261861802184, 80.60285585203773, 22.777534823443702, 39.60030906218251, 32.48360017900802, 29.512876531992557, 24.898906854061064, 28.595964633812834, 26.830013901911425, 27.894165528270257, 23.744535390723843, 21.816858298085148, 43.32875600351076, 75.41121879211444, 33.638746856026614, 42.65202939093935, 22.782444411227463, 28.6299403981865, 28.91052771189636, 24.625550323744395, 48.41668542096538, 71.13833941412494, 74.49583725282586, 33.701046529094334, 78.79194431406133, 23.651204793489708, 25.66632786946721, 65.43351617178443, 188.95398823337496, 70.9276490073441, 156.10696712118076, 265.42548074236555, 191.69122374053617, 101.01825580460614, 148.7535991971799, 506.9479257124838, 841.2314717651776, 765.4003486390937, 219.08930549761578, 396.8596199394065, 452.1243034480443, 376.82351213086093, 330.4896734320957, 232.7723704755831, 217.89334847188965, 156.84919746698083, 354.00048533029127, 506.45003834378946, 1641.035780785898, 282.9736645706324, 487.34280273385843, 446.915492085641, 529.316389940197, 286.8896692314025, 460.256853315026, 55.338966275151954, 78.04901218335402, 58.25431817260526, 29.57643223687705, 32.57531176255493, 30.558391468165976, 93.61618617489029, 24.755725905815694, 24.47351492035344, 22.640345543218455, 25.65423408597302, 23.626537967827247, 282.9736645706324, 26.6553934725432, 33.602491028127666, 27.478967086235127, 36.74381925752146, 36.494500964234454, 21.548198844715937, 22.712981667678417, 207.37757323305982, 25.565652919567153, 20.5395253374193, 26.612477574774413, 55.23282460708268, 39.43480382156024, 35.47704095862803, 36.23251230516622, 27.45824888098589, 28.608303155375584, 70.32912499982565, 38.45913694711341, 77.01426999882666, 444.2058415886739, 55.14898759110814, 63.23163941926744, 54.717952723101405, 140.30000171349815, 276.9694679042099, 58.33140809975913, 863.2123236102357, 119.4856342690509, 195.43362512080833, 506.45003834378946, 171.95552233200547, 578.0972724057622, 223.33028754919076, 841.2314717651776, 1641.035780785898, 127.90137981177241, 852.1611980502654, 210.239652817941, 291.67790506006776, 376.82351213086093, 404.36768849831276, 218.4204052656449, 487.34280273385843, 335.4988815422544, 765.4003486390937, 286.8896692314025, 531.1163302450581, 65.29293593375746, 44.82518289642523, 35.111513449075325, 92.9625510366936, 31.410612754535833, 36.38054631324328, 23.565403217711342, 43.32068700671418, 92.33174048445494, 60.4860515638124, 26.52518339450819, 24.625550323744395, 44.39595081851951, 24.682062330841745, 105.45145701726221, 44.26866019973291, 72.86106353592366, 153.5978161302725, 41.08616094101365, 54.90652430039271, 31.485255602630062, 66.74046688823246, 22.63894791025771, 29.654882622777208, 37.45025595231511, 35.44785314303743, 24.79756209897953, 39.417525870009214, 50.57724970991659, 36.80474013251249, 199.97532650932487, 66.57723417176615, 141.10335691725442, 68.79045897349133, 171.989452397415, 127.44085667609369, 455.75680171882004, 195.43362512080833, 521.8144367865311, 1641.035780785898, 531.1163302450581, 578.0972724057622, 282.9736645706324, 455.6210017161738, 506.45003834378946, 313.4876280371604, 852.1611980502654, 841.2314717651776, 765.4003486390937, 863.2123236102357, 207.37757323305982, 487.34280273385843, 24.763490872684017, 38.39759478056956, 28.795385038746016, 27.894165528270257, 24.61078659540442, 23.744535390723843, 24.682062330841745, 53.46349939660818, 27.455251594165297, 32.4477067437946, 33.72588580768158, 29.509363270311976, 117.81897726494758, 23.60012090617876, 24.567218707114066, 25.539722811278903, 48.42552039823448, 20.737705955698793, 37.5848022870791, 35.58192893440118, 61.13694289414234, 26.72191543893415, 29.446825516235986, 89.81626697738598, 45.53964198496132, 37.84345232252104, 21.62558829260813, 37.3112492021178, 58.184218869788396, 57.52849125235491, 39.01731920473147, 138.11522775658915, 168.45020758076632, 45.533997545350374, 57.34544643389371, 221.73963783250804, 196.01524951502947, 166.80907830047587, 132.00301086170177, 100.92315333087679, 354.00048533029127, 404.36768849831276, 578.0972724057622, 841.2314717651776, 487.34280273385843, 335.4988815422544, 765.4003486390937, 852.1611980502654, 113.27731830070951, 102.2779237902743, 132.1946255799351, 37.594823230119275, 22.777534823443702, 21.65490374515678, 23.60012090617876, 23.523157715547136, 31.524229094573332, 82.76334640368445, 43.2863447309376, 27.455251594165297, 28.465706175122072, 47.548426143342034, 75.06178146595104, 25.416220080505884, 47.26223020991156, 25.565652919567153, 70.69956335284498, 22.586340374413776, 35.58192893440118, 25.66632786946721, 26.593486693804977, 39.37883330519933, 26.627733919648666, 28.52690362342417, 27.526578840835533, 28.807272805479954, 101.30613181793119, 48.081114723634116, 32.6314809451463, 26.43991954784704, 262.3655756637145, 57.15837915860022, 45.51839010357724, 56.67663707372298, 134.62603191208515, 75.69902017198797, 49.3665359032018, 841.2314717651776, 84.25236862950794, 98.3108705086693, 304.4737239369964, 521.8144367865311, 578.0972724057622, 101.47681548359594, 132.00301086170177, 192.5622337830688, 444.2058415886739, 171.95552233200547, 330.4896734320957, 333.03755232425175, 404.36768849831276, 113.27731830070951, 223.33028754919076, 852.1611980502654, 529.316389940197, 1641.035780785898, 531.1163302450581, 506.45003834378946, 251.99333322738553, 51.18718141157821, 51.18718141157821, 51.18718141157821, 51.18718141157821, 26.559412870945764, 26.559412870945764, 25.612191003824766, 25.612191003824766, 40.08892654116397, 26.602150293854663, 33.48905687598546, 32.29308855647291, 27.478967086235127, 42.32221499640169, 23.615823753497423, 53.88763909135354, 22.407740410064353, 22.56394303367269, 78.79194431406133, 43.21030475693156, 27.26699379322407, 31.94996778514056, 23.62872826750995, 61.646601758532306, 28.743619865308276, 28.6299403981865, 25.609954444313168, 21.492790703785143, 28.460813762912323, 56.842241624113996, 121.81754986875953, 55.238696899893014, 62.865717569126154, 164.99318387327799, 95.51105115484529, 863.2123236102357, 396.8596199394065, 304.4737239369964, 1641.035780785898, 531.1163302450581, 80.61474615063494, 841.2314717651776, 145.99074193807775, 455.75680171882004, 218.4204052656449], \"Category\": [\"Default\", \"Default\", \"Default\", \"Default\", \"Default\", \"Default\", \"Default\", \"Default\", \"Default\", \"Default\", \"Default\", \"Default\", \"Default\", \"Default\", \"Default\", \"Default\", \"Default\", \"Default\", \"Default\", \"Default\", \"Default\", \"Default\", \"Default\", \"Default\", \"Default\", \"Default\", \"Default\", \"Default\", \"Default\", \"Default\", \"Topic1\", \"Topic1\", \"Topic1\", \"Topic1\", \"Topic1\", \"Topic1\", \"Topic1\", \"Topic1\", \"Topic1\", \"Topic1\", \"Topic1\", \"Topic1\", \"Topic1\", \"Topic1\", \"Topic1\", \"Topic1\", \"Topic1\", \"Topic1\", \"Topic1\", \"Topic1\", \"Topic1\", \"Topic1\", \"Topic1\", \"Topic1\", \"Topic1\", \"Topic1\", \"Topic1\", \"Topic1\", \"Topic1\", \"Topic1\", \"Topic1\", \"Topic1\", \"Topic1\", \"Topic1\", \"Topic1\", \"Topic1\", \"Topic1\", \"Topic1\", \"Topic1\", \"Topic1\", \"Topic1\", \"Topic1\", \"Topic1\", \"Topic1\", \"Topic1\", \"Topic1\", \"Topic1\", \"Topic1\", \"Topic1\", \"Topic1\", \"Topic1\", \"Topic1\", \"Topic1\", \"Topic1\", \"Topic1\", \"Topic1\", \"Topic1\", \"Topic1\", \"Topic1\", \"Topic1\", \"Topic1\", \"Topic1\", \"Topic1\", \"Topic1\", \"Topic2\", \"Topic2\", \"Topic2\", \"Topic2\", \"Topic2\", \"Topic2\", \"Topic2\", \"Topic2\", \"Topic2\", \"Topic2\", \"Topic2\", \"Topic2\", \"Topic2\", \"Topic2\", \"Topic2\", \"Topic2\", \"Topic2\", \"Topic2\", \"Topic2\", \"Topic2\", \"Topic2\", \"Topic2\", \"Topic2\", \"Topic2\", \"Topic2\", \"Topic2\", \"Topic2\", \"Topic2\", \"Topic2\", \"Topic2\", \"Topic2\", \"Topic2\", \"Topic2\", \"Topic2\", \"Topic2\", \"Topic2\", \"Topic2\", \"Topic2\", \"Topic2\", \"Topic2\", \"Topic2\", \"Topic2\", \"Topic2\", \"Topic2\", \"Topic2\", \"Topic2\", \"Topic2\", \"Topic2\", \"Topic2\", \"Topic2\", \"Topic2\", \"Topic2\", \"Topic2\", \"Topic2\", \"Topic2\", \"Topic2\", \"Topic2\", \"Topic2\", \"Topic2\", \"Topic2\", \"Topic2\", \"Topic2\", \"Topic2\", \"Topic2\", \"Topic2\", \"Topic2\", \"Topic2\", \"Topic3\", \"Topic3\", \"Topic3\", \"Topic3\", \"Topic3\", \"Topic3\", \"Topic3\", \"Topic3\", \"Topic3\", \"Topic3\", \"Topic3\", \"Topic3\", \"Topic3\", \"Topic3\", \"Topic3\", \"Topic3\", \"Topic3\", \"Topic3\", \"Topic3\", \"Topic3\", \"Topic3\", \"Topic3\", \"Topic3\", \"Topic3\", \"Topic3\", \"Topic3\", \"Topic3\", \"Topic3\", \"Topic3\", \"Topic3\", \"Topic3\", \"Topic3\", \"Topic3\", \"Topic3\", \"Topic3\", \"Topic3\", \"Topic3\", \"Topic3\", \"Topic3\", \"Topic3\", \"Topic3\", \"Topic3\", \"Topic3\", \"Topic3\", \"Topic3\", \"Topic3\", \"Topic3\", \"Topic3\", \"Topic3\", \"Topic3\", \"Topic3\", \"Topic3\", \"Topic3\", \"Topic3\", \"Topic3\", \"Topic3\", \"Topic3\", \"Topic3\", \"Topic3\", \"Topic3\", \"Topic3\", \"Topic3\", \"Topic3\", \"Topic4\", \"Topic4\", \"Topic4\", \"Topic4\", \"Topic4\", \"Topic4\", \"Topic4\", \"Topic4\", \"Topic4\", \"Topic4\", \"Topic4\", \"Topic4\", \"Topic4\", \"Topic4\", \"Topic4\", \"Topic4\", \"Topic4\", \"Topic4\", \"Topic4\", \"Topic4\", \"Topic4\", \"Topic4\", \"Topic4\", \"Topic4\", \"Topic4\", \"Topic4\", \"Topic4\", \"Topic4\", \"Topic4\", \"Topic4\", \"Topic4\", \"Topic4\", \"Topic4\", \"Topic4\", \"Topic4\", \"Topic4\", \"Topic4\", \"Topic4\", \"Topic4\", \"Topic4\", \"Topic4\", \"Topic4\", \"Topic4\", \"Topic4\", \"Topic4\", \"Topic4\", \"Topic4\", \"Topic4\", \"Topic4\", \"Topic4\", \"Topic4\", \"Topic4\", \"Topic4\", \"Topic4\", \"Topic4\", \"Topic4\", \"Topic4\", \"Topic4\", \"Topic4\", \"Topic4\", \"Topic4\", \"Topic4\", \"Topic4\", \"Topic4\", \"Topic5\", \"Topic5\", \"Topic5\", \"Topic5\", \"Topic5\", \"Topic5\", \"Topic5\", \"Topic5\", \"Topic5\", \"Topic5\", \"Topic5\", \"Topic5\", \"Topic5\", \"Topic5\", \"Topic5\", \"Topic5\", \"Topic5\", \"Topic5\", \"Topic5\", \"Topic5\", \"Topic5\", \"Topic5\", \"Topic5\", \"Topic5\", \"Topic5\", \"Topic5\", \"Topic5\", \"Topic5\", \"Topic5\", \"Topic5\", \"Topic5\", \"Topic5\", \"Topic5\", \"Topic5\", \"Topic5\", \"Topic5\", \"Topic5\", \"Topic5\", \"Topic5\", \"Topic5\", \"Topic5\", \"Topic5\", \"Topic5\", \"Topic5\", \"Topic5\", \"Topic5\", \"Topic5\", \"Topic5\", \"Topic5\", \"Topic5\", \"Topic5\", \"Topic5\", \"Topic5\", \"Topic5\", \"Topic5\", \"Topic5\", \"Topic5\", \"Topic5\", \"Topic5\", \"Topic5\", \"Topic6\", \"Topic6\", \"Topic6\", \"Topic6\", \"Topic6\", \"Topic6\", \"Topic6\", \"Topic6\", \"Topic6\", \"Topic6\", \"Topic6\", \"Topic6\", \"Topic6\", \"Topic6\", \"Topic6\", \"Topic6\", \"Topic6\", \"Topic6\", \"Topic6\", \"Topic6\", \"Topic6\", \"Topic6\", \"Topic6\", \"Topic6\", \"Topic6\", \"Topic6\", \"Topic6\", \"Topic6\", \"Topic6\", \"Topic6\", \"Topic6\", \"Topic6\", \"Topic6\", \"Topic6\", \"Topic6\", \"Topic6\", \"Topic6\", \"Topic6\", \"Topic6\", \"Topic6\", \"Topic6\", \"Topic6\", \"Topic6\", \"Topic6\", \"Topic6\", \"Topic6\", \"Topic6\", \"Topic6\", \"Topic6\", \"Topic6\", \"Topic6\", \"Topic6\", \"Topic6\", \"Topic6\", \"Topic6\", \"Topic6\", \"Topic6\", \"Topic6\", \"Topic6\", \"Topic6\", \"Topic6\", \"Topic6\", \"Topic6\", \"Topic6\", \"Topic7\", \"Topic7\", \"Topic7\", \"Topic7\", \"Topic7\", \"Topic7\", \"Topic7\", \"Topic7\", \"Topic7\", \"Topic7\", \"Topic7\", \"Topic7\", \"Topic7\", \"Topic7\", \"Topic7\", \"Topic7\", \"Topic7\", \"Topic7\", \"Topic7\", \"Topic7\", \"Topic7\", \"Topic7\", \"Topic7\", \"Topic7\", \"Topic7\", \"Topic7\", \"Topic7\", \"Topic7\", \"Topic7\", \"Topic7\", \"Topic7\", \"Topic7\", \"Topic7\", \"Topic7\", \"Topic7\", \"Topic7\", \"Topic7\", \"Topic7\", \"Topic7\", \"Topic7\", \"Topic7\", \"Topic7\", \"Topic7\", \"Topic7\", \"Topic7\", \"Topic7\", \"Topic7\", \"Topic7\", \"Topic7\", \"Topic7\", \"Topic7\", \"Topic8\", \"Topic8\", \"Topic8\", \"Topic8\", \"Topic8\", \"Topic8\", \"Topic8\", \"Topic8\", \"Topic8\", \"Topic8\", \"Topic8\", \"Topic8\", \"Topic8\", \"Topic8\", \"Topic8\", \"Topic8\", \"Topic8\", \"Topic8\", \"Topic8\", \"Topic8\", \"Topic8\", \"Topic8\", \"Topic8\", \"Topic8\", \"Topic8\", \"Topic8\", \"Topic8\", \"Topic8\", \"Topic8\", \"Topic8\", \"Topic8\", \"Topic8\", \"Topic8\", \"Topic8\", \"Topic8\", \"Topic8\", \"Topic8\", \"Topic8\", \"Topic8\", \"Topic8\", \"Topic8\", \"Topic8\", \"Topic8\", \"Topic8\", \"Topic8\", \"Topic8\", \"Topic8\", \"Topic8\", \"Topic8\", \"Topic8\", \"Topic8\", \"Topic8\", \"Topic8\", \"Topic8\", \"Topic9\", \"Topic9\", \"Topic9\", \"Topic9\", \"Topic9\", \"Topic9\", \"Topic9\", \"Topic9\", \"Topic9\", \"Topic9\", \"Topic9\", \"Topic9\", \"Topic9\", \"Topic9\", \"Topic9\", \"Topic9\", \"Topic9\", \"Topic9\", \"Topic9\", \"Topic9\", \"Topic9\", \"Topic9\", \"Topic9\", \"Topic9\", \"Topic9\", \"Topic9\", \"Topic9\", \"Topic9\", \"Topic9\", \"Topic9\", \"Topic9\", \"Topic9\", \"Topic9\", \"Topic9\", \"Topic9\", \"Topic9\", \"Topic9\", \"Topic9\", \"Topic9\", \"Topic9\", \"Topic9\", \"Topic9\", \"Topic9\", \"Topic9\", \"Topic9\", \"Topic9\", \"Topic9\", \"Topic9\", \"Topic9\", \"Topic9\", \"Topic9\", \"Topic9\", \"Topic9\", \"Topic9\", \"Topic9\", \"Topic9\", \"Topic9\", \"Topic9\", \"Topic9\", \"Topic9\", \"Topic10\", \"Topic10\", \"Topic10\", \"Topic10\", \"Topic10\", \"Topic10\", \"Topic10\", \"Topic10\", \"Topic10\", \"Topic10\", \"Topic10\", \"Topic10\", \"Topic10\", \"Topic10\", \"Topic10\", \"Topic10\", \"Topic10\", \"Topic10\", \"Topic10\", \"Topic10\", \"Topic10\", \"Topic10\", \"Topic10\", \"Topic10\", \"Topic10\", \"Topic10\", \"Topic10\", \"Topic10\", \"Topic10\", \"Topic10\", \"Topic10\", \"Topic10\", \"Topic10\", \"Topic10\", \"Topic10\", \"Topic10\", \"Topic10\", \"Topic10\", \"Topic10\", \"Topic10\", \"Topic10\", \"Topic10\", \"Topic10\", \"Topic10\", \"Topic10\", \"Topic10\", \"Topic10\", \"Topic10\", \"Topic10\", \"Topic10\", \"Topic10\", \"Topic10\", \"Topic10\", \"Topic10\", \"Topic10\", \"Topic10\", \"Topic10\", \"Topic10\", \"Topic10\", \"Topic11\", \"Topic11\", \"Topic11\", \"Topic11\", \"Topic11\", \"Topic11\", \"Topic11\", \"Topic11\", \"Topic11\", \"Topic11\", \"Topic11\", \"Topic11\", \"Topic11\", \"Topic11\", \"Topic11\", \"Topic11\", \"Topic11\", \"Topic11\", \"Topic11\", \"Topic11\", \"Topic11\", \"Topic11\", \"Topic11\", \"Topic11\", \"Topic11\", \"Topic11\", \"Topic11\", \"Topic11\", \"Topic11\", \"Topic11\", \"Topic11\", \"Topic11\", \"Topic11\", \"Topic11\", \"Topic11\", \"Topic11\", \"Topic11\", \"Topic11\", \"Topic11\", \"Topic11\", \"Topic11\", \"Topic11\", \"Topic11\", \"Topic11\", \"Topic11\", \"Topic11\", \"Topic11\", \"Topic11\", \"Topic11\", \"Topic11\", \"Topic11\", \"Topic11\", \"Topic11\", \"Topic11\", \"Topic11\", \"Topic11\", \"Topic11\", \"Topic11\", \"Topic11\", \"Topic11\", \"Topic11\", \"Topic12\", \"Topic12\", \"Topic12\", \"Topic12\", \"Topic12\", \"Topic12\", \"Topic12\", \"Topic12\", \"Topic12\", \"Topic12\", \"Topic12\", \"Topic12\", \"Topic12\", \"Topic12\", \"Topic12\", \"Topic12\", \"Topic12\", \"Topic12\", \"Topic12\", \"Topic12\", \"Topic12\", \"Topic12\", \"Topic12\", \"Topic12\", \"Topic12\", \"Topic12\", \"Topic12\", \"Topic12\", \"Topic12\", \"Topic12\", \"Topic12\", \"Topic12\", \"Topic12\", \"Topic12\", \"Topic12\", \"Topic12\", \"Topic12\", \"Topic12\", \"Topic12\", \"Topic12\", \"Topic12\", \"Topic12\", \"Topic12\", \"Topic12\", \"Topic12\", \"Topic12\", \"Topic12\", \"Topic12\", \"Topic12\", \"Topic12\", \"Topic12\", \"Topic12\", \"Topic13\", \"Topic13\", \"Topic13\", \"Topic13\", \"Topic13\", \"Topic13\", \"Topic13\", \"Topic13\", \"Topic13\", \"Topic13\", \"Topic13\", \"Topic13\", \"Topic13\", \"Topic13\", \"Topic13\", \"Topic13\", \"Topic13\", \"Topic13\", \"Topic13\", \"Topic13\", \"Topic13\", \"Topic13\", \"Topic13\", \"Topic13\", \"Topic13\", \"Topic13\", \"Topic13\", \"Topic13\", \"Topic13\", \"Topic13\", \"Topic13\", \"Topic13\", \"Topic13\", \"Topic13\", \"Topic13\", \"Topic13\", \"Topic13\", \"Topic13\", \"Topic13\", \"Topic13\", \"Topic13\", \"Topic13\", \"Topic13\", \"Topic13\", \"Topic13\", \"Topic13\", \"Topic13\", \"Topic13\", \"Topic13\", \"Topic13\", \"Topic13\", \"Topic14\", \"Topic14\", \"Topic14\", \"Topic14\", \"Topic14\", \"Topic14\", \"Topic14\", \"Topic14\", \"Topic14\", \"Topic14\", \"Topic14\", \"Topic14\", \"Topic14\", \"Topic14\", \"Topic14\", \"Topic14\", \"Topic14\", \"Topic14\", \"Topic14\", \"Topic14\", \"Topic14\", \"Topic14\", \"Topic14\", \"Topic14\", \"Topic14\", \"Topic14\", \"Topic14\", \"Topic14\", \"Topic14\", \"Topic14\", \"Topic14\", \"Topic14\", \"Topic14\", \"Topic14\", \"Topic14\", \"Topic14\", \"Topic14\", \"Topic14\", \"Topic14\", \"Topic14\", \"Topic14\", \"Topic14\", \"Topic14\", \"Topic14\", \"Topic14\", \"Topic14\", \"Topic14\", \"Topic14\", \"Topic14\", \"Topic14\", \"Topic14\", \"Topic14\", \"Topic14\", \"Topic14\", \"Topic14\", \"Topic14\", \"Topic14\", \"Topic14\", \"Topic15\", \"Topic15\", \"Topic15\", \"Topic15\", \"Topic15\", \"Topic15\", \"Topic15\", \"Topic15\", \"Topic15\", \"Topic15\", \"Topic15\", \"Topic15\", \"Topic15\", \"Topic15\", \"Topic15\", \"Topic15\", \"Topic15\", \"Topic15\", \"Topic15\", \"Topic15\", \"Topic15\", \"Topic15\", \"Topic15\", \"Topic15\", \"Topic15\", \"Topic15\", \"Topic15\", \"Topic15\", \"Topic15\", \"Topic15\", \"Topic15\", \"Topic15\", \"Topic15\", \"Topic15\", \"Topic15\", \"Topic15\", \"Topic15\", \"Topic15\", \"Topic15\", \"Topic15\", \"Topic15\", \"Topic15\", \"Topic15\", \"Topic15\", \"Topic15\"], \"logprob\": [30.0, 29.0, 28.0, 27.0, 26.0, 25.0, 24.0, 23.0, 22.0, 21.0, 20.0, 19.0, 18.0, 17.0, 16.0, 15.0, 14.0, 13.0, 12.0, 11.0, 10.0, 9.0, 8.0, 7.0, 6.0, 5.0, 4.0, 3.0, 2.0, 1.0, -5.0954, -5.8067, -4.9865, -4.9314, -5.3758, -6.4124, -5.4636, -4.821, -6.6581, -6.5077, -6.669, -6.5279, -4.4639, -6.5466, -5.0892, -6.5022, -6.2663, -6.0062, -6.8573, -6.5601, -6.472, -6.9894, -6.6634, -6.3856, -6.0694, -6.1993, -6.9635, -6.7972, -6.6102, -6.454, -4.6841, -5.3863, -5.9246, -4.6472, -5.4179, -4.5644, -4.8188, -3.8976, -5.3984, -3.4446, -4.8158, -5.1837, -5.519, -4.4703, -5.6667, -5.6516, -4.6168, -5.4513, -4.9456, -4.711, -4.6458, -4.8311, -5.2604, -4.7271, -4.5361, -4.8982, -4.9947, -4.6608, -5.2033, -4.9009, -5.0554, -5.1581, -5.1764, -5.1792, -5.7569, -4.8229, -5.6891, -5.5159, -6.1246, -6.3951, -6.4169, -6.0824, -6.4459, -4.4683, -6.1281, -6.3557, -6.3603, -5.5778, -6.3382, -6.1925, -6.3677, -5.8297, -5.9288, -6.5138, -6.5643, -6.4013, -6.2969, -6.4762, -6.6914, -6.6477, -6.3771, -6.2817, -6.8377, -6.2999, -4.8495, -6.1201, -5.0972, -5.6535, -4.8585, -5.5559, -5.0615, -4.503, -4.2482, -4.1453, -5.4631, -5.6755, -4.9282, -5.4086, -3.5901, -4.0677, -5.0063, -5.3673, -4.5089, -4.5373, -4.2209, -4.8104, -5.2858, -4.6804, -4.6953, -4.5706, -4.5419, -5.1422, -4.8802, -5.0646, -4.9141, -5.2286, -5.2899, -5.0089, -5.1756, -5.0554, -5.143, -5.9267, -6.2289, -6.1428, -5.7776, -6.0155, -6.2729, -4.941, -6.003, -6.3595, -5.3308, -6.1476, -6.3207, -6.3881, -5.711, -6.6805, -6.0862, -6.5557, -6.6682, -6.6516, -6.6146, -6.2751, -6.4641, -6.1191, -6.3417, -6.6603, -6.3522, -6.6229, -6.175, -5.8263, -6.5921, -5.8687, -4.0627, -4.8908, -3.5236, -5.1806, -5.2948, -4.4208, -4.3933, -5.6704, -5.4516, -3.5052, -5.1393, -4.0695, -4.8798, -5.0876, -4.4795, -4.7867, -4.5583, -5.04, -4.7784, -4.9697, -5.1372, -4.887, -5.3597, -5.0487, -4.8737, -5.4187, -4.8296, -4.9847, -5.2987, -5.3113, -5.1952, -5.3042, -5.7911, -5.4281, -6.2142, -5.8549, -6.2343, -6.4486, -6.4624, -5.5811, -5.9934, -5.3549, -6.2856, -5.8137, -6.4585, -6.2704, -5.8467, -6.1384, -6.5919, -6.3962, -5.1219, -6.6571, -6.4182, -6.3338, -6.4523, -6.3999, -6.6721, -4.6866, -6.4567, -6.8169, -6.1917, -6.6337, -6.3026, -4.5529, -3.9658, -5.2129, -5.9434, -4.7628, -3.9497, -5.1222, -4.6001, -4.9039, -4.5317, -4.8781, -4.8654, -5.1539, -5.0845, -4.9976, -5.0411, -3.9295, -4.8698, -4.9478, -3.6986, -4.5531, -4.483, -4.2434, -4.5189, -5.094, -4.6557, -4.9991, -4.8084, -4.9632, -4.833, -4.7633, -5.0579, -5.0774, -5.2652, -5.172, -5.1802, -4.5896, -5.367, -4.8861, -5.9364, -5.6161, -5.9405, -6.0986, -5.7806, -4.9517, -6.2192, -6.1425, -5.5106, -5.6461, -5.4739, -6.1289, -6.3389, -6.0343, -6.2719, -6.4794, -5.6382, -6.0907, -6.3989, -6.4302, -6.5306, -6.4133, -6.544, -6.2189, -5.4479, -4.4818, -4.3654, -4.4326, -4.7336, -4.9286, -5.4413, -5.1421, -4.3483, -5.033, -3.6753, -4.1525, -4.5639, -4.495, -5.4165, -4.8553, -4.6692, -4.7284, -4.7174, -4.8306, -4.9691, -5.131, -4.8892, -4.832, -5.1649, -4.7773, -5.0535, -5.0948, -5.1049, -5.1636, -5.8774, -5.9665, -5.9183, -5.6205, -5.954, -5.8756, -6.3699, -6.2195, -5.878, -6.1589, -6.3092, -6.2633, -5.9107, -6.2388, -5.9996, -6.3541, -5.9632, -6.3734, -5.7471, -6.4435, -6.5325, -6.6618, -6.618, -5.8011, -5.5563, -6.2561, -5.1986, -5.509, -6.515, -6.4176, -5.4919, -5.7904, -4.775, -5.3936, -3.8076, -3.2772, -4.39, -4.2978, -4.3088, -4.8893, -4.4334, -4.8643, -4.3433, -4.5964, -4.8137, -4.2171, -5.0382, -4.6223, -4.9777, -5.1086, -4.7288, -4.8281, -5.201, -4.6176, -5.2079, -4.9959, -5.1207, -5.1196, -5.0392, -5.2619, -5.2458, -5.2969, -5.2504, -5.2487, -4.9484, -4.4752, -4.0071, -5.4419, -5.1476, -5.8234, -5.0016, -5.4518, -4.4843, -5.214, -5.7518, -5.8557, -5.5018, -5.7951, -4.8057, -3.0355, -6.1332, -5.9143, -5.8432, -4.6518, -5.3316, -5.3418, -5.4693, -5.7326, -4.9338, -3.3245, -6.1459, -6.314, -5.2658, -5.9904, -4.3521, -3.6796, -4.3351, -4.6577, -4.3003, -3.9177, -4.5239, -3.5574, -3.6586, -4.9097, -4.5634, -4.3492, -4.7345, -4.8297, -4.9374, -4.5283, -4.937, -5.05, -4.9442, -4.9191, -5.0376, -3.9427, -4.1701, -5.3269, -4.5436, -5.5463, -5.4865, -4.5498, -5.6488, -5.6415, -5.2126, -4.4355, -4.4961, -5.4941, -5.4965, -5.9418, -5.4861, -5.2707, -5.188, -5.3891, -5.5839, -5.7004, -5.6194, -5.0996, -5.9663, -5.3706, -5.7163, -5.7243, -5.4508, -5.4097, -5.9239, -5.1311, -4.5521, -3.5594, -4.6526, -3.2467, -4.8725, -4.6123, -3.9641, -4.6097, -4.6916, -4.411, -4.5775, -4.7955, -4.6693, -4.8815, -4.4003, -5.1418, -4.5482, -4.7999, -4.6668, -5.0537, -5.0767, -5.1164, -5.0686, -3.8178, -4.7746, -4.169, -5.4341, -5.8438, -5.8739, -5.8147, -5.5064, -5.9355, -6.0674, -6.0579, -6.1924, -5.6129, -5.5508, -6.303, -5.3183, -6.2862, -5.9058, -5.5437, -6.1202, -5.7991, -5.4712, -5.9119, -5.8712, -6.1698, -5.3468, -6.2322, -6.4333, -5.8544, -6.0496, -4.5071, -5.5348, -4.4275, -4.3477, -3.4938, -4.102, -5.3598, -4.8791, -4.6549, -4.3889, -4.8994, -4.9375, -4.3783, -4.3184, -5.2046, -4.9511, -4.5549, -4.5639, -4.7825, -4.0775, -4.7148, -4.5501, -4.8574, -4.9618, -5.2485, -4.7741, -5.1612, -5.1977, -5.1541, -5.2298, -4.3504, -3.7409, -4.9359, -5.0678, -4.742, -4.4682, -5.8246, -5.2933, -5.6467, -5.7857, -6.0312, -5.9424, -6.0131, -5.9968, -6.1732, -6.2715, -5.5881, -5.0467, -5.8638, -5.6345, -6.2629, -6.0984, -6.0986, -6.2682, -5.6495, -5.2788, -5.2394, -6.0416, -5.1926, -6.3996, -6.3199, -5.4166, -4.4091, -5.3415, -4.6524, -4.2456, -4.5404, -5.0779, -4.7855, -3.8864, -3.7269, -3.7908, -4.6921, -4.3496, -4.2924, -4.4464, -4.5864, -4.7786, -4.8337, -4.9918, -4.6699, -4.5846, -4.1956, -4.8521, -4.8231, -4.8519, -4.8968, -4.9703, -5.0012, -4.005, -3.7113, -4.0051, -4.7354, -4.7475, -5.065, -3.9956, -5.4973, -5.6067, -5.6974, -5.7431, -5.8392, -3.3742, -5.8177, -5.6945, -5.914, -5.6295, -5.7065, -6.2357, -6.2192, -4.0106, -6.1116, -6.34, -6.1446, -5.4157, -5.7771, -5.8893, -5.8711, -6.1562, -6.1167, -5.245, -5.8318, -5.1681, -3.6759, -5.5352, -5.4691, -5.5772, -4.9625, -4.6052, -5.576, -3.9345, -5.1476, -4.8857, -4.4276, -5.0072, -4.5075, -4.9274, -4.4458, -4.1872, -5.2056, -4.5562, -5.0522, -4.9733, -4.9105, -4.9197, -5.0899, -4.9242, -5.0642, -5.0417, -5.1258, -5.1156, -3.3899, -3.7796, -4.0328, -3.3047, -4.8475, -5.1573, -5.6138, -5.0148, -4.2828, -4.7386, -5.5968, -5.6775, -5.1076, -5.7189, -4.2672, -5.2138, -4.7239, -4.0414, -5.416, -5.2036, -5.802, -5.0648, -6.1596, -5.8907, -5.7454, -5.8213, -6.1896, -5.7531, -5.5183, -5.8617, -4.2078, -5.3067, -4.6699, -5.2926, -4.5877, -4.8789, -4.0096, -4.6739, -4.2169, -3.6796, -4.267, -4.2479, -4.6017, -4.5289, -4.5448, -4.7803, -4.4907, -4.5301, -4.7609, -4.8152, -4.9876, -4.9637, -4.3352, -4.1146, -4.4154, -4.5429, -4.7658, -5.0856, -5.098, -4.3379, -5.0767, -4.9903, -4.9768, -5.2079, -3.845, -5.4874, -5.4701, -5.4329, -4.8145, -5.6813, -5.0975, -5.1615, -4.6767, -5.5488, -5.4735, -4.3647, -5.0676, -5.265, -5.8249, -5.2841, -4.8492, -4.8785, -5.2798, -4.1894, -4.2378, -5.177, -5.0654, -4.4285, -4.5027, -4.5981, -4.7347, -4.8983, -4.5005, -4.4674, -4.4696, -4.4493, -4.5886, -4.6684, -4.5246, -4.5361, -4.9216, -4.9322, -4.9417, -3.3072, -5.4434, -5.4959, -5.4356, -5.4666, -5.1872, -4.262, -4.9846, -5.4871, -5.454, -4.9415, -4.5721, -5.7794, -5.1709, -5.7903, -4.8031, -5.9501, -5.4993, -5.8486, -5.8486, -5.4574, -5.8608, -5.795, -5.8486, -5.8096, -4.5545, -5.3073, -5.7069, -5.9422, -3.6534, -5.2107, -5.454, -5.2971, -4.784, -5.1729, -5.454, -3.7566, -5.1505, -5.0616, -4.4067, -4.2141, -4.1724, -5.0699, -4.9871, -4.8667, -4.5704, -4.9612, -4.791, -4.8079, -4.7823, -5.0956, -4.9399, -4.7305, -4.8266, -4.6996, -4.9231, -4.9449, -5.0343, -2.4232, -2.4232, -2.4232, -2.4232, -3.0965, -3.0965, -3.1341, -3.1341, -4.453, -4.8979, -4.6915, -5.0085, -5.2991, -4.9653, -5.622, -4.8211, -5.7219, -5.7483, -4.5609, -5.1875, -5.6688, -5.5263, -5.8422, -4.9914, -5.7923, -5.8083, -5.9258, -6.1101, -5.8801, -5.1987, -4.5348, -5.3112, -5.2244, -4.4856, -5.1038, -4.1457, -4.5488, -4.6824, -4.1396, -4.678, -5.2743, -4.6894, -5.1604, -5.0516, -5.1967], \"loglift\": [30.0, 29.0, 28.0, 27.0, 26.0, 25.0, 24.0, 23.0, 22.0, 21.0, 20.0, 19.0, 18.0, 17.0, 16.0, 15.0, 14.0, 13.0, 12.0, 11.0, 10.0, 9.0, 8.0, 7.0, 6.0, 5.0, 4.0, 3.0, 2.0, 1.0, 1.8533, 1.789, 1.5499, 1.5228, 1.409, 1.3775, 1.3634, 1.3351, 1.3152, 1.3143, 1.2691, 1.2523, 1.245, 1.2372, 1.2225, 1.2107, 1.2102, 1.1758, 1.1692, 1.1568, 1.1466, 1.0839, 1.0813, 1.0673, 1.0393, 1.0228, 1.0222, 1.0202, 1.0047, 0.9986, 0.9615, 0.9482, 0.9718, 0.8808, 0.9309, 0.7307, 0.7028, 0.4374, 0.8186, 0.2479, 0.6208, 0.7061, 0.8155, 0.368, 0.8617, 0.8466, 0.2898, 0.7194, 0.4315, 0.263, 0.1783, 0.2621, 0.5393, 0.0935, -0.1753, 0.0835, 0.1691, -0.313, 0.4039, -0.4457, -0.0621, -0.1943, -0.2028, -0.3111, 1.7587, 1.7334, 1.5883, 1.5775, 1.5131, 1.4869, 1.4685, 1.4635, 1.3978, 1.3714, 1.3578, 1.3443, 1.3401, 1.3374, 1.3007, 1.2972, 1.2409, 1.2381, 1.2266, 1.2241, 1.2119, 1.2061, 1.1983, 1.1972, 1.1889, 1.1618, 1.1418, 1.1407, 1.1333, 1.1166, 1.0658, 1.11, 0.9962, 1.0525, 0.9358, 1.0281, 0.9308, 0.7844, 0.7254, 0.6753, 0.9723, 1.0147, 0.7659, 0.9034, 0.1025, 0.2672, 0.6995, 0.8771, 0.3592, 0.3694, 0.1269, 0.3534, 0.7039, 0.1579, 0.0406, -0.1154, -0.1811, 0.4649, 0.0938, 0.3554, 0.0676, 0.5815, 0.6475, -0.045, 0.2961, -0.1882, 0.0833, 1.5883, 1.586, 1.531, 1.5252, 1.5101, 1.5023, 1.4783, 1.4628, 1.4466, 1.4465, 1.4277, 1.4241, 1.3882, 1.3555, 1.3388, 1.3358, 1.3336, 1.3034, 1.2827, 1.2781, 1.2773, 1.2731, 1.2477, 1.2347, 1.2319, 1.2303, 1.2297, 1.2243, 1.2202, 1.2176, 1.1746, 1.0366, 1.0781, 0.8242, 1.0321, 1.0093, 0.8055, 0.6, 1.0092, 0.935, 0.1874, 0.8089, 0.2912, 0.6461, 0.7067, 0.3446, 0.5007, 0.1775, 0.5262, 0.3149, 0.3781, 0.4092, 0.0768, 0.6285, 0.2313, -0.0055, 0.6426, -0.3744, -0.1464, 0.4129, 0.203, -0.8602, -0.437, 1.9595, 1.9511, 1.7668, 1.651, 1.584, 1.5705, 1.5629, 1.529, 1.5154, 1.4984, 1.4949, 1.493, 1.4811, 1.4781, 1.463, 1.3903, 1.3854, 1.3836, 1.3552, 1.3286, 1.3237, 1.31, 1.2946, 1.2658, 1.2655, 1.2618, 1.2608, 1.2542, 1.2335, 1.2265, 1.2233, 1.1944, 1.1462, 1.1737, 1.2184, 1.1269, 1.0496, 1.1398, 1.0455, 1.0749, 1.0147, 1.0658, 0.9698, 1.0151, 0.958, 0.9101, 0.9279, 0.4183, 0.8363, 0.7908, -0.0061, 0.4208, 0.341, 0.1174, 0.3017, 0.7234, 0.0802, 0.5267, 0.0588, 0.4139, 0.0053, -0.3081, 0.4138, 0.21, 2.284, 2.2432, 2.0267, 1.9803, 1.9326, 1.8866, 1.8428, 1.7823, 1.7014, 1.678, 1.6367, 1.6354, 1.5983, 1.5961, 1.5942, 1.5358, 1.5165, 1.514, 1.5139, 1.4946, 1.4755, 1.4507, 1.4436, 1.435, 1.4194, 1.4175, 1.3935, 1.3928, 1.3874, 1.3633, 1.3592, 1.2272, 1.1562, 1.0954, 1.111, 1.0596, 1.1396, 1.0254, 0.6156, 0.9136, 0.0172, 0.1825, 0.4098, 0.329, 1.0377, 0.4925, 0.3048, 0.2648, 0.1892, 0.2627, 0.4674, 0.6864, 0.2228, 0.0362, 0.738, -0.322, 0.2265, -0.2276, -0.2666, -0.4277, 2.1521, 1.9363, 1.7949, 1.7824, 1.7554, 1.7414, 1.6502, 1.637, 1.6026, 1.5856, 1.5484, 1.5175, 1.5156, 1.5059, 1.504, 1.5028, 1.4844, 1.4778, 1.4686, 1.4489, 1.4458, 1.412, 1.4079, 1.3982, 1.3861, 1.3848, 1.3822, 1.3658, 1.3417, 1.3262, 1.2886, 1.2952, 1.0791, 1.1883, 0.6476, 0.4154, 0.7738, 0.666, 0.6651, 0.8199, 0.4732, 0.7019, 0.3926, 0.5029, 0.6062, 0.1178, 0.6676, 0.2459, 0.494, 0.63, 0.1095, 0.1652, 0.6646, -0.2569, 0.5532, 0.0034, 0.2564, 0.2283, -0.0655, 0.5396, 0.4658, 0.6108, -0.4264, -0.9009, 2.6656, 2.4225, 2.3899, 2.3863, 2.3012, 2.1332, 1.9819, 1.9549, 1.9531, 1.9494, 1.9138, 1.9101, 1.86, 1.8364, 1.8336, 1.8317, 1.8299, 1.8207, 1.7873, 1.7547, 1.7362, 1.7254, 1.7188, 1.699, 1.664, 1.6571, 1.6563, 1.6537, 1.6314, 1.6057, 1.5945, 1.4325, 1.4853, 1.5015, 1.4059, 1.3086, 1.3913, 0.8978, 0.6893, 1.2834, 0.983, 0.7501, 0.911, 0.4503, 0.5885, -0.8358, 0.483, 0.76, 0.1491, -0.0984, -0.7026, 2.9631, 2.9001, 2.5992, 2.4496, 2.3821, 2.3615, 2.2109, 2.1648, 2.0969, 2.0899, 2.0324, 1.9809, 1.9785, 1.9725, 1.9385, 1.9047, 1.8495, 1.8394, 1.8069, 1.8059, 1.7993, 1.7739, 1.7698, 1.7691, 1.6986, 1.6883, 1.6871, 1.6658, 1.6356, 1.6304, 1.6063, 1.5599, 1.4399, 1.4993, 1.1141, 1.462, 1.2954, 0.7718, 0.7674, 0.7801, 0.4096, 0.5863, 0.85, 0.6257, 0.9359, 0.0549, 1.2666, -0.2132, 0.1934, -0.9743, 0.6579, 0.2033, 0.7188, -0.2446, 2.7904, 2.2707, 1.943, 1.9371, 1.9032, 1.8683, 1.865, 1.8446, 1.7999, 1.7866, 1.7522, 1.7452, 1.7374, 1.7262, 1.7099, 1.706, 1.7, 1.6723, 1.6585, 1.6559, 1.6505, 1.6388, 1.6156, 1.6094, 1.604, 1.5897, 1.5467, 1.5418, 1.5371, 1.5329, 1.4411, 1.4394, 1.2037, 1.1665, 0.8411, 0.9913, 1.3671, 1.0997, 0.9523, 0.7104, 1.0035, 1.0064, 0.6149, 0.5056, 1.1218, 0.8841, 0.4089, 0.3043, 0.5654, -0.385, 0.2588, -0.0948, 0.3689, 0.5641, 1.0489, -0.4134, 0.6929, 0.7674, -0.1548, 0.4643, 2.922, 2.8146, 2.6602, 2.534, 2.3253, 2.2379, 2.1453, 2.1234, 1.9681, 1.9251, 1.8496, 1.7999, 1.793, 1.7704, 1.7551, 1.7414, 1.7387, 1.7259, 1.7162, 1.708, 1.7067, 1.6428, 1.6328, 1.6236, 1.5663, 1.5521, 1.5455, 1.5365, 1.5362, 1.5326, 1.5306, 1.4979, 1.445, 1.4924, 1.3926, 1.2687, 1.2993, 1.4024, 1.3078, 0.9808, 0.6339, 0.6644, 1.014, 0.7624, 0.6893, 0.7174, 0.7086, 0.8669, 0.8779, 1.0486, 0.5564, 0.2836, -0.5031, 0.5981, 0.0835, 0.1414, -0.0727, 0.4662, -0.0374, 3.0772, 3.027, 3.0257, 2.9733, 2.8645, 2.611, 2.5608, 2.3892, 2.2913, 2.2785, 2.1078, 2.0941, 2.0761, 1.9949, 1.8865, 1.8682, 1.8621, 1.7919, 1.7896, 1.7535, 1.7505, 1.7428, 1.7333, 1.6696, 1.6684, 1.6439, 1.6374, 1.6346, 1.6267, 1.6252, 1.5974, 1.6142, 1.5835, 1.3234, 1.5504, 1.4797, 1.5163, 1.1893, 0.8665, 1.4535, 0.4004, 1.1648, 0.9347, 0.4406, 0.9412, 0.2284, 0.7596, -0.085, -0.4947, 1.0388, -0.2084, 0.6951, 0.4467, 0.2534, 0.1736, 0.6193, -0.0176, 0.2158, -0.5865, 0.3107, -0.2949, 3.5269, 3.5132, 3.5043, 3.2587, 2.8009, 2.3443, 2.322, 2.3122, 2.2874, 2.2546, 2.2207, 2.2143, 2.1949, 2.1707, 2.1701, 2.0916, 2.0832, 2.0199, 1.964, 1.8863, 1.8441, 1.83, 1.8163, 1.8153, 1.7272, 1.7063, 1.6953, 1.6683, 1.6538, 1.6282, 1.5896, 1.5906, 1.4762, 1.5719, 1.3605, 1.3691, 0.964, 1.1465, 0.6214, 0.013, 0.5536, 0.488, 0.8485, 0.4451, 0.3234, 0.5675, -0.1429, -0.1694, -0.3057, -0.4802, 0.7734, -0.0571, 3.551, 3.333, 3.32, 3.2243, 3.1266, 2.8427, 2.7916, 2.7787, 2.7063, 2.6257, 2.6006, 2.503, 2.4814, 2.447, 2.4241, 2.4225, 2.4011, 2.3824, 2.3715, 2.3623, 2.3058, 2.2613, 2.2395, 2.2331, 2.2095, 2.1972, 2.1969, 2.1922, 2.1828, 2.1648, 2.1518, 1.9782, 1.7311, 2.1001, 1.9811, 1.2656, 1.3147, 1.3807, 1.478, 1.5829, 0.7258, 0.6259, 0.2663, -0.0886, 0.318, 0.6116, -0.0694, -0.1882, 1.4442, 1.5358, 1.2696, 4.1616, 2.5265, 2.5245, 2.4988, 2.471, 2.4576, 2.4177, 2.3431, 2.2959, 2.2929, 2.2923, 2.2052, 2.0808, 2.069, 2.0641, 2.0341, 2.0282, 2.0244, 2.0018, 1.9663, 1.965, 1.9529, 1.9497, 1.9318, 1.9254, 1.923, 1.9154, 1.9035, 1.8785, 1.8724, 1.839, 1.8235, 1.7611, 1.4091, 1.596, 1.7423, 0.6041, 1.5113, 1.4459, 0.9703, 0.6242, 0.5635, 1.4059, 1.2257, 0.9685, 0.4289, 0.9871, 0.504, 0.4795, 0.311, 1.2701, 0.7471, -0.3826, -0.0026, -1.0071, -0.1025, -0.0767, 0.5319, 4.7369, 4.7369, 4.7369, 4.7369, 4.7197, 4.7197, 4.7184, 4.7184, 2.9515, 2.9167, 2.8929, 2.6123, 2.4831, 2.385, 2.3117, 2.2876, 2.2643, 2.231, 2.1679, 2.142, 2.1211, 2.1052, 2.0909, 1.9828, 1.9449, 1.9329, 1.9269, 1.9178, 1.867, 1.8566, 1.7582, 1.7728, 1.7302, 1.5041, 1.4325, 0.1893, 0.5632, 0.6946, -0.447, 0.1426, 1.4316, -0.3287, 0.9517, -0.0779, 0.5124]}, \"token.table\": {\"Topic\": [1, 3, 4, 5, 6, 7, 9, 10, 12, 1, 5, 6, 7, 9, 12, 1, 2, 3, 4, 5, 6, 9, 10, 11, 13, 14, 1, 4, 5, 6, 9, 10, 15, 3, 4, 6, 11, 1, 5, 6, 1, 4, 5, 7, 8, 1, 2, 3, 5, 6, 9, 10, 1, 2, 3, 4, 6, 8, 14, 1, 2, 3, 4, 5, 6, 7, 8, 10, 11, 12, 13, 1, 2, 5, 7, 14, 3, 5, 6, 8, 14, 1, 2, 3, 4, 5, 6, 7, 8, 9, 10, 11, 12, 14, 2, 3, 9, 10, 11, 13, 3, 4, 8, 11, 14, 1, 2, 3, 5, 6, 7, 8, 9, 11, 1, 2, 3, 5, 6, 9, 10, 11, 12, 14, 1, 7, 9, 12, 13, 1, 3, 4, 5, 1, 2, 3, 4, 5, 6, 7, 8, 10, 13, 14, 2, 4, 6, 7, 14, 1, 2, 3, 4, 5, 6, 9, 11, 13, 1, 3, 6, 7, 9, 15, 1, 5, 6, 7, 11, 14, 1, 2, 3, 4, 5, 6, 7, 8, 9, 10, 11, 12, 14, 1, 2, 3, 4, 5, 7, 8, 9, 13, 14, 1, 2, 3, 4, 7, 9, 11, 12, 13, 14, 1, 2, 3, 4, 5, 6, 7, 8, 9, 1, 3, 4, 5, 6, 9, 11, 14, 2, 3, 6, 7, 11, 2, 3, 4, 5, 6, 7, 10, 12, 14, 1, 2, 4, 5, 6, 8, 15, 1, 4, 5, 6, 7, 9, 11, 13, 14, 1, 2, 4, 5, 6, 7, 8, 10, 14, 3, 6, 9, 10, 12, 15, 1, 2, 3, 4, 5, 6, 9, 14, 2, 3, 6, 8, 12, 13, 2, 3, 6, 11, 1, 2, 3, 4, 5, 6, 7, 8, 9, 10, 11, 12, 13, 14, 15, 2, 3, 4, 6, 8, 12, 15, 2, 3, 11, 14, 1, 2, 6, 9, 12, 4, 7, 9, 13, 1, 2, 3, 4, 6, 8, 9, 10, 11, 13, 14, 1, 3, 4, 5, 6, 7, 9, 10, 4, 5, 9, 12, 1, 2, 4, 7, 12, 13, 14, 1, 2, 3, 4, 5, 6, 7, 8, 9, 12, 14, 2, 3, 6, 8, 10, 11, 13, 14, 2, 4, 6, 10, 11, 1, 2, 3, 4, 5, 7, 8, 9, 11, 14, 1, 2, 3, 4, 6, 8, 9, 10, 13, 14, 1, 2, 3, 4, 5, 6, 7, 8, 9, 10, 11, 12, 13, 14, 15, 1, 2, 3, 7, 8, 12, 5, 8, 15, 1, 2, 3, 6, 8, 12, 13, 15, 1, 4, 5, 7, 9, 10, 1, 2, 3, 4, 5, 6, 7, 8, 9, 11, 12, 13, 14, 1, 2, 3, 5, 8, 9, 11, 8, 9, 11, 13, 15, 3, 5, 6, 7, 10, 2, 4, 5, 14, 15, 1, 2, 3, 6, 9, 11, 2, 3, 4, 7, 9, 12, 13, 15, 1, 3, 6, 8, 9, 11, 15, 1, 2, 3, 5, 8, 12, 15, 1, 2, 3, 4, 5, 6, 7, 8, 9, 10, 11, 12, 14, 15, 1, 2, 4, 5, 6, 14, 1, 3, 4, 5, 9, 12, 6, 8, 9, 14, 15, 1, 2, 4, 7, 9, 14, 1, 2, 4, 6, 1, 2, 3, 4, 6, 8, 9, 10, 11, 13, 14, 1, 4, 6, 8, 14, 1, 2, 3, 6, 7, 1, 2, 3, 4, 5, 6, 7, 8, 9, 11, 13, 14, 1, 2, 3, 4, 5, 11, 1, 2, 5, 6, 8, 9, 1, 2, 3, 4, 5, 6, 7, 10, 14, 1, 5, 10, 1, 3, 4, 5, 10, 1, 2, 3, 5, 9, 10, 12, 14, 2, 3, 4, 8, 9, 10, 12, 13, 1, 2, 6, 7, 9, 10, 13, 14, 1, 3, 4, 5, 6, 8, 9, 12, 15, 1, 2, 6, 9, 12, 13, 1, 2, 3, 5, 7, 9, 11, 1, 2, 4, 5, 10, 11, 14, 1, 5, 6, 8, 10, 13, 1, 4, 5, 6, 7, 8, 9, 10, 12, 1, 2, 3, 4, 5, 6, 7, 8, 9, 11, 12, 15, 1, 3, 5, 6, 10, 2, 3, 4, 5, 8, 9, 10, 1, 3, 6, 8, 9, 13, 14, 15, 15, 2, 3, 4, 5, 1, 2, 4, 5, 14, 15, 1, 4, 5, 6, 11, 2, 4, 5, 6, 8, 9, 11, 2, 3, 6, 8, 11, 12, 15, 1, 2, 3, 5, 6, 7, 8, 9, 11, 1, 2, 3, 4, 6, 12, 3, 6, 8, 9, 10, 12, 1, 2, 3, 4, 6, 8, 9, 11, 13, 14, 15, 1, 2, 3, 6, 10, 14, 15, 1, 3, 4, 6, 7, 8, 11, 14, 1, 2, 3, 6, 8, 10, 11, 12, 13, 14, 1, 5, 1, 2, 3, 4, 5, 6, 9, 12, 1, 3, 4, 6, 7, 9, 12, 13, 1, 2, 3, 8, 9, 1, 3, 4, 15, 1, 3, 6, 7, 9, 10, 1, 2, 3, 4, 6, 7, 9, 11, 12, 1, 2, 3, 4, 6, 8, 9, 11, 12, 13, 14, 1, 2, 3, 4, 8, 1, 3, 4, 5, 9, 11, 1, 2, 3, 4, 5, 6, 7, 8, 9, 11, 12, 13, 15, 1, 2, 4, 8, 9, 10, 15, 1, 2, 3, 4, 5, 6, 8, 9, 10, 12, 15, 1, 3, 8, 12, 1, 2, 3, 4, 6, 8, 9, 10, 12, 1, 4, 6, 8, 12, 1, 2, 4, 6, 9, 10, 11, 1, 2, 3, 6, 9, 10, 1, 2, 3, 5, 9, 1, 4, 9, 11, 13, 14, 1, 4, 5, 1, 2, 3, 4, 5, 6, 7, 9, 11, 14, 1, 2, 3, 4, 5, 6, 8, 9, 10, 11, 12, 13, 14, 1, 3, 4, 5, 6, 8, 9, 12, 13, 14, 1, 3, 4, 6, 9, 10, 13, 1, 4, 5, 6, 11, 12, 14, 2, 4, 5, 9, 12, 13, 1, 2, 4, 8, 9, 11, 1, 4, 6, 8, 9, 10, 12, 14, 1, 4, 5, 9, 10, 1, 2, 3, 4, 6, 7, 8, 9, 12, 14, 1, 2, 4, 5, 6, 7, 8, 10, 12, 13, 1, 2, 3, 4, 5, 6, 7, 8, 9, 10, 11, 12, 13, 14, 15, 1, 2, 3, 4, 8, 9, 11, 2, 4, 5, 9, 10, 12, 1, 2, 3, 5, 6, 7, 8, 9, 10, 12, 13, 1, 2, 3, 4, 5, 6, 8, 9, 10, 13, 1, 2, 3, 4, 5, 6, 7, 8, 9, 10, 12, 13, 3, 4, 6, 8, 14, 1, 2, 3, 4, 5, 8, 9, 10, 11, 12, 15, 1, 6, 9, 15, 2, 3, 4, 6, 7, 8, 11, 12, 1, 3, 6, 8, 9, 5, 12, 4, 6, 9, 11, 14, 3, 4, 5, 6, 8, 11, 12, 1, 3, 4, 5, 6, 7, 8, 9, 10, 11, 12, 13, 14, 12, 14, 1, 2, 3, 4, 5, 6, 8, 12, 13, 1, 2, 3, 5, 6, 14, 15, 1, 2, 3, 6, 7, 9, 11, 1, 2, 3, 4, 5, 6, 9, 15, 2, 3, 5, 6, 8, 12, 15, 2, 3, 5, 8, 10, 1, 3, 7, 10, 3, 4, 5, 6, 10, 1, 2, 3, 4, 5, 6, 7, 8, 9, 10, 11, 13, 1, 3, 4, 5, 6, 9, 10, 11, 14, 15, 1, 2, 3, 9, 10, 12, 1, 2, 3, 5, 6, 7, 8, 9, 10, 12, 13, 2, 6, 7, 10, 12, 1, 2, 3, 4, 5, 6, 8, 10, 1, 2, 3, 6, 7, 8, 9, 10, 13, 2, 3, 14, 1, 4, 6, 7, 8, 13, 1, 4, 8, 9, 12, 13, 1, 2, 3, 4, 5, 6, 7, 8, 9, 10, 11, 12, 13, 15, 1, 2, 3, 4, 5, 6, 7, 8, 9, 10, 11, 12, 13, 14, 15, 5, 6, 7, 8, 14, 2, 3, 6, 11, 13, 1, 2, 4, 7, 8, 9, 11, 12, 1, 2, 3, 6, 10, 11, 2, 3, 4, 14, 1, 3, 4, 9, 11, 12, 1, 3, 6, 9, 11, 12, 1, 4, 6, 8, 11, 12, 14, 1, 2, 3, 5, 6, 7, 8, 9, 13, 1, 3, 4, 6, 8, 11, 1, 2, 3, 4, 5, 6, 7, 8, 9, 10, 11, 12, 13, 14, 1, 3, 5, 6, 8, 11, 1, 3, 4, 5, 6, 7, 8, 9, 10, 11, 12, 14, 2, 4, 5, 6, 1, 2, 3, 4, 5, 6, 7, 8, 9, 10, 11, 12, 14, 15, 1, 2, 3, 4, 5, 6, 7, 8, 9, 10, 11, 12, 13, 14, 3, 4, 5, 6, 8, 9, 10, 11, 12, 13, 14, 15, 1, 2, 3, 5, 6, 7, 10, 11, 12, 1, 2, 5, 9, 2, 6, 9, 11, 12, 13, 1, 2, 4, 6, 8, 9, 10, 1, 2, 3, 4, 5, 6, 7, 8, 9, 10, 11, 12, 13, 14, 1, 2, 3, 4, 5, 7, 9, 10, 11, 14, 1, 2, 3, 4, 5, 6, 7, 8, 9, 10, 12, 13, 1, 2, 3, 4, 5, 6, 7, 8, 10, 14, 1, 2, 6, 7, 8, 10, 11, 15, 1, 4, 8, 9, 11, 1, 4, 7, 9, 11, 1, 2, 3, 4, 5, 6, 7, 8, 9, 10, 11, 12, 13, 14, 3, 6, 9, 11, 13, 1, 2, 3, 4, 5, 6, 7, 8, 9, 10, 11, 13, 14, 1, 2, 7, 8, 9, 10, 2, 7, 10, 11, 14, 1, 3, 5, 6, 8, 9, 10, 11, 13, 1, 3, 4, 6, 8, 11, 13, 14, 1, 2, 3, 4, 5, 6, 7, 8, 9, 11, 12, 1, 2, 3, 4, 5, 6, 10, 12, 14, 1, 3, 4, 5, 6, 9, 12, 1, 4, 6, 7, 9, 10, 15, 2, 3, 4, 5, 6, 14, 1, 2, 3, 6, 7, 1, 2, 3, 5, 14, 4, 5, 7, 10, 1, 2, 3, 4, 7, 8, 9, 10, 11, 13, 1, 2, 3, 4, 5, 6, 7, 8, 9, 10, 11, 12, 13, 1, 2, 3, 4, 5, 6, 7, 8, 9, 11, 1, 4, 6, 7, 12, 13, 1, 2, 3, 7, 8, 11, 4, 5, 6, 7, 9, 11, 1, 2, 3, 4, 5, 6, 7, 8, 9, 10, 12, 13, 14, 15, 1, 3, 4, 5, 8, 1, 2, 3, 5, 6, 7, 10, 13, 3, 7, 9, 15, 2, 3, 4, 11, 13, 14, 2, 3, 4, 6, 10, 11, 13, 1, 2, 4, 8, 9, 11, 2, 3, 6, 7, 11, 1, 3, 4, 6, 9, 11, 12, 13, 1, 3, 4, 5, 6, 14, 1, 5, 7, 1, 2, 3, 4, 5, 6, 7, 8, 9, 10, 11, 12, 13, 1, 2, 3, 4, 5, 6, 7, 8, 9, 10, 11, 12, 14, 1, 2, 3, 4, 5, 6, 7, 8, 9, 10, 12, 13, 1, 2, 3, 4, 5, 6, 7, 8, 9, 10, 11, 12, 14, 15, 1, 2, 3, 5, 6, 7, 9, 12, 13, 14, 5, 6, 8, 11, 12, 3, 4, 8, 9, 11, 14, 1, 2, 3, 6, 12, 13, 1, 3, 6, 9, 11, 15, 1, 3, 4, 5, 6, 8, 1, 3, 4, 5, 9, 11, 2, 3, 4, 6, 7, 8, 9, 10, 12, 13, 14, 1, 2, 3, 4, 5, 6, 7, 8, 9, 10, 11, 12, 13, 14, 4, 5, 6, 10, 13, 1, 2, 5, 10, 11, 1, 2, 3, 4, 6, 7, 9, 10, 11, 12, 13, 14, 1, 3, 4, 6, 13, 1, 3, 5, 8, 9, 11, 12, 1, 2, 3, 4, 5, 6, 9, 12, 13, 1, 2, 4, 5, 6, 7, 9, 10, 11, 13, 15, 1, 4, 5, 8, 11, 12, 15, 4, 6, 10, 13, 1, 2, 3, 5, 6, 10, 13, 1, 2, 3, 4, 5, 6, 7, 8, 9, 10, 11, 12, 13, 14, 1, 4, 6, 8, 10, 13, 1, 3, 8, 10, 11, 13, 12, 14, 1, 3, 4, 5, 6, 8, 12, 13, 14, 1, 3, 4, 5, 7, 8, 12, 2, 3, 4, 5, 6, 7, 10, 11, 14, 1, 5, 7, 9, 12, 13, 1, 2, 3, 5, 6, 8, 9, 11, 12, 1, 2, 3, 4, 5, 6, 7, 8, 9, 10, 11, 13, 3, 4, 6, 8, 11, 12, 1, 3, 4, 6, 8, 9, 12, 1, 2, 3, 6, 8, 9, 13, 14, 15, 2, 4, 10, 1, 2, 3, 6, 7, 14, 2, 3, 4, 7, 5, 6, 8, 9, 3, 11, 13, 1, 2, 3, 4, 5, 6, 7, 9, 10, 11, 12, 13, 14, 15, 1, 2, 3, 5, 6, 7, 1, 6, 7, 1, 2, 3, 4, 13, 14, 1, 2, 3, 4, 7, 9, 11, 13, 5, 6, 8, 9, 10, 11, 12, 13, 1, 2, 5, 10, 1, 2, 3, 1, 2, 3, 4, 5, 7, 10, 12, 13, 1, 3, 8, 9, 10, 12, 1, 2, 3, 4, 6, 7, 8, 9, 10, 11, 13, 1, 2, 3, 4, 5, 6, 7, 8, 9, 11, 12, 14, 3, 4, 6, 9, 10, 12, 14, 1, 2, 3, 4, 5, 6, 8, 9, 10, 11, 12, 13, 15, 5, 8, 1, 2, 3, 4, 5, 6, 7, 9, 10, 11, 12, 14, 1, 1, 2, 3, 12, 5, 8, 2, 3, 10, 11, 1, 3, 8, 11, 1, 3, 4, 5, 6, 7, 11, 14, 15, 8, 14, 1, 3, 4, 6, 11, 15, 1, 2, 3, 4, 6, 7, 8, 10, 13, 1, 2, 5, 11, 14, 1, 2, 5, 6, 9, 12, 14, 1, 2, 3, 4, 5, 6, 7, 8, 9, 10, 11, 13, 14, 1, 2, 3, 4, 6, 7, 14, 1, 2, 3, 4, 5, 6, 7, 10, 11, 13, 1, 3, 4, 7, 1, 2, 3, 4, 5, 6, 8, 11, 12, 14, 1, 2, 3, 7, 8, 10, 11, 15, 1, 2, 3, 4, 5, 6, 7, 9, 11, 12, 13, 14, 1, 2, 3, 4, 5, 6, 8, 9, 10, 11, 12, 13, 14, 15, 1, 2, 5, 6, 7, 9, 12, 1, 2, 3, 6, 7, 9, 10, 15, 1, 5, 12, 1, 2, 4, 7, 8, 9, 15, 1, 2, 3, 4, 5, 6, 7, 8, 9, 10, 12, 13, 14, 1, 2, 3, 4, 5, 6, 8, 9, 10, 11, 1, 2, 3, 6, 7, 8, 10, 13, 14, 1, 2, 4, 5, 10, 12, 13, 15, 1, 3, 4, 5, 2, 3, 6, 8, 13, 1, 5, 6, 8, 9, 12, 2, 3, 4, 5, 6, 8, 10, 12, 1, 3, 4, 5, 6, 8, 9, 11, 13, 14, 1, 2, 3, 4, 5, 7, 9, 10, 13, 1, 4, 5, 6, 2, 4, 6, 9, 11, 12, 13, 1, 5, 8, 10, 11, 14, 4, 6, 7, 8, 11, 1, 2, 3, 9, 10, 1, 2, 3, 4, 5, 6, 7, 8, 9, 10, 11, 12, 13, 1, 4, 6, 8, 9, 11, 2, 3, 10, 1, 2, 3, 4, 5, 6, 7, 8, 9, 10, 11, 15, 1, 4, 8, 9, 1, 2, 5, 7, 8, 10, 12, 1, 2, 3, 4, 5, 6, 7, 8, 9, 10, 12, 13, 14, 2, 3, 7, 8, 1, 2, 3, 4, 5, 7, 8, 10, 1, 6, 7, 8, 9, 10, 12, 1, 2, 3, 4, 6, 7, 8, 9, 10, 11, 12, 1, 2, 3, 5, 7, 8, 9, 10, 14, 4, 6, 7, 9, 10, 11, 12, 1, 2, 3, 4, 5, 6, 7, 8, 9, 10, 11, 12, 14, 15, 2, 3, 6, 9, 10, 1, 2, 3, 4, 6, 8, 11, 14, 1, 2, 9, 1, 3, 5, 8, 9, 12, 13, 1, 2, 3, 4, 5, 7, 8, 9, 10, 11, 14, 2, 4, 6, 7, 9, 11, 1, 2, 6, 8, 9, 10, 11, 12, 4, 6, 9, 10, 11, 14, 1, 4, 5, 7, 8, 9, 11, 15, 1, 2, 3, 4, 5, 6, 7, 8, 11, 1, 2, 3, 4, 5, 6, 10, 12, 14, 1, 2, 3, 5, 6, 9, 12, 14, 15, 1, 2, 3, 8, 9, 10, 1, 2, 3, 6, 7, 9, 10, 11, 12, 1, 2, 3, 5, 6, 11, 2, 4, 5, 6, 13, 1, 3, 4, 5, 6, 9, 1, 2, 3, 4, 9, 10, 13, 14, 1, 2, 3, 4, 5, 6, 7, 8, 9, 10, 11, 12, 13, 14, 1, 2, 3, 4, 5, 6, 7, 8, 9, 10, 11, 12, 14, 2, 3, 4, 5, 6, 7, 8, 9, 10, 11, 13, 14, 1, 3, 4, 5, 8, 11, 12, 1, 2, 3, 4, 5, 6, 7, 9, 11, 12, 13, 1, 3, 4, 5, 8, 3, 4, 5, 6, 7, 1, 2, 4, 5, 6, 9, 1, 2, 3, 5, 7, 9, 10, 1, 2, 3, 4, 5, 6, 7, 9, 12, 14, 15, 1, 5, 6, 9, 10, 12, 13, 14, 1, 2, 4, 5, 6, 8, 11, 1, 2, 3, 5, 6, 7, 9, 11, 13, 14, 1, 2, 3, 4, 5, 6, 7, 8, 9, 10, 11, 13, 14, 1, 2, 3, 5, 6, 8, 9, 10, 11, 14, 1, 2, 3, 4, 5, 9, 10, 12, 2, 8, 9, 11, 2, 4, 10, 11, 12, 13, 1, 2, 3, 4, 5, 6, 12, 4, 5, 6, 7, 8, 11, 12, 1, 2, 3, 4, 5, 6, 7, 8, 9, 10, 11, 13, 14, 1, 2, 3, 5, 7, 9, 11, 12, 3, 4, 5, 6, 7, 8, 12, 13, 2, 3, 4, 6, 8, 12, 13, 1, 2, 3, 6, 10, 12, 14, 1, 2, 3, 1, 3, 4, 5, 6, 7, 9, 11, 12, 15, 1, 3, 6, 8, 1, 2, 4, 5, 6, 8, 9, 11, 1, 2, 3, 5, 6, 8, 9, 14, 15, 1, 2, 3, 4, 5, 6, 7, 8, 9, 10, 11, 12, 13, 14, 15, 1, 2, 3, 4, 5, 6, 7, 9, 14, 2, 3, 7, 8, 10, 12, 1, 2, 3, 4, 5, 6, 7, 8, 9, 10, 11, 13, 14, 15, 1, 2, 4, 6, 14, 2, 5, 6, 7, 8, 9, 11, 13, 2, 5, 6, 7, 9, 10, 2, 3, 4, 8, 1, 2, 3, 4, 5, 6, 7, 8, 9, 10, 11, 13, 14, 1, 2, 3, 4, 3, 4, 6, 9, 10, 12, 1, 2, 3, 4, 5, 6, 8, 9, 10, 11, 1, 3, 6, 10, 1, 2, 3, 4, 5, 9, 10, 13, 3, 4, 9, 14, 1, 2, 3, 4, 6, 8, 9, 10, 11, 12, 14, 1, 2, 5, 6, 9, 11, 13, 1, 2, 3, 4, 11, 12, 14, 1, 4, 5, 13, 14, 3, 4, 7, 8, 9, 12, 15, 3, 4, 5, 7, 9, 10, 14, 1, 2, 4, 5, 9, 10, 13, 2, 4, 5, 6, 9, 11, 12, 1, 5, 6, 9, 11, 15, 1, 2, 4, 6, 8, 10, 13, 14, 3, 4, 6, 8, 9, 12, 13, 5, 7, 10, 2, 3, 4, 5, 7, 9, 10, 14, 1, 3, 4, 5, 6, 7, 10, 12, 1, 2, 3, 7, 9, 10, 1, 2, 3, 4, 5, 6, 7, 8, 11, 13, 14, 2, 3, 4, 6, 7, 9, 10, 11, 1, 2, 3, 4, 5, 6, 7, 8, 9, 10, 11, 12, 13, 14, 1, 2, 3, 4, 5, 7, 8, 9, 11, 13, 14, 15, 1, 3, 4, 5, 6, 7, 12, 13, 14, 1, 2, 3, 4, 5, 6, 8, 9, 10, 11, 12, 14, 1, 2, 3, 4, 5, 6, 10, 13, 14, 1, 5, 8, 1, 2, 3, 5, 6, 7, 8, 9, 10, 11, 12, 13, 14, 2, 3, 4, 6, 7, 9, 10, 11, 1, 5, 7, 1, 3, 5, 7, 12, 1, 2, 3, 4, 5, 6, 10, 11, 13, 14, 2, 3, 4, 5, 1, 2, 3, 4, 5, 6, 7, 9, 10, 11, 12, 13, 3, 4, 7, 11, 2, 4, 8, 11, 1, 2, 3, 4, 5, 6, 7, 8, 9, 10, 12, 13, 14, 15, 1, 3, 4, 6, 8, 11, 13, 1, 6, 7, 8, 9, 13, 14, 15, 1, 2, 3, 4, 5, 7, 9, 10, 11, 12, 14, 1, 4, 5, 6, 8, 10, 11, 1, 2, 3, 4, 5, 9, 10, 11, 14, 1, 4, 5, 10, 13, 1, 2, 3, 4, 6, 8, 12, 13, 2, 3, 5, 6, 7, 12, 1, 2, 3, 4, 5, 6, 7, 8, 9, 11, 12, 14, 1, 2, 4, 5, 7, 8, 9, 1, 2, 3, 4, 6, 8, 9, 10, 13, 1, 2, 3, 4, 5, 6, 7, 8, 9, 10, 12, 13, 14, 1, 2, 3, 4, 7, 8, 15, 1, 4, 5, 9, 14, 3, 4, 6, 7, 12, 14, 2, 4, 5, 9, 11, 1, 2, 4, 10, 1, 3, 4, 6, 7, 8, 11, 12, 13, 1, 2, 3, 4, 5, 6, 7, 8, 9, 10, 11, 12, 13, 14, 1, 2, 5, 6, 8, 9, 13, 2, 5, 6, 7, 8, 10, 1, 3, 4, 9, 14, 15, 1, 2, 3, 4, 11, 12, 1, 2, 3, 5, 6, 9, 10, 1, 2, 3, 4, 5, 10, 13, 1, 3, 4, 5, 6, 7, 8, 14, 1, 2, 3, 7, 1, 2, 3, 4, 5, 6, 9, 12, 13, 1, 3, 5, 6, 10, 11, 14, 1, 2, 3, 4, 5, 6, 8, 9, 11, 12, 13, 1, 2, 3, 4, 5, 6, 7, 8, 9, 10, 11, 12, 1, 2, 4, 5, 6, 7, 8, 10, 11, 12, 13, 14, 1, 2, 4, 5, 2, 5, 6, 11, 1, 2, 3, 4, 5, 6, 7, 8, 9, 10, 11, 12, 14, 1, 2, 3, 4, 5, 6, 7, 8, 9, 10, 11, 12, 1, 3, 5, 6, 8, 9, 3, 7, 4, 8, 12, 3, 4, 6, 11, 12, 13, 14, 1, 2, 3, 4, 5, 6, 7, 9, 10, 12, 3, 4, 7, 8, 9, 10, 2, 3, 5, 7, 8, 14, 4, 5, 6, 1, 2, 7, 9, 2, 3, 4, 6, 8, 9, 14, 1, 3, 4, 5, 6, 7, 8, 9, 10, 1, 2, 3, 4, 5, 6, 9, 11, 12, 14, 1, 5, 1, 3, 4, 6, 13, 14, 1, 2, 3, 4, 5, 7, 8, 9, 10, 11, 12, 13, 14, 1, 2, 3, 4, 5, 6, 7, 8, 9, 11, 14, 1, 2, 3, 4, 5, 6, 7, 8, 9, 10, 11, 12, 13, 15, 1, 3, 4, 6, 9, 1, 2, 3, 4, 5, 6, 7, 8, 9, 10, 11, 12, 14, 15, 1, 2, 3, 4, 5, 6, 7, 8, 9, 11, 12, 13, 14, 1, 2, 3, 4, 6, 8, 10, 11, 12, 14, 1, 2, 4, 5, 9, 10, 1, 5, 6, 9, 11, 2, 3, 4, 5, 6, 10, 2, 4, 7, 11, 1, 2, 8, 14, 1, 2, 3, 4, 5, 6, 7, 8, 9, 10, 11, 12, 13, 14, 15, 1, 3, 4, 5, 6, 7, 8, 12, 13, 14, 1, 2, 3, 6, 9, 1, 2, 3, 4, 5, 6, 8, 10, 14, 1, 2, 5, 6, 8, 9, 11, 1, 2, 3, 10, 12, 14, 2, 7, 10, 1, 3, 4, 5, 8, 10, 11, 13, 14, 1, 2, 4, 5, 6, 7, 9, 10, 14, 1, 2, 3, 5, 6, 10, 12, 13], \"Freq\": [0.1502014934144075, 0.07510074670720375, 0.0300402986828815, 0.10514104539008526, 0.01502014934144075, 0.3304432855116965, 0.120161194731526, 0.0300402986828815, 0.13518134407296675, 0.027170413278278308, 0.35321537261761804, 0.054340826556556615, 0.2988745460610614, 0.10868165311311323, 0.13585206639139155, 0.03271344469191024, 0.13085377876764095, 0.03271344469191024, 0.049070167037865355, 0.1799239458055063, 0.21263739049741656, 0.0817836117297756, 0.03271344469191024, 0.11449705642168584, 0.11449705642168584, 0.01635672234595512, 0.1478701888437534, 0.11090264163281503, 0.4805781137421985, 0.1478701888437534, 0.055451320816407516, 0.055451320816407516, 0.9768070563988961, 0.44070292373647885, 0.16526359640117955, 0.38561505826941894, 0.027543932733529928, 0.5529040542582343, 0.34024864877429806, 0.04253108109678726, 0.2178337664373336, 0.4356675328746672, 0.0726112554791112, 0.1089168832186668, 0.1089168832186668, 0.19550620039538866, 0.11730372023723319, 0.07820248015815547, 0.07820248015815547, 0.19550620039538866, 0.27370868055354414, 0.07820248015815547, 0.15655330033459952, 0.0978458127091247, 0.23482995050189928, 0.35224492575284894, 0.03913832508364988, 0.07827665016729976, 0.01956916254182494, 0.16882453045020634, 0.2737695088381724, 0.1049449783879661, 0.07300520235684599, 0.036502601178422994, 0.15969888015560058, 0.050191076620331614, 0.041065426325725865, 0.018251300589211497, 0.041065426325725865, 0.009125650294605749, 0.013688475441908621, 0.1678141592476089, 0.41953539811902224, 0.25172123887141334, 0.1118761061650726, 0.02796902654126815, 0.44274547510707774, 0.04427454751070778, 0.35419638008566223, 0.08854909502141556, 0.08854909502141556, 0.1900234427082086, 0.15501912431459122, 0.0500061691337391, 0.07000863678723473, 0.12501542283434774, 0.0950117213541043, 0.06500801987386083, 0.04500555222036519, 0.04000493530699128, 0.01000123382674782, 0.01000123382674782, 0.14001727357446947, 0.00500061691337391, 0.08078939020447604, 0.2827628657156661, 0.08078939020447604, 0.08078939020447604, 0.40394695102238015, 0.04039469510223802, 0.024319883924964057, 0.7539164016738857, 0.14591930354978436, 0.024319883924964057, 0.024319883924964057, 0.18137726569551796, 0.14015515985562751, 0.2308437927033865, 0.14015515985562751, 0.10717747518371516, 0.00824442116797809, 0.00824442116797809, 0.12366631751967135, 0.05771094817584663, 0.040092865787115385, 0.2405571947226923, 0.20046432893557692, 0.040092865787115385, 0.3073786377012179, 0.040092865787115385, 0.026728577191410256, 0.06682144297852563, 0.013364288595705128, 0.026728577191410256, 0.26195726934308444, 0.22453480229407238, 0.26195726934308444, 0.11226740114703619, 0.11226740114703619, 0.12193288375922644, 0.48773153503690575, 0.2845100621048617, 0.08128858917281763, 0.10288029708741209, 0.06051782181612475, 0.242071287264499, 0.018155346544837424, 0.2783819803541739, 0.09077673272418713, 0.04236247527128733, 0.030258910908062375, 0.08472495054257466, 0.0242071287264499, 0.006051782181612475, 0.1388538244147529, 0.06942691220737646, 0.2777076488295058, 0.41656147324425874, 0.06942691220737646, 0.05473282670900031, 0.032839696025400184, 0.09851908807620056, 0.09851908807620056, 0.30650382957040173, 0.3283969602540019, 0.04378626136720025, 0.010946565341800062, 0.021893130683600125, 0.32442988631132236, 0.17843643747122728, 0.21087942610235952, 0.032442988631132236, 0.17843643747122728, 0.06488597726226447, 0.03383882149114762, 0.06767764298229524, 0.4737435008760667, 0.23687175043803335, 0.10151646447344286, 0.03383882149114762, 0.16647668282780403, 0.06659067313112162, 0.042808289870006754, 0.3519792722645, 0.014269429956668918, 0.009512953304445945, 0.014269429956668918, 0.07134714978334458, 0.05707771982667567, 0.08086010308779053, 0.07134714978334458, 0.03805181321778378, 0.014269429956668918, 0.1155098687837784, 0.04620394751351136, 0.2310197375675568, 0.18481579005404544, 0.16171381629728976, 0.02310197375675568, 0.04620394751351136, 0.02310197375675568, 0.02310197375675568, 0.1155098687837784, 0.1581738834334334, 0.21748908972097092, 0.019771735429179173, 0.019771735429179173, 0.2372608251501501, 0.059315206287537524, 0.03954347085835835, 0.1581738834334334, 0.03954347085835835, 0.03954347085835835, 0.35080602013397016, 0.11123117711564907, 0.0770061995416032, 0.12834366590267202, 0.017112488787022935, 0.17112488787022936, 0.0770061995416032, 0.04278122196755734, 0.017112488787022935, 0.0850225987592704, 0.0425112993796352, 0.1700451975185408, 0.21255649689817602, 0.0425112993796352, 0.25506779627781123, 0.0425112993796352, 0.12753389813890562, 0.18009776188956883, 0.11460766665699836, 0.16372523808142622, 0.47480319043613606, 0.04911757142442787, 0.39700826554759105, 0.02481301659672444, 0.09925206638689776, 0.02481301659672444, 0.01240650829836222, 0.0620325414918111, 0.3597887406525044, 0.01240650829836222, 0.01240650829836222, 0.299334530389039, 0.04988908839817317, 0.07483363259725975, 0.024944544199086587, 0.12472272099543293, 0.2743899861899524, 0.1746118093936061, 0.14569161700379638, 0.18211452125474545, 0.07284580850189819, 0.18211452125474545, 0.036422904250949094, 0.036422904250949094, 0.036422904250949094, 0.18211452125474545, 0.10926871275284727, 0.14179645932065482, 0.10128318522903916, 0.10128318522903916, 0.0607699111374235, 0.121539822274847, 0.10128318522903916, 0.1823097334122705, 0.10128318522903916, 0.0607699111374235, 0.24595220847556354, 0.2810882382577869, 0.2810882382577869, 0.03513602978222336, 0.03513602978222336, 0.07027205956444672, 0.04231708895490446, 0.19042690029707005, 0.40201234507159234, 0.02115854447745223, 0.04231708895490446, 0.21158544477452226, 0.02115854447745223, 0.08463417790980891, 0.04916223302696216, 0.41787898072917834, 0.09832446605392432, 0.294973398161773, 0.04916223302696216, 0.04916223302696216, 0.07004042215524998, 0.42024253293149993, 0.315181899698625, 0.17510105538812498, 0.12957194738718286, 0.11411841237770234, 0.1747438189533567, 0.11887334622677327, 0.02734086963215785, 0.06419160696245757, 0.023774669245354655, 0.1533466166325375, 0.028529603094425586, 0.07132400773606395, 0.033284536943496514, 0.023774669245354655, 0.010698601160409594, 0.019019735396283724, 0.005943667311338664, 0.21078545852192607, 0.07026181950730868, 0.3864400072901978, 0.17565454876827172, 0.07026181950730868, 0.03513090975365434, 0.03513090975365434, 0.6579193520301636, 0.14620430045114746, 0.1644798380075409, 0.018275537556393433, 0.08463135941955492, 0.31031498453836803, 0.16926271883910984, 0.22568362511881312, 0.16926271883910984, 0.3886726041213758, 0.45345137147493836, 0.09716815103034394, 0.03238938367678131, 0.08765635087753747, 0.0657422631581531, 0.23009792105353583, 0.1862697456147671, 0.2739260964923046, 0.021914087719384367, 0.021914087719384367, 0.043828175438768734, 0.021914087719384367, 0.021914087719384367, 0.010957043859692183, 0.5268950565842996, 0.0501804815794571, 0.1003609631589142, 0.13381461754521892, 0.008363413596576183, 0.02509024078972855, 0.1003609631589142, 0.041817067982880915, 0.621517816230669, 0.08878825946152416, 0.17757651892304832, 0.04439412973076208, 0.3172163217695124, 0.1586081608847562, 0.06344326435390249, 0.19032979306170747, 0.06344326435390249, 0.031721632176951245, 0.12688652870780498, 0.36282827574816734, 0.09070706893704183, 0.020157126430453743, 0.08062850572181497, 0.20157126430453742, 0.10078563215226871, 0.010078563215226871, 0.10078563215226871, 0.020157126430453743, 0.010078563215226871, 0.010078563215226871, 0.6033925465686746, 0.1149319136321285, 0.05746595681606425, 0.05746595681606425, 0.028732978408032125, 0.05746595681606425, 0.028732978408032125, 0.028732978408032125, 0.3693268972125262, 0.046165862151565776, 0.41549275936409197, 0.09233172430313155, 0.09233172430313155, 0.4364843956318975, 0.12470982732339929, 0.12470982732339929, 0.10392485610283275, 0.0831398848822662, 0.02078497122056655, 0.0415699424411331, 0.02078497122056655, 0.0415699424411331, 0.02078497122056655, 0.07926823266978175, 0.317072930679127, 0.12881087808839534, 0.029725587251168157, 0.16844499442328623, 0.09908529083722718, 0.019817058167445438, 0.07926823266978175, 0.059451174502336314, 0.009908529083722719, 0.2656412804346989, 0.07518149446265064, 0.09522989298602415, 0.18043558671036156, 0.11026619187855428, 0.07518149446265064, 0.05513309593927714, 0.025060498154216883, 0.03007259778506026, 0.0050120996308433766, 0.04009679704674701, 0.010024199261686753, 0.010024199261686753, 0.01503629889253013, 0.010024199261686753, 0.125073314420629, 0.250146628841258, 0.03126832860515725, 0.375219943261887, 0.0625366572103145, 0.125073314420629, 0.9512671902750267, 0.028826278493182627, 0.9789373028062031, 0.02258934414297077, 0.27107212971564926, 0.06776803242891231, 0.27107212971564926, 0.06776803242891231, 0.22589344142970771, 0.02258934414297077, 0.02258934414297077, 0.02134417907257724, 0.06403253721773172, 0.03201626860886586, 0.1600813430443293, 0.08537671629030896, 0.6296532826410286, 0.16270271707150188, 0.08730389696519612, 0.22222810136595378, 0.10714569173001343, 0.08730389696519612, 0.16667107602446532, 0.05158866638852498, 0.027778512670744222, 0.011905076858890381, 0.011905076858890381, 0.027778512670744222, 0.01587343581185384, 0.01587343581185384, 0.2019608439831248, 0.4291667934641402, 0.1514706329873436, 0.0504902109957812, 0.0504902109957812, 0.0504902109957812, 0.0757353164936718, 0.2778222964977024, 0.2778222964977024, 0.0347277870622128, 0.347277870622128, 0.0347277870622128, 0.11934563774668905, 0.6365100679823417, 0.013260626416298783, 0.013260626416298783, 0.21217002266078053, 0.6590742759516518, 0.1757531402537738, 0.021969142531721726, 0.06590742759516517, 0.021969142531721726, 0.10826909308745385, 0.3608969769581795, 0.18044848847908976, 0.03608969769581795, 0.2165381861749077, 0.03608969769581795, 0.3558097797172408, 0.0889524449293102, 0.14825407488218367, 0.05930162995287346, 0.11860325990574692, 0.05930162995287346, 0.14825407488218367, 0.9768070563988961, 0.3463795347365425, 0.16300213399366706, 0.12225160049525029, 0.08150106699683353, 0.2241279342412922, 0.040750533498416765, 0.020375266749208382, 0.3702820447577002, 0.04628525559471253, 0.13885576678413758, 0.09257051118942505, 0.20828365017620637, 0.06942788339206879, 0.06942788339206879, 0.23864348824219836, 0.1784033844140706, 0.05560624968750253, 0.04054622373047059, 0.11700481705078657, 0.09383554634766052, 0.032436978984376474, 0.04054622373047059, 0.10078632755859833, 0.019693880097657147, 0.053289322617189924, 0.01737695302734454, 0.0023169270703126054, 0.010426171816406725, 0.2542996730714511, 0.39961377196942316, 0.10898557417347905, 0.036328524724493015, 0.10898557417347905, 0.07265704944898603, 0.20311442454715817, 0.446851734003748, 0.08124576981886326, 0.1218686547282949, 0.04062288490943163, 0.08124576981886326, 0.1329970344426098, 0.07979822066556588, 0.10639762755408784, 0.664985172213049, 0.02659940688852196, 0.04999828304307633, 0.2249922736938435, 0.17499399065076718, 0.449984547387687, 0.0749974245646145, 0.024999141521538166, 0.44605107866348387, 0.04460510786634839, 0.4014459707971355, 0.08921021573269677, 0.029077286569175614, 0.10467823164903221, 0.1570173474735483, 0.378004725399283, 0.08723185970752684, 0.05233911582451611, 0.05233911582451611, 0.005815457313835122, 0.09304731702136196, 0.005815457313835122, 0.029077286569175614, 0.0840461064665948, 0.0840461064665948, 0.0420230532332974, 0.6723688517327584, 0.0420230532332974, 0.2617860514244456, 0.44877608815619247, 0.03739800734634938, 0.11219402203904812, 0.11219402203904812, 0.1525772269372517, 0.061030890774900676, 0.13223359667895146, 0.11188996642065124, 0.11188996642065124, 0.1525772269372517, 0.030515445387450338, 0.04068726051660045, 0.10171815129150112, 0.020343630258300226, 0.020343630258300226, 0.04068726051660045, 0.20372637126307416, 0.12732898203942133, 0.10186318563153708, 0.35652114971037974, 0.05093159281576854, 0.12732898203942133, 0.13055213231032767, 0.4569324630861469, 0.13055213231032767, 0.19582819846549152, 0.03263803307758192, 0.03263803307758192, 0.10889120894421968, 0.13858881138355233, 0.13858881138355233, 0.11879040975733056, 0.16828641382288495, 0.0494960040655544, 0.10889120894421968, 0.15838721300977407, 0.00989920081311088, 0.6309077356965626, 0.17450639497990028, 0.17450639497990028, 0.2733841749207956, 0.03905488213154223, 0.11716464639462669, 0.4296037034469645, 0.11716464639462669, 0.1372475162275056, 0.054899006491002246, 0.10979801298200449, 0.3842930454370157, 0.027449503245501123, 0.04117425486825168, 0.23332077758675954, 0.013724751622750561, 0.7797113893838272, 0.03204293381029427, 0.05340488968382378, 0.02136195587352951, 0.05340488968382378, 0.03204293381029427, 0.010680977936764756, 0.010680977936764756, 0.05412115315221028, 0.5412115315221028, 0.02706057657610514, 0.24354518918494625, 0.02706057657610514, 0.02706057657610514, 0.02706057657610514, 0.02706057657610514, 0.26970143961000254, 0.17980095974000168, 0.029966826623333612, 0.2097677863633353, 0.029966826623333612, 0.029966826623333612, 0.059933653246667225, 0.17980095974000168, 0.014983413311666806, 0.0747079052312225, 0.2241237156936675, 0.49805270154148334, 0.02490263507707417, 0.12451317538537084, 0.02490263507707417, 0.18562942857592146, 0.18562942857592146, 0.11137765714555288, 0.07425177143036858, 0.3341329714366586, 0.07425177143036858, 0.03712588571518429, 0.09497290927537838, 0.1266305457005045, 0.15828818212563062, 0.44320690995176576, 0.1266305457005045, 0.031657636425126125, 0.031657636425126125, 0.18170047162198247, 0.07268018864879298, 0.36340094324396494, 0.18170047162198247, 0.10902028297318948, 0.07268018864879298, 0.051206282120850544, 0.19202355795318954, 0.06400785265106318, 0.10241256424170109, 0.10241256424170109, 0.2560314106042527, 0.07680942318127582, 0.07680942318127582, 0.08961099371148845, 0.14650645831867817, 0.2106030338330999, 0.11903649738392602, 0.07325322915933909, 0.07325322915933909, 0.18771139972080642, 0.01831330728983477, 0.009156653644917386, 0.03204828775721085, 0.0686749023368804, 0.045783268224586934, 0.01373498046737608, 0.19608274347793367, 0.1176496460867602, 0.19608274347793367, 0.39216548695586734, 0.1176496460867602, 0.07579925381554264, 0.07579925381554264, 0.1515985076310853, 0.5053283587702844, 0.050532835877028434, 0.07579925381554264, 0.050532835877028434, 0.02660649888116559, 0.13303249440582796, 0.13303249440582796, 0.3724909843363183, 0.13303249440582796, 0.13303249440582796, 0.02660649888116559, 0.05321299776233118, 0.9760976714669454, 0.1901394424755196, 0.15844953539626633, 0.3802788849510392, 0.22182934955477288, 0.7224294902600873, 0.04187997044986013, 0.07328994828725523, 0.0942299335121853, 0.010469992612465033, 0.031409977837395096, 0.046407591056976935, 0.5104835016267463, 0.1392227731709308, 0.09281518211395387, 0.23203795528488466, 0.03627147424617658, 0.36271474246176577, 0.18135737123088289, 0.03627147424617658, 0.10881442273852972, 0.21762884547705943, 0.03627147424617658, 0.25474028838247226, 0.03639146976892461, 0.21834881861354766, 0.03639146976892461, 0.21834881861354766, 0.10917440930677383, 0.10917440930677383, 0.10387685295363941, 0.051938426476819705, 0.24670752576489358, 0.12984606619204925, 0.1428306728112542, 0.051938426476819705, 0.025969213238409852, 0.06492303309602462, 0.16879988604966403, 0.47729184217600645, 0.13636909776457326, 0.06818454888228663, 0.10227682332342995, 0.13636909776457326, 0.034092274441143315, 0.21140572092024307, 0.2959680092883403, 0.08456228836809722, 0.16912457673619444, 0.16912457673619444, 0.04228114418404861, 0.14806606205198133, 0.1678082036589122, 0.10858177883811965, 0.03948428321386169, 0.12832392044505048, 0.09871070803465422, 0.0888396372311888, 0.11845284964158506, 0.019742141606930844, 0.06909749562425796, 0.009871070803465422, 0.06193275680344037, 0.18579827041032113, 0.18579827041032113, 0.30966378401720185, 0.09289913520516056, 0.06193275680344037, 0.12386551360688074, 0.3175911791764609, 0.08821977199346136, 0.17643954398692271, 0.19408349838561498, 0.01764395439869227, 0.05293186319607681, 0.07057581759476908, 0.05293186319607681, 0.14233380761052342, 0.17396354263508418, 0.3004824827333272, 0.06325947004912151, 0.06325947004912151, 0.015814867512280378, 0.15814867512280378, 0.015814867512280378, 0.047444602536841136, 0.015814867512280378, 0.9361833979382759, 0.06039892889924361, 0.12748940292966118, 0.10927663108256674, 0.10927663108256674, 0.2914043495535113, 0.07285108738837782, 0.05463831554128337, 0.03642554369418891, 0.18212771847094456, 0.2740828493607866, 0.1566187710633066, 0.11746407829747996, 0.11746407829747996, 0.03915469276582665, 0.0783093855316533, 0.03915469276582665, 0.11746407829747996, 0.2168313487227625, 0.07227711624092083, 0.5782169299273666, 0.036138558120460414, 0.07227711624092083, 0.6234644027470513, 0.11002312989653847, 0.18337188316089745, 0.07334875326435898, 0.41466987540329153, 0.07539452280059845, 0.18848630700149616, 0.11309178420089769, 0.11309178420089769, 0.03769726140029923, 0.014218860251744623, 0.014218860251744623, 0.2559394845314032, 0.1848451832726801, 0.014218860251744623, 0.19906404352442472, 0.028437720503489246, 0.17062632302093547, 0.09953202176221236, 0.0630964053572976, 0.009013772193899658, 0.3335095711742873, 0.34252334336818696, 0.09915149413289623, 0.027041316581698973, 0.009013772193899658, 0.027041316581698973, 0.054082633163397946, 0.027041316581698973, 0.009013772193899658, 0.04014203554356043, 0.4415623909791647, 0.08028407108712086, 0.04014203554356043, 0.36127831989204384, 0.03617778238081961, 0.5064889533314746, 0.14471112952327844, 0.03617778238081961, 0.03617778238081961, 0.18088891190409806, 0.16680527494640063, 0.2588357714685527, 0.1207900266853246, 0.03451143619580703, 0.20131671114220767, 0.09203049652215207, 0.02300762413053802, 0.02300762413053802, 0.04026334222844153, 0.01150381206526901, 0.005751906032634505, 0.005751906032634505, 0.005751906032634505, 0.10478540850158488, 0.27942775600422637, 0.13971387800211318, 0.06985693900105659, 0.13971387800211318, 0.20957081700316976, 0.06985693900105659, 0.14316228857331886, 0.09544152571554591, 0.2226968933362738, 0.14316228857331886, 0.031813841905181967, 0.14316228857331886, 0.06362768381036393, 0.06362768381036393, 0.04772076285777296, 0.015906920952590983, 0.04772076285777296, 0.3092016478746479, 0.3533733118567404, 0.13251499194627767, 0.1766866559283702, 0.36356573441886636, 0.07271314688377327, 0.1973642558273846, 0.09348833170770848, 0.04155036964787044, 0.07271314688377327, 0.05193796205983805, 0.04155036964787044, 0.05193796205983805, 0.019733657713575704, 0.4144068119850898, 0.10853511742466637, 0.3650726677011505, 0.09866828856787851, 0.09460085048241779, 0.5045378692395616, 0.09460085048241779, 0.0315336168274726, 0.0630672336549452, 0.157668084137363, 0.0630672336549452, 0.10925128149223216, 0.4643179463419867, 0.1365641018652902, 0.1365641018652902, 0.05462564074611608, 0.08193846111917412, 0.24476248957878272, 0.10489820981947831, 0.1398642797593044, 0.20979641963895662, 0.2797285595186088, 0.1300762698254479, 0.48314043078023505, 0.22298789112933926, 0.03716464852155654, 0.055746972782334814, 0.055746972782334814, 0.3223160878186689, 0.07438063565046205, 0.5702515399868757, 0.13996198138862545, 0.19244772440935998, 0.06998099069431273, 0.05248574302073454, 0.19244772440935998, 0.06998099069431273, 0.03499049534715636, 0.13996198138862545, 0.03499049534715636, 0.06998099069431273, 0.26139757590172646, 0.1976420695842322, 0.15938876579373565, 0.006375550631749425, 0.0510044050539954, 0.0255022025269977, 0.0255022025269977, 0.07013105694924368, 0.10838436073974024, 0.019126651895248276, 0.0510044050539954, 0.006375550631749425, 0.01275110126349885, 0.04822134146063521, 0.2893280487638113, 0.04822134146063521, 0.09644268292127042, 0.04822134146063521, 0.09644268292127042, 0.09644268292127042, 0.09644268292127042, 0.14466402438190565, 0.04822134146063521, 0.2555648570461286, 0.04259414284102143, 0.4685355712512357, 0.04259414284102143, 0.04259414284102143, 0.08518828568204286, 0.04259414284102143, 0.1757321633005553, 0.03514643266011106, 0.4217571919213327, 0.10543929798033318, 0.07029286532022212, 0.10543929798033318, 0.03514643266011106, 0.16206101201688303, 0.08103050600844151, 0.12154575901266228, 0.16206101201688303, 0.24309151802532455, 0.2025762650211038, 0.08473038540610228, 0.028243461802034093, 0.4236519270305114, 0.19770423261423867, 0.11297384720813637, 0.16946077081220456, 0.23219304412324382, 0.046438608824648765, 0.32507026177254134, 0.09287721764929753, 0.046438608824648765, 0.18575443529859506, 0.046438608824648765, 0.046438608824648765, 0.3388351518077134, 0.13553406072308535, 0.20330109108462804, 0.06776703036154268, 0.2710681214461707, 0.1188918955562704, 0.09247147432154365, 0.2509940017299042, 0.14531231679099715, 0.14531231679099715, 0.013210210617363377, 0.07926126370418027, 0.07926126370418027, 0.013210210617363377, 0.05284084246945351, 0.22491388092231887, 0.21085676336467393, 0.01405711755764493, 0.01405711755764493, 0.12651405801880436, 0.042171352672934787, 0.08434270534586957, 0.18274252824938408, 0.07028558778822465, 0.042171352672934787, 0.21217337687017349, 0.024110611007974257, 0.16877427705581982, 0.014466366604784555, 0.009644244403189704, 0.14466366604784556, 0.02893273320956911, 0.02893273320956911, 0.043399099814353664, 0.02893273320956911, 0.20735125466857862, 0.06268758862073308, 0.014466366604784555, 0.004822122201594852, 0.009644244403189704, 0.07386787705081199, 0.27084888251964395, 0.19698100546883196, 0.07386787705081199, 0.09849050273441598, 0.19698100546883196, 0.09849050273441598, 0.3208527966932061, 0.09167222762663031, 0.09167222762663031, 0.22918056906657577, 0.22918056906657577, 0.045836113813315156, 0.2882638797605232, 0.12171141589888758, 0.10249382391485269, 0.08968209592549611, 0.012811727989356586, 0.05765277595210464, 0.051246911957426346, 0.03843518396806976, 0.15374073587227904, 0.07046450394146123, 0.006405863994678293, 0.14109884920668667, 0.09959918767530823, 0.3568970891698545, 0.09959918767530823, 0.09959918767530823, 0.024899796918827058, 0.033199729225102746, 0.10789911998158393, 0.016599864612551373, 0.024899796918827058, 0.15244998380533661, 0.20326664507378214, 0.0973986007645206, 0.08469443544740922, 0.08045971367503876, 0.07622499190266831, 0.050816661268445536, 0.016938887089481845, 0.14398054026059567, 0.055051383040816, 0.016938887089481845, 0.012704165317111384, 0.2550775220911769, 0.3826162831367654, 0.21256460174264744, 0.042512920348529486, 0.042512920348529486, 0.15152141084325702, 0.27879939595159287, 0.20606911874682954, 0.036365138602381684, 0.12727798510833588, 0.018182569301190842, 0.05454770790357252, 0.0606085643373028, 0.00606085643373028, 0.02424342573492112, 0.036365138602381684, 0.4016469235763586, 0.26776461571757243, 0.22313717976464367, 0.08925487190585747, 0.044060941277160794, 0.3231135693658458, 0.044060941277160794, 0.3231135693658458, 0.07343490212860132, 0.10280886298004184, 0.058747921702881054, 0.029373960851440527, 0.24694276872718454, 0.16462851248478969, 0.21950468331305292, 0.30181893955544775, 0.027438085414131615, 0.02848068629825284, 0.9398626478423437, 0.47066200512020795, 0.276860003011887, 0.1107440012047548, 0.0830580009035661, 0.0276860003011887, 0.22744074670113665, 0.2815933054395025, 0.09747460572905857, 0.010830511747673174, 0.06498307048603905, 0.03249153524301952, 0.2815933054395025, 0.06142074884182431, 0.20101335984597046, 0.26243410868779476, 0.03350222664099508, 0.15076001988447785, 0.005583704440165847, 0.18426224652547293, 0.011167408880331693, 0.01675111332049754, 0.005583704440165847, 0.01675111332049754, 0.022334817760663386, 0.01675111332049754, 0.9592821985658694, 0.02230888833874115, 0.017438176214266167, 0.17438176214266168, 0.4359544053566542, 0.06975270485706467, 0.017438176214266167, 0.13950540971412934, 0.017438176214266167, 0.034876352428532334, 0.08719088107133084, 0.030553805477616283, 0.45830708216424426, 0.12221522191046513, 0.27498424929854653, 0.061107610955232566, 0.030553805477616283, 0.9768070563988961, 0.06822227051055658, 0.358166920180422, 0.13644454102111317, 0.03411113525527829, 0.11938897339347401, 0.23877794678694803, 0.06822227051055658, 0.04234448945918744, 0.16937795783674975, 0.3387559156734995, 0.04234448945918744, 0.08468897891837487, 0.12703346837756233, 0.04234448945918744, 0.08468897891837487, 0.08464272716488286, 0.2539281814946486, 0.21160681791220717, 0.21160681791220717, 0.08464272716488286, 0.04232136358244143, 0.08464272716488286, 0.1258309850864616, 0.2516619701729232, 0.3774929552593848, 0.08388732339097439, 0.1258309850864616, 0.038105313577341836, 0.07621062715468367, 0.685895644392153, 0.1143159407320255, 0.15679129556537297, 0.07839564778268648, 0.23518694334805945, 0.43117606280477566, 0.03919782389134324, 0.16521844403453348, 0.032125808562270396, 0.19734425259680388, 0.08719862324044822, 0.08260922201726674, 0.13309263547226308, 0.022947006115907425, 0.0963774256868112, 0.04130461100863337, 0.0917880244636297, 0.04589401223181485, 0.004589401223181485, 0.08624902882456215, 0.014374838137427024, 0.4743696585350918, 0.15812321951169728, 0.028749676274854048, 0.08624902882456215, 0.04312451441228107, 0.057499352549708095, 0.014374838137427024, 0.014374838137427024, 0.20864386369300567, 0.20864386369300567, 0.20864386369300567, 0.20864386369300567, 0.0596125324837159, 0.08941879872557386, 0.08912166242039395, 0.21494047995506774, 0.11533391607345099, 0.29357724091423887, 0.015727352191834226, 0.09436411315100535, 0.04718205657550267, 0.026212253653057044, 0.05242450730611409, 0.03145470438366845, 0.026212253653057044, 0.26977007805977254, 0.30349133781724413, 0.16860629878735783, 0.03372125975747157, 0.16860629878735783, 0.02196269949253648, 0.3843472411193884, 0.1647202461940236, 0.06588809847760944, 0.03294404923880472, 0.18668294568656008, 0.03294404923880472, 0.1098134974626824, 0.04130807350009054, 0.02065403675004527, 0.12392422050027162, 0.3511186247507696, 0.1445782572503169, 0.04130807350009054, 0.04130807350009054, 0.18588633075040742, 0.02065403675004527, 0.5417873317347789, 0.3869909512391278, 0.03869909512391278, 0.07010496960841214, 0.2103149088252364, 0.3855773328462668, 0.07010496960841214, 0.2103149088252364, 0.07010496960841214, 0.01653273728646358, 0.03306547457292716, 0.5786458050262253, 0.049598211859390735, 0.2645237965834173, 0.049598211859390735, 0.12816734232416319, 0.11028352711614042, 0.16393497274020874, 0.07451589670009488, 0.12220607058815561, 0.07153526083209108, 0.10134161951212904, 0.0625933532280797, 0.04470953802005693, 0.02980635868003795, 0.04470953802005693, 0.023845086944030362, 0.020864451076026566, 0.0029806358680037953, 0.0968695108471192, 0.1418446408832817, 0.15568314243287013, 0.11589745047780332, 0.06400306966684662, 0.12281670125259755, 0.0363260665676697, 0.1089781997030091, 0.0034596253873971144, 0.0242173777117798, 0.044975130036162485, 0.04670494272986104, 0.015568314243287014, 0.019027939630684127, 0.005189438081095671, 0.13082288131191333, 0.21803813551985554, 0.39246864393574, 0.17443050841588442, 0.043607627103971106, 0.3898967708639171, 0.11696903125917513, 0.3509070937775254, 0.07797935417278343, 0.038989677086391714, 0.07795984059775697, 0.07795984059775697, 0.19489960149439242, 0.038979920298878486, 0.07795984059775697, 0.19489960149439242, 0.3118393623910279, 0.038979920298878486, 0.043956135969459534, 0.43956135969459537, 0.13186840790837862, 0.17582454387783814, 0.043956135969459534, 0.13186840790837862, 0.41561025188176565, 0.09235783375150348, 0.3232524181302622, 0.13853675062725523, 0.04416893717859062, 0.2650136230715437, 0.22084468589295309, 0.04416893717859062, 0.35335149742872496, 0.04416893717859062, 0.28602348386738835, 0.04086049769534119, 0.20430248847670596, 0.04086049769534119, 0.3677444792580707, 0.08172099539068238, 0.038865326771470206, 0.038865326771470206, 0.11659598031441061, 0.5441145748005829, 0.15546130708588082, 0.038865326771470206, 0.038865326771470206, 0.24157773516468348, 0.10980806143849249, 0.0219616122876985, 0.1537312860138895, 0.13176967372619097, 0.1537312860138895, 0.0219616122876985, 0.043923224575397, 0.087846449150794, 0.30700826092633415, 0.10233608697544472, 0.375232318909964, 0.13644811596725964, 0.03411202899181491, 0.03411202899181491, 0.2223012469995237, 0.1609767650686206, 0.11306701356010257, 0.1073178433790804, 0.07473921235328813, 0.09198672289635464, 0.05174253162919948, 0.02299668072408866, 0.028745850905110823, 0.028745850905110823, 0.02299668072408866, 0.0536589216895402, 0.0019163900603407216, 0.019163900603407214, 0.03757635857804858, 0.22545815146829148, 0.1503054343121943, 0.22545815146829148, 0.11272907573414574, 0.1878817928902429, 0.12172275491530223, 0.13230734229924154, 0.05292293691969662, 0.03704605584378763, 0.24344550983060445, 0.03175376215181797, 0.05292293691969662, 0.0846766990715146, 0.15876881075908986, 0.047630643227726956, 0.02646146845984831, 0.005292293691969662, 0.27870103905687515, 0.17418814941054697, 0.4877268183495315, 0.034837629882109394, 0.23647360786672905, 0.11495244826854883, 0.03284355664815681, 0.16093342757596837, 0.09524631427965476, 0.10838373693891748, 0.013137422659262725, 0.10838373693891748, 0.009853066994447043, 0.02627484531852545, 0.02955920098334113, 0.016421778324078404, 0.02627484531852545, 0.016421778324078404, 0.14882318886498178, 0.29313658412799437, 0.14882318886498178, 0.018039174407876578, 0.03156855521378401, 0.054117523223629733, 0.0405881424177223, 0.05862731682559888, 0.06764690402953717, 0.022548968009845724, 0.013529380805907433, 0.04509793601969145, 0.0405881424177223, 0.009019587203938289, 0.13264274113533422, 0.2193706872622835, 0.19386246781318078, 0.11733780946587258, 0.12754109724551368, 0.015304931669461641, 0.015304931669461641, 0.06632137056766711, 0.04081315111856437, 0.04591479500838492, 0.015304931669461641, 0.0051016438898205466, 0.18339225372660803, 0.15282687810550669, 0.09169612686330401, 0.10697881467385469, 0.06113075124220267, 0.13754419029495601, 0.16810956591605736, 0.06113075124220267, 0.030565375621101336, 0.5093235978120673, 0.10186471956241346, 0.2376843456456314, 0.10186471956241346, 0.27174379463983733, 0.509519614949695, 0.03396797432997967, 0.03396797432997967, 0.101903922989939, 0.03396797432997967, 0.08918287036196562, 0.2972762345398854, 0.05945524690797708, 0.1486381172699427, 0.08918287036196562, 0.08918287036196562, 0.20809336417791977, 0.12458523294989593, 0.2019139982291417, 0.15465753055849152, 0.03866438263962288, 0.03436834012410923, 0.01288812754654096, 0.15895357307400515, 0.11599314791886862, 0.021480212577568266, 0.09021689282578671, 0.008592085031027307, 0.017184170062054614, 0.008592085031027307, 0.004296042515513653, 0.34995167355876705, 0.022822935232093503, 0.24344464247566402, 0.007607645077364501, 0.038038225386822506, 0.15976054662465453, 0.015215290154729002, 0.10650703108310301, 0.030430580309458003, 0.022822935232093503, 0.0621972902920127, 0.0298546993401661, 0.3682079585287152, 0.04975783223361016, 0.08707620640881779, 0.13683403864242794, 0.13683403864242794, 0.01243945805840254, 0.08956409802049829, 0.009951566446722033, 0.01492734967008305, 0.002487891611680508, 0.21679828929551273, 0.1970893539050116, 0.06898127386675405, 0.12810808003825752, 0.06898127386675405, 0.10839914464775637, 0.0492723384762529, 0.0985446769525058, 0.01970893539050116, 0.03941787078100232, 0.15229983349780674, 0.16499148628929064, 0.20306644466374232, 0.05076661116593558, 0.08884156954038726, 0.17768313908077452, 0.06345826395741948, 0.07614991674890337, 0.0750859846114202, 0.31911543459853586, 0.31911543459853586, 0.16894346537569543, 0.1126289769171303, 0.01716610942105681, 0.03433221884211362, 0.051498328263170426, 0.12016276594739767, 0.7381427051054428, 0.23152466777245534, 0.2191215605703595, 0.07028427414520966, 0.04134369067365274, 0.1447029173577846, 0.028940583471556917, 0.03307495253892219, 0.03720932160628746, 0.11162796481886239, 0.004134369067365274, 0.02067184533682637, 0.03720932160628746, 0.016537476269461095, 0.004134369067365274, 0.16152811494005875, 0.12114608620504408, 0.12114608620504408, 0.16152811494005875, 0.4038202873501469, 0.20031274086415532, 0.03462195521108857, 0.17805576965702694, 0.08408189122692938, 0.12612283684039408, 0.0667709136213851, 0.07418990402376123, 0.012364984003960204, 0.11623084963722592, 0.02472996800792041, 0.04204094561346469, 0.022256971207128367, 0.014837980804752245, 0.017803331695196236, 0.08901665847598118, 0.35606663390392473, 0.05340999508558871, 0.05340999508558871, 0.3916732972943172, 0.3512232584434917, 0.043902907305436466, 0.3073203511380553, 0.1317087219163094, 0.1317087219163094, 0.060952203000243926, 0.30476101500121966, 0.02031740100008131, 0.3453958170013823, 0.08126960400032524, 0.10158700500040654, 0.04063480200016262, 0.02031740100008131, 0.060952203000243926, 0.2647511838049446, 0.07564319537284132, 0.11346479305926198, 0.1891079884321033, 0.11346479305926198, 0.07564319537284132, 0.07564319537284132, 0.07564319537284132, 0.12191132868620247, 0.0058053013660096416, 0.13352193141822175, 0.0058053013660096416, 0.24382265737240494, 0.011610602732019283, 0.31929157513053025, 0.017415904098028925, 0.04063710956206749, 0.03483180819605785, 0.0696636163921157, 0.3743207234087531, 0.15278396873826658, 0.07257238515067663, 0.038195992184566645, 0.2902895406027065, 0.003819599218456664, 0.038195992184566645, 0.02673719452919665, 0.003819599218456664, 0.1826612849076555, 0.1304723463626111, 0.1565668156351333, 0.1826612849076555, 0.02609446927252222, 0.23485022345269996, 0.07828340781756665, 0.1380340048823729, 0.5521360195294917, 0.08282040292942375, 0.11042720390589833, 0.027606800976474583, 0.027606800976474583, 0.055213601952949165, 0.3504456669366737, 0.10513370008100212, 0.03504456669366737, 0.07008913338733475, 0.4205348003240085, 0.03504456669366737, 0.1870447019776006, 0.26186258276864083, 0.4489072847462414, 0.03740894039552012, 0.03740894039552012, 0.1632676141968409, 0.13061409135747273, 0.5877634111086273, 0.03265352283936818, 0.03265352283936818, 0.35797997254174896, 0.035797997254174894, 0.42957596705009876, 0.17898998627087448, 0.17528891854044878, 0.1314666889053366, 0.043822229635112196, 0.08764445927022439, 0.07303704939185367, 0.29214819756741467, 0.07303704939185367, 0.058429639513482935, 0.029214819756741468, 0.014607409878370734, 0.07067795524486994, 0.1448898082519834, 0.060076261958139456, 0.07067795524486994, 0.07774575076935694, 0.028271182097947982, 0.07421185300711344, 0.03533897762243497, 0.0035338977622434977, 0.07067795524486994, 0.2862457187417233, 0.06714405748262646, 0.014135591048973991, 0.11976711668765318, 0.027638565389458424, 0.11976711668765318, 0.2487470885051258, 0.0737028410385558, 0.08291569616837527, 0.0737028410385558, 0.17504424746657002, 0.01842571025963895, 0.046064275649097375, 0.0442318399892629, 0.442318399892629, 0.2211591999463145, 0.1326955199677887, 0.0442318399892629, 0.0884636799785258, 0.27066895626716464, 0.14763761250936255, 0.14763761250936255, 0.04921253750312085, 0.34448776252184593, 0.024606268751560426, 0.1652340695617864, 0.49570220868535925, 0.154218464924334, 0.06609362782471456, 0.011015604637452428, 0.08812483709961942, 0.06224887244103204, 0.007781109055129005, 0.19841828090578964, 0.2917915895673377, 0.03112443622051602, 0.05446776338590304, 0.17118439921283812, 0.07392053602372556, 0.04279609980320953, 0.02723388169295152, 0.01556221811025801, 0.007781109055129005, 0.01556221811025801, 0.0038905545275645026, 0.23064399084091194, 0.5074167798500063, 0.13838639450454718, 0.04612879816818239, 0.04612879816818239, 0.025629643973047078, 0.051259287946094155, 0.1281482198652354, 0.15377786383828249, 0.051259287946094155, 0.3588150156226591, 0.1281482198652354, 0.10251857589218831, 0.43818510535435296, 0.40688616925761345, 0.062597872193479, 0.062597872193479, 0.09209428360555176, 0.1534904726759196, 0.06139618907036784, 0.6139618907036783, 0.03069809453518392, 0.03069809453518392, 0.025252328168190476, 0.4040372506910476, 0.12626164084095237, 0.05050465633638095, 0.3282802661864762, 0.025252328168190476, 0.05050465633638095, 0.07503171926762706, 0.1500634385352541, 0.18757929816906763, 0.1500634385352541, 0.18757929816906763, 0.2626110174366947, 0.53635047254, 0.23465333173625, 0.0670438090675, 0.03352190453375, 0.10056571360125, 0.16550044610865944, 0.28371505047198764, 0.04728584174533127, 0.11821460436332817, 0.28371505047198764, 0.04728584174533127, 0.023642920872665635, 0.023642920872665635, 0.14124393780234884, 0.1694927253628186, 0.05649757512093953, 0.42373181340704646, 0.1694927253628186, 0.028248787560469765, 0.0204733662709621, 0.7370411857546356, 0.2252070289805831, 0.14544136677084413, 0.03580095182051548, 0.23718130581091504, 0.09173993904007091, 0.1275408908605864, 0.09845261750641757, 0.03356339233173326, 0.06041410619711987, 0.08055214159615982, 0.044751189775644344, 0.020138035399039956, 0.013425356932693304, 0.011187797443911086, 0.1851444653188846, 0.06045533561432966, 0.1851444653188846, 0.14924910979787634, 0.13602450513224174, 0.05478764790048626, 0.047230730948695045, 0.03967381399690384, 0.07179071104201647, 0.03589535552100823, 0.022670750855373623, 0.005667687713843406, 0.00944614618973901, 0.16300108305352098, 0.0708700361102265, 0.17008808666454361, 0.056696028888181205, 0.028348014444090602, 0.10630505416533977, 0.11339205777636241, 0.007087003611022651, 0.06378303249920386, 0.08504404333227181, 0.12756606499840772, 0.007087003611022651, 0.16945440174749254, 0.26924421610990484, 0.04707066715208127, 0.14309482814232705, 0.04895349383816452, 0.04895349383816452, 0.05836762726858077, 0.07531306744333002, 0.02635957360516551, 0.016945440174749256, 0.02635957360516551, 0.04895349383816452, 0.009414133430416253, 0.009414133430416253, 0.24045410174822407, 0.15558794819002733, 0.16973230711639348, 0.09901051248456286, 0.16973230711639348, 0.028288717852732244, 0.028288717852732244, 0.028288717852732244, 0.014144358926366122, 0.08486615355819674, 0.28350119288931225, 0.28350119288931225, 0.3037512780956917, 0.10125042603189723, 0.020250085206379446, 0.17033594494884396, 0.17033594494884396, 0.45859677486227224, 0.052411059984259684, 0.10482211996851937, 0.026205529992129842, 0.2412141161837368, 0.10720627385943858, 0.1876109792540175, 0.26801568464859643, 0.05360313692971929, 0.10720627385943858, 0.372217833889347, 0.13958168770850513, 0.1861089169446735, 0.1861089169446735, 0.04652722923616837, 0.04652722923616837, 0.15881669594712997, 0.13612859652611142, 0.45376198842037135, 0.06806429826305571, 0.09075239768407427, 0.06806429826305571, 0.12697586096131236, 0.2116264349355206, 0.2116264349355206, 0.12697586096131236, 0.04232528698710412, 0.29627700890972886, 0.21969195862042123, 0.3636280694406972, 0.12878494126024692, 0.007575584780014526, 0.0909070173601743, 0.04545350868008715, 0.022726754340043575, 0.015151169560029052, 0.007575584780014526, 0.05302909346010168, 0.03787792390007263, 0.20724631498283735, 0.19698659641933056, 0.07797386108265168, 0.08618163593345712, 0.11696079162397752, 0.1333763413255884, 0.008207774850805441, 0.0205194371270136, 0.02667526826511768, 0.0410388742540272, 0.03488304311592312, 0.02667526826511768, 0.016415549701610882, 0.00615583113810408, 0.13021648956330367, 0.05208659582532147, 0.36460617077725027, 0.10417319165064294, 0.3385628728645895, 0.17557378513908506, 0.3511475702781701, 0.17557378513908506, 0.21946723142385635, 0.043893446284771265, 0.01993953963680873, 0.34894194364415276, 0.2641989001877157, 0.08972792836563928, 0.05981861891042619, 0.09471281327484146, 0.03489419436441528, 0.03987907927361746, 0.01993953963680873, 0.009969769818404365, 0.009969769818404365, 0.0049848849092021825, 0.24634473179940553, 0.04105745529990092, 0.08211491059980185, 0.5748043741986129, 0.04105745529990092, 0.4944090186662894, 0.12360225466657235, 0.061801127333286174, 0.09270169099992927, 0.030900563666643087, 0.061801127333286174, 0.09270169099992927, 0.0777793152811665, 0.4666758916869989, 0.13611380174204135, 0.0777793152811665, 0.019444828820291624, 0.0777793152811665, 0.03888965764058325, 0.0777793152811665, 0.019444828820291624, 0.40386241548987045, 0.008592817350848308, 0.30074860727969077, 0.09022458218390722, 0.08163176483305892, 0.042964086754241536, 0.030074860727969076, 0.017185634701696616, 0.01288922602627246, 0.004296408675424154, 0.008592817350848308, 0.13514746028363325, 0.04504915342787775, 0.11262288356969437, 0.40544238085089973, 0.022524576713938874, 0.2477703438533276, 0.022524576713938874, 0.13980418967740812, 0.6990209483870407, 0.04660139655913604, 0.04660139655913604, 0.121897769840489, 0.04063258994682967, 0.08126517989365933, 0.121897769840489, 0.365693309521467, 0.04063258994682967, 0.28442812962780767, 0.1606833669159612, 0.1606833669159612, 0.14561930126758985, 0.0803416834579806, 0.09540574910635197, 0.14059794605146606, 0.025106776080618936, 0.060256262593485446, 0.015064065648371362, 0.025106776080618936, 0.04519219694511409, 0.010042710432247574, 0.02008542086449515, 0.015064065648371362, 0.27744909959517117, 0.18496606639678076, 0.09248303319839038, 0.18496606639678076, 0.09248303319839038, 0.09248303319839038, 0.30242563843752357, 0.49811281625003884, 0.07115897375000554, 0.03557948687500277, 0.07115897375000554, 0.017789743437501386, 0.964882327606102, 0.015315592501684159, 0.021514039553524864, 0.010757019776762432, 0.010757019776762432, 0.07529913843733703, 0.010757019776762432, 0.07529913843733703, 0.7422343645966079, 0.021514039553524864, 0.010757019776762432, 0.21511097374702434, 0.023901219305224927, 0.0956048772208997, 0.04780243861044985, 0.40632072818882375, 0.11950609652612464, 0.07170365791567478, 0.39945455653762324, 0.039382843602300883, 0.11814853080690264, 0.045008964116915295, 0.016878361543843236, 0.25880154367226293, 0.07876568720460177, 0.03375672308768647, 0.011252241029228824, 0.24195926906245804, 0.08065308968748602, 0.3226123587499441, 0.12097963453122902, 0.16130617937497205, 0.04032654484374301, 0.15221655513810659, 0.20295540685080876, 0.05073885171270219, 0.10147770342540438, 0.12684712928175548, 0.10147770342540438, 0.05073885171270219, 0.025369425856351095, 0.15221655513810659, 0.014124274421078479, 0.14971730886343187, 0.29096005307421663, 0.09604506606333366, 0.014124274421078479, 0.011299419536862783, 0.24011266515833413, 0.02542369395794126, 0.062146807452745305, 0.064971662336961, 0.005649709768431392, 0.02542369395794126, 0.31669568010649524, 0.4750435201597429, 0.06786336002282041, 0.06786336002282041, 0.045242240015213604, 0.022621120007606802, 0.23181349734335893, 0.23181349734335893, 0.08693006150375959, 0.028976687167919866, 0.2607901845112788, 0.05795337433583973, 0.05795337433583973, 0.6020550818030577, 0.0840076858329848, 0.09800896680514894, 0.0420038429164924, 0.0420038429164924, 0.0420038429164924, 0.028002561944328267, 0.028002561944328267, 0.028002561944328267, 0.7804842367783711, 0.05574887405559794, 0.11149774811119588, 0.12572042060258595, 0.4190680686752865, 0.20953403433764325, 0.04190680686752865, 0.14667382403635026, 0.020953403433764325, 0.5365214904976976, 0.335325931561061, 0.10059777946831829, 0.0335325931561061, 0.2776347080002239, 0.46272451333370646, 0.12339320355565504, 0.09254490266674129, 0.23062431536883649, 0.7431227939662509, 0.025624923929870723, 0.16809536541256404, 0.14597755417406877, 0.0906830260778306, 0.04644740360084006, 0.03760027910544196, 0.057506309220087704, 0.33840251194897764, 0.006635343371548581, 0.07520055821088392, 0.008847124495398108, 0.008847124495398108, 0.002211781123849527, 0.006635343371548581, 0.006635343371548581, 0.12021508354914662, 0.04508065633092998, 0.015026885443643327, 0.07513442721821663, 0.015026885443643327, 0.7212905012948797, 0.5726849824934963, 0.08810538192207636, 0.3083688367272673, 0.21077994563309896, 0.10538997281654948, 0.3161699184496485, 0.17564995469424913, 0.07025998187769966, 0.10538997281654948, 0.21714214973678947, 0.02412690552630994, 0.16888833868416958, 0.09650762210523976, 0.07238071657892982, 0.31364977184202925, 0.02412690552630994, 0.09650762210523976, 0.05225269294120461, 0.08708782156867435, 0.2612634647060231, 0.4180215435296369, 0.01741756431373487, 0.06967025725493949, 0.03483512862746974, 0.05225269294120461, 0.22139560600844804, 0.09488383114647773, 0.5376750431633738, 0.12651177486197032, 0.02959083646085866, 0.4142717104520212, 0.5326350562954558, 0.07899610254863926, 0.34636752655941827, 0.07899610254863926, 0.2309116843729455, 0.10937921891350051, 0.11545584218647276, 0.01822986981891675, 0.01822986981891675, 0.012153246545944501, 0.20304114768062304, 0.20304114768062304, 0.08121645907224921, 0.040608229536124606, 0.20304114768062304, 0.24364937721674762, 0.09621811646072768, 0.24307734684815413, 0.19243623292145537, 0.10128222785339756, 0.07596167089004817, 0.1367310076020867, 0.02532055696334939, 0.020256445570679512, 0.06076933671203853, 0.02532055696334939, 0.020256445570679512, 0.015350480236681554, 0.02558413372780259, 0.1739721093490576, 0.20978989656798125, 0.005116826745560518, 0.056285094201165696, 0.286542297751389, 0.015350480236681554, 0.02558413372780259, 0.09210288142008932, 0.09210288142008932, 0.005116826745560518, 0.5077065727123343, 0.12692664317808358, 0.10154131454246686, 0.10154131454246686, 0.05077065727123343, 0.07615598590685015, 0.025385328635616714, 0.10274624130865968, 0.02739899768230925, 0.006849749420577312, 0.006849749420577312, 0.06849749420577313, 0.1575442366732782, 0.23974122972020595, 0.30138897450540175, 0.006849749420577312, 0.020549248261731937, 0.006849749420577312, 0.02739899768230925, 0.020549248261731937, 0.07142917780636544, 0.9107220170311594, 0.15245902553645133, 0.07241803712981439, 0.24774591649673341, 0.17913935500533032, 0.01143442691523385, 0.0038114756384112834, 0.11815574479074978, 0.07622951276822566, 0.05336065893775797, 0.007622951276822567, 0.007622951276822567, 0.0686065614914031, 0.9804378933825663, 0.5467701474715578, 0.14580537265908208, 0.14580537265908208, 0.14580537265908208, 0.9076405467942303, 0.05042447482190168, 0.07228179832835188, 0.10842269749252784, 0.01807044958208797, 0.7770293320297827, 0.2438200764753976, 0.17415719748242686, 0.41797727395782447, 0.1393257579859415, 0.17881585803024191, 0.4470396450756048, 0.05960528601008063, 0.11921057202016126, 0.029802643005040316, 0.05960528601008063, 0.029802643005040316, 0.029802643005040316, 0.9760976714669454, 0.9695766806328211, 0.01514963563488783, 0.2207961714777178, 0.16559712860828835, 0.30359473578186197, 0.08279856430414417, 0.19319665004300307, 0.9789373028062031, 0.07169958169112585, 0.10754937253668878, 0.07169958169112585, 0.035849790845562925, 0.035849790845562925, 0.10754937253668878, 0.035849790845562925, 0.21509874507337756, 0.2867983267645034, 0.289408530649818, 0.47028886230595424, 0.03617606633122725, 0.144704265324909, 0.03617606633122725, 0.2793378847653069, 0.4317040037282016, 0.05078870632096489, 0.05078870632096489, 0.05078870632096489, 0.05078870632096489, 0.07618305948144734, 0.18310959316158093, 0.19372464204051315, 0.10349672656958922, 0.021230097757864455, 0.04776771995519503, 0.18045583094184786, 0.013268811098665284, 0.09022791547092393, 0.02653762219733057, 0.07695910437225865, 0.045113957735461965, 0.010615048878932228, 0.005307524439466114, 0.09193575998107523, 0.06129050665405015, 0.33709778659727585, 0.18387151996215045, 0.030645253327025074, 0.18387151996215045, 0.06129050665405015, 0.033612632077374235, 0.36973895285111663, 0.06722526415474847, 0.20839831887972027, 0.020167579246424542, 0.02689010566189939, 0.07394779057022333, 0.1411730547249718, 0.04705768490832393, 0.013445052830949695, 0.04332702053818959, 0.30328914376732713, 0.08665404107637918, 0.5632512669964647, 0.22878005352469472, 0.1871836801565684, 0.04159637336812631, 0.16638549347250525, 0.12478912010437894, 0.08319274673625263, 0.06239456005218947, 0.020798186684063157, 0.020798186684063157, 0.06239456005218947, 0.034790329286497994, 0.13916131714599198, 0.4522742807244739, 0.06958065857299599, 0.10437098785949397, 0.034790329286497994, 0.10437098785949397, 0.06958065857299599, 0.2194059772981184, 0.08507578711559693, 0.12089717116426932, 0.13433019018252146, 0.11641949815818527, 0.10298647913993313, 0.06268742208517668, 0.026866038036504294, 0.07612044110342883, 0.013433019018252147, 0.013433019018252147, 0.022388365030420243, 0.07221012536629855, 0.18413581968406129, 0.08304164417124332, 0.16247278207417173, 0.06859961909798362, 0.13719923819596724, 0.10831518804944781, 0.010831518804944783, 0.01444202507325971, 0.08665215043955826, 0.04332607521977913, 0.018052531341574637, 0.0036105062683149274, 0.0036105062683149274, 0.03793214539790766, 0.028449109048430742, 0.028449109048430742, 0.18017769064006137, 0.4551857447748919, 0.009483036349476915, 0.24655894508639978, 0.30716728793862236, 0.023628252918355568, 0.0708847587550667, 0.047256505836711135, 0.16539777042848897, 0.23628252918355566, 0.047256505836711135, 0.09451301167342227, 0.22620013255939442, 0.4901002872120212, 0.26390015465262684, 0.44537115384316184, 0.07422852564052697, 0.20412844551144918, 0.11134278846079046, 0.07422852564052697, 0.018557131410131742, 0.09278565705065872, 0.12818929164237136, 0.13036199150071665, 0.141225490792443, 0.0760444950420847, 0.180334088242658, 0.1607797895175505, 0.01520889900841694, 0.03259049787517916, 0.06518099575035832, 0.036935897591869715, 0.02389969844179805, 0.004345399716690555, 0.0021726998583452774, 0.31260652964784064, 0.03290595048924638, 0.02742162540770532, 0.3290595048924638, 0.14807677720160872, 0.01645297524462319, 0.04387460065232851, 0.021937300326164255, 0.03839027557078745, 0.021937300326164255, 0.026424650464695828, 0.23782185418226245, 0.13212325232347916, 0.13212325232347916, 0.1849725532528708, 0.07927395139408748, 0.052849300929391656, 0.10569860185878331, 0.026424650464695828, 0.5355581617495458, 0.0045774201858935545, 0.08697098353197753, 0.3341516735702295, 0.022887100929467774, 0.0045774201858935545, 0.0045774201858935545, 0.0045774201858935545, 0.1267444240837632, 0.29573698952878086, 0.16899256544501765, 0.38023327225128967, 0.3258674148872729, 0.444364656664463, 0.0888729313328926, 0.0888729313328926, 0.029624310444297534, 0.18691461038111468, 0.053404174394604195, 0.1335104359865105, 0.37382922076222935, 0.0801062615919063, 0.1602125231838126, 0.05497443558927421, 0.10994887117854842, 0.08246165338391132, 0.10994887117854842, 0.16492330676782263, 0.13743608897318552, 0.027487217794637104, 0.3023593957410082, 0.018704349907620186, 0.07481739963048074, 0.1309304493533413, 0.018704349907620186, 0.056113049722860554, 0.2618608987066826, 0.16833914916858167, 0.03740869981524037, 0.18704349907620185, 0.018704349907620186, 0.15631850342738007, 0.09195206083963534, 0.1103424730075624, 0.0551712365037812, 0.10114726692359886, 0.37700344944250486, 0.0827568547556718, 0.009195206083963533, 0.009195206083963533, 0.5110901575942514, 0.1393882247984322, 0.232313707997387, 0.04646274159947739, 0.3733011341111104, 0.19763001217647022, 0.021958890241830023, 0.24154779266013027, 0.021958890241830023, 0.021958890241830023, 0.10979445120915012, 0.022459451864458406, 0.6737835559337522, 0.11229725932229202, 0.022459451864458406, 0.08983780745783362, 0.04491890372891681, 0.4574044473050621, 0.2462947023950334, 0.07036991497000955, 0.07036991497000955, 0.10555487245501433, 0.43098671092027735, 0.09235429519720229, 0.061569530131468195, 0.1539238253286705, 0.27706288559160686, 0.1507014318599874, 0.07158318013349402, 0.15823650345298676, 0.07158318013349402, 0.12432868128448961, 0.07911825172649338, 0.018837678982498426, 0.011302607389499056, 0.13939882447048835, 0.13563128867398866, 0.003767535796499685, 0.018837678982498426, 0.011302607389499056, 0.048716338872685595, 0.3410143721087992, 0.3410143721087992, 0.048716338872685595, 0.09743267774537119, 0.09743267774537119, 0.18635845729635608, 0.5590753718890682, 0.22363014875562728, 0.11339022097252098, 0.0050395653765564884, 0.0025197826882782442, 0.33513109754100645, 0.12094956903735572, 0.03779674032417366, 0.26961674764577215, 0.007559348064834733, 0.0025197826882782442, 0.08063304602490382, 0.007559348064834733, 0.015118696129669465, 0.03526256638718516, 0.7405138941308884, 0.03526256638718516, 0.14105026554874064, 0.1037684275394784, 0.172947379232464, 0.1383579033859712, 0.2075368550789568, 0.1383579033859712, 0.2075368550789568, 0.0345894758464928, 0.3112094120187882, 0.06831426117485594, 0.07969997137066527, 0.0834952081026017, 0.3074141752868517, 0.045542840783237296, 0.007590473463872882, 0.011385710195809324, 0.007590473463872882, 0.011385710195809324, 0.022771420391618648, 0.022771420391618648, 0.015180946927745765, 0.055714540490906864, 0.6407172156454289, 0.16714362147272058, 0.13928635122726715, 0.1172277162751407, 0.16411880278519697, 0.16411880278519697, 0.04689108651005628, 0.1172277162751407, 0.02344554325502814, 0.14067325953016885, 0.21100988929525327, 0.45568812478534604, 0.035052932675795845, 0.14021173070318338, 0.035052932675795845, 0.07010586535159169, 0.14021173070318338, 0.10515879802738755, 0.023257240163525983, 0.07558603053145944, 0.29071550204407476, 0.011628620081762991, 0.09302896065410393, 0.017442930122644487, 0.09884327069498543, 0.18605792130820786, 0.05814310040881496, 0.034885860245288974, 0.11047189077674842, 0.06309357098289729, 0.2734054742592216, 0.23134309360395675, 0.06309357098289729, 0.04206238065526486, 0.10515595163816216, 0.06309357098289729, 0.04206238065526486, 0.10515595163816216, 0.3136486685405356, 0.3136486685405356, 0.0784121671351339, 0.03920608356756695, 0.1568243342702678, 0.03920608356756695, 0.03920608356756695, 0.1125481206130488, 0.19547831474897948, 0.13031887649931964, 0.07108302354508345, 0.10070095002220154, 0.10662453531762517, 0.03554151177254172, 0.031592454908925975, 0.0592358529542362, 0.04936321079519684, 0.055286796090620455, 0.03949056863615747, 0.009872642159039368, 0.0019745284318078734, 0.08796150163167867, 0.48378825897423267, 0.17592300326335733, 0.04398075081583933, 0.131942252447518, 0.09666114708532202, 0.12082643385665252, 0.36247930156995756, 0.07249586031399151, 0.036247930156995754, 0.14499172062798302, 0.04833057354266101, 0.12082643385665252, 0.544832951401222, 0.36322196760081465, 0.07264439352016293, 0.02402282195991005, 0.45643361723829096, 0.12011410979955026, 0.1441369317594603, 0.07206846587973015, 0.0960912878396402, 0.0960912878396402, 0.1542908065001291, 0.12000396061121153, 0.22286449827796428, 0.03428684588891758, 0.06857369177783516, 0.01714342294445879, 0.01714342294445879, 0.03428684588891758, 0.1542908065001291, 0.1542908065001291, 0.01714342294445879, 0.04380941537409501, 0.13142824612228504, 0.21904707687047506, 0.3504753229927601, 0.08761883074819002, 0.13142824612228504, 0.18463488772564324, 0.11539680482852703, 0.18463488772564324, 0.09231744386282162, 0.06923808289711622, 0.20771424869134864, 0.09231744386282162, 0.04615872193141081, 0.21533047832544894, 0.4037446468602167, 0.21533047832544894, 0.053832619581362234, 0.053832619581362234, 0.026916309790681117, 0.03904731662738493, 0.35142584964646434, 0.11714194988215477, 0.11714194988215477, 0.11714194988215477, 0.07809463325476985, 0.11714194988215477, 0.07809463325476985, 0.0938222872783698, 0.32837800547429435, 0.16418900273714718, 0.0469111436391849, 0.17982605061687545, 0.007818523939864151, 0.02345557181959245, 0.039092619699320756, 0.10164081121823396, 0.40520864287758385, 0.09004636508390752, 0.1200618201118767, 0.1200618201118767, 0.10505409259789211, 0.06003091005593835, 0.04502318254195376, 0.030015455027969175, 0.030015455027969175, 0.14603457374890894, 0.12169547812409078, 0.07301728687445447, 0.07301728687445447, 0.2190518606233634, 0.09735638249927263, 0.19471276499854526, 0.048678191249636314, 0.024339095624818157, 0.07956583415923181, 0.10608777887897575, 0.5569608391146227, 0.1326097235987197, 0.026521944719743937, 0.07956583415923181, 0.15214986302834382, 0.12679155252361987, 0.12679155252361987, 0.15214986302834382, 0.025358310504723973, 0.07607493151417191, 0.10143324201889589, 0.1775081735330678, 0.025358310504723973, 0.1962043658936266, 0.07848174635745064, 0.11772261953617597, 0.11772261953617597, 0.3924087317872532, 0.07848174635745064, 0.4526207478521935, 0.13926792241605954, 0.2089018836240893, 0.10445094181204465, 0.034816980604014884, 0.07444328851538644, 0.44665973109231866, 0.27295872455641695, 0.049628859010257625, 0.12407214752564406, 0.024814429505128813, 0.3056356616450117, 0.06791903592111372, 0.06791903592111372, 0.27167614368445486, 0.03395951796055686, 0.10187855388167058, 0.10187855388167058, 0.03395951796055686, 0.09929444131444469, 0.12150504002951784, 0.09014890066706163, 0.07839034840614055, 0.07055131356552649, 0.1580872026190501, 0.1580872026190501, 0.053566738077529374, 0.039195174203070275, 0.0731643251790645, 0.019597587101535138, 0.020904092908304146, 0.011758552260921082, 0.005226023227076037, 0.15524421529370852, 0.14453771768724585, 0.05888573683554461, 0.021412995212925313, 0.14453771768724585, 0.16059746409693984, 0.13383122008078321, 0.021412995212925313, 0.08029873204846992, 0.03747274162261929, 0.010706497606462657, 0.005353248803231328, 0.021412995212925313, 0.26065192509724927, 0.06516298127431232, 0.050682318768909586, 0.2678922563499507, 0.05792265002161095, 0.06516298127431232, 0.0072403312527013685, 0.0072403312527013685, 0.08688397503241643, 0.03620165626350685, 0.08688397503241643, 0.0072403312527013685, 0.4021230645355109, 0.09411390872107701, 0.20533943720962258, 0.042779049418671375, 0.21389524709335686, 0.025667429651202823, 0.008555809883734274, 0.1111382726424041, 0.05001222268908184, 0.16115049533148593, 0.08335370448180307, 0.20560580438844758, 0.05556913632120205, 0.1111382726424041, 0.1166951862745243, 0.06668296358544246, 0.027784568160601025, 0.011113827264240409, 0.12151630591810464, 0.48606522367241856, 0.12151630591810464, 0.12151630591810464, 0.08101087061206975, 0.42950495947403483, 0.35141314866057394, 0.03904590540673044, 0.07809181081346088, 0.03904590540673044, 0.03375056615510646, 0.10125169846531937, 0.011250188718368819, 0.10125169846531937, 0.045000754873475275, 0.7087618892572356, 0.17803601424721813, 0.059345338082406045, 0.1483633452060151, 0.059345338082406045, 0.11869067616481209, 0.23738135232962418, 0.17803601424721813, 0.27290292471914857, 0.22328421113384883, 0.07442807037794961, 0.03721403518897481, 0.07442807037794961, 0.07442807037794961, 0.062023391981624675, 0.04961871358529974, 0.11164210556692442, 0.012404678396324935, 0.03721403518897481, 0.2465505517282803, 0.2465505517282803, 0.12327527586414015, 0.09245645689810512, 0.030818818966035038, 0.030818818966035038, 0.1540940948301752, 0.030818818966035038, 0.32777035560458706, 0.07283785680101934, 0.14567571360203868, 0.07283785680101934, 0.10925678520152901, 0.07283785680101934, 0.18209464200254835, 0.08164638463340743, 0.054430923088938286, 0.24493915390022228, 0.027215461544469143, 0.027215461544469143, 0.16329276926681485, 0.027215461544469143, 0.21772369235575315, 0.10886184617787657, 0.027215461544469143, 0.02596563148323651, 0.031158757779883813, 0.09866939963629874, 0.2804288200189543, 0.062317515559767625, 0.046738136669825715, 0.08309002074635682, 0.10386252593294604, 0.10386252593294604, 0.07789689444970953, 0.036351884076531116, 0.015579378889941906, 0.02596563148323651, 0.3905974160660058, 0.2864381051150709, 0.05207965547546744, 0.0954793683716903, 0.06075959805471201, 0.034719770316978295, 0.034719770316978295, 0.017359885158489147, 0.008679942579244574, 0.008679942579244574, 0.26166419396818347, 0.029073799329798162, 0.10175829765429356, 0.10175829765429356, 0.10175829765429356, 0.13083209698409173, 0.13083209698409173, 0.13083209698409173, 0.603208176346411, 0.04021387842309406, 0.16085551369237625, 0.16085551369237625, 0.16845981334983962, 0.2948046733622193, 0.21057476668729955, 0.042114953337459904, 0.042114953337459904, 0.21057476668729955, 0.029796750106418326, 0.08939025031925497, 0.20857725074492828, 0.08939025031925497, 0.3873577513834382, 0.14898375053209162, 0.029796750106418326, 0.24661249673807653, 0.08220416557935885, 0.08220416557935885, 0.13700694263226473, 0.10960555410581178, 0.21921110821162357, 0.13700694263226473, 0.09710681860245893, 0.061795248201564776, 0.16772995940424726, 0.15007417420380018, 0.12359049640312955, 0.09710681860245893, 0.01765578520044708, 0.01765578520044708, 0.061795248201564776, 0.07062314080178832, 0.052967355601341234, 0.052967355601341234, 0.03531157040089416, 0.16258392870962948, 0.25290833354831255, 0.018064880967736608, 0.415492262257942, 0.018064880967736608, 0.036129761935473216, 0.018064880967736608, 0.09032440483868305, 0.17814144963326625, 0.04453536240831656, 0.15587376842910797, 0.07793688421455398, 0.3451490586644534, 0.02226768120415828, 0.055669203010395706, 0.11133840602079141, 0.06925097931930388, 0.23083659773101292, 0.04616731954620259, 0.16158561841170904, 0.09233463909240518, 0.2770039172772155, 0.06925097931930388, 0.057841096672251464, 0.23136438668900586, 0.4627287733780117, 0.057841096672251464, 0.028920548336125732, 0.11568219334450293, 0.028920548336125732, 0.29292236585221476, 0.06759746904281878, 0.6083772213853691, 0.2111106046688574, 0.1407404031125716, 0.15833295350164303, 0.08796275194535724, 0.08796275194535724, 0.05277765116721435, 0.05277765116721435, 0.08796275194535724, 0.05277765116721435, 0.05277765116721435, 0.16894007107081954, 0.5912902487478684, 0.11262671404721303, 0.08447003553540977, 0.22549794976783138, 0.11274897488391569, 0.056374487441957846, 0.1409362186048946, 0.056374487441957846, 0.11274897488391569, 0.11274897488391569, 0.19731070604685244, 0.16292925983229398, 0.2353422642022024, 0.19913576201724817, 0.03620650218495421, 0.018103251092477107, 0.09051625546238554, 0.18103251092477107, 0.018103251092477107, 0.05430975327743132, 0.19804565129247598, 0.1517334374517739, 0.15721777856448862, 0.10542122361107183, 0.09871814002886495, 0.12553047435769246, 0.028031076798319676, 0.018890508277128477, 0.029859190502557916, 0.023156106920351038, 0.02193736445085888, 0.028640448033065757, 0.0030468561737303996, 0.00365622740847648, 0.00548434111271472, 0.09464421089524952, 0.3596480014019482, 0.198752842880024, 0.06625094762667466, 0.03785768435809981, 0.18928842179049904, 0.018928842179049905, 0.018928842179049905, 0.009464421089524952, 0.4016240575786153, 0.1204872172735846, 0.08032481151572306, 0.04016240575786153, 0.2409744345471692, 0.08032481151572306, 0.1559709583756175, 0.09850797371091631, 0.08208997809243025, 0.13134396494788841, 0.05746298466470118, 0.12313496713864538, 0.008208997809243026, 0.09029897590167328, 0.10671697152015934, 0.016417995618486052, 0.05746298466470118, 0.016417995618486052, 0.008208997809243026, 0.049253986855458155, 0.4187950493143511, 0.2617469058214694, 0.1832228340750286, 0.052349381164293884, 0.052349381164293884, 0.276300274843388, 0.17582744762761052, 0.07535462041183308, 0.025118206803944363, 0.276300274843388, 0.07535462041183308, 0.025118206803944363, 0.050236413607888726, 0.021857073247650356, 0.021857073247650356, 0.06557121974295106, 0.06557121974295106, 0.10928536623825177, 0.6994263439248114, 0.18448368596869655, 0.09224184298434827, 0.5073301364139154, 0.18448368596869655, 0.028948828708614767, 0.034738594450337716, 0.10421578335101316, 0.30685758431131654, 0.028948828708614767, 0.057897657417229534, 0.09263625186756726, 0.06947718890067543, 0.12158508057618202, 0.09263625186756726, 0.04631812593378363, 0.0057897657417229536, 0.017369297225168858, 0.2914986379786726, 0.04858310632977877, 0.24291553164889382, 0.38866485063823014, 0.24478978379078578, 0.20981981467781638, 0.034969969112969394, 0.13987987645187758, 0.24478978379078578, 0.10490990733890819, 0.12673623067074444, 0.07242070324042539, 0.07242070324042539, 0.05431552743031905, 0.07242070324042539, 0.12673623067074444, 0.1086310548606381, 0.036210351620212695, 0.1086310548606381, 0.1810517581010635, 0.44509027851434174, 0.3141813730689471, 0.18327246762355248, 0.026181781089078926, 0.01738269122361288, 0.20859229468335455, 0.4171845893667091, 0.08691345611806439, 0.03476538244722576, 0.06953076489445152, 0.05214807367083864, 0.10429614734167728, 0.6392542728878119, 0.22561915513687478, 0.03760319252281246, 0.07520638504562492, 0.033768128636835246, 0.09004834303156066, 0.060782631546303444, 0.3039131577315172, 0.0832947173041936, 0.21161360612416755, 0.03827054578841328, 0.0022512085757890165, 0.13507251454734098, 0.027014502909468198, 0.015758460030523117, 0.1970946128935729, 0.11262549308204166, 0.42234559905765623, 0.05631274654102083, 0.028156373270510415, 0.14078186635255208, 0.028156373270510415, 0.05328943600698379, 0.2264801030296811, 0.5595390780733298, 0.05328943600698379, 0.013322359001745948, 0.013322359001745948, 0.09325651301222163, 0.1221139452440855, 0.32563718731756136, 0.32563718731756136, 0.1221139452440855, 0.04070464841469517, 0.2687445046102142, 0.1493025025612301, 0.17916300307347613, 0.05972100102449204, 0.05972100102449204, 0.11944200204898409, 0.1493025025612301, 0.18086153386752526, 0.21703384064103032, 0.10851692032051516, 0.0723446135470101, 0.21703384064103032, 0.1446892270940202, 0.03617230677350505, 0.5093610886427716, 0.05361695669923912, 0.02680847834961956, 0.2680847834961956, 0.02680847834961956, 0.05361695669923912, 0.05361695669923912, 0.13981954743262667, 0.20972932114894002, 0.31459398172341, 0.03495488685815667, 0.03495488685815667, 0.17477443429078335, 0.03495488685815667, 0.22159247577156108, 0.39886645638880996, 0.044318495154312215, 0.08863699030862443, 0.13295548546293665, 0.08863699030862443, 0.038961553249290674, 0.3116924259943254, 0.07792310649858135, 0.1558462129971627, 0.07792310649858135, 0.1558462129971627, 0.038961553249290674, 0.07792310649858135, 0.4446525756910335, 0.0635217965272905, 0.1905653895818715, 0.03176089826364525, 0.0635217965272905, 0.1905653895818715, 0.03176089826364525, 0.33420561492441936, 0.15191164314746333, 0.48611725807188266, 0.08449503810161371, 0.19715508890376532, 0.36614516510699274, 0.16899007620322742, 0.0563300254010758, 0.0563300254010758, 0.0563300254010758, 0.0281650127005379, 0.09107375678261392, 0.07285900542609114, 0.027322127034784174, 0.06375162974782975, 0.018214751356522785, 0.7012679272261272, 0.009107375678261392, 0.009107375678261392, 0.05432616685402544, 0.488935501686229, 0.2444677508431145, 0.05432616685402544, 0.13581541713506362, 0.02716308342701272, 0.1559876622800086, 0.04456790350857389, 0.19312758187048684, 0.1559876622800086, 0.037139919590478236, 0.06685185526286083, 0.23026750146096508, 0.037139919590478236, 0.014855967836191296, 0.014855967836191296, 0.04456790350857389, 0.03626539828489013, 0.16319429228200558, 0.09066349571222532, 0.30825588542156607, 0.054398097427335194, 0.09066349571222532, 0.07253079656978026, 0.16319429228200558, 0.11265474210706478, 0.15490027039721407, 0.2980656718249422, 0.16194119177890562, 0.015255329660331688, 0.03403112001150915, 0.12908355866434507, 0.0070409213816915485, 0.011734868969485914, 0.004693947587794366, 0.029337172423714787, 0.02464322483592042, 0.009387895175588731, 0.0070409213816915485, 0.07600841025810769, 0.050672273505405124, 0.30403364103243075, 0.10134454701081025, 0.050672273505405124, 0.025336136752702562, 0.10134454701081025, 0.16468488889256666, 0.025336136752702562, 0.012668068376351281, 0.03800420512905384, 0.025336136752702562, 0.08382257832909051, 0.5681308086749468, 0.09313619814343391, 0.009313619814343392, 0.1117634377721207, 0.018627239628686783, 0.06519533870040374, 0.018627239628686783, 0.018627239628686783, 0.20192221090218931, 0.1492468515364008, 0.06364939256699445, 0.16241569137784792, 0.13168839841447127, 0.16241569137784792, 0.0021948066402411883, 0.028532486323135445, 0.0373117128841002, 0.015363646481688316, 0.04389613280482376, 0.0021948066402411883, 0.07010925638483066, 0.03505462819241533, 0.3505462819241533, 0.2453823973469073, 0.07010925638483066, 0.03505462819241533, 0.07010925638483066, 0.07010925638483066, 0.07010925638483066, 0.49917276459736704, 0.45923894342957766, 0.01996691058389468, 0.18229425850854594, 0.07812611078937683, 0.24739935083302664, 0.05859458309203262, 0.05208407385958455, 0.019531527697344207, 0.03906305539468841, 0.03255254616224035, 0.013021018464896138, 0.006510509232448069, 0.2148468046707863, 0.03255254616224035, 0.006510509232448069, 0.5373224605181495, 0.09390101251773486, 0.1408515187766023, 0.04695050625886743, 0.026083614588259682, 0.010433445835303872, 0.1408515187766023, 0.005216722917651936, 0.7040295146505733, 0.2700387179481651, 0.009644239926720182, 0.2546105383628872, 0.21217544863573937, 0.1697403589085915, 0.04243508972714787, 0.2970456280900351, 0.08369206943725614, 0.20923017359314033, 0.19249175970568913, 0.1255381041558842, 0.1757533458182379, 0.033476827774902455, 0.033476827774902455, 0.11716889721215859, 0.008369206943725614, 0.016738413887451228, 0.27964944305863776, 0.20973708229397833, 0.38451798420562694, 0.06991236076465944, 0.0789893086545884, 0.1148935398612195, 0.07180846241326219, 0.028723384965304875, 0.15079777106785058, 0.14361692482652438, 0.28723384965304877, 0.007180846241326219, 0.04308507744795731, 0.021542538723978655, 0.028723384965304875, 0.021542538723978655, 0.033810704144131384, 0.16905352072065694, 0.033810704144131384, 0.7100247870267591, 0.03272423553581818, 0.2945181198223636, 0.16362117767909087, 0.49086353303727265, 0.14412789087900296, 0.3002664393312562, 0.21619183631850447, 0.13211723330575273, 0.02702397953981306, 0.021018650753187935, 0.05404795907962612, 0.006005328786625124, 0.01801598635987537, 0.006005328786625124, 0.039034637113063306, 0.01501332196656281, 0.01801598635987537, 0.006005328786625124, 0.15713862648475427, 0.1257109011878034, 0.17285248913322968, 0.32999111561798394, 0.04714158794542628, 0.09428317589085256, 0.04714158794542628, 0.2033252952643789, 0.2033252952643789, 0.06777509842145964, 0.13555019684291927, 0.13555019684291927, 0.13555019684291927, 0.03388754921072982, 0.03388754921072982, 0.05200324705024646, 0.23401461172610907, 0.13000811762561615, 0.13000811762561615, 0.02600162352512323, 0.02600162352512323, 0.02600162352512323, 0.07800487057536969, 0.18201136467586262, 0.10400649410049292, 0.05200324705024646, 0.03618804910604745, 0.2171282946362847, 0.5066326874846643, 0.03618804910604745, 0.0723760982120949, 0.03618804910604745, 0.03618804910604745, 0.16677374164294317, 0.2900412898138142, 0.10876548368018032, 0.2900412898138142, 0.014502064490690709, 0.058008257962762835, 0.04350619347207213, 0.014502064490690709, 0.007251032245345354, 0.5869266848880926, 0.22904455995632883, 0.0930493524822586, 0.07873406748498804, 0.007157642498635276, 0.3032366515675457, 0.01783745009220857, 0.01783745009220857, 0.24972430129091996, 0.05351235027662571, 0.26756175138312854, 0.01783745009220857, 0.07134980036883427, 0.06367274703073696, 0.06367274703073696, 0.19101824109221088, 0.1591818675768424, 0.03183637351536848, 0.4775456027305272, 0.19806076039332077, 0.08944679501633841, 0.07027962465569447, 0.27472944183589654, 0.03194528393440658, 0.10222490859010104, 0.10861396537698235, 0.07666868144257578, 0.006389056786881315, 0.01277811357376263, 0.019167170360643946, 0.01277811357376263, 0.032973880527717936, 0.21433022343016656, 0.0989216415831538, 0.4451473871241921, 0.13189552211087174, 0.0494608207915769, 0.016486940263858968, 0.2697694901169634, 0.023979510232618968, 0.16186169407017803, 0.3117336330240466, 0.011989755116309484, 0.005994877558154742, 0.13188730627940431, 0.035969265348928456, 0.047959020465237936, 0.04536955145378083, 0.11243758403763077, 0.08482133532663373, 0.11243758403763077, 0.07693097855206316, 0.013808124355498516, 0.4043807846967422, 0.00394517838728529, 0.029588837904639675, 0.1006020488757749, 0.005917767580927935, 0.001972589193642645, 0.005917767580927935, 0.11277283854354538, 0.03759094618118179, 0.11277283854354538, 0.18795473090590895, 0.22554567708709075, 0.11277283854354538, 0.15036378472472717, 0.23606972165786252, 0.3541045824867938, 0.23606972165786252, 0.039344953609643754, 0.07868990721928751, 0.22117673706719307, 0.09479003017165417, 0.31596676723884726, 0.28437009051496254, 0.03159667672388473, 0.03159667672388473, 0.1453292371333792, 0.4723200206834824, 0.0363323092833448, 0.1453292371333792, 0.181661546416724, 0.09449031368530361, 0.6299354245686908, 0.1574838561421727, 0.12598708491373814, 0.09548987102481475, 0.25463965606617267, 0.3342145485868517, 0.10344736027688266, 0.015914978504135792, 0.07957489252067897, 0.015914978504135792, 0.09548987102481475, 0.007957489252067896, 0.1838963835800402, 0.08487525396001855, 0.09430583773335395, 0.23576459433338487, 0.08487525396001855, 0.15560463226003401, 0.014145875660003093, 0.023576459433338488, 0.03772233509334158, 0.05658350264001237, 0.014145875660003093, 0.0047152918866676975, 0.009430583773335395, 0.0047152918866676975, 0.13240537988435894, 0.04413512662811964, 0.17654050651247857, 0.22067563314059824, 0.13240537988435894, 0.22067563314059824, 0.04413512662811964, 0.01082689875751368, 0.7037484192383892, 0.08661519006010944, 0.12992278509016417, 0.02165379751502736, 0.03248069627254104, 0.245382013699431, 0.5258186007844949, 0.105163720156899, 0.035054573385632996, 0.035054573385632996, 0.9768070563988961, 0.08805536979964586, 0.17611073959929172, 0.35222147919858343, 0.1320830546994688, 0.22013842449911464, 0.04402768489982293, 0.1529639007325676, 0.45889170219770287, 0.09177834043954057, 0.06118556029302705, 0.06118556029302705, 0.1223711205860541, 0.030592780146513524, 0.27498865346644447, 0.0859339542082639, 0.15468111757487502, 0.10312074504991667, 0.20624149009983334, 0.06874716336661112, 0.10312074504991667, 0.04017741517977851, 0.020088707589889256, 0.12053224553933553, 0.16070966071911405, 0.16070966071911405, 0.36159673661800656, 0.12053224553933553, 0.020088707589889256, 0.23520978831093922, 0.23520978831093922, 0.058802447077734805, 0.4508187609293002, 0.16520214825180624, 0.3097540279721367, 0.14455187972033046, 0.04130053706295156, 0.04130053706295156, 0.08260107412590312, 0.04130053706295156, 0.02065026853147578, 0.12390161118885468, 0.07822995979380062, 0.27380485927830217, 0.15645991958760125, 0.11734493969070094, 0.03911497989690031, 0.19557489948450157, 0.07822995979380062, 0.011872944704096408, 0.011872944704096408, 0.38587070288313324, 0.2671412558421692, 0.02968236176024102, 0.08904708528072305, 0.04155530646433743, 0.01780941705614461, 0.04155530646433743, 0.03561883411228922, 0.06530119587253025, 0.16478231979697086, 0.06277421706551271, 0.11770165699783633, 0.03138710853275636, 0.16478231979697086, 0.0706209941987018, 0.09416132559826906, 0.05492743993232362, 0.01569355426637818, 0.06277421706551271, 0.05492743993232362, 0.10985487986464725, 0.15429833263402132, 0.16616743514433066, 0.011869102510309332, 0.213643845185568, 0.011869102510309332, 0.08308371757216533, 0.17803653765464, 0.04747641004123733, 0.04747641004123733, 0.011869102510309332, 0.011869102510309332, 0.04747641004123733, 0.15542131559376282, 0.3496979600859663, 0.07771065779688141, 0.38855328898440705, 0.6052063305551169, 0.12104126611102337, 0.16138835481469782, 0.08069417740734891, 0.3207361939609268, 0.13616159177586515, 0.05749044986092084, 0.018154878903448687, 0.07564532876436952, 0.0635420761620704, 0.060516263011495625, 0.09380020766781821, 0.03933557095747216, 0.07564532876436952, 0.030258131505747812, 0.006051626301149562, 0.018154878903448687, 0.28582416445905406, 0.14291208222952703, 0.08714151355458964, 0.04182792650620303, 0.15685472439826137, 0.055770568674937376, 0.027885284337468688, 0.05228490813275379, 0.013942642168734344, 0.05925622921712096, 0.0487992475905702, 0.027885284337468688, 0.22201764942657845, 0.271354904854707, 0.12334313857032136, 0.04933725542812854, 0.2960235325687713, 0.02466862771406427, 0.030758158726943496, 0.9227447618083048, 0.25271684292521746, 0.5475531596713045, 0.12635842146260873, 0.2884116636578166, 0.10681913468808023, 0.053409567344040114, 0.45932227915874496, 0.04272765387523209, 0.021363826937616046, 0.010681913468808023, 0.05019458855058792, 0.3346305903372528, 0.14221800089333245, 0.20077835420235168, 0.008365764758431319, 0.10038917710117584, 0.008365764758431319, 0.033463059033725276, 0.09202341234274451, 0.016731529516862638, 0.34817984851745026, 0.034817984851745025, 0.40620982327035865, 0.02321198990116335, 0.08124196465407173, 0.10445395455523508, 0.2609252821965368, 0.18637520156895487, 0.4100254434517007, 0.037275040313790975, 0.037275040313790975, 0.037275040313790975, 0.5282128525515947, 0.4150243841476815, 0.03772948946797104, 0.08906331076675583, 0.46312921598713036, 0.37406590522037453, 0.07125064861340467, 0.15397459824744028, 0.2737326191065605, 0.01710828869416003, 0.11975802085912023, 0.30794919649488056, 0.051324866082480096, 0.051324866082480096, 0.23432509116658679, 0.18746007293326944, 0.09373003646663472, 0.04686501823331736, 0.06248669097775648, 0.01562167274443912, 0.10935170921107383, 0.21870341842214766, 0.03124334548887824, 0.19537494232653485, 0.3785389507576613, 0.12210933895408428, 0.085476537267859, 0.06105466947704214, 0.06105466947704214, 0.036632801686225284, 0.024421867790816856, 0.036632801686225284, 0.012210933895408428, 0.36282216200135586, 0.6167976754023049, 0.04237266427470673, 0.466099307021774, 0.08474532854941345, 0.12711799282412017, 0.12711799282412017, 0.12711799282412017, 0.08487597017170093, 0.07638837315453083, 0.2291651194635925, 0.04243798508585046, 0.050925582103020554, 0.04243798508585046, 0.04243798508585046, 0.1358015522747215, 0.03395038806868037, 0.08487597017170093, 0.016975194034340186, 0.14428914929189157, 0.025462791051510277, 0.18922466248037226, 0.13009195545525593, 0.08278578983516285, 0.059132707025116325, 0.12417868475274428, 0.053219436322604695, 0.09461233124018613, 0.08869906053767448, 0.09461233124018613, 0.06504597772762796, 0.005913270702511633, 0.12506670176952456, 0.28304569347839764, 0.08996025916755275, 0.03071813727672533, 0.14700822839575692, 0.07679534319181332, 0.046077205915087995, 0.02852398461410209, 0.05704796922820418, 0.013164915975739426, 0.010970763313116189, 0.07460119052919008, 0.006582457987869713, 0.00877661065049295, 0.22992890044581116, 0.22992890044581116, 0.19708191466783812, 0.03284698577797302, 0.2956228720017572, 0.12440682346601886, 0.0956975565123222, 0.1913951130246444, 0.08931771941150073, 0.159495927520537, 0.10526731216355442, 0.041468941155339625, 0.025519348403285923, 0.07655804520985776, 0.02232942985287518, 0.006379837100821481, 0.051038696806571845, 0.00956975565123222, 0.006379837100821481, 0.18155049719088423, 0.15885668504202372, 0.007564604049620177, 0.08321064454582194, 0.128598268843543, 0.17398589314126406, 0.10590445669468247, 0.037823020248100886, 0.030258416198480707, 0.007564604049620177, 0.030258416198480707, 0.04538762429772106, 0.007564604049620177, 0.07127583662059149, 0.12829650591706468, 0.19244475887559703, 0.15680684056530128, 0.049893085634414046, 0.22808267718589276, 0.014255167324118297, 0.11404133859294638, 0.014255167324118297, 0.028510334648236595, 0.16821298846009922, 0.5199310552403067, 0.0764604493000451, 0.10704462902006313, 0.0764604493000451, 0.061168359440036076, 0.4381795514818265, 0.09737323366262812, 0.14605985049394218, 0.04868661683131406, 0.19474646732525625, 0.0843830328425779, 0.1687660656851558, 0.12657454926386685, 0.42191516421288955, 0.12657454926386685, 0.04219151642128895, 0.234677392966863, 0.026075265885206998, 0.6518816471301749, 0.07822579765562099, 0.3755482922495698, 0.07510965844991396, 0.4506579506994838, 0.07510965844991396, 0.15085133030881684, 0.1954210415364218, 0.08228254380480919, 0.041141271902404596, 0.08228254380480919, 0.15085133030881684, 0.10628161908121186, 0.058283468528406504, 0.05142658987800574, 0.003428439325200383, 0.054855029203206125, 0.003428439325200383, 0.013713757300801531, 0.003428439325200383, 0.003428439325200383, 0.08431246112403849, 0.08431246112403849, 0.14052076854006415, 0.08431246112403849, 0.08431246112403849, 0.16862492224807699, 0.11241661483205131, 0.02810415370801283, 0.14052076854006415, 0.08431246112403849, 0.20396069089626828, 0.10198034544813414, 0.22945577725830182, 0.38242629543050305, 0.05099017272406707, 0.28197748381493837, 0.14098874190746918, 0.12688986771672225, 0.09869211933522842, 0.08459324514448151, 0.042296622572240754, 0.042296622572240754, 0.16918649028896302, 0.014098874190746917, 0.05951939689012515, 0.029759698445062575, 0.29759698445062577, 0.08927909533518773, 0.1190387937802503, 0.14879849222531288, 0.2380775875605006, 0.5680201863198211, 0.07573602484264282, 0.03786801242132141, 0.11360403726396422, 0.11360403726396422, 0.03786801242132141, 0.1208492095826988, 0.3323353263524217, 0.5438214431221446, 0.009777280990280435, 0.3128729916889739, 0.10755009089308479, 0.048886404951402174, 0.381313958620937, 0.03910912396112174, 0.01955456198056087, 0.058663685941682614, 0.01955456198056087, 0.15062350909848093, 0.05477218512672034, 0.24647483307024154, 0.13693046281680085, 0.02738609256336017, 0.26473222811248165, 0.004564348760560028, 0.10498002149288065, 0.009128697521120057, 0.3195865052945609, 0.15979325264728045, 0.1452665933157095, 0.18158324164463688, 0.1452665933157095, 0.007263329665785475, 0.021789988997356426, 0.01452665933157095], \"Term\": [\"000\", \"000\", \"000\", \"000\", \"000\", \"000\", \"000\", \"000\", \"000\", \"20\", \"20\", \"20\", \"20\", \"20\", \"20\", \"accord\", \"accord\", \"accord\", \"accord\", \"accord\", \"accord\", \"accord\", \"accord\", \"accord\", \"accord\", \"accord\", \"acier\", \"acier\", \"acier\", \"acier\", \"acier\", \"acier\", \"adaptation\", \"aegon\", \"aegon\", \"aegon\", \"aegon\", \"aemon\", \"aemon\", \"aemon\", \"affronter\", \"affronter\", \"affronter\", \"affronter\", \"affronter\", \"aimais\", \"aimais\", \"aimais\", \"aimais\", \"aimais\", \"aimais\", \"aimais\", \"aimait\", \"aimait\", \"aimait\", \"aimait\", \"aimait\", \"aimait\", \"aimait\", \"aime\", \"aime\", \"aime\", \"aime\", \"aime\", \"aime\", \"aime\", \"aime\", \"aime\", \"aime\", \"aime\", \"aime\", \"aimes\", \"aimes\", \"aimes\", \"aimes\", \"aimes\", \"aimez\", \"aimez\", \"aimez\", \"aimez\", \"aimez\", \"allez\", \"allez\", \"allez\", \"allez\", \"allez\", \"allez\", \"allez\", \"allez\", \"allez\", \"allez\", \"allez\", \"allez\", \"allez\", \"alliance\", \"alliance\", \"alliance\", \"alliance\", \"alliance\", \"alliance\", \"allies\", \"allies\", \"allies\", \"allies\", \"allies\", \"ami\", \"ami\", \"ami\", \"ami\", \"ami\", \"ami\", \"ami\", \"ami\", \"ami\", \"amour\", \"amour\", \"amour\", \"amour\", \"amour\", \"amour\", \"amour\", \"amour\", \"amour\", \"amour\", \"anciens\", \"anciens\", \"anciens\", \"anciens\", \"anciens\", \"andals\", \"andals\", \"andals\", \"andals\", \"ans\", \"ans\", \"ans\", \"ans\", \"ans\", \"ans\", \"ans\", \"ans\", \"ans\", \"ans\", \"ans\", \"appartient\", \"appartient\", \"appartient\", \"appartient\", \"appartient\", \"appris\", \"appris\", \"appris\", \"appris\", \"appris\", \"appris\", \"appris\", \"appris\", \"appris\", \"argent\", \"argent\", \"argent\", \"argent\", \"argent\", \"argent\", \"arme\", \"arme\", \"arme\", \"arme\", \"arme\", \"arme\", \"armee\", \"armee\", \"armee\", \"armee\", \"armee\", \"armee\", \"armee\", \"armee\", \"armee\", \"armee\", \"armee\", \"armee\", \"armee\", \"armes\", \"armes\", \"armes\", \"armes\", \"armes\", \"armes\", \"armes\", \"armes\", \"armes\", \"armes\", \"arretez\", \"arretez\", \"arretez\", \"arretez\", \"arretez\", \"arretez\", \"arretez\", \"arretez\", \"arretez\", \"arretez\", \"arrive\", \"arrive\", \"arrive\", \"arrive\", \"arrive\", \"arrive\", \"arrive\", \"arrive\", \"arrive\", \"arrivera\", \"arrivera\", \"arrivera\", \"arrivera\", \"arrivera\", \"arrivera\", \"arrivera\", \"arrivera\", \"arryn\", \"arryn\", \"arryn\", \"arryn\", \"arryn\", \"arya\", \"arya\", \"arya\", \"arya\", \"arya\", \"arya\", \"arya\", \"arya\", \"arya\", \"attendez\", \"attendez\", \"attendez\", \"attendez\", \"attendez\", \"attendez\", \"attendez\", \"aube\", \"aube\", \"aube\", \"aube\", \"aube\", \"aube\", \"aube\", \"aube\", \"aube\", \"aurai\", \"aurai\", \"aurai\", \"aurai\", \"aurai\", \"aurai\", \"aurai\", \"aurai\", \"aurai\", \"auras\", \"auras\", \"auras\", \"auras\", \"auras\", \"auras\", \"aurez\", \"aurez\", \"aurez\", \"aurez\", \"aurez\", \"aurez\", \"aurez\", \"aurez\", \"auriez\", \"auriez\", \"auriez\", \"auriez\", \"auriez\", \"auriez\", \"avenir\", \"avenir\", \"avenir\", \"avenir\", \"avez\", \"avez\", \"avez\", \"avez\", \"avez\", \"avez\", \"avez\", \"avez\", \"avez\", \"avez\", \"avez\", \"avez\", \"avez\", \"avez\", \"avez\", \"ayez\", \"ayez\", \"ayez\", \"ayez\", \"ayez\", \"ayez\", \"ayez\", \"baelish\", \"baelish\", \"baelish\", \"baelish\", \"baiser\", \"baiser\", \"baiser\", \"baiser\", \"baiser\", \"bannerets\", \"bannerets\", \"bannerets\", \"bannerets\", \"baratheon\", \"baratheon\", \"baratheon\", \"baratheon\", \"baratheon\", \"baratheon\", \"baratheon\", \"baratheon\", \"baratheon\", \"baratheon\", \"baratheon\", \"batard\", \"batard\", \"batard\", \"batard\", \"batard\", \"batard\", \"batard\", \"batard\", \"batards\", \"batards\", \"batards\", \"batards\", \"bats\", \"bats\", \"bats\", \"bats\", \"bats\", \"bats\", \"bats\", \"battre\", \"battre\", \"battre\", \"battre\", \"battre\", \"battre\", \"battre\", \"battre\", \"battre\", \"battre\", \"battre\", \"beaute\", \"beaute\", \"beaute\", \"beaute\", \"beaute\", \"beaute\", \"beaute\", \"beaute\", \"beaux\", \"beaux\", \"beaux\", \"beaux\", \"beaux\", \"bebe\", \"bebe\", \"bebe\", \"bebe\", \"bebe\", \"bebe\", \"bebe\", \"bebe\", \"bebe\", \"bebe\", \"belle\", \"belle\", \"belle\", \"belle\", \"belle\", \"belle\", \"belle\", \"belle\", \"belle\", \"belle\", \"besoin\", \"besoin\", \"besoin\", \"besoin\", \"besoin\", \"besoin\", \"besoin\", \"besoin\", \"besoin\", \"besoin\", \"besoin\", \"besoin\", \"besoin\", \"besoin\", \"besoin\", \"bete\", \"bete\", \"bete\", \"bete\", \"bete\", \"bete\", \"blancs\", \"blancs\", \"blandine\", \"boire\", \"boire\", \"boire\", \"boire\", \"boire\", \"boire\", \"boire\", \"boire\", \"bolton\", \"bolton\", \"bolton\", \"bolton\", \"bolton\", \"bolton\", \"bon\", \"bon\", \"bon\", \"bon\", \"bon\", \"bon\", \"bon\", \"bon\", \"bon\", \"bon\", \"bon\", \"bon\", \"bon\", \"bordel\", \"bordel\", \"bordel\", \"bordel\", \"bordel\", \"bordel\", \"bordel\", \"braavos\", \"braavos\", \"braavos\", \"braavos\", \"braavos\", \"bran\", \"bran\", \"bran\", \"bran\", \"bran\", \"brienne\", \"brienne\", \"brienne\", \"brienne\", \"brienne\", \"brise\", \"brise\", \"brise\", \"brise\", \"brise\", \"brise\", \"bronn\", \"bronn\", \"bronn\", \"bronn\", \"bronn\", \"bronn\", \"bronn\", \"brothers\", \"brule\", \"brule\", \"brule\", \"brule\", \"brule\", \"brule\", \"brule\", \"bruler\", \"bruler\", \"bruler\", \"bruler\", \"bruler\", \"bruler\", \"bruler\", \"ca\", \"ca\", \"ca\", \"ca\", \"ca\", \"ca\", \"ca\", \"ca\", \"ca\", \"ca\", \"ca\", \"ca\", \"ca\", \"ca\", \"camp\", \"camp\", \"camp\", \"camp\", \"camp\", \"camp\", \"capable\", \"capable\", \"capable\", \"capable\", \"capable\", \"capable\", \"capitaine\", \"capitaine\", \"capitaine\", \"capitaine\", \"capitaine\", \"catelyn\", \"catelyn\", \"catelyn\", \"catelyn\", \"catelyn\", \"catelyn\", \"centaines\", \"centaines\", \"centaines\", \"centaines\", \"cersei\", \"cersei\", \"cersei\", \"cersei\", \"cersei\", \"cersei\", \"cersei\", \"cersei\", \"cersei\", \"cersei\", \"cersei\", \"chaines\", \"chaines\", \"chaines\", \"chaines\", \"chaines\", \"chambre\", \"chambre\", \"chambre\", \"chambre\", \"chambre\", \"chance\", \"chance\", \"chance\", \"chance\", \"chance\", \"chance\", \"chance\", \"chance\", \"chance\", \"chance\", \"chance\", \"chance\", \"change\", \"change\", \"change\", \"change\", \"change\", \"change\", \"chasse\", \"chasse\", \"chasse\", \"chasse\", \"chasse\", \"chasse\", \"chateau\", \"chateau\", \"chateau\", \"chateau\", \"chateau\", \"chateau\", \"chateau\", \"chateau\", \"chateau\", \"chateaunoir\", \"chateaunoir\", \"chateaunoir\", \"chateaux\", \"chateaux\", \"chateaux\", \"chateaux\", \"chateaux\", \"cheval\", \"cheval\", \"cheval\", \"cheval\", \"cheval\", \"cheval\", \"cheval\", \"cheval\", \"chevalier\", \"chevalier\", \"chevalier\", \"chevalier\", \"chevalier\", \"chevalier\", \"chevalier\", \"chevalier\", \"chevaliers\", \"chevaliers\", \"chevaliers\", \"chevaliers\", \"chevaliers\", \"chevaliers\", \"chevaliers\", \"chevaliers\", \"chevaux\", \"chevaux\", \"chevaux\", \"chevaux\", \"chevaux\", \"chevaux\", \"chevaux\", \"chevaux\", \"chevaux\", \"cheveux\", \"cheveux\", \"cheveux\", \"cheveux\", \"cheveux\", \"cheveux\", \"chien\", \"chien\", \"chien\", \"chien\", \"chien\", \"chien\", \"chien\", \"chiens\", \"chiens\", \"chiens\", \"chiens\", \"chiens\", \"chiens\", \"chiens\", \"choisir\", \"choisir\", \"choisir\", \"choisir\", \"choisir\", \"choisir\", \"choix\", \"choix\", \"choix\", \"choix\", \"choix\", \"choix\", \"choix\", \"choix\", \"choix\", \"chose\", \"chose\", \"chose\", \"chose\", \"chose\", \"chose\", \"chose\", \"chose\", \"chose\", \"chose\", \"chose\", \"chose\", \"ciel\", \"ciel\", \"ciel\", \"ciel\", \"ciel\", \"citadelle\", \"citadelle\", \"citadelle\", \"citadelle\", \"citadelle\", \"citadelle\", \"citadelle\", \"cite\", \"cite\", \"cite\", \"cite\", \"cite\", \"cite\", \"cite\", \"cite\", \"clotilde\", \"combattu\", \"combattu\", \"combattu\", \"combattu\", \"commandant\", \"commandant\", \"commandant\", \"commandant\", \"commandant\", \"commandant\", \"commun\", \"commun\", \"commun\", \"commun\", \"commun\", \"compagnie\", \"compagnie\", \"compagnie\", \"compagnie\", \"compagnie\", \"compagnie\", \"compagnie\", \"comprendre\", \"comprendre\", \"comprendre\", \"comprendre\", \"comprendre\", \"comprendre\", \"comprendre\", \"compte\", \"compte\", \"compte\", \"compte\", \"compte\", \"compte\", \"compte\", \"compte\", \"compte\", \"con\", \"con\", \"con\", \"con\", \"con\", \"con\", \"condamne\", \"condamne\", \"condamne\", \"condamne\", \"condamne\", \"condamne\", \"confiance\", \"confiance\", \"confiance\", \"confiance\", \"confiance\", \"confiance\", \"confiance\", \"confiance\", \"confiance\", \"confiance\", \"confiance\", \"connaitre\", \"connaitre\", \"connaitre\", \"connaitre\", \"connaitre\", \"connaitre\", \"connaitre\", \"connu\", \"connu\", \"connu\", \"connu\", \"connu\", \"connu\", \"connu\", \"connu\", \"conseil\", \"conseil\", \"conseil\", \"conseil\", \"conseil\", \"conseil\", \"conseil\", \"conseil\", \"conseil\", \"conseil\", \"corbac\", \"corbac\", \"cotes\", \"cotes\", \"cotes\", \"cotes\", \"cotes\", \"cotes\", \"cotes\", \"cotes\", \"coup\", \"coup\", \"coup\", \"coup\", \"coup\", \"coup\", \"coup\", \"coup\", \"cour\", \"cour\", \"cour\", \"cour\", \"cour\", \"courage\", \"courage\", \"courage\", \"courage\", \"courageux\", \"courageux\", \"courageux\", \"courageux\", \"courageux\", \"courageux\", \"couronne\", \"couronne\", \"couronne\", \"couronne\", \"couronne\", \"couronne\", \"couronne\", \"couronne\", \"couronne\", \"couronnes\", \"couronnes\", \"couronnes\", \"couronnes\", \"couronnes\", \"couronnes\", \"couronnes\", \"couronnes\", \"couronnes\", \"couronnes\", \"couronnes\", \"crime\", \"crime\", \"crime\", \"crime\", \"crime\", \"crimes\", \"crimes\", \"crimes\", \"crimes\", \"crimes\", \"crimes\", \"crois\", \"crois\", \"crois\", \"crois\", \"crois\", \"crois\", \"crois\", \"crois\", \"crois\", \"crois\", \"crois\", \"crois\", \"crois\", \"croit\", \"croit\", \"croit\", \"croit\", \"croit\", \"croit\", \"croit\", \"croyez\", \"croyez\", \"croyez\", \"croyez\", \"croyez\", \"croyez\", \"croyez\", \"croyez\", \"croyez\", \"croyez\", \"croyez\", \"cru\", \"cru\", \"cru\", \"cru\", \"cur\", \"cur\", \"cur\", \"cur\", \"cur\", \"cur\", \"cur\", \"cur\", \"cur\", \"daenerys\", \"daenerys\", \"daenerys\", \"daenerys\", \"daenerys\", \"danger\", \"danger\", \"danger\", \"danger\", \"danger\", \"danger\", \"danger\", \"dangereux\", \"dangereux\", \"dangereux\", \"dangereux\", \"dangereux\", \"dangereux\", \"davantage\", \"davantage\", \"davantage\", \"davantage\", \"davantage\", \"davos\", \"davos\", \"davos\", \"davos\", \"davos\", \"davos\", \"dela\", \"dela\", \"dela\", \"demain\", \"demain\", \"demain\", \"demain\", \"demain\", \"demain\", \"demain\", \"demain\", \"demain\", \"demain\", \"demande\", \"demande\", \"demande\", \"demande\", \"demande\", \"demande\", \"demande\", \"demande\", \"demande\", \"demande\", \"demande\", \"demande\", \"demande\", \"demandez\", \"demandez\", \"demandez\", \"demandez\", \"demandez\", \"demandez\", \"demandez\", \"demandez\", \"demandez\", \"demandez\", \"derniers\", \"derniers\", \"derniers\", \"derniers\", \"derniers\", \"derniers\", \"derniers\", \"deteste\", \"deteste\", \"deteste\", \"deteste\", \"deteste\", \"deteste\", \"deteste\", \"detroit\", \"detroit\", \"detroit\", \"detroit\", \"detroit\", \"detroit\", \"detruire\", \"detruire\", \"detruire\", \"detruire\", \"detruire\", \"detruire\", \"devais\", \"devais\", \"devais\", \"devais\", \"devais\", \"devais\", \"devais\", \"devais\", \"devait\", \"devait\", \"devait\", \"devait\", \"devait\", \"devez\", \"devez\", \"devez\", \"devez\", \"devez\", \"devez\", \"devez\", \"devez\", \"devez\", \"devez\", \"devrait\", \"devrait\", \"devrait\", \"devrait\", \"devrait\", \"devrait\", \"devrait\", \"devrait\", \"devrait\", \"devrait\", \"dieux\", \"dieux\", \"dieux\", \"dieux\", \"dieux\", \"dieux\", \"dieux\", \"dieux\", \"dieux\", \"dieux\", \"dieux\", \"dieux\", \"dieux\", \"dieux\", \"dieux\", \"difficile\", \"difficile\", \"difficile\", \"difficile\", \"difficile\", \"difficile\", \"difficile\", \"digne\", \"digne\", \"digne\", \"digne\", \"digne\", \"digne\", \"dis\", \"dis\", \"dis\", \"dis\", \"dis\", \"dis\", \"dis\", \"dis\", \"dis\", \"dis\", \"dis\", \"dites\", \"dites\", \"dites\", \"dites\", \"dites\", \"dites\", \"dites\", \"dites\", \"dites\", \"dites\", \"dois\", \"dois\", \"dois\", \"dois\", \"dois\", \"dois\", \"dois\", \"dois\", \"dois\", \"dois\", \"dois\", \"dois\", \"dommage\", \"dommage\", \"dommage\", \"dommage\", \"dommage\", \"donne\", \"donne\", \"donne\", \"donne\", \"donne\", \"donne\", \"donne\", \"donne\", \"donne\", \"donne\", \"donne\", \"donnerai\", \"donnerai\", \"donnerai\", \"donnerai\", \"dorne\", \"dorne\", \"dorne\", \"dorne\", \"dorne\", \"dorne\", \"dorne\", \"dorne\", \"dos\", \"dos\", \"dos\", \"dos\", \"dos\", \"dothraki\", \"dothraki\", \"dothrakis\", \"dothrakis\", \"dothrakis\", \"dothrakis\", \"dothrakis\", \"dragon\", \"dragon\", \"dragon\", \"dragon\", \"dragon\", \"dragon\", \"dragon\", \"dragons\", \"dragons\", \"dragons\", \"dragons\", \"dragons\", \"dragons\", \"dragons\", \"dragons\", \"dragons\", \"dragons\", \"dragons\", \"dragons\", \"dragons\", \"drogo\", \"drogo\", \"droit\", \"droit\", \"droit\", \"droit\", \"droit\", \"droit\", \"droit\", \"droit\", \"droit\", \"drole\", \"drole\", \"drole\", \"drole\", \"drole\", \"drole\", \"dubbing\", \"eau\", \"eau\", \"eau\", \"eau\", \"eau\", \"eau\", \"eau\", \"echange\", \"echange\", \"echange\", \"echange\", \"echange\", \"echange\", \"echange\", \"echange\", \"echappe\", \"echappe\", \"echappe\", \"echappe\", \"echappe\", \"echappe\", \"echappe\", \"ecouter\", \"ecouter\", \"ecouter\", \"ecouter\", \"ecouter\", \"eddard\", \"eddard\", \"eddard\", \"eddard\", \"emporte\", \"emporte\", \"emporte\", \"emporte\", \"emporte\", \"enfants\", \"enfants\", \"enfants\", \"enfants\", \"enfants\", \"enfants\", \"enfants\", \"enfants\", \"enfants\", \"enfants\", \"enfants\", \"enfants\", \"ensemble\", \"ensemble\", \"ensemble\", \"ensemble\", \"ensemble\", \"ensemble\", \"ensemble\", \"ensemble\", \"ensemble\", \"ensemble\", \"envoyer\", \"envoyer\", \"envoyer\", \"envoyer\", \"envoyer\", \"envoyer\", \"epee\", \"epee\", \"epee\", \"epee\", \"epee\", \"epee\", \"epee\", \"epee\", \"epee\", \"epee\", \"epee\", \"epees\", \"epees\", \"epees\", \"epees\", \"epees\", \"epouse\", \"epouse\", \"epouse\", \"epouse\", \"epouse\", \"epouse\", \"epouse\", \"epouse\", \"epouser\", \"epouser\", \"epouser\", \"epouser\", \"epouser\", \"epouser\", \"epouser\", \"epouser\", \"epouser\", \"epoux\", \"epoux\", \"epoux\", \"erreur\", \"erreur\", \"erreur\", \"erreur\", \"erreur\", \"erreur\", \"esclaves\", \"esclaves\", \"esclaves\", \"esclaves\", \"esclaves\", \"esclaves\", \"ete\", \"ete\", \"ete\", \"ete\", \"ete\", \"ete\", \"ete\", \"ete\", \"ete\", \"ete\", \"ete\", \"ete\", \"ete\", \"ete\", \"etes\", \"etes\", \"etes\", \"etes\", \"etes\", \"etes\", \"etes\", \"etes\", \"etes\", \"etes\", \"etes\", \"etes\", \"etes\", \"etes\", \"etes\", \"etranger\", \"etranger\", \"etranger\", \"etranger\", \"etranger\", \"evidemment\", \"evidemment\", \"evidemment\", \"evidemment\", \"evidemment\", \"eviter\", \"eviter\", \"eviter\", \"eviter\", \"eviter\", \"eviter\", \"eviter\", \"eviter\", \"excuses\", \"excuses\", \"excuses\", \"excuses\", \"excuses\", \"excuses\", \"excusez\", \"excusez\", \"excusez\", \"excusez\", \"exige\", \"exige\", \"exige\", \"exige\", \"exige\", \"exige\", \"existe\", \"existe\", \"existe\", \"existe\", \"existe\", \"existe\", \"experience\", \"experience\", \"experience\", \"experience\", \"experience\", \"experience\", \"experience\", \"facon\", \"facon\", \"facon\", \"facon\", \"facon\", \"facon\", \"facon\", \"facon\", \"facon\", \"failli\", \"failli\", \"failli\", \"failli\", \"failli\", \"failli\", \"faire\", \"faire\", \"faire\", \"faire\", \"faire\", \"faire\", \"faire\", \"faire\", \"faire\", \"faire\", \"faire\", \"faire\", \"faire\", \"faire\", \"faisons\", \"faisons\", \"faisons\", \"faisons\", \"faisons\", \"faisons\", \"famille\", \"famille\", \"famille\", \"famille\", \"famille\", \"famille\", \"famille\", \"famille\", \"famille\", \"famille\", \"famille\", \"famille\", \"faudra\", \"faudra\", \"faudra\", \"faudra\", \"faut\", \"faut\", \"faut\", \"faut\", \"faut\", \"faut\", \"faut\", \"faut\", \"faut\", \"faut\", \"faut\", \"faut\", \"faut\", \"faut\", \"femme\", \"femme\", \"femme\", \"femme\", \"femme\", \"femme\", \"femme\", \"femme\", \"femme\", \"femme\", \"femme\", \"femme\", \"femme\", \"femme\", \"fer\", \"fer\", \"fer\", \"fer\", \"fer\", \"fer\", \"fer\", \"fer\", \"fer\", \"fer\", \"fer\", \"fer\", \"fera\", \"fera\", \"fera\", \"fera\", \"fera\", \"fera\", \"fera\", \"fera\", \"fera\", \"ferme\", \"ferme\", \"ferme\", \"ferme\", \"fiche\", \"fiche\", \"fiche\", \"fiche\", \"fiche\", \"fiche\", \"fier\", \"fier\", \"fier\", \"fier\", \"fier\", \"fier\", \"fier\", \"fille\", \"fille\", \"fille\", \"fille\", \"fille\", \"fille\", \"fille\", \"fille\", \"fille\", \"fille\", \"fille\", \"fille\", \"fille\", \"fille\", \"filles\", \"filles\", \"filles\", \"filles\", \"filles\", \"filles\", \"filles\", \"filles\", \"filles\", \"filles\", \"fils\", \"fils\", \"fils\", \"fils\", \"fils\", \"fils\", \"fils\", \"fils\", \"fils\", \"fils\", \"fils\", \"fils\", \"fin\", \"fin\", \"fin\", \"fin\", \"fin\", \"fin\", \"fin\", \"fin\", \"fin\", \"fin\", \"fini\", \"fini\", \"fini\", \"fini\", \"fini\", \"fini\", \"fini\", \"fini\", \"flotte\", \"flotte\", \"flotte\", \"flotte\", \"flotte\", \"foi\", \"foi\", \"foi\", \"foi\", \"foi\", \"fois\", \"fois\", \"fois\", \"fois\", \"fois\", \"fois\", \"fois\", \"fois\", \"fois\", \"fois\", \"fois\", \"fois\", \"fois\", \"fois\", \"fortune\", \"fortune\", \"fortune\", \"fortune\", \"fortune\", \"frere\", \"frere\", \"frere\", \"frere\", \"frere\", \"frere\", \"frere\", \"frere\", \"frere\", \"frere\", \"frere\", \"frere\", \"frere\", \"frey\", \"frey\", \"frey\", \"frey\", \"frey\", \"frey\", \"fui\", \"fui\", \"fui\", \"fui\", \"fui\", \"fut\", \"fut\", \"fut\", \"fut\", \"fut\", \"fut\", \"fut\", \"fut\", \"fut\", \"gagner\", \"gagner\", \"gagner\", \"gagner\", \"gagner\", \"gagner\", \"gagner\", \"gagner\", \"garcon\", \"garcon\", \"garcon\", \"garcon\", \"garcon\", \"garcon\", \"garcon\", \"garcon\", \"garcon\", \"garcon\", \"garcon\", \"garde\", \"garde\", \"garde\", \"garde\", \"garde\", \"garde\", \"garde\", \"garde\", \"garde\", \"garder\", \"garder\", \"garder\", \"garder\", \"garder\", \"garder\", \"garder\", \"genou\", \"genou\", \"genou\", \"genou\", \"genou\", \"genou\", \"genou\", \"gentil\", \"gentil\", \"gentil\", \"gentil\", \"gentil\", \"gentil\", \"gout\", \"gout\", \"gout\", \"gout\", \"gout\", \"gouverner\", \"gouverner\", \"gouverner\", \"gouverner\", \"gouverner\", \"gouverneur\", \"gouverneur\", \"gouverneur\", \"gouverneur\", \"grace\", \"grace\", \"grace\", \"grace\", \"grace\", \"grace\", \"grace\", \"grace\", \"grace\", \"grace\", \"grand\", \"grand\", \"grand\", \"grand\", \"grand\", \"grand\", \"grand\", \"grand\", \"grand\", \"grand\", \"grand\", \"grand\", \"grand\", \"grande\", \"grande\", \"grande\", \"grande\", \"grande\", \"grande\", \"grande\", \"grande\", \"grande\", \"grande\", \"grandi\", \"grandi\", \"grandi\", \"grandi\", \"grandi\", \"grandi\", \"grands\", \"grands\", \"grands\", \"grands\", \"grands\", \"grands\", \"greyjoy\", \"greyjoy\", \"greyjoy\", \"greyjoy\", \"greyjoy\", \"greyjoy\", \"guerre\", \"guerre\", \"guerre\", \"guerre\", \"guerre\", \"guerre\", \"guerre\", \"guerre\", \"guerre\", \"guerre\", \"guerre\", \"guerre\", \"guerre\", \"guerre\", \"guerres\", \"guerres\", \"guerres\", \"guerres\", \"guerres\", \"guerrier\", \"guerrier\", \"guerrier\", \"guerrier\", \"guerrier\", \"guerrier\", \"guerrier\", \"guerrier\", \"harrenhal\", \"harrenhal\", \"harrenhal\", \"harrenhal\", \"hautjardin\", \"hautjardin\", \"hautjardin\", \"hautjardin\", \"hautjardin\", \"hautjardin\", \"heritier\", \"heritier\", \"heritier\", \"heritier\", \"heritier\", \"heritier\", \"heritier\", \"heros\", \"heros\", \"heros\", \"heros\", \"heros\", \"heros\", \"heureuse\", \"heureuse\", \"heureuse\", \"heureuse\", \"heureuse\", \"heureux\", \"heureux\", \"heureux\", \"heureux\", \"heureux\", \"heureux\", \"heureux\", \"heureux\", \"histoires\", \"histoires\", \"histoires\", \"histoires\", \"histoires\", \"histoires\", \"hodor\", \"hodor\", \"hodor\", \"homme\", \"homme\", \"homme\", \"homme\", \"homme\", \"homme\", \"homme\", \"homme\", \"homme\", \"homme\", \"homme\", \"homme\", \"homme\", \"hommes\", \"hommes\", \"hommes\", \"hommes\", \"hommes\", \"hommes\", \"hommes\", \"hommes\", \"hommes\", \"hommes\", \"hommes\", \"hommes\", \"hommes\", \"honneur\", \"honneur\", \"honneur\", \"honneur\", \"honneur\", \"honneur\", \"honneur\", \"honneur\", \"honneur\", \"honneur\", \"honneur\", \"honneur\", \"ici\", \"ici\", \"ici\", \"ici\", \"ici\", \"ici\", \"ici\", \"ici\", \"ici\", \"ici\", \"ici\", \"ici\", \"ici\", \"ici\", \"idiot\", \"idiot\", \"idiot\", \"idiot\", \"idiot\", \"idiot\", \"idiot\", \"idiot\", \"idiot\", \"idiot\", \"iles\", \"iles\", \"iles\", \"iles\", \"iles\", \"immacules\", \"immacules\", \"immacules\", \"immacules\", \"immacules\", \"immacules\", \"impossible\", \"impossible\", \"impossible\", \"impossible\", \"impossible\", \"impossible\", \"interieur\", \"interieur\", \"interieur\", \"interieur\", \"interieur\", \"interieur\", \"inutile\", \"inutile\", \"inutile\", \"inutile\", \"inutile\", \"inutile\", \"invite\", \"invite\", \"invite\", \"invite\", \"invite\", \"invite\", \"jaime\", \"jaime\", \"jaime\", \"jaime\", \"jaime\", \"jaime\", \"jaime\", \"jaime\", \"jaime\", \"jaime\", \"jaime\", \"jamais\", \"jamais\", \"jamais\", \"jamais\", \"jamais\", \"jamais\", \"jamais\", \"jamais\", \"jamais\", \"jamais\", \"jamais\", \"jamais\", \"jamais\", \"jamais\", \"jeu\", \"jeu\", \"jeu\", \"jeu\", \"jeu\", \"jeunes\", \"jeunes\", \"jeunes\", \"jeunes\", \"jeunes\", \"joffrey\", \"joffrey\", \"joffrey\", \"joffrey\", \"joffrey\", \"joffrey\", \"joffrey\", \"joffrey\", \"joffrey\", \"joffrey\", \"joffrey\", \"joffrey\", \"joie\", \"joie\", \"joie\", \"joie\", \"joie\", \"joli\", \"joli\", \"joli\", \"joli\", \"joli\", \"joli\", \"joli\", \"jolie\", \"jolie\", \"jolie\", \"jolie\", \"jolie\", \"jolie\", \"jolie\", \"jolie\", \"jolie\", \"jon\", \"jon\", \"jon\", \"jon\", \"jon\", \"jon\", \"jon\", \"jon\", \"jon\", \"jon\", \"jon\", \"jorah\", \"jorah\", \"jorah\", \"jorah\", \"jorah\", \"jorah\", \"jorah\", \"joue\", \"joue\", \"joue\", \"joue\", \"jouer\", \"jouer\", \"jouer\", \"jouer\", \"jouer\", \"jouer\", \"jouer\", \"jour\", \"jour\", \"jour\", \"jour\", \"jour\", \"jour\", \"jour\", \"jour\", \"jour\", \"jour\", \"jour\", \"jour\", \"jour\", \"jour\", \"juge\", \"juge\", \"juge\", \"juge\", \"juge\", \"juge\", \"justice\", \"justice\", \"justice\", \"justice\", \"justice\", \"justice\", \"khal\", \"khal\", \"khaleesi\", \"khaleesi\", \"khaleesi\", \"khaleesi\", \"khaleesi\", \"khaleesi\", \"khaleesi\", \"khaleesi\", \"khaleesi\", \"lache\", \"lache\", \"lache\", \"lache\", \"lache\", \"lache\", \"lache\", \"lady\", \"lady\", \"lady\", \"lady\", \"lady\", \"lady\", \"lady\", \"lady\", \"lady\", \"laisserai\", \"laisserai\", \"laisserai\", \"laisserai\", \"laisserai\", \"laisserai\", \"langue\", \"langue\", \"langue\", \"langue\", \"langue\", \"langue\", \"langue\", \"langue\", \"langue\", \"lannister\", \"lannister\", \"lannister\", \"lannister\", \"lannister\", \"lannister\", \"lannister\", \"lannister\", \"lannister\", \"lannister\", \"lannister\", \"lannister\", \"legitime\", \"legitime\", \"legitime\", \"legitime\", \"legitime\", \"legitime\", \"libere\", \"libere\", \"libere\", \"libere\", \"libere\", \"libere\", \"libere\", \"libre\", \"libre\", \"libre\", \"libre\", \"libre\", \"libre\", \"libre\", \"libre\", \"libre\", \"limier\", \"limier\", \"limier\", \"lit\", \"lit\", \"lit\", \"lit\", \"lit\", \"lit\", \"littlefinger\", \"littlefinger\", \"littlefinger\", \"littlefinger\", \"livre\", \"livre\", \"livre\", \"livre\", \"loras\", \"loras\", \"loras\", \"lord\", \"lord\", \"lord\", \"lord\", \"lord\", \"lord\", \"lord\", \"lord\", \"lord\", \"lord\", \"lord\", \"lord\", \"lord\", \"lord\", \"loup\", \"loup\", \"loup\", \"loup\", \"loup\", \"loup\", \"loups\", \"loups\", \"loups\", \"loyal\", \"loyal\", \"loyal\", \"loyal\", \"loyal\", \"loyal\", \"loyaute\", \"loyaute\", \"loyaute\", \"loyaute\", \"loyaute\", \"loyaute\", \"loyaute\", \"loyaute\", \"lumiere\", \"lumiere\", \"lumiere\", \"lumiere\", \"lumiere\", \"lumiere\", \"lumiere\", \"lumiere\", \"lune\", \"lune\", \"lune\", \"lune\", \"lutin\", \"lutin\", \"lutin\", \"madame\", \"madame\", \"madame\", \"madame\", \"madame\", \"madame\", \"madame\", \"madame\", \"madame\", \"magie\", \"magie\", \"magie\", \"magie\", \"magie\", \"magie\", \"main\", \"main\", \"main\", \"main\", \"main\", \"main\", \"main\", \"main\", \"main\", \"main\", \"main\", \"maison\", \"maison\", \"maison\", \"maison\", \"maison\", \"maison\", \"maison\", \"maison\", \"maison\", \"maison\", \"maison\", \"maison\", \"maisons\", \"maisons\", \"maisons\", \"maisons\", \"maisons\", \"maisons\", \"maisons\", \"maitre\", \"maitre\", \"maitre\", \"maitre\", \"maitre\", \"maitre\", \"maitre\", \"maitre\", \"maitre\", \"maitre\", \"maitre\", \"maitre\", \"maitre\", \"maitres\", \"maitres\", \"majeste\", \"majeste\", \"majeste\", \"majeste\", \"majeste\", \"majeste\", \"majeste\", \"majeste\", \"majeste\", \"majeste\", \"majeste\", \"majeste\", \"mance\", \"mange\", \"mange\", \"mange\", \"mange\", \"marcheurs\", \"marcheurs\", \"margaery\", \"margaery\", \"margaery\", \"margaery\", \"massacre\", \"massacre\", \"massacre\", \"massacre\", \"mauvais\", \"mauvais\", \"mauvais\", \"mauvais\", \"mauvais\", \"mauvais\", \"mauvais\", \"mauvais\", \"maville\", \"meereen\", \"meereen\", \"menace\", \"menace\", \"menace\", \"menace\", \"menace\", \"menard\", \"mensonge\", \"mensonge\", \"mensonge\", \"mensonge\", \"mensonge\", \"mensonge\", \"mensonge\", \"mensonge\", \"mensonge\", \"menteur\", \"menteur\", \"menteur\", \"menteur\", \"menteur\", \"merde\", \"merde\", \"merde\", \"merde\", \"merde\", \"merde\", \"merde\", \"mere\", \"mere\", \"mere\", \"mere\", \"mere\", \"mere\", \"mere\", \"mere\", \"mere\", \"mere\", \"mere\", \"mere\", \"mere\", \"merite\", \"merite\", \"merite\", \"merite\", \"merite\", \"merite\", \"merite\", \"messire\", \"messire\", \"messire\", \"messire\", \"messire\", \"messire\", \"messire\", \"messire\", \"messire\", \"messire\", \"messires\", \"messires\", \"messires\", \"messires\", \"mettre\", \"mettre\", \"mettre\", \"mettre\", \"mettre\", \"mettre\", \"mettre\", \"mettre\", \"mettre\", \"mettre\", \"meurtre\", \"meurtre\", \"meurtre\", \"meurtre\", \"meurtre\", \"meurtre\", \"meurtre\", \"meurtre\", \"mieux\", \"mieux\", \"mieux\", \"mieux\", \"mieux\", \"mieux\", \"mieux\", \"mieux\", \"mieux\", \"mieux\", \"mieux\", \"mieux\", \"monde\", \"monde\", \"monde\", \"monde\", \"monde\", \"monde\", \"monde\", \"monde\", \"monde\", \"monde\", \"monde\", \"monde\", \"monde\", \"monde\", \"monseigneur\", \"monseigneur\", \"monseigneur\", \"monseigneur\", \"monseigneur\", \"monseigneur\", \"monseigneur\", \"montagne\", \"montagne\", \"montagne\", \"montagne\", \"montagne\", \"montagne\", \"montagne\", \"montagne\", \"monter\", \"monter\", \"monter\", \"mormont\", \"mormont\", \"mormont\", \"mormont\", \"mormont\", \"mormont\", \"mormont\", \"mort\", \"mort\", \"mort\", \"mort\", \"mort\", \"mort\", \"mort\", \"mort\", \"mort\", \"mort\", \"mort\", \"mort\", \"mort\", \"morts\", \"morts\", \"morts\", \"morts\", \"morts\", \"morts\", \"morts\", \"morts\", \"morts\", \"morts\", \"mots\", \"mots\", \"mots\", \"mots\", \"mots\", \"mots\", \"mots\", \"mots\", \"mots\", \"mur\", \"mur\", \"mur\", \"mur\", \"mur\", \"mur\", \"mur\", \"mur\", \"murs\", \"murs\", \"murs\", \"murs\", \"myrcella\", \"myrcella\", \"myrcella\", \"myrcella\", \"myrcella\", \"nain\", \"nain\", \"nain\", \"nain\", \"nain\", \"nain\", \"navire\", \"navire\", \"navire\", \"navire\", \"navire\", \"navire\", \"navire\", \"navire\", \"navires\", \"navires\", \"navires\", \"navires\", \"navires\", \"navires\", \"navires\", \"navires\", \"navires\", \"navires\", \"ned\", \"ned\", \"ned\", \"ned\", \"ned\", \"ned\", \"ned\", \"ned\", \"ned\", \"neige\", \"neige\", \"neige\", \"neige\", \"nera\", \"nera\", \"nera\", \"nera\", \"nera\", \"nera\", \"nera\", \"nes\", \"nes\", \"nes\", \"nes\", \"nes\", \"nes\", \"nobles\", \"nobles\", \"nobles\", \"nobles\", \"nobles\", \"noir\", \"noir\", \"noir\", \"noir\", \"noir\", \"nom\", \"nom\", \"nom\", \"nom\", \"nom\", \"nom\", \"nom\", \"nom\", \"nom\", \"nom\", \"nom\", \"nom\", \"nom\", \"nombre\", \"nombre\", \"nombre\", \"nombre\", \"nombre\", \"nombre\", \"nomme\", \"nomme\", \"nomme\", \"nord\", \"nord\", \"nord\", \"nord\", \"nord\", \"nord\", \"nord\", \"nord\", \"nord\", \"nord\", \"nord\", \"nord\", \"nordiens\", \"nordiens\", \"nordiens\", \"nordiens\", \"nouvelles\", \"nouvelles\", \"nouvelles\", \"nouvelles\", \"nouvelles\", \"nouvelles\", \"nouvelles\", \"nuit\", \"nuit\", \"nuit\", \"nuit\", \"nuit\", \"nuit\", \"nuit\", \"nuit\", \"nuit\", \"nuit\", \"nuit\", \"nuit\", \"nuit\", \"oberyn\", \"oberyn\", \"oberyn\", \"oberyn\", \"offre\", \"offre\", \"offre\", \"offre\", \"offre\", \"offre\", \"offre\", \"offre\", \"ombre\", \"ombre\", \"ombre\", \"ombre\", \"ombre\", \"ombre\", \"ombre\", \"or\", \"or\", \"or\", \"or\", \"or\", \"or\", \"or\", \"or\", \"or\", \"or\", \"or\", \"ordonne\", \"ordonne\", \"ordonne\", \"ordonne\", \"ordonne\", \"ordonne\", \"ordonne\", \"ordonne\", \"ordonne\", \"oublier\", \"oublier\", \"oublier\", \"oublier\", \"oublier\", \"oublier\", \"oublier\", \"oui\", \"oui\", \"oui\", \"oui\", \"oui\", \"oui\", \"oui\", \"oui\", \"oui\", \"oui\", \"oui\", \"oui\", \"oui\", \"oui\", \"paie\", \"paie\", \"paie\", \"paie\", \"paie\", \"paix\", \"paix\", \"paix\", \"paix\", \"paix\", \"paix\", \"paix\", \"paix\", \"parles\", \"parles\", \"parles\", \"parlez\", \"parlez\", \"parlez\", \"parlez\", \"parlez\", \"parlez\", \"parlez\", \"parole\", \"parole\", \"parole\", \"parole\", \"parole\", \"parole\", \"parole\", \"parole\", \"parole\", \"parole\", \"parole\", \"paroles\", \"paroles\", \"paroles\", \"paroles\", \"paroles\", \"paroles\", \"partez\", \"partez\", \"partez\", \"partez\", \"partez\", \"partez\", \"partez\", \"partez\", \"partie\", \"partie\", \"partie\", \"partie\", \"partie\", \"partie\", \"partout\", \"partout\", \"partout\", \"partout\", \"partout\", \"partout\", \"partout\", \"partout\", \"passe\", \"passe\", \"passe\", \"passe\", \"passe\", \"passe\", \"passe\", \"passe\", \"passe\", \"passer\", \"passer\", \"passer\", \"passer\", \"passer\", \"passer\", \"passer\", \"passer\", \"passer\", \"payer\", \"payer\", \"payer\", \"payer\", \"payer\", \"payer\", \"payer\", \"payer\", \"payer\", \"pays\", \"pays\", \"pays\", \"pays\", \"pays\", \"pays\", \"peine\", \"peine\", \"peine\", \"peine\", \"peine\", \"peine\", \"peine\", \"peine\", \"peine\", \"penser\", \"penser\", \"penser\", \"penser\", \"penser\", \"penser\", \"penses\", \"penses\", \"penses\", \"penses\", \"penses\", \"pensez\", \"pensez\", \"pensez\", \"pensez\", \"pensez\", \"pensez\", \"perdre\", \"perdre\", \"perdre\", \"perdre\", \"perdre\", \"perdre\", \"perdre\", \"perdre\", \"pere\", \"pere\", \"pere\", \"pere\", \"pere\", \"pere\", \"pere\", \"pere\", \"pere\", \"pere\", \"pere\", \"pere\", \"pere\", \"pere\", \"petit\", \"petit\", \"petit\", \"petit\", \"petit\", \"petit\", \"petit\", \"petit\", \"petit\", \"petit\", \"petit\", \"petit\", \"petit\", \"petite\", \"petite\", \"petite\", \"petite\", \"petite\", \"petite\", \"petite\", \"petite\", \"petite\", \"petite\", \"petite\", \"petite\", \"peuple\", \"peuple\", \"peuple\", \"peuple\", \"peuple\", \"peuple\", \"peuple\", \"peur\", \"peur\", \"peur\", \"peur\", \"peur\", \"peur\", \"peur\", \"peur\", \"peur\", \"peur\", \"peur\", \"pied\", \"pied\", \"pied\", \"pied\", \"pied\", \"pierre\", \"pierre\", \"pierre\", \"pierre\", \"pierre\", \"pitie\", \"pitie\", \"pitie\", \"pitie\", \"pitie\", \"pitie\", \"plaisir\", \"plaisir\", \"plaisir\", \"plaisir\", \"plaisir\", \"plaisir\", \"plaisir\", \"plait\", \"plait\", \"plait\", \"plait\", \"plait\", \"plait\", \"plait\", \"plait\", \"plait\", \"plait\", \"plait\", \"pleine\", \"pleine\", \"pleine\", \"pleine\", \"pleine\", \"pleine\", \"pleine\", \"pleine\", \"plupart\", \"plupart\", \"plupart\", \"plupart\", \"plupart\", \"plupart\", \"plupart\", \"plutot\", \"plutot\", \"plutot\", \"plutot\", \"plutot\", \"plutot\", \"plutot\", \"plutot\", \"plutot\", \"plutot\", \"port\", \"port\", \"port\", \"port\", \"port\", \"port\", \"port\", \"port\", \"port\", \"port\", \"port\", \"port\", \"port\", \"porte\", \"porte\", \"porte\", \"porte\", \"porte\", \"porte\", \"porte\", \"porte\", \"porte\", \"porte\", \"portes\", \"portes\", \"portes\", \"portes\", \"portes\", \"portes\", \"portes\", \"portes\", \"pose\", \"pose\", \"pose\", \"pose\", \"position\", \"position\", \"position\", \"position\", \"position\", \"position\", \"pouvais\", \"pouvais\", \"pouvais\", \"pouvais\", \"pouvais\", \"pouvais\", \"pouvais\", \"pouvons\", \"pouvons\", \"pouvons\", \"pouvons\", \"pouvons\", \"pouvons\", \"pouvons\", \"prendre\", \"prendre\", \"prendre\", \"prendre\", \"prendre\", \"prendre\", \"prendre\", \"prendre\", \"prendre\", \"prendre\", \"prendre\", \"prendre\", \"prendre\", \"prends\", \"prends\", \"prends\", \"prends\", \"prends\", \"prends\", \"prends\", \"prends\", \"prince\", \"prince\", \"prince\", \"prince\", \"prince\", \"prince\", \"prince\", \"prince\", \"princesse\", \"princesse\", \"princesse\", \"princesse\", \"princesse\", \"princesse\", \"princesse\", \"prix\", \"prix\", \"prix\", \"prix\", \"prix\", \"prix\", \"prix\", \"proces\", \"proces\", \"proces\", \"promis\", \"promis\", \"promis\", \"promis\", \"promis\", \"promis\", \"promis\", \"promis\", \"promis\", \"promis\", \"protecteur\", \"protecteur\", \"protecteur\", \"protecteur\", \"protege\", \"protege\", \"protege\", \"protege\", \"protege\", \"protege\", \"protege\", \"protege\", \"putain\", \"putain\", \"putain\", \"putain\", \"putain\", \"putain\", \"putain\", \"putain\", \"putain\", \"qu\", \"qu\", \"qu\", \"qu\", \"qu\", \"qu\", \"qu\", \"qu\", \"qu\", \"qu\", \"qu\", \"qu\", \"qu\", \"qu\", \"qu\", \"quelqu\", \"quelqu\", \"quelqu\", \"quelqu\", \"quelqu\", \"quelqu\", \"quelqu\", \"quelqu\", \"quelqu\", \"quitter\", \"quitter\", \"quitter\", \"quitter\", \"quitter\", \"quitter\", \"raison\", \"raison\", \"raison\", \"raison\", \"raison\", \"raison\", \"raison\", \"raison\", \"raison\", \"raison\", \"raison\", \"raison\", \"raison\", \"raison\", \"ramene\", \"ramene\", \"ramene\", \"ramene\", \"ramene\", \"ramener\", \"ramener\", \"ramener\", \"ramener\", \"ramener\", \"ramener\", \"ramener\", \"ramener\", \"ramsay\", \"ramsay\", \"ramsay\", \"ramsay\", \"ramsay\", \"ramsay\", \"rappelez\", \"rappelez\", \"rappelez\", \"rappelez\", \"real\", \"real\", \"real\", \"real\", \"real\", \"real\", \"real\", \"real\", \"real\", \"real\", \"real\", \"real\", \"real\", \"rebellion\", \"rebellion\", \"rebellion\", \"rebellion\", \"recompense\", \"recompense\", \"recompense\", \"recompense\", \"recompense\", \"recompense\", \"refuse\", \"refuse\", \"refuse\", \"refuse\", \"refuse\", \"refuse\", \"refuse\", \"refuse\", \"refuse\", \"refuse\", \"regarder\", \"regarder\", \"regarder\", \"regarder\", \"regicide\", \"regicide\", \"regicide\", \"regicide\", \"regicide\", \"regicide\", \"regicide\", \"regicide\", \"regner\", \"regner\", \"regner\", \"regner\", \"reine\", \"reine\", \"reine\", \"reine\", \"reine\", \"reine\", \"reine\", \"reine\", \"reine\", \"reine\", \"reine\", \"rejoindre\", \"rejoindre\", \"rejoindre\", \"rejoindre\", \"rejoindre\", \"rejoindre\", \"rejoindre\", \"renly\", \"renly\", \"renly\", \"renly\", \"renly\", \"renly\", \"renly\", \"reprendre\", \"reprendre\", \"reprendre\", \"reprendre\", \"reprendre\", \"restez\", \"restez\", \"restez\", \"restez\", \"restez\", \"restez\", \"restez\", \"retrouver\", \"retrouver\", \"retrouver\", \"retrouver\", \"retrouver\", \"retrouver\", \"retrouver\", \"reve\", \"reve\", \"reve\", \"reve\", \"reve\", \"reve\", \"reve\", \"revenir\", \"revenir\", \"revenir\", \"revenir\", \"revenir\", \"revenir\", \"revenir\", \"revenu\", \"revenu\", \"revenu\", \"revenu\", \"revenu\", \"revenu\", \"revient\", \"revient\", \"revient\", \"revient\", \"revient\", \"revient\", \"revient\", \"revient\", \"riche\", \"riche\", \"riche\", \"riche\", \"riche\", \"riche\", \"riche\", \"rickon\", \"rickon\", \"rickon\", \"risque\", \"risque\", \"risque\", \"risque\", \"risque\", \"risque\", \"risque\", \"risque\", \"robb\", \"robb\", \"robb\", \"robb\", \"robb\", \"robb\", \"robb\", \"robb\", \"robe\", \"robe\", \"robe\", \"robe\", \"robe\", \"robe\", \"robert\", \"robert\", \"robert\", \"robert\", \"robert\", \"robert\", \"robert\", \"robert\", \"robert\", \"robert\", \"robert\", \"roc\", \"roc\", \"roc\", \"roc\", \"roc\", \"roc\", \"roc\", \"roc\", \"roi\", \"roi\", \"roi\", \"roi\", \"roi\", \"roi\", \"roi\", \"roi\", \"roi\", \"roi\", \"roi\", \"roi\", \"roi\", \"roi\", \"rouge\", \"rouge\", \"rouge\", \"rouge\", \"rouge\", \"rouge\", \"rouge\", \"rouge\", \"rouge\", \"rouge\", \"rouge\", \"rouge\", \"royaume\", \"royaume\", \"royaume\", \"royaume\", \"royaume\", \"royaume\", \"royaume\", \"royaume\", \"royaume\", \"sais\", \"sais\", \"sais\", \"sais\", \"sais\", \"sais\", \"sais\", \"sais\", \"sais\", \"sais\", \"sais\", \"sais\", \"salle\", \"salle\", \"salle\", \"salle\", \"salle\", \"salle\", \"salle\", \"salle\", \"salle\", \"sam\", \"sam\", \"sam\", \"sang\", \"sang\", \"sang\", \"sang\", \"sang\", \"sang\", \"sang\", \"sang\", \"sang\", \"sang\", \"sang\", \"sang\", \"sang\", \"sansa\", \"sansa\", \"sansa\", \"sansa\", \"sansa\", \"sansa\", \"sansa\", \"sansa\", \"sauvageons\", \"sauvageons\", \"sauvageons\", \"sauvages\", \"sauvages\", \"sauvages\", \"sauvages\", \"sauvages\", \"savoir\", \"savoir\", \"savoir\", \"savoir\", \"savoir\", \"savoir\", \"savoir\", \"savoir\", \"savoir\", \"savoir\", \"secret\", \"secret\", \"secret\", \"secret\", \"seigneur\", \"seigneur\", \"seigneur\", \"seigneur\", \"seigneur\", \"seigneur\", \"seigneur\", \"seigneur\", \"seigneur\", \"seigneur\", \"seigneur\", \"seigneur\", \"septon\", \"septon\", \"septon\", \"septon\", \"septuaire\", \"septuaire\", \"septuaire\", \"septuaire\", \"ser\", \"ser\", \"ser\", \"ser\", \"ser\", \"ser\", \"ser\", \"ser\", \"ser\", \"ser\", \"ser\", \"ser\", \"ser\", \"ser\", \"serai\", \"serai\", \"serai\", \"serai\", \"serai\", \"serai\", \"serai\", \"sers\", \"sers\", \"sers\", \"sers\", \"sers\", \"sers\", \"sers\", \"sers\", \"service\", \"service\", \"service\", \"service\", \"service\", \"service\", \"service\", \"service\", \"service\", \"service\", \"service\", \"siecles\", \"siecles\", \"siecles\", \"siecles\", \"siecles\", \"siecles\", \"siecles\", \"sire\", \"sire\", \"sire\", \"sire\", \"sire\", \"sire\", \"sire\", \"sire\", \"sire\", \"snow\", \"snow\", \"snow\", \"snow\", \"snow\", \"soldats\", \"soldats\", \"soldats\", \"soldats\", \"soldats\", \"soldats\", \"soldats\", \"soldats\", \"soleil\", \"soleil\", \"soleil\", \"soleil\", \"soleil\", \"soleil\", \"sommes\", \"sommes\", \"sommes\", \"sommes\", \"sommes\", \"sommes\", \"sommes\", \"sommes\", \"sommes\", \"sommes\", \"sommes\", \"sommes\", \"souviens\", \"souviens\", \"souviens\", \"souviens\", \"souviens\", \"souviens\", \"souviens\", \"stannis\", \"stannis\", \"stannis\", \"stannis\", \"stannis\", \"stannis\", \"stannis\", \"stannis\", \"stannis\", \"stark\", \"stark\", \"stark\", \"stark\", \"stark\", \"stark\", \"stark\", \"stark\", \"stark\", \"stark\", \"stark\", \"stark\", \"stark\", \"suite\", \"suite\", \"suite\", \"suite\", \"suite\", \"suite\", \"suite\", \"suivez\", \"suivez\", \"suivez\", \"suivez\", \"suivez\", \"surs\", \"surs\", \"surs\", \"surs\", \"surs\", \"surs\", \"survecu\", \"survecu\", \"survecu\", \"survecu\", \"survecu\", \"tante\", \"tante\", \"tante\", \"tante\", \"targaryen\", \"targaryen\", \"targaryen\", \"targaryen\", \"targaryen\", \"targaryen\", \"targaryen\", \"targaryen\", \"targaryen\", \"temps\", \"temps\", \"temps\", \"temps\", \"temps\", \"temps\", \"temps\", \"temps\", \"temps\", \"temps\", \"temps\", \"temps\", \"temps\", \"temps\", \"tenebres\", \"tenebres\", \"tenebres\", \"tenebres\", \"tenebres\", \"tenebres\", \"tenebres\", \"theon\", \"theon\", \"theon\", \"theon\", \"theon\", \"theon\", \"tient\", \"tient\", \"tient\", \"tient\", \"tient\", \"titrage\", \"tot\", \"tot\", \"tot\", \"tot\", \"tot\", \"tot\", \"touche\", \"touche\", \"touche\", \"touche\", \"touche\", \"touche\", \"touche\", \"tour\", \"tour\", \"tour\", \"tour\", \"tour\", \"tour\", \"tour\", \"trahi\", \"trahi\", \"trahi\", \"trahi\", \"trahi\", \"trahi\", \"trahi\", \"trahi\", \"traitre\", \"traitre\", \"traitre\", \"traitre\", \"travail\", \"travail\", \"travail\", \"travail\", \"travail\", \"travail\", \"travail\", \"travail\", \"travail\", \"triste\", \"triste\", \"triste\", \"triste\", \"triste\", \"triste\", \"triste\", \"trone\", \"trone\", \"trone\", \"trone\", \"trone\", \"trone\", \"trone\", \"trone\", \"trone\", \"trone\", \"trone\", \"trouve\", \"trouve\", \"trouve\", \"trouve\", \"trouve\", \"trouve\", \"trouve\", \"trouve\", \"trouve\", \"trouve\", \"trouve\", \"trouve\", \"trouver\", \"trouver\", \"trouver\", \"trouver\", \"trouver\", \"trouver\", \"trouver\", \"trouver\", \"trouver\", \"trouver\", \"trouver\", \"trouver\", \"trouves\", \"trouves\", \"trouves\", \"trouves\", \"trouvez\", \"trouvez\", \"trouvez\", \"trouvez\", \"tue\", \"tue\", \"tue\", \"tue\", \"tue\", \"tue\", \"tue\", \"tue\", \"tue\", \"tue\", \"tue\", \"tue\", \"tue\", \"tuer\", \"tuer\", \"tuer\", \"tuer\", \"tuer\", \"tuer\", \"tuer\", \"tuer\", \"tuer\", \"tuer\", \"tuer\", \"tuer\", \"tuez\", \"tuez\", \"tuez\", \"tuez\", \"tuez\", \"tuez\", \"tully\", \"tully\", \"typhon\", \"typhon\", \"typhon\", \"tyrell\", \"tyrell\", \"tyrell\", \"tyrell\", \"tyrell\", \"tyrell\", \"tyrell\", \"tyrion\", \"tyrion\", \"tyrion\", \"tyrion\", \"tyrion\", \"tyrion\", \"tyrion\", \"tyrion\", \"tyrion\", \"tyrion\", \"tywin\", \"tywin\", \"tywin\", \"tywin\", \"tywin\", \"tywin\", \"utile\", \"utile\", \"utile\", \"utile\", \"utile\", \"utile\", \"vaincre\", \"vaincre\", \"vaincre\", \"val\", \"val\", \"val\", \"val\", \"varys\", \"varys\", \"varys\", \"varys\", \"varys\", \"varys\", \"varys\", \"vaut\", \"vaut\", \"vaut\", \"vaut\", \"vaut\", \"vaut\", \"vaut\", \"vaut\", \"vaut\", \"venez\", \"venez\", \"venez\", \"venez\", \"venez\", \"venez\", \"venez\", \"venez\", \"venez\", \"venez\", \"vere\", \"vere\", \"veritable\", \"veritable\", \"veritable\", \"veritable\", \"veritable\", \"veritable\", \"verite\", \"verite\", \"verite\", \"verite\", \"verite\", \"verite\", \"verite\", \"verite\", \"verite\", \"verite\", \"verite\", \"verite\", \"verite\", \"veut\", \"veut\", \"veut\", \"veut\", \"veut\", \"veut\", \"veut\", \"veut\", \"veut\", \"veut\", \"veut\", \"veux\", \"veux\", \"veux\", \"veux\", \"veux\", \"veux\", \"veux\", \"veux\", \"veux\", \"veux\", \"veux\", \"veux\", \"veux\", \"veux\", \"victoire\", \"victoire\", \"victoire\", \"victoire\", \"victoire\", \"vie\", \"vie\", \"vie\", \"vie\", \"vie\", \"vie\", \"vie\", \"vie\", \"vie\", \"vie\", \"vie\", \"vie\", \"vie\", \"vie\", \"viens\", \"viens\", \"viens\", \"viens\", \"viens\", \"viens\", \"viens\", \"viens\", \"viens\", \"viens\", \"viens\", \"viens\", \"viens\", \"ville\", \"ville\", \"ville\", \"ville\", \"ville\", \"ville\", \"ville\", \"ville\", \"ville\", \"ville\", \"visage\", \"visage\", \"visage\", \"visage\", \"visage\", \"visage\", \"vit\", \"vit\", \"vit\", \"vit\", \"vit\", \"vivant\", \"vivant\", \"vivant\", \"vivant\", \"vivant\", \"vivant\", \"vivesaigues\", \"vivesaigues\", \"vivesaigues\", \"vivesaigues\", \"voie\", \"voie\", \"voie\", \"voie\", \"voir\", \"voir\", \"voir\", \"voir\", \"voir\", \"voir\", \"voir\", \"voir\", \"voir\", \"voir\", \"voir\", \"voir\", \"voir\", \"voir\", \"voir\", \"voyage\", \"voyage\", \"voyage\", \"voyage\", \"voyage\", \"voyage\", \"voyage\", \"voyage\", \"voyage\", \"voyage\", \"voyez\", \"voyez\", \"voyez\", \"voyez\", \"voyez\", \"vue\", \"vue\", \"vue\", \"vue\", \"vue\", \"vue\", \"vue\", \"vue\", \"vue\", \"vus\", \"vus\", \"vus\", \"vus\", \"vus\", \"vus\", \"vus\", \"vux\", \"vux\", \"vux\", \"vux\", \"vux\", \"vux\", \"walder\", \"walder\", \"walder\", \"westeros\", \"westeros\", \"westeros\", \"westeros\", \"westeros\", \"westeros\", \"westeros\", \"westeros\", \"westeros\", \"winterfell\", \"winterfell\", \"winterfell\", \"winterfell\", \"winterfell\", \"winterfell\", \"winterfell\", \"winterfell\", \"winterfell\", \"yeux\", \"yeux\", \"yeux\", \"yeux\", \"yeux\", \"yeux\", \"yeux\", \"yeux\"]}, \"R\": 30, \"lambda.step\": 0.01, \"plot.opts\": {\"xlab\": \"PC1\", \"ylab\": \"PC2\"}, \"topic.order\": [6, 15, 10, 8, 3, 4, 2, 11, 14, 1, 5, 7, 9, 12, 13]};\n",
       "\n",
       "function LDAvis_load_lib(url, callback){\n",
       "  var s = document.createElement('script');\n",
       "  s.src = url;\n",
       "  s.async = true;\n",
       "  s.onreadystatechange = s.onload = callback;\n",
       "  s.onerror = function(){console.warn(\"failed to load library \" + url);};\n",
       "  document.getElementsByTagName(\"head\")[0].appendChild(s);\n",
       "}\n",
       "\n",
       "if(typeof(LDAvis) !== \"undefined\"){\n",
       "   // already loaded: just create the visualization\n",
       "   !function(LDAvis){\n",
       "       new LDAvis(\"#\" + \"ldavis_el691361401853118202007425389734\", ldavis_el691361401853118202007425389734_data);\n",
       "   }(LDAvis);\n",
       "}else if(typeof define === \"function\" && define.amd){\n",
       "   // require.js is available: use it to load d3/LDAvis\n",
       "   require.config({paths: {d3: \"https://cdnjs.cloudflare.com/ajax/libs/d3/3.5.5/d3.min\"}});\n",
       "   require([\"d3\"], function(d3){\n",
       "      window.d3 = d3;\n",
       "      LDAvis_load_lib(\"https://cdn.rawgit.com/bmabey/pyLDAvis/files/ldavis.v1.0.0.js\", function(){\n",
       "        new LDAvis(\"#\" + \"ldavis_el691361401853118202007425389734\", ldavis_el691361401853118202007425389734_data);\n",
       "      });\n",
       "    });\n",
       "}else{\n",
       "    // require.js not available: dynamically load d3 & LDAvis\n",
       "    LDAvis_load_lib(\"https://cdnjs.cloudflare.com/ajax/libs/d3/3.5.5/d3.min.js\", function(){\n",
       "         LDAvis_load_lib(\"https://cdn.rawgit.com/bmabey/pyLDAvis/files/ldavis.v1.0.0.js\", function(){\n",
       "                 new LDAvis(\"#\" + \"ldavis_el691361401853118202007425389734\", ldavis_el691361401853118202007425389734_data);\n",
       "            })\n",
       "         });\n",
       "}\n",
       "</script>"
      ],
      "text/plain": [
       "<IPython.core.display.HTML object>"
      ]
     },
     "execution_count": 45,
     "metadata": {},
     "output_type": "execute_result"
    }
   ],
   "source": [
    "pyLDAvis.display(LDAvis_prepared)"
   ]
  },
  {
   "cell_type": "markdown",
   "metadata": {},
   "source": [
    "<span class=\"badge badge-secondary\">(Sievert et al., 2014)</span> Sievert, Carson, and Kenneth Shirley. \"LDAvis: A method for visualizing and interpreting topics.\" Proceedings of the workshop on interactive language learning, visualization, and interfaces. 2014.\n",
    "\n",
    "<span class=\"badge badge-secondary\">(Chuang et al., 2012)</span> Chuang, Jason, Christopher D. Manning, and Jeffrey Heer. \"Termite: Visualization techniques for assessing textual topic models.\" Proceedings of the international working conference on advanced visual interfaces. 2012."
   ]
  },
  {
   "cell_type": "markdown",
   "metadata": {},
   "source": [
    "<hr>\n",
    "<div class=\"alert alert-info\" role=\"alert\">\n",
    "    <p><b>📝 Exercice :</b> Faire varier le paramètre Lambda et justifier de son impact.</p>\n",
    "</div>\n",
    "<hr>"
   ]
  },
  {
   "cell_type": "code",
   "execution_count": null,
   "metadata": {},
   "outputs": [],
   "source": []
  },
  {
   "cell_type": "markdown",
   "metadata": {},
   "source": [
    "<hr>\n",
    "<div class=\"alert alert-info\" role=\"alert\">\n",
    "    <p><b>📝 Exercice :</b> Faire varier le préprocessing,en particulier la stemmatization. Analyser l'impact sur l'analyse des clusters.</p>\n",
    "</div>\n",
    "<hr>"
   ]
  },
  {
   "cell_type": "code",
   "execution_count": null,
   "metadata": {},
   "outputs": [],
   "source": []
  },
  {
   "cell_type": "markdown",
   "metadata": {},
   "source": [
    "<hr>\n",
    "<div class=\"alert alert-info\" role=\"alert\">\n",
    "    <p><b>📝 Exercice :</b> Etudier l'impact des Stop Words sur les topics.</p>\n",
    "</div>\n",
    "<hr>"
   ]
  },
  {
   "cell_type": "code",
   "execution_count": null,
   "metadata": {},
   "outputs": [],
   "source": []
  },
  {
   "cell_type": "markdown",
   "metadata": {},
   "source": [
    "## References\n",
    "\n",
    "> <div id=\"landauer-dumais-1997\">Landauer, Thomas K. et al. “<a href=http://lsa.colorado.edu/papers/dp1.LSAintro.pdf>An introduction to latent semantic analysis.</a>” Discourse Processes 25 (1998): 259-284.</div>"
   ]
  },
  {
   "cell_type": "markdown",
   "metadata": {},
   "source": [
    "Sources :\n",
    "* https://medium.com/analytics-vidhya/topic-modeling-using-lda-and-gibbs-sampling-explained-49d49b3d1045\n",
    "* https://towardsdatascience.com/light-on-math-machine-learning-intuitive-guide-to-latent-dirichlet-allocation-437c81220158\n",
    "* https://wiki.ubc.ca/Course:CPSC522/Latent_Dirichlet_Allocation\n",
    "* http://www.arbylon.net/publications/text-est2.pdf\n",
    "\n"
   ]
  }
 ],
 "metadata": {
  "kernelspec": {
   "display_name": "Python 3",
   "language": "python",
   "name": "python3"
  },
  "language_info": {
   "codemirror_mode": {
    "name": "ipython",
    "version": 3
   },
   "file_extension": ".py",
   "mimetype": "text/x-python",
   "name": "python",
   "nbconvert_exporter": "python",
   "pygments_lexer": "ipython3",
   "version": "3.6.12"
  }
 },
 "nbformat": 4,
 "nbformat_minor": 4
}
